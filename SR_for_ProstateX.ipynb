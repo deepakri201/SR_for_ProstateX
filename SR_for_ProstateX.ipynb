{
  "nbformat": 4,
  "nbformat_minor": 0,
  "metadata": {
    "colab": {
      "provenance": [],
      "collapsed_sections": [
        "_9kwcxEhbF46",
        "gBtjWZXgbESM"
      ],
      "toc_visible": true,
      "authorship_tag": "ABX9TyPUFph22uucG8QSH92Mx38X",
      "include_colab_link": true
    },
    "kernelspec": {
      "name": "python3",
      "display_name": "Python 3"
    },
    "language_info": {
      "name": "python"
    }
  },
  "cells": [
    {
      "cell_type": "markdown",
      "metadata": {
        "id": "view-in-github",
        "colab_type": "text"
      },
      "source": [
        "<a href=\"https://colab.research.google.com/github/deepakri201/SR_for_ProstateX/blob/main/SR_for_ProstateX.ipynb\" target=\"_parent\"><img src=\"https://colab.research.google.com/assets/colab-badge.svg\" alt=\"Open In Colab\"/></a>"
      ]
    },
    {
      "cell_type": "markdown",
      "source": [
        "# Creation of DICOM for ProstateX\n",
        "\n",
        "In this notebook, we create all of the DICOM SRs for ProstateX. The csvs used for the annotations are obtained from TCIA: https://www.cancerimagingarchive.net/collection/prostatex/\n",
        "\n",
        "The data from the 1st challenge do not include the Gleason Grade Group and only include if each lesion is clinically significant or not: located in google drive for now, later upload as github attachment to download quickly.\n",
        "\n",
        "The data from the 2nd challenge include the Gleason Grade Group: the csvs for the training lesion info are [here](https://www.cancerimagingarchive.net/wp-content/uploads/ProstateX2-DataInfo-Train.zip), and the testing lesion info is [here](https://www.cancerimagingarchive.net/wp-content/uploads/ProstateX2-DataInfo-Test.zip)\n",
        "\n",
        "However, the other prostate information remains the same.\n",
        "\n",
        "\n",
        "Deepa Krishnaswamy\n",
        "\n",
        "Brigham and Women's Hospital\n",
        "\n",
        "May 2025"
      ],
      "metadata": {
        "id": "xAbOUGDSzovH"
      }
    },
    {
      "cell_type": "markdown",
      "metadata": {
        "id": "_9kwcxEhbF46"
      },
      "source": [
        "# Parameterization"
      ]
    },
    {
      "cell_type": "code",
      "execution_count": 1,
      "metadata": {
        "colab": {
          "base_uri": "https://localhost:8080/"
        },
        "id": "PlykERX38ZjP",
        "outputId": "7094aaff-afb7-4849-fd7a-ee303355723a",
        "cellView": "form"
      },
      "outputs": [
        {
          "output_type": "stream",
          "name": "stdout",
          "text": [
            "Updated property [core/project].\n"
          ]
        }
      ],
      "source": [
        "#@title Enter your Project ID here\n",
        "# initialize this variable with your Google Cloud Project ID!\n",
        "project_name = \"idc-external-018\" #@param {type:\"string\"}\n",
        "\n",
        "import os\n",
        "os.environ[\"GCP_PROJECT_ID\"] = project_name\n",
        "\n",
        "!gcloud config set project $project_name\n",
        "\n",
        "from google.colab import auth\n",
        "auth.authenticate_user()"
      ]
    },
    {
      "cell_type": "markdown",
      "metadata": {
        "id": "gBtjWZXgbESM"
      },
      "source": [
        "# Environment setup"
      ]
    },
    {
      "cell_type": "code",
      "execution_count": 2,
      "metadata": {
        "id": "jq44n6UxbHJc"
      },
      "outputs": [],
      "source": [
        "# Authorize\n",
        "from google.colab import auth\n",
        "auth.authenticate_user()"
      ]
    },
    {
      "cell_type": "code",
      "source": [
        "from google.colab import drive\n",
        "drive.mount('/content/gdrive')"
      ],
      "metadata": {
        "colab": {
          "base_uri": "https://localhost:8080/"
        },
        "id": "dzHo8zElfG13",
        "outputId": "0615648b-4cfa-4a4f-e7bf-0c9a49136e60"
      },
      "execution_count": 3,
      "outputs": [
        {
          "output_type": "stream",
          "name": "stdout",
          "text": [
            "Mounted at /content/gdrive\n"
          ]
        }
      ]
    },
    {
      "cell_type": "code",
      "execution_count": 4,
      "metadata": {
        "colab": {
          "base_uri": "https://localhost:8080/"
        },
        "id": "fiGlclKQsKqX",
        "outputId": "4156eddd-0053-4b85-88f2-1d4e3f328381"
      },
      "outputs": [
        {
          "output_type": "stream",
          "name": "stdout",
          "text": [
            "Collecting SimpleITK\n",
            "  Downloading simpleitk-2.5.0-cp311-abi3-manylinux_2_17_x86_64.manylinux2014_x86_64.whl.metadata (7.2 kB)\n",
            "Downloading simpleitk-2.5.0-cp311-abi3-manylinux_2_17_x86_64.manylinux2014_x86_64.whl (52.6 MB)\n",
            "\u001b[2K   \u001b[90m━━━━━━━━━━━━━━━━━━━━━━━━━━━━━━━━━━━━━━━━\u001b[0m \u001b[32m52.6/52.6 MB\u001b[0m \u001b[31m19.1 MB/s\u001b[0m eta \u001b[36m0:00:00\u001b[0m\n",
            "\u001b[?25hInstalling collected packages: SimpleITK\n",
            "Successfully installed SimpleITK-2.5.0\n"
          ]
        }
      ],
      "source": [
        "!pip install SimpleITK"
      ]
    },
    {
      "cell_type": "code",
      "source": [
        "!pip install pydicom"
      ],
      "metadata": {
        "colab": {
          "base_uri": "https://localhost:8080/"
        },
        "id": "rA7fmPJ0eamw",
        "outputId": "2a6b044c-3627-449e-ce13-575d53f2d46b"
      },
      "execution_count": 5,
      "outputs": [
        {
          "output_type": "stream",
          "name": "stdout",
          "text": [
            "Collecting pydicom\n",
            "  Downloading pydicom-3.0.1-py3-none-any.whl.metadata (9.4 kB)\n",
            "Downloading pydicom-3.0.1-py3-none-any.whl (2.4 MB)\n",
            "\u001b[2K   \u001b[90m━━━━━━━━━━━━━━━━━━━━━━━━━━━━━━━━━━━━━━━━\u001b[0m \u001b[32m2.4/2.4 MB\u001b[0m \u001b[31m18.1 MB/s\u001b[0m eta \u001b[36m0:00:00\u001b[0m\n",
            "\u001b[?25hInstalling collected packages: pydicom\n",
            "Successfully installed pydicom-3.0.1\n"
          ]
        }
      ]
    },
    {
      "cell_type": "code",
      "source": [
        "!pip install highdicom"
      ],
      "metadata": {
        "colab": {
          "base_uri": "https://localhost:8080/"
        },
        "id": "O5aQ0HDUedvl",
        "outputId": "73122c37-9e0f-4d15-89e5-ce5224bd8fc7"
      },
      "execution_count": 6,
      "outputs": [
        {
          "output_type": "stream",
          "name": "stdout",
          "text": [
            "Collecting highdicom\n",
            "  Downloading highdicom-0.25.1-py3-none-any.whl.metadata (5.0 kB)\n",
            "Requirement already satisfied: numpy>=1.19 in /usr/local/lib/python3.11/dist-packages (from highdicom) (2.0.2)\n",
            "Requirement already satisfied: pillow>=8.3 in /usr/local/lib/python3.11/dist-packages (from highdicom) (11.2.1)\n",
            "Requirement already satisfied: pydicom>=3.0.1 in /usr/local/lib/python3.11/dist-packages (from highdicom) (3.0.1)\n",
            "Collecting pyjpegls>=1.0.0 (from highdicom)\n",
            "  Downloading pyjpegls-1.5.1-cp311-cp311-manylinux_2_17_x86_64.manylinux2014_x86_64.whl.metadata (4.5 kB)\n",
            "Requirement already satisfied: typing-extensions>=4.0.0 in /usr/local/lib/python3.11/dist-packages (from highdicom) (4.13.2)\n",
            "Downloading highdicom-0.25.1-py3-none-any.whl (1.1 MB)\n",
            "\u001b[2K   \u001b[90m━━━━━━━━━━━━━━━━━━━━━━━━━━━━━━━━━━━━━━━━\u001b[0m \u001b[32m1.1/1.1 MB\u001b[0m \u001b[31m8.9 MB/s\u001b[0m eta \u001b[36m0:00:00\u001b[0m\n",
            "\u001b[?25hDownloading pyjpegls-1.5.1-cp311-cp311-manylinux_2_17_x86_64.manylinux2014_x86_64.whl (2.7 MB)\n",
            "\u001b[2K   \u001b[90m━━━━━━━━━━━━━━━━━━━━━━━━━━━━━━━━━━━━━━━━\u001b[0m \u001b[32m2.7/2.7 MB\u001b[0m \u001b[31m37.2 MB/s\u001b[0m eta \u001b[36m0:00:00\u001b[0m\n",
            "\u001b[?25hInstalling collected packages: pyjpegls, highdicom\n",
            "Successfully installed highdicom-0.25.1 pyjpegls-1.5.1\n"
          ]
        }
      ]
    },
    {
      "cell_type": "code",
      "source": [
        "!pip install idc-index"
      ],
      "metadata": {
        "colab": {
          "base_uri": "https://localhost:8080/"
        },
        "id": "uLSiTKcyehp3",
        "outputId": "de6b56cd-d997-4184-8903-be4f56ed9c86"
      },
      "execution_count": 7,
      "outputs": [
        {
          "output_type": "stream",
          "name": "stdout",
          "text": [
            "Collecting idc-index\n",
            "  Downloading idc_index-0.8.6-py3-none-any.whl.metadata (7.9 kB)\n",
            "Requirement already satisfied: click in /usr/local/lib/python3.11/dist-packages (from idc-index) (8.1.8)\n",
            "Collecting duckdb<=1.2.1,>=0.10.0 (from idc-index)\n",
            "  Downloading duckdb-1.2.1-cp311-cp311-manylinux_2_17_x86_64.manylinux2014_x86_64.whl.metadata (966 bytes)\n",
            "Collecting idc-index-data==20.0.3 (from idc-index)\n",
            "  Downloading idc_index_data-20.0.3-py3-none-any.whl.metadata (5.5 kB)\n",
            "Requirement already satisfied: packaging in /usr/local/lib/python3.11/dist-packages (from idc-index) (24.2)\n",
            "Requirement already satisfied: pandas<=2.2.4 in /usr/local/lib/python3.11/dist-packages (from idc-index) (2.2.2)\n",
            "Requirement already satisfied: platformdirs in /usr/local/lib/python3.11/dist-packages (from idc-index) (4.3.8)\n",
            "Requirement already satisfied: psutil in /usr/local/lib/python3.11/dist-packages (from idc-index) (5.9.5)\n",
            "Requirement already satisfied: pyarrow in /usr/local/lib/python3.11/dist-packages (from idc-index) (18.1.0)\n",
            "Requirement already satisfied: requests in /usr/local/lib/python3.11/dist-packages (from idc-index) (2.32.3)\n",
            "Collecting s5cmd (from idc-index)\n",
            "  Downloading s5cmd-0.2.0-py3-none-manylinux_2_5_x86_64.manylinux1_x86_64.manylinux_2_17_x86_64.manylinux2014_x86_64.whl.metadata (5.7 kB)\n",
            "Collecting sphinx-click (from idc-index)\n",
            "  Downloading sphinx_click-6.0.0-py3-none-any.whl.metadata (3.4 kB)\n",
            "Requirement already satisfied: tqdm in /usr/local/lib/python3.11/dist-packages (from idc-index) (4.67.1)\n",
            "Requirement already satisfied: numpy>=1.23.2 in /usr/local/lib/python3.11/dist-packages (from pandas<=2.2.4->idc-index) (2.0.2)\n",
            "Requirement already satisfied: python-dateutil>=2.8.2 in /usr/local/lib/python3.11/dist-packages (from pandas<=2.2.4->idc-index) (2.9.0.post0)\n",
            "Requirement already satisfied: pytz>=2020.1 in /usr/local/lib/python3.11/dist-packages (from pandas<=2.2.4->idc-index) (2025.2)\n",
            "Requirement already satisfied: tzdata>=2022.7 in /usr/local/lib/python3.11/dist-packages (from pandas<=2.2.4->idc-index) (2025.2)\n",
            "Requirement already satisfied: charset-normalizer<4,>=2 in /usr/local/lib/python3.11/dist-packages (from requests->idc-index) (3.4.2)\n",
            "Requirement already satisfied: idna<4,>=2.5 in /usr/local/lib/python3.11/dist-packages (from requests->idc-index) (3.10)\n",
            "Requirement already satisfied: urllib3<3,>=1.21.1 in /usr/local/lib/python3.11/dist-packages (from requests->idc-index) (2.4.0)\n",
            "Requirement already satisfied: certifi>=2017.4.17 in /usr/local/lib/python3.11/dist-packages (from requests->idc-index) (2025.4.26)\n",
            "Requirement already satisfied: sphinx>=4.0 in /usr/local/lib/python3.11/dist-packages (from sphinx-click->idc-index) (8.2.3)\n",
            "Requirement already satisfied: docutils in /usr/local/lib/python3.11/dist-packages (from sphinx-click->idc-index) (0.21.2)\n",
            "Requirement already satisfied: six>=1.5 in /usr/local/lib/python3.11/dist-packages (from python-dateutil>=2.8.2->pandas<=2.2.4->idc-index) (1.17.0)\n",
            "Requirement already satisfied: sphinxcontrib-applehelp>=1.0.7 in /usr/local/lib/python3.11/dist-packages (from sphinx>=4.0->sphinx-click->idc-index) (2.0.0)\n",
            "Requirement already satisfied: sphinxcontrib-devhelp>=1.0.6 in /usr/local/lib/python3.11/dist-packages (from sphinx>=4.0->sphinx-click->idc-index) (2.0.0)\n",
            "Requirement already satisfied: sphinxcontrib-htmlhelp>=2.0.6 in /usr/local/lib/python3.11/dist-packages (from sphinx>=4.0->sphinx-click->idc-index) (2.1.0)\n",
            "Requirement already satisfied: sphinxcontrib-jsmath>=1.0.1 in /usr/local/lib/python3.11/dist-packages (from sphinx>=4.0->sphinx-click->idc-index) (1.0.1)\n",
            "Requirement already satisfied: sphinxcontrib-qthelp>=1.0.6 in /usr/local/lib/python3.11/dist-packages (from sphinx>=4.0->sphinx-click->idc-index) (2.0.0)\n",
            "Requirement already satisfied: sphinxcontrib-serializinghtml>=1.1.9 in /usr/local/lib/python3.11/dist-packages (from sphinx>=4.0->sphinx-click->idc-index) (2.0.0)\n",
            "Requirement already satisfied: Jinja2>=3.1 in /usr/local/lib/python3.11/dist-packages (from sphinx>=4.0->sphinx-click->idc-index) (3.1.6)\n",
            "Requirement already satisfied: Pygments>=2.17 in /usr/local/lib/python3.11/dist-packages (from sphinx>=4.0->sphinx-click->idc-index) (2.19.1)\n",
            "Requirement already satisfied: snowballstemmer>=2.2 in /usr/local/lib/python3.11/dist-packages (from sphinx>=4.0->sphinx-click->idc-index) (3.0.0.1)\n",
            "Requirement already satisfied: babel>=2.13 in /usr/local/lib/python3.11/dist-packages (from sphinx>=4.0->sphinx-click->idc-index) (2.17.0)\n",
            "Requirement already satisfied: alabaster>=0.7.14 in /usr/local/lib/python3.11/dist-packages (from sphinx>=4.0->sphinx-click->idc-index) (1.0.0)\n",
            "Requirement already satisfied: imagesize>=1.3 in /usr/local/lib/python3.11/dist-packages (from sphinx>=4.0->sphinx-click->idc-index) (1.4.1)\n",
            "Requirement already satisfied: roman-numerals-py>=1.0.0 in /usr/local/lib/python3.11/dist-packages (from sphinx>=4.0->sphinx-click->idc-index) (3.1.0)\n",
            "Requirement already satisfied: MarkupSafe>=2.0 in /usr/local/lib/python3.11/dist-packages (from Jinja2>=3.1->sphinx>=4.0->sphinx-click->idc-index) (3.0.2)\n",
            "Downloading idc_index-0.8.6-py3-none-any.whl (26 kB)\n",
            "Downloading idc_index_data-20.0.3-py3-none-any.whl (80.3 MB)\n",
            "\u001b[2K   \u001b[90m━━━━━━━━━━━━━━━━━━━━━━━━━━━━━━━━━━━━━━━━\u001b[0m \u001b[32m80.3/80.3 MB\u001b[0m \u001b[31m8.2 MB/s\u001b[0m eta \u001b[36m0:00:00\u001b[0m\n",
            "\u001b[?25hDownloading duckdb-1.2.1-cp311-cp311-manylinux_2_17_x86_64.manylinux2014_x86_64.whl (20.2 MB)\n",
            "\u001b[2K   \u001b[90m━━━━━━━━━━━━━━━━━━━━━━━━━━━━━━━━━━━━━━━━\u001b[0m \u001b[32m20.2/20.2 MB\u001b[0m \u001b[31m39.6 MB/s\u001b[0m eta \u001b[36m0:00:00\u001b[0m\n",
            "\u001b[?25hDownloading s5cmd-0.2.0-py3-none-manylinux_2_5_x86_64.manylinux1_x86_64.manylinux_2_17_x86_64.manylinux2014_x86_64.whl (4.7 MB)\n",
            "\u001b[2K   \u001b[90m━━━━━━━━━━━━━━━━━━━━━━━━━━━━━━━━━━━━━━━━\u001b[0m \u001b[32m4.7/4.7 MB\u001b[0m \u001b[31m62.3 MB/s\u001b[0m eta \u001b[36m0:00:00\u001b[0m\n",
            "\u001b[?25hDownloading sphinx_click-6.0.0-py3-none-any.whl (9.9 kB)\n",
            "Installing collected packages: s5cmd, idc-index-data, duckdb, sphinx-click, idc-index\n",
            "  Attempting uninstall: duckdb\n",
            "    Found existing installation: duckdb 1.2.2\n",
            "    Uninstalling duckdb-1.2.2:\n",
            "      Successfully uninstalled duckdb-1.2.2\n",
            "Successfully installed duckdb-1.2.1 idc-index-0.8.6 idc-index-data-20.0.3 s5cmd-0.2.0 sphinx-click-6.0.0\n"
          ]
        }
      ]
    },
    {
      "cell_type": "code",
      "execution_count": 8,
      "metadata": {
        "id": "se9qmcLGbHfa"
      },
      "outputs": [],
      "source": [
        "import os\n",
        "import sys\n",
        "import time\n",
        "import re\n",
        "\n",
        "from google.cloud import bigquery\n",
        "from google.cloud import storage\n",
        "\n",
        "import nibabel as nib\n",
        "import numpy as np\n",
        "import pandas as pd\n",
        "import SimpleITK as sitk\n",
        "import matplotlib.pyplot as plt\n",
        "\n",
        "import json\n",
        "\n",
        "import pydicom"
      ]
    },
    {
      "cell_type": "code",
      "source": [
        "from pathlib import Path\n",
        "\n",
        "import pydicom\n",
        "from pydicom.uid import generate_uid\n",
        "from pydicom.filereader import dcmread\n",
        "from pydicom.sr.codedict import codes\n",
        "\n",
        "import highdicom\n",
        "from highdicom.sr.content import (\n",
        "    FindingSite,\n",
        "    ImageRegion,\n",
        "    ImageRegion3D,\n",
        "    SourceImageForRegion\n",
        ")\n",
        "from highdicom.sr.enum import GraphicTypeValues3D\n",
        "from highdicom.sr.enum import GraphicTypeValues\n",
        "from highdicom.sr.sop import Comprehensive3DSR, ComprehensiveSR\n",
        "from highdicom.sr.templates import (\n",
        "    DeviceObserverIdentifyingAttributes,\n",
        "    Measurement,\n",
        "    MeasurementProperties,\n",
        "    MeasurementReport,\n",
        "    ObservationContext,\n",
        "    ObserverContext,\n",
        "    PersonObserverIdentifyingAttributes,\n",
        "    PlanarROIMeasurementsAndQualitativeEvaluations,\n",
        "    RelationshipTypeValues,\n",
        "    TrackingIdentifier,\n",
        "    QualitativeEvaluation\n",
        ")\n",
        "from highdicom.sr.value_types import (\n",
        "    CodedConcept,\n",
        "    CodeContentItem,\n",
        ")\n",
        "\n",
        "from highdicom.sr import ImageLibrary\n",
        "from highdicom.sr import ImageLibraryEntryDescriptors\n",
        "from highdicom.sr.value_types import Code\n",
        "from highdicom.sr.value_types import ContentItem\n",
        "# from highdicom.sr import ContentItem, ValueTypeValues, RelationshipTypeValues\n",
        "from highdicom.sr.coding import CodedConcept\n",
        "\n",
        "import logging\n",
        "logger = logging.getLogger(\"highdicom.sr.sop\")\n",
        "logger.setLevel(logging.INFO)"
      ],
      "metadata": {
        "id": "6l8_jKlKNmV0"
      },
      "execution_count": 9,
      "outputs": []
    },
    {
      "cell_type": "code",
      "source": [
        "from idc_index import IDCClient\n",
        "client = IDCClient.client()"
      ],
      "metadata": {
        "id": "wcS7tThiQmOV"
      },
      "execution_count": 10,
      "outputs": []
    },
    {
      "cell_type": "code",
      "source": [
        "pydicom.__version__"
      ],
      "metadata": {
        "colab": {
          "base_uri": "https://localhost:8080/",
          "height": 0
        },
        "id": "hZ2CVSaZm2NL",
        "outputId": "b260b25d-2499-490e-e4e2-61e9e13af73c"
      },
      "execution_count": 11,
      "outputs": [
        {
          "output_type": "execute_result",
          "data": {
            "text/plain": [
              "'3.0.1'"
            ],
            "application/vnd.google.colaboratory.intrinsic+json": {
              "type": "string"
            }
          },
          "metadata": {},
          "execution_count": 11
        }
      ]
    },
    {
      "cell_type": "code",
      "source": [
        "highdicom.__version__"
      ],
      "metadata": {
        "colab": {
          "base_uri": "https://localhost:8080/",
          "height": 0
        },
        "id": "rZ_OIHp_nimy",
        "outputId": "acf0be42-59a6-49e1-916c-4d8c6e6f9338"
      },
      "execution_count": 12,
      "outputs": [
        {
          "output_type": "execute_result",
          "data": {
            "text/plain": [
              "'0.25.1'"
            ],
            "application/vnd.google.colaboratory.intrinsic+json": {
              "type": "string"
            }
          },
          "metadata": {},
          "execution_count": 12
        }
      ]
    },
    {
      "cell_type": "markdown",
      "source": [
        "# Download the csvs for the training and testing lesion information"
      ],
      "metadata": {
        "id": "XXZr4iv93G54"
      }
    },
    {
      "cell_type": "markdown",
      "source": [
        "## Version 1 - with clinically significant or not"
      ],
      "metadata": {
        "id": "WvGvTFqUBH4I"
      }
    },
    {
      "cell_type": "code",
      "source": [
        "# For now, located in google drive. Later add as github release attachments\n",
        "df_train_info1 = pd.read_csv(r\"/content/gdrive/MyDrive/Colab Notebooks/ProstateX SR/ProstateX-TrainingLesionInformationv2/ProstateX-Images-Train.csv\")\n",
        "df_train_findings1 = pd.read_csv(r\"/content/gdrive/MyDrive/Colab Notebooks/ProstateX SR/ProstateX-TrainingLesionInformationv2/ProstateX-Findings-Train.csv\")\n",
        "df_test_info1 = pd.read_csv(r\"/content/gdrive/MyDrive/Colab Notebooks/ProstateX SR/ProstateX-TestLesionInformation/ProstateX-Images-Test.csv\")\n",
        "df_test_findings1 = pd.read_csv(r\"/content/gdrive/MyDrive/Colab Notebooks/ProstateX SR/ProstateX-TestLesionInformation/ProstateX-Findings-Test.csv\")"
      ],
      "metadata": {
        "id": "XhNCp83FBOwS"
      },
      "execution_count": 14,
      "outputs": []
    },
    {
      "cell_type": "code",
      "source": [
        "# Number of patients with findings for clinical significance\n",
        "len(df_train_info1.ProxID.unique())"
      ],
      "metadata": {
        "colab": {
          "base_uri": "https://localhost:8080/"
        },
        "id": "mF3lkjXnB3TZ",
        "outputId": "de44d5e6-0873-461e-c4b1-36b400997485"
      },
      "execution_count": 15,
      "outputs": [
        {
          "output_type": "execute_result",
          "data": {
            "text/plain": [
              "204"
            ]
          },
          "metadata": {},
          "execution_count": 15
        }
      ]
    },
    {
      "cell_type": "code",
      "source": [
        "# Number of patients with findings for clinical significance\n",
        "len(df_test_info1.ProxID.unique())"
      ],
      "metadata": {
        "colab": {
          "base_uri": "https://localhost:8080/"
        },
        "id": "lN6Wm2qsCHqN",
        "outputId": "466533da-8fb5-4809-d38b-b7282dbe9e3f"
      },
      "execution_count": 16,
      "outputs": [
        {
          "output_type": "execute_result",
          "data": {
            "text/plain": [
              "140"
            ]
          },
          "metadata": {},
          "execution_count": 16
        }
      ]
    },
    {
      "cell_type": "code",
      "source": [
        "# total of 344 patients - ProstateX in IDC has 346 patients"
      ],
      "metadata": {
        "id": "g_2vJIRPCgnR"
      },
      "execution_count": null,
      "outputs": []
    },
    {
      "cell_type": "markdown",
      "source": [
        "## Version 2 - with GGG"
      ],
      "metadata": {
        "id": "WFqK29RuBMMi"
      }
    },
    {
      "cell_type": "code",
      "source": [
        "# Training data lesion info - with GGG\n",
        "!wget https://www.cancerimagingarchive.net/wp-content/uploads/ProstateX2-DataInfo-Train.zip"
      ],
      "metadata": {
        "colab": {
          "base_uri": "https://localhost:8080/"
        },
        "id": "oWlP3MT13K0H",
        "outputId": "9cf43fee-92d8-4ef1-b6de-ba34b5ee7b9c"
      },
      "execution_count": 17,
      "outputs": [
        {
          "output_type": "stream",
          "name": "stdout",
          "text": [
            "--2025-04-10 20:56:12--  https://www.cancerimagingarchive.net/wp-content/uploads/ProstateX2-DataInfo-Train.zip\n",
            "Resolving www.cancerimagingarchive.net (www.cancerimagingarchive.net)... 144.30.169.13\n",
            "Connecting to www.cancerimagingarchive.net (www.cancerimagingarchive.net)|144.30.169.13|:443... connected.\n",
            "HTTP request sent, awaiting response... 200 OK\n",
            "Length: 1333723 (1.3M) [application/zip]\n",
            "Saving to: ‘ProstateX2-DataInfo-Train.zip’\n",
            "\n",
            "ProstateX2-DataInfo 100%[===================>]   1.27M  1.10MB/s    in 1.2s    \n",
            "\n",
            "2025-04-10 20:56:14 (1.10 MB/s) - ‘ProstateX2-DataInfo-Train.zip’ saved [1333723/1333723]\n",
            "\n"
          ]
        }
      ]
    },
    {
      "cell_type": "code",
      "source": [
        "# Testing data lesion info- with GGG\n",
        "!wget https://www.cancerimagingarchive.net/wp-content/uploads/ProstateX2-DataInfo-Test.zip"
      ],
      "metadata": {
        "colab": {
          "base_uri": "https://localhost:8080/"
        },
        "id": "IlB0DgmL4sW6",
        "outputId": "5c7e328a-118a-46fe-91ba-926487e2b874"
      },
      "execution_count": 18,
      "outputs": [
        {
          "output_type": "stream",
          "name": "stdout",
          "text": [
            "--2025-04-10 20:56:17--  https://www.cancerimagingarchive.net/wp-content/uploads/ProstateX2-DataInfo-Test.zip\n",
            "Resolving www.cancerimagingarchive.net (www.cancerimagingarchive.net)... 144.30.169.13\n",
            "Connecting to www.cancerimagingarchive.net (www.cancerimagingarchive.net)|144.30.169.13|:443... connected.\n",
            "HTTP request sent, awaiting response... 200 OK\n",
            "Length: 1325491 (1.3M) [application/zip]\n",
            "Saving to: ‘ProstateX2-DataInfo-Test.zip’\n",
            "\n",
            "ProstateX2-DataInfo 100%[===================>]   1.26M  1.09MB/s    in 1.2s    \n",
            "\n",
            "2025-04-10 20:56:19 (1.09 MB/s) - ‘ProstateX2-DataInfo-Test.zip’ saved [1325491/1325491]\n",
            "\n"
          ]
        }
      ]
    },
    {
      "cell_type": "code",
      "source": [
        "# Unzip the folders\n",
        "!unzip 'ProstateX2-DataInfo-Train.zip' -d /content/ProstateX2-DataInfo-Train\n",
        "!unzip 'ProstateX2-DataInfo-Test.zip' -d /content/ProstateX2-DataInfo-Test"
      ],
      "metadata": {
        "colab": {
          "base_uri": "https://localhost:8080/"
        },
        "id": "YR5uBR3C6W51",
        "outputId": "badc941f-3bfd-4a90-dcdf-abd4d84d1889"
      },
      "execution_count": 19,
      "outputs": [
        {
          "output_type": "stream",
          "name": "stdout",
          "text": [
            "Archive:  ProstateX2-DataInfo-Train.zip\n",
            "  inflating: /content/ProstateX2-DataInfo-Train/ProstateX2-DataInfo-Train.docx  \n",
            "  inflating: /content/ProstateX2-DataInfo-Train/ProstateX-2-Findings-Train.csv  \n",
            "  inflating: /content/ProstateX2-DataInfo-Train/ProstateX-2-Images-Train.csv  \n",
            "Archive:  ProstateX2-DataInfo-Test.zip\n",
            "  inflating: /content/ProstateX2-DataInfo-Test/ProstateX-2-Findings-Test.csv  \n",
            "  inflating: /content/ProstateX2-DataInfo-Test/ProstateX-2-Images-Test.csv  \n",
            " extracting: /content/ProstateX2-DataInfo-Test/ProstateX2-DataInfo-Test.docx  \n"
          ]
        }
      ]
    },
    {
      "cell_type": "code",
      "source": [
        "# Parse the necessary csv files\n",
        "df_train_info2 = pd.read_csv(\"/content/ProstateX2-DataInfo-Train/ProstateX-2-Images-Train.csv\")\n",
        "df_test_info2 = pd.read_csv(\"/content/ProstateX2-DataInfo-Test/ProstateX-2-Images-Test.csv\")\n",
        "df_train_findings2 = pd.read_csv(\"/content/ProstateX2-DataInfo-Train/ProstateX-2-Findings-Train.csv\")\n",
        "df_test_findings2 = pd.read_csv(\"/content/ProstateX2-DataInfo-Test/ProstateX-2-Findings-Test.csv\")"
      ],
      "metadata": {
        "id": "OJE0ygjJ61yv"
      },
      "execution_count": 20,
      "outputs": []
    },
    {
      "cell_type": "code",
      "source": [
        "# Number of train patients with GGG\n",
        "len(df_train_info2.ProxID.unique())"
      ],
      "metadata": {
        "colab": {
          "base_uri": "https://localhost:8080/"
        },
        "id": "CrNh-0N97R6J",
        "outputId": "37231698-edba-4aa0-873c-a218c1007802"
      },
      "execution_count": 21,
      "outputs": [
        {
          "output_type": "execute_result",
          "data": {
            "text/plain": [
              "99"
            ]
          },
          "metadata": {},
          "execution_count": 21
        }
      ]
    },
    {
      "cell_type": "code",
      "source": [
        "# Number of test patients with GGG\n",
        "len(df_test_info2.ProxID.unique())"
      ],
      "metadata": {
        "colab": {
          "base_uri": "https://localhost:8080/"
        },
        "id": "p_QRtgD1CT-v",
        "outputId": "95b1e6ad-807e-4586-ac2c-75b8e3b88976"
      },
      "execution_count": 22,
      "outputs": [
        {
          "output_type": "execute_result",
          "data": {
            "text/plain": [
              "63"
            ]
          },
          "metadata": {},
          "execution_count": 22
        }
      ]
    },
    {
      "cell_type": "code",
      "source": [
        "df_train_info2.head()"
      ],
      "metadata": {
        "colab": {
          "base_uri": "https://localhost:8080/",
          "height": 400
        },
        "id": "PYU3I-RdDkcR",
        "outputId": "562b2df0-4221-4e5b-bd56-dda658720bac"
      },
      "execution_count": 23,
      "outputs": [
        {
          "output_type": "execute_result",
          "data": {
            "text/plain": [
              "           ProxID                                 Name  studydate  fid  \\\n",
              "0  ProstateX-0000                          t2_tse_sag0   20120103    1   \n",
              "1  ProstateX-0000           ep2d_diff_tra_DYNDIST_ADC0   20120103    1   \n",
              "2  ProstateX-0000                          t2_tse_tra0   20120103    1   \n",
              "3  ProstateX-0000      ep2d_diff_tra_DYNDISTCALC_BVAL0   20120103    1   \n",
              "4  ProstateX-0001  ep2d_diff_tra_DYNDIST_MIXCALC_BVAL0   20120104    1   \n",
              "\n",
              "                                                 pos  \\\n",
              "0                            25.7457 31.8707 -38.511   \n",
              "1                            25.7457 31.8707 -38.511   \n",
              "2                            25.7457 31.8707 -38.511   \n",
              "3                            25.7457 31.8707 -38.511   \n",
              "4  -40.5367071921656 29.320722668457 -16.70766907...   \n",
              "\n",
              "                                         WorldMatrix         ijk  \\\n",
              "0  0,0,-3.6,73.1629,0.5625,0,0,-67.018,0,-0.5625,...  176 169 13   \n",
              "1  2,4.0067e-010,0.00377059,-46.6873,-0.000797221...     36 72 9   \n",
              "2  0.5,1.00168e-010,0.00377059,-57.9373,-0.000199...   167 224 9   \n",
              "3  2,4.0067e-010,0.00377059,-46.6873,-0.000797221...     36 72 9   \n",
              "4  2,4.10207e-010,-4.64581e-017,-107.955,-4.0773e...    34 63 10   \n",
              "\n",
              "   SpacingBetweenSlices       VoxelSpacing           Dim  \\\n",
              "0                   3.6  0.5625,0.5625,3.6  320x320x19x1   \n",
              "1                   3.0              2,2,3   84x128x19x1   \n",
              "2                   3.0          0.5,0.5,3  384x384x19x1   \n",
              "3                   3.0              2,2,3   84x128x19x1   \n",
              "4                   3.0              2,2,3   84x128x19x1   \n",
              "\n",
              "                          DCMSerDescr  DCMSerNum  \\\n",
              "0                          t2_tse_sag          3   \n",
              "1           ep2d_diff_tra_DYNDIST_ADC          7   \n",
              "2                          t2_tse_tra          4   \n",
              "3      ep2d_diff_tra_DYNDISTCALC_BVAL          8   \n",
              "4  ep2d_diff_tra_DYNDIST_MIXCALC_BVAL          9   \n",
              "\n",
              "                                           DCMSerUID  \n",
              "0  1.3.6.1.4.1.14519.5.2.1.7311.5101.250911858840...  \n",
              "1  1.3.6.1.4.1.14519.5.2.1.7311.5101.339319789559...  \n",
              "2  1.3.6.1.4.1.14519.5.2.1.7311.5101.160028252338...  \n",
              "3  1.3.6.1.4.1.14519.5.2.1.7311.5101.338465037878...  \n",
              "4  1.3.6.1.4.1.14519.5.2.1.7311.5101.417952484461...  "
            ],
            "text/html": [
              "\n",
              "  <div id=\"df-26b57880-70a8-412b-b3e7-4b068347f103\" class=\"colab-df-container\">\n",
              "    <div>\n",
              "<style scoped>\n",
              "    .dataframe tbody tr th:only-of-type {\n",
              "        vertical-align: middle;\n",
              "    }\n",
              "\n",
              "    .dataframe tbody tr th {\n",
              "        vertical-align: top;\n",
              "    }\n",
              "\n",
              "    .dataframe thead th {\n",
              "        text-align: right;\n",
              "    }\n",
              "</style>\n",
              "<table border=\"1\" class=\"dataframe\">\n",
              "  <thead>\n",
              "    <tr style=\"text-align: right;\">\n",
              "      <th></th>\n",
              "      <th>ProxID</th>\n",
              "      <th>Name</th>\n",
              "      <th>studydate</th>\n",
              "      <th>fid</th>\n",
              "      <th>pos</th>\n",
              "      <th>WorldMatrix</th>\n",
              "      <th>ijk</th>\n",
              "      <th>SpacingBetweenSlices</th>\n",
              "      <th>VoxelSpacing</th>\n",
              "      <th>Dim</th>\n",
              "      <th>DCMSerDescr</th>\n",
              "      <th>DCMSerNum</th>\n",
              "      <th>DCMSerUID</th>\n",
              "    </tr>\n",
              "  </thead>\n",
              "  <tbody>\n",
              "    <tr>\n",
              "      <th>0</th>\n",
              "      <td>ProstateX-0000</td>\n",
              "      <td>t2_tse_sag0</td>\n",
              "      <td>20120103</td>\n",
              "      <td>1</td>\n",
              "      <td>25.7457 31.8707 -38.511</td>\n",
              "      <td>0,0,-3.6,73.1629,0.5625,0,0,-67.018,0,-0.5625,...</td>\n",
              "      <td>176 169 13</td>\n",
              "      <td>3.6</td>\n",
              "      <td>0.5625,0.5625,3.6</td>\n",
              "      <td>320x320x19x1</td>\n",
              "      <td>t2_tse_sag</td>\n",
              "      <td>3</td>\n",
              "      <td>1.3.6.1.4.1.14519.5.2.1.7311.5101.250911858840...</td>\n",
              "    </tr>\n",
              "    <tr>\n",
              "      <th>1</th>\n",
              "      <td>ProstateX-0000</td>\n",
              "      <td>ep2d_diff_tra_DYNDIST_ADC0</td>\n",
              "      <td>20120103</td>\n",
              "      <td>1</td>\n",
              "      <td>25.7457 31.8707 -38.511</td>\n",
              "      <td>2,4.0067e-010,0.00377059,-46.6873,-0.000797221...</td>\n",
              "      <td>36 72 9</td>\n",
              "      <td>3.0</td>\n",
              "      <td>2,2,3</td>\n",
              "      <td>84x128x19x1</td>\n",
              "      <td>ep2d_diff_tra_DYNDIST_ADC</td>\n",
              "      <td>7</td>\n",
              "      <td>1.3.6.1.4.1.14519.5.2.1.7311.5101.339319789559...</td>\n",
              "    </tr>\n",
              "    <tr>\n",
              "      <th>2</th>\n",
              "      <td>ProstateX-0000</td>\n",
              "      <td>t2_tse_tra0</td>\n",
              "      <td>20120103</td>\n",
              "      <td>1</td>\n",
              "      <td>25.7457 31.8707 -38.511</td>\n",
              "      <td>0.5,1.00168e-010,0.00377059,-57.9373,-0.000199...</td>\n",
              "      <td>167 224 9</td>\n",
              "      <td>3.0</td>\n",
              "      <td>0.5,0.5,3</td>\n",
              "      <td>384x384x19x1</td>\n",
              "      <td>t2_tse_tra</td>\n",
              "      <td>4</td>\n",
              "      <td>1.3.6.1.4.1.14519.5.2.1.7311.5101.160028252338...</td>\n",
              "    </tr>\n",
              "    <tr>\n",
              "      <th>3</th>\n",
              "      <td>ProstateX-0000</td>\n",
              "      <td>ep2d_diff_tra_DYNDISTCALC_BVAL0</td>\n",
              "      <td>20120103</td>\n",
              "      <td>1</td>\n",
              "      <td>25.7457 31.8707 -38.511</td>\n",
              "      <td>2,4.0067e-010,0.00377059,-46.6873,-0.000797221...</td>\n",
              "      <td>36 72 9</td>\n",
              "      <td>3.0</td>\n",
              "      <td>2,2,3</td>\n",
              "      <td>84x128x19x1</td>\n",
              "      <td>ep2d_diff_tra_DYNDISTCALC_BVAL</td>\n",
              "      <td>8</td>\n",
              "      <td>1.3.6.1.4.1.14519.5.2.1.7311.5101.338465037878...</td>\n",
              "    </tr>\n",
              "    <tr>\n",
              "      <th>4</th>\n",
              "      <td>ProstateX-0001</td>\n",
              "      <td>ep2d_diff_tra_DYNDIST_MIXCALC_BVAL0</td>\n",
              "      <td>20120104</td>\n",
              "      <td>1</td>\n",
              "      <td>-40.5367071921656 29.320722668457 -16.70766907...</td>\n",
              "      <td>2,4.10207e-010,-4.64581e-017,-107.955,-4.0773e...</td>\n",
              "      <td>34 63 10</td>\n",
              "      <td>3.0</td>\n",
              "      <td>2,2,3</td>\n",
              "      <td>84x128x19x1</td>\n",
              "      <td>ep2d_diff_tra_DYNDIST_MIXCALC_BVAL</td>\n",
              "      <td>9</td>\n",
              "      <td>1.3.6.1.4.1.14519.5.2.1.7311.5101.417952484461...</td>\n",
              "    </tr>\n",
              "  </tbody>\n",
              "</table>\n",
              "</div>\n",
              "    <div class=\"colab-df-buttons\">\n",
              "\n",
              "  <div class=\"colab-df-container\">\n",
              "    <button class=\"colab-df-convert\" onclick=\"convertToInteractive('df-26b57880-70a8-412b-b3e7-4b068347f103')\"\n",
              "            title=\"Convert this dataframe to an interactive table.\"\n",
              "            style=\"display:none;\">\n",
              "\n",
              "  <svg xmlns=\"http://www.w3.org/2000/svg\" height=\"24px\" viewBox=\"0 -960 960 960\">\n",
              "    <path d=\"M120-120v-720h720v720H120Zm60-500h600v-160H180v160Zm220 220h160v-160H400v160Zm0 220h160v-160H400v160ZM180-400h160v-160H180v160Zm440 0h160v-160H620v160ZM180-180h160v-160H180v160Zm440 0h160v-160H620v160Z\"/>\n",
              "  </svg>\n",
              "    </button>\n",
              "\n",
              "  <style>\n",
              "    .colab-df-container {\n",
              "      display:flex;\n",
              "      gap: 12px;\n",
              "    }\n",
              "\n",
              "    .colab-df-convert {\n",
              "      background-color: #E8F0FE;\n",
              "      border: none;\n",
              "      border-radius: 50%;\n",
              "      cursor: pointer;\n",
              "      display: none;\n",
              "      fill: #1967D2;\n",
              "      height: 32px;\n",
              "      padding: 0 0 0 0;\n",
              "      width: 32px;\n",
              "    }\n",
              "\n",
              "    .colab-df-convert:hover {\n",
              "      background-color: #E2EBFA;\n",
              "      box-shadow: 0px 1px 2px rgba(60, 64, 67, 0.3), 0px 1px 3px 1px rgba(60, 64, 67, 0.15);\n",
              "      fill: #174EA6;\n",
              "    }\n",
              "\n",
              "    .colab-df-buttons div {\n",
              "      margin-bottom: 4px;\n",
              "    }\n",
              "\n",
              "    [theme=dark] .colab-df-convert {\n",
              "      background-color: #3B4455;\n",
              "      fill: #D2E3FC;\n",
              "    }\n",
              "\n",
              "    [theme=dark] .colab-df-convert:hover {\n",
              "      background-color: #434B5C;\n",
              "      box-shadow: 0px 1px 3px 1px rgba(0, 0, 0, 0.15);\n",
              "      filter: drop-shadow(0px 1px 2px rgba(0, 0, 0, 0.3));\n",
              "      fill: #FFFFFF;\n",
              "    }\n",
              "  </style>\n",
              "\n",
              "    <script>\n",
              "      const buttonEl =\n",
              "        document.querySelector('#df-26b57880-70a8-412b-b3e7-4b068347f103 button.colab-df-convert');\n",
              "      buttonEl.style.display =\n",
              "        google.colab.kernel.accessAllowed ? 'block' : 'none';\n",
              "\n",
              "      async function convertToInteractive(key) {\n",
              "        const element = document.querySelector('#df-26b57880-70a8-412b-b3e7-4b068347f103');\n",
              "        const dataTable =\n",
              "          await google.colab.kernel.invokeFunction('convertToInteractive',\n",
              "                                                    [key], {});\n",
              "        if (!dataTable) return;\n",
              "\n",
              "        const docLinkHtml = 'Like what you see? Visit the ' +\n",
              "          '<a target=\"_blank\" href=https://colab.research.google.com/notebooks/data_table.ipynb>data table notebook</a>'\n",
              "          + ' to learn more about interactive tables.';\n",
              "        element.innerHTML = '';\n",
              "        dataTable['output_type'] = 'display_data';\n",
              "        await google.colab.output.renderOutput(dataTable, element);\n",
              "        const docLink = document.createElement('div');\n",
              "        docLink.innerHTML = docLinkHtml;\n",
              "        element.appendChild(docLink);\n",
              "      }\n",
              "    </script>\n",
              "  </div>\n",
              "\n",
              "\n",
              "<div id=\"df-df3585b9-783b-4049-a718-372c12c0d1b7\">\n",
              "  <button class=\"colab-df-quickchart\" onclick=\"quickchart('df-df3585b9-783b-4049-a718-372c12c0d1b7')\"\n",
              "            title=\"Suggest charts\"\n",
              "            style=\"display:none;\">\n",
              "\n",
              "<svg xmlns=\"http://www.w3.org/2000/svg\" height=\"24px\"viewBox=\"0 0 24 24\"\n",
              "     width=\"24px\">\n",
              "    <g>\n",
              "        <path d=\"M19 3H5c-1.1 0-2 .9-2 2v14c0 1.1.9 2 2 2h14c1.1 0 2-.9 2-2V5c0-1.1-.9-2-2-2zM9 17H7v-7h2v7zm4 0h-2V7h2v10zm4 0h-2v-4h2v4z\"/>\n",
              "    </g>\n",
              "</svg>\n",
              "  </button>\n",
              "\n",
              "<style>\n",
              "  .colab-df-quickchart {\n",
              "      --bg-color: #E8F0FE;\n",
              "      --fill-color: #1967D2;\n",
              "      --hover-bg-color: #E2EBFA;\n",
              "      --hover-fill-color: #174EA6;\n",
              "      --disabled-fill-color: #AAA;\n",
              "      --disabled-bg-color: #DDD;\n",
              "  }\n",
              "\n",
              "  [theme=dark] .colab-df-quickchart {\n",
              "      --bg-color: #3B4455;\n",
              "      --fill-color: #D2E3FC;\n",
              "      --hover-bg-color: #434B5C;\n",
              "      --hover-fill-color: #FFFFFF;\n",
              "      --disabled-bg-color: #3B4455;\n",
              "      --disabled-fill-color: #666;\n",
              "  }\n",
              "\n",
              "  .colab-df-quickchart {\n",
              "    background-color: var(--bg-color);\n",
              "    border: none;\n",
              "    border-radius: 50%;\n",
              "    cursor: pointer;\n",
              "    display: none;\n",
              "    fill: var(--fill-color);\n",
              "    height: 32px;\n",
              "    padding: 0;\n",
              "    width: 32px;\n",
              "  }\n",
              "\n",
              "  .colab-df-quickchart:hover {\n",
              "    background-color: var(--hover-bg-color);\n",
              "    box-shadow: 0 1px 2px rgba(60, 64, 67, 0.3), 0 1px 3px 1px rgba(60, 64, 67, 0.15);\n",
              "    fill: var(--button-hover-fill-color);\n",
              "  }\n",
              "\n",
              "  .colab-df-quickchart-complete:disabled,\n",
              "  .colab-df-quickchart-complete:disabled:hover {\n",
              "    background-color: var(--disabled-bg-color);\n",
              "    fill: var(--disabled-fill-color);\n",
              "    box-shadow: none;\n",
              "  }\n",
              "\n",
              "  .colab-df-spinner {\n",
              "    border: 2px solid var(--fill-color);\n",
              "    border-color: transparent;\n",
              "    border-bottom-color: var(--fill-color);\n",
              "    animation:\n",
              "      spin 1s steps(1) infinite;\n",
              "  }\n",
              "\n",
              "  @keyframes spin {\n",
              "    0% {\n",
              "      border-color: transparent;\n",
              "      border-bottom-color: var(--fill-color);\n",
              "      border-left-color: var(--fill-color);\n",
              "    }\n",
              "    20% {\n",
              "      border-color: transparent;\n",
              "      border-left-color: var(--fill-color);\n",
              "      border-top-color: var(--fill-color);\n",
              "    }\n",
              "    30% {\n",
              "      border-color: transparent;\n",
              "      border-left-color: var(--fill-color);\n",
              "      border-top-color: var(--fill-color);\n",
              "      border-right-color: var(--fill-color);\n",
              "    }\n",
              "    40% {\n",
              "      border-color: transparent;\n",
              "      border-right-color: var(--fill-color);\n",
              "      border-top-color: var(--fill-color);\n",
              "    }\n",
              "    60% {\n",
              "      border-color: transparent;\n",
              "      border-right-color: var(--fill-color);\n",
              "    }\n",
              "    80% {\n",
              "      border-color: transparent;\n",
              "      border-right-color: var(--fill-color);\n",
              "      border-bottom-color: var(--fill-color);\n",
              "    }\n",
              "    90% {\n",
              "      border-color: transparent;\n",
              "      border-bottom-color: var(--fill-color);\n",
              "    }\n",
              "  }\n",
              "</style>\n",
              "\n",
              "  <script>\n",
              "    async function quickchart(key) {\n",
              "      const quickchartButtonEl =\n",
              "        document.querySelector('#' + key + ' button');\n",
              "      quickchartButtonEl.disabled = true;  // To prevent multiple clicks.\n",
              "      quickchartButtonEl.classList.add('colab-df-spinner');\n",
              "      try {\n",
              "        const charts = await google.colab.kernel.invokeFunction(\n",
              "            'suggestCharts', [key], {});\n",
              "      } catch (error) {\n",
              "        console.error('Error during call to suggestCharts:', error);\n",
              "      }\n",
              "      quickchartButtonEl.classList.remove('colab-df-spinner');\n",
              "      quickchartButtonEl.classList.add('colab-df-quickchart-complete');\n",
              "    }\n",
              "    (() => {\n",
              "      let quickchartButtonEl =\n",
              "        document.querySelector('#df-df3585b9-783b-4049-a718-372c12c0d1b7 button');\n",
              "      quickchartButtonEl.style.display =\n",
              "        google.colab.kernel.accessAllowed ? 'block' : 'none';\n",
              "    })();\n",
              "  </script>\n",
              "</div>\n",
              "\n",
              "    </div>\n",
              "  </div>\n"
            ],
            "application/vnd.google.colaboratory.intrinsic+json": {
              "type": "dataframe",
              "variable_name": "df_train_info2",
              "summary": "{\n  \"name\": \"df_train_info2\",\n  \"rows\": 448,\n  \"fields\": [\n    {\n      \"column\": \"ProxID\",\n      \"properties\": {\n        \"dtype\": \"category\",\n        \"num_unique_values\": 99,\n        \"samples\": [\n          \"ProstateX-0142\",\n          \"ProstateX-0110\",\n          \"ProstateX-0200\"\n        ],\n        \"semantic_type\": \"\",\n        \"description\": \"\"\n      }\n    },\n    {\n      \"column\": \"Name\",\n      \"properties\": {\n        \"dtype\": \"category\",\n        \"num_unique_values\": 11,\n        \"samples\": [\n          \"ep2d_diff_tra_DYNDIST_MIX_ADC0\",\n          \"t2_tse_sag0\",\n          \"diffusie_3Scan_4bval_fs_ADC0\"\n        ],\n        \"semantic_type\": \"\",\n        \"description\": \"\"\n      }\n    },\n    {\n      \"column\": \"studydate\",\n      \"properties\": {\n        \"dtype\": \"number\",\n        \"std\": 310,\n        \"min\": 20120103,\n        \"max\": 20121212,\n        \"num_unique_values\": 79,\n        \"samples\": [\n          20120714,\n          20120103,\n          20120617\n        ],\n        \"semantic_type\": \"\",\n        \"description\": \"\"\n      }\n    },\n    {\n      \"column\": \"fid\",\n      \"properties\": {\n        \"dtype\": \"number\",\n        \"std\": 0,\n        \"min\": 0,\n        \"max\": 4,\n        \"num_unique_values\": 5,\n        \"samples\": [\n          2,\n          3,\n          0\n        ],\n        \"semantic_type\": \"\",\n        \"description\": \"\"\n      }\n    },\n    {\n      \"column\": \"pos\",\n      \"properties\": {\n        \"dtype\": \"category\",\n        \"num_unique_values\": 112,\n        \"samples\": [\n          \"0.78662 -1.83101 1.89299\",\n          \"-11.8805 28.3133 17.5188\",\n          \"-7.69665 3.64226 23.1659\"\n        ],\n        \"semantic_type\": \"\",\n        \"description\": \"\"\n      }\n    },\n    {\n      \"column\": \"WorldMatrix\",\n      \"properties\": {\n        \"dtype\": \"string\",\n        \"num_unique_values\": 297,\n        \"samples\": [\n          \"-0.00920168,-0.00552212,-3.59832,22.5717,0.351442,-9.94005e-010,-0.0942368,-58.2234,0.000144551,-0.351519,0.0565272,100.975,0,0,0,1\",\n          \"0,0,-3.6,25.5253,0.5625,0,0,-61.2349,0,-0.5625,0,44.0162,0,0,0,1\",\n          \"2,4.10207e-010,-4.64581e-017,-72.2927,-4.0773e-010,1.98792,0.329203,-95.7208,4.50138e-011,-0.219469,2.98188,5.72826,0,0,0,1\"\n        ],\n        \"semantic_type\": \"\",\n        \"description\": \"\"\n      }\n    },\n    {\n      \"column\": \"ijk\",\n      \"properties\": {\n        \"dtype\": \"string\",\n        \"num_unique_values\": 336,\n        \"samples\": [\n          \"45 60 8\",\n          \"231 235 11\",\n          \"165 187 12\"\n        ],\n        \"semantic_type\": \"\",\n        \"description\": \"\"\n      }\n    },\n    {\n      \"column\": \"SpacingBetweenSlices\",\n      \"properties\": {\n        \"dtype\": \"number\",\n        \"std\": 0.3314260109030374,\n        \"min\": 3.0,\n        \"max\": 4.5,\n        \"num_unique_values\": 5,\n        \"samples\": [\n          3.0,\n          4.0,\n          4.5\n        ],\n        \"semantic_type\": \"\",\n        \"description\": \"\"\n      }\n    },\n    {\n      \"column\": \"VoxelSpacing\",\n      \"properties\": {\n        \"dtype\": \"category\",\n        \"num_unique_values\": 12,\n        \"samples\": [\n          \"0.5625,0.5625,3\",\n          \"0.3,0.3,3\",\n          \"0.5625,0.5625,3.6\"\n        ],\n        \"semantic_type\": \"\",\n        \"description\": \"\"\n      }\n    },\n    {\n      \"column\": \"Dim\",\n      \"properties\": {\n        \"dtype\": \"category\",\n        \"num_unique_values\": 20,\n        \"samples\": [\n          \"320x320x19x1\",\n          \"384x384x18x1\",\n          \"84x128x20x1\"\n        ],\n        \"semantic_type\": \"\",\n        \"description\": \"\"\n      }\n    },\n    {\n      \"column\": \"DCMSerDescr\",\n      \"properties\": {\n        \"dtype\": \"category\",\n        \"num_unique_values\": 11,\n        \"samples\": [\n          \"ep2d_diff_tra_DYNDIST_MIX_ADC\",\n          \"t2_tse_sag\",\n          \"diffusie-3Scan-4bval_fs_ADC\"\n        ],\n        \"semantic_type\": \"\",\n        \"description\": \"\"\n      }\n    },\n    {\n      \"column\": \"DCMSerNum\",\n      \"properties\": {\n        \"dtype\": \"number\",\n        \"std\": 7,\n        \"min\": 2,\n        \"max\": 60,\n        \"num_unique_values\": 17,\n        \"samples\": [\n          3,\n          7,\n          10\n        ],\n        \"semantic_type\": \"\",\n        \"description\": \"\"\n      }\n    },\n    {\n      \"column\": \"DCMSerUID\",\n      \"properties\": {\n        \"dtype\": \"string\",\n        \"num_unique_values\": 396,\n        \"samples\": [\n          \"1.3.6.1.4.1.14519.5.2.1.7311.5101.246629457520636670723222135451\",\n          \"1.3.6.1.4.1.14519.5.2.1.7311.5101.122032739890016149659923372405\",\n          \"1.3.6.1.4.1.14519.5.2.1.7311.5101.589634819563482671995659706524\"\n        ],\n        \"semantic_type\": \"\",\n        \"description\": \"\"\n      }\n    }\n  ]\n}"
            }
          },
          "metadata": {},
          "execution_count": 23
        }
      ]
    },
    {
      "cell_type": "code",
      "source": [
        "df_train_findings2.head()"
      ],
      "metadata": {
        "colab": {
          "base_uri": "https://localhost:8080/",
          "height": 206
        },
        "id": "DomCKti07k67",
        "outputId": "bd4129cc-8cee-42f8-a98a-3b5cb7cdeab1"
      },
      "execution_count": 24,
      "outputs": [
        {
          "output_type": "execute_result",
          "data": {
            "text/plain": [
              "           ProxID  fid                                                pos  \\\n",
              "0  ProstateX-0000    1                            25.7457 31.8707 -38.511   \n",
              "1  ProstateX-0001    1  -40.5367071921656 29.320722668457 -16.70766907...   \n",
              "2  ProstateX-0002    1                          -27.0102 41.5467 -26.0469   \n",
              "3  ProstateX-0002    2                            -2.058 38.6752 -34.6104   \n",
              "4  ProstateX-0004    1                           -7.69665 3.64226 23.1659   \n",
              "\n",
              "  zone  ggg  \n",
              "0   PZ    3  \n",
              "1   AS    1  \n",
              "2   PZ    2  \n",
              "3   PZ    1  \n",
              "4   AS    1  "
            ],
            "text/html": [
              "\n",
              "  <div id=\"df-745ebfbf-6773-4dd3-8bee-af34f3949879\" class=\"colab-df-container\">\n",
              "    <div>\n",
              "<style scoped>\n",
              "    .dataframe tbody tr th:only-of-type {\n",
              "        vertical-align: middle;\n",
              "    }\n",
              "\n",
              "    .dataframe tbody tr th {\n",
              "        vertical-align: top;\n",
              "    }\n",
              "\n",
              "    .dataframe thead th {\n",
              "        text-align: right;\n",
              "    }\n",
              "</style>\n",
              "<table border=\"1\" class=\"dataframe\">\n",
              "  <thead>\n",
              "    <tr style=\"text-align: right;\">\n",
              "      <th></th>\n",
              "      <th>ProxID</th>\n",
              "      <th>fid</th>\n",
              "      <th>pos</th>\n",
              "      <th>zone</th>\n",
              "      <th>ggg</th>\n",
              "    </tr>\n",
              "  </thead>\n",
              "  <tbody>\n",
              "    <tr>\n",
              "      <th>0</th>\n",
              "      <td>ProstateX-0000</td>\n",
              "      <td>1</td>\n",
              "      <td>25.7457 31.8707 -38.511</td>\n",
              "      <td>PZ</td>\n",
              "      <td>3</td>\n",
              "    </tr>\n",
              "    <tr>\n",
              "      <th>1</th>\n",
              "      <td>ProstateX-0001</td>\n",
              "      <td>1</td>\n",
              "      <td>-40.5367071921656 29.320722668457 -16.70766907...</td>\n",
              "      <td>AS</td>\n",
              "      <td>1</td>\n",
              "    </tr>\n",
              "    <tr>\n",
              "      <th>2</th>\n",
              "      <td>ProstateX-0002</td>\n",
              "      <td>1</td>\n",
              "      <td>-27.0102 41.5467 -26.0469</td>\n",
              "      <td>PZ</td>\n",
              "      <td>2</td>\n",
              "    </tr>\n",
              "    <tr>\n",
              "      <th>3</th>\n",
              "      <td>ProstateX-0002</td>\n",
              "      <td>2</td>\n",
              "      <td>-2.058 38.6752 -34.6104</td>\n",
              "      <td>PZ</td>\n",
              "      <td>1</td>\n",
              "    </tr>\n",
              "    <tr>\n",
              "      <th>4</th>\n",
              "      <td>ProstateX-0004</td>\n",
              "      <td>1</td>\n",
              "      <td>-7.69665 3.64226 23.1659</td>\n",
              "      <td>AS</td>\n",
              "      <td>1</td>\n",
              "    </tr>\n",
              "  </tbody>\n",
              "</table>\n",
              "</div>\n",
              "    <div class=\"colab-df-buttons\">\n",
              "\n",
              "  <div class=\"colab-df-container\">\n",
              "    <button class=\"colab-df-convert\" onclick=\"convertToInteractive('df-745ebfbf-6773-4dd3-8bee-af34f3949879')\"\n",
              "            title=\"Convert this dataframe to an interactive table.\"\n",
              "            style=\"display:none;\">\n",
              "\n",
              "  <svg xmlns=\"http://www.w3.org/2000/svg\" height=\"24px\" viewBox=\"0 -960 960 960\">\n",
              "    <path d=\"M120-120v-720h720v720H120Zm60-500h600v-160H180v160Zm220 220h160v-160H400v160Zm0 220h160v-160H400v160ZM180-400h160v-160H180v160Zm440 0h160v-160H620v160ZM180-180h160v-160H180v160Zm440 0h160v-160H620v160Z\"/>\n",
              "  </svg>\n",
              "    </button>\n",
              "\n",
              "  <style>\n",
              "    .colab-df-container {\n",
              "      display:flex;\n",
              "      gap: 12px;\n",
              "    }\n",
              "\n",
              "    .colab-df-convert {\n",
              "      background-color: #E8F0FE;\n",
              "      border: none;\n",
              "      border-radius: 50%;\n",
              "      cursor: pointer;\n",
              "      display: none;\n",
              "      fill: #1967D2;\n",
              "      height: 32px;\n",
              "      padding: 0 0 0 0;\n",
              "      width: 32px;\n",
              "    }\n",
              "\n",
              "    .colab-df-convert:hover {\n",
              "      background-color: #E2EBFA;\n",
              "      box-shadow: 0px 1px 2px rgba(60, 64, 67, 0.3), 0px 1px 3px 1px rgba(60, 64, 67, 0.15);\n",
              "      fill: #174EA6;\n",
              "    }\n",
              "\n",
              "    .colab-df-buttons div {\n",
              "      margin-bottom: 4px;\n",
              "    }\n",
              "\n",
              "    [theme=dark] .colab-df-convert {\n",
              "      background-color: #3B4455;\n",
              "      fill: #D2E3FC;\n",
              "    }\n",
              "\n",
              "    [theme=dark] .colab-df-convert:hover {\n",
              "      background-color: #434B5C;\n",
              "      box-shadow: 0px 1px 3px 1px rgba(0, 0, 0, 0.15);\n",
              "      filter: drop-shadow(0px 1px 2px rgba(0, 0, 0, 0.3));\n",
              "      fill: #FFFFFF;\n",
              "    }\n",
              "  </style>\n",
              "\n",
              "    <script>\n",
              "      const buttonEl =\n",
              "        document.querySelector('#df-745ebfbf-6773-4dd3-8bee-af34f3949879 button.colab-df-convert');\n",
              "      buttonEl.style.display =\n",
              "        google.colab.kernel.accessAllowed ? 'block' : 'none';\n",
              "\n",
              "      async function convertToInteractive(key) {\n",
              "        const element = document.querySelector('#df-745ebfbf-6773-4dd3-8bee-af34f3949879');\n",
              "        const dataTable =\n",
              "          await google.colab.kernel.invokeFunction('convertToInteractive',\n",
              "                                                    [key], {});\n",
              "        if (!dataTable) return;\n",
              "\n",
              "        const docLinkHtml = 'Like what you see? Visit the ' +\n",
              "          '<a target=\"_blank\" href=https://colab.research.google.com/notebooks/data_table.ipynb>data table notebook</a>'\n",
              "          + ' to learn more about interactive tables.';\n",
              "        element.innerHTML = '';\n",
              "        dataTable['output_type'] = 'display_data';\n",
              "        await google.colab.output.renderOutput(dataTable, element);\n",
              "        const docLink = document.createElement('div');\n",
              "        docLink.innerHTML = docLinkHtml;\n",
              "        element.appendChild(docLink);\n",
              "      }\n",
              "    </script>\n",
              "  </div>\n",
              "\n",
              "\n",
              "<div id=\"df-fb173aa1-8926-4be1-a74b-e86dde988955\">\n",
              "  <button class=\"colab-df-quickchart\" onclick=\"quickchart('df-fb173aa1-8926-4be1-a74b-e86dde988955')\"\n",
              "            title=\"Suggest charts\"\n",
              "            style=\"display:none;\">\n",
              "\n",
              "<svg xmlns=\"http://www.w3.org/2000/svg\" height=\"24px\"viewBox=\"0 0 24 24\"\n",
              "     width=\"24px\">\n",
              "    <g>\n",
              "        <path d=\"M19 3H5c-1.1 0-2 .9-2 2v14c0 1.1.9 2 2 2h14c1.1 0 2-.9 2-2V5c0-1.1-.9-2-2-2zM9 17H7v-7h2v7zm4 0h-2V7h2v10zm4 0h-2v-4h2v4z\"/>\n",
              "    </g>\n",
              "</svg>\n",
              "  </button>\n",
              "\n",
              "<style>\n",
              "  .colab-df-quickchart {\n",
              "      --bg-color: #E8F0FE;\n",
              "      --fill-color: #1967D2;\n",
              "      --hover-bg-color: #E2EBFA;\n",
              "      --hover-fill-color: #174EA6;\n",
              "      --disabled-fill-color: #AAA;\n",
              "      --disabled-bg-color: #DDD;\n",
              "  }\n",
              "\n",
              "  [theme=dark] .colab-df-quickchart {\n",
              "      --bg-color: #3B4455;\n",
              "      --fill-color: #D2E3FC;\n",
              "      --hover-bg-color: #434B5C;\n",
              "      --hover-fill-color: #FFFFFF;\n",
              "      --disabled-bg-color: #3B4455;\n",
              "      --disabled-fill-color: #666;\n",
              "  }\n",
              "\n",
              "  .colab-df-quickchart {\n",
              "    background-color: var(--bg-color);\n",
              "    border: none;\n",
              "    border-radius: 50%;\n",
              "    cursor: pointer;\n",
              "    display: none;\n",
              "    fill: var(--fill-color);\n",
              "    height: 32px;\n",
              "    padding: 0;\n",
              "    width: 32px;\n",
              "  }\n",
              "\n",
              "  .colab-df-quickchart:hover {\n",
              "    background-color: var(--hover-bg-color);\n",
              "    box-shadow: 0 1px 2px rgba(60, 64, 67, 0.3), 0 1px 3px 1px rgba(60, 64, 67, 0.15);\n",
              "    fill: var(--button-hover-fill-color);\n",
              "  }\n",
              "\n",
              "  .colab-df-quickchart-complete:disabled,\n",
              "  .colab-df-quickchart-complete:disabled:hover {\n",
              "    background-color: var(--disabled-bg-color);\n",
              "    fill: var(--disabled-fill-color);\n",
              "    box-shadow: none;\n",
              "  }\n",
              "\n",
              "  .colab-df-spinner {\n",
              "    border: 2px solid var(--fill-color);\n",
              "    border-color: transparent;\n",
              "    border-bottom-color: var(--fill-color);\n",
              "    animation:\n",
              "      spin 1s steps(1) infinite;\n",
              "  }\n",
              "\n",
              "  @keyframes spin {\n",
              "    0% {\n",
              "      border-color: transparent;\n",
              "      border-bottom-color: var(--fill-color);\n",
              "      border-left-color: var(--fill-color);\n",
              "    }\n",
              "    20% {\n",
              "      border-color: transparent;\n",
              "      border-left-color: var(--fill-color);\n",
              "      border-top-color: var(--fill-color);\n",
              "    }\n",
              "    30% {\n",
              "      border-color: transparent;\n",
              "      border-left-color: var(--fill-color);\n",
              "      border-top-color: var(--fill-color);\n",
              "      border-right-color: var(--fill-color);\n",
              "    }\n",
              "    40% {\n",
              "      border-color: transparent;\n",
              "      border-right-color: var(--fill-color);\n",
              "      border-top-color: var(--fill-color);\n",
              "    }\n",
              "    60% {\n",
              "      border-color: transparent;\n",
              "      border-right-color: var(--fill-color);\n",
              "    }\n",
              "    80% {\n",
              "      border-color: transparent;\n",
              "      border-right-color: var(--fill-color);\n",
              "      border-bottom-color: var(--fill-color);\n",
              "    }\n",
              "    90% {\n",
              "      border-color: transparent;\n",
              "      border-bottom-color: var(--fill-color);\n",
              "    }\n",
              "  }\n",
              "</style>\n",
              "\n",
              "  <script>\n",
              "    async function quickchart(key) {\n",
              "      const quickchartButtonEl =\n",
              "        document.querySelector('#' + key + ' button');\n",
              "      quickchartButtonEl.disabled = true;  // To prevent multiple clicks.\n",
              "      quickchartButtonEl.classList.add('colab-df-spinner');\n",
              "      try {\n",
              "        const charts = await google.colab.kernel.invokeFunction(\n",
              "            'suggestCharts', [key], {});\n",
              "      } catch (error) {\n",
              "        console.error('Error during call to suggestCharts:', error);\n",
              "      }\n",
              "      quickchartButtonEl.classList.remove('colab-df-spinner');\n",
              "      quickchartButtonEl.classList.add('colab-df-quickchart-complete');\n",
              "    }\n",
              "    (() => {\n",
              "      let quickchartButtonEl =\n",
              "        document.querySelector('#df-fb173aa1-8926-4be1-a74b-e86dde988955 button');\n",
              "      quickchartButtonEl.style.display =\n",
              "        google.colab.kernel.accessAllowed ? 'block' : 'none';\n",
              "    })();\n",
              "  </script>\n",
              "</div>\n",
              "\n",
              "    </div>\n",
              "  </div>\n"
            ],
            "application/vnd.google.colaboratory.intrinsic+json": {
              "type": "dataframe",
              "variable_name": "df_train_findings2",
              "summary": "{\n  \"name\": \"df_train_findings2\",\n  \"rows\": 112,\n  \"fields\": [\n    {\n      \"column\": \"ProxID\",\n      \"properties\": {\n        \"dtype\": \"string\",\n        \"num_unique_values\": 99,\n        \"samples\": [\n          \"ProstateX-0142\",\n          \"ProstateX-0110\",\n          \"ProstateX-0200\"\n        ],\n        \"semantic_type\": \"\",\n        \"description\": \"\"\n      }\n    },\n    {\n      \"column\": \"fid\",\n      \"properties\": {\n        \"dtype\": \"number\",\n        \"std\": 0,\n        \"min\": 0,\n        \"max\": 4,\n        \"num_unique_values\": 5,\n        \"samples\": [\n          2,\n          3,\n          0\n        ],\n        \"semantic_type\": \"\",\n        \"description\": \"\"\n      }\n    },\n    {\n      \"column\": \"pos\",\n      \"properties\": {\n        \"dtype\": \"string\",\n        \"num_unique_values\": 112,\n        \"samples\": [\n          \"0.78662 -1.83101 1.89299\",\n          \"-11.8805 28.3133 17.5188\",\n          \"-7.69665 3.64226 23.1659\"\n        ],\n        \"semantic_type\": \"\",\n        \"description\": \"\"\n      }\n    },\n    {\n      \"column\": \"zone\",\n      \"properties\": {\n        \"dtype\": \"category\",\n        \"num_unique_values\": 3,\n        \"samples\": [\n          \"PZ\",\n          \"AS\",\n          \"TZ\"\n        ],\n        \"semantic_type\": \"\",\n        \"description\": \"\"\n      }\n    },\n    {\n      \"column\": \"ggg\",\n      \"properties\": {\n        \"dtype\": \"number\",\n        \"std\": 1,\n        \"min\": 1,\n        \"max\": 5,\n        \"num_unique_values\": 5,\n        \"samples\": [\n          1,\n          5,\n          2\n        ],\n        \"semantic_type\": \"\",\n        \"description\": \"\"\n      }\n    }\n  ]\n}"
            }
          },
          "metadata": {},
          "execution_count": 24
        }
      ]
    },
    {
      "cell_type": "markdown",
      "source": [
        "## Join the dfs to include GGG if provided"
      ],
      "metadata": {
        "id": "4MGw7RLSDISZ"
      }
    },
    {
      "cell_type": "code",
      "source": [
        "# First merge to create single version 1 train, and version 1 test dfs\n",
        "df_train1 = pd.merge(left=df_train_info1, right=df_train_findings1, how=\"inner\", on=['ProxID', 'fid', 'pos'])\n",
        "df_test1 = pd.merge(left=df_test_info1, right=df_test_findings1, how=\"inner\", on=['ProxID', 'fid', 'pos'])\n",
        "\n",
        "# Then merge to create single version 2 train, and version 2 test dfs\n",
        "df_train2 = pd.merge(left=df_train_info2, right=df_train_findings2, how=\"inner\", on=['ProxID', 'fid', 'pos'])\n",
        "df_test2 = pd.merge(left=df_test_info1, right=df_test_findings2, how=\"inner\", on=['ProxID', 'fid', 'pos'])\n",
        "\n",
        "# Then concat to create v1 and v2 dfs\n",
        "df_v1 = pd.concat([df_train1, df_test1])\n",
        "df_v2 = pd.concat([df_train2, df_test2])\n",
        "\n",
        "# Remove TopLevel from each, not sure what it's used for, and they are different between v1 and v2\n",
        "df_v1 = df_v1.drop('TopLevel', axis=1)\n",
        "df_v2 = df_v2.drop('TopLevel', axis=1)\n",
        "\n",
        "# Then merge to create single df\n",
        "df_prostatex = pd.merge(left=df_v2, right=df_v1, how=\"outer\", on=['ProxID', 'Name', 'fid', 'pos',\n",
        "                                                                  'WorldMatrix', 'ijk',\n",
        "                                                                  'SpacingBetweenSlices', 'VoxelSpacing', 'Dim',\n",
        "                                                                  'DCMSerDescr', 'DCMSerNum',\n",
        "                                                                  'zone'])"
      ],
      "metadata": {
        "id": "N-MoWm1rDPB7"
      },
      "execution_count": 25,
      "outputs": []
    },
    {
      "cell_type": "code",
      "source": [
        "len(df_prostatex.ProxID.unique()) # should be close to 346"
      ],
      "metadata": {
        "colab": {
          "base_uri": "https://localhost:8080/"
        },
        "id": "2Pqpmvx5GnA5",
        "outputId": "7cbdf8cd-2520-47d2-81b0-aaa326ec4c9c"
      },
      "execution_count": 26,
      "outputs": [
        {
          "output_type": "execute_result",
          "data": {
            "text/plain": [
              "344"
            ]
          },
          "metadata": {},
          "execution_count": 26
        }
      ]
    },
    {
      "cell_type": "code",
      "source": [
        "df_prostatex.head()"
      ],
      "metadata": {
        "colab": {
          "base_uri": "https://localhost:8080/",
          "height": 400
        },
        "id": "v3HesIjnFsH5",
        "outputId": "4c67dd6e-351f-4bd5-c98c-2e8c4dc7097c"
      },
      "execution_count": 27,
      "outputs": [
        {
          "output_type": "execute_result",
          "data": {
            "text/plain": [
              "           ProxID                             Name   studydate  fid  \\\n",
              "0  ProstateX-0000           ep2d_diff_tra_DYNDIST0         NaN    1   \n",
              "1  ProstateX-0000           ep2d_diff_tra_DYNDIST1         NaN    1   \n",
              "2  ProstateX-0000           ep2d_diff_tra_DYNDIST2         NaN    1   \n",
              "3  ProstateX-0000  ep2d_diff_tra_DYNDISTCALC_BVAL0  20120103.0    1   \n",
              "4  ProstateX-0000       ep2d_diff_tra_DYNDIST_ADC0  20120103.0    1   \n",
              "\n",
              "                       pos                                        WorldMatrix  \\\n",
              "0  25.7457 31.8707 -38.511  2,4.0067e-010,0.00377059,-46.6873,-0.000797221...   \n",
              "1  25.7457 31.8707 -38.511  2,4.0067e-010,0.00377059,-46.6873,-0.000797221...   \n",
              "2  25.7457 31.8707 -38.511  2,4.0067e-010,0.00377059,-46.6873,-0.000797221...   \n",
              "3  25.7457 31.8707 -38.511  2,4.0067e-010,0.00377059,-46.6873,-0.000797221...   \n",
              "4  25.7457 31.8707 -38.511  2,4.0067e-010,0.00377059,-46.6873,-0.000797221...   \n",
              "\n",
              "       ijk  SpacingBetweenSlices VoxelSpacing          Dim  \\\n",
              "0  36 72 9                   3.0        2,2,3  84x128x19x1   \n",
              "1  36 72 9                   3.0        2,2,3  84x128x19x1   \n",
              "2  36 72 9                   3.0        2,2,3  84x128x19x1   \n",
              "3  36 72 9                   3.0        2,2,3  84x128x19x1   \n",
              "4  36 72 9                   3.0        2,2,3  84x128x19x1   \n",
              "\n",
              "                      DCMSerDescr  DCMSerNum  \\\n",
              "0           ep2d_diff_tra_DYNDIST          6   \n",
              "1           ep2d_diff_tra_DYNDIST          6   \n",
              "2           ep2d_diff_tra_DYNDIST          6   \n",
              "3  ep2d_diff_tra_DYNDISTCALC_BVAL          8   \n",
              "4       ep2d_diff_tra_DYNDIST_ADC          7   \n",
              "\n",
              "                                           DCMSerUID zone  ggg ClinSig  \n",
              "0                                                NaN   PZ  NaN    True  \n",
              "1                                                NaN   PZ  NaN    True  \n",
              "2                                                NaN   PZ  NaN    True  \n",
              "3  1.3.6.1.4.1.14519.5.2.1.7311.5101.338465037878...   PZ  3.0    True  \n",
              "4  1.3.6.1.4.1.14519.5.2.1.7311.5101.339319789559...   PZ  3.0    True  "
            ],
            "text/html": [
              "\n",
              "  <div id=\"df-120c6a60-26a8-4b13-a63d-77a626175254\" class=\"colab-df-container\">\n",
              "    <div>\n",
              "<style scoped>\n",
              "    .dataframe tbody tr th:only-of-type {\n",
              "        vertical-align: middle;\n",
              "    }\n",
              "\n",
              "    .dataframe tbody tr th {\n",
              "        vertical-align: top;\n",
              "    }\n",
              "\n",
              "    .dataframe thead th {\n",
              "        text-align: right;\n",
              "    }\n",
              "</style>\n",
              "<table border=\"1\" class=\"dataframe\">\n",
              "  <thead>\n",
              "    <tr style=\"text-align: right;\">\n",
              "      <th></th>\n",
              "      <th>ProxID</th>\n",
              "      <th>Name</th>\n",
              "      <th>studydate</th>\n",
              "      <th>fid</th>\n",
              "      <th>pos</th>\n",
              "      <th>WorldMatrix</th>\n",
              "      <th>ijk</th>\n",
              "      <th>SpacingBetweenSlices</th>\n",
              "      <th>VoxelSpacing</th>\n",
              "      <th>Dim</th>\n",
              "      <th>DCMSerDescr</th>\n",
              "      <th>DCMSerNum</th>\n",
              "      <th>DCMSerUID</th>\n",
              "      <th>zone</th>\n",
              "      <th>ggg</th>\n",
              "      <th>ClinSig</th>\n",
              "    </tr>\n",
              "  </thead>\n",
              "  <tbody>\n",
              "    <tr>\n",
              "      <th>0</th>\n",
              "      <td>ProstateX-0000</td>\n",
              "      <td>ep2d_diff_tra_DYNDIST0</td>\n",
              "      <td>NaN</td>\n",
              "      <td>1</td>\n",
              "      <td>25.7457 31.8707 -38.511</td>\n",
              "      <td>2,4.0067e-010,0.00377059,-46.6873,-0.000797221...</td>\n",
              "      <td>36 72 9</td>\n",
              "      <td>3.0</td>\n",
              "      <td>2,2,3</td>\n",
              "      <td>84x128x19x1</td>\n",
              "      <td>ep2d_diff_tra_DYNDIST</td>\n",
              "      <td>6</td>\n",
              "      <td>NaN</td>\n",
              "      <td>PZ</td>\n",
              "      <td>NaN</td>\n",
              "      <td>True</td>\n",
              "    </tr>\n",
              "    <tr>\n",
              "      <th>1</th>\n",
              "      <td>ProstateX-0000</td>\n",
              "      <td>ep2d_diff_tra_DYNDIST1</td>\n",
              "      <td>NaN</td>\n",
              "      <td>1</td>\n",
              "      <td>25.7457 31.8707 -38.511</td>\n",
              "      <td>2,4.0067e-010,0.00377059,-46.6873,-0.000797221...</td>\n",
              "      <td>36 72 9</td>\n",
              "      <td>3.0</td>\n",
              "      <td>2,2,3</td>\n",
              "      <td>84x128x19x1</td>\n",
              "      <td>ep2d_diff_tra_DYNDIST</td>\n",
              "      <td>6</td>\n",
              "      <td>NaN</td>\n",
              "      <td>PZ</td>\n",
              "      <td>NaN</td>\n",
              "      <td>True</td>\n",
              "    </tr>\n",
              "    <tr>\n",
              "      <th>2</th>\n",
              "      <td>ProstateX-0000</td>\n",
              "      <td>ep2d_diff_tra_DYNDIST2</td>\n",
              "      <td>NaN</td>\n",
              "      <td>1</td>\n",
              "      <td>25.7457 31.8707 -38.511</td>\n",
              "      <td>2,4.0067e-010,0.00377059,-46.6873,-0.000797221...</td>\n",
              "      <td>36 72 9</td>\n",
              "      <td>3.0</td>\n",
              "      <td>2,2,3</td>\n",
              "      <td>84x128x19x1</td>\n",
              "      <td>ep2d_diff_tra_DYNDIST</td>\n",
              "      <td>6</td>\n",
              "      <td>NaN</td>\n",
              "      <td>PZ</td>\n",
              "      <td>NaN</td>\n",
              "      <td>True</td>\n",
              "    </tr>\n",
              "    <tr>\n",
              "      <th>3</th>\n",
              "      <td>ProstateX-0000</td>\n",
              "      <td>ep2d_diff_tra_DYNDISTCALC_BVAL0</td>\n",
              "      <td>20120103.0</td>\n",
              "      <td>1</td>\n",
              "      <td>25.7457 31.8707 -38.511</td>\n",
              "      <td>2,4.0067e-010,0.00377059,-46.6873,-0.000797221...</td>\n",
              "      <td>36 72 9</td>\n",
              "      <td>3.0</td>\n",
              "      <td>2,2,3</td>\n",
              "      <td>84x128x19x1</td>\n",
              "      <td>ep2d_diff_tra_DYNDISTCALC_BVAL</td>\n",
              "      <td>8</td>\n",
              "      <td>1.3.6.1.4.1.14519.5.2.1.7311.5101.338465037878...</td>\n",
              "      <td>PZ</td>\n",
              "      <td>3.0</td>\n",
              "      <td>True</td>\n",
              "    </tr>\n",
              "    <tr>\n",
              "      <th>4</th>\n",
              "      <td>ProstateX-0000</td>\n",
              "      <td>ep2d_diff_tra_DYNDIST_ADC0</td>\n",
              "      <td>20120103.0</td>\n",
              "      <td>1</td>\n",
              "      <td>25.7457 31.8707 -38.511</td>\n",
              "      <td>2,4.0067e-010,0.00377059,-46.6873,-0.000797221...</td>\n",
              "      <td>36 72 9</td>\n",
              "      <td>3.0</td>\n",
              "      <td>2,2,3</td>\n",
              "      <td>84x128x19x1</td>\n",
              "      <td>ep2d_diff_tra_DYNDIST_ADC</td>\n",
              "      <td>7</td>\n",
              "      <td>1.3.6.1.4.1.14519.5.2.1.7311.5101.339319789559...</td>\n",
              "      <td>PZ</td>\n",
              "      <td>3.0</td>\n",
              "      <td>True</td>\n",
              "    </tr>\n",
              "  </tbody>\n",
              "</table>\n",
              "</div>\n",
              "    <div class=\"colab-df-buttons\">\n",
              "\n",
              "  <div class=\"colab-df-container\">\n",
              "    <button class=\"colab-df-convert\" onclick=\"convertToInteractive('df-120c6a60-26a8-4b13-a63d-77a626175254')\"\n",
              "            title=\"Convert this dataframe to an interactive table.\"\n",
              "            style=\"display:none;\">\n",
              "\n",
              "  <svg xmlns=\"http://www.w3.org/2000/svg\" height=\"24px\" viewBox=\"0 -960 960 960\">\n",
              "    <path d=\"M120-120v-720h720v720H120Zm60-500h600v-160H180v160Zm220 220h160v-160H400v160Zm0 220h160v-160H400v160ZM180-400h160v-160H180v160Zm440 0h160v-160H620v160ZM180-180h160v-160H180v160Zm440 0h160v-160H620v160Z\"/>\n",
              "  </svg>\n",
              "    </button>\n",
              "\n",
              "  <style>\n",
              "    .colab-df-container {\n",
              "      display:flex;\n",
              "      gap: 12px;\n",
              "    }\n",
              "\n",
              "    .colab-df-convert {\n",
              "      background-color: #E8F0FE;\n",
              "      border: none;\n",
              "      border-radius: 50%;\n",
              "      cursor: pointer;\n",
              "      display: none;\n",
              "      fill: #1967D2;\n",
              "      height: 32px;\n",
              "      padding: 0 0 0 0;\n",
              "      width: 32px;\n",
              "    }\n",
              "\n",
              "    .colab-df-convert:hover {\n",
              "      background-color: #E2EBFA;\n",
              "      box-shadow: 0px 1px 2px rgba(60, 64, 67, 0.3), 0px 1px 3px 1px rgba(60, 64, 67, 0.15);\n",
              "      fill: #174EA6;\n",
              "    }\n",
              "\n",
              "    .colab-df-buttons div {\n",
              "      margin-bottom: 4px;\n",
              "    }\n",
              "\n",
              "    [theme=dark] .colab-df-convert {\n",
              "      background-color: #3B4455;\n",
              "      fill: #D2E3FC;\n",
              "    }\n",
              "\n",
              "    [theme=dark] .colab-df-convert:hover {\n",
              "      background-color: #434B5C;\n",
              "      box-shadow: 0px 1px 3px 1px rgba(0, 0, 0, 0.15);\n",
              "      filter: drop-shadow(0px 1px 2px rgba(0, 0, 0, 0.3));\n",
              "      fill: #FFFFFF;\n",
              "    }\n",
              "  </style>\n",
              "\n",
              "    <script>\n",
              "      const buttonEl =\n",
              "        document.querySelector('#df-120c6a60-26a8-4b13-a63d-77a626175254 button.colab-df-convert');\n",
              "      buttonEl.style.display =\n",
              "        google.colab.kernel.accessAllowed ? 'block' : 'none';\n",
              "\n",
              "      async function convertToInteractive(key) {\n",
              "        const element = document.querySelector('#df-120c6a60-26a8-4b13-a63d-77a626175254');\n",
              "        const dataTable =\n",
              "          await google.colab.kernel.invokeFunction('convertToInteractive',\n",
              "                                                    [key], {});\n",
              "        if (!dataTable) return;\n",
              "\n",
              "        const docLinkHtml = 'Like what you see? Visit the ' +\n",
              "          '<a target=\"_blank\" href=https://colab.research.google.com/notebooks/data_table.ipynb>data table notebook</a>'\n",
              "          + ' to learn more about interactive tables.';\n",
              "        element.innerHTML = '';\n",
              "        dataTable['output_type'] = 'display_data';\n",
              "        await google.colab.output.renderOutput(dataTable, element);\n",
              "        const docLink = document.createElement('div');\n",
              "        docLink.innerHTML = docLinkHtml;\n",
              "        element.appendChild(docLink);\n",
              "      }\n",
              "    </script>\n",
              "  </div>\n",
              "\n",
              "\n",
              "<div id=\"df-dd43f137-fcee-4928-b665-65195b50901c\">\n",
              "  <button class=\"colab-df-quickchart\" onclick=\"quickchart('df-dd43f137-fcee-4928-b665-65195b50901c')\"\n",
              "            title=\"Suggest charts\"\n",
              "            style=\"display:none;\">\n",
              "\n",
              "<svg xmlns=\"http://www.w3.org/2000/svg\" height=\"24px\"viewBox=\"0 0 24 24\"\n",
              "     width=\"24px\">\n",
              "    <g>\n",
              "        <path d=\"M19 3H5c-1.1 0-2 .9-2 2v14c0 1.1.9 2 2 2h14c1.1 0 2-.9 2-2V5c0-1.1-.9-2-2-2zM9 17H7v-7h2v7zm4 0h-2V7h2v10zm4 0h-2v-4h2v4z\"/>\n",
              "    </g>\n",
              "</svg>\n",
              "  </button>\n",
              "\n",
              "<style>\n",
              "  .colab-df-quickchart {\n",
              "      --bg-color: #E8F0FE;\n",
              "      --fill-color: #1967D2;\n",
              "      --hover-bg-color: #E2EBFA;\n",
              "      --hover-fill-color: #174EA6;\n",
              "      --disabled-fill-color: #AAA;\n",
              "      --disabled-bg-color: #DDD;\n",
              "  }\n",
              "\n",
              "  [theme=dark] .colab-df-quickchart {\n",
              "      --bg-color: #3B4455;\n",
              "      --fill-color: #D2E3FC;\n",
              "      --hover-bg-color: #434B5C;\n",
              "      --hover-fill-color: #FFFFFF;\n",
              "      --disabled-bg-color: #3B4455;\n",
              "      --disabled-fill-color: #666;\n",
              "  }\n",
              "\n",
              "  .colab-df-quickchart {\n",
              "    background-color: var(--bg-color);\n",
              "    border: none;\n",
              "    border-radius: 50%;\n",
              "    cursor: pointer;\n",
              "    display: none;\n",
              "    fill: var(--fill-color);\n",
              "    height: 32px;\n",
              "    padding: 0;\n",
              "    width: 32px;\n",
              "  }\n",
              "\n",
              "  .colab-df-quickchart:hover {\n",
              "    background-color: var(--hover-bg-color);\n",
              "    box-shadow: 0 1px 2px rgba(60, 64, 67, 0.3), 0 1px 3px 1px rgba(60, 64, 67, 0.15);\n",
              "    fill: var(--button-hover-fill-color);\n",
              "  }\n",
              "\n",
              "  .colab-df-quickchart-complete:disabled,\n",
              "  .colab-df-quickchart-complete:disabled:hover {\n",
              "    background-color: var(--disabled-bg-color);\n",
              "    fill: var(--disabled-fill-color);\n",
              "    box-shadow: none;\n",
              "  }\n",
              "\n",
              "  .colab-df-spinner {\n",
              "    border: 2px solid var(--fill-color);\n",
              "    border-color: transparent;\n",
              "    border-bottom-color: var(--fill-color);\n",
              "    animation:\n",
              "      spin 1s steps(1) infinite;\n",
              "  }\n",
              "\n",
              "  @keyframes spin {\n",
              "    0% {\n",
              "      border-color: transparent;\n",
              "      border-bottom-color: var(--fill-color);\n",
              "      border-left-color: var(--fill-color);\n",
              "    }\n",
              "    20% {\n",
              "      border-color: transparent;\n",
              "      border-left-color: var(--fill-color);\n",
              "      border-top-color: var(--fill-color);\n",
              "    }\n",
              "    30% {\n",
              "      border-color: transparent;\n",
              "      border-left-color: var(--fill-color);\n",
              "      border-top-color: var(--fill-color);\n",
              "      border-right-color: var(--fill-color);\n",
              "    }\n",
              "    40% {\n",
              "      border-color: transparent;\n",
              "      border-right-color: var(--fill-color);\n",
              "      border-top-color: var(--fill-color);\n",
              "    }\n",
              "    60% {\n",
              "      border-color: transparent;\n",
              "      border-right-color: var(--fill-color);\n",
              "    }\n",
              "    80% {\n",
              "      border-color: transparent;\n",
              "      border-right-color: var(--fill-color);\n",
              "      border-bottom-color: var(--fill-color);\n",
              "    }\n",
              "    90% {\n",
              "      border-color: transparent;\n",
              "      border-bottom-color: var(--fill-color);\n",
              "    }\n",
              "  }\n",
              "</style>\n",
              "\n",
              "  <script>\n",
              "    async function quickchart(key) {\n",
              "      const quickchartButtonEl =\n",
              "        document.querySelector('#' + key + ' button');\n",
              "      quickchartButtonEl.disabled = true;  // To prevent multiple clicks.\n",
              "      quickchartButtonEl.classList.add('colab-df-spinner');\n",
              "      try {\n",
              "        const charts = await google.colab.kernel.invokeFunction(\n",
              "            'suggestCharts', [key], {});\n",
              "      } catch (error) {\n",
              "        console.error('Error during call to suggestCharts:', error);\n",
              "      }\n",
              "      quickchartButtonEl.classList.remove('colab-df-spinner');\n",
              "      quickchartButtonEl.classList.add('colab-df-quickchart-complete');\n",
              "    }\n",
              "    (() => {\n",
              "      let quickchartButtonEl =\n",
              "        document.querySelector('#df-dd43f137-fcee-4928-b665-65195b50901c button');\n",
              "      quickchartButtonEl.style.display =\n",
              "        google.colab.kernel.accessAllowed ? 'block' : 'none';\n",
              "    })();\n",
              "  </script>\n",
              "</div>\n",
              "\n",
              "    </div>\n",
              "  </div>\n"
            ],
            "application/vnd.google.colaboratory.intrinsic+json": {
              "type": "dataframe",
              "variable_name": "df_prostatex",
              "summary": "{\n  \"name\": \"df_prostatex\",\n  \"rows\": 5640,\n  \"fields\": [\n    {\n      \"column\": \"ProxID\",\n      \"properties\": {\n        \"dtype\": \"category\",\n        \"num_unique_values\": 344,\n        \"samples\": [\n          \"ProstateX-0194\",\n          \"ProstateX-0157\",\n          \"ProstateX-0225\"\n        ],\n        \"semantic_type\": \"\",\n        \"description\": \"\"\n      }\n    },\n    {\n      \"column\": \"Name\",\n      \"properties\": {\n        \"dtype\": \"category\",\n        \"num_unique_values\": 246,\n        \"samples\": [\n          \"Perfusie_t1_twist_1_3x1_3x3_temp_2s_TT_115_5s0\",\n          \"t2_tse_sag0\",\n          \"Twist_dynamic_Wip576_TT_252_5s0\"\n        ],\n        \"semantic_type\": \"\",\n        \"description\": \"\"\n      }\n    },\n    {\n      \"column\": \"studydate\",\n      \"properties\": {\n        \"dtype\": \"number\",\n        \"std\": 310.91691517185285,\n        \"min\": 20120103.0,\n        \"max\": 20121212.0,\n        \"num_unique_values\": 79,\n        \"samples\": [\n          20120714.0,\n          20120103.0,\n          20120617.0\n        ],\n        \"semantic_type\": \"\",\n        \"description\": \"\"\n      }\n    },\n    {\n      \"column\": \"fid\",\n      \"properties\": {\n        \"dtype\": \"number\",\n        \"std\": 0,\n        \"min\": 0,\n        \"max\": 4,\n        \"num_unique_values\": 5,\n        \"samples\": [\n          2,\n          3,\n          0\n        ],\n        \"semantic_type\": \"\",\n        \"description\": \"\"\n      }\n    },\n    {\n      \"column\": \"pos\",\n      \"properties\": {\n        \"dtype\": \"category\",\n        \"num_unique_values\": 538,\n        \"samples\": [\n          \"0.810831 58.4172 5.43955\",\n          \"-7.8659 55.0028 38.3943\",\n          \"21.6087 40.6789 -61.819\"\n        ],\n        \"semantic_type\": \"\",\n        \"description\": \"\"\n      }\n    },\n    {\n      \"column\": \"WorldMatrix\",\n      \"properties\": {\n        \"dtype\": \"category\",\n        \"num_unique_values\": 1715,\n        \"samples\": [\n          \"0.6,0,0,-60.4555,0,-0.0658406,2.98188,17.3533,0,-0.596377,-0.329203,30.7596,0,0,0,1\",\n          \"0.5,1.02552e-010,4.99055e-017,-108.603,-1.01345e-010,0.494114,0.458958,-88.476,1.5689e-011,-0.0764929,2.96469,42.4126,0,0,0,1\",\n          \"0,0,-3.6,58.2964,0.5625,0,0,-41.9578,0,-0.5625,0,68.1126,0,0,0,1\"\n        ],\n        \"semantic_type\": \"\",\n        \"description\": \"\"\n      }\n    },\n    {\n      \"column\": \"ijk\",\n      \"properties\": {\n        \"dtype\": \"category\",\n        \"num_unique_values\": 2812,\n        \"samples\": [\n          \"177 184 15\",\n          \"149 144 17\",\n          \"155 207 6\"\n        ],\n        \"semantic_type\": \"\",\n        \"description\": \"\"\n      }\n    },\n    {\n      \"column\": \"SpacingBetweenSlices\",\n      \"properties\": {\n        \"dtype\": \"number\",\n        \"std\": 8.520556814871943,\n        \"min\": 2.0,\n        \"max\": 58.3881,\n        \"num_unique_values\": 17,\n        \"samples\": [\n          3.0,\n          3.6,\n          4.5\n        ],\n        \"semantic_type\": \"\",\n        \"description\": \"\"\n      }\n    },\n    {\n      \"column\": \"VoxelSpacing\",\n      \"properties\": {\n        \"dtype\": \"category\",\n        \"num_unique_values\": 55,\n        \"samples\": [\n          \"1.30208,1.30208,3\",\n          \"1.5625,1.5625,10.5\",\n          \"0.5625,0.5625,3.03\"\n        ],\n        \"semantic_type\": \"\",\n        \"description\": \"\"\n      }\n    },\n    {\n      \"column\": \"Dim\",\n      \"properties\": {\n        \"dtype\": \"category\",\n        \"num_unique_values\": 53,\n        \"samples\": [\n          \"512x512x21x1\",\n          \"86x128x21x1\",\n          \"88x128x25x1\"\n        ],\n        \"semantic_type\": \"\",\n        \"description\": \"\"\n      }\n    },\n    {\n      \"column\": \"DCMSerDescr\",\n      \"properties\": {\n        \"dtype\": \"category\",\n        \"num_unique_values\": 228,\n        \"samples\": [\n          \"t2_tse_sag_320_p2\",\n          \"Perfusie_t1_twist_1.3x1.3x3_temp_2s_TT=41.6s\",\n          \"ep2d_diff_tra_DYNDIST_MIX_ADC\"\n        ],\n        \"semantic_type\": \"\",\n        \"description\": \"\"\n      }\n    },\n    {\n      \"column\": \"DCMSerNum\",\n      \"properties\": {\n        \"dtype\": \"number\",\n        \"std\": 12,\n        \"min\": 1,\n        \"max\": 117,\n        \"num_unique_values\": 116,\n        \"samples\": [\n          64,\n          3,\n          115\n        ],\n        \"semantic_type\": \"\",\n        \"description\": \"\"\n      }\n    },\n    {\n      \"column\": \"DCMSerUID\",\n      \"properties\": {\n        \"dtype\": \"category\",\n        \"num_unique_values\": 396,\n        \"samples\": [\n          \"1.3.6.1.4.1.14519.5.2.1.7311.5101.246629457520636670723222135451\",\n          \"1.3.6.1.4.1.14519.5.2.1.7311.5101.196922965556954239677211265863\",\n          \"1.3.6.1.4.1.14519.5.2.1.7311.5101.589634819563482671995659706524\"\n        ],\n        \"semantic_type\": \"\",\n        \"description\": \"\"\n      }\n    },\n    {\n      \"column\": \"zone\",\n      \"properties\": {\n        \"dtype\": \"category\",\n        \"num_unique_values\": 4,\n        \"samples\": [\n          \"AS\",\n          \"SV\",\n          \"PZ\"\n        ],\n        \"semantic_type\": \"\",\n        \"description\": \"\"\n      }\n    },\n    {\n      \"column\": \"ggg\",\n      \"properties\": {\n        \"dtype\": \"number\",\n        \"std\": 1.1471684818399908,\n        \"min\": 1.0,\n        \"max\": 5.0,\n        \"num_unique_values\": 5,\n        \"samples\": [\n          1.0,\n          5.0,\n          2.0\n        ],\n        \"semantic_type\": \"\",\n        \"description\": \"\"\n      }\n    },\n    {\n      \"column\": \"ClinSig\",\n      \"properties\": {\n        \"dtype\": \"category\",\n        \"num_unique_values\": 2,\n        \"samples\": [\n          false,\n          true\n        ],\n        \"semantic_type\": \"\",\n        \"description\": \"\"\n      }\n    }\n  ]\n}"
            }
          },
          "metadata": {},
          "execution_count": 27
        }
      ]
    },
    {
      "cell_type": "code",
      "source": [
        "len(df_prostatex)"
      ],
      "metadata": {
        "colab": {
          "base_uri": "https://localhost:8080/"
        },
        "id": "VTm5eGVafSQF",
        "outputId": "7261a7b4-990d-44ee-fc98-718699fd8a0f"
      },
      "execution_count": 28,
      "outputs": [
        {
          "output_type": "execute_result",
          "data": {
            "text/plain": [
              "5640"
            ]
          },
          "metadata": {},
          "execution_count": 28
        }
      ]
    },
    {
      "cell_type": "markdown",
      "source": [
        "## Add in the SeriesInstanceUID and StudyDate to the df"
      ],
      "metadata": {
        "id": "3ItWP6uQOZts"
      }
    },
    {
      "cell_type": "code",
      "source": [
        "# The v1 did not include the SeriesInstanceUID (DCMSerUID), or the StudyDate\n",
        "# We need to add back in manually - use combination of PatientID (ProxID), SeriesNumber (DCMSerNum), and the SeriesDescription (DCMSerDescr)\n",
        "\n",
        "# query for ones with missing DCMSerUID\n",
        "\n",
        "from idc_index import index\n",
        "\n",
        "client = index.IDCClient()\n",
        "\n",
        "query = \"\"\"\n",
        "SELECT\n",
        "  PatientID,\n",
        "  StudyInstanceUID,\n",
        "  StudyDate,\n",
        "  SeriesNumber,\n",
        "  SeriesInstanceUID,\n",
        "  SeriesDescription\n",
        "FROM\n",
        "  index\n",
        "WHERE\n",
        "  Modality = 'MR' AND\n",
        "  collection_id = 'prostatex'\n",
        "ORDER BY\n",
        "  PatientID\n",
        "\"\"\"\n",
        "\n",
        "selection_df = client.sql_query(query)\n"
      ],
      "metadata": {
        "id": "XjhLezbbHfFU"
      },
      "execution_count": 29,
      "outputs": []
    },
    {
      "cell_type": "code",
      "source": [
        "# Now we take the SeriesInstanceUID field from the selection_df and insert into the df_prostatex\n",
        "\n",
        "for index, row in df_prostatex.iterrows():\n",
        "  # If SeriesInstanceUID is NaN, fill in\n",
        "  DCMSerUID = row['DCMSerUID']\n",
        "  if pd.isna(DCMSerUID):\n",
        "    # Get the corresponding PatientID (ProxID), SeriesNumber (DCMSerNum) and SeriesDescription (DCMSerDescr) to do the matching\n",
        "    PatientID_tomatch = row['ProxID']\n",
        "    SeriesNumber_tomatch = row['DCMSerNum']\n",
        "    SeriesDescription_tomatch = row['DCMSerDescr']\n",
        "    # now find in the selection_df the corresponding SeriesInstanceUID\n",
        "    # First we check the PatientID\n",
        "    temp1_df = selection_df[selection_df['PatientID']==PatientID_tomatch]\n",
        "    if (temp1_df.empty):\n",
        "      print('PatientID: ' + str(PatientID_tomatch) + ' does not exist in IDC, skipping')\n",
        "      continue\n",
        "    else:\n",
        "      temp2_df = temp1_df[temp1_df['SeriesNumber']==str(SeriesNumber_tomatch)]\n",
        "      if (temp2_df.empty):\n",
        "        print('PatientID: ' + str(PatientID_tomatch) + ' SeriesNumber: ' + str(SeriesNumber_tomatch) + ' do not exist in IDC, skipping')\n",
        "        continue\n",
        "      else:\n",
        "        temp3_df = temp2_df[temp2_df['SeriesDescription']==str(SeriesDescription_tomatch)]\n",
        "        if (temp3_df.empty):\n",
        "          print('PatientID: ' + str(PatientID_tomatch) + ' SeriesNumber: ' + str(SeriesNumber_tomatch) + ' SeriesDescription' + str(SeriesDescription_tomatch) + ' do not exist in IDC, skipping')\n",
        "        else:\n",
        "          # get the SeriesInstanceUID\n",
        "          SeriesInstanceUID = temp3_df['SeriesInstanceUID'].values[0]\n",
        "          # assign value\n",
        "          df_prostatex.loc[index, 'DCMSerUID'] = SeriesInstanceUID\n",
        "    # SeriesInstanceUID_match = selection_df.loc[(selection_df['PatientID'] == PatientID_tomatch) &\n",
        "    #                                            (selection_df['SeriesNumber'] == str(SeriesNumber_tomatch)) &\n",
        "    #                                            (selection_df['SeriesDescription'] == SeriesDescription_tomatch), 'SeriesInstanceUID'].values[0]\n"
      ],
      "metadata": {
        "colab": {
          "base_uri": "https://localhost:8080/"
        },
        "id": "TvV_-pLkfFe3",
        "outputId": "2a884887-8e03-4521-a9c8-9f7e4aea65de"
      },
      "execution_count": 30,
      "outputs": [
        {
          "output_type": "stream",
          "name": "stdout",
          "text": [
            "PatientID: ProstateX-0299 SeriesNumber: 5 do not exist in IDC, skipping\n"
          ]
        }
      ]
    },
    {
      "cell_type": "code",
      "source": [
        "# Now we take the StudyDate field from the selection_df and insert into the df_prostatex\n",
        "# Do the same with the StudyInstanceUID\n",
        "\n",
        "for index, row in df_prostatex.iterrows():\n",
        "  # Reassign all StudyDates!\n",
        "  # Get the corresponding PatientID (ProxID), SeriesNumber (DCMSerNum) and SeriesDescription (DCMSerDescr) to do the matching\n",
        "  PatientID_tomatch = row['ProxID']\n",
        "  SeriesNumber_tomatch = row['DCMSerNum']\n",
        "  SeriesDescription_tomatch = row['DCMSerDescr']\n",
        "  # now find in the selection_df the corresponding SeriesInstanceUID\n",
        "  # First we check the PatientID\n",
        "  temp1_df = selection_df[selection_df['PatientID']==PatientID_tomatch]\n",
        "  if (temp1_df.empty):\n",
        "    print('PatientID: ' + str(PatientID_tomatch) + ' does not exist in IDC, skipping')\n",
        "    continue\n",
        "  else:\n",
        "    temp2_df = temp1_df[temp1_df['SeriesNumber']==str(SeriesNumber_tomatch)]\n",
        "    if (temp2_df.empty):\n",
        "      print('PatientID: ' + str(PatientID_tomatch) + ' SeriesNumber: ' + str(SeriesNumber_tomatch) + ' do not exist in IDC, skipping')\n",
        "      continue\n",
        "    else:\n",
        "      temp3_df = temp2_df[temp2_df['SeriesDescription']==str(SeriesDescription_tomatch)]\n",
        "      if (temp3_df.empty):\n",
        "        print('PatientID: ' + str(PatientID_tomatch) + ' SeriesNumber: ' + str(SeriesNumber_tomatch) + ' SeriesDescription' + str(SeriesDescription_tomatch) + ' do not exist in IDC, skipping')\n",
        "      else:\n",
        "        # get the StudyDate\n",
        "        StudyDate = temp3_df['StudyDate'].values[0]\n",
        "        # assign value\n",
        "        df_prostatex.loc[index, 'studydate'] = StudyDate\n",
        "        # get the StudyInstanceUID\n",
        "        StudyInstanceUID = temp3_df['StudyInstanceUID'].values[0]\n",
        "        # assign the value\n",
        "        df_prostatex.loc[index, 'DCMStudyUID'] = StudyInstanceUID\n",
        "\n"
      ],
      "metadata": {
        "colab": {
          "base_uri": "https://localhost:8080/"
        },
        "outputId": "d7c8acb4-caa6-4978-8743-8fc9860024b8",
        "id": "Teh6h48ONihH"
      },
      "execution_count": 31,
      "outputs": [
        {
          "output_type": "stream",
          "name": "stderr",
          "text": [
            "<ipython-input-31-10ffeaf3434f>:29: FutureWarning: Setting an item of incompatible dtype is deprecated and will raise an error in a future version of pandas. Value '2011-07-07' has dtype incompatible with float64, please explicitly cast to a compatible dtype first.\n",
            "  df_prostatex.loc[index, 'studydate'] = StudyDate\n"
          ]
        },
        {
          "output_type": "stream",
          "name": "stdout",
          "text": [
            "PatientID: ProstateX-0299 SeriesNumber: 5 do not exist in IDC, skipping\n"
          ]
        }
      ]
    },
    {
      "cell_type": "code",
      "source": [
        "# Remove rows with Nan in the SeriesInstanceUID\n",
        "print('original number of rows in df_prostatex: ' + str(len(df_prostatex)))\n",
        "df_prostatex = df_prostatex[df_prostatex['DCMSerUID'].notna()]\n",
        "print('new number of rows in df_prostatex: ' + str(len(df_prostatex)))"
      ],
      "metadata": {
        "colab": {
          "base_uri": "https://localhost:8080/"
        },
        "id": "20gEd6OlomOT",
        "outputId": "a5c922de-76f1-4faa-f3d7-c6b3a6e0fa90"
      },
      "execution_count": 32,
      "outputs": [
        {
          "output_type": "stream",
          "name": "stdout",
          "text": [
            "original number of rows in df_prostatex: 5640\n",
            "new number of rows in df_prostatex: 5639\n"
          ]
        }
      ]
    },
    {
      "cell_type": "code",
      "source": [
        "SeriesInstanceUID = df_prostatex[df_prostatex['ProxID']==\"ProstateX-0025\"]['DCMSerUID'].values[0]\n",
        "print(SeriesInstanceUID)\n",
        "df_prostatex[df_prostatex['ProxID']==\"ProstateX-0025\"]"
      ],
      "metadata": {
        "colab": {
          "base_uri": "https://localhost:8080/",
          "height": 808
        },
        "id": "eYKkuYjvt4Q7",
        "outputId": "d57ed688-7a50-4b9d-cf7a-e02eef02d659"
      },
      "execution_count": 33,
      "outputs": [
        {
          "output_type": "stream",
          "name": "stdout",
          "text": [
            "1.3.6.1.4.1.14519.5.2.1.7311.5101.138893339209221232986491122519\n"
          ]
        },
        {
          "output_type": "execute_result",
          "data": {
            "text/plain": [
              "             ProxID                           Name   studydate  fid  \\\n",
              "349  ProstateX-0025         ep2d_diff_tra_DYNDIST0  2012-04-15    1   \n",
              "350  ProstateX-0025         ep2d_diff_tra_DYNDIST0  2012-04-15    1   \n",
              "351  ProstateX-0025         ep2d_diff_tra_DYNDIST0  2012-04-15    1   \n",
              "352  ProstateX-0025         ep2d_diff_tra_DYNDIST0  2012-04-15    1   \n",
              "353  ProstateX-0025         ep2d_diff_tra_DYNDIST0  2012-04-15    2   \n",
              "..              ...                            ...         ...  ...   \n",
              "434  ProstateX-0025  tfl_3d_PD_ref_tra_1_5x1_5_t30  2012-04-15    2   \n",
              "435  ProstateX-0025  tfl_3d_PD_ref_tra_1_5x1_5_t30  2012-04-15    3   \n",
              "436  ProstateX-0025  tfl_3d_PD_ref_tra_1_5x1_5_t30  2012-04-15    3   \n",
              "437  ProstateX-0025  tfl_3d_PD_ref_tra_1_5x1_5_t30  2012-04-15    4   \n",
              "438  ProstateX-0025  tfl_3d_PD_ref_tra_1_5x1_5_t30  2012-04-15    4   \n",
              "\n",
              "                           pos  \\\n",
              "349     23.6983 51.83 -55.7923   \n",
              "350     23.6983 51.83 -55.7923   \n",
              "351   34.8707 51.5015 -3.06943   \n",
              "352   34.8707 51.5015 -3.06943   \n",
              "353    7.79027 54.6192 -55.072   \n",
              "..                         ...   \n",
              "434    7.79027 54.6192 -55.072   \n",
              "435  -8.32488 41.9199 -51.1366   \n",
              "436  -8.32488 41.9199 -51.1366   \n",
              "437   21.9659 22.9866 -63.5253   \n",
              "438   21.9659 22.9866 -63.5253   \n",
              "\n",
              "                                           WorldMatrix        ijk  \\\n",
              "349  1.99976,3.83755e-010,-0.0468374,-66.0001,0.007...   45 82 -8   \n",
              "350  2,4.10207e-010,8.29013e-018,-86.7505,-3.92491e...    55 74 8   \n",
              "351  1.99976,3.83755e-010,-0.0468374,-66.0001,0.007...    51 75 9   \n",
              "352  2,4.10207e-010,8.29013e-018,-86.7505,-3.92491e...   61 66 25   \n",
              "353  1.99976,3.83755e-010,-0.0468374,-66.0001,0.007...   37 83 -8   \n",
              "..                                                 ...        ...   \n",
              "434  1.5,3.07655e-010,8.29013e-018,-98.5005,-2.9436...    71 79 7   \n",
              "435  1.49982,2.87816e-010,-0.0546436,-77.7564,0.005...   46 80 -7   \n",
              "436  1.5,3.07655e-010,8.29013e-018,-98.5005,-2.9436...    60 70 8   \n",
              "437  1.49982,2.87816e-010,-0.0546436,-77.7564,0.005...  66 70 -12   \n",
              "438  1.5,3.07655e-010,8.29013e-018,-98.5005,-2.9436...    80 61 2   \n",
              "\n",
              "     SpacingBetweenSlices VoxelSpacing           Dim  \\\n",
              "349                   3.0        2,2,3   84x128x19x1   \n",
              "350                   3.0        2,2,3   84x128x19x1   \n",
              "351                   3.0        2,2,3   84x128x19x1   \n",
              "352                   3.0        2,2,3   84x128x19x1   \n",
              "353                   3.0        2,2,3   84x128x19x1   \n",
              "..                    ...          ...           ...   \n",
              "434                   3.0    1.5,1.5,3  128x128x16x1   \n",
              "435                   3.5  1.5,1.5,3.5  128x128x16x1   \n",
              "436                   3.0    1.5,1.5,3  128x128x16x1   \n",
              "437                   3.5  1.5,1.5,3.5  128x128x16x1   \n",
              "438                   3.0    1.5,1.5,3  128x128x16x1   \n",
              "\n",
              "                      DCMSerDescr  DCMSerNum  \\\n",
              "349         ep2d_diff_tra_DYNDIST          6   \n",
              "350         ep2d_diff_tra_DYNDIST          6   \n",
              "351         ep2d_diff_tra_DYNDIST          6   \n",
              "352         ep2d_diff_tra_DYNDIST          6   \n",
              "353         ep2d_diff_tra_DYNDIST          6   \n",
              "..                            ...        ...   \n",
              "434  tfl_3d PD ref_tra_1.5x1.5_t3          9   \n",
              "435  tfl_3d PD ref_tra_1.5x1.5_t3          9   \n",
              "436  tfl_3d PD ref_tra_1.5x1.5_t3          9   \n",
              "437  tfl_3d PD ref_tra_1.5x1.5_t3          9   \n",
              "438  tfl_3d PD ref_tra_1.5x1.5_t3          9   \n",
              "\n",
              "                                             DCMSerUID zone  ggg ClinSig  \\\n",
              "349  1.3.6.1.4.1.14519.5.2.1.7311.5101.138893339209...   PZ  NaN   False   \n",
              "350  1.3.6.1.4.1.14519.5.2.1.7311.5101.138893339209...   PZ  NaN   False   \n",
              "351  1.3.6.1.4.1.14519.5.2.1.7311.5101.138893339209...   PZ  NaN   False   \n",
              "352  1.3.6.1.4.1.14519.5.2.1.7311.5101.138893339209...   PZ  NaN   False   \n",
              "353  1.3.6.1.4.1.14519.5.2.1.7311.5101.138893339209...   PZ  NaN   False   \n",
              "..                                                 ...  ...  ...     ...   \n",
              "434  1.3.6.1.4.1.14519.5.2.1.7311.5101.166706922650...   PZ  NaN   False   \n",
              "435  1.3.6.1.4.1.14519.5.2.1.7311.5101.166706922650...   TZ  NaN   False   \n",
              "436  1.3.6.1.4.1.14519.5.2.1.7311.5101.166706922650...   TZ  NaN   False   \n",
              "437  1.3.6.1.4.1.14519.5.2.1.7311.5101.166706922650...   PZ  NaN   False   \n",
              "438  1.3.6.1.4.1.14519.5.2.1.7311.5101.166706922650...   PZ  NaN   False   \n",
              "\n",
              "                                           DCMStudyUID  \n",
              "349  1.3.6.1.4.1.14519.5.2.1.7311.5101.260163101010...  \n",
              "350  1.3.6.1.4.1.14519.5.2.1.7311.5101.260163101010...  \n",
              "351  1.3.6.1.4.1.14519.5.2.1.7311.5101.260163101010...  \n",
              "352  1.3.6.1.4.1.14519.5.2.1.7311.5101.260163101010...  \n",
              "353  1.3.6.1.4.1.14519.5.2.1.7311.5101.260163101010...  \n",
              "..                                                 ...  \n",
              "434  1.3.6.1.4.1.14519.5.2.1.7311.5101.260163101010...  \n",
              "435  1.3.6.1.4.1.14519.5.2.1.7311.5101.260163101010...  \n",
              "436  1.3.6.1.4.1.14519.5.2.1.7311.5101.260163101010...  \n",
              "437  1.3.6.1.4.1.14519.5.2.1.7311.5101.260163101010...  \n",
              "438  1.3.6.1.4.1.14519.5.2.1.7311.5101.260163101010...  \n",
              "\n",
              "[90 rows x 17 columns]"
            ],
            "text/html": [
              "\n",
              "  <div id=\"df-2f167131-1d98-4820-84ce-820bf1d12fd6\" class=\"colab-df-container\">\n",
              "    <div>\n",
              "<style scoped>\n",
              "    .dataframe tbody tr th:only-of-type {\n",
              "        vertical-align: middle;\n",
              "    }\n",
              "\n",
              "    .dataframe tbody tr th {\n",
              "        vertical-align: top;\n",
              "    }\n",
              "\n",
              "    .dataframe thead th {\n",
              "        text-align: right;\n",
              "    }\n",
              "</style>\n",
              "<table border=\"1\" class=\"dataframe\">\n",
              "  <thead>\n",
              "    <tr style=\"text-align: right;\">\n",
              "      <th></th>\n",
              "      <th>ProxID</th>\n",
              "      <th>Name</th>\n",
              "      <th>studydate</th>\n",
              "      <th>fid</th>\n",
              "      <th>pos</th>\n",
              "      <th>WorldMatrix</th>\n",
              "      <th>ijk</th>\n",
              "      <th>SpacingBetweenSlices</th>\n",
              "      <th>VoxelSpacing</th>\n",
              "      <th>Dim</th>\n",
              "      <th>DCMSerDescr</th>\n",
              "      <th>DCMSerNum</th>\n",
              "      <th>DCMSerUID</th>\n",
              "      <th>zone</th>\n",
              "      <th>ggg</th>\n",
              "      <th>ClinSig</th>\n",
              "      <th>DCMStudyUID</th>\n",
              "    </tr>\n",
              "  </thead>\n",
              "  <tbody>\n",
              "    <tr>\n",
              "      <th>349</th>\n",
              "      <td>ProstateX-0025</td>\n",
              "      <td>ep2d_diff_tra_DYNDIST0</td>\n",
              "      <td>2012-04-15</td>\n",
              "      <td>1</td>\n",
              "      <td>23.6983 51.83 -55.7923</td>\n",
              "      <td>1.99976,3.83755e-010,-0.0468374,-66.0001,0.007...</td>\n",
              "      <td>45 82 -8</td>\n",
              "      <td>3.0</td>\n",
              "      <td>2,2,3</td>\n",
              "      <td>84x128x19x1</td>\n",
              "      <td>ep2d_diff_tra_DYNDIST</td>\n",
              "      <td>6</td>\n",
              "      <td>1.3.6.1.4.1.14519.5.2.1.7311.5101.138893339209...</td>\n",
              "      <td>PZ</td>\n",
              "      <td>NaN</td>\n",
              "      <td>False</td>\n",
              "      <td>1.3.6.1.4.1.14519.5.2.1.7311.5101.260163101010...</td>\n",
              "    </tr>\n",
              "    <tr>\n",
              "      <th>350</th>\n",
              "      <td>ProstateX-0025</td>\n",
              "      <td>ep2d_diff_tra_DYNDIST0</td>\n",
              "      <td>2012-04-15</td>\n",
              "      <td>1</td>\n",
              "      <td>23.6983 51.83 -55.7923</td>\n",
              "      <td>2,4.10207e-010,8.29013e-018,-86.7505,-3.92491e...</td>\n",
              "      <td>55 74 8</td>\n",
              "      <td>3.0</td>\n",
              "      <td>2,2,3</td>\n",
              "      <td>84x128x19x1</td>\n",
              "      <td>ep2d_diff_tra_DYNDIST</td>\n",
              "      <td>6</td>\n",
              "      <td>1.3.6.1.4.1.14519.5.2.1.7311.5101.138893339209...</td>\n",
              "      <td>PZ</td>\n",
              "      <td>NaN</td>\n",
              "      <td>False</td>\n",
              "      <td>1.3.6.1.4.1.14519.5.2.1.7311.5101.260163101010...</td>\n",
              "    </tr>\n",
              "    <tr>\n",
              "      <th>351</th>\n",
              "      <td>ProstateX-0025</td>\n",
              "      <td>ep2d_diff_tra_DYNDIST0</td>\n",
              "      <td>2012-04-15</td>\n",
              "      <td>1</td>\n",
              "      <td>34.8707 51.5015 -3.06943</td>\n",
              "      <td>1.99976,3.83755e-010,-0.0468374,-66.0001,0.007...</td>\n",
              "      <td>51 75 9</td>\n",
              "      <td>3.0</td>\n",
              "      <td>2,2,3</td>\n",
              "      <td>84x128x19x1</td>\n",
              "      <td>ep2d_diff_tra_DYNDIST</td>\n",
              "      <td>6</td>\n",
              "      <td>1.3.6.1.4.1.14519.5.2.1.7311.5101.138893339209...</td>\n",
              "      <td>PZ</td>\n",
              "      <td>NaN</td>\n",
              "      <td>False</td>\n",
              "      <td>1.3.6.1.4.1.14519.5.2.1.7311.5101.260163101010...</td>\n",
              "    </tr>\n",
              "    <tr>\n",
              "      <th>352</th>\n",
              "      <td>ProstateX-0025</td>\n",
              "      <td>ep2d_diff_tra_DYNDIST0</td>\n",
              "      <td>2012-04-15</td>\n",
              "      <td>1</td>\n",
              "      <td>34.8707 51.5015 -3.06943</td>\n",
              "      <td>2,4.10207e-010,8.29013e-018,-86.7505,-3.92491e...</td>\n",
              "      <td>61 66 25</td>\n",
              "      <td>3.0</td>\n",
              "      <td>2,2,3</td>\n",
              "      <td>84x128x19x1</td>\n",
              "      <td>ep2d_diff_tra_DYNDIST</td>\n",
              "      <td>6</td>\n",
              "      <td>1.3.6.1.4.1.14519.5.2.1.7311.5101.138893339209...</td>\n",
              "      <td>PZ</td>\n",
              "      <td>NaN</td>\n",
              "      <td>False</td>\n",
              "      <td>1.3.6.1.4.1.14519.5.2.1.7311.5101.260163101010...</td>\n",
              "    </tr>\n",
              "    <tr>\n",
              "      <th>353</th>\n",
              "      <td>ProstateX-0025</td>\n",
              "      <td>ep2d_diff_tra_DYNDIST0</td>\n",
              "      <td>2012-04-15</td>\n",
              "      <td>2</td>\n",
              "      <td>7.79027 54.6192 -55.072</td>\n",
              "      <td>1.99976,3.83755e-010,-0.0468374,-66.0001,0.007...</td>\n",
              "      <td>37 83 -8</td>\n",
              "      <td>3.0</td>\n",
              "      <td>2,2,3</td>\n",
              "      <td>84x128x19x1</td>\n",
              "      <td>ep2d_diff_tra_DYNDIST</td>\n",
              "      <td>6</td>\n",
              "      <td>1.3.6.1.4.1.14519.5.2.1.7311.5101.138893339209...</td>\n",
              "      <td>PZ</td>\n",
              "      <td>NaN</td>\n",
              "      <td>False</td>\n",
              "      <td>1.3.6.1.4.1.14519.5.2.1.7311.5101.260163101010...</td>\n",
              "    </tr>\n",
              "    <tr>\n",
              "      <th>...</th>\n",
              "      <td>...</td>\n",
              "      <td>...</td>\n",
              "      <td>...</td>\n",
              "      <td>...</td>\n",
              "      <td>...</td>\n",
              "      <td>...</td>\n",
              "      <td>...</td>\n",
              "      <td>...</td>\n",
              "      <td>...</td>\n",
              "      <td>...</td>\n",
              "      <td>...</td>\n",
              "      <td>...</td>\n",
              "      <td>...</td>\n",
              "      <td>...</td>\n",
              "      <td>...</td>\n",
              "      <td>...</td>\n",
              "      <td>...</td>\n",
              "    </tr>\n",
              "    <tr>\n",
              "      <th>434</th>\n",
              "      <td>ProstateX-0025</td>\n",
              "      <td>tfl_3d_PD_ref_tra_1_5x1_5_t30</td>\n",
              "      <td>2012-04-15</td>\n",
              "      <td>2</td>\n",
              "      <td>7.79027 54.6192 -55.072</td>\n",
              "      <td>1.5,3.07655e-010,8.29013e-018,-98.5005,-2.9436...</td>\n",
              "      <td>71 79 7</td>\n",
              "      <td>3.0</td>\n",
              "      <td>1.5,1.5,3</td>\n",
              "      <td>128x128x16x1</td>\n",
              "      <td>tfl_3d PD ref_tra_1.5x1.5_t3</td>\n",
              "      <td>9</td>\n",
              "      <td>1.3.6.1.4.1.14519.5.2.1.7311.5101.166706922650...</td>\n",
              "      <td>PZ</td>\n",
              "      <td>NaN</td>\n",
              "      <td>False</td>\n",
              "      <td>1.3.6.1.4.1.14519.5.2.1.7311.5101.260163101010...</td>\n",
              "    </tr>\n",
              "    <tr>\n",
              "      <th>435</th>\n",
              "      <td>ProstateX-0025</td>\n",
              "      <td>tfl_3d_PD_ref_tra_1_5x1_5_t30</td>\n",
              "      <td>2012-04-15</td>\n",
              "      <td>3</td>\n",
              "      <td>-8.32488 41.9199 -51.1366</td>\n",
              "      <td>1.49982,2.87816e-010,-0.0546436,-77.7564,0.005...</td>\n",
              "      <td>46 80 -7</td>\n",
              "      <td>3.5</td>\n",
              "      <td>1.5,1.5,3.5</td>\n",
              "      <td>128x128x16x1</td>\n",
              "      <td>tfl_3d PD ref_tra_1.5x1.5_t3</td>\n",
              "      <td>9</td>\n",
              "      <td>1.3.6.1.4.1.14519.5.2.1.7311.5101.166706922650...</td>\n",
              "      <td>TZ</td>\n",
              "      <td>NaN</td>\n",
              "      <td>False</td>\n",
              "      <td>1.3.6.1.4.1.14519.5.2.1.7311.5101.260163101010...</td>\n",
              "    </tr>\n",
              "    <tr>\n",
              "      <th>436</th>\n",
              "      <td>ProstateX-0025</td>\n",
              "      <td>tfl_3d_PD_ref_tra_1_5x1_5_t30</td>\n",
              "      <td>2012-04-15</td>\n",
              "      <td>3</td>\n",
              "      <td>-8.32488 41.9199 -51.1366</td>\n",
              "      <td>1.5,3.07655e-010,8.29013e-018,-98.5005,-2.9436...</td>\n",
              "      <td>60 70 8</td>\n",
              "      <td>3.0</td>\n",
              "      <td>1.5,1.5,3</td>\n",
              "      <td>128x128x16x1</td>\n",
              "      <td>tfl_3d PD ref_tra_1.5x1.5_t3</td>\n",
              "      <td>9</td>\n",
              "      <td>1.3.6.1.4.1.14519.5.2.1.7311.5101.166706922650...</td>\n",
              "      <td>TZ</td>\n",
              "      <td>NaN</td>\n",
              "      <td>False</td>\n",
              "      <td>1.3.6.1.4.1.14519.5.2.1.7311.5101.260163101010...</td>\n",
              "    </tr>\n",
              "    <tr>\n",
              "      <th>437</th>\n",
              "      <td>ProstateX-0025</td>\n",
              "      <td>tfl_3d_PD_ref_tra_1_5x1_5_t30</td>\n",
              "      <td>2012-04-15</td>\n",
              "      <td>4</td>\n",
              "      <td>21.9659 22.9866 -63.5253</td>\n",
              "      <td>1.49982,2.87816e-010,-0.0546436,-77.7564,0.005...</td>\n",
              "      <td>66 70 -12</td>\n",
              "      <td>3.5</td>\n",
              "      <td>1.5,1.5,3.5</td>\n",
              "      <td>128x128x16x1</td>\n",
              "      <td>tfl_3d PD ref_tra_1.5x1.5_t3</td>\n",
              "      <td>9</td>\n",
              "      <td>1.3.6.1.4.1.14519.5.2.1.7311.5101.166706922650...</td>\n",
              "      <td>PZ</td>\n",
              "      <td>NaN</td>\n",
              "      <td>False</td>\n",
              "      <td>1.3.6.1.4.1.14519.5.2.1.7311.5101.260163101010...</td>\n",
              "    </tr>\n",
              "    <tr>\n",
              "      <th>438</th>\n",
              "      <td>ProstateX-0025</td>\n",
              "      <td>tfl_3d_PD_ref_tra_1_5x1_5_t30</td>\n",
              "      <td>2012-04-15</td>\n",
              "      <td>4</td>\n",
              "      <td>21.9659 22.9866 -63.5253</td>\n",
              "      <td>1.5,3.07655e-010,8.29013e-018,-98.5005,-2.9436...</td>\n",
              "      <td>80 61 2</td>\n",
              "      <td>3.0</td>\n",
              "      <td>1.5,1.5,3</td>\n",
              "      <td>128x128x16x1</td>\n",
              "      <td>tfl_3d PD ref_tra_1.5x1.5_t3</td>\n",
              "      <td>9</td>\n",
              "      <td>1.3.6.1.4.1.14519.5.2.1.7311.5101.166706922650...</td>\n",
              "      <td>PZ</td>\n",
              "      <td>NaN</td>\n",
              "      <td>False</td>\n",
              "      <td>1.3.6.1.4.1.14519.5.2.1.7311.5101.260163101010...</td>\n",
              "    </tr>\n",
              "  </tbody>\n",
              "</table>\n",
              "<p>90 rows × 17 columns</p>\n",
              "</div>\n",
              "    <div class=\"colab-df-buttons\">\n",
              "\n",
              "  <div class=\"colab-df-container\">\n",
              "    <button class=\"colab-df-convert\" onclick=\"convertToInteractive('df-2f167131-1d98-4820-84ce-820bf1d12fd6')\"\n",
              "            title=\"Convert this dataframe to an interactive table.\"\n",
              "            style=\"display:none;\">\n",
              "\n",
              "  <svg xmlns=\"http://www.w3.org/2000/svg\" height=\"24px\" viewBox=\"0 -960 960 960\">\n",
              "    <path d=\"M120-120v-720h720v720H120Zm60-500h600v-160H180v160Zm220 220h160v-160H400v160Zm0 220h160v-160H400v160ZM180-400h160v-160H180v160Zm440 0h160v-160H620v160ZM180-180h160v-160H180v160Zm440 0h160v-160H620v160Z\"/>\n",
              "  </svg>\n",
              "    </button>\n",
              "\n",
              "  <style>\n",
              "    .colab-df-container {\n",
              "      display:flex;\n",
              "      gap: 12px;\n",
              "    }\n",
              "\n",
              "    .colab-df-convert {\n",
              "      background-color: #E8F0FE;\n",
              "      border: none;\n",
              "      border-radius: 50%;\n",
              "      cursor: pointer;\n",
              "      display: none;\n",
              "      fill: #1967D2;\n",
              "      height: 32px;\n",
              "      padding: 0 0 0 0;\n",
              "      width: 32px;\n",
              "    }\n",
              "\n",
              "    .colab-df-convert:hover {\n",
              "      background-color: #E2EBFA;\n",
              "      box-shadow: 0px 1px 2px rgba(60, 64, 67, 0.3), 0px 1px 3px 1px rgba(60, 64, 67, 0.15);\n",
              "      fill: #174EA6;\n",
              "    }\n",
              "\n",
              "    .colab-df-buttons div {\n",
              "      margin-bottom: 4px;\n",
              "    }\n",
              "\n",
              "    [theme=dark] .colab-df-convert {\n",
              "      background-color: #3B4455;\n",
              "      fill: #D2E3FC;\n",
              "    }\n",
              "\n",
              "    [theme=dark] .colab-df-convert:hover {\n",
              "      background-color: #434B5C;\n",
              "      box-shadow: 0px 1px 3px 1px rgba(0, 0, 0, 0.15);\n",
              "      filter: drop-shadow(0px 1px 2px rgba(0, 0, 0, 0.3));\n",
              "      fill: #FFFFFF;\n",
              "    }\n",
              "  </style>\n",
              "\n",
              "    <script>\n",
              "      const buttonEl =\n",
              "        document.querySelector('#df-2f167131-1d98-4820-84ce-820bf1d12fd6 button.colab-df-convert');\n",
              "      buttonEl.style.display =\n",
              "        google.colab.kernel.accessAllowed ? 'block' : 'none';\n",
              "\n",
              "      async function convertToInteractive(key) {\n",
              "        const element = document.querySelector('#df-2f167131-1d98-4820-84ce-820bf1d12fd6');\n",
              "        const dataTable =\n",
              "          await google.colab.kernel.invokeFunction('convertToInteractive',\n",
              "                                                    [key], {});\n",
              "        if (!dataTable) return;\n",
              "\n",
              "        const docLinkHtml = 'Like what you see? Visit the ' +\n",
              "          '<a target=\"_blank\" href=https://colab.research.google.com/notebooks/data_table.ipynb>data table notebook</a>'\n",
              "          + ' to learn more about interactive tables.';\n",
              "        element.innerHTML = '';\n",
              "        dataTable['output_type'] = 'display_data';\n",
              "        await google.colab.output.renderOutput(dataTable, element);\n",
              "        const docLink = document.createElement('div');\n",
              "        docLink.innerHTML = docLinkHtml;\n",
              "        element.appendChild(docLink);\n",
              "      }\n",
              "    </script>\n",
              "  </div>\n",
              "\n",
              "\n",
              "<div id=\"df-e29d22d0-5a43-489f-bb37-0aa8330abcc1\">\n",
              "  <button class=\"colab-df-quickchart\" onclick=\"quickchart('df-e29d22d0-5a43-489f-bb37-0aa8330abcc1')\"\n",
              "            title=\"Suggest charts\"\n",
              "            style=\"display:none;\">\n",
              "\n",
              "<svg xmlns=\"http://www.w3.org/2000/svg\" height=\"24px\"viewBox=\"0 0 24 24\"\n",
              "     width=\"24px\">\n",
              "    <g>\n",
              "        <path d=\"M19 3H5c-1.1 0-2 .9-2 2v14c0 1.1.9 2 2 2h14c1.1 0 2-.9 2-2V5c0-1.1-.9-2-2-2zM9 17H7v-7h2v7zm4 0h-2V7h2v10zm4 0h-2v-4h2v4z\"/>\n",
              "    </g>\n",
              "</svg>\n",
              "  </button>\n",
              "\n",
              "<style>\n",
              "  .colab-df-quickchart {\n",
              "      --bg-color: #E8F0FE;\n",
              "      --fill-color: #1967D2;\n",
              "      --hover-bg-color: #E2EBFA;\n",
              "      --hover-fill-color: #174EA6;\n",
              "      --disabled-fill-color: #AAA;\n",
              "      --disabled-bg-color: #DDD;\n",
              "  }\n",
              "\n",
              "  [theme=dark] .colab-df-quickchart {\n",
              "      --bg-color: #3B4455;\n",
              "      --fill-color: #D2E3FC;\n",
              "      --hover-bg-color: #434B5C;\n",
              "      --hover-fill-color: #FFFFFF;\n",
              "      --disabled-bg-color: #3B4455;\n",
              "      --disabled-fill-color: #666;\n",
              "  }\n",
              "\n",
              "  .colab-df-quickchart {\n",
              "    background-color: var(--bg-color);\n",
              "    border: none;\n",
              "    border-radius: 50%;\n",
              "    cursor: pointer;\n",
              "    display: none;\n",
              "    fill: var(--fill-color);\n",
              "    height: 32px;\n",
              "    padding: 0;\n",
              "    width: 32px;\n",
              "  }\n",
              "\n",
              "  .colab-df-quickchart:hover {\n",
              "    background-color: var(--hover-bg-color);\n",
              "    box-shadow: 0 1px 2px rgba(60, 64, 67, 0.3), 0 1px 3px 1px rgba(60, 64, 67, 0.15);\n",
              "    fill: var(--button-hover-fill-color);\n",
              "  }\n",
              "\n",
              "  .colab-df-quickchart-complete:disabled,\n",
              "  .colab-df-quickchart-complete:disabled:hover {\n",
              "    background-color: var(--disabled-bg-color);\n",
              "    fill: var(--disabled-fill-color);\n",
              "    box-shadow: none;\n",
              "  }\n",
              "\n",
              "  .colab-df-spinner {\n",
              "    border: 2px solid var(--fill-color);\n",
              "    border-color: transparent;\n",
              "    border-bottom-color: var(--fill-color);\n",
              "    animation:\n",
              "      spin 1s steps(1) infinite;\n",
              "  }\n",
              "\n",
              "  @keyframes spin {\n",
              "    0% {\n",
              "      border-color: transparent;\n",
              "      border-bottom-color: var(--fill-color);\n",
              "      border-left-color: var(--fill-color);\n",
              "    }\n",
              "    20% {\n",
              "      border-color: transparent;\n",
              "      border-left-color: var(--fill-color);\n",
              "      border-top-color: var(--fill-color);\n",
              "    }\n",
              "    30% {\n",
              "      border-color: transparent;\n",
              "      border-left-color: var(--fill-color);\n",
              "      border-top-color: var(--fill-color);\n",
              "      border-right-color: var(--fill-color);\n",
              "    }\n",
              "    40% {\n",
              "      border-color: transparent;\n",
              "      border-right-color: var(--fill-color);\n",
              "      border-top-color: var(--fill-color);\n",
              "    }\n",
              "    60% {\n",
              "      border-color: transparent;\n",
              "      border-right-color: var(--fill-color);\n",
              "    }\n",
              "    80% {\n",
              "      border-color: transparent;\n",
              "      border-right-color: var(--fill-color);\n",
              "      border-bottom-color: var(--fill-color);\n",
              "    }\n",
              "    90% {\n",
              "      border-color: transparent;\n",
              "      border-bottom-color: var(--fill-color);\n",
              "    }\n",
              "  }\n",
              "</style>\n",
              "\n",
              "  <script>\n",
              "    async function quickchart(key) {\n",
              "      const quickchartButtonEl =\n",
              "        document.querySelector('#' + key + ' button');\n",
              "      quickchartButtonEl.disabled = true;  // To prevent multiple clicks.\n",
              "      quickchartButtonEl.classList.add('colab-df-spinner');\n",
              "      try {\n",
              "        const charts = await google.colab.kernel.invokeFunction(\n",
              "            'suggestCharts', [key], {});\n",
              "      } catch (error) {\n",
              "        console.error('Error during call to suggestCharts:', error);\n",
              "      }\n",
              "      quickchartButtonEl.classList.remove('colab-df-spinner');\n",
              "      quickchartButtonEl.classList.add('colab-df-quickchart-complete');\n",
              "    }\n",
              "    (() => {\n",
              "      let quickchartButtonEl =\n",
              "        document.querySelector('#df-e29d22d0-5a43-489f-bb37-0aa8330abcc1 button');\n",
              "      quickchartButtonEl.style.display =\n",
              "        google.colab.kernel.accessAllowed ? 'block' : 'none';\n",
              "    })();\n",
              "  </script>\n",
              "</div>\n",
              "\n",
              "    </div>\n",
              "  </div>\n"
            ],
            "application/vnd.google.colaboratory.intrinsic+json": {
              "type": "dataframe",
              "repr_error": "0"
            }
          },
          "metadata": {},
          "execution_count": 33
        }
      ]
    },
    {
      "cell_type": "markdown",
      "source": [
        "## Keep only the t2_tse_tra scans"
      ],
      "metadata": {
        "id": "SubYyya_NHkl"
      }
    },
    {
      "cell_type": "code",
      "source": [
        "# Now we only want to keep the t2_tse_tra scans - don't need to create SRs for each of the scans\n",
        "#  't2_tse_tra',\n",
        "#  't2_tse_tra_320_p2',\n",
        "#  't2_tse_tra_Grappa3',\n",
        "#  't2_tse_tra_S5_ND',\n",
        "#  't2_tse_tra_exacte_copy_diffusie',\n",
        "# df_prostatex = df_prostatex[df_prostatex['DCMSerDescr']==\"t2_tse_tra\"]\n",
        "df_prostatex = df_prostatex[df_prostatex['DCMSerDescr'].str.contains(\"t2_tse_tra\")]\n",
        "print(len(df_prostatex))"
      ],
      "metadata": {
        "colab": {
          "base_uri": "https://localhost:8080/"
        },
        "id": "Sg4MAGY1LbqE",
        "outputId": "19d73451-db32-4780-f434-7fdbcf2f729b"
      },
      "execution_count": 35,
      "outputs": [
        {
          "output_type": "stream",
          "name": "stdout",
          "text": [
            "623\n"
          ]
        }
      ]
    },
    {
      "cell_type": "code",
      "source": [
        "df_prostatex.head()"
      ],
      "metadata": {
        "colab": {
          "base_uri": "https://localhost:8080/",
          "height": 400
        },
        "id": "SnqqqHVzLps3",
        "outputId": "cd3fd661-f590-44de-d544-5b4b2014950f"
      },
      "execution_count": 36,
      "outputs": [
        {
          "output_type": "execute_result",
          "data": {
            "text/plain": [
              "            ProxID         Name   studydate  fid  \\\n",
              "7   ProstateX-0000  t2_tse_tra0  2011-07-07    1   \n",
              "19  ProstateX-0001  t2_tse_tra0  2011-07-08    1   \n",
              "20  ProstateX-0001  t2_tse_tra0  2011-07-08    1   \n",
              "40  ProstateX-0002  t2_tse_tra0  2011-07-15    1   \n",
              "41  ProstateX-0002  t2_tse_tra0  2011-07-15    2   \n",
              "\n",
              "                                                  pos  \\\n",
              "7                             25.7457 31.8707 -38.511   \n",
              "19  -40.5367071921656 29.320722668457 -16.70766907...   \n",
              "20  -40.5367071921656 29.320722668457 -16.70766907...   \n",
              "40                          -27.0102 41.5467 -26.0469   \n",
              "41                            -2.058 38.6752 -34.6104   \n",
              "\n",
              "                                          WorldMatrix         ijk  \\\n",
              "7   0.5,1.00168e-010,0.00377059,-57.9373,-0.000199...   167 224 9   \n",
              "19  0.5,1.02552e-010,-4.64581e-017,-119.205,-1.019...  157 186 10   \n",
              "20  0.5,1.02552e-010,-4.64581e-017,-119.205,-1.019...  157 186 10   \n",
              "40  0.5,1.02552e-010,7.98512e-017,-103.784,-9.9634...  154 217 12   \n",
              "41  0.5,1.02552e-010,7.98512e-017,-103.784,-9.9634...  203 216 10   \n",
              "\n",
              "    SpacingBetweenSlices VoxelSpacing           Dim DCMSerDescr  DCMSerNum  \\\n",
              "7                    3.0    0.5,0.5,3  384x384x19x1  t2_tse_tra          4   \n",
              "19                   3.0    0.5,0.5,3  384x384x19x1  t2_tse_tra          6   \n",
              "20                   3.0    0.5,0.5,3  384x384x19x1  t2_tse_tra         10   \n",
              "40                   3.0    0.5,0.5,3  384x384x19x1  t2_tse_tra          4   \n",
              "41                   3.0    0.5,0.5,3  384x384x19x1  t2_tse_tra          4   \n",
              "\n",
              "                                            DCMSerUID zone  ggg ClinSig  \\\n",
              "7   1.3.6.1.4.1.14519.5.2.1.7311.5101.160028252338...   PZ  3.0    True   \n",
              "19  1.3.6.1.4.1.14519.5.2.1.7311.5101.143550427570...   AS  NaN   False   \n",
              "20  1.3.6.1.4.1.14519.5.2.1.7311.5101.296510477295...   AS  1.0   False   \n",
              "40  1.3.6.1.4.1.14519.5.2.1.7311.5101.479812804428...   PZ  2.0    True   \n",
              "41  1.3.6.1.4.1.14519.5.2.1.7311.5101.479812804428...   PZ  1.0   False   \n",
              "\n",
              "                                          DCMStudyUID  \n",
              "7   1.3.6.1.4.1.14519.5.2.1.7311.5101.158323547117...  \n",
              "19  1.3.6.1.4.1.14519.5.2.1.7311.5101.204786391199...  \n",
              "20  1.3.6.1.4.1.14519.5.2.1.7311.5101.204786391199...  \n",
              "40  1.3.6.1.4.1.14519.5.2.1.7311.5101.170110802438...  \n",
              "41  1.3.6.1.4.1.14519.5.2.1.7311.5101.170110802438...  "
            ],
            "text/html": [
              "\n",
              "  <div id=\"df-adb363c0-d1f8-4e89-b33e-2d6d800a791a\" class=\"colab-df-container\">\n",
              "    <div>\n",
              "<style scoped>\n",
              "    .dataframe tbody tr th:only-of-type {\n",
              "        vertical-align: middle;\n",
              "    }\n",
              "\n",
              "    .dataframe tbody tr th {\n",
              "        vertical-align: top;\n",
              "    }\n",
              "\n",
              "    .dataframe thead th {\n",
              "        text-align: right;\n",
              "    }\n",
              "</style>\n",
              "<table border=\"1\" class=\"dataframe\">\n",
              "  <thead>\n",
              "    <tr style=\"text-align: right;\">\n",
              "      <th></th>\n",
              "      <th>ProxID</th>\n",
              "      <th>Name</th>\n",
              "      <th>studydate</th>\n",
              "      <th>fid</th>\n",
              "      <th>pos</th>\n",
              "      <th>WorldMatrix</th>\n",
              "      <th>ijk</th>\n",
              "      <th>SpacingBetweenSlices</th>\n",
              "      <th>VoxelSpacing</th>\n",
              "      <th>Dim</th>\n",
              "      <th>DCMSerDescr</th>\n",
              "      <th>DCMSerNum</th>\n",
              "      <th>DCMSerUID</th>\n",
              "      <th>zone</th>\n",
              "      <th>ggg</th>\n",
              "      <th>ClinSig</th>\n",
              "      <th>DCMStudyUID</th>\n",
              "    </tr>\n",
              "  </thead>\n",
              "  <tbody>\n",
              "    <tr>\n",
              "      <th>7</th>\n",
              "      <td>ProstateX-0000</td>\n",
              "      <td>t2_tse_tra0</td>\n",
              "      <td>2011-07-07</td>\n",
              "      <td>1</td>\n",
              "      <td>25.7457 31.8707 -38.511</td>\n",
              "      <td>0.5,1.00168e-010,0.00377059,-57.9373,-0.000199...</td>\n",
              "      <td>167 224 9</td>\n",
              "      <td>3.0</td>\n",
              "      <td>0.5,0.5,3</td>\n",
              "      <td>384x384x19x1</td>\n",
              "      <td>t2_tse_tra</td>\n",
              "      <td>4</td>\n",
              "      <td>1.3.6.1.4.1.14519.5.2.1.7311.5101.160028252338...</td>\n",
              "      <td>PZ</td>\n",
              "      <td>3.0</td>\n",
              "      <td>True</td>\n",
              "      <td>1.3.6.1.4.1.14519.5.2.1.7311.5101.158323547117...</td>\n",
              "    </tr>\n",
              "    <tr>\n",
              "      <th>19</th>\n",
              "      <td>ProstateX-0001</td>\n",
              "      <td>t2_tse_tra0</td>\n",
              "      <td>2011-07-08</td>\n",
              "      <td>1</td>\n",
              "      <td>-40.5367071921656 29.320722668457 -16.70766907...</td>\n",
              "      <td>0.5,1.02552e-010,-4.64581e-017,-119.205,-1.019...</td>\n",
              "      <td>157 186 10</td>\n",
              "      <td>3.0</td>\n",
              "      <td>0.5,0.5,3</td>\n",
              "      <td>384x384x19x1</td>\n",
              "      <td>t2_tse_tra</td>\n",
              "      <td>6</td>\n",
              "      <td>1.3.6.1.4.1.14519.5.2.1.7311.5101.143550427570...</td>\n",
              "      <td>AS</td>\n",
              "      <td>NaN</td>\n",
              "      <td>False</td>\n",
              "      <td>1.3.6.1.4.1.14519.5.2.1.7311.5101.204786391199...</td>\n",
              "    </tr>\n",
              "    <tr>\n",
              "      <th>20</th>\n",
              "      <td>ProstateX-0001</td>\n",
              "      <td>t2_tse_tra0</td>\n",
              "      <td>2011-07-08</td>\n",
              "      <td>1</td>\n",
              "      <td>-40.5367071921656 29.320722668457 -16.70766907...</td>\n",
              "      <td>0.5,1.02552e-010,-4.64581e-017,-119.205,-1.019...</td>\n",
              "      <td>157 186 10</td>\n",
              "      <td>3.0</td>\n",
              "      <td>0.5,0.5,3</td>\n",
              "      <td>384x384x19x1</td>\n",
              "      <td>t2_tse_tra</td>\n",
              "      <td>10</td>\n",
              "      <td>1.3.6.1.4.1.14519.5.2.1.7311.5101.296510477295...</td>\n",
              "      <td>AS</td>\n",
              "      <td>1.0</td>\n",
              "      <td>False</td>\n",
              "      <td>1.3.6.1.4.1.14519.5.2.1.7311.5101.204786391199...</td>\n",
              "    </tr>\n",
              "    <tr>\n",
              "      <th>40</th>\n",
              "      <td>ProstateX-0002</td>\n",
              "      <td>t2_tse_tra0</td>\n",
              "      <td>2011-07-15</td>\n",
              "      <td>1</td>\n",
              "      <td>-27.0102 41.5467 -26.0469</td>\n",
              "      <td>0.5,1.02552e-010,7.98512e-017,-103.784,-9.9634...</td>\n",
              "      <td>154 217 12</td>\n",
              "      <td>3.0</td>\n",
              "      <td>0.5,0.5,3</td>\n",
              "      <td>384x384x19x1</td>\n",
              "      <td>t2_tse_tra</td>\n",
              "      <td>4</td>\n",
              "      <td>1.3.6.1.4.1.14519.5.2.1.7311.5101.479812804428...</td>\n",
              "      <td>PZ</td>\n",
              "      <td>2.0</td>\n",
              "      <td>True</td>\n",
              "      <td>1.3.6.1.4.1.14519.5.2.1.7311.5101.170110802438...</td>\n",
              "    </tr>\n",
              "    <tr>\n",
              "      <th>41</th>\n",
              "      <td>ProstateX-0002</td>\n",
              "      <td>t2_tse_tra0</td>\n",
              "      <td>2011-07-15</td>\n",
              "      <td>2</td>\n",
              "      <td>-2.058 38.6752 -34.6104</td>\n",
              "      <td>0.5,1.02552e-010,7.98512e-017,-103.784,-9.9634...</td>\n",
              "      <td>203 216 10</td>\n",
              "      <td>3.0</td>\n",
              "      <td>0.5,0.5,3</td>\n",
              "      <td>384x384x19x1</td>\n",
              "      <td>t2_tse_tra</td>\n",
              "      <td>4</td>\n",
              "      <td>1.3.6.1.4.1.14519.5.2.1.7311.5101.479812804428...</td>\n",
              "      <td>PZ</td>\n",
              "      <td>1.0</td>\n",
              "      <td>False</td>\n",
              "      <td>1.3.6.1.4.1.14519.5.2.1.7311.5101.170110802438...</td>\n",
              "    </tr>\n",
              "  </tbody>\n",
              "</table>\n",
              "</div>\n",
              "    <div class=\"colab-df-buttons\">\n",
              "\n",
              "  <div class=\"colab-df-container\">\n",
              "    <button class=\"colab-df-convert\" onclick=\"convertToInteractive('df-adb363c0-d1f8-4e89-b33e-2d6d800a791a')\"\n",
              "            title=\"Convert this dataframe to an interactive table.\"\n",
              "            style=\"display:none;\">\n",
              "\n",
              "  <svg xmlns=\"http://www.w3.org/2000/svg\" height=\"24px\" viewBox=\"0 -960 960 960\">\n",
              "    <path d=\"M120-120v-720h720v720H120Zm60-500h600v-160H180v160Zm220 220h160v-160H400v160Zm0 220h160v-160H400v160ZM180-400h160v-160H180v160Zm440 0h160v-160H620v160ZM180-180h160v-160H180v160Zm440 0h160v-160H620v160Z\"/>\n",
              "  </svg>\n",
              "    </button>\n",
              "\n",
              "  <style>\n",
              "    .colab-df-container {\n",
              "      display:flex;\n",
              "      gap: 12px;\n",
              "    }\n",
              "\n",
              "    .colab-df-convert {\n",
              "      background-color: #E8F0FE;\n",
              "      border: none;\n",
              "      border-radius: 50%;\n",
              "      cursor: pointer;\n",
              "      display: none;\n",
              "      fill: #1967D2;\n",
              "      height: 32px;\n",
              "      padding: 0 0 0 0;\n",
              "      width: 32px;\n",
              "    }\n",
              "\n",
              "    .colab-df-convert:hover {\n",
              "      background-color: #E2EBFA;\n",
              "      box-shadow: 0px 1px 2px rgba(60, 64, 67, 0.3), 0px 1px 3px 1px rgba(60, 64, 67, 0.15);\n",
              "      fill: #174EA6;\n",
              "    }\n",
              "\n",
              "    .colab-df-buttons div {\n",
              "      margin-bottom: 4px;\n",
              "    }\n",
              "\n",
              "    [theme=dark] .colab-df-convert {\n",
              "      background-color: #3B4455;\n",
              "      fill: #D2E3FC;\n",
              "    }\n",
              "\n",
              "    [theme=dark] .colab-df-convert:hover {\n",
              "      background-color: #434B5C;\n",
              "      box-shadow: 0px 1px 3px 1px rgba(0, 0, 0, 0.15);\n",
              "      filter: drop-shadow(0px 1px 2px rgba(0, 0, 0, 0.3));\n",
              "      fill: #FFFFFF;\n",
              "    }\n",
              "  </style>\n",
              "\n",
              "    <script>\n",
              "      const buttonEl =\n",
              "        document.querySelector('#df-adb363c0-d1f8-4e89-b33e-2d6d800a791a button.colab-df-convert');\n",
              "      buttonEl.style.display =\n",
              "        google.colab.kernel.accessAllowed ? 'block' : 'none';\n",
              "\n",
              "      async function convertToInteractive(key) {\n",
              "        const element = document.querySelector('#df-adb363c0-d1f8-4e89-b33e-2d6d800a791a');\n",
              "        const dataTable =\n",
              "          await google.colab.kernel.invokeFunction('convertToInteractive',\n",
              "                                                    [key], {});\n",
              "        if (!dataTable) return;\n",
              "\n",
              "        const docLinkHtml = 'Like what you see? Visit the ' +\n",
              "          '<a target=\"_blank\" href=https://colab.research.google.com/notebooks/data_table.ipynb>data table notebook</a>'\n",
              "          + ' to learn more about interactive tables.';\n",
              "        element.innerHTML = '';\n",
              "        dataTable['output_type'] = 'display_data';\n",
              "        await google.colab.output.renderOutput(dataTable, element);\n",
              "        const docLink = document.createElement('div');\n",
              "        docLink.innerHTML = docLinkHtml;\n",
              "        element.appendChild(docLink);\n",
              "      }\n",
              "    </script>\n",
              "  </div>\n",
              "\n",
              "\n",
              "<div id=\"df-43bbc4d1-94d0-48bc-b56d-24310a1651cf\">\n",
              "  <button class=\"colab-df-quickchart\" onclick=\"quickchart('df-43bbc4d1-94d0-48bc-b56d-24310a1651cf')\"\n",
              "            title=\"Suggest charts\"\n",
              "            style=\"display:none;\">\n",
              "\n",
              "<svg xmlns=\"http://www.w3.org/2000/svg\" height=\"24px\"viewBox=\"0 0 24 24\"\n",
              "     width=\"24px\">\n",
              "    <g>\n",
              "        <path d=\"M19 3H5c-1.1 0-2 .9-2 2v14c0 1.1.9 2 2 2h14c1.1 0 2-.9 2-2V5c0-1.1-.9-2-2-2zM9 17H7v-7h2v7zm4 0h-2V7h2v10zm4 0h-2v-4h2v4z\"/>\n",
              "    </g>\n",
              "</svg>\n",
              "  </button>\n",
              "\n",
              "<style>\n",
              "  .colab-df-quickchart {\n",
              "      --bg-color: #E8F0FE;\n",
              "      --fill-color: #1967D2;\n",
              "      --hover-bg-color: #E2EBFA;\n",
              "      --hover-fill-color: #174EA6;\n",
              "      --disabled-fill-color: #AAA;\n",
              "      --disabled-bg-color: #DDD;\n",
              "  }\n",
              "\n",
              "  [theme=dark] .colab-df-quickchart {\n",
              "      --bg-color: #3B4455;\n",
              "      --fill-color: #D2E3FC;\n",
              "      --hover-bg-color: #434B5C;\n",
              "      --hover-fill-color: #FFFFFF;\n",
              "      --disabled-bg-color: #3B4455;\n",
              "      --disabled-fill-color: #666;\n",
              "  }\n",
              "\n",
              "  .colab-df-quickchart {\n",
              "    background-color: var(--bg-color);\n",
              "    border: none;\n",
              "    border-radius: 50%;\n",
              "    cursor: pointer;\n",
              "    display: none;\n",
              "    fill: var(--fill-color);\n",
              "    height: 32px;\n",
              "    padding: 0;\n",
              "    width: 32px;\n",
              "  }\n",
              "\n",
              "  .colab-df-quickchart:hover {\n",
              "    background-color: var(--hover-bg-color);\n",
              "    box-shadow: 0 1px 2px rgba(60, 64, 67, 0.3), 0 1px 3px 1px rgba(60, 64, 67, 0.15);\n",
              "    fill: var(--button-hover-fill-color);\n",
              "  }\n",
              "\n",
              "  .colab-df-quickchart-complete:disabled,\n",
              "  .colab-df-quickchart-complete:disabled:hover {\n",
              "    background-color: var(--disabled-bg-color);\n",
              "    fill: var(--disabled-fill-color);\n",
              "    box-shadow: none;\n",
              "  }\n",
              "\n",
              "  .colab-df-spinner {\n",
              "    border: 2px solid var(--fill-color);\n",
              "    border-color: transparent;\n",
              "    border-bottom-color: var(--fill-color);\n",
              "    animation:\n",
              "      spin 1s steps(1) infinite;\n",
              "  }\n",
              "\n",
              "  @keyframes spin {\n",
              "    0% {\n",
              "      border-color: transparent;\n",
              "      border-bottom-color: var(--fill-color);\n",
              "      border-left-color: var(--fill-color);\n",
              "    }\n",
              "    20% {\n",
              "      border-color: transparent;\n",
              "      border-left-color: var(--fill-color);\n",
              "      border-top-color: var(--fill-color);\n",
              "    }\n",
              "    30% {\n",
              "      border-color: transparent;\n",
              "      border-left-color: var(--fill-color);\n",
              "      border-top-color: var(--fill-color);\n",
              "      border-right-color: var(--fill-color);\n",
              "    }\n",
              "    40% {\n",
              "      border-color: transparent;\n",
              "      border-right-color: var(--fill-color);\n",
              "      border-top-color: var(--fill-color);\n",
              "    }\n",
              "    60% {\n",
              "      border-color: transparent;\n",
              "      border-right-color: var(--fill-color);\n",
              "    }\n",
              "    80% {\n",
              "      border-color: transparent;\n",
              "      border-right-color: var(--fill-color);\n",
              "      border-bottom-color: var(--fill-color);\n",
              "    }\n",
              "    90% {\n",
              "      border-color: transparent;\n",
              "      border-bottom-color: var(--fill-color);\n",
              "    }\n",
              "  }\n",
              "</style>\n",
              "\n",
              "  <script>\n",
              "    async function quickchart(key) {\n",
              "      const quickchartButtonEl =\n",
              "        document.querySelector('#' + key + ' button');\n",
              "      quickchartButtonEl.disabled = true;  // To prevent multiple clicks.\n",
              "      quickchartButtonEl.classList.add('colab-df-spinner');\n",
              "      try {\n",
              "        const charts = await google.colab.kernel.invokeFunction(\n",
              "            'suggestCharts', [key], {});\n",
              "      } catch (error) {\n",
              "        console.error('Error during call to suggestCharts:', error);\n",
              "      }\n",
              "      quickchartButtonEl.classList.remove('colab-df-spinner');\n",
              "      quickchartButtonEl.classList.add('colab-df-quickchart-complete');\n",
              "    }\n",
              "    (() => {\n",
              "      let quickchartButtonEl =\n",
              "        document.querySelector('#df-43bbc4d1-94d0-48bc-b56d-24310a1651cf button');\n",
              "      quickchartButtonEl.style.display =\n",
              "        google.colab.kernel.accessAllowed ? 'block' : 'none';\n",
              "    })();\n",
              "  </script>\n",
              "</div>\n",
              "\n",
              "    </div>\n",
              "  </div>\n"
            ],
            "application/vnd.google.colaboratory.intrinsic+json": {
              "type": "dataframe",
              "variable_name": "df_prostatex",
              "repr_error": "0"
            }
          },
          "metadata": {},
          "execution_count": 36
        }
      ]
    },
    {
      "cell_type": "markdown",
      "source": [
        "# Create SRs"
      ],
      "metadata": {
        "id": "z3ne5nSe4y_1"
      }
    },
    {
      "cell_type": "code",
      "source": [
        "num_rows = len(df_prostatex)\n",
        "print('num_rows: ' + str(len(df_prostatex)))"
      ],
      "metadata": {
        "colab": {
          "base_uri": "https://localhost:8080/"
        },
        "id": "CrDK74vA4230",
        "outputId": "d9e7d4c7-1bcb-458c-d6d0-0f8c12785430"
      },
      "execution_count": null,
      "outputs": [
        {
          "output_type": "stream",
          "name": "stdout",
          "text": [
            "num_rows: 623\n"
          ]
        }
      ]
    },
    {
      "cell_type": "code",
      "source": [
        "def save_SR_for_case(findings_df, reference_dcm_file, output_filename):\n",
        "  \"\"\"\n",
        "  findings_df        - a dataframe containing the findings of a single series\n",
        "  reference_dcm_file - path to a single dcm file to be used as a reference\n",
        "  output_filename    - output filename for the SR\n",
        "\n",
        "  \"\"\"\n",
        "\n",
        "  # Read dcm file\n",
        "  image_dataset = dcmread(reference_dcm_file)\n",
        "\n",
        "  # Get the FrameOfReferenceUID\n",
        "  FrameOfReferenceUID = pydicom.dcmread(reference_dcm_file)['FrameOfReferenceUID'].value\n",
        "  print('FrameOfReferenceUID: ' + str(FrameOfReferenceUID))\n",
        "\n",
        "  # Describe the context of reported observations: the person that reported\n",
        "  # the observations and the device that was used to make the observations\n",
        "  observer_person_context = ObserverContext(\n",
        "      observer_type=codes.DCM.Person,\n",
        "      observer_identifying_attributes=PersonObserverIdentifyingAttributes(\n",
        "          name='Anonymous^Reader'\n",
        "      )\n",
        "  )\n",
        "  observer_device_context = ObserverContext(\n",
        "      observer_type=codes.DCM.Device,\n",
        "      observer_identifying_attributes=DeviceObserverIdentifyingAttributes(\n",
        "          uid=generate_uid()\n",
        "      )\n",
        "  )\n",
        "  observation_context = ObservationContext(\n",
        "      observer_person_context=observer_person_context,\n",
        "      #observer_device_context=observer_device_context,\n",
        "  )\n",
        "\n",
        "  imaging_measurements = []\n",
        "\n",
        "  for index,one_finding in findings_df.iterrows():\n",
        "\n",
        "    print(\"Parsing \"+one_finding['pos'])\n",
        "\n",
        "    finding_id = one_finding['fid']\n",
        "\n",
        "    pos_items = re.search(r\"\\ ?(-?[0-9]*\\.[0-9]*)\\ +(-?[0-9]*\\.[0-9]*)\\ +(-?[0-9]*\\.[0-9]*)\", one_finding['pos'])\n",
        "    if not pos_items:\n",
        "      print(\"Failed to parse \"+one_finding['pos'])\n",
        "\n",
        "    referenced_region_3d = ImageRegion3D(\n",
        "        graphic_type=GraphicTypeValues3D.POINT,\n",
        "        graphic_data=np.array([[float(pos_items.group(1)), float(pos_items.group(2)), float(pos_items.group(3))]]),\n",
        "        #source_image=source_image_ref\n",
        "        frame_of_reference_uid=str(FrameOfReferenceUID)\n",
        "    )\n",
        "\n",
        "    # Describe the anatomic site at which observations were made\n",
        "    if one_finding['zone'] == 'TZ':\n",
        "      finding_location = CodedConcept(\n",
        "                    value=\"399384005\",\n",
        "                    meaning=\"Transition zone of the prostate\",\n",
        "                    scheme_designator=\"SCT\"\n",
        "                )\n",
        "    elif one_finding['zone'] == 'PZ':\n",
        "      finding_location = CodedConcept(\n",
        "                    value=\"279706003\",\n",
        "                    meaning=\"Peripheral zone of the prostate\",\n",
        "                    scheme_designator=\"SCT\"\n",
        "                )\n",
        "    elif one_finding['zone'] == 'AS':\n",
        "      finding_location = CodedConcept(\n",
        "                    value=\"717025007\",\n",
        "                    meaning=\"Anterior fibromuscular stroma of prostate\",\n",
        "                    scheme_designator=\"SCT\"\n",
        "                )\n",
        "    elif one_finding['zone'] == 'SV':\n",
        "      finding_location = CodedConcept(\n",
        "                    value=\"64739004\",\n",
        "                    meaning=\"Seminal vesicle\",\n",
        "                    scheme_designator=\"SCT\"\n",
        "                )\n",
        "\n",
        "    finding_sites = [\n",
        "        FindingSite(anatomic_location=finding_location)\n",
        "    ]\n",
        "\n",
        "    evaluation = []\n",
        "    ggg_code = None\n",
        "\n",
        "    if one_finding['ClinSig'] == True:\n",
        "        evaluation=[QualitativeEvaluation(\n",
        "                name=CodedConcept(\n",
        "                    value=\"RID49502\",\n",
        "                    meaning=\"clinically significant prostate cancer\",\n",
        "                    scheme_designator=\"RADLEX\"\n",
        "                ),\n",
        "                value=CodedConcept(value='373066001', scheme_designator='SCT', meaning='Yes', scheme_version=None)\n",
        "            )]\n",
        "\n",
        "    elif one_finding['ClinSig'] == False:\n",
        "        evaluation=[QualitativeEvaluation(\n",
        "                name=CodedConcept(\n",
        "                    value=\"RID49502\",\n",
        "                    meaning=\"clinically significant prostate cancer\",\n",
        "                    scheme_designator=\"RADLEX\"\n",
        "                ),\n",
        "                value=CodedConcept(value='373067005', scheme_designator='SCT', meaning='No', scheme_version=None)\n",
        "            )]\n",
        "\n",
        "    if one_finding['ggg'] is not None:\n",
        "          if one_finding['ggg'] == 1:\n",
        "              evaluation.append(QualitativeEvaluation(\n",
        "                  name=CodedConcept(\n",
        "                      value=\"385377005\",\n",
        "                      meaning=\"Gleason grade finding for prostatic cancer\", # taken from SNOMED browser.\n",
        "                      scheme_designator=\"SCT\"\n",
        "                  ),\n",
        "                  value=CodedConcept(value='860742008', scheme_designator='SCT', meaning='Gleason grade group 1', scheme_version=None)\n",
        "              )\n",
        "              )\n",
        "\n",
        "          elif one_finding['ggg'] == 2:\n",
        "              evaluation.append(QualitativeEvaluation(\n",
        "                  name=CodedConcept(\n",
        "                      value=\"385377005\",\n",
        "                      meaning=\"Gleason grade finding for prostatic cancer\",\n",
        "                      scheme_designator=\"SCT\"\n",
        "                  ),\n",
        "                  value=CodedConcept(value='860743003', scheme_designator='SCT', meaning='Gleason grade group 2', scheme_version=None)\n",
        "              )\n",
        "              )\n",
        "\n",
        "          elif one_finding['ggg'] == 3:\n",
        "              evaluation.append(QualitativeEvaluation(\n",
        "                  name=CodedConcept(\n",
        "                      value=\"385377005\",\n",
        "                      meaning=\"Gleason grade finding for prostatic cancer\",\n",
        "                      scheme_designator=\"SCT\"\n",
        "                  ),\n",
        "                  value=CodedConcept(value='860744009', scheme_designator='SCT', meaning='Gleason grade group 3', scheme_version=None)\n",
        "              )\n",
        "              )\n",
        "\n",
        "          elif one_finding['ggg'] == 4:\n",
        "              evaluation.append(QualitativeEvaluation(\n",
        "                  name=CodedConcept(\n",
        "                      value=\"385377005\",\n",
        "                      meaning=\"Gleason grade finding for prostatic cancer\",\n",
        "                      scheme_designator=\"SCT\"\n",
        "                  ),\n",
        "                  value=CodedConcept(value='860745005', scheme_designator='SCT', meaning='Gleason grade group 4', scheme_version=None)\n",
        "              )\n",
        "              )\n",
        "\n",
        "          elif one_finding['ggg'] == 5:\n",
        "              evaluation.append(QualitativeEvaluation(\n",
        "                  name=CodedConcept(\n",
        "                      value=\"385377005\",\n",
        "                      meaning=\"Gleason grade finding for prostatic cancer\",\n",
        "                      scheme_designator=\"SCT\"\n",
        "                  ),\n",
        "                  value=CodedConcept(value='860746006', scheme_designator='SCT', meaning='Gleason grade group 5', scheme_version=None)\n",
        "              )\n",
        "              )\n",
        "\n",
        "    imaging_measurements.append(\n",
        "        PlanarROIMeasurementsAndQualitativeEvaluations(\n",
        "            tracking_identifier=TrackingIdentifier(\n",
        "                uid=generate_uid(),\n",
        "                identifier=str(finding_id)\n",
        "            ),\n",
        "            referenced_region=referenced_region_3d,\n",
        "            finding_type=codes.SCT.Lesion,\n",
        "            #measurements=measurements,\n",
        "            qualitative_evaluations=evaluation,\n",
        "            finding_sites=finding_sites\n",
        "        )\n",
        "    )\n",
        "\n",
        "  print(len(imaging_measurements))\n",
        "\n",
        "  # Create the report content\n",
        "  procedure_code = CodedConcept(value=\"719178004\", scheme_designator=\"SCT\",\n",
        "                                meaning=\"Multiparametric magnetic resonance imaging of prostate\")\n",
        "  measurement_report = MeasurementReport(\n",
        "      observation_context=observation_context,\n",
        "      procedure_reported=procedure_code,\n",
        "      imaging_measurements=imaging_measurements\n",
        "  )\n",
        "\n",
        "  # Create the Structured Report instance\n",
        "  series_instance_uid = generate_uid()\n",
        "  sr_dataset = Comprehensive3DSR(\n",
        "      evidence=[image_dataset],\n",
        "      content=measurement_report[0],\n",
        "      # series_number=100,\n",
        "      series_instance_uid=series_instance_uid,\n",
        "      series_description=\n",
        "      sop_instance_uid=generate_uid(),\n",
        "      instance_number=1,\n",
        "      manufacturer='IDC',\n",
        "      is_complete = True,\n",
        "      is_final=True\n",
        "  )\n",
        "\n",
        "  sr_dataset.save_as(output_filename, enforce_file_format=True)\n",
        "\n",
        "  return\n"
      ],
      "metadata": {
        "id": "cCqRVLrOrOdB"
      },
      "execution_count": 37,
      "outputs": []
    },
    {
      "cell_type": "code",
      "source": [
        "################################################################################\n",
        "################################################################################\n",
        "\n",
        "sr_directory = \"/content/sr\"\n",
        "if not os.path.isdir(sr_directory):\n",
        "  os.mkdir(sr_directory)\n",
        "\n",
        "PatientID_list = sorted(list(set(df_prostatex['ProxID'].values)))\n",
        "num_patients = len(PatientID_list)\n",
        "print('num_patients: ' + str(num_patients))\n",
        "\n",
        "########################\n",
        "### For each patient ###\n",
        "########################\n",
        "\n",
        "for PatientID in PatientID_list:\n",
        "\n",
        "  print('********** On patient: ' + str(PatientID) + ' **********')\n",
        "\n",
        "  df_prostatex_patient = df_prostatex[df_prostatex['ProxID']==PatientID]\n",
        "  SeriesInstanceUID_list = sorted(list(set(df_prostatex_patient['DCMSerUID'].values)))\n",
        "  num_series = len(SeriesInstanceUID_list)\n",
        "  print('num_series: ' + str(num_series))\n",
        "\n",
        "  if not os.path.isdir(os.path.join(sr_directory, PatientID)):\n",
        "    os.makedirs(os.path.join(sr_directory, PatientID), exist_ok=True)\n",
        "\n",
        "  #######################\n",
        "  ### For each series ###\n",
        "  #######################\n",
        "\n",
        "  for SeriesInstanceUID in SeriesInstanceUID_list:\n",
        "\n",
        "    print('***** On series: ' + str(SeriesInstanceUID) + ' *****')\n",
        "    df_prostatex_series = df_prostatex_patient[df_prostatex_patient['DCMSerUID']==SeriesInstanceUID]\n",
        "\n",
        "    # set output filename for SR\n",
        "    output_filename = os.path.join(sr_directory, PatientID, PatientID + '_' + SeriesInstanceUID + '.dcm')\n",
        "\n",
        "    ### get the df ###\n",
        "\n",
        "    # # Get the specific row of the df\n",
        "    # findings_df = df_prostatex_series.iloc[n]\n",
        "    # # Convert the Series to a DataFrame\n",
        "    # findings_df = findings_df.to_frame().T\n",
        "    # # Reset index of the new DataFrame\n",
        "    # findings_df = findings_df.reset_index(drop=True)\n",
        "    findings_df = df_prostatex_series.copy(deep=True)\n",
        "\n",
        "    ### get the reference dcm ###\n",
        "\n",
        "    # get the SeriesInstanceUID\n",
        "    SeriesInstanceUID = findings_df['DCMSerUID'].values[0]\n",
        "    print('SeriesInstanceUID: ' + str(SeriesInstanceUID))\n",
        "\n",
        "    # create a temporary dicom_directory\n",
        "    dicom_directory = \"/content/data\"\n",
        "    if not os.path.isdir(dicom_directory):\n",
        "      os.mkdir(dicom_directory)\n",
        "\n",
        "    # download the series\n",
        "    client.download_from_selection(\n",
        "      seriesInstanceUID=SeriesInstanceUID,\n",
        "      downloadDir=dicom_directory,\n",
        "      dirTemplate=''\n",
        "    )\n",
        "\n",
        "    # get one file\n",
        "    reference_dcm_file = os.path.join(dicom_directory, os.listdir(dicom_directory)[0])\n",
        "\n",
        "    # create and save the SR\n",
        "    save_SR_for_case(findings_df, reference_dcm_file, output_filename)\n",
        "\n",
        "    # delete files from dicom_directory\n",
        "    !rm -r $dicom_directory"
      ],
      "metadata": {
        "id": "oQcvmfzm0hqc",
        "colab": {
          "base_uri": "https://localhost:8080/"
        },
        "outputId": "7b9137ec-7e18-4e1b-e5f3-7c6430fd04b2"
      },
      "execution_count": 40,
      "outputs": [
        {
          "output_type": "stream",
          "name": "stdout",
          "text": [
            "num_patients: 344\n",
            "********** On patient: ProstateX-0000 **********\n",
            "num_series: 1\n",
            "***** On series: 1.3.6.1.4.1.14519.5.2.1.7311.5101.160028252338004527274326500702 *****\n",
            "SeriesInstanceUID: 1.3.6.1.4.1.14519.5.2.1.7311.5101.160028252338004527274326500702\n"
          ]
        },
        {
          "output_type": "stream",
          "name": "stderr",
          "text": [
            "Downloading data: 100%|█████████▉| 5.68M/5.68M [00:02<00:00, 2.26MB/s]"
          ]
        },
        {
          "output_type": "stream",
          "name": "stdout",
          "text": [
            "FrameOfReferenceUID: 1.3.6.1.4.1.14519.5.2.1.7311.5101.167989189699391273938467151375\n",
            "Parsing 25.7457 31.8707 -38.511\n",
            "1\n"
          ]
        },
        {
          "output_type": "stream",
          "name": "stderr",
          "text": [
            "\n",
            "/usr/local/lib/python3.11/dist-packages/highdicom/base.py:163: UserWarning: The string \"ProstateX-0000\" is unlikely to represent the intended person name since it contains only a single component. Construct a person name according to the format in described in https://dicom.nema.org/dicom/2013/output/chtml/part05/sect_6.2.html#sect_6.2.1.2, or, in pydicom 2.2.0 or later, use the pydicom.valuerep.PersonName.from_named_components() method to construct the person name correctly. If a single-component name is really intended, add a trailing caret character to disambiguate the name.\n",
            "  check_person_name(patient_name)\n"
          ]
        },
        {
          "output_type": "stream",
          "name": "stdout",
          "text": [
            "********** On patient: ProstateX-0001 **********\n",
            "num_series: 2\n",
            "***** On series: 1.3.6.1.4.1.14519.5.2.1.7311.5101.143550427570936841761028976610 *****\n",
            "SeriesInstanceUID: 1.3.6.1.4.1.14519.5.2.1.7311.5101.143550427570936841761028976610\n"
          ]
        },
        {
          "output_type": "stream",
          "name": "stderr",
          "text": [
            "Downloading data: 100%|█████████▉| 5.68M/5.68M [00:02<00:00, 2.27MB/s]"
          ]
        },
        {
          "output_type": "stream",
          "name": "stdout",
          "text": [
            "FrameOfReferenceUID: 1.3.6.1.4.1.14519.5.2.1.7311.5101.410957498702420257441538976223\n",
            "Parsing -40.5367071921656 29.320722668457 -16.7076690704346\n",
            "1\n"
          ]
        },
        {
          "output_type": "stream",
          "name": "stderr",
          "text": [
            "\n",
            "/usr/local/lib/python3.11/dist-packages/highdicom/base.py:163: UserWarning: The string \"ProstateX-0001\" is unlikely to represent the intended person name since it contains only a single component. Construct a person name according to the format in described in https://dicom.nema.org/dicom/2013/output/chtml/part05/sect_6.2.html#sect_6.2.1.2, or, in pydicom 2.2.0 or later, use the pydicom.valuerep.PersonName.from_named_components() method to construct the person name correctly. If a single-component name is really intended, add a trailing caret character to disambiguate the name.\n",
            "  check_person_name(patient_name)\n"
          ]
        },
        {
          "output_type": "stream",
          "name": "stdout",
          "text": [
            "***** On series: 1.3.6.1.4.1.14519.5.2.1.7311.5101.296510477295449267377313817541 *****\n",
            "SeriesInstanceUID: 1.3.6.1.4.1.14519.5.2.1.7311.5101.296510477295449267377313817541\n"
          ]
        },
        {
          "output_type": "stream",
          "name": "stderr",
          "text": [
            "Downloading data: 100%|█████████▉| 5.68M/5.68M [00:02<00:00, 2.26MB/s]"
          ]
        },
        {
          "output_type": "stream",
          "name": "stdout",
          "text": [
            "FrameOfReferenceUID: 1.3.6.1.4.1.14519.5.2.1.7311.5101.410957498702420257441538976223\n",
            "Parsing -40.5367071921656 29.320722668457 -16.7076690704346\n",
            "1\n"
          ]
        },
        {
          "output_type": "stream",
          "name": "stderr",
          "text": [
            "\n",
            "/usr/local/lib/python3.11/dist-packages/highdicom/base.py:163: UserWarning: The string \"ProstateX-0001\" is unlikely to represent the intended person name since it contains only a single component. Construct a person name according to the format in described in https://dicom.nema.org/dicom/2013/output/chtml/part05/sect_6.2.html#sect_6.2.1.2, or, in pydicom 2.2.0 or later, use the pydicom.valuerep.PersonName.from_named_components() method to construct the person name correctly. If a single-component name is really intended, add a trailing caret character to disambiguate the name.\n",
            "  check_person_name(patient_name)\n"
          ]
        },
        {
          "output_type": "stream",
          "name": "stdout",
          "text": [
            "********** On patient: ProstateX-0002 **********\n",
            "num_series: 1\n",
            "***** On series: 1.3.6.1.4.1.14519.5.2.1.7311.5101.479812804428819225709948044920 *****\n",
            "SeriesInstanceUID: 1.3.6.1.4.1.14519.5.2.1.7311.5101.479812804428819225709948044920\n"
          ]
        },
        {
          "output_type": "stream",
          "name": "stderr",
          "text": [
            "Downloading data: 100%|█████████▉| 5.68M/5.68M [00:02<00:00, 2.26MB/s]"
          ]
        },
        {
          "output_type": "stream",
          "name": "stdout",
          "text": [
            "FrameOfReferenceUID: 1.3.6.1.4.1.14519.5.2.1.7311.5101.216292633397710489088373841125\n",
            "Parsing -27.0102 41.5467 -26.0469\n",
            "Parsing -2.058 38.6752 -34.6104\n",
            "2\n"
          ]
        },
        {
          "output_type": "stream",
          "name": "stderr",
          "text": [
            "\n",
            "/usr/local/lib/python3.11/dist-packages/highdicom/base.py:163: UserWarning: The string \"ProstateX-0002\" is unlikely to represent the intended person name since it contains only a single component. Construct a person name according to the format in described in https://dicom.nema.org/dicom/2013/output/chtml/part05/sect_6.2.html#sect_6.2.1.2, or, in pydicom 2.2.0 or later, use the pydicom.valuerep.PersonName.from_named_components() method to construct the person name correctly. If a single-component name is really intended, add a trailing caret character to disambiguate the name.\n",
            "  check_person_name(patient_name)\n"
          ]
        },
        {
          "output_type": "stream",
          "name": "stdout",
          "text": [
            "********** On patient: ProstateX-0003 **********\n",
            "num_series: 1\n",
            "***** On series: 1.3.6.1.4.1.14519.5.2.1.7311.5101.320508777856431308769740730967 *****\n",
            "SeriesInstanceUID: 1.3.6.1.4.1.14519.5.2.1.7311.5101.320508777856431308769740730967\n"
          ]
        },
        {
          "output_type": "stream",
          "name": "stderr",
          "text": [
            "Downloading data: 100%|█████████▉| 6.28M/6.28M [00:02<00:00, 2.50MB/s]"
          ]
        },
        {
          "output_type": "stream",
          "name": "stdout",
          "text": [
            "FrameOfReferenceUID: 1.3.6.1.4.1.14519.5.2.1.7311.5101.210593189161434637574952180176\n",
            "Parsing 22.1495 31.2717 -2.45933\n",
            "Parsing -21.2871 19.3995 19.7429\n",
            "2\n"
          ]
        },
        {
          "output_type": "stream",
          "name": "stderr",
          "text": [
            "\n",
            "/usr/local/lib/python3.11/dist-packages/highdicom/base.py:163: UserWarning: The string \"ProstateX-0003\" is unlikely to represent the intended person name since it contains only a single component. Construct a person name according to the format in described in https://dicom.nema.org/dicom/2013/output/chtml/part05/sect_6.2.html#sect_6.2.1.2, or, in pydicom 2.2.0 or later, use the pydicom.valuerep.PersonName.from_named_components() method to construct the person name correctly. If a single-component name is really intended, add a trailing caret character to disambiguate the name.\n",
            "  check_person_name(patient_name)\n"
          ]
        },
        {
          "output_type": "stream",
          "name": "stdout",
          "text": [
            "********** On patient: ProstateX-0004 **********\n",
            "num_series: 1\n",
            "***** On series: 1.3.6.1.4.1.14519.5.2.1.7311.5101.206828891270520544417996275680 *****\n",
            "SeriesInstanceUID: 1.3.6.1.4.1.14519.5.2.1.7311.5101.206828891270520544417996275680\n"
          ]
        },
        {
          "output_type": "stream",
          "name": "stderr",
          "text": [
            "Downloading data: 100%|█████████▉| 5.68M/5.68M [00:02<00:00, 2.26MB/s]"
          ]
        },
        {
          "output_type": "stream",
          "name": "stdout",
          "text": [
            "FrameOfReferenceUID: 1.3.6.1.4.1.14519.5.2.1.7311.5101.283465068568757436662041653252\n",
            "Parsing -7.69665 3.64226 23.1659\n",
            "1\n"
          ]
        },
        {
          "output_type": "stream",
          "name": "stderr",
          "text": [
            "\n",
            "/usr/local/lib/python3.11/dist-packages/highdicom/base.py:163: UserWarning: The string \"ProstateX-0004\" is unlikely to represent the intended person name since it contains only a single component. Construct a person name according to the format in described in https://dicom.nema.org/dicom/2013/output/chtml/part05/sect_6.2.html#sect_6.2.1.2, or, in pydicom 2.2.0 or later, use the pydicom.valuerep.PersonName.from_named_components() method to construct the person name correctly. If a single-component name is really intended, add a trailing caret character to disambiguate the name.\n",
            "  check_person_name(patient_name)\n"
          ]
        },
        {
          "output_type": "stream",
          "name": "stdout",
          "text": [
            "********** On patient: ProstateX-0005 **********\n",
            "num_series: 1\n",
            "***** On series: 1.3.6.1.4.1.14519.5.2.1.7311.5101.119114186762760923175160291330 *****\n",
            "SeriesInstanceUID: 1.3.6.1.4.1.14519.5.2.1.7311.5101.119114186762760923175160291330\n"
          ]
        },
        {
          "output_type": "stream",
          "name": "stderr",
          "text": [
            "Downloading data: 100%|█████████▉| 5.68M/5.68M [00:02<00:00, 2.26MB/s]"
          ]
        },
        {
          "output_type": "stream",
          "name": "stdout",
          "text": [
            "FrameOfReferenceUID: 1.3.6.1.4.1.14519.5.2.1.7311.5101.253068539461554971732411262101\n",
            "Parsing -14.5174331665039 49.4428329467773 20.7815246582031\n",
            "Parsing -22.0892639160156 25.4668045043945 22.8791542053223\n",
            "Parsing -38.6276 42.2781 21.4084\n",
            "3\n"
          ]
        },
        {
          "output_type": "stream",
          "name": "stderr",
          "text": [
            "\n",
            "/usr/local/lib/python3.11/dist-packages/highdicom/base.py:163: UserWarning: The string \"ProstateX-0005\" is unlikely to represent the intended person name since it contains only a single component. Construct a person name according to the format in described in https://dicom.nema.org/dicom/2013/output/chtml/part05/sect_6.2.html#sect_6.2.1.2, or, in pydicom 2.2.0 or later, use the pydicom.valuerep.PersonName.from_named_components() method to construct the person name correctly. If a single-component name is really intended, add a trailing caret character to disambiguate the name.\n",
            "  check_person_name(patient_name)\n"
          ]
        },
        {
          "output_type": "stream",
          "name": "stdout",
          "text": [
            "********** On patient: ProstateX-0006 **********\n",
            "num_series: 1\n",
            "***** On series: 1.3.6.1.4.1.14519.5.2.1.7311.5101.256864043009268361529947598209 *****\n",
            "SeriesInstanceUID: 1.3.6.1.4.1.14519.5.2.1.7311.5101.256864043009268361529947598209\n"
          ]
        },
        {
          "output_type": "stream",
          "name": "stderr",
          "text": [
            "Downloading data: 100%|█████████▉| 5.68M/5.68M [00:02<00:00, 2.26MB/s]"
          ]
        },
        {
          "output_type": "stream",
          "name": "stdout",
          "text": [
            "FrameOfReferenceUID: 1.3.6.1.4.1.14519.5.2.1.7311.5101.205367199527935663486206405198\n",
            "Parsing 8.20024 28.2665 -10.4784\n",
            "Parsing -9.85971 37.2739 0.561445\n",
            "2\n"
          ]
        },
        {
          "output_type": "stream",
          "name": "stderr",
          "text": [
            "\n",
            "/usr/local/lib/python3.11/dist-packages/highdicom/base.py:163: UserWarning: The string \"ProstateX-0006\" is unlikely to represent the intended person name since it contains only a single component. Construct a person name according to the format in described in https://dicom.nema.org/dicom/2013/output/chtml/part05/sect_6.2.html#sect_6.2.1.2, or, in pydicom 2.2.0 or later, use the pydicom.valuerep.PersonName.from_named_components() method to construct the person name correctly. If a single-component name is really intended, add a trailing caret character to disambiguate the name.\n",
            "  check_person_name(patient_name)\n"
          ]
        },
        {
          "output_type": "stream",
          "name": "stdout",
          "text": [
            "********** On patient: ProstateX-0007 **********\n",
            "num_series: 1\n",
            "***** On series: 1.3.6.1.4.1.14519.5.2.1.7311.5101.282008038881694967871335639325 *****\n",
            "SeriesInstanceUID: 1.3.6.1.4.1.14519.5.2.1.7311.5101.282008038881694967871335639325\n"
          ]
        },
        {
          "output_type": "stream",
          "name": "stderr",
          "text": [
            "Downloading data: 100%|██████████| 6.87M/6.87M [00:03<00:00, 2.28MB/s]"
          ]
        },
        {
          "output_type": "stream",
          "name": "stdout",
          "text": [
            "FrameOfReferenceUID: 1.3.6.1.4.1.14519.5.2.1.7311.5101.140144582290421688423802352078\n",
            "Parsing -5.4258 20.1075 -57.34\n",
            "1\n"
          ]
        },
        {
          "output_type": "stream",
          "name": "stderr",
          "text": [
            "\n",
            "/usr/local/lib/python3.11/dist-packages/highdicom/base.py:163: UserWarning: The string \"ProstateX-0007\" is unlikely to represent the intended person name since it contains only a single component. Construct a person name according to the format in described in https://dicom.nema.org/dicom/2013/output/chtml/part05/sect_6.2.html#sect_6.2.1.2, or, in pydicom 2.2.0 or later, use the pydicom.valuerep.PersonName.from_named_components() method to construct the person name correctly. If a single-component name is really intended, add a trailing caret character to disambiguate the name.\n",
            "  check_person_name(patient_name)\n"
          ]
        },
        {
          "output_type": "stream",
          "name": "stdout",
          "text": [
            "********** On patient: ProstateX-0008 **********\n",
            "num_series: 1\n",
            "***** On series: 1.3.6.1.4.1.14519.5.2.1.7311.5101.114335609248973418447980073777 *****\n",
            "SeriesInstanceUID: 1.3.6.1.4.1.14519.5.2.1.7311.5101.114335609248973418447980073777\n"
          ]
        },
        {
          "output_type": "stream",
          "name": "stderr",
          "text": [
            "Downloading data: 100%|█████████▉| 6.28M/6.28M [00:02<00:00, 2.50MB/s]"
          ]
        },
        {
          "output_type": "stream",
          "name": "stdout",
          "text": [
            "FrameOfReferenceUID: 1.3.6.1.4.1.14519.5.2.1.7311.5101.210391472866399225745146971930\n",
            "Parsing 25.2302 38.6613 -26.864\n",
            "1\n"
          ]
        },
        {
          "output_type": "stream",
          "name": "stderr",
          "text": [
            "\n",
            "/usr/local/lib/python3.11/dist-packages/highdicom/base.py:163: UserWarning: The string \"ProstateX-0008\" is unlikely to represent the intended person name since it contains only a single component. Construct a person name according to the format in described in https://dicom.nema.org/dicom/2013/output/chtml/part05/sect_6.2.html#sect_6.2.1.2, or, in pydicom 2.2.0 or later, use the pydicom.valuerep.PersonName.from_named_components() method to construct the person name correctly. If a single-component name is really intended, add a trailing caret character to disambiguate the name.\n",
            "  check_person_name(patient_name)\n"
          ]
        },
        {
          "output_type": "stream",
          "name": "stdout",
          "text": [
            "********** On patient: ProstateX-0009 **********\n",
            "num_series: 1\n",
            "***** On series: 1.3.6.1.4.1.14519.5.2.1.7311.5101.180041601751316950966041961765 *****\n",
            "SeriesInstanceUID: 1.3.6.1.4.1.14519.5.2.1.7311.5101.180041601751316950966041961765\n"
          ]
        },
        {
          "output_type": "stream",
          "name": "stderr",
          "text": [
            "Downloading data: 100%|█████████▉| 6.28M/6.28M [00:02<00:00, 2.50MB/s]"
          ]
        },
        {
          "output_type": "stream",
          "name": "stdout",
          "text": [
            "FrameOfReferenceUID: 1.3.6.1.4.1.14519.5.2.1.7311.5101.323498057870199551812091956260\n",
            "Parsing 19.565 32.8037 -37.4421\n",
            "1\n"
          ]
        },
        {
          "output_type": "stream",
          "name": "stderr",
          "text": [
            "\n",
            "/usr/local/lib/python3.11/dist-packages/highdicom/base.py:163: UserWarning: The string \"ProstateX-0009\" is unlikely to represent the intended person name since it contains only a single component. Construct a person name according to the format in described in https://dicom.nema.org/dicom/2013/output/chtml/part05/sect_6.2.html#sect_6.2.1.2, or, in pydicom 2.2.0 or later, use the pydicom.valuerep.PersonName.from_named_components() method to construct the person name correctly. If a single-component name is really intended, add a trailing caret character to disambiguate the name.\n",
            "  check_person_name(patient_name)\n"
          ]
        },
        {
          "output_type": "stream",
          "name": "stdout",
          "text": [
            "********** On patient: ProstateX-0010 **********\n",
            "num_series: 2\n",
            "***** On series: 1.3.6.1.4.1.14519.5.2.1.7311.5101.102816563221419143513831507664 *****\n",
            "SeriesInstanceUID: 1.3.6.1.4.1.14519.5.2.1.7311.5101.102816563221419143513831507664\n"
          ]
        },
        {
          "output_type": "stream",
          "name": "stderr",
          "text": [
            "Downloading data: 100%|█████████▉| 5.68M/5.68M [00:02<00:00, 2.27MB/s]"
          ]
        },
        {
          "output_type": "stream",
          "name": "stdout",
          "text": [
            "FrameOfReferenceUID: 1.3.6.1.4.1.14519.5.2.1.7311.5101.832971976524182914051535428302\n",
            "Parsing -31.8128 51.364 -56.0047\n",
            "1\n"
          ]
        },
        {
          "output_type": "stream",
          "name": "stderr",
          "text": [
            "\n",
            "/usr/local/lib/python3.11/dist-packages/highdicom/base.py:163: UserWarning: The string \"ProstateX-0010\" is unlikely to represent the intended person name since it contains only a single component. Construct a person name according to the format in described in https://dicom.nema.org/dicom/2013/output/chtml/part05/sect_6.2.html#sect_6.2.1.2, or, in pydicom 2.2.0 or later, use the pydicom.valuerep.PersonName.from_named_components() method to construct the person name correctly. If a single-component name is really intended, add a trailing caret character to disambiguate the name.\n",
            "  check_person_name(patient_name)\n"
          ]
        },
        {
          "output_type": "stream",
          "name": "stdout",
          "text": [
            "***** On series: 1.3.6.1.4.1.14519.5.2.1.7311.5101.107792262621268615786134115389 *****\n",
            "SeriesInstanceUID: 1.3.6.1.4.1.14519.5.2.1.7311.5101.107792262621268615786134115389\n"
          ]
        },
        {
          "output_type": "stream",
          "name": "stderr",
          "text": [
            "Downloading data: 100%|█████████▉| 5.68M/5.68M [00:02<00:00, 2.26MB/s]"
          ]
        },
        {
          "output_type": "stream",
          "name": "stdout",
          "text": [
            "FrameOfReferenceUID: 1.3.6.1.4.1.14519.5.2.1.7311.5101.832971976524182914051535428302\n",
            "Parsing -31.8128 51.364 -56.0047\n",
            "1\n"
          ]
        },
        {
          "output_type": "stream",
          "name": "stderr",
          "text": [
            "\n",
            "/usr/local/lib/python3.11/dist-packages/highdicom/base.py:163: UserWarning: The string \"ProstateX-0010\" is unlikely to represent the intended person name since it contains only a single component. Construct a person name according to the format in described in https://dicom.nema.org/dicom/2013/output/chtml/part05/sect_6.2.html#sect_6.2.1.2, or, in pydicom 2.2.0 or later, use the pydicom.valuerep.PersonName.from_named_components() method to construct the person name correctly. If a single-component name is really intended, add a trailing caret character to disambiguate the name.\n",
            "  check_person_name(patient_name)\n"
          ]
        },
        {
          "output_type": "stream",
          "name": "stdout",
          "text": [
            "********** On patient: ProstateX-0011 **********\n",
            "num_series: 2\n",
            "***** On series: 1.3.6.1.4.1.14519.5.2.1.7311.5101.158939653047507686306327000502 *****\n",
            "SeriesInstanceUID: 1.3.6.1.4.1.14519.5.2.1.7311.5101.158939653047507686306327000502\n"
          ]
        },
        {
          "output_type": "stream",
          "name": "stderr",
          "text": [
            "Downloading data: 100%|█████████▉| 5.68M/5.68M [00:02<00:00, 2.26MB/s]"
          ]
        },
        {
          "output_type": "stream",
          "name": "stdout",
          "text": [
            "FrameOfReferenceUID: 1.3.6.1.4.1.14519.5.2.1.7311.5101.259197513915038892612929206827\n",
            "Parsing 9.29795 10.7009 14.2935\n",
            "1\n"
          ]
        },
        {
          "output_type": "stream",
          "name": "stderr",
          "text": [
            "\n",
            "/usr/local/lib/python3.11/dist-packages/highdicom/base.py:163: UserWarning: The string \"ProstateX-0011\" is unlikely to represent the intended person name since it contains only a single component. Construct a person name according to the format in described in https://dicom.nema.org/dicom/2013/output/chtml/part05/sect_6.2.html#sect_6.2.1.2, or, in pydicom 2.2.0 or later, use the pydicom.valuerep.PersonName.from_named_components() method to construct the person name correctly. If a single-component name is really intended, add a trailing caret character to disambiguate the name.\n",
            "  check_person_name(patient_name)\n"
          ]
        },
        {
          "output_type": "stream",
          "name": "stdout",
          "text": [
            "***** On series: 1.3.6.1.4.1.14519.5.2.1.7311.5101.186070864519714822595685748529 *****\n",
            "SeriesInstanceUID: 1.3.6.1.4.1.14519.5.2.1.7311.5101.186070864519714822595685748529\n"
          ]
        },
        {
          "output_type": "stream",
          "name": "stderr",
          "text": [
            "Downloading data: 100%|█████████▉| 5.68M/5.68M [00:02<00:00, 2.27MB/s]"
          ]
        },
        {
          "output_type": "stream",
          "name": "stdout",
          "text": [
            "FrameOfReferenceUID: 1.3.6.1.4.1.14519.5.2.1.7311.5101.259197513915038892612929206827\n",
            "Parsing 9.29795 10.7009 14.2935\n",
            "1\n"
          ]
        },
        {
          "output_type": "stream",
          "name": "stderr",
          "text": [
            "\n",
            "/usr/local/lib/python3.11/dist-packages/highdicom/base.py:163: UserWarning: The string \"ProstateX-0011\" is unlikely to represent the intended person name since it contains only a single component. Construct a person name according to the format in described in https://dicom.nema.org/dicom/2013/output/chtml/part05/sect_6.2.html#sect_6.2.1.2, or, in pydicom 2.2.0 or later, use the pydicom.valuerep.PersonName.from_named_components() method to construct the person name correctly. If a single-component name is really intended, add a trailing caret character to disambiguate the name.\n",
            "  check_person_name(patient_name)\n"
          ]
        },
        {
          "output_type": "stream",
          "name": "stdout",
          "text": [
            "********** On patient: ProstateX-0012 **********\n",
            "num_series: 1\n",
            "***** On series: 1.3.6.1.4.1.14519.5.2.1.7311.5101.179061211347773359586192609623 *****\n",
            "SeriesInstanceUID: 1.3.6.1.4.1.14519.5.2.1.7311.5101.179061211347773359586192609623\n"
          ]
        },
        {
          "output_type": "stream",
          "name": "stderr",
          "text": [
            "Downloading data: 100%|█████████▉| 5.68M/5.68M [00:02<00:00, 2.26MB/s]"
          ]
        },
        {
          "output_type": "stream",
          "name": "stdout",
          "text": [
            "FrameOfReferenceUID: 1.3.6.1.4.1.14519.5.2.1.7311.5101.198807856292143314856440369438\n",
            "Parsing 4.08778 49.7898 -3.71828\n",
            "Parsing 3.41538238525391 16.3572769165039 6.36409950256348\n",
            "2\n"
          ]
        },
        {
          "output_type": "stream",
          "name": "stderr",
          "text": [
            "\n",
            "/usr/local/lib/python3.11/dist-packages/highdicom/base.py:163: UserWarning: The string \"ProstateX-0012\" is unlikely to represent the intended person name since it contains only a single component. Construct a person name according to the format in described in https://dicom.nema.org/dicom/2013/output/chtml/part05/sect_6.2.html#sect_6.2.1.2, or, in pydicom 2.2.0 or later, use the pydicom.valuerep.PersonName.from_named_components() method to construct the person name correctly. If a single-component name is really intended, add a trailing caret character to disambiguate the name.\n",
            "  check_person_name(patient_name)\n"
          ]
        },
        {
          "output_type": "stream",
          "name": "stdout",
          "text": [
            "********** On patient: ProstateX-0013 **********\n",
            "num_series: 1\n",
            "***** On series: 1.3.6.1.4.1.14519.5.2.1.7311.5101.171893377598642682694687211799 *****\n",
            "SeriesInstanceUID: 1.3.6.1.4.1.14519.5.2.1.7311.5101.171893377598642682694687211799\n"
          ]
        },
        {
          "output_type": "stream",
          "name": "stderr",
          "text": [
            "Downloading data: 100%|██████████| 6.87M/6.87M [00:03<00:00, 2.28MB/s]"
          ]
        },
        {
          "output_type": "stream",
          "name": "stdout",
          "text": [
            "FrameOfReferenceUID: 1.3.6.1.4.1.14519.5.2.1.7311.5101.302036127175275255662137184167\n",
            "Parsing -42.7915 30.7382 5.60159\n",
            "1\n"
          ]
        },
        {
          "output_type": "stream",
          "name": "stderr",
          "text": [
            "\n",
            "/usr/local/lib/python3.11/dist-packages/highdicom/base.py:163: UserWarning: The string \"ProstateX-0013\" is unlikely to represent the intended person name since it contains only a single component. Construct a person name according to the format in described in https://dicom.nema.org/dicom/2013/output/chtml/part05/sect_6.2.html#sect_6.2.1.2, or, in pydicom 2.2.0 or later, use the pydicom.valuerep.PersonName.from_named_components() method to construct the person name correctly. If a single-component name is really intended, add a trailing caret character to disambiguate the name.\n",
            "  check_person_name(patient_name)\n"
          ]
        },
        {
          "output_type": "stream",
          "name": "stdout",
          "text": [
            "********** On patient: ProstateX-0014 **********\n",
            "num_series: 1\n",
            "***** On series: 1.3.6.1.4.1.14519.5.2.1.7311.5101.159842252251603061509259813100 *****\n",
            "SeriesInstanceUID: 1.3.6.1.4.1.14519.5.2.1.7311.5101.159842252251603061509259813100\n"
          ]
        },
        {
          "output_type": "stream",
          "name": "stderr",
          "text": [
            "Downloading data: 100%|█████████▉| 5.68M/5.68M [00:03<00:00, 1.89MB/s]"
          ]
        },
        {
          "output_type": "stream",
          "name": "stdout",
          "text": [
            "FrameOfReferenceUID: 1.3.6.1.4.1.14519.5.2.1.7311.5101.131800403533420663344601001056\n",
            "Parsing -23.0672 31.7673 3.02353\n",
            "1\n"
          ]
        },
        {
          "output_type": "stream",
          "name": "stderr",
          "text": [
            "\n",
            "/usr/local/lib/python3.11/dist-packages/highdicom/base.py:163: UserWarning: The string \"ProstateX-0014\" is unlikely to represent the intended person name since it contains only a single component. Construct a person name according to the format in described in https://dicom.nema.org/dicom/2013/output/chtml/part05/sect_6.2.html#sect_6.2.1.2, or, in pydicom 2.2.0 or later, use the pydicom.valuerep.PersonName.from_named_components() method to construct the person name correctly. If a single-component name is really intended, add a trailing caret character to disambiguate the name.\n",
            "  check_person_name(patient_name)\n"
          ]
        },
        {
          "output_type": "stream",
          "name": "stdout",
          "text": [
            "********** On patient: ProstateX-0015 **********\n",
            "num_series: 1\n",
            "***** On series: 1.3.6.1.4.1.14519.5.2.1.7311.5101.287403883614425048490255475041 *****\n",
            "SeriesInstanceUID: 1.3.6.1.4.1.14519.5.2.1.7311.5101.287403883614425048490255475041\n"
          ]
        },
        {
          "output_type": "stream",
          "name": "stderr",
          "text": [
            "Downloading data: 100%|█████████▉| 5.68M/5.68M [00:02<00:00, 2.27MB/s]"
          ]
        },
        {
          "output_type": "stream",
          "name": "stdout",
          "text": [
            "FrameOfReferenceUID: 1.3.6.1.4.1.14519.5.2.1.7311.5101.182602822499152652136388133733\n",
            "Parsing  -3.5 -4.2 -40.5\n",
            "1\n"
          ]
        },
        {
          "output_type": "stream",
          "name": "stderr",
          "text": [
            "\n",
            "/usr/local/lib/python3.11/dist-packages/highdicom/base.py:163: UserWarning: The string \"ProstateX-0015\" is unlikely to represent the intended person name since it contains only a single component. Construct a person name according to the format in described in https://dicom.nema.org/dicom/2013/output/chtml/part05/sect_6.2.html#sect_6.2.1.2, or, in pydicom 2.2.0 or later, use the pydicom.valuerep.PersonName.from_named_components() method to construct the person name correctly. If a single-component name is really intended, add a trailing caret character to disambiguate the name.\n",
            "  check_person_name(patient_name)\n"
          ]
        },
        {
          "output_type": "stream",
          "name": "stdout",
          "text": [
            "********** On patient: ProstateX-0016 **********\n",
            "num_series: 1\n",
            "***** On series: 1.3.6.1.4.1.14519.5.2.1.7311.5101.289400416987402469088090375658 *****\n",
            "SeriesInstanceUID: 1.3.6.1.4.1.14519.5.2.1.7311.5101.289400416987402469088090375658\n"
          ]
        },
        {
          "output_type": "stream",
          "name": "stderr",
          "text": [
            "Downloading data: 100%|█████████▉| 6.28M/6.28M [00:02<00:00, 2.50MB/s]"
          ]
        },
        {
          "output_type": "stream",
          "name": "stdout",
          "text": [
            "FrameOfReferenceUID: 1.3.6.1.4.1.14519.5.2.1.7311.5101.327381123730836177085823920221\n",
            "Parsing -17.4648 10.7487 -1.55198\n",
            "1\n"
          ]
        },
        {
          "output_type": "stream",
          "name": "stderr",
          "text": [
            "\n",
            "/usr/local/lib/python3.11/dist-packages/highdicom/base.py:163: UserWarning: The string \"ProstateX-0016\" is unlikely to represent the intended person name since it contains only a single component. Construct a person name according to the format in described in https://dicom.nema.org/dicom/2013/output/chtml/part05/sect_6.2.html#sect_6.2.1.2, or, in pydicom 2.2.0 or later, use the pydicom.valuerep.PersonName.from_named_components() method to construct the person name correctly. If a single-component name is really intended, add a trailing caret character to disambiguate the name.\n",
            "  check_person_name(patient_name)\n"
          ]
        },
        {
          "output_type": "stream",
          "name": "stdout",
          "text": [
            "********** On patient: ProstateX-0017 **********\n",
            "num_series: 1\n",
            "***** On series: 1.3.6.1.4.1.14519.5.2.1.7311.5101.332787653334717830086813339653 *****\n",
            "SeriesInstanceUID: 1.3.6.1.4.1.14519.5.2.1.7311.5101.332787653334717830086813339653\n"
          ]
        },
        {
          "output_type": "stream",
          "name": "stderr",
          "text": [
            "Downloading data: 100%|█████████▉| 5.68M/5.68M [00:02<00:00, 2.26MB/s]"
          ]
        },
        {
          "output_type": "stream",
          "name": "stdout",
          "text": [
            "FrameOfReferenceUID: 1.3.6.1.4.1.14519.5.2.1.7311.5101.287222051834297916952863441846\n",
            "Parsing 2.89097 49.4408 -14.4697\n",
            "1\n"
          ]
        },
        {
          "output_type": "stream",
          "name": "stderr",
          "text": [
            "\n",
            "/usr/local/lib/python3.11/dist-packages/highdicom/base.py:163: UserWarning: The string \"ProstateX-0017\" is unlikely to represent the intended person name since it contains only a single component. Construct a person name according to the format in described in https://dicom.nema.org/dicom/2013/output/chtml/part05/sect_6.2.html#sect_6.2.1.2, or, in pydicom 2.2.0 or later, use the pydicom.valuerep.PersonName.from_named_components() method to construct the person name correctly. If a single-component name is really intended, add a trailing caret character to disambiguate the name.\n",
            "  check_person_name(patient_name)\n"
          ]
        },
        {
          "output_type": "stream",
          "name": "stdout",
          "text": [
            "********** On patient: ProstateX-0018 **********\n",
            "num_series: 1\n",
            "***** On series: 1.3.6.1.4.1.14519.5.2.1.7311.5101.299325488555858809740695924568 *****\n",
            "SeriesInstanceUID: 1.3.6.1.4.1.14519.5.2.1.7311.5101.299325488555858809740695924568\n"
          ]
        },
        {
          "output_type": "stream",
          "name": "stderr",
          "text": [
            "Downloading data: 100%|█████████▉| 5.68M/5.68M [00:03<00:00, 1.88MB/s]"
          ]
        },
        {
          "output_type": "stream",
          "name": "stdout",
          "text": [
            "FrameOfReferenceUID: 1.3.6.1.4.1.14519.5.2.1.7311.5101.277524692602528742051385665391\n",
            "Parsing 4.08917 18.7769 -11.5951\n",
            "1\n"
          ]
        },
        {
          "output_type": "stream",
          "name": "stderr",
          "text": [
            "\n",
            "/usr/local/lib/python3.11/dist-packages/highdicom/base.py:163: UserWarning: The string \"ProstateX-0018\" is unlikely to represent the intended person name since it contains only a single component. Construct a person name according to the format in described in https://dicom.nema.org/dicom/2013/output/chtml/part05/sect_6.2.html#sect_6.2.1.2, or, in pydicom 2.2.0 or later, use the pydicom.valuerep.PersonName.from_named_components() method to construct the person name correctly. If a single-component name is really intended, add a trailing caret character to disambiguate the name.\n",
            "  check_person_name(patient_name)\n"
          ]
        },
        {
          "output_type": "stream",
          "name": "stdout",
          "text": [
            "********** On patient: ProstateX-0019 **********\n",
            "num_series: 2\n",
            "***** On series: 1.3.6.1.4.1.14519.5.2.1.7311.5101.178335346029070622782294165888 *****\n",
            "SeriesInstanceUID: 1.3.6.1.4.1.14519.5.2.1.7311.5101.178335346029070622782294165888\n"
          ]
        },
        {
          "output_type": "stream",
          "name": "stderr",
          "text": [
            "Downloading data: 100%|█████████▉| 5.68M/5.68M [00:02<00:00, 2.26MB/s]"
          ]
        },
        {
          "output_type": "stream",
          "name": "stdout",
          "text": [
            "FrameOfReferenceUID: 1.3.6.1.4.1.14519.5.2.1.7311.5101.162656452603083369153207643547\n",
            "Parsing -4.21012 42.1916 -40.6457\n",
            "1\n"
          ]
        },
        {
          "output_type": "stream",
          "name": "stderr",
          "text": [
            "\n",
            "/usr/local/lib/python3.11/dist-packages/highdicom/base.py:163: UserWarning: The string \"ProstateX-0019\" is unlikely to represent the intended person name since it contains only a single component. Construct a person name according to the format in described in https://dicom.nema.org/dicom/2013/output/chtml/part05/sect_6.2.html#sect_6.2.1.2, or, in pydicom 2.2.0 or later, use the pydicom.valuerep.PersonName.from_named_components() method to construct the person name correctly. If a single-component name is really intended, add a trailing caret character to disambiguate the name.\n",
            "  check_person_name(patient_name)\n"
          ]
        },
        {
          "output_type": "stream",
          "name": "stdout",
          "text": [
            "***** On series: 1.3.6.1.4.1.14519.5.2.1.7311.5101.337120993451084170526679013923 *****\n",
            "SeriesInstanceUID: 1.3.6.1.4.1.14519.5.2.1.7311.5101.337120993451084170526679013923\n"
          ]
        },
        {
          "output_type": "stream",
          "name": "stderr",
          "text": [
            "Downloading data: 100%|█████████▉| 5.68M/5.68M [00:02<00:00, 2.26MB/s]"
          ]
        },
        {
          "output_type": "stream",
          "name": "stdout",
          "text": [
            "FrameOfReferenceUID: 1.3.6.1.4.1.14519.5.2.1.7311.5101.162656452603083369153207643547\n",
            "Parsing -4.21012 42.1916 -40.6457\n",
            "1\n"
          ]
        },
        {
          "output_type": "stream",
          "name": "stderr",
          "text": [
            "\n",
            "/usr/local/lib/python3.11/dist-packages/highdicom/base.py:163: UserWarning: The string \"ProstateX-0019\" is unlikely to represent the intended person name since it contains only a single component. Construct a person name according to the format in described in https://dicom.nema.org/dicom/2013/output/chtml/part05/sect_6.2.html#sect_6.2.1.2, or, in pydicom 2.2.0 or later, use the pydicom.valuerep.PersonName.from_named_components() method to construct the person name correctly. If a single-component name is really intended, add a trailing caret character to disambiguate the name.\n",
            "  check_person_name(patient_name)\n"
          ]
        },
        {
          "output_type": "stream",
          "name": "stdout",
          "text": [
            "********** On patient: ProstateX-0020 **********\n",
            "num_series: 1\n",
            "***** On series: 1.3.6.1.4.1.14519.5.2.1.7311.5101.109832262779867794170417053903 *****\n",
            "SeriesInstanceUID: 1.3.6.1.4.1.14519.5.2.1.7311.5101.109832262779867794170417053903\n"
          ]
        },
        {
          "output_type": "stream",
          "name": "stderr",
          "text": [
            "Downloading data: 100%|█████████▉| 6.28M/6.28M [00:02<00:00, 2.50MB/s]"
          ]
        },
        {
          "output_type": "stream",
          "name": "stdout",
          "text": [
            "FrameOfReferenceUID: 1.3.6.1.4.1.14519.5.2.1.7311.5101.133752717784947817090220893351\n",
            "Parsing 10.1617 53.5994 10.0223\n",
            "1\n"
          ]
        },
        {
          "output_type": "stream",
          "name": "stderr",
          "text": [
            "\n",
            "/usr/local/lib/python3.11/dist-packages/highdicom/base.py:163: UserWarning: The string \"ProstateX-0020\" is unlikely to represent the intended person name since it contains only a single component. Construct a person name according to the format in described in https://dicom.nema.org/dicom/2013/output/chtml/part05/sect_6.2.html#sect_6.2.1.2, or, in pydicom 2.2.0 or later, use the pydicom.valuerep.PersonName.from_named_components() method to construct the person name correctly. If a single-component name is really intended, add a trailing caret character to disambiguate the name.\n",
            "  check_person_name(patient_name)\n"
          ]
        },
        {
          "output_type": "stream",
          "name": "stdout",
          "text": [
            "********** On patient: ProstateX-0021 **********\n",
            "num_series: 1\n",
            "***** On series: 1.3.6.1.4.1.14519.5.2.1.7311.5101.280015489563490250982057308457 *****\n",
            "SeriesInstanceUID: 1.3.6.1.4.1.14519.5.2.1.7311.5101.280015489563490250982057308457\n"
          ]
        },
        {
          "output_type": "stream",
          "name": "stderr",
          "text": [
            "Downloading data: 100%|█████████▉| 6.28M/6.28M [00:02<00:00, 2.50MB/s]"
          ]
        },
        {
          "output_type": "stream",
          "name": "stdout",
          "text": [
            "FrameOfReferenceUID: 1.3.6.1.4.1.14519.5.2.1.7311.5101.224004587588022991678486914112\n",
            "Parsing 13.33 33.2901 -26.3378\n",
            "Parsing 38.7099 28.8409 -28.6634\n",
            "2\n"
          ]
        },
        {
          "output_type": "stream",
          "name": "stderr",
          "text": [
            "\n",
            "/usr/local/lib/python3.11/dist-packages/highdicom/base.py:163: UserWarning: The string \"ProstateX-0021\" is unlikely to represent the intended person name since it contains only a single component. Construct a person name according to the format in described in https://dicom.nema.org/dicom/2013/output/chtml/part05/sect_6.2.html#sect_6.2.1.2, or, in pydicom 2.2.0 or later, use the pydicom.valuerep.PersonName.from_named_components() method to construct the person name correctly. If a single-component name is really intended, add a trailing caret character to disambiguate the name.\n",
            "  check_person_name(patient_name)\n"
          ]
        },
        {
          "output_type": "stream",
          "name": "stdout",
          "text": [
            "********** On patient: ProstateX-0022 **********\n",
            "num_series: 1\n",
            "***** On series: 1.3.6.1.4.1.14519.5.2.1.7311.5101.198836923216150981519653002628 *****\n",
            "SeriesInstanceUID: 1.3.6.1.4.1.14519.5.2.1.7311.5101.198836923216150981519653002628\n"
          ]
        },
        {
          "output_type": "stream",
          "name": "stderr",
          "text": [
            "Downloading data: 100%|█████████▉| 5.68M/5.68M [00:02<00:00, 2.26MB/s]"
          ]
        },
        {
          "output_type": "stream",
          "name": "stdout",
          "text": [
            "FrameOfReferenceUID: 1.3.6.1.4.1.14519.5.2.1.7311.5101.230441234066577650056533789220\n",
            "Parsing -22.5143 51.5685 -107.645\n",
            "1\n"
          ]
        },
        {
          "output_type": "stream",
          "name": "stderr",
          "text": [
            "\n",
            "/usr/local/lib/python3.11/dist-packages/highdicom/base.py:163: UserWarning: The string \"ProstateX-0022\" is unlikely to represent the intended person name since it contains only a single component. Construct a person name according to the format in described in https://dicom.nema.org/dicom/2013/output/chtml/part05/sect_6.2.html#sect_6.2.1.2, or, in pydicom 2.2.0 or later, use the pydicom.valuerep.PersonName.from_named_components() method to construct the person name correctly. If a single-component name is really intended, add a trailing caret character to disambiguate the name.\n",
            "  check_person_name(patient_name)\n"
          ]
        },
        {
          "output_type": "stream",
          "name": "stdout",
          "text": [
            "********** On patient: ProstateX-0023 **********\n",
            "num_series: 1\n",
            "***** On series: 1.3.6.1.4.1.14519.5.2.1.7311.5101.842199303058687201997947709588 *****\n",
            "SeriesInstanceUID: 1.3.6.1.4.1.14519.5.2.1.7311.5101.842199303058687201997947709588\n"
          ]
        },
        {
          "output_type": "stream",
          "name": "stderr",
          "text": [
            "Downloading data: 100%|█████████▉| 5.68M/5.68M [00:02<00:00, 2.27MB/s]"
          ]
        },
        {
          "output_type": "stream",
          "name": "stdout",
          "text": [
            "FrameOfReferenceUID: 1.3.6.1.4.1.14519.5.2.1.7311.5101.918841457001366993425467686408\n",
            "Parsing -4.543299 32.541 13.5624\n",
            "Parsing 30.8291 20.0179 17.6021\n",
            "2\n"
          ]
        },
        {
          "output_type": "stream",
          "name": "stderr",
          "text": [
            "\n",
            "/usr/local/lib/python3.11/dist-packages/highdicom/base.py:163: UserWarning: The string \"ProstateX-0023\" is unlikely to represent the intended person name since it contains only a single component. Construct a person name according to the format in described in https://dicom.nema.org/dicom/2013/output/chtml/part05/sect_6.2.html#sect_6.2.1.2, or, in pydicom 2.2.0 or later, use the pydicom.valuerep.PersonName.from_named_components() method to construct the person name correctly. If a single-component name is really intended, add a trailing caret character to disambiguate the name.\n",
            "  check_person_name(patient_name)\n"
          ]
        },
        {
          "output_type": "stream",
          "name": "stdout",
          "text": [
            "********** On patient: ProstateX-0024 **********\n",
            "num_series: 1\n",
            "***** On series: 1.3.6.1.4.1.14519.5.2.1.7311.5101.112910418643385818012268269485 *****\n",
            "SeriesInstanceUID: 1.3.6.1.4.1.14519.5.2.1.7311.5101.112910418643385818012268269485\n"
          ]
        },
        {
          "output_type": "stream",
          "name": "stderr",
          "text": [
            "Downloading data: 100%|█████████▉| 6.28M/6.28M [00:02<00:00, 2.50MB/s]"
          ]
        },
        {
          "output_type": "stream",
          "name": "stdout",
          "text": [
            "FrameOfReferenceUID: 1.3.6.1.4.1.14519.5.2.1.7311.5101.221932700703407615883727918828\n",
            "Parsing -19.4802 26.3731 -25.4612\n",
            "1\n"
          ]
        },
        {
          "output_type": "stream",
          "name": "stderr",
          "text": [
            "\n",
            "/usr/local/lib/python3.11/dist-packages/highdicom/base.py:163: UserWarning: The string \"ProstateX-0024\" is unlikely to represent the intended person name since it contains only a single component. Construct a person name according to the format in described in https://dicom.nema.org/dicom/2013/output/chtml/part05/sect_6.2.html#sect_6.2.1.2, or, in pydicom 2.2.0 or later, use the pydicom.valuerep.PersonName.from_named_components() method to construct the person name correctly. If a single-component name is really intended, add a trailing caret character to disambiguate the name.\n",
            "  check_person_name(patient_name)\n"
          ]
        },
        {
          "output_type": "stream",
          "name": "stdout",
          "text": [
            "********** On patient: ProstateX-0025 **********\n",
            "num_series: 1\n",
            "***** On series: 1.3.6.1.4.1.14519.5.2.1.7311.5101.138312525804351431765740680161 *****\n",
            "SeriesInstanceUID: 1.3.6.1.4.1.14519.5.2.1.7311.5101.138312525804351431765740680161\n"
          ]
        },
        {
          "output_type": "stream",
          "name": "stderr",
          "text": [
            "Downloading data: 100%|█████████▉| 5.68M/5.68M [00:02<00:00, 2.26MB/s]\n",
            "/usr/local/lib/python3.11/dist-packages/highdicom/base.py:163: UserWarning: The string \"ProstateX-0025\" is unlikely to represent the intended person name since it contains only a single component. Construct a person name according to the format in described in https://dicom.nema.org/dicom/2013/output/chtml/part05/sect_6.2.html#sect_6.2.1.2, or, in pydicom 2.2.0 or later, use the pydicom.valuerep.PersonName.from_named_components() method to construct the person name correctly. If a single-component name is really intended, add a trailing caret character to disambiguate the name.\n",
            "  check_person_name(patient_name)\n"
          ]
        },
        {
          "output_type": "stream",
          "name": "stdout",
          "text": [
            "FrameOfReferenceUID: 1.3.6.1.4.1.14519.5.2.1.7311.5101.300216890660358837012937187325\n",
            "Parsing 23.6983 51.83 -55.7923\n",
            "Parsing 23.6983 51.83 -55.7923\n",
            "Parsing 34.8707 51.5015 -3.06943\n",
            "Parsing 34.8707 51.5015 -3.06943\n",
            "Parsing 7.79027 54.6192 -55.072\n",
            "Parsing 7.79027 54.6192 -55.072\n",
            "Parsing -8.32488 41.9199 -51.1366\n",
            "Parsing -8.32488 41.9199 -51.1366\n",
            "Parsing 21.9659 22.9866 -63.5253\n",
            "Parsing 21.9659 22.9866 -63.5253\n",
            "10\n",
            "********** On patient: ProstateX-0026 **********\n",
            "num_series: 1\n",
            "***** On series: 1.3.6.1.4.1.14519.5.2.1.7311.5101.101130934168942593154270621032 *****\n",
            "SeriesInstanceUID: 1.3.6.1.4.1.14519.5.2.1.7311.5101.101130934168942593154270621032\n"
          ]
        },
        {
          "output_type": "stream",
          "name": "stderr",
          "text": [
            "Downloading data: 100%|██████████| 6.27M/6.27M [00:03<00:00, 2.08MB/s]"
          ]
        },
        {
          "output_type": "stream",
          "name": "stdout",
          "text": [
            "FrameOfReferenceUID: 1.3.6.1.4.1.14519.5.2.1.7311.5101.160981673203674182065288691981\n",
            "Parsing -2.55984 36.7959 -40.4785\n",
            "1\n"
          ]
        },
        {
          "output_type": "stream",
          "name": "stderr",
          "text": [
            "\n",
            "/usr/local/lib/python3.11/dist-packages/highdicom/base.py:163: UserWarning: The string \"ProstateX-0026\" is unlikely to represent the intended person name since it contains only a single component. Construct a person name according to the format in described in https://dicom.nema.org/dicom/2013/output/chtml/part05/sect_6.2.html#sect_6.2.1.2, or, in pydicom 2.2.0 or later, use the pydicom.valuerep.PersonName.from_named_components() method to construct the person name correctly. If a single-component name is really intended, add a trailing caret character to disambiguate the name.\n",
            "  check_person_name(patient_name)\n"
          ]
        },
        {
          "output_type": "stream",
          "name": "stdout",
          "text": [
            "********** On patient: ProstateX-0027 **********\n",
            "num_series: 1\n",
            "***** On series: 1.3.6.1.4.1.14519.5.2.1.7311.5101.123270790346808222960556330331 *****\n",
            "SeriesInstanceUID: 1.3.6.1.4.1.14519.5.2.1.7311.5101.123270790346808222960556330331\n"
          ]
        },
        {
          "output_type": "stream",
          "name": "stderr",
          "text": [
            "Downloading data: 100%|██████████| 6.87M/6.87M [00:02<00:00, 2.74MB/s]"
          ]
        },
        {
          "output_type": "stream",
          "name": "stdout",
          "text": [
            "FrameOfReferenceUID: 1.3.6.1.4.1.14519.5.2.1.7311.5101.142527586812330514125233922407\n",
            "Parsing -8.16043 63.437 -9.60785\n",
            "1\n"
          ]
        },
        {
          "output_type": "stream",
          "name": "stderr",
          "text": [
            "\n",
            "/usr/local/lib/python3.11/dist-packages/highdicom/base.py:163: UserWarning: The string \"ProstateX-0027\" is unlikely to represent the intended person name since it contains only a single component. Construct a person name according to the format in described in https://dicom.nema.org/dicom/2013/output/chtml/part05/sect_6.2.html#sect_6.2.1.2, or, in pydicom 2.2.0 or later, use the pydicom.valuerep.PersonName.from_named_components() method to construct the person name correctly. If a single-component name is really intended, add a trailing caret character to disambiguate the name.\n",
            "  check_person_name(patient_name)\n"
          ]
        },
        {
          "output_type": "stream",
          "name": "stdout",
          "text": [
            "********** On patient: ProstateX-0028 **********\n",
            "num_series: 1\n",
            "***** On series: 1.3.6.1.4.1.14519.5.2.1.7311.5101.309805745643397068715061702026 *****\n",
            "SeriesInstanceUID: 1.3.6.1.4.1.14519.5.2.1.7311.5101.309805745643397068715061702026\n"
          ]
        },
        {
          "output_type": "stream",
          "name": "stderr",
          "text": [
            "Downloading data: 100%|█████████▉| 6.28M/6.28M [00:02<00:00, 2.50MB/s]"
          ]
        },
        {
          "output_type": "stream",
          "name": "stdout",
          "text": [
            "FrameOfReferenceUID: 1.3.6.1.4.1.14519.5.2.1.7311.5101.213282214429874694323103164866\n",
            "Parsing 32.6256 39.4066 -7.95307\n",
            "Parsing -9.64486 40.691 -5.07664\n",
            "2\n"
          ]
        },
        {
          "output_type": "stream",
          "name": "stderr",
          "text": [
            "\n",
            "/usr/local/lib/python3.11/dist-packages/highdicom/base.py:163: UserWarning: The string \"ProstateX-0028\" is unlikely to represent the intended person name since it contains only a single component. Construct a person name according to the format in described in https://dicom.nema.org/dicom/2013/output/chtml/part05/sect_6.2.html#sect_6.2.1.2, or, in pydicom 2.2.0 or later, use the pydicom.valuerep.PersonName.from_named_components() method to construct the person name correctly. If a single-component name is really intended, add a trailing caret character to disambiguate the name.\n",
            "  check_person_name(patient_name)\n"
          ]
        },
        {
          "output_type": "stream",
          "name": "stdout",
          "text": [
            "********** On patient: ProstateX-0029 **********\n",
            "num_series: 1\n",
            "***** On series: 1.3.6.1.4.1.14519.5.2.1.7311.5101.254720210057539290153454291675 *****\n",
            "SeriesInstanceUID: 1.3.6.1.4.1.14519.5.2.1.7311.5101.254720210057539290153454291675\n"
          ]
        },
        {
          "output_type": "stream",
          "name": "stderr",
          "text": [
            "Downloading data: 100%|█████████▉| 6.28M/6.28M [00:02<00:00, 2.50MB/s]"
          ]
        },
        {
          "output_type": "stream",
          "name": "stdout",
          "text": [
            "FrameOfReferenceUID: 1.3.6.1.4.1.14519.5.2.1.7311.5101.217454589360047797335933266781\n",
            "Parsing -27.064 50.9487 19.5641\n",
            "1\n"
          ]
        },
        {
          "output_type": "stream",
          "name": "stderr",
          "text": [
            "\n",
            "/usr/local/lib/python3.11/dist-packages/highdicom/base.py:163: UserWarning: The string \"ProstateX-0029\" is unlikely to represent the intended person name since it contains only a single component. Construct a person name according to the format in described in https://dicom.nema.org/dicom/2013/output/chtml/part05/sect_6.2.html#sect_6.2.1.2, or, in pydicom 2.2.0 or later, use the pydicom.valuerep.PersonName.from_named_components() method to construct the person name correctly. If a single-component name is really intended, add a trailing caret character to disambiguate the name.\n",
            "  check_person_name(patient_name)\n"
          ]
        },
        {
          "output_type": "stream",
          "name": "stdout",
          "text": [
            "********** On patient: ProstateX-0030 **********\n",
            "num_series: 1\n",
            "***** On series: 1.3.6.1.4.1.14519.5.2.1.7311.5101.732569288876643404213425491014 *****\n",
            "SeriesInstanceUID: 1.3.6.1.4.1.14519.5.2.1.7311.5101.732569288876643404213425491014\n"
          ]
        },
        {
          "output_type": "stream",
          "name": "stderr",
          "text": [
            "Downloading data: 100%|█████████▉| 5.68M/5.68M [00:02<00:00, 2.26MB/s]"
          ]
        },
        {
          "output_type": "stream",
          "name": "stdout",
          "text": [
            "FrameOfReferenceUID: 1.3.6.1.4.1.14519.5.2.1.7311.5101.184181559152679949026966932461\n",
            "Parsing 35.3287 44.3674 -50.6832\n",
            "1\n"
          ]
        },
        {
          "output_type": "stream",
          "name": "stderr",
          "text": [
            "\n",
            "/usr/local/lib/python3.11/dist-packages/highdicom/base.py:163: UserWarning: The string \"ProstateX-0030\" is unlikely to represent the intended person name since it contains only a single component. Construct a person name according to the format in described in https://dicom.nema.org/dicom/2013/output/chtml/part05/sect_6.2.html#sect_6.2.1.2, or, in pydicom 2.2.0 or later, use the pydicom.valuerep.PersonName.from_named_components() method to construct the person name correctly. If a single-component name is really intended, add a trailing caret character to disambiguate the name.\n",
            "  check_person_name(patient_name)\n"
          ]
        },
        {
          "output_type": "stream",
          "name": "stdout",
          "text": [
            "********** On patient: ProstateX-0031 **********\n",
            "num_series: 2\n",
            "***** On series: 1.3.6.1.4.1.14519.5.2.1.7311.5101.158242672157347526184088769127 *****\n",
            "SeriesInstanceUID: 1.3.6.1.4.1.14519.5.2.1.7311.5101.158242672157347526184088769127\n"
          ]
        },
        {
          "output_type": "stream",
          "name": "stderr",
          "text": [
            "Downloading data: 100%|█████████▉| 5.68M/5.68M [00:02<00:00, 2.26MB/s]"
          ]
        },
        {
          "output_type": "stream",
          "name": "stdout",
          "text": [
            "FrameOfReferenceUID: 1.3.6.1.4.1.14519.5.2.1.7311.5101.297472364444198675742797846417\n",
            "Parsing 8.08436 38.9556 13.8648\n",
            "Parsing -25.5225 39.8319 13.5071\n",
            "2\n"
          ]
        },
        {
          "output_type": "stream",
          "name": "stderr",
          "text": [
            "\n",
            "/usr/local/lib/python3.11/dist-packages/highdicom/base.py:163: UserWarning: The string \"ProstateX-0031\" is unlikely to represent the intended person name since it contains only a single component. Construct a person name according to the format in described in https://dicom.nema.org/dicom/2013/output/chtml/part05/sect_6.2.html#sect_6.2.1.2, or, in pydicom 2.2.0 or later, use the pydicom.valuerep.PersonName.from_named_components() method to construct the person name correctly. If a single-component name is really intended, add a trailing caret character to disambiguate the name.\n",
            "  check_person_name(patient_name)\n"
          ]
        },
        {
          "output_type": "stream",
          "name": "stdout",
          "text": [
            "***** On series: 1.3.6.1.4.1.14519.5.2.1.7311.5101.236668750518079273920360526105 *****\n",
            "SeriesInstanceUID: 1.3.6.1.4.1.14519.5.2.1.7311.5101.236668750518079273920360526105\n"
          ]
        },
        {
          "output_type": "stream",
          "name": "stderr",
          "text": [
            "Downloading data: 100%|█████████▉| 5.68M/5.68M [00:02<00:00, 2.26MB/s]"
          ]
        },
        {
          "output_type": "stream",
          "name": "stdout",
          "text": [
            "FrameOfReferenceUID: 1.3.6.1.4.1.14519.5.2.1.7311.5101.297472364444198675742797846417\n",
            "Parsing 8.08436 38.9556 13.8648\n",
            "Parsing -25.5225 39.8319 13.5071\n",
            "2\n"
          ]
        },
        {
          "output_type": "stream",
          "name": "stderr",
          "text": [
            "\n",
            "/usr/local/lib/python3.11/dist-packages/highdicom/base.py:163: UserWarning: The string \"ProstateX-0031\" is unlikely to represent the intended person name since it contains only a single component. Construct a person name according to the format in described in https://dicom.nema.org/dicom/2013/output/chtml/part05/sect_6.2.html#sect_6.2.1.2, or, in pydicom 2.2.0 or later, use the pydicom.valuerep.PersonName.from_named_components() method to construct the person name correctly. If a single-component name is really intended, add a trailing caret character to disambiguate the name.\n",
            "  check_person_name(patient_name)\n"
          ]
        },
        {
          "output_type": "stream",
          "name": "stdout",
          "text": [
            "********** On patient: ProstateX-0032 **********\n",
            "num_series: 2\n",
            "***** On series: 1.3.6.1.4.1.14519.5.2.1.7311.5101.173304539264806375350214468553 *****\n",
            "SeriesInstanceUID: 1.3.6.1.4.1.14519.5.2.1.7311.5101.173304539264806375350214468553\n"
          ]
        },
        {
          "output_type": "stream",
          "name": "stderr",
          "text": [
            "Downloading data: 100%|█████████▉| 5.68M/5.68M [00:02<00:00, 2.26MB/s]"
          ]
        },
        {
          "output_type": "stream",
          "name": "stdout",
          "text": [
            "FrameOfReferenceUID: 1.3.6.1.4.1.14519.5.2.1.7311.5101.294811977600581836077194395180\n",
            "Parsing 19.0001 60.9885 -32.157\n",
            "1\n"
          ]
        },
        {
          "output_type": "stream",
          "name": "stderr",
          "text": [
            "\n",
            "/usr/local/lib/python3.11/dist-packages/highdicom/base.py:163: UserWarning: The string \"ProstateX-0032\" is unlikely to represent the intended person name since it contains only a single component. Construct a person name according to the format in described in https://dicom.nema.org/dicom/2013/output/chtml/part05/sect_6.2.html#sect_6.2.1.2, or, in pydicom 2.2.0 or later, use the pydicom.valuerep.PersonName.from_named_components() method to construct the person name correctly. If a single-component name is really intended, add a trailing caret character to disambiguate the name.\n",
            "  check_person_name(patient_name)\n"
          ]
        },
        {
          "output_type": "stream",
          "name": "stdout",
          "text": [
            "***** On series: 1.3.6.1.4.1.14519.5.2.1.7311.5101.192059931363783290394366910087 *****\n",
            "SeriesInstanceUID: 1.3.6.1.4.1.14519.5.2.1.7311.5101.192059931363783290394366910087\n"
          ]
        },
        {
          "output_type": "stream",
          "name": "stderr",
          "text": [
            "Downloading data: 100%|██████████| 5.68M/5.68M [00:02<00:00, 2.26MB/s]"
          ]
        },
        {
          "output_type": "stream",
          "name": "stdout",
          "text": [
            "FrameOfReferenceUID: 1.3.6.1.4.1.14519.5.2.1.7311.5101.294811977600581836077194395180\n",
            "Parsing 19.0001 60.9885 -32.157\n",
            "1\n"
          ]
        },
        {
          "output_type": "stream",
          "name": "stderr",
          "text": [
            "\n",
            "/usr/local/lib/python3.11/dist-packages/highdicom/base.py:163: UserWarning: The string \"ProstateX-0032\" is unlikely to represent the intended person name since it contains only a single component. Construct a person name according to the format in described in https://dicom.nema.org/dicom/2013/output/chtml/part05/sect_6.2.html#sect_6.2.1.2, or, in pydicom 2.2.0 or later, use the pydicom.valuerep.PersonName.from_named_components() method to construct the person name correctly. If a single-component name is really intended, add a trailing caret character to disambiguate the name.\n",
            "  check_person_name(patient_name)\n"
          ]
        },
        {
          "output_type": "stream",
          "name": "stdout",
          "text": [
            "********** On patient: ProstateX-0033 **********\n",
            "num_series: 1\n",
            "***** On series: 1.3.6.1.4.1.14519.5.2.1.7311.5101.188139215577213234230834229650 *****\n",
            "SeriesInstanceUID: 1.3.6.1.4.1.14519.5.2.1.7311.5101.188139215577213234230834229650\n"
          ]
        },
        {
          "output_type": "stream",
          "name": "stderr",
          "text": [
            "Downloading data: 100%|█████████▉| 5.68M/5.68M [00:03<00:00, 1.89MB/s]"
          ]
        },
        {
          "output_type": "stream",
          "name": "stdout",
          "text": [
            "FrameOfReferenceUID: 1.3.6.1.4.1.14519.5.2.1.7311.5101.120850457336648287021805294953\n",
            "Parsing -0.473669 43.2903 35.9394\n",
            "Parsing 24.7403 33.959 34.6019\n",
            "2\n"
          ]
        },
        {
          "output_type": "stream",
          "name": "stderr",
          "text": [
            "\n",
            "/usr/local/lib/python3.11/dist-packages/highdicom/base.py:163: UserWarning: The string \"ProstateX-0033\" is unlikely to represent the intended person name since it contains only a single component. Construct a person name according to the format in described in https://dicom.nema.org/dicom/2013/output/chtml/part05/sect_6.2.html#sect_6.2.1.2, or, in pydicom 2.2.0 or later, use the pydicom.valuerep.PersonName.from_named_components() method to construct the person name correctly. If a single-component name is really intended, add a trailing caret character to disambiguate the name.\n",
            "  check_person_name(patient_name)\n"
          ]
        },
        {
          "output_type": "stream",
          "name": "stdout",
          "text": [
            "********** On patient: ProstateX-0034 **********\n",
            "num_series: 2\n",
            "***** On series: 1.3.6.1.4.1.14519.5.2.1.7311.5101.118179781979766295284796608573 *****\n",
            "SeriesInstanceUID: 1.3.6.1.4.1.14519.5.2.1.7311.5101.118179781979766295284796608573\n"
          ]
        },
        {
          "output_type": "stream",
          "name": "stderr",
          "text": [
            "Downloading data: 100%|█████████▉| 5.68M/5.68M [00:03<00:00, 1.89MB/s]"
          ]
        },
        {
          "output_type": "stream",
          "name": "stdout",
          "text": [
            "FrameOfReferenceUID: 1.3.6.1.4.1.14519.5.2.1.7311.5101.146377892469130934209782447147\n",
            "Parsing 17.0042 60.678 5.75149\n",
            "1\n"
          ]
        },
        {
          "output_type": "stream",
          "name": "stderr",
          "text": [
            "\n",
            "/usr/local/lib/python3.11/dist-packages/highdicom/base.py:163: UserWarning: The string \"ProstateX-0034\" is unlikely to represent the intended person name since it contains only a single component. Construct a person name according to the format in described in https://dicom.nema.org/dicom/2013/output/chtml/part05/sect_6.2.html#sect_6.2.1.2, or, in pydicom 2.2.0 or later, use the pydicom.valuerep.PersonName.from_named_components() method to construct the person name correctly. If a single-component name is really intended, add a trailing caret character to disambiguate the name.\n",
            "  check_person_name(patient_name)\n"
          ]
        },
        {
          "output_type": "stream",
          "name": "stdout",
          "text": [
            "***** On series: 1.3.6.1.4.1.14519.5.2.1.7311.5101.127224954660931218948108374578 *****\n",
            "SeriesInstanceUID: 1.3.6.1.4.1.14519.5.2.1.7311.5101.127224954660931218948108374578\n"
          ]
        },
        {
          "output_type": "stream",
          "name": "stderr",
          "text": [
            "Downloading data: 100%|█████████▉| 5.68M/5.68M [00:02<00:00, 2.27MB/s]"
          ]
        },
        {
          "output_type": "stream",
          "name": "stdout",
          "text": [
            "FrameOfReferenceUID: 1.3.6.1.4.1.14519.5.2.1.7311.5101.146377892469130934209782447147\n",
            "Parsing 17.0042 60.678 5.75149\n",
            "1\n"
          ]
        },
        {
          "output_type": "stream",
          "name": "stderr",
          "text": [
            "\n",
            "/usr/local/lib/python3.11/dist-packages/highdicom/base.py:163: UserWarning: The string \"ProstateX-0034\" is unlikely to represent the intended person name since it contains only a single component. Construct a person name according to the format in described in https://dicom.nema.org/dicom/2013/output/chtml/part05/sect_6.2.html#sect_6.2.1.2, or, in pydicom 2.2.0 or later, use the pydicom.valuerep.PersonName.from_named_components() method to construct the person name correctly. If a single-component name is really intended, add a trailing caret character to disambiguate the name.\n",
            "  check_person_name(patient_name)\n"
          ]
        },
        {
          "output_type": "stream",
          "name": "stdout",
          "text": [
            "********** On patient: ProstateX-0035 **********\n",
            "num_series: 1\n",
            "***** On series: 1.3.6.1.4.1.14519.5.2.1.7311.5101.158066586341196283875658594147 *****\n",
            "SeriesInstanceUID: 1.3.6.1.4.1.14519.5.2.1.7311.5101.158066586341196283875658594147\n"
          ]
        },
        {
          "output_type": "stream",
          "name": "stderr",
          "text": [
            "Downloading data: 100%|█████████▉| 5.68M/5.68M [00:02<00:00, 2.26MB/s]"
          ]
        },
        {
          "output_type": "stream",
          "name": "stdout",
          "text": [
            "FrameOfReferenceUID: 1.3.6.1.4.1.14519.5.2.1.7311.5101.202664540177135447152224539908\n",
            "Parsing -22.9279 28.8785 -29.5951\n",
            "Parsing 17.2049 16.7651 -24.8213\n",
            "2\n"
          ]
        },
        {
          "output_type": "stream",
          "name": "stderr",
          "text": [
            "\n",
            "/usr/local/lib/python3.11/dist-packages/highdicom/base.py:163: UserWarning: The string \"ProstateX-0035\" is unlikely to represent the intended person name since it contains only a single component. Construct a person name according to the format in described in https://dicom.nema.org/dicom/2013/output/chtml/part05/sect_6.2.html#sect_6.2.1.2, or, in pydicom 2.2.0 or later, use the pydicom.valuerep.PersonName.from_named_components() method to construct the person name correctly. If a single-component name is really intended, add a trailing caret character to disambiguate the name.\n",
            "  check_person_name(patient_name)\n"
          ]
        },
        {
          "output_type": "stream",
          "name": "stdout",
          "text": [
            "********** On patient: ProstateX-0036 **********\n",
            "num_series: 1\n",
            "***** On series: 1.3.6.1.4.1.14519.5.2.1.7311.5101.796436302295730821810471680824 *****\n",
            "SeriesInstanceUID: 1.3.6.1.4.1.14519.5.2.1.7311.5101.796436302295730821810471680824\n"
          ]
        },
        {
          "output_type": "stream",
          "name": "stderr",
          "text": [
            "Downloading data: 100%|██████████| 6.87M/6.87M [00:03<00:00, 2.28MB/s]"
          ]
        },
        {
          "output_type": "stream",
          "name": "stdout",
          "text": [
            "FrameOfReferenceUID: 1.3.6.1.4.1.14519.5.2.1.7311.5101.689654220536025370350889615791\n",
            "Parsing 41.2459 52.7925 -62.1916\n",
            "1\n"
          ]
        },
        {
          "output_type": "stream",
          "name": "stderr",
          "text": [
            "\n",
            "/usr/local/lib/python3.11/dist-packages/highdicom/base.py:163: UserWarning: The string \"ProstateX-0036\" is unlikely to represent the intended person name since it contains only a single component. Construct a person name according to the format in described in https://dicom.nema.org/dicom/2013/output/chtml/part05/sect_6.2.html#sect_6.2.1.2, or, in pydicom 2.2.0 or later, use the pydicom.valuerep.PersonName.from_named_components() method to construct the person name correctly. If a single-component name is really intended, add a trailing caret character to disambiguate the name.\n",
            "  check_person_name(patient_name)\n"
          ]
        },
        {
          "output_type": "stream",
          "name": "stdout",
          "text": [
            "********** On patient: ProstateX-0037 **********\n",
            "num_series: 1\n",
            "***** On series: 1.3.6.1.4.1.14519.5.2.1.7311.5101.693064576588508957101499589375 *****\n",
            "SeriesInstanceUID: 1.3.6.1.4.1.14519.5.2.1.7311.5101.693064576588508957101499589375\n"
          ]
        },
        {
          "output_type": "stream",
          "name": "stderr",
          "text": [
            "Downloading data: 100%|█████████▉| 5.68M/5.68M [00:02<00:00, 2.27MB/s]"
          ]
        },
        {
          "output_type": "stream",
          "name": "stdout",
          "text": [
            "FrameOfReferenceUID: 1.3.6.1.4.1.14519.5.2.1.7311.5101.935938910270550166706028403707\n",
            "Parsing 10.0109 21.7560412231445 0.489487200805664\n",
            "Parsing 11.742 38.1655 0.0225723\n",
            "2\n"
          ]
        },
        {
          "output_type": "stream",
          "name": "stderr",
          "text": [
            "\n",
            "/usr/local/lib/python3.11/dist-packages/highdicom/base.py:163: UserWarning: The string \"ProstateX-0037\" is unlikely to represent the intended person name since it contains only a single component. Construct a person name according to the format in described in https://dicom.nema.org/dicom/2013/output/chtml/part05/sect_6.2.html#sect_6.2.1.2, or, in pydicom 2.2.0 or later, use the pydicom.valuerep.PersonName.from_named_components() method to construct the person name correctly. If a single-component name is really intended, add a trailing caret character to disambiguate the name.\n",
            "  check_person_name(patient_name)\n"
          ]
        },
        {
          "output_type": "stream",
          "name": "stdout",
          "text": [
            "********** On patient: ProstateX-0038 **********\n",
            "num_series: 1\n",
            "***** On series: 1.3.6.1.4.1.14519.5.2.1.7311.5101.187284638098559593208671789518 *****\n",
            "SeriesInstanceUID: 1.3.6.1.4.1.14519.5.2.1.7311.5101.187284638098559593208671789518\n"
          ]
        },
        {
          "output_type": "stream",
          "name": "stderr",
          "text": [
            "Downloading data: 100%|█████████▉| 6.28M/6.28M [00:02<00:00, 2.50MB/s]"
          ]
        },
        {
          "output_type": "stream",
          "name": "stdout",
          "text": [
            "FrameOfReferenceUID: 1.3.6.1.4.1.14519.5.2.1.7311.5101.212869184908237217459071342648\n",
            "Parsing -35.8699 29.366 22.5239\n",
            "Parsing -2.27438 42.417 21.4611\n",
            "Parsing -34.7633 44.767 14.3969\n",
            "3\n"
          ]
        },
        {
          "output_type": "stream",
          "name": "stderr",
          "text": [
            "\n",
            "/usr/local/lib/python3.11/dist-packages/highdicom/base.py:163: UserWarning: The string \"ProstateX-0038\" is unlikely to represent the intended person name since it contains only a single component. Construct a person name according to the format in described in https://dicom.nema.org/dicom/2013/output/chtml/part05/sect_6.2.html#sect_6.2.1.2, or, in pydicom 2.2.0 or later, use the pydicom.valuerep.PersonName.from_named_components() method to construct the person name correctly. If a single-component name is really intended, add a trailing caret character to disambiguate the name.\n",
            "  check_person_name(patient_name)\n"
          ]
        },
        {
          "output_type": "stream",
          "name": "stdout",
          "text": [
            "********** On patient: ProstateX-0039 **********\n",
            "num_series: 1\n",
            "***** On series: 1.3.6.1.4.1.14519.5.2.1.7311.5101.765597225260617532326624425795 *****\n",
            "SeriesInstanceUID: 1.3.6.1.4.1.14519.5.2.1.7311.5101.765597225260617532326624425795\n"
          ]
        },
        {
          "output_type": "stream",
          "name": "stderr",
          "text": [
            "Downloading data: 100%|██████████| 7.17M/7.17M [00:02<00:00, 2.85MB/s]\n",
            "/usr/local/lib/python3.11/dist-packages/highdicom/base.py:163: UserWarning: The string \"ProstateX-0039\" is unlikely to represent the intended person name since it contains only a single component. Construct a person name according to the format in described in https://dicom.nema.org/dicom/2013/output/chtml/part05/sect_6.2.html#sect_6.2.1.2, or, in pydicom 2.2.0 or later, use the pydicom.valuerep.PersonName.from_named_components() method to construct the person name correctly. If a single-component name is really intended, add a trailing caret character to disambiguate the name.\n",
            "  check_person_name(patient_name)\n"
          ]
        },
        {
          "output_type": "stream",
          "name": "stdout",
          "text": [
            "FrameOfReferenceUID: 1.3.6.1.4.1.14519.5.2.1.7311.5101.664988267562638949079292095827\n",
            "Parsing -29.2205 47.977 66.1721\n",
            "1\n",
            "********** On patient: ProstateX-0040 **********\n",
            "num_series: 1\n",
            "***** On series: 1.3.6.1.4.1.14519.5.2.1.7311.5101.129497959517350113675496714576 *****\n",
            "SeriesInstanceUID: 1.3.6.1.4.1.14519.5.2.1.7311.5101.129497959517350113675496714576\n"
          ]
        },
        {
          "output_type": "stream",
          "name": "stderr",
          "text": [
            "Downloading data: 100%|█████████▉| 5.68M/5.68M [00:03<00:00, 1.89MB/s]\n",
            "/usr/local/lib/python3.11/dist-packages/highdicom/base.py:163: UserWarning: The string \"ProstateX-0040\" is unlikely to represent the intended person name since it contains only a single component. Construct a person name according to the format in described in https://dicom.nema.org/dicom/2013/output/chtml/part05/sect_6.2.html#sect_6.2.1.2, or, in pydicom 2.2.0 or later, use the pydicom.valuerep.PersonName.from_named_components() method to construct the person name correctly. If a single-component name is really intended, add a trailing caret character to disambiguate the name.\n",
            "  check_person_name(patient_name)\n"
          ]
        },
        {
          "output_type": "stream",
          "name": "stdout",
          "text": [
            "FrameOfReferenceUID: 1.3.6.1.4.1.14519.5.2.1.7311.5101.115306631245703124957714365930\n",
            "Parsing 5.7972 19.5845 -58.366\n",
            "Parsing 32.0217 37.5945 -70.54\n",
            "Parsing 41.7562 24.6357 -74.4334\n",
            "3\n",
            "********** On patient: ProstateX-0041 **********\n",
            "num_series: 1\n",
            "***** On series: 1.3.6.1.4.1.14519.5.2.1.7311.5101.239707679629501768790276428232 *****\n",
            "SeriesInstanceUID: 1.3.6.1.4.1.14519.5.2.1.7311.5101.239707679629501768790276428232\n"
          ]
        },
        {
          "output_type": "stream",
          "name": "stderr",
          "text": [
            "Downloading data: 100%|█████████▉| 6.28M/6.28M [00:02<00:00, 2.50MB/s]"
          ]
        },
        {
          "output_type": "stream",
          "name": "stdout",
          "text": [
            "FrameOfReferenceUID: 1.3.6.1.4.1.14519.5.2.1.7311.5101.103129904671771870649611312847\n",
            "Parsing -11.24582 60.9975 -48.0648\n",
            "1\n"
          ]
        },
        {
          "output_type": "stream",
          "name": "stderr",
          "text": [
            "\n",
            "/usr/local/lib/python3.11/dist-packages/highdicom/base.py:163: UserWarning: The string \"ProstateX-0041\" is unlikely to represent the intended person name since it contains only a single component. Construct a person name according to the format in described in https://dicom.nema.org/dicom/2013/output/chtml/part05/sect_6.2.html#sect_6.2.1.2, or, in pydicom 2.2.0 or later, use the pydicom.valuerep.PersonName.from_named_components() method to construct the person name correctly. If a single-component name is really intended, add a trailing caret character to disambiguate the name.\n",
            "  check_person_name(patient_name)\n"
          ]
        },
        {
          "output_type": "stream",
          "name": "stdout",
          "text": [
            "********** On patient: ProstateX-0042 **********\n",
            "num_series: 2\n",
            "***** On series: 1.3.6.1.4.1.14519.5.2.1.7311.5101.123964260856155181201635028074 *****\n",
            "SeriesInstanceUID: 1.3.6.1.4.1.14519.5.2.1.7311.5101.123964260856155181201635028074\n"
          ]
        },
        {
          "output_type": "stream",
          "name": "stderr",
          "text": [
            "Downloading data: 100%|██████████| 7.47M/7.47M [00:03<00:00, 2.48MB/s]"
          ]
        },
        {
          "output_type": "stream",
          "name": "stdout",
          "text": [
            "FrameOfReferenceUID: 1.3.6.1.4.1.14519.5.2.1.7311.5101.441415470462984304057219956551\n",
            "Parsing 0.258727 12.1867 29.2257\n",
            "1\n"
          ]
        },
        {
          "output_type": "stream",
          "name": "stderr",
          "text": [
            "\n",
            "/usr/local/lib/python3.11/dist-packages/highdicom/base.py:163: UserWarning: The string \"ProstateX-0042\" is unlikely to represent the intended person name since it contains only a single component. Construct a person name according to the format in described in https://dicom.nema.org/dicom/2013/output/chtml/part05/sect_6.2.html#sect_6.2.1.2, or, in pydicom 2.2.0 or later, use the pydicom.valuerep.PersonName.from_named_components() method to construct the person name correctly. If a single-component name is really intended, add a trailing caret character to disambiguate the name.\n",
            "  check_person_name(patient_name)\n"
          ]
        },
        {
          "output_type": "stream",
          "name": "stdout",
          "text": [
            "***** On series: 1.3.6.1.4.1.14519.5.2.1.7311.5101.143564387821383173303424260576 *****\n",
            "SeriesInstanceUID: 1.3.6.1.4.1.14519.5.2.1.7311.5101.143564387821383173303424260576\n"
          ]
        },
        {
          "output_type": "stream",
          "name": "stderr",
          "text": [
            "Downloading data: 100%|██████████| 7.47M/7.47M [00:02<00:00, 2.98MB/s]"
          ]
        },
        {
          "output_type": "stream",
          "name": "stdout",
          "text": [
            "FrameOfReferenceUID: 1.3.6.1.4.1.14519.5.2.1.7311.5101.441415470462984304057219956551\n",
            "Parsing 0.258727 12.1867 29.2257\n",
            "1\n"
          ]
        },
        {
          "output_type": "stream",
          "name": "stderr",
          "text": [
            "\n",
            "/usr/local/lib/python3.11/dist-packages/highdicom/base.py:163: UserWarning: The string \"ProstateX-0042\" is unlikely to represent the intended person name since it contains only a single component. Construct a person name according to the format in described in https://dicom.nema.org/dicom/2013/output/chtml/part05/sect_6.2.html#sect_6.2.1.2, or, in pydicom 2.2.0 or later, use the pydicom.valuerep.PersonName.from_named_components() method to construct the person name correctly. If a single-component name is really intended, add a trailing caret character to disambiguate the name.\n",
            "  check_person_name(patient_name)\n"
          ]
        },
        {
          "output_type": "stream",
          "name": "stdout",
          "text": [
            "********** On patient: ProstateX-0043 **********\n",
            "num_series: 1\n",
            "***** On series: 1.3.6.1.4.1.14519.5.2.1.7311.5101.267771623383410636497650745630 *****\n",
            "SeriesInstanceUID: 1.3.6.1.4.1.14519.5.2.1.7311.5101.267771623383410636497650745630\n"
          ]
        },
        {
          "output_type": "stream",
          "name": "stderr",
          "text": [
            "Downloading data: 100%|█████████▉| 6.28M/6.28M [00:02<00:00, 2.50MB/s]"
          ]
        },
        {
          "output_type": "stream",
          "name": "stdout",
          "text": [
            "FrameOfReferenceUID: 1.3.6.1.4.1.14519.5.2.1.7311.5101.141876106330537530781759117762\n",
            "Parsing 8.92826 59.9957 -1.69448\n",
            "1\n"
          ]
        },
        {
          "output_type": "stream",
          "name": "stderr",
          "text": [
            "\n",
            "/usr/local/lib/python3.11/dist-packages/highdicom/base.py:163: UserWarning: The string \"ProstateX-0043\" is unlikely to represent the intended person name since it contains only a single component. Construct a person name according to the format in described in https://dicom.nema.org/dicom/2013/output/chtml/part05/sect_6.2.html#sect_6.2.1.2, or, in pydicom 2.2.0 or later, use the pydicom.valuerep.PersonName.from_named_components() method to construct the person name correctly. If a single-component name is really intended, add a trailing caret character to disambiguate the name.\n",
            "  check_person_name(patient_name)\n"
          ]
        },
        {
          "output_type": "stream",
          "name": "stdout",
          "text": [
            "********** On patient: ProstateX-0044 **********\n",
            "num_series: 1\n",
            "***** On series: 1.3.6.1.4.1.14519.5.2.1.7311.5101.195161857226628695667807122636 *****\n",
            "SeriesInstanceUID: 1.3.6.1.4.1.14519.5.2.1.7311.5101.195161857226628695667807122636\n"
          ]
        },
        {
          "output_type": "stream",
          "name": "stderr",
          "text": [
            "Downloading data: 100%|█████████▉| 5.68M/5.68M [00:02<00:00, 2.26MB/s]"
          ]
        },
        {
          "output_type": "stream",
          "name": "stdout",
          "text": [
            "FrameOfReferenceUID: 1.3.6.1.4.1.14519.5.2.1.7311.5101.253007802532453937055165861470\n",
            "Parsing -5.795073 18.7907 87.5082\n",
            "1\n"
          ]
        },
        {
          "output_type": "stream",
          "name": "stderr",
          "text": [
            "\n",
            "/usr/local/lib/python3.11/dist-packages/highdicom/base.py:163: UserWarning: The string \"ProstateX-0044\" is unlikely to represent the intended person name since it contains only a single component. Construct a person name according to the format in described in https://dicom.nema.org/dicom/2013/output/chtml/part05/sect_6.2.html#sect_6.2.1.2, or, in pydicom 2.2.0 or later, use the pydicom.valuerep.PersonName.from_named_components() method to construct the person name correctly. If a single-component name is really intended, add a trailing caret character to disambiguate the name.\n",
            "  check_person_name(patient_name)\n"
          ]
        },
        {
          "output_type": "stream",
          "name": "stdout",
          "text": [
            "********** On patient: ProstateX-0045 **********\n",
            "num_series: 1\n",
            "***** On series: 1.3.6.1.4.1.14519.5.2.1.7311.5101.327793082899258021167131498907 *****\n",
            "SeriesInstanceUID: 1.3.6.1.4.1.14519.5.2.1.7311.5101.327793082899258021167131498907\n"
          ]
        },
        {
          "output_type": "stream",
          "name": "stderr",
          "text": [
            "Downloading data: 100%|██████████| 7.47M/7.47M [00:02<00:00, 2.98MB/s]"
          ]
        },
        {
          "output_type": "stream",
          "name": "stdout",
          "text": [
            "FrameOfReferenceUID: 1.3.6.1.4.1.14519.5.2.1.7311.5101.272762593238621193407999912382\n",
            "Parsing -4.47705 12.5405 17.9921\n",
            "1\n"
          ]
        },
        {
          "output_type": "stream",
          "name": "stderr",
          "text": [
            "\n",
            "/usr/local/lib/python3.11/dist-packages/highdicom/base.py:163: UserWarning: The string \"ProstateX-0045\" is unlikely to represent the intended person name since it contains only a single component. Construct a person name according to the format in described in https://dicom.nema.org/dicom/2013/output/chtml/part05/sect_6.2.html#sect_6.2.1.2, or, in pydicom 2.2.0 or later, use the pydicom.valuerep.PersonName.from_named_components() method to construct the person name correctly. If a single-component name is really intended, add a trailing caret character to disambiguate the name.\n",
            "  check_person_name(patient_name)\n"
          ]
        },
        {
          "output_type": "stream",
          "name": "stdout",
          "text": [
            "********** On patient: ProstateX-0046 **********\n",
            "num_series: 1\n",
            "***** On series: 1.3.6.1.4.1.14519.5.2.1.7311.5101.166265209513832781969059787909 *****\n",
            "SeriesInstanceUID: 1.3.6.1.4.1.14519.5.2.1.7311.5101.166265209513832781969059787909\n"
          ]
        },
        {
          "output_type": "stream",
          "name": "stderr",
          "text": [
            "Downloading data: 100%|█████████▉| 5.68M/5.68M [00:02<00:00, 2.26MB/s]"
          ]
        },
        {
          "output_type": "stream",
          "name": "stdout",
          "text": [
            "FrameOfReferenceUID: 1.3.6.1.4.1.14519.5.2.1.7311.5101.131080321179101762592242788654\n",
            "Parsing -32.861 -2.20032 46.9729\n",
            "Parsing -4.84385 2.95186 35.0858\n",
            "2\n"
          ]
        },
        {
          "output_type": "stream",
          "name": "stderr",
          "text": [
            "\n",
            "/usr/local/lib/python3.11/dist-packages/highdicom/base.py:163: UserWarning: The string \"ProstateX-0046\" is unlikely to represent the intended person name since it contains only a single component. Construct a person name according to the format in described in https://dicom.nema.org/dicom/2013/output/chtml/part05/sect_6.2.html#sect_6.2.1.2, or, in pydicom 2.2.0 or later, use the pydicom.valuerep.PersonName.from_named_components() method to construct the person name correctly. If a single-component name is really intended, add a trailing caret character to disambiguate the name.\n",
            "  check_person_name(patient_name)\n"
          ]
        },
        {
          "output_type": "stream",
          "name": "stdout",
          "text": [
            "********** On patient: ProstateX-0047 **********\n",
            "num_series: 1\n",
            "***** On series: 1.3.6.1.4.1.14519.5.2.1.7311.5101.177297063809065385024860008775 *****\n",
            "SeriesInstanceUID: 1.3.6.1.4.1.14519.5.2.1.7311.5101.177297063809065385024860008775\n"
          ]
        },
        {
          "output_type": "stream",
          "name": "stderr",
          "text": [
            "Downloading data: 100%|█████████▉| 6.28M/6.28M [00:02<00:00, 2.50MB/s]"
          ]
        },
        {
          "output_type": "stream",
          "name": "stdout",
          "text": [
            "FrameOfReferenceUID: 1.3.6.1.4.1.14519.5.2.1.7311.5101.176532118190918651842344486279\n",
            "Parsing -24.2868 62.7355 -24.2213\n",
            "1\n"
          ]
        },
        {
          "output_type": "stream",
          "name": "stderr",
          "text": [
            "\n",
            "/usr/local/lib/python3.11/dist-packages/highdicom/base.py:163: UserWarning: The string \"ProstateX-0047\" is unlikely to represent the intended person name since it contains only a single component. Construct a person name according to the format in described in https://dicom.nema.org/dicom/2013/output/chtml/part05/sect_6.2.html#sect_6.2.1.2, or, in pydicom 2.2.0 or later, use the pydicom.valuerep.PersonName.from_named_components() method to construct the person name correctly. If a single-component name is really intended, add a trailing caret character to disambiguate the name.\n",
            "  check_person_name(patient_name)\n"
          ]
        },
        {
          "output_type": "stream",
          "name": "stdout",
          "text": [
            "********** On patient: ProstateX-0048 **********\n",
            "num_series: 1\n",
            "***** On series: 1.3.6.1.4.1.14519.5.2.1.7311.5101.259068897752937994906611460872 *****\n",
            "SeriesInstanceUID: 1.3.6.1.4.1.14519.5.2.1.7311.5101.259068897752937994906611460872\n"
          ]
        },
        {
          "output_type": "stream",
          "name": "stderr",
          "text": [
            "Downloading data: 100%|█████████▉| 5.68M/5.68M [00:03<00:00, 1.88MB/s]"
          ]
        },
        {
          "output_type": "stream",
          "name": "stdout",
          "text": [
            "FrameOfReferenceUID: 1.3.6.1.4.1.14519.5.2.1.7311.5101.125423987960412301182924773744\n",
            "Parsing 18.4772 48.0755 -83.6069\n",
            "1\n"
          ]
        },
        {
          "output_type": "stream",
          "name": "stderr",
          "text": [
            "\n",
            "/usr/local/lib/python3.11/dist-packages/highdicom/base.py:163: UserWarning: The string \"ProstateX-0048\" is unlikely to represent the intended person name since it contains only a single component. Construct a person name according to the format in described in https://dicom.nema.org/dicom/2013/output/chtml/part05/sect_6.2.html#sect_6.2.1.2, or, in pydicom 2.2.0 or later, use the pydicom.valuerep.PersonName.from_named_components() method to construct the person name correctly. If a single-component name is really intended, add a trailing caret character to disambiguate the name.\n",
            "  check_person_name(patient_name)\n"
          ]
        },
        {
          "output_type": "stream",
          "name": "stdout",
          "text": [
            "********** On patient: ProstateX-0049 **********\n",
            "num_series: 1\n",
            "***** On series: 1.3.6.1.4.1.14519.5.2.1.7311.5101.288990829588462794667647108778 *****\n",
            "SeriesInstanceUID: 1.3.6.1.4.1.14519.5.2.1.7311.5101.288990829588462794667647108778\n"
          ]
        },
        {
          "output_type": "stream",
          "name": "stderr",
          "text": [
            "Downloading data: 100%|█████████▉| 5.68M/5.68M [00:02<00:00, 2.26MB/s]"
          ]
        },
        {
          "output_type": "stream",
          "name": "stdout",
          "text": [
            "FrameOfReferenceUID: 1.3.6.1.4.1.14519.5.2.1.7311.5101.222246052054006372293320971313\n",
            "Parsing 27.5717 36.0367 8.92738\n",
            "1\n"
          ]
        },
        {
          "output_type": "stream",
          "name": "stderr",
          "text": [
            "\n",
            "/usr/local/lib/python3.11/dist-packages/highdicom/base.py:163: UserWarning: The string \"ProstateX-0049\" is unlikely to represent the intended person name since it contains only a single component. Construct a person name according to the format in described in https://dicom.nema.org/dicom/2013/output/chtml/part05/sect_6.2.html#sect_6.2.1.2, or, in pydicom 2.2.0 or later, use the pydicom.valuerep.PersonName.from_named_components() method to construct the person name correctly. If a single-component name is really intended, add a trailing caret character to disambiguate the name.\n",
            "  check_person_name(patient_name)\n"
          ]
        },
        {
          "output_type": "stream",
          "name": "stdout",
          "text": [
            "********** On patient: ProstateX-0050 **********\n",
            "num_series: 1\n",
            "***** On series: 1.3.6.1.4.1.14519.5.2.1.7311.5101.362250911393138568500075581973 *****\n",
            "SeriesInstanceUID: 1.3.6.1.4.1.14519.5.2.1.7311.5101.362250911393138568500075581973\n"
          ]
        },
        {
          "output_type": "stream",
          "name": "stderr",
          "text": [
            "Downloading data: 100%|█████████▉| 6.88M/6.88M [00:03<00:00, 2.28MB/s]"
          ]
        },
        {
          "output_type": "stream",
          "name": "stdout",
          "text": [
            "FrameOfReferenceUID: 1.3.6.1.4.1.14519.5.2.1.7311.5101.251399081666551921477175551313\n",
            "Parsing 11.8784 16.0017 -26.537\n",
            "1\n"
          ]
        },
        {
          "output_type": "stream",
          "name": "stderr",
          "text": [
            "\n",
            "/usr/local/lib/python3.11/dist-packages/highdicom/base.py:163: UserWarning: The string \"ProstateX-0050\" is unlikely to represent the intended person name since it contains only a single component. Construct a person name according to the format in described in https://dicom.nema.org/dicom/2013/output/chtml/part05/sect_6.2.html#sect_6.2.1.2, or, in pydicom 2.2.0 or later, use the pydicom.valuerep.PersonName.from_named_components() method to construct the person name correctly. If a single-component name is really intended, add a trailing caret character to disambiguate the name.\n",
            "  check_person_name(patient_name)\n"
          ]
        },
        {
          "output_type": "stream",
          "name": "stdout",
          "text": [
            "********** On patient: ProstateX-0051 **********\n",
            "num_series: 1\n",
            "***** On series: 1.3.6.1.4.1.14519.5.2.1.7311.5101.158753215359821065559679220345 *****\n",
            "SeriesInstanceUID: 1.3.6.1.4.1.14519.5.2.1.7311.5101.158753215359821065559679220345\n"
          ]
        },
        {
          "output_type": "stream",
          "name": "stderr",
          "text": [
            "Downloading data: 100%|██████████| 5.68M/5.68M [00:02<00:00, 2.27MB/s]"
          ]
        },
        {
          "output_type": "stream",
          "name": "stdout",
          "text": [
            "FrameOfReferenceUID: 1.3.6.1.4.1.14519.5.2.1.7311.5101.886896240201436481154608570554\n",
            "Parsing -7.8659 55.0028 38.3943\n",
            "1\n"
          ]
        },
        {
          "output_type": "stream",
          "name": "stderr",
          "text": [
            "\n",
            "/usr/local/lib/python3.11/dist-packages/highdicom/base.py:163: UserWarning: The string \"ProstateX-0051\" is unlikely to represent the intended person name since it contains only a single component. Construct a person name according to the format in described in https://dicom.nema.org/dicom/2013/output/chtml/part05/sect_6.2.html#sect_6.2.1.2, or, in pydicom 2.2.0 or later, use the pydicom.valuerep.PersonName.from_named_components() method to construct the person name correctly. If a single-component name is really intended, add a trailing caret character to disambiguate the name.\n",
            "  check_person_name(patient_name)\n"
          ]
        },
        {
          "output_type": "stream",
          "name": "stdout",
          "text": [
            "********** On patient: ProstateX-0052 **********\n",
            "num_series: 2\n",
            "***** On series: 1.3.6.1.4.1.14519.5.2.1.7311.5101.151037559012155965551113153184 *****\n",
            "SeriesInstanceUID: 1.3.6.1.4.1.14519.5.2.1.7311.5101.151037559012155965551113153184\n"
          ]
        },
        {
          "output_type": "stream",
          "name": "stderr",
          "text": [
            "Downloading data: 100%|█████████▉| 6.28M/6.28M [00:02<00:00, 2.50MB/s]"
          ]
        },
        {
          "output_type": "stream",
          "name": "stdout",
          "text": [
            "FrameOfReferenceUID: 1.3.6.1.4.1.14519.5.2.1.7311.5101.484220274505576519258790968111\n",
            "Parsing 26.6078 10.1553 50.5636\n",
            "1\n"
          ]
        },
        {
          "output_type": "stream",
          "name": "stderr",
          "text": [
            "\n",
            "/usr/local/lib/python3.11/dist-packages/highdicom/base.py:163: UserWarning: The string \"ProstateX-0052\" is unlikely to represent the intended person name since it contains only a single component. Construct a person name according to the format in described in https://dicom.nema.org/dicom/2013/output/chtml/part05/sect_6.2.html#sect_6.2.1.2, or, in pydicom 2.2.0 or later, use the pydicom.valuerep.PersonName.from_named_components() method to construct the person name correctly. If a single-component name is really intended, add a trailing caret character to disambiguate the name.\n",
            "  check_person_name(patient_name)\n"
          ]
        },
        {
          "output_type": "stream",
          "name": "stdout",
          "text": [
            "***** On series: 1.3.6.1.4.1.14519.5.2.1.7311.5101.249945594986863677107973338194 *****\n",
            "SeriesInstanceUID: 1.3.6.1.4.1.14519.5.2.1.7311.5101.249945594986863677107973338194\n"
          ]
        },
        {
          "output_type": "stream",
          "name": "stderr",
          "text": [
            "Downloading data: 100%|█████████▉| 6.28M/6.28M [00:02<00:00, 2.50MB/s]"
          ]
        },
        {
          "output_type": "stream",
          "name": "stdout",
          "text": [
            "FrameOfReferenceUID: 1.3.6.1.4.1.14519.5.2.1.7311.5101.484220274505576519258790968111\n",
            "Parsing 26.6078 10.1553 50.5636\n",
            "1\n"
          ]
        },
        {
          "output_type": "stream",
          "name": "stderr",
          "text": [
            "\n",
            "/usr/local/lib/python3.11/dist-packages/highdicom/base.py:163: UserWarning: The string \"ProstateX-0052\" is unlikely to represent the intended person name since it contains only a single component. Construct a person name according to the format in described in https://dicom.nema.org/dicom/2013/output/chtml/part05/sect_6.2.html#sect_6.2.1.2, or, in pydicom 2.2.0 or later, use the pydicom.valuerep.PersonName.from_named_components() method to construct the person name correctly. If a single-component name is really intended, add a trailing caret character to disambiguate the name.\n",
            "  check_person_name(patient_name)\n"
          ]
        },
        {
          "output_type": "stream",
          "name": "stdout",
          "text": [
            "********** On patient: ProstateX-0053 **********\n",
            "num_series: 1\n",
            "***** On series: 1.3.6.1.4.1.14519.5.2.1.7311.5101.134494516596506286173198983699 *****\n",
            "SeriesInstanceUID: 1.3.6.1.4.1.14519.5.2.1.7311.5101.134494516596506286173198983699\n"
          ]
        },
        {
          "output_type": "stream",
          "name": "stderr",
          "text": [
            "Downloading data: 100%|█████████▉| 6.28M/6.28M [00:02<00:00, 2.50MB/s]"
          ]
        },
        {
          "output_type": "stream",
          "name": "stdout",
          "text": [
            "FrameOfReferenceUID: 1.3.6.1.4.1.14519.5.2.1.7311.5101.333950693394408041715217896431\n",
            "Parsing 36.1 35.7 -83.4\n",
            "1\n"
          ]
        },
        {
          "output_type": "stream",
          "name": "stderr",
          "text": [
            "\n",
            "/usr/local/lib/python3.11/dist-packages/highdicom/base.py:163: UserWarning: The string \"ProstateX-0053\" is unlikely to represent the intended person name since it contains only a single component. Construct a person name according to the format in described in https://dicom.nema.org/dicom/2013/output/chtml/part05/sect_6.2.html#sect_6.2.1.2, or, in pydicom 2.2.0 or later, use the pydicom.valuerep.PersonName.from_named_components() method to construct the person name correctly. If a single-component name is really intended, add a trailing caret character to disambiguate the name.\n",
            "  check_person_name(patient_name)\n"
          ]
        },
        {
          "output_type": "stream",
          "name": "stdout",
          "text": [
            "********** On patient: ProstateX-0054 **********\n",
            "num_series: 2\n",
            "***** On series: 1.3.6.1.4.1.14519.5.2.1.7311.5101.469973634568975241672898863188 *****\n",
            "SeriesInstanceUID: 1.3.6.1.4.1.14519.5.2.1.7311.5101.469973634568975241672898863188\n"
          ]
        },
        {
          "output_type": "stream",
          "name": "stderr",
          "text": [
            "Downloading data: 100%|█████████▉| 6.28M/6.28M [00:02<00:00, 2.50MB/s]"
          ]
        },
        {
          "output_type": "stream",
          "name": "stdout",
          "text": [
            "FrameOfReferenceUID: 1.3.6.1.4.1.14519.5.2.1.7311.5101.163867026907015786589298633451\n",
            "Parsing -2.10843 10.7156 -4.33744\n",
            "Parsing 20.3595 31.1926 -6.71699\n",
            "2\n"
          ]
        },
        {
          "output_type": "stream",
          "name": "stderr",
          "text": [
            "\n",
            "/usr/local/lib/python3.11/dist-packages/highdicom/base.py:163: UserWarning: The string \"ProstateX-0054\" is unlikely to represent the intended person name since it contains only a single component. Construct a person name according to the format in described in https://dicom.nema.org/dicom/2013/output/chtml/part05/sect_6.2.html#sect_6.2.1.2, or, in pydicom 2.2.0 or later, use the pydicom.valuerep.PersonName.from_named_components() method to construct the person name correctly. If a single-component name is really intended, add a trailing caret character to disambiguate the name.\n",
            "  check_person_name(patient_name)\n"
          ]
        },
        {
          "output_type": "stream",
          "name": "stdout",
          "text": [
            "***** On series: 1.3.6.1.4.1.14519.5.2.1.7311.5101.472900684997509231929411950536 *****\n",
            "SeriesInstanceUID: 1.3.6.1.4.1.14519.5.2.1.7311.5101.472900684997509231929411950536\n"
          ]
        },
        {
          "output_type": "stream",
          "name": "stderr",
          "text": [
            "Downloading data: 100%|█████████▉| 4.39M/4.39M [00:02<00:00, 1.75MB/s]"
          ]
        },
        {
          "output_type": "stream",
          "name": "stdout",
          "text": [
            "FrameOfReferenceUID: 1.3.6.1.4.1.14519.5.2.1.7311.5101.163867026907015786589298633451\n",
            "Parsing -2.10843 10.7156 -4.33744\n",
            "Parsing 20.3595 31.1926 -6.71699\n",
            "2\n"
          ]
        },
        {
          "output_type": "stream",
          "name": "stderr",
          "text": [
            "\n",
            "/usr/local/lib/python3.11/dist-packages/highdicom/base.py:163: UserWarning: The string \"ProstateX-0054\" is unlikely to represent the intended person name since it contains only a single component. Construct a person name according to the format in described in https://dicom.nema.org/dicom/2013/output/chtml/part05/sect_6.2.html#sect_6.2.1.2, or, in pydicom 2.2.0 or later, use the pydicom.valuerep.PersonName.from_named_components() method to construct the person name correctly. If a single-component name is really intended, add a trailing caret character to disambiguate the name.\n",
            "  check_person_name(patient_name)\n"
          ]
        },
        {
          "output_type": "stream",
          "name": "stdout",
          "text": [
            "********** On patient: ProstateX-0055 **********\n",
            "num_series: 1\n",
            "***** On series: 1.3.6.1.4.1.14519.5.2.1.7311.5101.867984895695548587093255801819 *****\n",
            "SeriesInstanceUID: 1.3.6.1.4.1.14519.5.2.1.7311.5101.867984895695548587093255801819\n"
          ]
        },
        {
          "output_type": "stream",
          "name": "stderr",
          "text": [
            "Downloading data: 100%|█████████▉| 5.68M/5.68M [00:02<00:00, 2.26MB/s]"
          ]
        },
        {
          "output_type": "stream",
          "name": "stdout",
          "text": [
            "FrameOfReferenceUID: 1.3.6.1.4.1.14519.5.2.1.7311.5101.307690468880477407098556215360\n",
            "Parsing -6.36708 5.95801 -16.3704\n",
            "1\n"
          ]
        },
        {
          "output_type": "stream",
          "name": "stderr",
          "text": [
            "\n",
            "/usr/local/lib/python3.11/dist-packages/highdicom/base.py:163: UserWarning: The string \"ProstateX-0055\" is unlikely to represent the intended person name since it contains only a single component. Construct a person name according to the format in described in https://dicom.nema.org/dicom/2013/output/chtml/part05/sect_6.2.html#sect_6.2.1.2, or, in pydicom 2.2.0 or later, use the pydicom.valuerep.PersonName.from_named_components() method to construct the person name correctly. If a single-component name is really intended, add a trailing caret character to disambiguate the name.\n",
            "  check_person_name(patient_name)\n"
          ]
        },
        {
          "output_type": "stream",
          "name": "stdout",
          "text": [
            "********** On patient: ProstateX-0056 **********\n",
            "num_series: 1\n",
            "***** On series: 1.3.6.1.4.1.14519.5.2.1.7311.5101.905763996607212880296069425861 *****\n",
            "SeriesInstanceUID: 1.3.6.1.4.1.14519.5.2.1.7311.5101.905763996607212880296069425861\n"
          ]
        },
        {
          "output_type": "stream",
          "name": "stderr",
          "text": [
            "Downloading data: 100%|█████████▉| 6.28M/6.28M [00:02<00:00, 2.50MB/s]"
          ]
        },
        {
          "output_type": "stream",
          "name": "stdout",
          "text": [
            "FrameOfReferenceUID: 1.3.6.1.4.1.14519.5.2.1.7311.5101.226749881970300553578664541975\n",
            "Parsing -9.6549 19.4309 -39.5232\n",
            "1\n"
          ]
        },
        {
          "output_type": "stream",
          "name": "stderr",
          "text": [
            "\n",
            "/usr/local/lib/python3.11/dist-packages/highdicom/base.py:163: UserWarning: The string \"ProstateX-0056\" is unlikely to represent the intended person name since it contains only a single component. Construct a person name according to the format in described in https://dicom.nema.org/dicom/2013/output/chtml/part05/sect_6.2.html#sect_6.2.1.2, or, in pydicom 2.2.0 or later, use the pydicom.valuerep.PersonName.from_named_components() method to construct the person name correctly. If a single-component name is really intended, add a trailing caret character to disambiguate the name.\n",
            "  check_person_name(patient_name)\n"
          ]
        },
        {
          "output_type": "stream",
          "name": "stdout",
          "text": [
            "********** On patient: ProstateX-0057 **********\n",
            "num_series: 1\n",
            "***** On series: 1.3.6.1.4.1.14519.5.2.1.7311.5101.182889596923924025690195877030 *****\n",
            "SeriesInstanceUID: 1.3.6.1.4.1.14519.5.2.1.7311.5101.182889596923924025690195877030\n"
          ]
        },
        {
          "output_type": "stream",
          "name": "stderr",
          "text": [
            "Downloading data: 100%|█████████▉| 5.68M/5.68M [00:02<00:00, 2.26MB/s]"
          ]
        },
        {
          "output_type": "stream",
          "name": "stdout",
          "text": [
            "FrameOfReferenceUID: 1.3.6.1.4.1.14519.5.2.1.7311.5101.176277954595645044028568583940\n",
            "Parsing -5.013 52.868 7.27444\n",
            "Parsing 26.2799 54.2679 -21.5532\n",
            "2\n"
          ]
        },
        {
          "output_type": "stream",
          "name": "stderr",
          "text": [
            "\n",
            "/usr/local/lib/python3.11/dist-packages/highdicom/base.py:163: UserWarning: The string \"ProstateX-0057\" is unlikely to represent the intended person name since it contains only a single component. Construct a person name according to the format in described in https://dicom.nema.org/dicom/2013/output/chtml/part05/sect_6.2.html#sect_6.2.1.2, or, in pydicom 2.2.0 or later, use the pydicom.valuerep.PersonName.from_named_components() method to construct the person name correctly. If a single-component name is really intended, add a trailing caret character to disambiguate the name.\n",
            "  check_person_name(patient_name)\n"
          ]
        },
        {
          "output_type": "stream",
          "name": "stdout",
          "text": [
            "********** On patient: ProstateX-0058 **********\n",
            "num_series: 1\n",
            "***** On series: 1.3.6.1.4.1.14519.5.2.1.7311.5101.272107812581357323586544870665 *****\n",
            "SeriesInstanceUID: 1.3.6.1.4.1.14519.5.2.1.7311.5101.272107812581357323586544870665\n"
          ]
        },
        {
          "output_type": "stream",
          "name": "stderr",
          "text": [
            "Downloading data: 100%|█████████▉| 5.64M/5.64M [00:02<00:00, 2.25MB/s]"
          ]
        },
        {
          "output_type": "stream",
          "name": "stdout",
          "text": [
            "FrameOfReferenceUID: 1.3.6.1.4.1.14519.5.2.1.7311.5101.275186347364672591813640623509\n",
            "Parsing -6.80932 9.61084 -31.1096\n",
            "1\n"
          ]
        },
        {
          "output_type": "stream",
          "name": "stderr",
          "text": [
            "\n",
            "/usr/local/lib/python3.11/dist-packages/highdicom/base.py:163: UserWarning: The string \"ProstateX-0058\" is unlikely to represent the intended person name since it contains only a single component. Construct a person name according to the format in described in https://dicom.nema.org/dicom/2013/output/chtml/part05/sect_6.2.html#sect_6.2.1.2, or, in pydicom 2.2.0 or later, use the pydicom.valuerep.PersonName.from_named_components() method to construct the person name correctly. If a single-component name is really intended, add a trailing caret character to disambiguate the name.\n",
            "  check_person_name(patient_name)\n"
          ]
        },
        {
          "output_type": "stream",
          "name": "stdout",
          "text": [
            "********** On patient: ProstateX-0059 **********\n",
            "num_series: 1\n",
            "***** On series: 1.3.6.1.4.1.14519.5.2.1.7311.5101.323608747897754776819167940278 *****\n",
            "SeriesInstanceUID: 1.3.6.1.4.1.14519.5.2.1.7311.5101.323608747897754776819167940278\n"
          ]
        },
        {
          "output_type": "stream",
          "name": "stderr",
          "text": [
            "Downloading data: 100%|█████████▉| 5.68M/5.68M [00:02<00:00, 2.26MB/s]"
          ]
        },
        {
          "output_type": "stream",
          "name": "stdout",
          "text": [
            "FrameOfReferenceUID: 1.3.6.1.4.1.14519.5.2.1.7311.5101.326974837742935047016823933415\n",
            "Parsing -26.9082 24.1523 14.1477\n",
            "1\n"
          ]
        },
        {
          "output_type": "stream",
          "name": "stderr",
          "text": [
            "\n",
            "/usr/local/lib/python3.11/dist-packages/highdicom/base.py:163: UserWarning: The string \"ProstateX-0059\" is unlikely to represent the intended person name since it contains only a single component. Construct a person name according to the format in described in https://dicom.nema.org/dicom/2013/output/chtml/part05/sect_6.2.html#sect_6.2.1.2, or, in pydicom 2.2.0 or later, use the pydicom.valuerep.PersonName.from_named_components() method to construct the person name correctly. If a single-component name is really intended, add a trailing caret character to disambiguate the name.\n",
            "  check_person_name(patient_name)\n"
          ]
        },
        {
          "output_type": "stream",
          "name": "stdout",
          "text": [
            "********** On patient: ProstateX-0060 **********\n",
            "num_series: 1\n",
            "***** On series: 1.3.6.1.4.1.14519.5.2.1.7311.5101.941591881515408480538274555272 *****\n",
            "SeriesInstanceUID: 1.3.6.1.4.1.14519.5.2.1.7311.5101.941591881515408480538274555272\n"
          ]
        },
        {
          "output_type": "stream",
          "name": "stderr",
          "text": [
            "Downloading data: 100%|██████████| 6.87M/6.87M [00:02<00:00, 2.74MB/s]"
          ]
        },
        {
          "output_type": "stream",
          "name": "stdout",
          "text": [
            "FrameOfReferenceUID: 1.3.6.1.4.1.14519.5.2.1.7311.5101.186540914116364424925542230163\n",
            "Parsing 12.1046 9.6947 1.35707\n",
            "1\n"
          ]
        },
        {
          "output_type": "stream",
          "name": "stderr",
          "text": [
            "\n",
            "/usr/local/lib/python3.11/dist-packages/highdicom/base.py:163: UserWarning: The string \"ProstateX-0060\" is unlikely to represent the intended person name since it contains only a single component. Construct a person name according to the format in described in https://dicom.nema.org/dicom/2013/output/chtml/part05/sect_6.2.html#sect_6.2.1.2, or, in pydicom 2.2.0 or later, use the pydicom.valuerep.PersonName.from_named_components() method to construct the person name correctly. If a single-component name is really intended, add a trailing caret character to disambiguate the name.\n",
            "  check_person_name(patient_name)\n"
          ]
        },
        {
          "output_type": "stream",
          "name": "stdout",
          "text": [
            "********** On patient: ProstateX-0061 **********\n",
            "num_series: 2\n",
            "***** On series: 1.3.6.1.4.1.14519.5.2.1.7311.5101.117787454837907188090392680606 *****\n",
            "SeriesInstanceUID: 1.3.6.1.4.1.14519.5.2.1.7311.5101.117787454837907188090392680606\n"
          ]
        },
        {
          "output_type": "stream",
          "name": "stderr",
          "text": [
            "Downloading data: 100%|█████████▉| 5.68M/5.68M [00:02<00:00, 2.26MB/s]"
          ]
        },
        {
          "output_type": "stream",
          "name": "stdout",
          "text": [
            "FrameOfReferenceUID: 1.3.6.1.4.1.14519.5.2.1.7311.5101.103032174501549106231669150411\n",
            "Parsing -9.29239 36.6647 29.8906\n",
            "1\n"
          ]
        },
        {
          "output_type": "stream",
          "name": "stderr",
          "text": [
            "\n",
            "/usr/local/lib/python3.11/dist-packages/highdicom/base.py:163: UserWarning: The string \"ProstateX-0061\" is unlikely to represent the intended person name since it contains only a single component. Construct a person name according to the format in described in https://dicom.nema.org/dicom/2013/output/chtml/part05/sect_6.2.html#sect_6.2.1.2, or, in pydicom 2.2.0 or later, use the pydicom.valuerep.PersonName.from_named_components() method to construct the person name correctly. If a single-component name is really intended, add a trailing caret character to disambiguate the name.\n",
            "  check_person_name(patient_name)\n"
          ]
        },
        {
          "output_type": "stream",
          "name": "stdout",
          "text": [
            "***** On series: 1.3.6.1.4.1.14519.5.2.1.7311.5101.388037181027626720828515580230 *****\n",
            "SeriesInstanceUID: 1.3.6.1.4.1.14519.5.2.1.7311.5101.388037181027626720828515580230\n"
          ]
        },
        {
          "output_type": "stream",
          "name": "stderr",
          "text": [
            "Downloading data: 100%|█████████▉| 5.68M/5.68M [00:02<00:00, 2.26MB/s]"
          ]
        },
        {
          "output_type": "stream",
          "name": "stdout",
          "text": [
            "FrameOfReferenceUID: 1.3.6.1.4.1.14519.5.2.1.7311.5101.103032174501549106231669150411\n",
            "Parsing -9.29239 36.6647 29.8906\n",
            "1\n"
          ]
        },
        {
          "output_type": "stream",
          "name": "stderr",
          "text": [
            "\n",
            "/usr/local/lib/python3.11/dist-packages/highdicom/base.py:163: UserWarning: The string \"ProstateX-0061\" is unlikely to represent the intended person name since it contains only a single component. Construct a person name according to the format in described in https://dicom.nema.org/dicom/2013/output/chtml/part05/sect_6.2.html#sect_6.2.1.2, or, in pydicom 2.2.0 or later, use the pydicom.valuerep.PersonName.from_named_components() method to construct the person name correctly. If a single-component name is really intended, add a trailing caret character to disambiguate the name.\n",
            "  check_person_name(patient_name)\n"
          ]
        },
        {
          "output_type": "stream",
          "name": "stdout",
          "text": [
            "********** On patient: ProstateX-0062 **********\n",
            "num_series: 1\n",
            "***** On series: 1.3.6.1.4.1.14519.5.2.1.7311.5101.174899983360846888271485770942 *****\n",
            "SeriesInstanceUID: 1.3.6.1.4.1.14519.5.2.1.7311.5101.174899983360846888271485770942\n"
          ]
        },
        {
          "output_type": "stream",
          "name": "stderr",
          "text": [
            "Downloading data: 100%|█████████▉| 5.68M/5.68M [00:02<00:00, 2.26MB/s]"
          ]
        },
        {
          "output_type": "stream",
          "name": "stdout",
          "text": [
            "FrameOfReferenceUID: 1.3.6.1.4.1.14519.5.2.1.7311.5101.283417747148115232468407304363\n",
            "Parsing -20.1521 -7.51426 7.20141\n",
            "1\n"
          ]
        },
        {
          "output_type": "stream",
          "name": "stderr",
          "text": [
            "\n",
            "/usr/local/lib/python3.11/dist-packages/highdicom/base.py:163: UserWarning: The string \"ProstateX-0062\" is unlikely to represent the intended person name since it contains only a single component. Construct a person name according to the format in described in https://dicom.nema.org/dicom/2013/output/chtml/part05/sect_6.2.html#sect_6.2.1.2, or, in pydicom 2.2.0 or later, use the pydicom.valuerep.PersonName.from_named_components() method to construct the person name correctly. If a single-component name is really intended, add a trailing caret character to disambiguate the name.\n",
            "  check_person_name(patient_name)\n"
          ]
        },
        {
          "output_type": "stream",
          "name": "stdout",
          "text": [
            "********** On patient: ProstateX-0063 **********\n",
            "num_series: 1\n",
            "***** On series: 1.3.6.1.4.1.14519.5.2.1.7311.5101.325859894329765410277635438195 *****\n",
            "SeriesInstanceUID: 1.3.6.1.4.1.14519.5.2.1.7311.5101.325859894329765410277635438195\n"
          ]
        },
        {
          "output_type": "stream",
          "name": "stderr",
          "text": [
            "Downloading data: 100%|█████████▉| 5.68M/5.68M [00:03<00:00, 1.88MB/s]"
          ]
        },
        {
          "output_type": "stream",
          "name": "stdout",
          "text": [
            "FrameOfReferenceUID: 1.3.6.1.4.1.14519.5.2.1.7311.5101.134569760543115105581097574262\n",
            "Parsing -9.86035 39.4559 49.8827\n",
            "1\n"
          ]
        },
        {
          "output_type": "stream",
          "name": "stderr",
          "text": [
            "\n",
            "/usr/local/lib/python3.11/dist-packages/highdicom/base.py:163: UserWarning: The string \"ProstateX-0063\" is unlikely to represent the intended person name since it contains only a single component. Construct a person name according to the format in described in https://dicom.nema.org/dicom/2013/output/chtml/part05/sect_6.2.html#sect_6.2.1.2, or, in pydicom 2.2.0 or later, use the pydicom.valuerep.PersonName.from_named_components() method to construct the person name correctly. If a single-component name is really intended, add a trailing caret character to disambiguate the name.\n",
            "  check_person_name(patient_name)\n"
          ]
        },
        {
          "output_type": "stream",
          "name": "stdout",
          "text": [
            "********** On patient: ProstateX-0064 **********\n",
            "num_series: 1\n",
            "***** On series: 1.3.6.1.4.1.14519.5.2.1.7311.5101.200213914930332021730900158659 *****\n",
            "SeriesInstanceUID: 1.3.6.1.4.1.14519.5.2.1.7311.5101.200213914930332021730900158659\n"
          ]
        },
        {
          "output_type": "stream",
          "name": "stderr",
          "text": [
            "Downloading data: 100%|█████████▉| 6.88M/6.88M [00:02<00:00, 2.74MB/s]"
          ]
        },
        {
          "output_type": "stream",
          "name": "stdout",
          "text": [
            "FrameOfReferenceUID: 1.3.6.1.4.1.14519.5.2.1.7311.5101.274674441966459485438191993528\n",
            "Parsing -15.1627 46.2212 22.8244\n",
            "1\n"
          ]
        },
        {
          "output_type": "stream",
          "name": "stderr",
          "text": [
            "\n",
            "/usr/local/lib/python3.11/dist-packages/highdicom/base.py:163: UserWarning: The string \"ProstateX-0064\" is unlikely to represent the intended person name since it contains only a single component. Construct a person name according to the format in described in https://dicom.nema.org/dicom/2013/output/chtml/part05/sect_6.2.html#sect_6.2.1.2, or, in pydicom 2.2.0 or later, use the pydicom.valuerep.PersonName.from_named_components() method to construct the person name correctly. If a single-component name is really intended, add a trailing caret character to disambiguate the name.\n",
            "  check_person_name(patient_name)\n"
          ]
        },
        {
          "output_type": "stream",
          "name": "stdout",
          "text": [
            "********** On patient: ProstateX-0065 **********\n",
            "num_series: 1\n",
            "***** On series: 1.3.6.1.4.1.14519.5.2.1.7311.5101.146422450520894659910416624671 *****\n",
            "SeriesInstanceUID: 1.3.6.1.4.1.14519.5.2.1.7311.5101.146422450520894659910416624671\n"
          ]
        },
        {
          "output_type": "stream",
          "name": "stderr",
          "text": [
            "Downloading data: 100%|█████████▉| 5.68M/5.68M [00:02<00:00, 2.27MB/s]"
          ]
        },
        {
          "output_type": "stream",
          "name": "stdout",
          "text": [
            "FrameOfReferenceUID: 1.3.6.1.4.1.14519.5.2.1.7311.5101.406928930880050357335916549903\n",
            "Parsing 2.03432 30.3762 -21.4596\n",
            "Parsing -21.0782 9.84683 -28.2478\n",
            "2\n"
          ]
        },
        {
          "output_type": "stream",
          "name": "stderr",
          "text": [
            "\n",
            "/usr/local/lib/python3.11/dist-packages/highdicom/base.py:163: UserWarning: The string \"ProstateX-0065\" is unlikely to represent the intended person name since it contains only a single component. Construct a person name according to the format in described in https://dicom.nema.org/dicom/2013/output/chtml/part05/sect_6.2.html#sect_6.2.1.2, or, in pydicom 2.2.0 or later, use the pydicom.valuerep.PersonName.from_named_components() method to construct the person name correctly. If a single-component name is really intended, add a trailing caret character to disambiguate the name.\n",
            "  check_person_name(patient_name)\n"
          ]
        },
        {
          "output_type": "stream",
          "name": "stdout",
          "text": [
            "********** On patient: ProstateX-0066 **********\n",
            "num_series: 1\n",
            "***** On series: 1.3.6.1.4.1.14519.5.2.1.7311.5101.252385246988168654915352850239 *****\n",
            "SeriesInstanceUID: 1.3.6.1.4.1.14519.5.2.1.7311.5101.252385246988168654915352850239\n"
          ]
        },
        {
          "output_type": "stream",
          "name": "stderr",
          "text": [
            "Downloading data: 100%|█████████▉| 6.28M/6.28M [00:02<00:00, 2.50MB/s]"
          ]
        },
        {
          "output_type": "stream",
          "name": "stdout",
          "text": [
            "FrameOfReferenceUID: 1.3.6.1.4.1.14519.5.2.1.7311.5101.329795989604970670483715076331\n",
            "Parsing -43.1018 23.1527 -14.4811\n",
            "1\n"
          ]
        },
        {
          "output_type": "stream",
          "name": "stderr",
          "text": [
            "\n",
            "/usr/local/lib/python3.11/dist-packages/highdicom/base.py:163: UserWarning: The string \"ProstateX-0066\" is unlikely to represent the intended person name since it contains only a single component. Construct a person name according to the format in described in https://dicom.nema.org/dicom/2013/output/chtml/part05/sect_6.2.html#sect_6.2.1.2, or, in pydicom 2.2.0 or later, use the pydicom.valuerep.PersonName.from_named_components() method to construct the person name correctly. If a single-component name is really intended, add a trailing caret character to disambiguate the name.\n",
            "  check_person_name(patient_name)\n"
          ]
        },
        {
          "output_type": "stream",
          "name": "stdout",
          "text": [
            "********** On patient: ProstateX-0067 **********\n",
            "num_series: 1\n",
            "***** On series: 1.3.6.1.4.1.14519.5.2.1.7311.5101.192468235215257148984036683918 *****\n",
            "SeriesInstanceUID: 1.3.6.1.4.1.14519.5.2.1.7311.5101.192468235215257148984036683918\n"
          ]
        },
        {
          "output_type": "stream",
          "name": "stderr",
          "text": [
            "Downloading data: 100%|█████████▉| 6.28M/6.28M [00:03<00:00, 2.08MB/s]"
          ]
        },
        {
          "output_type": "stream",
          "name": "stdout",
          "text": [
            "FrameOfReferenceUID: 1.3.6.1.4.1.14519.5.2.1.7311.5101.216370337792684876944263560452\n",
            "Parsing 18.6239 25.4505 14.9875\n",
            "Parsing 27.2983 36.0017 16.8409\n",
            "Parsing -11.5378 44.1525 22.7649\n",
            "3\n"
          ]
        },
        {
          "output_type": "stream",
          "name": "stderr",
          "text": [
            "\n",
            "/usr/local/lib/python3.11/dist-packages/highdicom/base.py:163: UserWarning: The string \"ProstateX-0067\" is unlikely to represent the intended person name since it contains only a single component. Construct a person name according to the format in described in https://dicom.nema.org/dicom/2013/output/chtml/part05/sect_6.2.html#sect_6.2.1.2, or, in pydicom 2.2.0 or later, use the pydicom.valuerep.PersonName.from_named_components() method to construct the person name correctly. If a single-component name is really intended, add a trailing caret character to disambiguate the name.\n",
            "  check_person_name(patient_name)\n"
          ]
        },
        {
          "output_type": "stream",
          "name": "stdout",
          "text": [
            "********** On patient: ProstateX-0068 **********\n",
            "num_series: 1\n",
            "***** On series: 1.3.6.1.4.1.14519.5.2.1.7311.5101.198193851607052967342507788897 *****\n",
            "SeriesInstanceUID: 1.3.6.1.4.1.14519.5.2.1.7311.5101.198193851607052967342507788897\n"
          ]
        },
        {
          "output_type": "stream",
          "name": "stderr",
          "text": [
            "Downloading data: 100%|█████████▉| 5.68M/5.68M [00:02<00:00, 2.27MB/s]"
          ]
        },
        {
          "output_type": "stream",
          "name": "stdout",
          "text": [
            "FrameOfReferenceUID: 1.3.6.1.4.1.14519.5.2.1.7311.5101.155359068576580262596647995852\n",
            "Parsing -8.98097 42.0751 -9.31191\n",
            "Parsing -22.0582 39.112 -11.8622\n",
            "Parsing -32.9206 11.02 7.73917\n",
            "3\n"
          ]
        },
        {
          "output_type": "stream",
          "name": "stderr",
          "text": [
            "\n",
            "/usr/local/lib/python3.11/dist-packages/highdicom/base.py:163: UserWarning: The string \"ProstateX-0068\" is unlikely to represent the intended person name since it contains only a single component. Construct a person name according to the format in described in https://dicom.nema.org/dicom/2013/output/chtml/part05/sect_6.2.html#sect_6.2.1.2, or, in pydicom 2.2.0 or later, use the pydicom.valuerep.PersonName.from_named_components() method to construct the person name correctly. If a single-component name is really intended, add a trailing caret character to disambiguate the name.\n",
            "  check_person_name(patient_name)\n"
          ]
        },
        {
          "output_type": "stream",
          "name": "stdout",
          "text": [
            "********** On patient: ProstateX-0069 **********\n",
            "num_series: 1\n",
            "***** On series: 1.3.6.1.4.1.14519.5.2.1.7311.5101.266720221212035669954581062639 *****\n",
            "SeriesInstanceUID: 1.3.6.1.4.1.14519.5.2.1.7311.5101.266720221212035669954581062639\n"
          ]
        },
        {
          "output_type": "stream",
          "name": "stderr",
          "text": [
            "Downloading data: 100%|█████████▉| 5.68M/5.68M [00:02<00:00, 2.26MB/s]"
          ]
        },
        {
          "output_type": "stream",
          "name": "stdout",
          "text": [
            "FrameOfReferenceUID: 1.3.6.1.4.1.14519.5.2.1.7311.5101.137457765691784215142262795088\n",
            "Parsing -13.9353 28.1827 -29.5937\n",
            "1\n"
          ]
        },
        {
          "output_type": "stream",
          "name": "stderr",
          "text": [
            "\n",
            "/usr/local/lib/python3.11/dist-packages/highdicom/base.py:163: UserWarning: The string \"ProstateX-0069\" is unlikely to represent the intended person name since it contains only a single component. Construct a person name according to the format in described in https://dicom.nema.org/dicom/2013/output/chtml/part05/sect_6.2.html#sect_6.2.1.2, or, in pydicom 2.2.0 or later, use the pydicom.valuerep.PersonName.from_named_components() method to construct the person name correctly. If a single-component name is really intended, add a trailing caret character to disambiguate the name.\n",
            "  check_person_name(patient_name)\n"
          ]
        },
        {
          "output_type": "stream",
          "name": "stdout",
          "text": [
            "********** On patient: ProstateX-0070 **********\n",
            "num_series: 1\n",
            "***** On series: 1.3.6.1.4.1.14519.5.2.1.7311.5101.186553403053805718209125341361 *****\n",
            "SeriesInstanceUID: 1.3.6.1.4.1.14519.5.2.1.7311.5101.186553403053805718209125341361\n"
          ]
        },
        {
          "output_type": "stream",
          "name": "stderr",
          "text": [
            "Downloading data: 100%|█████████▉| 6.28M/6.28M [00:02<00:00, 2.50MB/s]"
          ]
        },
        {
          "output_type": "stream",
          "name": "stdout",
          "text": [
            "FrameOfReferenceUID: 1.3.6.1.4.1.14519.5.2.1.7311.5101.825400624576374622838663009482\n",
            "Parsing -5.39406 49.631 -40.7096\n",
            "Parsing -6.54956 20.5497 -37.4393\n",
            "2\n"
          ]
        },
        {
          "output_type": "stream",
          "name": "stderr",
          "text": [
            "\n",
            "/usr/local/lib/python3.11/dist-packages/highdicom/base.py:163: UserWarning: The string \"ProstateX-0070\" is unlikely to represent the intended person name since it contains only a single component. Construct a person name according to the format in described in https://dicom.nema.org/dicom/2013/output/chtml/part05/sect_6.2.html#sect_6.2.1.2, or, in pydicom 2.2.0 or later, use the pydicom.valuerep.PersonName.from_named_components() method to construct the person name correctly. If a single-component name is really intended, add a trailing caret character to disambiguate the name.\n",
            "  check_person_name(patient_name)\n"
          ]
        },
        {
          "output_type": "stream",
          "name": "stdout",
          "text": [
            "********** On patient: ProstateX-0071 **********\n",
            "num_series: 1\n",
            "***** On series: 1.3.6.1.4.1.14519.5.2.1.7311.5101.327021307073506490268456871497 *****\n",
            "SeriesInstanceUID: 1.3.6.1.4.1.14519.5.2.1.7311.5101.327021307073506490268456871497\n"
          ]
        },
        {
          "output_type": "stream",
          "name": "stderr",
          "text": [
            "Downloading data: 100%|█████████▉| 5.68M/5.68M [00:02<00:00, 2.26MB/s]"
          ]
        },
        {
          "output_type": "stream",
          "name": "stdout",
          "text": [
            "FrameOfReferenceUID: 1.3.6.1.4.1.14519.5.2.1.7311.5101.155020104179271274645496683821\n",
            "Parsing 17.3233 15.0943 -23.6103\n",
            "1\n"
          ]
        },
        {
          "output_type": "stream",
          "name": "stderr",
          "text": [
            "\n",
            "/usr/local/lib/python3.11/dist-packages/highdicom/base.py:163: UserWarning: The string \"ProstateX-0071\" is unlikely to represent the intended person name since it contains only a single component. Construct a person name according to the format in described in https://dicom.nema.org/dicom/2013/output/chtml/part05/sect_6.2.html#sect_6.2.1.2, or, in pydicom 2.2.0 or later, use the pydicom.valuerep.PersonName.from_named_components() method to construct the person name correctly. If a single-component name is really intended, add a trailing caret character to disambiguate the name.\n",
            "  check_person_name(patient_name)\n"
          ]
        },
        {
          "output_type": "stream",
          "name": "stdout",
          "text": [
            "********** On patient: ProstateX-0072 **********\n",
            "num_series: 1\n",
            "***** On series: 1.3.6.1.4.1.14519.5.2.1.7311.5101.126808882287123482193592987944 *****\n",
            "SeriesInstanceUID: 1.3.6.1.4.1.14519.5.2.1.7311.5101.126808882287123482193592987944\n"
          ]
        },
        {
          "output_type": "stream",
          "name": "stderr",
          "text": [
            "Downloading data: 100%|█████████▉| 5.68M/5.68M [00:02<00:00, 2.26MB/s]"
          ]
        },
        {
          "output_type": "stream",
          "name": "stdout",
          "text": [
            "FrameOfReferenceUID: 1.3.6.1.4.1.14519.5.2.1.7311.5101.435885138467397644988035307170\n",
            "Parsing -46.3727 5.99356 32.8262\n",
            "1\n"
          ]
        },
        {
          "output_type": "stream",
          "name": "stderr",
          "text": [
            "\n",
            "/usr/local/lib/python3.11/dist-packages/highdicom/base.py:163: UserWarning: The string \"ProstateX-0072\" is unlikely to represent the intended person name since it contains only a single component. Construct a person name according to the format in described in https://dicom.nema.org/dicom/2013/output/chtml/part05/sect_6.2.html#sect_6.2.1.2, or, in pydicom 2.2.0 or later, use the pydicom.valuerep.PersonName.from_named_components() method to construct the person name correctly. If a single-component name is really intended, add a trailing caret character to disambiguate the name.\n",
            "  check_person_name(patient_name)\n"
          ]
        },
        {
          "output_type": "stream",
          "name": "stdout",
          "text": [
            "********** On patient: ProstateX-0073 **********\n",
            "num_series: 1\n",
            "***** On series: 1.3.6.1.4.1.14519.5.2.1.7311.5101.234155516911467674069297383539 *****\n",
            "SeriesInstanceUID: 1.3.6.1.4.1.14519.5.2.1.7311.5101.234155516911467674069297383539\n"
          ]
        },
        {
          "output_type": "stream",
          "name": "stderr",
          "text": [
            "Downloading data: 100%|█████████▉| 5.68M/5.68M [00:02<00:00, 2.26MB/s]"
          ]
        },
        {
          "output_type": "stream",
          "name": "stdout",
          "text": [
            "FrameOfReferenceUID: 1.3.6.1.4.1.14519.5.2.1.7311.5101.146458373321679403948539671545\n",
            "Parsing 27.3235 35.823 -40.3352\n",
            "1\n"
          ]
        },
        {
          "output_type": "stream",
          "name": "stderr",
          "text": [
            "\n",
            "/usr/local/lib/python3.11/dist-packages/highdicom/base.py:163: UserWarning: The string \"ProstateX-0073\" is unlikely to represent the intended person name since it contains only a single component. Construct a person name according to the format in described in https://dicom.nema.org/dicom/2013/output/chtml/part05/sect_6.2.html#sect_6.2.1.2, or, in pydicom 2.2.0 or later, use the pydicom.valuerep.PersonName.from_named_components() method to construct the person name correctly. If a single-component name is really intended, add a trailing caret character to disambiguate the name.\n",
            "  check_person_name(patient_name)\n"
          ]
        },
        {
          "output_type": "stream",
          "name": "stdout",
          "text": [
            "********** On patient: ProstateX-0074 **********\n",
            "num_series: 3\n",
            "***** On series: 1.3.6.1.4.1.14519.5.2.1.7311.5101.148763432469486183424435286431 *****\n",
            "SeriesInstanceUID: 1.3.6.1.4.1.14519.5.2.1.7311.5101.148763432469486183424435286431\n"
          ]
        },
        {
          "output_type": "stream",
          "name": "stderr",
          "text": [
            "Downloading data: 100%|█████████▉| 6.28M/6.28M [00:02<00:00, 2.50MB/s]"
          ]
        },
        {
          "output_type": "stream",
          "name": "stdout",
          "text": [
            "FrameOfReferenceUID: 1.3.6.1.4.1.14519.5.2.1.7311.5101.270938053487231462821696106520\n",
            "Parsing 2.58529 47.7414 -79.8186\n",
            "1\n"
          ]
        },
        {
          "output_type": "stream",
          "name": "stderr",
          "text": [
            "\n",
            "/usr/local/lib/python3.11/dist-packages/highdicom/base.py:163: UserWarning: The string \"ProstateX-0074\" is unlikely to represent the intended person name since it contains only a single component. Construct a person name according to the format in described in https://dicom.nema.org/dicom/2013/output/chtml/part05/sect_6.2.html#sect_6.2.1.2, or, in pydicom 2.2.0 or later, use the pydicom.valuerep.PersonName.from_named_components() method to construct the person name correctly. If a single-component name is really intended, add a trailing caret character to disambiguate the name.\n",
            "  check_person_name(patient_name)\n"
          ]
        },
        {
          "output_type": "stream",
          "name": "stdout",
          "text": [
            "***** On series: 1.3.6.1.4.1.14519.5.2.1.7311.5101.224282276602945928070807819072 *****\n",
            "SeriesInstanceUID: 1.3.6.1.4.1.14519.5.2.1.7311.5101.224282276602945928070807819072\n"
          ]
        },
        {
          "output_type": "stream",
          "name": "stderr",
          "text": [
            "Downloading data: 100%|██████████| 11.1M/11.1M [00:03<00:00, 3.68MB/s]"
          ]
        },
        {
          "output_type": "stream",
          "name": "stdout",
          "text": [
            "FrameOfReferenceUID: 1.3.6.1.4.1.14519.5.2.1.7311.5101.270938053487231462821696106520\n",
            "Parsing 2.58529 47.7414 -79.8186\n",
            "1\n"
          ]
        },
        {
          "output_type": "stream",
          "name": "stderr",
          "text": [
            "\n",
            "/usr/local/lib/python3.11/dist-packages/highdicom/base.py:163: UserWarning: The string \"ProstateX-0074\" is unlikely to represent the intended person name since it contains only a single component. Construct a person name according to the format in described in https://dicom.nema.org/dicom/2013/output/chtml/part05/sect_6.2.html#sect_6.2.1.2, or, in pydicom 2.2.0 or later, use the pydicom.valuerep.PersonName.from_named_components() method to construct the person name correctly. If a single-component name is really intended, add a trailing caret character to disambiguate the name.\n",
            "  check_person_name(patient_name)\n"
          ]
        },
        {
          "output_type": "stream",
          "name": "stdout",
          "text": [
            "***** On series: 1.3.6.1.4.1.14519.5.2.1.7311.5101.424493579224646237573300169060 *****\n",
            "SeriesInstanceUID: 1.3.6.1.4.1.14519.5.2.1.7311.5101.424493579224646237573300169060\n"
          ]
        },
        {
          "output_type": "stream",
          "name": "stderr",
          "text": [
            "Downloading data: 100%|█████████▉| 6.28M/6.28M [00:02<00:00, 2.50MB/s]"
          ]
        },
        {
          "output_type": "stream",
          "name": "stdout",
          "text": [
            "FrameOfReferenceUID: 1.3.6.1.4.1.14519.5.2.1.7311.5101.270938053487231462821696106520\n",
            "Parsing 2.58529 47.7414 -79.8186\n",
            "1\n"
          ]
        },
        {
          "output_type": "stream",
          "name": "stderr",
          "text": [
            "\n",
            "/usr/local/lib/python3.11/dist-packages/highdicom/base.py:163: UserWarning: The string \"ProstateX-0074\" is unlikely to represent the intended person name since it contains only a single component. Construct a person name according to the format in described in https://dicom.nema.org/dicom/2013/output/chtml/part05/sect_6.2.html#sect_6.2.1.2, or, in pydicom 2.2.0 or later, use the pydicom.valuerep.PersonName.from_named_components() method to construct the person name correctly. If a single-component name is really intended, add a trailing caret character to disambiguate the name.\n",
            "  check_person_name(patient_name)\n"
          ]
        },
        {
          "output_type": "stream",
          "name": "stdout",
          "text": [
            "********** On patient: ProstateX-0075 **********\n",
            "num_series: 1\n",
            "***** On series: 1.3.6.1.4.1.14519.5.2.1.7311.5101.129018112957735432370663915845 *****\n",
            "SeriesInstanceUID: 1.3.6.1.4.1.14519.5.2.1.7311.5101.129018112957735432370663915845\n"
          ]
        },
        {
          "output_type": "stream",
          "name": "stderr",
          "text": [
            "Downloading data: 100%|█████████▉| 22.2M/22.2M [00:03<00:00, 7.39MB/s]"
          ]
        },
        {
          "output_type": "stream",
          "name": "stdout",
          "text": [
            "FrameOfReferenceUID: 1.3.6.1.4.1.14519.5.2.1.7311.5101.107172043540917865688376657142\n",
            "Parsing 20.1033 33.0877 -65.7973\n",
            "1\n"
          ]
        },
        {
          "output_type": "stream",
          "name": "stderr",
          "text": [
            "\n",
            "/usr/local/lib/python3.11/dist-packages/highdicom/base.py:163: UserWarning: The string \"ProstateX-0075\" is unlikely to represent the intended person name since it contains only a single component. Construct a person name according to the format in described in https://dicom.nema.org/dicom/2013/output/chtml/part05/sect_6.2.html#sect_6.2.1.2, or, in pydicom 2.2.0 or later, use the pydicom.valuerep.PersonName.from_named_components() method to construct the person name correctly. If a single-component name is really intended, add a trailing caret character to disambiguate the name.\n",
            "  check_person_name(patient_name)\n"
          ]
        },
        {
          "output_type": "stream",
          "name": "stdout",
          "text": [
            "********** On patient: ProstateX-0076 **********\n",
            "num_series: 1\n",
            "***** On series: 1.3.6.1.4.1.14519.5.2.1.7311.5101.334326985258868181144176796864 *****\n",
            "SeriesInstanceUID: 1.3.6.1.4.1.14519.5.2.1.7311.5101.334326985258868181144176796864\n"
          ]
        },
        {
          "output_type": "stream",
          "name": "stderr",
          "text": [
            "Downloading data: 100%|█████████▉| 5.68M/5.68M [00:03<00:00, 1.89MB/s]"
          ]
        },
        {
          "output_type": "stream",
          "name": "stdout",
          "text": [
            "FrameOfReferenceUID: 1.3.6.1.4.1.14519.5.2.1.7311.5101.436097266075662340420977800549\n",
            "Parsing 7.23638 34.0724 71.1374\n",
            "1\n"
          ]
        },
        {
          "output_type": "stream",
          "name": "stderr",
          "text": [
            "\n",
            "/usr/local/lib/python3.11/dist-packages/highdicom/base.py:163: UserWarning: The string \"ProstateX-0076\" is unlikely to represent the intended person name since it contains only a single component. Construct a person name according to the format in described in https://dicom.nema.org/dicom/2013/output/chtml/part05/sect_6.2.html#sect_6.2.1.2, or, in pydicom 2.2.0 or later, use the pydicom.valuerep.PersonName.from_named_components() method to construct the person name correctly. If a single-component name is really intended, add a trailing caret character to disambiguate the name.\n",
            "  check_person_name(patient_name)\n"
          ]
        },
        {
          "output_type": "stream",
          "name": "stdout",
          "text": [
            "********** On patient: ProstateX-0077 **********\n",
            "num_series: 2\n",
            "***** On series: 1.3.6.1.4.1.14519.5.2.1.7311.5101.108254522305321641639146259073 *****\n",
            "SeriesInstanceUID: 1.3.6.1.4.1.14519.5.2.1.7311.5101.108254522305321641639146259073\n"
          ]
        },
        {
          "output_type": "stream",
          "name": "stderr",
          "text": [
            "Downloading data: 100%|█████████▉| 5.68M/5.68M [00:02<00:00, 2.26MB/s]"
          ]
        },
        {
          "output_type": "stream",
          "name": "stdout",
          "text": [
            "FrameOfReferenceUID: 1.3.6.1.4.1.14519.5.2.1.7311.5101.641301493381036785371002957342\n",
            "Parsing -26.1229 39.9618 13.7895\n",
            "1\n"
          ]
        },
        {
          "output_type": "stream",
          "name": "stderr",
          "text": [
            "\n",
            "/usr/local/lib/python3.11/dist-packages/highdicom/base.py:163: UserWarning: The string \"ProstateX-0077\" is unlikely to represent the intended person name since it contains only a single component. Construct a person name according to the format in described in https://dicom.nema.org/dicom/2013/output/chtml/part05/sect_6.2.html#sect_6.2.1.2, or, in pydicom 2.2.0 or later, use the pydicom.valuerep.PersonName.from_named_components() method to construct the person name correctly. If a single-component name is really intended, add a trailing caret character to disambiguate the name.\n",
            "  check_person_name(patient_name)\n"
          ]
        },
        {
          "output_type": "stream",
          "name": "stdout",
          "text": [
            "***** On series: 1.3.6.1.4.1.14519.5.2.1.7311.5101.163203999150476340830652125749 *****\n",
            "SeriesInstanceUID: 1.3.6.1.4.1.14519.5.2.1.7311.5101.163203999150476340830652125749\n"
          ]
        },
        {
          "output_type": "stream",
          "name": "stderr",
          "text": [
            "Downloading data: 100%|█████████▉| 5.68M/5.68M [00:02<00:00, 2.26MB/s]"
          ]
        },
        {
          "output_type": "stream",
          "name": "stdout",
          "text": [
            "FrameOfReferenceUID: 1.3.6.1.4.1.14519.5.2.1.7311.5101.641301493381036785371002957342\n",
            "Parsing -26.1229 39.9618 13.7895\n",
            "1\n"
          ]
        },
        {
          "output_type": "stream",
          "name": "stderr",
          "text": [
            "\n",
            "/usr/local/lib/python3.11/dist-packages/highdicom/base.py:163: UserWarning: The string \"ProstateX-0077\" is unlikely to represent the intended person name since it contains only a single component. Construct a person name according to the format in described in https://dicom.nema.org/dicom/2013/output/chtml/part05/sect_6.2.html#sect_6.2.1.2, or, in pydicom 2.2.0 or later, use the pydicom.valuerep.PersonName.from_named_components() method to construct the person name correctly. If a single-component name is really intended, add a trailing caret character to disambiguate the name.\n",
            "  check_person_name(patient_name)\n"
          ]
        },
        {
          "output_type": "stream",
          "name": "stdout",
          "text": [
            "********** On patient: ProstateX-0078 **********\n",
            "num_series: 1\n",
            "***** On series: 1.3.6.1.4.1.14519.5.2.1.7311.5101.105195267324030799151105608660 *****\n",
            "SeriesInstanceUID: 1.3.6.1.4.1.14519.5.2.1.7311.5101.105195267324030799151105608660\n"
          ]
        },
        {
          "output_type": "stream",
          "name": "stderr",
          "text": [
            "Downloading data: 100%|█████████▉| 5.68M/5.68M [00:02<00:00, 2.26MB/s]"
          ]
        },
        {
          "output_type": "stream",
          "name": "stdout",
          "text": [
            "FrameOfReferenceUID: 1.3.6.1.4.1.14519.5.2.1.7311.5101.249131386510947359299146821437\n",
            "Parsing 12.4137 20.7377 -54.864\n",
            "1\n"
          ]
        },
        {
          "output_type": "stream",
          "name": "stderr",
          "text": [
            "\n",
            "/usr/local/lib/python3.11/dist-packages/highdicom/base.py:163: UserWarning: The string \"ProstateX-0078\" is unlikely to represent the intended person name since it contains only a single component. Construct a person name according to the format in described in https://dicom.nema.org/dicom/2013/output/chtml/part05/sect_6.2.html#sect_6.2.1.2, or, in pydicom 2.2.0 or later, use the pydicom.valuerep.PersonName.from_named_components() method to construct the person name correctly. If a single-component name is really intended, add a trailing caret character to disambiguate the name.\n",
            "  check_person_name(patient_name)\n"
          ]
        },
        {
          "output_type": "stream",
          "name": "stdout",
          "text": [
            "********** On patient: ProstateX-0079 **********\n",
            "num_series: 2\n",
            "***** On series: 1.3.6.1.4.1.14519.5.2.1.7311.5101.306983143690233862191598551114 *****\n",
            "SeriesInstanceUID: 1.3.6.1.4.1.14519.5.2.1.7311.5101.306983143690233862191598551114\n"
          ]
        },
        {
          "output_type": "stream",
          "name": "stderr",
          "text": [
            "Downloading data: 100%|█████████▉| 6.28M/6.28M [00:02<00:00, 2.50MB/s]"
          ]
        },
        {
          "output_type": "stream",
          "name": "stdout",
          "text": [
            "FrameOfReferenceUID: 1.3.6.1.4.1.14519.5.2.1.7311.5101.313041101318841664640310747846\n",
            "Parsing 2.03957 5.48526 -47.4539\n",
            "1\n"
          ]
        },
        {
          "output_type": "stream",
          "name": "stderr",
          "text": [
            "\n",
            "/usr/local/lib/python3.11/dist-packages/highdicom/base.py:163: UserWarning: The string \"ProstateX-0079\" is unlikely to represent the intended person name since it contains only a single component. Construct a person name according to the format in described in https://dicom.nema.org/dicom/2013/output/chtml/part05/sect_6.2.html#sect_6.2.1.2, or, in pydicom 2.2.0 or later, use the pydicom.valuerep.PersonName.from_named_components() method to construct the person name correctly. If a single-component name is really intended, add a trailing caret character to disambiguate the name.\n",
            "  check_person_name(patient_name)\n"
          ]
        },
        {
          "output_type": "stream",
          "name": "stdout",
          "text": [
            "***** On series: 1.3.6.1.4.1.14519.5.2.1.7311.5101.609688433484111469257596745913 *****\n",
            "SeriesInstanceUID: 1.3.6.1.4.1.14519.5.2.1.7311.5101.609688433484111469257596745913\n"
          ]
        },
        {
          "output_type": "stream",
          "name": "stderr",
          "text": [
            "Downloading data: 100%|█████████▉| 6.28M/6.28M [00:02<00:00, 2.50MB/s]"
          ]
        },
        {
          "output_type": "stream",
          "name": "stdout",
          "text": [
            "FrameOfReferenceUID: 1.3.6.1.4.1.14519.5.2.1.7311.5101.313041101318841664640310747846\n",
            "Parsing 2.03957 5.48526 -47.4539\n",
            "1\n"
          ]
        },
        {
          "output_type": "stream",
          "name": "stderr",
          "text": [
            "\n",
            "/usr/local/lib/python3.11/dist-packages/highdicom/base.py:163: UserWarning: The string \"ProstateX-0079\" is unlikely to represent the intended person name since it contains only a single component. Construct a person name according to the format in described in https://dicom.nema.org/dicom/2013/output/chtml/part05/sect_6.2.html#sect_6.2.1.2, or, in pydicom 2.2.0 or later, use the pydicom.valuerep.PersonName.from_named_components() method to construct the person name correctly. If a single-component name is really intended, add a trailing caret character to disambiguate the name.\n",
            "  check_person_name(patient_name)\n"
          ]
        },
        {
          "output_type": "stream",
          "name": "stdout",
          "text": [
            "********** On patient: ProstateX-0080 **********\n",
            "num_series: 1\n",
            "***** On series: 1.3.6.1.4.1.14519.5.2.1.7311.5101.341352097107587679521590034290 *****\n",
            "SeriesInstanceUID: 1.3.6.1.4.1.14519.5.2.1.7311.5101.341352097107587679521590034290\n"
          ]
        },
        {
          "output_type": "stream",
          "name": "stderr",
          "text": [
            "Downloading data: 100%|██████████| 6.87M/6.87M [00:02<00:00, 2.74MB/s]"
          ]
        },
        {
          "output_type": "stream",
          "name": "stdout",
          "text": [
            "FrameOfReferenceUID: 1.3.6.1.4.1.14519.5.2.1.7311.5101.165198292837572132811496566326\n",
            "Parsing -9.13416 18.0389 53.2054\n",
            "1\n"
          ]
        },
        {
          "output_type": "stream",
          "name": "stderr",
          "text": [
            "\n",
            "/usr/local/lib/python3.11/dist-packages/highdicom/base.py:163: UserWarning: The string \"ProstateX-0080\" is unlikely to represent the intended person name since it contains only a single component. Construct a person name according to the format in described in https://dicom.nema.org/dicom/2013/output/chtml/part05/sect_6.2.html#sect_6.2.1.2, or, in pydicom 2.2.0 or later, use the pydicom.valuerep.PersonName.from_named_components() method to construct the person name correctly. If a single-component name is really intended, add a trailing caret character to disambiguate the name.\n",
            "  check_person_name(patient_name)\n"
          ]
        },
        {
          "output_type": "stream",
          "name": "stdout",
          "text": [
            "********** On patient: ProstateX-0081 **********\n",
            "num_series: 1\n",
            "***** On series: 1.3.6.1.4.1.14519.5.2.1.7311.5101.197997921761562294002559600858 *****\n",
            "SeriesInstanceUID: 1.3.6.1.4.1.14519.5.2.1.7311.5101.197997921761562294002559600858\n"
          ]
        },
        {
          "output_type": "stream",
          "name": "stderr",
          "text": [
            "Downloading data: 100%|█████████▉| 6.88M/6.88M [00:02<00:00, 2.74MB/s]"
          ]
        },
        {
          "output_type": "stream",
          "name": "stdout",
          "text": [
            "FrameOfReferenceUID: 1.3.6.1.4.1.14519.5.2.1.7311.5101.580594017518686164961020239210\n",
            "Parsing -25.8224 39.8219 -20.0141\n",
            "1\n"
          ]
        },
        {
          "output_type": "stream",
          "name": "stderr",
          "text": [
            "\n",
            "/usr/local/lib/python3.11/dist-packages/highdicom/base.py:163: UserWarning: The string \"ProstateX-0081\" is unlikely to represent the intended person name since it contains only a single component. Construct a person name according to the format in described in https://dicom.nema.org/dicom/2013/output/chtml/part05/sect_6.2.html#sect_6.2.1.2, or, in pydicom 2.2.0 or later, use the pydicom.valuerep.PersonName.from_named_components() method to construct the person name correctly. If a single-component name is really intended, add a trailing caret character to disambiguate the name.\n",
            "  check_person_name(patient_name)\n"
          ]
        },
        {
          "output_type": "stream",
          "name": "stdout",
          "text": [
            "********** On patient: ProstateX-0082 **********\n",
            "num_series: 1\n",
            "***** On series: 1.3.6.1.4.1.14519.5.2.1.7311.5101.287009217605941401146066177219 *****\n",
            "SeriesInstanceUID: 1.3.6.1.4.1.14519.5.2.1.7311.5101.287009217605941401146066177219\n"
          ]
        },
        {
          "output_type": "stream",
          "name": "stderr",
          "text": [
            "Downloading data: 100%|█████████▉| 5.68M/5.68M [00:02<00:00, 2.26MB/s]"
          ]
        },
        {
          "output_type": "stream",
          "name": "stdout",
          "text": [
            "FrameOfReferenceUID: 1.3.6.1.4.1.14519.5.2.1.7311.5101.210381899206416760928739489101\n",
            "Parsing -4.63659 30.8679 7.27208\n",
            "1\n"
          ]
        },
        {
          "output_type": "stream",
          "name": "stderr",
          "text": [
            "\n",
            "/usr/local/lib/python3.11/dist-packages/highdicom/base.py:163: UserWarning: The string \"ProstateX-0082\" is unlikely to represent the intended person name since it contains only a single component. Construct a person name according to the format in described in https://dicom.nema.org/dicom/2013/output/chtml/part05/sect_6.2.html#sect_6.2.1.2, or, in pydicom 2.2.0 or later, use the pydicom.valuerep.PersonName.from_named_components() method to construct the person name correctly. If a single-component name is really intended, add a trailing caret character to disambiguate the name.\n",
            "  check_person_name(patient_name)\n"
          ]
        },
        {
          "output_type": "stream",
          "name": "stdout",
          "text": [
            "********** On patient: ProstateX-0083 **********\n",
            "num_series: 1\n",
            "***** On series: 1.3.6.1.4.1.14519.5.2.1.7311.5101.460453169764361555745878708935 *****\n",
            "SeriesInstanceUID: 1.3.6.1.4.1.14519.5.2.1.7311.5101.460453169764361555745878708935\n"
          ]
        },
        {
          "output_type": "stream",
          "name": "stderr",
          "text": [
            "Downloading data: 100%|█████████▉| 5.68M/5.68M [00:02<00:00, 2.27MB/s]"
          ]
        },
        {
          "output_type": "stream",
          "name": "stdout",
          "text": [
            "FrameOfReferenceUID: 1.3.6.1.4.1.14519.5.2.1.7311.5101.210346654587609637650802392479\n",
            "Parsing 2.09552 39.3283 38.4872\n",
            "Parsing -4.325435 35.3903 45.9762\n",
            "2\n"
          ]
        },
        {
          "output_type": "stream",
          "name": "stderr",
          "text": [
            "\n",
            "/usr/local/lib/python3.11/dist-packages/highdicom/base.py:163: UserWarning: The string \"ProstateX-0083\" is unlikely to represent the intended person name since it contains only a single component. Construct a person name according to the format in described in https://dicom.nema.org/dicom/2013/output/chtml/part05/sect_6.2.html#sect_6.2.1.2, or, in pydicom 2.2.0 or later, use the pydicom.valuerep.PersonName.from_named_components() method to construct the person name correctly. If a single-component name is really intended, add a trailing caret character to disambiguate the name.\n",
            "  check_person_name(patient_name)\n"
          ]
        },
        {
          "output_type": "stream",
          "name": "stdout",
          "text": [
            "********** On patient: ProstateX-0084 **********\n",
            "num_series: 1\n",
            "***** On series: 1.3.6.1.4.1.14519.5.2.1.7311.5101.124933244802704100684011471210 *****\n",
            "SeriesInstanceUID: 1.3.6.1.4.1.14519.5.2.1.7311.5101.124933244802704100684011471210\n"
          ]
        },
        {
          "output_type": "stream",
          "name": "stderr",
          "text": [
            "Downloading data: 100%|█████████▉| 5.68M/5.68M [00:02<00:00, 2.27MB/s]"
          ]
        },
        {
          "output_type": "stream",
          "name": "stdout",
          "text": [
            "FrameOfReferenceUID: 1.3.6.1.4.1.14519.5.2.1.7311.5101.188871280556119565331267506346\n",
            "Parsing 6.35978 30.3039 1.58696\n",
            "Parsing -19.636 26.6136 -12.9621\n",
            "2\n"
          ]
        },
        {
          "output_type": "stream",
          "name": "stderr",
          "text": [
            "\n",
            "/usr/local/lib/python3.11/dist-packages/highdicom/base.py:163: UserWarning: The string \"ProstateX-0084\" is unlikely to represent the intended person name since it contains only a single component. Construct a person name according to the format in described in https://dicom.nema.org/dicom/2013/output/chtml/part05/sect_6.2.html#sect_6.2.1.2, or, in pydicom 2.2.0 or later, use the pydicom.valuerep.PersonName.from_named_components() method to construct the person name correctly. If a single-component name is really intended, add a trailing caret character to disambiguate the name.\n",
            "  check_person_name(patient_name)\n"
          ]
        },
        {
          "output_type": "stream",
          "name": "stdout",
          "text": [
            "********** On patient: ProstateX-0085 **********\n",
            "num_series: 1\n",
            "***** On series: 1.3.6.1.4.1.14519.5.2.1.7311.5101.211555650428345841697929161230 *****\n",
            "SeriesInstanceUID: 1.3.6.1.4.1.14519.5.2.1.7311.5101.211555650428345841697929161230\n"
          ]
        },
        {
          "output_type": "stream",
          "name": "stderr",
          "text": [
            "Downloading data: 100%|██████████| 7.47M/7.47M [00:03<00:00, 2.48MB/s]"
          ]
        },
        {
          "output_type": "stream",
          "name": "stdout",
          "text": [
            "FrameOfReferenceUID: 1.3.6.1.4.1.14519.5.2.1.7311.5101.208982272858079873054064693300\n",
            "Parsing -46.9565 21.8024 17.9912\n",
            "Parsing -38.3799 18.3673 32.0116\n",
            "Parsing -19.2899 -4.20947 30.6512\n",
            "Parsing -15.9699 9.13279 6.63986\n",
            "4\n"
          ]
        },
        {
          "output_type": "stream",
          "name": "stderr",
          "text": [
            "\n",
            "/usr/local/lib/python3.11/dist-packages/highdicom/base.py:163: UserWarning: The string \"ProstateX-0085\" is unlikely to represent the intended person name since it contains only a single component. Construct a person name according to the format in described in https://dicom.nema.org/dicom/2013/output/chtml/part05/sect_6.2.html#sect_6.2.1.2, or, in pydicom 2.2.0 or later, use the pydicom.valuerep.PersonName.from_named_components() method to construct the person name correctly. If a single-component name is really intended, add a trailing caret character to disambiguate the name.\n",
            "  check_person_name(patient_name)\n"
          ]
        },
        {
          "output_type": "stream",
          "name": "stdout",
          "text": [
            "********** On patient: ProstateX-0086 **********\n",
            "num_series: 1\n",
            "***** On series: 1.3.6.1.4.1.14519.5.2.1.7311.5101.159015812612639123923275982393 *****\n",
            "SeriesInstanceUID: 1.3.6.1.4.1.14519.5.2.1.7311.5101.159015812612639123923275982393\n"
          ]
        },
        {
          "output_type": "stream",
          "name": "stderr",
          "text": [
            "Downloading data: 100%|█████████▉| 6.28M/6.28M [00:02<00:00, 2.50MB/s]"
          ]
        },
        {
          "output_type": "stream",
          "name": "stdout",
          "text": [
            "FrameOfReferenceUID: 1.3.6.1.4.1.14519.5.2.1.7311.5101.241856171414579000288229742748\n",
            "Parsing -0.242506 2.83702 31.8783\n",
            "Parsing -26.2493 23.6826 26.5587\n",
            "2\n"
          ]
        },
        {
          "output_type": "stream",
          "name": "stderr",
          "text": [
            "\n",
            "/usr/local/lib/python3.11/dist-packages/highdicom/base.py:163: UserWarning: The string \"ProstateX-0086\" is unlikely to represent the intended person name since it contains only a single component. Construct a person name according to the format in described in https://dicom.nema.org/dicom/2013/output/chtml/part05/sect_6.2.html#sect_6.2.1.2, or, in pydicom 2.2.0 or later, use the pydicom.valuerep.PersonName.from_named_components() method to construct the person name correctly. If a single-component name is really intended, add a trailing caret character to disambiguate the name.\n",
            "  check_person_name(patient_name)\n"
          ]
        },
        {
          "output_type": "stream",
          "name": "stdout",
          "text": [
            "********** On patient: ProstateX-0087 **********\n",
            "num_series: 1\n",
            "***** On series: 1.3.6.1.4.1.14519.5.2.1.7311.5101.190445461958668285994393846289 *****\n",
            "SeriesInstanceUID: 1.3.6.1.4.1.14519.5.2.1.7311.5101.190445461958668285994393846289\n"
          ]
        },
        {
          "output_type": "stream",
          "name": "stderr",
          "text": [
            "Downloading data: 100%|█████████▉| 5.68M/5.68M [00:02<00:00, 2.26MB/s]"
          ]
        },
        {
          "output_type": "stream",
          "name": "stdout",
          "text": [
            "FrameOfReferenceUID: 1.3.6.1.4.1.14519.5.2.1.7311.5101.128885523808998330849234232812\n",
            "Parsing 10.6418 48.107 -29.0415\n",
            "Parsing 41.6112 29.7571 -20.301\n",
            "2\n"
          ]
        },
        {
          "output_type": "stream",
          "name": "stderr",
          "text": [
            "\n",
            "/usr/local/lib/python3.11/dist-packages/highdicom/base.py:163: UserWarning: The string \"ProstateX-0087\" is unlikely to represent the intended person name since it contains only a single component. Construct a person name according to the format in described in https://dicom.nema.org/dicom/2013/output/chtml/part05/sect_6.2.html#sect_6.2.1.2, or, in pydicom 2.2.0 or later, use the pydicom.valuerep.PersonName.from_named_components() method to construct the person name correctly. If a single-component name is really intended, add a trailing caret character to disambiguate the name.\n",
            "  check_person_name(patient_name)\n"
          ]
        },
        {
          "output_type": "stream",
          "name": "stdout",
          "text": [
            "********** On patient: ProstateX-0088 **********\n",
            "num_series: 1\n",
            "***** On series: 1.3.6.1.4.1.14519.5.2.1.7311.5101.164969031860775880146618363557 *****\n",
            "SeriesInstanceUID: 1.3.6.1.4.1.14519.5.2.1.7311.5101.164969031860775880146618363557\n"
          ]
        },
        {
          "output_type": "stream",
          "name": "stderr",
          "text": [
            "Downloading data: 100%|█████████▉| 6.28M/6.28M [00:02<00:00, 2.50MB/s]"
          ]
        },
        {
          "output_type": "stream",
          "name": "stdout",
          "text": [
            "FrameOfReferenceUID: 1.3.6.1.4.1.14519.5.2.1.7311.5101.272262363108003715803066200669\n",
            "Parsing -5.169764 14.9709 -1.30017\n",
            "Parsing -3.87356 53.469 -2.53217\n",
            "2\n"
          ]
        },
        {
          "output_type": "stream",
          "name": "stderr",
          "text": [
            "\n",
            "/usr/local/lib/python3.11/dist-packages/highdicom/base.py:163: UserWarning: The string \"ProstateX-0088\" is unlikely to represent the intended person name since it contains only a single component. Construct a person name according to the format in described in https://dicom.nema.org/dicom/2013/output/chtml/part05/sect_6.2.html#sect_6.2.1.2, or, in pydicom 2.2.0 or later, use the pydicom.valuerep.PersonName.from_named_components() method to construct the person name correctly. If a single-component name is really intended, add a trailing caret character to disambiguate the name.\n",
            "  check_person_name(patient_name)\n"
          ]
        },
        {
          "output_type": "stream",
          "name": "stdout",
          "text": [
            "********** On patient: ProstateX-0089 **********\n",
            "num_series: 1\n",
            "***** On series: 1.3.6.1.4.1.14519.5.2.1.7311.5101.160225377533762960695041069832 *****\n",
            "SeriesInstanceUID: 1.3.6.1.4.1.14519.5.2.1.7311.5101.160225377533762960695041069832\n"
          ]
        },
        {
          "output_type": "stream",
          "name": "stderr",
          "text": [
            "Downloading data: 100%|██████████| 6.87M/6.87M [00:02<00:00, 2.74MB/s]"
          ]
        },
        {
          "output_type": "stream",
          "name": "stdout",
          "text": [
            "FrameOfReferenceUID: 1.3.6.1.4.1.14519.5.2.1.7311.5101.229908433444432163478117423747\n",
            "Parsing -0.258316 18.4008 -33.9375\n",
            "1\n"
          ]
        },
        {
          "output_type": "stream",
          "name": "stderr",
          "text": [
            "\n",
            "/usr/local/lib/python3.11/dist-packages/highdicom/base.py:163: UserWarning: The string \"ProstateX-0089\" is unlikely to represent the intended person name since it contains only a single component. Construct a person name according to the format in described in https://dicom.nema.org/dicom/2013/output/chtml/part05/sect_6.2.html#sect_6.2.1.2, or, in pydicom 2.2.0 or later, use the pydicom.valuerep.PersonName.from_named_components() method to construct the person name correctly. If a single-component name is really intended, add a trailing caret character to disambiguate the name.\n",
            "  check_person_name(patient_name)\n"
          ]
        },
        {
          "output_type": "stream",
          "name": "stdout",
          "text": [
            "********** On patient: ProstateX-0090 **********\n",
            "num_series: 1\n",
            "***** On series: 1.3.6.1.4.1.14519.5.2.1.7311.5101.271991298059338527584681788043 *****\n",
            "SeriesInstanceUID: 1.3.6.1.4.1.14519.5.2.1.7311.5101.271991298059338527584681788043\n"
          ]
        },
        {
          "output_type": "stream",
          "name": "stderr",
          "text": [
            "Downloading data: 100%|█████████▉| 5.68M/5.68M [00:02<00:00, 2.26MB/s]"
          ]
        },
        {
          "output_type": "stream",
          "name": "stdout",
          "text": [
            "FrameOfReferenceUID: 1.3.6.1.4.1.14519.5.2.1.7311.5101.198127899128193722499636849443\n",
            "Parsing 3.33612 10.8833 -17.866\n",
            "1\n"
          ]
        },
        {
          "output_type": "stream",
          "name": "stderr",
          "text": [
            "\n",
            "/usr/local/lib/python3.11/dist-packages/highdicom/base.py:163: UserWarning: The string \"ProstateX-0090\" is unlikely to represent the intended person name since it contains only a single component. Construct a person name according to the format in described in https://dicom.nema.org/dicom/2013/output/chtml/part05/sect_6.2.html#sect_6.2.1.2, or, in pydicom 2.2.0 or later, use the pydicom.valuerep.PersonName.from_named_components() method to construct the person name correctly. If a single-component name is really intended, add a trailing caret character to disambiguate the name.\n",
            "  check_person_name(patient_name)\n"
          ]
        },
        {
          "output_type": "stream",
          "name": "stdout",
          "text": [
            "********** On patient: ProstateX-0091 **********\n",
            "num_series: 1\n",
            "***** On series: 1.3.6.1.4.1.14519.5.2.1.7311.5101.194000123380498758561962283977 *****\n",
            "SeriesInstanceUID: 1.3.6.1.4.1.14519.5.2.1.7311.5101.194000123380498758561962283977\n"
          ]
        },
        {
          "output_type": "stream",
          "name": "stderr",
          "text": [
            "Downloading data: 100%|█████████▉| 5.68M/5.68M [00:02<00:00, 2.27MB/s]"
          ]
        },
        {
          "output_type": "stream",
          "name": "stdout",
          "text": [
            "FrameOfReferenceUID: 1.3.6.1.4.1.14519.5.2.1.7311.5101.259798186565372557088573222795\n",
            "Parsing -30.985 18.0662 -13.3747\n",
            "1\n"
          ]
        },
        {
          "output_type": "stream",
          "name": "stderr",
          "text": [
            "\n",
            "/usr/local/lib/python3.11/dist-packages/highdicom/base.py:163: UserWarning: The string \"ProstateX-0091\" is unlikely to represent the intended person name since it contains only a single component. Construct a person name according to the format in described in https://dicom.nema.org/dicom/2013/output/chtml/part05/sect_6.2.html#sect_6.2.1.2, or, in pydicom 2.2.0 or later, use the pydicom.valuerep.PersonName.from_named_components() method to construct the person name correctly. If a single-component name is really intended, add a trailing caret character to disambiguate the name.\n",
            "  check_person_name(patient_name)\n"
          ]
        },
        {
          "output_type": "stream",
          "name": "stdout",
          "text": [
            "********** On patient: ProstateX-0092 **********\n",
            "num_series: 1\n",
            "***** On series: 1.3.6.1.4.1.14519.5.2.1.7311.5101.132920011337448246627655551217 *****\n",
            "SeriesInstanceUID: 1.3.6.1.4.1.14519.5.2.1.7311.5101.132920011337448246627655551217\n"
          ]
        },
        {
          "output_type": "stream",
          "name": "stderr",
          "text": [
            "Downloading data: 100%|██████████| 5.68M/5.68M [00:02<00:00, 2.27MB/s]"
          ]
        },
        {
          "output_type": "stream",
          "name": "stdout",
          "text": [
            "FrameOfReferenceUID: 1.3.6.1.4.1.14519.5.2.1.7311.5101.554829858841871117828315527469\n",
            "Parsing -46.6773 31.5294 -37.086\n",
            "1\n"
          ]
        },
        {
          "output_type": "stream",
          "name": "stderr",
          "text": [
            "\n",
            "/usr/local/lib/python3.11/dist-packages/highdicom/base.py:163: UserWarning: The string \"ProstateX-0092\" is unlikely to represent the intended person name since it contains only a single component. Construct a person name according to the format in described in https://dicom.nema.org/dicom/2013/output/chtml/part05/sect_6.2.html#sect_6.2.1.2, or, in pydicom 2.2.0 or later, use the pydicom.valuerep.PersonName.from_named_components() method to construct the person name correctly. If a single-component name is really intended, add a trailing caret character to disambiguate the name.\n",
            "  check_person_name(patient_name)\n"
          ]
        },
        {
          "output_type": "stream",
          "name": "stdout",
          "text": [
            "********** On patient: ProstateX-0093 **********\n",
            "num_series: 1\n",
            "***** On series: 1.3.6.1.4.1.14519.5.2.1.7311.5101.752811560183152736197496609130 *****\n",
            "SeriesInstanceUID: 1.3.6.1.4.1.14519.5.2.1.7311.5101.752811560183152736197496609130\n"
          ]
        },
        {
          "output_type": "stream",
          "name": "stderr",
          "text": [
            "Downloading data: 100%|█████████▉| 5.68M/5.68M [00:02<00:00, 2.26MB/s]"
          ]
        },
        {
          "output_type": "stream",
          "name": "stdout",
          "text": [
            "FrameOfReferenceUID: 1.3.6.1.4.1.14519.5.2.1.7311.5101.311075749682836744199592619893\n",
            "Parsing 30.4332 39.6444 -98.2314\n",
            "Parsing 29.4178 43.3347 -62.3276\n",
            "Parsing 9.6081 31.5817 -68.8806\n",
            "3\n"
          ]
        },
        {
          "output_type": "stream",
          "name": "stderr",
          "text": [
            "\n",
            "/usr/local/lib/python3.11/dist-packages/highdicom/base.py:163: UserWarning: The string \"ProstateX-0093\" is unlikely to represent the intended person name since it contains only a single component. Construct a person name according to the format in described in https://dicom.nema.org/dicom/2013/output/chtml/part05/sect_6.2.html#sect_6.2.1.2, or, in pydicom 2.2.0 or later, use the pydicom.valuerep.PersonName.from_named_components() method to construct the person name correctly. If a single-component name is really intended, add a trailing caret character to disambiguate the name.\n",
            "  check_person_name(patient_name)\n"
          ]
        },
        {
          "output_type": "stream",
          "name": "stdout",
          "text": [
            "********** On patient: ProstateX-0094 **********\n",
            "num_series: 1\n",
            "***** On series: 1.3.6.1.4.1.14519.5.2.1.7311.5101.178750617003896154912438088527 *****\n",
            "SeriesInstanceUID: 1.3.6.1.4.1.14519.5.2.1.7311.5101.178750617003896154912438088527\n"
          ]
        },
        {
          "output_type": "stream",
          "name": "stderr",
          "text": [
            "Downloading data: 100%|█████████▉| 5.68M/5.68M [00:02<00:00, 2.26MB/s]"
          ]
        },
        {
          "output_type": "stream",
          "name": "stdout",
          "text": [
            "FrameOfReferenceUID: 1.3.6.1.4.1.14519.5.2.1.7311.5101.356528017247842478057260633256\n",
            "Parsing 31.5813 15.6722 -42.8497\n",
            "1\n"
          ]
        },
        {
          "output_type": "stream",
          "name": "stderr",
          "text": [
            "\n",
            "/usr/local/lib/python3.11/dist-packages/highdicom/base.py:163: UserWarning: The string \"ProstateX-0094\" is unlikely to represent the intended person name since it contains only a single component. Construct a person name according to the format in described in https://dicom.nema.org/dicom/2013/output/chtml/part05/sect_6.2.html#sect_6.2.1.2, or, in pydicom 2.2.0 or later, use the pydicom.valuerep.PersonName.from_named_components() method to construct the person name correctly. If a single-component name is really intended, add a trailing caret character to disambiguate the name.\n",
            "  check_person_name(patient_name)\n"
          ]
        },
        {
          "output_type": "stream",
          "name": "stdout",
          "text": [
            "********** On patient: ProstateX-0095 **********\n",
            "num_series: 2\n",
            "***** On series: 1.3.6.1.4.1.14519.5.2.1.7311.5101.132833241684519074400077929213 *****\n",
            "SeriesInstanceUID: 1.3.6.1.4.1.14519.5.2.1.7311.5101.132833241684519074400077929213\n"
          ]
        },
        {
          "output_type": "stream",
          "name": "stderr",
          "text": [
            "Downloading data: 100%|█████████▉| 5.68M/5.68M [00:02<00:00, 2.26MB/s]"
          ]
        },
        {
          "output_type": "stream",
          "name": "stdout",
          "text": [
            "FrameOfReferenceUID: 1.3.6.1.4.1.14519.5.2.1.7311.5101.100938946207909258692159903862\n",
            "Parsing -29.8824 33.0609 17.1315\n",
            "Parsing -28.6965 9.10563 11.1672\n",
            "2\n"
          ]
        },
        {
          "output_type": "stream",
          "name": "stderr",
          "text": [
            "\n",
            "/usr/local/lib/python3.11/dist-packages/highdicom/base.py:163: UserWarning: The string \"ProstateX-0095\" is unlikely to represent the intended person name since it contains only a single component. Construct a person name according to the format in described in https://dicom.nema.org/dicom/2013/output/chtml/part05/sect_6.2.html#sect_6.2.1.2, or, in pydicom 2.2.0 or later, use the pydicom.valuerep.PersonName.from_named_components() method to construct the person name correctly. If a single-component name is really intended, add a trailing caret character to disambiguate the name.\n",
            "  check_person_name(patient_name)\n"
          ]
        },
        {
          "output_type": "stream",
          "name": "stdout",
          "text": [
            "***** On series: 1.3.6.1.4.1.14519.5.2.1.7311.5101.173092772623542426232778225856 *****\n",
            "SeriesInstanceUID: 1.3.6.1.4.1.14519.5.2.1.7311.5101.173092772623542426232778225856\n"
          ]
        },
        {
          "output_type": "stream",
          "name": "stderr",
          "text": [
            "Downloading data: 100%|█████████▉| 5.68M/5.68M [00:02<00:00, 2.27MB/s]"
          ]
        },
        {
          "output_type": "stream",
          "name": "stdout",
          "text": [
            "FrameOfReferenceUID: 1.3.6.1.4.1.14519.5.2.1.7311.5101.100938946207909258692159903862\n",
            "Parsing -29.8824 33.0609 17.1315\n",
            "Parsing -28.6965 9.10563 11.1672\n",
            "2\n"
          ]
        },
        {
          "output_type": "stream",
          "name": "stderr",
          "text": [
            "\n",
            "/usr/local/lib/python3.11/dist-packages/highdicom/base.py:163: UserWarning: The string \"ProstateX-0095\" is unlikely to represent the intended person name since it contains only a single component. Construct a person name according to the format in described in https://dicom.nema.org/dicom/2013/output/chtml/part05/sect_6.2.html#sect_6.2.1.2, or, in pydicom 2.2.0 or later, use the pydicom.valuerep.PersonName.from_named_components() method to construct the person name correctly. If a single-component name is really intended, add a trailing caret character to disambiguate the name.\n",
            "  check_person_name(patient_name)\n"
          ]
        },
        {
          "output_type": "stream",
          "name": "stdout",
          "text": [
            "********** On patient: ProstateX-0096 **********\n",
            "num_series: 1\n",
            "***** On series: 1.3.6.1.4.1.14519.5.2.1.7311.5101.105766764724449379107432362750 *****\n",
            "SeriesInstanceUID: 1.3.6.1.4.1.14519.5.2.1.7311.5101.105766764724449379107432362750\n"
          ]
        },
        {
          "output_type": "stream",
          "name": "stderr",
          "text": [
            "Downloading data: 100%|█████████▉| 6.28M/6.28M [00:02<00:00, 2.50MB/s]"
          ]
        },
        {
          "output_type": "stream",
          "name": "stdout",
          "text": [
            "FrameOfReferenceUID: 1.3.6.1.4.1.14519.5.2.1.7311.5101.678120374103062961412325206523\n",
            "Parsing 14.1124 22.6493 22.4049\n",
            "1\n"
          ]
        },
        {
          "output_type": "stream",
          "name": "stderr",
          "text": [
            "\n",
            "/usr/local/lib/python3.11/dist-packages/highdicom/base.py:163: UserWarning: The string \"ProstateX-0096\" is unlikely to represent the intended person name since it contains only a single component. Construct a person name according to the format in described in https://dicom.nema.org/dicom/2013/output/chtml/part05/sect_6.2.html#sect_6.2.1.2, or, in pydicom 2.2.0 or later, use the pydicom.valuerep.PersonName.from_named_components() method to construct the person name correctly. If a single-component name is really intended, add a trailing caret character to disambiguate the name.\n",
            "  check_person_name(patient_name)\n"
          ]
        },
        {
          "output_type": "stream",
          "name": "stdout",
          "text": [
            "********** On patient: ProstateX-0097 **********\n",
            "num_series: 2\n",
            "***** On series: 1.3.6.1.4.1.14519.5.2.1.7311.5101.146003799124729230636410374869 *****\n",
            "SeriesInstanceUID: 1.3.6.1.4.1.14519.5.2.1.7311.5101.146003799124729230636410374869\n"
          ]
        },
        {
          "output_type": "stream",
          "name": "stderr",
          "text": [
            "Downloading data: 100%|█████████▉| 5.68M/5.68M [00:02<00:00, 2.26MB/s]"
          ]
        },
        {
          "output_type": "stream",
          "name": "stdout",
          "text": [
            "FrameOfReferenceUID: 1.3.6.1.4.1.14519.5.2.1.7311.5101.159053240676475185770216275694\n",
            "Parsing -21.7875 18.8555 24.8761\n",
            "1\n"
          ]
        },
        {
          "output_type": "stream",
          "name": "stderr",
          "text": [
            "\n",
            "/usr/local/lib/python3.11/dist-packages/highdicom/base.py:163: UserWarning: The string \"ProstateX-0097\" is unlikely to represent the intended person name since it contains only a single component. Construct a person name according to the format in described in https://dicom.nema.org/dicom/2013/output/chtml/part05/sect_6.2.html#sect_6.2.1.2, or, in pydicom 2.2.0 or later, use the pydicom.valuerep.PersonName.from_named_components() method to construct the person name correctly. If a single-component name is really intended, add a trailing caret character to disambiguate the name.\n",
            "  check_person_name(patient_name)\n"
          ]
        },
        {
          "output_type": "stream",
          "name": "stdout",
          "text": [
            "***** On series: 1.3.6.1.4.1.14519.5.2.1.7311.5101.320094868363621613621699169456 *****\n",
            "SeriesInstanceUID: 1.3.6.1.4.1.14519.5.2.1.7311.5101.320094868363621613621699169456\n"
          ]
        },
        {
          "output_type": "stream",
          "name": "stderr",
          "text": [
            "Downloading data: 100%|█████████▉| 5.68M/5.68M [00:02<00:00, 2.27MB/s]"
          ]
        },
        {
          "output_type": "stream",
          "name": "stdout",
          "text": [
            "FrameOfReferenceUID: 1.3.6.1.4.1.14519.5.2.1.7311.5101.159053240676475185770216275694\n",
            "Parsing -21.7875 18.8555 24.8761\n",
            "1\n"
          ]
        },
        {
          "output_type": "stream",
          "name": "stderr",
          "text": [
            "\n",
            "/usr/local/lib/python3.11/dist-packages/highdicom/base.py:163: UserWarning: The string \"ProstateX-0097\" is unlikely to represent the intended person name since it contains only a single component. Construct a person name according to the format in described in https://dicom.nema.org/dicom/2013/output/chtml/part05/sect_6.2.html#sect_6.2.1.2, or, in pydicom 2.2.0 or later, use the pydicom.valuerep.PersonName.from_named_components() method to construct the person name correctly. If a single-component name is really intended, add a trailing caret character to disambiguate the name.\n",
            "  check_person_name(patient_name)\n"
          ]
        },
        {
          "output_type": "stream",
          "name": "stdout",
          "text": [
            "********** On patient: ProstateX-0098 **********\n",
            "num_series: 2\n",
            "***** On series: 1.3.6.1.4.1.14519.5.2.1.7311.5101.228488186237613111386604397249 *****\n",
            "SeriesInstanceUID: 1.3.6.1.4.1.14519.5.2.1.7311.5101.228488186237613111386604397249\n"
          ]
        },
        {
          "output_type": "stream",
          "name": "stderr",
          "text": [
            "Downloading data: 100%|█████████▉| 6.28M/6.28M [00:02<00:00, 2.50MB/s]"
          ]
        },
        {
          "output_type": "stream",
          "name": "stdout",
          "text": [
            "FrameOfReferenceUID: 1.3.6.1.4.1.14519.5.2.1.7311.5101.208277244393677339825232616182\n",
            "Parsing -7.05654 39.2265 32.4633\n",
            "1\n"
          ]
        },
        {
          "output_type": "stream",
          "name": "stderr",
          "text": [
            "\n",
            "/usr/local/lib/python3.11/dist-packages/highdicom/base.py:163: UserWarning: The string \"ProstateX-0098\" is unlikely to represent the intended person name since it contains only a single component. Construct a person name according to the format in described in https://dicom.nema.org/dicom/2013/output/chtml/part05/sect_6.2.html#sect_6.2.1.2, or, in pydicom 2.2.0 or later, use the pydicom.valuerep.PersonName.from_named_components() method to construct the person name correctly. If a single-component name is really intended, add a trailing caret character to disambiguate the name.\n",
            "  check_person_name(patient_name)\n"
          ]
        },
        {
          "output_type": "stream",
          "name": "stdout",
          "text": [
            "***** On series: 1.3.6.1.4.1.14519.5.2.1.7311.5101.280488534937203800972430319478 *****\n",
            "SeriesInstanceUID: 1.3.6.1.4.1.14519.5.2.1.7311.5101.280488534937203800972430319478\n"
          ]
        },
        {
          "output_type": "stream",
          "name": "stderr",
          "text": [
            "Downloading data: 100%|█████████▉| 6.28M/6.28M [00:02<00:00, 2.50MB/s]"
          ]
        },
        {
          "output_type": "stream",
          "name": "stdout",
          "text": [
            "FrameOfReferenceUID: 1.3.6.1.4.1.14519.5.2.1.7311.5101.208277244393677339825232616182\n",
            "Parsing -7.05654 39.2265 32.4633\n",
            "1\n"
          ]
        },
        {
          "output_type": "stream",
          "name": "stderr",
          "text": [
            "\n",
            "/usr/local/lib/python3.11/dist-packages/highdicom/base.py:163: UserWarning: The string \"ProstateX-0098\" is unlikely to represent the intended person name since it contains only a single component. Construct a person name according to the format in described in https://dicom.nema.org/dicom/2013/output/chtml/part05/sect_6.2.html#sect_6.2.1.2, or, in pydicom 2.2.0 or later, use the pydicom.valuerep.PersonName.from_named_components() method to construct the person name correctly. If a single-component name is really intended, add a trailing caret character to disambiguate the name.\n",
            "  check_person_name(patient_name)\n"
          ]
        },
        {
          "output_type": "stream",
          "name": "stdout",
          "text": [
            "********** On patient: ProstateX-0099 **********\n",
            "num_series: 2\n",
            "***** On series: 1.3.6.1.4.1.14519.5.2.1.7311.5101.296514716938564243315383634940 *****\n",
            "SeriesInstanceUID: 1.3.6.1.4.1.14519.5.2.1.7311.5101.296514716938564243315383634940\n"
          ]
        },
        {
          "output_type": "stream",
          "name": "stderr",
          "text": [
            "Downloading data: 100%|█████████▉| 6.28M/6.28M [00:02<00:00, 2.50MB/s]"
          ]
        },
        {
          "output_type": "stream",
          "name": "stdout",
          "text": [
            "FrameOfReferenceUID: 1.3.6.1.4.1.14519.5.2.1.7311.5101.221060391166138923485590390978\n",
            "Parsing 25.7022 40.664 65.1977\n",
            "Parsing -16.1111 39.0076 65.3807\n",
            "2\n"
          ]
        },
        {
          "output_type": "stream",
          "name": "stderr",
          "text": [
            "\n",
            "/usr/local/lib/python3.11/dist-packages/highdicom/base.py:163: UserWarning: The string \"ProstateX-0099\" is unlikely to represent the intended person name since it contains only a single component. Construct a person name according to the format in described in https://dicom.nema.org/dicom/2013/output/chtml/part05/sect_6.2.html#sect_6.2.1.2, or, in pydicom 2.2.0 or later, use the pydicom.valuerep.PersonName.from_named_components() method to construct the person name correctly. If a single-component name is really intended, add a trailing caret character to disambiguate the name.\n",
            "  check_person_name(patient_name)\n"
          ]
        },
        {
          "output_type": "stream",
          "name": "stdout",
          "text": [
            "***** On series: 1.3.6.1.4.1.14519.5.2.1.7311.5101.309312107560449116639832256098 *****\n",
            "SeriesInstanceUID: 1.3.6.1.4.1.14519.5.2.1.7311.5101.309312107560449116639832256098\n"
          ]
        },
        {
          "output_type": "stream",
          "name": "stderr",
          "text": [
            "Downloading data: 100%|█████████▉| 6.28M/6.28M [00:02<00:00, 2.50MB/s]"
          ]
        },
        {
          "output_type": "stream",
          "name": "stdout",
          "text": [
            "FrameOfReferenceUID: 1.3.6.1.4.1.14519.5.2.1.7311.5101.221060391166138923485590390978\n",
            "Parsing 25.7022 40.664 65.1977\n",
            "Parsing -16.1111 39.0076 65.3807\n",
            "2\n"
          ]
        },
        {
          "output_type": "stream",
          "name": "stderr",
          "text": [
            "\n",
            "/usr/local/lib/python3.11/dist-packages/highdicom/base.py:163: UserWarning: The string \"ProstateX-0099\" is unlikely to represent the intended person name since it contains only a single component. Construct a person name according to the format in described in https://dicom.nema.org/dicom/2013/output/chtml/part05/sect_6.2.html#sect_6.2.1.2, or, in pydicom 2.2.0 or later, use the pydicom.valuerep.PersonName.from_named_components() method to construct the person name correctly. If a single-component name is really intended, add a trailing caret character to disambiguate the name.\n",
            "  check_person_name(patient_name)\n"
          ]
        },
        {
          "output_type": "stream",
          "name": "stdout",
          "text": [
            "********** On patient: ProstateX-0100 **********\n",
            "num_series: 1\n",
            "***** On series: 1.3.6.1.4.1.14519.5.2.1.7311.5101.937831815028124449735398487309 *****\n",
            "SeriesInstanceUID: 1.3.6.1.4.1.14519.5.2.1.7311.5101.937831815028124449735398487309\n"
          ]
        },
        {
          "output_type": "stream",
          "name": "stderr",
          "text": [
            "Downloading data: 100%|█████████▉| 6.28M/6.28M [00:02<00:00, 2.50MB/s]"
          ]
        },
        {
          "output_type": "stream",
          "name": "stdout",
          "text": [
            "FrameOfReferenceUID: 1.3.6.1.4.1.14519.5.2.1.7311.5101.241097028576603187006121330201\n",
            "Parsing -21.7872 9.55205 -17.187\n",
            "Parsing -10.7423 34.8772 6.56788\n",
            "Parsing -8.01724 38.6422 -6.1046\n",
            "3\n"
          ]
        },
        {
          "output_type": "stream",
          "name": "stderr",
          "text": [
            "\n",
            "/usr/local/lib/python3.11/dist-packages/highdicom/base.py:163: UserWarning: The string \"ProstateX-0100\" is unlikely to represent the intended person name since it contains only a single component. Construct a person name according to the format in described in https://dicom.nema.org/dicom/2013/output/chtml/part05/sect_6.2.html#sect_6.2.1.2, or, in pydicom 2.2.0 or later, use the pydicom.valuerep.PersonName.from_named_components() method to construct the person name correctly. If a single-component name is really intended, add a trailing caret character to disambiguate the name.\n",
            "  check_person_name(patient_name)\n"
          ]
        },
        {
          "output_type": "stream",
          "name": "stdout",
          "text": [
            "********** On patient: ProstateX-0101 **********\n",
            "num_series: 2\n",
            "***** On series: 1.3.6.1.4.1.14519.5.2.1.7311.5101.163856857463329526073327923224 *****\n",
            "SeriesInstanceUID: 1.3.6.1.4.1.14519.5.2.1.7311.5101.163856857463329526073327923224\n"
          ]
        },
        {
          "output_type": "stream",
          "name": "stderr",
          "text": [
            "Downloading data: 100%|█████████▉| 5.68M/5.68M [00:02<00:00, 2.26MB/s]"
          ]
        },
        {
          "output_type": "stream",
          "name": "stdout",
          "text": [
            "FrameOfReferenceUID: 1.3.6.1.4.1.14519.5.2.1.7311.5101.339943601188737224958653353790\n",
            "Parsing -24.515 7.71764 -28.1541\n",
            "Parsing -5.55656 42.3812 -23.5329\n",
            "2\n"
          ]
        },
        {
          "output_type": "stream",
          "name": "stderr",
          "text": [
            "\n",
            "/usr/local/lib/python3.11/dist-packages/highdicom/base.py:163: UserWarning: The string \"ProstateX-0101\" is unlikely to represent the intended person name since it contains only a single component. Construct a person name according to the format in described in https://dicom.nema.org/dicom/2013/output/chtml/part05/sect_6.2.html#sect_6.2.1.2, or, in pydicom 2.2.0 or later, use the pydicom.valuerep.PersonName.from_named_components() method to construct the person name correctly. If a single-component name is really intended, add a trailing caret character to disambiguate the name.\n",
            "  check_person_name(patient_name)\n"
          ]
        },
        {
          "output_type": "stream",
          "name": "stdout",
          "text": [
            "***** On series: 1.3.6.1.4.1.14519.5.2.1.7311.5101.939940825655396889012027914688 *****\n",
            "SeriesInstanceUID: 1.3.6.1.4.1.14519.5.2.1.7311.5101.939940825655396889012027914688\n"
          ]
        },
        {
          "output_type": "stream",
          "name": "stderr",
          "text": [
            "Downloading data: 100%|█████████▉| 3.97M/3.97M [00:02<00:00, 1.58MB/s]"
          ]
        },
        {
          "output_type": "stream",
          "name": "stdout",
          "text": [
            "FrameOfReferenceUID: 1.3.6.1.4.1.14519.5.2.1.7311.5101.339943601188737224958653353790\n",
            "Parsing -24.515 7.71764 -28.1541\n",
            "Parsing -5.55656 42.3812 -23.5329\n",
            "2\n"
          ]
        },
        {
          "output_type": "stream",
          "name": "stderr",
          "text": [
            "\n",
            "/usr/local/lib/python3.11/dist-packages/highdicom/base.py:163: UserWarning: The string \"ProstateX-0101\" is unlikely to represent the intended person name since it contains only a single component. Construct a person name according to the format in described in https://dicom.nema.org/dicom/2013/output/chtml/part05/sect_6.2.html#sect_6.2.1.2, or, in pydicom 2.2.0 or later, use the pydicom.valuerep.PersonName.from_named_components() method to construct the person name correctly. If a single-component name is really intended, add a trailing caret character to disambiguate the name.\n",
            "  check_person_name(patient_name)\n"
          ]
        },
        {
          "output_type": "stream",
          "name": "stdout",
          "text": [
            "********** On patient: ProstateX-0102 **********\n",
            "num_series: 2\n",
            "***** On series: 1.3.6.1.4.1.14519.5.2.1.7311.5101.239696172860207577230170745733 *****\n",
            "SeriesInstanceUID: 1.3.6.1.4.1.14519.5.2.1.7311.5101.239696172860207577230170745733\n"
          ]
        },
        {
          "output_type": "stream",
          "name": "stderr",
          "text": [
            "Downloading data: 100%|█████████▉| 4.39M/4.39M [00:02<00:00, 1.74MB/s]"
          ]
        },
        {
          "output_type": "stream",
          "name": "stdout",
          "text": [
            "FrameOfReferenceUID: 1.3.6.1.4.1.14519.5.2.1.7311.5101.163624104473581948000289890635\n",
            "Parsing -10.4613 34.2736 -24.6319\n",
            "1\n"
          ]
        },
        {
          "output_type": "stream",
          "name": "stderr",
          "text": [
            "\n",
            "/usr/local/lib/python3.11/dist-packages/highdicom/base.py:163: UserWarning: The string \"ProstateX-0102\" is unlikely to represent the intended person name since it contains only a single component. Construct a person name according to the format in described in https://dicom.nema.org/dicom/2013/output/chtml/part05/sect_6.2.html#sect_6.2.1.2, or, in pydicom 2.2.0 or later, use the pydicom.valuerep.PersonName.from_named_components() method to construct the person name correctly. If a single-component name is really intended, add a trailing caret character to disambiguate the name.\n",
            "  check_person_name(patient_name)\n"
          ]
        },
        {
          "output_type": "stream",
          "name": "stdout",
          "text": [
            "***** On series: 1.3.6.1.4.1.14519.5.2.1.7311.5101.248203933751895346486742820088 *****\n",
            "SeriesInstanceUID: 1.3.6.1.4.1.14519.5.2.1.7311.5101.248203933751895346486742820088\n"
          ]
        },
        {
          "output_type": "stream",
          "name": "stderr",
          "text": [
            "Downloading data: 100%|█████████▉| 6.28M/6.28M [00:02<00:00, 2.50MB/s]"
          ]
        },
        {
          "output_type": "stream",
          "name": "stdout",
          "text": [
            "FrameOfReferenceUID: 1.3.6.1.4.1.14519.5.2.1.7311.5101.163624104473581948000289890635\n",
            "Parsing -10.4613 34.2736 -24.6319\n",
            "1\n"
          ]
        },
        {
          "output_type": "stream",
          "name": "stderr",
          "text": [
            "\n",
            "/usr/local/lib/python3.11/dist-packages/highdicom/base.py:163: UserWarning: The string \"ProstateX-0102\" is unlikely to represent the intended person name since it contains only a single component. Construct a person name according to the format in described in https://dicom.nema.org/dicom/2013/output/chtml/part05/sect_6.2.html#sect_6.2.1.2, or, in pydicom 2.2.0 or later, use the pydicom.valuerep.PersonName.from_named_components() method to construct the person name correctly. If a single-component name is really intended, add a trailing caret character to disambiguate the name.\n",
            "  check_person_name(patient_name)\n"
          ]
        },
        {
          "output_type": "stream",
          "name": "stdout",
          "text": [
            "********** On patient: ProstateX-0103 **********\n",
            "num_series: 1\n",
            "***** On series: 1.3.6.1.4.1.14519.5.2.1.7311.5101.799648618512630817625506411450 *****\n",
            "SeriesInstanceUID: 1.3.6.1.4.1.14519.5.2.1.7311.5101.799648618512630817625506411450\n"
          ]
        },
        {
          "output_type": "stream",
          "name": "stderr",
          "text": [
            "Downloading data: 100%|█████████▉| 6.28M/6.28M [00:02<00:00, 2.50MB/s]\n",
            "/usr/local/lib/python3.11/dist-packages/highdicom/base.py:163: UserWarning: The string \"ProstateX-0103\" is unlikely to represent the intended person name since it contains only a single component. Construct a person name according to the format in described in https://dicom.nema.org/dicom/2013/output/chtml/part05/sect_6.2.html#sect_6.2.1.2, or, in pydicom 2.2.0 or later, use the pydicom.valuerep.PersonName.from_named_components() method to construct the person name correctly. If a single-component name is really intended, add a trailing caret character to disambiguate the name.\n",
            "  check_person_name(patient_name)\n"
          ]
        },
        {
          "output_type": "stream",
          "name": "stdout",
          "text": [
            "FrameOfReferenceUID: 1.3.6.1.4.1.14519.5.2.1.7311.5101.274891815688766979072820989899\n",
            "Parsing 12.9559 46.3051 -54.5266\n",
            "Parsing -6.37128 49.1888 -63.0611\n",
            "2\n",
            "********** On patient: ProstateX-0104 **********\n",
            "num_series: 1\n",
            "***** On series: 1.3.6.1.4.1.14519.5.2.1.7311.5101.176992287385407028701284533740 *****\n",
            "SeriesInstanceUID: 1.3.6.1.4.1.14519.5.2.1.7311.5101.176992287385407028701284533740\n"
          ]
        },
        {
          "output_type": "stream",
          "name": "stderr",
          "text": [
            "Downloading data: 100%|█████████▉| 6.28M/6.28M [00:02<00:00, 2.50MB/s]"
          ]
        },
        {
          "output_type": "stream",
          "name": "stdout",
          "text": [
            "FrameOfReferenceUID: 1.3.6.1.4.1.14519.5.2.1.7311.5101.724797234462897738181317041480\n",
            "Parsing 0.78662 -1.83101 1.89299\n",
            "Parsing 2.70612 32.2689 -1.52071\n",
            "2\n"
          ]
        },
        {
          "output_type": "stream",
          "name": "stderr",
          "text": [
            "\n",
            "/usr/local/lib/python3.11/dist-packages/highdicom/base.py:163: UserWarning: The string \"ProstateX-0104\" is unlikely to represent the intended person name since it contains only a single component. Construct a person name according to the format in described in https://dicom.nema.org/dicom/2013/output/chtml/part05/sect_6.2.html#sect_6.2.1.2, or, in pydicom 2.2.0 or later, use the pydicom.valuerep.PersonName.from_named_components() method to construct the person name correctly. If a single-component name is really intended, add a trailing caret character to disambiguate the name.\n",
            "  check_person_name(patient_name)\n"
          ]
        },
        {
          "output_type": "stream",
          "name": "stdout",
          "text": [
            "********** On patient: ProstateX-0105 **********\n",
            "num_series: 2\n",
            "***** On series: 1.3.6.1.4.1.14519.5.2.1.7311.5101.629057884696444074281659410025 *****\n",
            "SeriesInstanceUID: 1.3.6.1.4.1.14519.5.2.1.7311.5101.629057884696444074281659410025\n"
          ]
        },
        {
          "output_type": "stream",
          "name": "stderr",
          "text": [
            "Downloading data: 100%|█████████▉| 6.28M/6.28M [00:02<00:00, 2.50MB/s]\n",
            "/usr/local/lib/python3.11/dist-packages/highdicom/base.py:163: UserWarning: The string \"ProstateX-0105\" is unlikely to represent the intended person name since it contains only a single component. Construct a person name according to the format in described in https://dicom.nema.org/dicom/2013/output/chtml/part05/sect_6.2.html#sect_6.2.1.2, or, in pydicom 2.2.0 or later, use the pydicom.valuerep.PersonName.from_named_components() method to construct the person name correctly. If a single-component name is really intended, add a trailing caret character to disambiguate the name.\n",
            "  check_person_name(patient_name)\n"
          ]
        },
        {
          "output_type": "stream",
          "name": "stdout",
          "text": [
            "FrameOfReferenceUID: 1.3.6.1.4.1.14519.5.2.1.7311.5101.153164577197986084072563254666\n",
            "Parsing 11.2381 21.7529 -40.6015\n",
            "Parsing -0.459897 49.843 -23.0353\n",
            "Parsing 2.505 57.0002 -9.38642\n",
            "3\n",
            "***** On series: 1.3.6.1.4.1.14519.5.2.1.7311.5101.867874221606636863648073982153 *****\n",
            "SeriesInstanceUID: 1.3.6.1.4.1.14519.5.2.1.7311.5101.867874221606636863648073982153\n"
          ]
        },
        {
          "output_type": "stream",
          "name": "stderr",
          "text": [
            "Downloading data: 100%|█████████▉| 6.28M/6.28M [00:03<00:00, 2.08MB/s]\n",
            "/usr/local/lib/python3.11/dist-packages/highdicom/base.py:163: UserWarning: The string \"ProstateX-0105\" is unlikely to represent the intended person name since it contains only a single component. Construct a person name according to the format in described in https://dicom.nema.org/dicom/2013/output/chtml/part05/sect_6.2.html#sect_6.2.1.2, or, in pydicom 2.2.0 or later, use the pydicom.valuerep.PersonName.from_named_components() method to construct the person name correctly. If a single-component name is really intended, add a trailing caret character to disambiguate the name.\n",
            "  check_person_name(patient_name)\n"
          ]
        },
        {
          "output_type": "stream",
          "name": "stdout",
          "text": [
            "FrameOfReferenceUID: 1.3.6.1.4.1.14519.5.2.1.7311.5101.153164577197986084072563254666\n",
            "Parsing 11.2381 21.7529 -40.6015\n",
            "Parsing -0.459897 49.843 -23.0353\n",
            "Parsing 2.505 57.0002 -9.38642\n",
            "3\n",
            "********** On patient: ProstateX-0106 **********\n",
            "num_series: 1\n",
            "***** On series: 1.3.6.1.4.1.14519.5.2.1.7311.5101.276959752243390681174198503432 *****\n",
            "SeriesInstanceUID: 1.3.6.1.4.1.14519.5.2.1.7311.5101.276959752243390681174198503432\n"
          ]
        },
        {
          "output_type": "stream",
          "name": "stderr",
          "text": [
            "Downloading data: 100%|█████████▉| 5.68M/5.68M [00:03<00:00, 1.88MB/s]"
          ]
        },
        {
          "output_type": "stream",
          "name": "stdout",
          "text": [
            "FrameOfReferenceUID: 1.3.6.1.4.1.14519.5.2.1.7311.5101.327691883786680290926734832737\n",
            "Parsing 11.6356 42.7856 21.9458\n",
            "Parsing 24.5215 11.1916 4.30617\n",
            "2\n"
          ]
        },
        {
          "output_type": "stream",
          "name": "stderr",
          "text": [
            "\n",
            "/usr/local/lib/python3.11/dist-packages/highdicom/base.py:163: UserWarning: The string \"ProstateX-0106\" is unlikely to represent the intended person name since it contains only a single component. Construct a person name according to the format in described in https://dicom.nema.org/dicom/2013/output/chtml/part05/sect_6.2.html#sect_6.2.1.2, or, in pydicom 2.2.0 or later, use the pydicom.valuerep.PersonName.from_named_components() method to construct the person name correctly. If a single-component name is really intended, add a trailing caret character to disambiguate the name.\n",
            "  check_person_name(patient_name)\n"
          ]
        },
        {
          "output_type": "stream",
          "name": "stdout",
          "text": [
            "********** On patient: ProstateX-0107 **********\n",
            "num_series: 1\n",
            "***** On series: 1.3.6.1.4.1.14519.5.2.1.7311.5101.138689767490385276541690275238 *****\n",
            "SeriesInstanceUID: 1.3.6.1.4.1.14519.5.2.1.7311.5101.138689767490385276541690275238\n"
          ]
        },
        {
          "output_type": "stream",
          "name": "stderr",
          "text": [
            "Downloading data: 100%|██████████| 4.80M/4.80M [00:02<00:00, 1.91MB/s]"
          ]
        },
        {
          "output_type": "stream",
          "name": "stdout",
          "text": [
            "FrameOfReferenceUID: 1.3.6.1.4.1.14519.5.2.1.7311.5101.305256869515745324614454182269\n",
            "Parsing 16.0066 21.7955 66.6332\n",
            "1\n"
          ]
        },
        {
          "output_type": "stream",
          "name": "stderr",
          "text": [
            "\n",
            "/usr/local/lib/python3.11/dist-packages/highdicom/base.py:163: UserWarning: The string \"ProstateX-0107\" is unlikely to represent the intended person name since it contains only a single component. Construct a person name according to the format in described in https://dicom.nema.org/dicom/2013/output/chtml/part05/sect_6.2.html#sect_6.2.1.2, or, in pydicom 2.2.0 or later, use the pydicom.valuerep.PersonName.from_named_components() method to construct the person name correctly. If a single-component name is really intended, add a trailing caret character to disambiguate the name.\n",
            "  check_person_name(patient_name)\n"
          ]
        },
        {
          "output_type": "stream",
          "name": "stdout",
          "text": [
            "********** On patient: ProstateX-0108 **********\n",
            "num_series: 1\n",
            "***** On series: 1.3.6.1.4.1.14519.5.2.1.7311.5101.550442475515580084796174510739 *****\n",
            "SeriesInstanceUID: 1.3.6.1.4.1.14519.5.2.1.7311.5101.550442475515580084796174510739\n"
          ]
        },
        {
          "output_type": "stream",
          "name": "stderr",
          "text": [
            "Downloading data: 100%|█████████▉| 6.28M/6.28M [00:02<00:00, 2.50MB/s]"
          ]
        },
        {
          "output_type": "stream",
          "name": "stdout",
          "text": [
            "FrameOfReferenceUID: 1.3.6.1.4.1.14519.5.2.1.7311.5101.156840704526278403998829762087\n",
            "Parsing -27.5928 29.585 21.3175\n",
            "Parsing 1.77016 12.1011 14.193\n",
            "2\n"
          ]
        },
        {
          "output_type": "stream",
          "name": "stderr",
          "text": [
            "\n",
            "/usr/local/lib/python3.11/dist-packages/highdicom/base.py:163: UserWarning: The string \"ProstateX-0108\" is unlikely to represent the intended person name since it contains only a single component. Construct a person name according to the format in described in https://dicom.nema.org/dicom/2013/output/chtml/part05/sect_6.2.html#sect_6.2.1.2, or, in pydicom 2.2.0 or later, use the pydicom.valuerep.PersonName.from_named_components() method to construct the person name correctly. If a single-component name is really intended, add a trailing caret character to disambiguate the name.\n",
            "  check_person_name(patient_name)\n"
          ]
        },
        {
          "output_type": "stream",
          "name": "stdout",
          "text": [
            "********** On patient: ProstateX-0109 **********\n",
            "num_series: 1\n",
            "***** On series: 1.3.6.1.4.1.14519.5.2.1.7311.5101.915211281684168977118704306498 *****\n",
            "SeriesInstanceUID: 1.3.6.1.4.1.14519.5.2.1.7311.5101.915211281684168977118704306498\n"
          ]
        },
        {
          "output_type": "stream",
          "name": "stderr",
          "text": [
            "Downloading data: 100%|█████████▉| 5.68M/5.68M [00:02<00:00, 2.26MB/s]"
          ]
        },
        {
          "output_type": "stream",
          "name": "stdout",
          "text": [
            "FrameOfReferenceUID: 1.3.6.1.4.1.14519.5.2.1.7311.5101.313227522235229353322292761337\n",
            "Parsing 20.0185 26.1513 -90.6109\n",
            "Parsing 17.4632 26.7037 -74.6612\n",
            "2\n"
          ]
        },
        {
          "output_type": "stream",
          "name": "stderr",
          "text": [
            "\n",
            "/usr/local/lib/python3.11/dist-packages/highdicom/base.py:163: UserWarning: The string \"ProstateX-0109\" is unlikely to represent the intended person name since it contains only a single component. Construct a person name according to the format in described in https://dicom.nema.org/dicom/2013/output/chtml/part05/sect_6.2.html#sect_6.2.1.2, or, in pydicom 2.2.0 or later, use the pydicom.valuerep.PersonName.from_named_components() method to construct the person name correctly. If a single-component name is really intended, add a trailing caret character to disambiguate the name.\n",
            "  check_person_name(patient_name)\n"
          ]
        },
        {
          "output_type": "stream",
          "name": "stdout",
          "text": [
            "********** On patient: ProstateX-0110 **********\n",
            "num_series: 1\n",
            "***** On series: 1.3.6.1.4.1.14519.5.2.1.7311.5101.972587624360040843943663321466 *****\n",
            "SeriesInstanceUID: 1.3.6.1.4.1.14519.5.2.1.7311.5101.972587624360040843943663321466\n"
          ]
        },
        {
          "output_type": "stream",
          "name": "stderr",
          "text": [
            "Downloading data: 100%|█████████▉| 5.68M/5.68M [00:02<00:00, 2.26MB/s]"
          ]
        },
        {
          "output_type": "stream",
          "name": "stdout",
          "text": [
            "FrameOfReferenceUID: 1.3.6.1.4.1.14519.5.2.1.7311.5101.287062533806911292216404689214\n",
            "Parsing 36.5453 0.29481 -20.3736\n",
            "Parsing 11.624 16.5662 -11.7145\n",
            "2\n"
          ]
        },
        {
          "output_type": "stream",
          "name": "stderr",
          "text": [
            "\n",
            "/usr/local/lib/python3.11/dist-packages/highdicom/base.py:163: UserWarning: The string \"ProstateX-0110\" is unlikely to represent the intended person name since it contains only a single component. Construct a person name according to the format in described in https://dicom.nema.org/dicom/2013/output/chtml/part05/sect_6.2.html#sect_6.2.1.2, or, in pydicom 2.2.0 or later, use the pydicom.valuerep.PersonName.from_named_components() method to construct the person name correctly. If a single-component name is really intended, add a trailing caret character to disambiguate the name.\n",
            "  check_person_name(patient_name)\n"
          ]
        },
        {
          "output_type": "stream",
          "name": "stdout",
          "text": [
            "********** On patient: ProstateX-0111 **********\n",
            "num_series: 1\n",
            "***** On series: 1.3.6.1.4.1.14519.5.2.1.7311.5101.312442050391027773578890036831 *****\n",
            "SeriesInstanceUID: 1.3.6.1.4.1.14519.5.2.1.7311.5101.312442050391027773578890036831\n"
          ]
        },
        {
          "output_type": "stream",
          "name": "stderr",
          "text": [
            "Downloading data: 100%|█████████▉| 5.68M/5.68M [00:02<00:00, 2.26MB/s]"
          ]
        },
        {
          "output_type": "stream",
          "name": "stdout",
          "text": [
            "FrameOfReferenceUID: 1.3.6.1.4.1.14519.5.2.1.7311.5101.188921278523579916195657283226\n",
            "Parsing -24.6808 5.65637 -33.5395\n",
            "1\n"
          ]
        },
        {
          "output_type": "stream",
          "name": "stderr",
          "text": [
            "\n",
            "/usr/local/lib/python3.11/dist-packages/highdicom/base.py:163: UserWarning: The string \"ProstateX-0111\" is unlikely to represent the intended person name since it contains only a single component. Construct a person name according to the format in described in https://dicom.nema.org/dicom/2013/output/chtml/part05/sect_6.2.html#sect_6.2.1.2, or, in pydicom 2.2.0 or later, use the pydicom.valuerep.PersonName.from_named_components() method to construct the person name correctly. If a single-component name is really intended, add a trailing caret character to disambiguate the name.\n",
            "  check_person_name(patient_name)\n"
          ]
        },
        {
          "output_type": "stream",
          "name": "stdout",
          "text": [
            "********** On patient: ProstateX-0112 **********\n",
            "num_series: 2\n",
            "***** On series: 1.3.6.1.4.1.14519.5.2.1.7311.5101.113779685300839787361676127393 *****\n",
            "SeriesInstanceUID: 1.3.6.1.4.1.14519.5.2.1.7311.5101.113779685300839787361676127393\n"
          ]
        },
        {
          "output_type": "stream",
          "name": "stderr",
          "text": [
            "Downloading data: 100%|█████████▉| 6.28M/6.28M [00:02<00:00, 2.50MB/s]"
          ]
        },
        {
          "output_type": "stream",
          "name": "stdout",
          "text": [
            "FrameOfReferenceUID: 1.3.6.1.4.1.14519.5.2.1.7311.5101.142155389539470053550998002115\n",
            "Parsing 27.1693 28.6715 -8.77407\n",
            "1\n"
          ]
        },
        {
          "output_type": "stream",
          "name": "stderr",
          "text": [
            "\n",
            "/usr/local/lib/python3.11/dist-packages/highdicom/base.py:163: UserWarning: The string \"ProstateX-0112\" is unlikely to represent the intended person name since it contains only a single component. Construct a person name according to the format in described in https://dicom.nema.org/dicom/2013/output/chtml/part05/sect_6.2.html#sect_6.2.1.2, or, in pydicom 2.2.0 or later, use the pydicom.valuerep.PersonName.from_named_components() method to construct the person name correctly. If a single-component name is really intended, add a trailing caret character to disambiguate the name.\n",
            "  check_person_name(patient_name)\n"
          ]
        },
        {
          "output_type": "stream",
          "name": "stdout",
          "text": [
            "***** On series: 1.3.6.1.4.1.14519.5.2.1.7311.5101.322192860849906453257530108507 *****\n",
            "SeriesInstanceUID: 1.3.6.1.4.1.14519.5.2.1.7311.5101.322192860849906453257530108507\n"
          ]
        },
        {
          "output_type": "stream",
          "name": "stderr",
          "text": [
            "Downloading data: 100%|█████████▉| 6.28M/6.28M [00:02<00:00, 2.50MB/s]"
          ]
        },
        {
          "output_type": "stream",
          "name": "stdout",
          "text": [
            "FrameOfReferenceUID: 1.3.6.1.4.1.14519.5.2.1.7311.5101.142155389539470053550998002115\n",
            "Parsing 27.1693 28.6715 -8.77407\n",
            "1\n"
          ]
        },
        {
          "output_type": "stream",
          "name": "stderr",
          "text": [
            "\n",
            "/usr/local/lib/python3.11/dist-packages/highdicom/base.py:163: UserWarning: The string \"ProstateX-0112\" is unlikely to represent the intended person name since it contains only a single component. Construct a person name according to the format in described in https://dicom.nema.org/dicom/2013/output/chtml/part05/sect_6.2.html#sect_6.2.1.2, or, in pydicom 2.2.0 or later, use the pydicom.valuerep.PersonName.from_named_components() method to construct the person name correctly. If a single-component name is really intended, add a trailing caret character to disambiguate the name.\n",
            "  check_person_name(patient_name)\n"
          ]
        },
        {
          "output_type": "stream",
          "name": "stdout",
          "text": [
            "********** On patient: ProstateX-0113 **********\n",
            "num_series: 2\n",
            "***** On series: 1.3.6.1.4.1.14519.5.2.1.7311.5101.295208076003566232058005456003 *****\n",
            "SeriesInstanceUID: 1.3.6.1.4.1.14519.5.2.1.7311.5101.295208076003566232058005456003\n"
          ]
        },
        {
          "output_type": "stream",
          "name": "stderr",
          "text": [
            "Downloading data: 100%|█████████▉| 6.28M/6.28M [00:03<00:00, 2.08MB/s]"
          ]
        },
        {
          "output_type": "stream",
          "name": "stdout",
          "text": [
            "FrameOfReferenceUID: 1.3.6.1.4.1.14519.5.2.1.7311.5101.271157060012862635816842819917\n",
            "Parsing -9.65632 52.8802 -83.0514\n",
            "1\n"
          ]
        },
        {
          "output_type": "stream",
          "name": "stderr",
          "text": [
            "\n",
            "/usr/local/lib/python3.11/dist-packages/highdicom/base.py:163: UserWarning: The string \"ProstateX-0113\" is unlikely to represent the intended person name since it contains only a single component. Construct a person name according to the format in described in https://dicom.nema.org/dicom/2013/output/chtml/part05/sect_6.2.html#sect_6.2.1.2, or, in pydicom 2.2.0 or later, use the pydicom.valuerep.PersonName.from_named_components() method to construct the person name correctly. If a single-component name is really intended, add a trailing caret character to disambiguate the name.\n",
            "  check_person_name(patient_name)\n"
          ]
        },
        {
          "output_type": "stream",
          "name": "stdout",
          "text": [
            "***** On series: 1.3.6.1.4.1.14519.5.2.1.7311.5101.745309644957612525678428598073 *****\n",
            "SeriesInstanceUID: 1.3.6.1.4.1.14519.5.2.1.7311.5101.745309644957612525678428598073\n"
          ]
        },
        {
          "output_type": "stream",
          "name": "stderr",
          "text": [
            "Downloading data: 100%|█████████▉| 6.28M/6.28M [00:02<00:00, 2.50MB/s]"
          ]
        },
        {
          "output_type": "stream",
          "name": "stdout",
          "text": [
            "FrameOfReferenceUID: 1.3.6.1.4.1.14519.5.2.1.7311.5101.271157060012862635816842819917\n",
            "Parsing -9.65632 52.8802 -83.0514\n",
            "1\n"
          ]
        },
        {
          "output_type": "stream",
          "name": "stderr",
          "text": [
            "\n",
            "/usr/local/lib/python3.11/dist-packages/highdicom/base.py:163: UserWarning: The string \"ProstateX-0113\" is unlikely to represent the intended person name since it contains only a single component. Construct a person name according to the format in described in https://dicom.nema.org/dicom/2013/output/chtml/part05/sect_6.2.html#sect_6.2.1.2, or, in pydicom 2.2.0 or later, use the pydicom.valuerep.PersonName.from_named_components() method to construct the person name correctly. If a single-component name is really intended, add a trailing caret character to disambiguate the name.\n",
            "  check_person_name(patient_name)\n"
          ]
        },
        {
          "output_type": "stream",
          "name": "stdout",
          "text": [
            "********** On patient: ProstateX-0114 **********\n",
            "num_series: 2\n",
            "***** On series: 1.3.6.1.4.1.14519.5.2.1.7311.5101.160665974886533236804770187268 *****\n",
            "SeriesInstanceUID: 1.3.6.1.4.1.14519.5.2.1.7311.5101.160665974886533236804770187268\n"
          ]
        },
        {
          "output_type": "stream",
          "name": "stderr",
          "text": [
            "Downloading data: 100%|█████████▉| 5.68M/5.68M [00:02<00:00, 2.27MB/s]"
          ]
        },
        {
          "output_type": "stream",
          "name": "stdout",
          "text": [
            "FrameOfReferenceUID: 1.3.6.1.4.1.14519.5.2.1.7311.5101.394530235409912010440219693926\n",
            "Parsing 2.67505 25.9603 70.4981\n",
            "Parsing -14.88771 30.1409 54.3214\n",
            "2\n"
          ]
        },
        {
          "output_type": "stream",
          "name": "stderr",
          "text": [
            "\n",
            "/usr/local/lib/python3.11/dist-packages/highdicom/base.py:163: UserWarning: The string \"ProstateX-0114\" is unlikely to represent the intended person name since it contains only a single component. Construct a person name according to the format in described in https://dicom.nema.org/dicom/2013/output/chtml/part05/sect_6.2.html#sect_6.2.1.2, or, in pydicom 2.2.0 or later, use the pydicom.valuerep.PersonName.from_named_components() method to construct the person name correctly. If a single-component name is really intended, add a trailing caret character to disambiguate the name.\n",
            "  check_person_name(patient_name)\n"
          ]
        },
        {
          "output_type": "stream",
          "name": "stdout",
          "text": [
            "***** On series: 1.3.6.1.4.1.14519.5.2.1.7311.5101.369017036589955758238824664960 *****\n",
            "SeriesInstanceUID: 1.3.6.1.4.1.14519.5.2.1.7311.5101.369017036589955758238824664960\n"
          ]
        },
        {
          "output_type": "stream",
          "name": "stderr",
          "text": [
            "Downloading data: 100%|█████████▉| 5.68M/5.68M [00:02<00:00, 2.27MB/s]"
          ]
        },
        {
          "output_type": "stream",
          "name": "stdout",
          "text": [
            "FrameOfReferenceUID: 1.3.6.1.4.1.14519.5.2.1.7311.5101.394530235409912010440219693926\n",
            "Parsing 2.67505 25.9603 70.4981\n",
            "Parsing -14.88771 30.1409 54.3214\n",
            "2\n"
          ]
        },
        {
          "output_type": "stream",
          "name": "stderr",
          "text": [
            "\n",
            "/usr/local/lib/python3.11/dist-packages/highdicom/base.py:163: UserWarning: The string \"ProstateX-0114\" is unlikely to represent the intended person name since it contains only a single component. Construct a person name according to the format in described in https://dicom.nema.org/dicom/2013/output/chtml/part05/sect_6.2.html#sect_6.2.1.2, or, in pydicom 2.2.0 or later, use the pydicom.valuerep.PersonName.from_named_components() method to construct the person name correctly. If a single-component name is really intended, add a trailing caret character to disambiguate the name.\n",
            "  check_person_name(patient_name)\n"
          ]
        },
        {
          "output_type": "stream",
          "name": "stdout",
          "text": [
            "********** On patient: ProstateX-0115 **********\n",
            "num_series: 1\n",
            "***** On series: 1.3.6.1.4.1.14519.5.2.1.7311.5101.130874669996556555852519436588 *****\n",
            "SeriesInstanceUID: 1.3.6.1.4.1.14519.5.2.1.7311.5101.130874669996556555852519436588\n"
          ]
        },
        {
          "output_type": "stream",
          "name": "stderr",
          "text": [
            "Downloading data: 100%|█████████▉| 5.68M/5.68M [00:02<00:00, 2.26MB/s]"
          ]
        },
        {
          "output_type": "stream",
          "name": "stdout",
          "text": [
            "FrameOfReferenceUID: 1.3.6.1.4.1.14519.5.2.1.7311.5101.708523162106622263683109719637\n",
            "Parsing -46.3136 16.0335 -18.7278\n",
            "1\n"
          ]
        },
        {
          "output_type": "stream",
          "name": "stderr",
          "text": [
            "\n",
            "/usr/local/lib/python3.11/dist-packages/highdicom/base.py:163: UserWarning: The string \"ProstateX-0115\" is unlikely to represent the intended person name since it contains only a single component. Construct a person name according to the format in described in https://dicom.nema.org/dicom/2013/output/chtml/part05/sect_6.2.html#sect_6.2.1.2, or, in pydicom 2.2.0 or later, use the pydicom.valuerep.PersonName.from_named_components() method to construct the person name correctly. If a single-component name is really intended, add a trailing caret character to disambiguate the name.\n",
            "  check_person_name(patient_name)\n"
          ]
        },
        {
          "output_type": "stream",
          "name": "stdout",
          "text": [
            "********** On patient: ProstateX-0116 **********\n",
            "num_series: 2\n",
            "***** On series: 1.3.6.1.4.1.14519.5.2.1.7311.5101.331586561228772599964079581051 *****\n",
            "SeriesInstanceUID: 1.3.6.1.4.1.14519.5.2.1.7311.5101.331586561228772599964079581051\n"
          ]
        },
        {
          "output_type": "stream",
          "name": "stderr",
          "text": [
            "Downloading data: 100%|█████████▉| 6.28M/6.28M [00:03<00:00, 2.09MB/s]"
          ]
        },
        {
          "output_type": "stream",
          "name": "stdout",
          "text": [
            "FrameOfReferenceUID: 1.3.6.1.4.1.14519.5.2.1.7311.5101.159166265969733407584468553738\n",
            "Parsing 16.1963 -4.17941 25.4894\n",
            "1\n"
          ]
        },
        {
          "output_type": "stream",
          "name": "stderr",
          "text": [
            "\n",
            "/usr/local/lib/python3.11/dist-packages/highdicom/base.py:163: UserWarning: The string \"ProstateX-0116\" is unlikely to represent the intended person name since it contains only a single component. Construct a person name according to the format in described in https://dicom.nema.org/dicom/2013/output/chtml/part05/sect_6.2.html#sect_6.2.1.2, or, in pydicom 2.2.0 or later, use the pydicom.valuerep.PersonName.from_named_components() method to construct the person name correctly. If a single-component name is really intended, add a trailing caret character to disambiguate the name.\n",
            "  check_person_name(patient_name)\n"
          ]
        },
        {
          "output_type": "stream",
          "name": "stdout",
          "text": [
            "***** On series: 1.3.6.1.4.1.14519.5.2.1.7311.5101.795098917620624521288839241482 *****\n",
            "SeriesInstanceUID: 1.3.6.1.4.1.14519.5.2.1.7311.5101.795098917620624521288839241482\n"
          ]
        },
        {
          "output_type": "stream",
          "name": "stderr",
          "text": [
            "Downloading data: 100%|█████████▉| 4.39M/4.39M [00:02<00:00, 1.75MB/s]"
          ]
        },
        {
          "output_type": "stream",
          "name": "stdout",
          "text": [
            "FrameOfReferenceUID: 1.3.6.1.4.1.14519.5.2.1.7311.5101.159166265969733407584468553738\n",
            "Parsing 16.1963 -4.17941 25.4894\n",
            "1\n"
          ]
        },
        {
          "output_type": "stream",
          "name": "stderr",
          "text": [
            "\n",
            "/usr/local/lib/python3.11/dist-packages/highdicom/base.py:163: UserWarning: The string \"ProstateX-0116\" is unlikely to represent the intended person name since it contains only a single component. Construct a person name according to the format in described in https://dicom.nema.org/dicom/2013/output/chtml/part05/sect_6.2.html#sect_6.2.1.2, or, in pydicom 2.2.0 or later, use the pydicom.valuerep.PersonName.from_named_components() method to construct the person name correctly. If a single-component name is really intended, add a trailing caret character to disambiguate the name.\n",
            "  check_person_name(patient_name)\n"
          ]
        },
        {
          "output_type": "stream",
          "name": "stdout",
          "text": [
            "********** On patient: ProstateX-0117 **********\n",
            "num_series: 1\n",
            "***** On series: 1.3.6.1.4.1.14519.5.2.1.7311.5101.101130890931274399577478152963 *****\n",
            "SeriesInstanceUID: 1.3.6.1.4.1.14519.5.2.1.7311.5101.101130890931274399577478152963\n"
          ]
        },
        {
          "output_type": "stream",
          "name": "stderr",
          "text": [
            "Downloading data: 100%|██████████| 6.87M/6.87M [00:02<00:00, 2.74MB/s]"
          ]
        },
        {
          "output_type": "stream",
          "name": "stdout",
          "text": [
            "FrameOfReferenceUID: 1.3.6.1.4.1.14519.5.2.1.7311.5101.314161688767732124001654580602\n",
            "Parsing 26.7378 24.0652 -34.8602\n",
            "Parsing 25.9078 38.5042 -46.8451\n",
            "2\n"
          ]
        },
        {
          "output_type": "stream",
          "name": "stderr",
          "text": [
            "\n",
            "/usr/local/lib/python3.11/dist-packages/highdicom/base.py:163: UserWarning: The string \"ProstateX-0117\" is unlikely to represent the intended person name since it contains only a single component. Construct a person name according to the format in described in https://dicom.nema.org/dicom/2013/output/chtml/part05/sect_6.2.html#sect_6.2.1.2, or, in pydicom 2.2.0 or later, use the pydicom.valuerep.PersonName.from_named_components() method to construct the person name correctly. If a single-component name is really intended, add a trailing caret character to disambiguate the name.\n",
            "  check_person_name(patient_name)\n"
          ]
        },
        {
          "output_type": "stream",
          "name": "stdout",
          "text": [
            "********** On patient: ProstateX-0118 **********\n",
            "num_series: 1\n",
            "***** On series: 1.3.6.1.4.1.14519.5.2.1.7311.5101.156910737340231640626298466189 *****\n",
            "SeriesInstanceUID: 1.3.6.1.4.1.14519.5.2.1.7311.5101.156910737340231640626298466189\n"
          ]
        },
        {
          "output_type": "stream",
          "name": "stderr",
          "text": [
            "Downloading data: 100%|██████████| 6.87M/6.87M [00:03<00:00, 2.28MB/s]"
          ]
        },
        {
          "output_type": "stream",
          "name": "stdout",
          "text": [
            "FrameOfReferenceUID: 1.3.6.1.4.1.14519.5.2.1.7311.5101.292065153720829989989372472665\n",
            "Parsing -6.04971 29.5813 -2.45722\n",
            "Parsing 1.47874 47.7366 -6.48214\n",
            "2\n"
          ]
        },
        {
          "output_type": "stream",
          "name": "stderr",
          "text": [
            "\n",
            "/usr/local/lib/python3.11/dist-packages/highdicom/base.py:163: UserWarning: The string \"ProstateX-0118\" is unlikely to represent the intended person name since it contains only a single component. Construct a person name according to the format in described in https://dicom.nema.org/dicom/2013/output/chtml/part05/sect_6.2.html#sect_6.2.1.2, or, in pydicom 2.2.0 or later, use the pydicom.valuerep.PersonName.from_named_components() method to construct the person name correctly. If a single-component name is really intended, add a trailing caret character to disambiguate the name.\n",
            "  check_person_name(patient_name)\n"
          ]
        },
        {
          "output_type": "stream",
          "name": "stdout",
          "text": [
            "********** On patient: ProstateX-0119 **********\n",
            "num_series: 1\n",
            "***** On series: 1.3.6.1.4.1.14519.5.2.1.7311.5101.233981388543370190172245731393 *****\n",
            "SeriesInstanceUID: 1.3.6.1.4.1.14519.5.2.1.7311.5101.233981388543370190172245731393\n"
          ]
        },
        {
          "output_type": "stream",
          "name": "stderr",
          "text": [
            "Downloading data: 100%|██████████| 6.87M/6.87M [00:02<00:00, 2.74MB/s]"
          ]
        },
        {
          "output_type": "stream",
          "name": "stdout",
          "text": [
            "FrameOfReferenceUID: 1.3.6.1.4.1.14519.5.2.1.7311.5101.113009932794557985638201908119\n",
            "Parsing 11.5495 24.2404 -21.4808\n",
            "1\n"
          ]
        },
        {
          "output_type": "stream",
          "name": "stderr",
          "text": [
            "\n",
            "/usr/local/lib/python3.11/dist-packages/highdicom/base.py:163: UserWarning: The string \"ProstateX-0119\" is unlikely to represent the intended person name since it contains only a single component. Construct a person name according to the format in described in https://dicom.nema.org/dicom/2013/output/chtml/part05/sect_6.2.html#sect_6.2.1.2, or, in pydicom 2.2.0 or later, use the pydicom.valuerep.PersonName.from_named_components() method to construct the person name correctly. If a single-component name is really intended, add a trailing caret character to disambiguate the name.\n",
            "  check_person_name(patient_name)\n"
          ]
        },
        {
          "output_type": "stream",
          "name": "stdout",
          "text": [
            "********** On patient: ProstateX-0120 **********\n",
            "num_series: 1\n",
            "***** On series: 1.3.6.1.4.1.14519.5.2.1.7311.5101.109177039401754943775885602055 *****\n",
            "SeriesInstanceUID: 1.3.6.1.4.1.14519.5.2.1.7311.5101.109177039401754943775885602055\n"
          ]
        },
        {
          "output_type": "stream",
          "name": "stderr",
          "text": [
            "Downloading data: 100%|██████████| 7.47M/7.47M [00:02<00:00, 2.98MB/s]"
          ]
        },
        {
          "output_type": "stream",
          "name": "stdout",
          "text": [
            "FrameOfReferenceUID: 1.3.6.1.4.1.14519.5.2.1.7311.5101.193118715523845639290902451205\n",
            "Parsing -1.91096 5.55627 41.5569\n",
            "Parsing 3.35409 45.6561 58.27\n",
            "2\n"
          ]
        },
        {
          "output_type": "stream",
          "name": "stderr",
          "text": [
            "\n",
            "/usr/local/lib/python3.11/dist-packages/highdicom/base.py:163: UserWarning: The string \"ProstateX-0120\" is unlikely to represent the intended person name since it contains only a single component. Construct a person name according to the format in described in https://dicom.nema.org/dicom/2013/output/chtml/part05/sect_6.2.html#sect_6.2.1.2, or, in pydicom 2.2.0 or later, use the pydicom.valuerep.PersonName.from_named_components() method to construct the person name correctly. If a single-component name is really intended, add a trailing caret character to disambiguate the name.\n",
            "  check_person_name(patient_name)\n"
          ]
        },
        {
          "output_type": "stream",
          "name": "stdout",
          "text": [
            "********** On patient: ProstateX-0121 **********\n",
            "num_series: 1\n",
            "***** On series: 1.3.6.1.4.1.14519.5.2.1.7311.5101.180650601474055581355948988643 *****\n",
            "SeriesInstanceUID: 1.3.6.1.4.1.14519.5.2.1.7311.5101.180650601474055581355948988643\n"
          ]
        },
        {
          "output_type": "stream",
          "name": "stderr",
          "text": [
            "Downloading data: 100%|█████████▉| 6.28M/6.28M [00:02<00:00, 2.50MB/s]"
          ]
        },
        {
          "output_type": "stream",
          "name": "stdout",
          "text": [
            "FrameOfReferenceUID: 1.3.6.1.4.1.14519.5.2.1.7311.5101.850606399861645450646408912282\n",
            "Parsing 6.99026622772217 6.90991668701172 12.8546207427978\n",
            "Parsing 31.8466 21.8933 -8.14504\n",
            "2\n"
          ]
        },
        {
          "output_type": "stream",
          "name": "stderr",
          "text": [
            "\n",
            "/usr/local/lib/python3.11/dist-packages/highdicom/base.py:163: UserWarning: The string \"ProstateX-0121\" is unlikely to represent the intended person name since it contains only a single component. Construct a person name according to the format in described in https://dicom.nema.org/dicom/2013/output/chtml/part05/sect_6.2.html#sect_6.2.1.2, or, in pydicom 2.2.0 or later, use the pydicom.valuerep.PersonName.from_named_components() method to construct the person name correctly. If a single-component name is really intended, add a trailing caret character to disambiguate the name.\n",
            "  check_person_name(patient_name)\n"
          ]
        },
        {
          "output_type": "stream",
          "name": "stdout",
          "text": [
            "********** On patient: ProstateX-0122 **********\n",
            "num_series: 2\n",
            "***** On series: 1.3.6.1.4.1.14519.5.2.1.7311.5101.169644449862583835369721294033 *****\n",
            "SeriesInstanceUID: 1.3.6.1.4.1.14519.5.2.1.7311.5101.169644449862583835369721294033\n"
          ]
        },
        {
          "output_type": "stream",
          "name": "stderr",
          "text": [
            "Downloading data: 100%|█████████▉| 5.68M/5.68M [00:03<00:00, 1.89MB/s]"
          ]
        },
        {
          "output_type": "stream",
          "name": "stdout",
          "text": [
            "FrameOfReferenceUID: 1.3.6.1.4.1.14519.5.2.1.7311.5101.101351288566512087436043839723\n",
            "Parsing  -33.498 -0.413876442871094 -14.3014344573975\n",
            "Parsing -34.0512 14.0026 -42.5558\n",
            "2\n"
          ]
        },
        {
          "output_type": "stream",
          "name": "stderr",
          "text": [
            "\n",
            "/usr/local/lib/python3.11/dist-packages/highdicom/base.py:163: UserWarning: The string \"ProstateX-0122\" is unlikely to represent the intended person name since it contains only a single component. Construct a person name according to the format in described in https://dicom.nema.org/dicom/2013/output/chtml/part05/sect_6.2.html#sect_6.2.1.2, or, in pydicom 2.2.0 or later, use the pydicom.valuerep.PersonName.from_named_components() method to construct the person name correctly. If a single-component name is really intended, add a trailing caret character to disambiguate the name.\n",
            "  check_person_name(patient_name)\n"
          ]
        },
        {
          "output_type": "stream",
          "name": "stdout",
          "text": [
            "***** On series: 1.3.6.1.4.1.14519.5.2.1.7311.5101.630584421787232290645088959150 *****\n",
            "SeriesInstanceUID: 1.3.6.1.4.1.14519.5.2.1.7311.5101.630584421787232290645088959150\n"
          ]
        },
        {
          "output_type": "stream",
          "name": "stderr",
          "text": [
            "Downloading data: 100%|█████████▉| 5.68M/5.68M [00:02<00:00, 2.26MB/s]"
          ]
        },
        {
          "output_type": "stream",
          "name": "stdout",
          "text": [
            "FrameOfReferenceUID: 1.3.6.1.4.1.14519.5.2.1.7311.5101.101351288566512087436043839723\n",
            "Parsing  -33.498 -0.413876442871094 -14.3014344573975\n",
            "Parsing -34.0512 14.0026 -42.5558\n",
            "2\n"
          ]
        },
        {
          "output_type": "stream",
          "name": "stderr",
          "text": [
            "\n",
            "/usr/local/lib/python3.11/dist-packages/highdicom/base.py:163: UserWarning: The string \"ProstateX-0122\" is unlikely to represent the intended person name since it contains only a single component. Construct a person name according to the format in described in https://dicom.nema.org/dicom/2013/output/chtml/part05/sect_6.2.html#sect_6.2.1.2, or, in pydicom 2.2.0 or later, use the pydicom.valuerep.PersonName.from_named_components() method to construct the person name correctly. If a single-component name is really intended, add a trailing caret character to disambiguate the name.\n",
            "  check_person_name(patient_name)\n"
          ]
        },
        {
          "output_type": "stream",
          "name": "stdout",
          "text": [
            "********** On patient: ProstateX-0123 **********\n",
            "num_series: 2\n",
            "***** On series: 1.3.6.1.4.1.14519.5.2.1.7311.5101.235341885112539313032416621161 *****\n",
            "SeriesInstanceUID: 1.3.6.1.4.1.14519.5.2.1.7311.5101.235341885112539313032416621161\n"
          ]
        },
        {
          "output_type": "stream",
          "name": "stderr",
          "text": [
            "Downloading data: 100%|█████████▉| 6.28M/6.28M [00:02<00:00, 2.50MB/s]"
          ]
        },
        {
          "output_type": "stream",
          "name": "stdout",
          "text": [
            "FrameOfReferenceUID: 1.3.6.1.4.1.14519.5.2.1.7311.5101.309222743534823050254420682386\n",
            "Parsing 20.8643 30.9437 29.9455\n",
            "1\n"
          ]
        },
        {
          "output_type": "stream",
          "name": "stderr",
          "text": [
            "\n",
            "/usr/local/lib/python3.11/dist-packages/highdicom/base.py:163: UserWarning: The string \"ProstateX-0123\" is unlikely to represent the intended person name since it contains only a single component. Construct a person name according to the format in described in https://dicom.nema.org/dicom/2013/output/chtml/part05/sect_6.2.html#sect_6.2.1.2, or, in pydicom 2.2.0 or later, use the pydicom.valuerep.PersonName.from_named_components() method to construct the person name correctly. If a single-component name is really intended, add a trailing caret character to disambiguate the name.\n",
            "  check_person_name(patient_name)\n"
          ]
        },
        {
          "output_type": "stream",
          "name": "stdout",
          "text": [
            "***** On series: 1.3.6.1.4.1.14519.5.2.1.7311.5101.254062829104359292048024318809 *****\n",
            "SeriesInstanceUID: 1.3.6.1.4.1.14519.5.2.1.7311.5101.254062829104359292048024318809\n"
          ]
        },
        {
          "output_type": "stream",
          "name": "stderr",
          "text": [
            "Downloading data: 100%|█████████▉| 6.28M/6.28M [00:03<00:00, 2.09MB/s]"
          ]
        },
        {
          "output_type": "stream",
          "name": "stdout",
          "text": [
            "FrameOfReferenceUID: 1.3.6.1.4.1.14519.5.2.1.7311.5101.309222743534823050254420682386\n",
            "Parsing 20.8643 30.9437 29.9455\n",
            "1\n"
          ]
        },
        {
          "output_type": "stream",
          "name": "stderr",
          "text": [
            "\n",
            "/usr/local/lib/python3.11/dist-packages/highdicom/base.py:163: UserWarning: The string \"ProstateX-0123\" is unlikely to represent the intended person name since it contains only a single component. Construct a person name according to the format in described in https://dicom.nema.org/dicom/2013/output/chtml/part05/sect_6.2.html#sect_6.2.1.2, or, in pydicom 2.2.0 or later, use the pydicom.valuerep.PersonName.from_named_components() method to construct the person name correctly. If a single-component name is really intended, add a trailing caret character to disambiguate the name.\n",
            "  check_person_name(patient_name)\n"
          ]
        },
        {
          "output_type": "stream",
          "name": "stdout",
          "text": [
            "********** On patient: ProstateX-0124 **********\n",
            "num_series: 1\n",
            "***** On series: 1.3.6.1.4.1.14519.5.2.1.7311.5101.120671479738653620797949234670 *****\n",
            "SeriesInstanceUID: 1.3.6.1.4.1.14519.5.2.1.7311.5101.120671479738653620797949234670\n"
          ]
        },
        {
          "output_type": "stream",
          "name": "stderr",
          "text": [
            "Downloading data: 100%|██████████| 7.47M/7.47M [00:02<00:00, 2.98MB/s]"
          ]
        },
        {
          "output_type": "stream",
          "name": "stdout",
          "text": [
            "FrameOfReferenceUID: 1.3.6.1.4.1.14519.5.2.1.7311.5101.404690340239595842802526989007\n",
            "Parsing -2.33687 50.5183 61.0913\n",
            "1\n"
          ]
        },
        {
          "output_type": "stream",
          "name": "stderr",
          "text": [
            "\n",
            "/usr/local/lib/python3.11/dist-packages/highdicom/base.py:163: UserWarning: The string \"ProstateX-0124\" is unlikely to represent the intended person name since it contains only a single component. Construct a person name according to the format in described in https://dicom.nema.org/dicom/2013/output/chtml/part05/sect_6.2.html#sect_6.2.1.2, or, in pydicom 2.2.0 or later, use the pydicom.valuerep.PersonName.from_named_components() method to construct the person name correctly. If a single-component name is really intended, add a trailing caret character to disambiguate the name.\n",
            "  check_person_name(patient_name)\n"
          ]
        },
        {
          "output_type": "stream",
          "name": "stdout",
          "text": [
            "********** On patient: ProstateX-0125 **********\n",
            "num_series: 2\n",
            "***** On series: 1.3.6.1.4.1.14519.5.2.1.7311.5101.192880613789296100694211103696 *****\n",
            "SeriesInstanceUID: 1.3.6.1.4.1.14519.5.2.1.7311.5101.192880613789296100694211103696\n"
          ]
        },
        {
          "output_type": "stream",
          "name": "stderr",
          "text": [
            "Downloading data: 100%|█████████▉| 6.28M/6.28M [00:02<00:00, 2.50MB/s]"
          ]
        },
        {
          "output_type": "stream",
          "name": "stdout",
          "text": [
            "FrameOfReferenceUID: 1.3.6.1.4.1.14519.5.2.1.7311.5101.261191407484038531868379103641\n",
            "Parsing -37.3152 28.8733 -27.9854\n",
            "1\n"
          ]
        },
        {
          "output_type": "stream",
          "name": "stderr",
          "text": [
            "\n",
            "/usr/local/lib/python3.11/dist-packages/highdicom/base.py:163: UserWarning: The string \"ProstateX-0125\" is unlikely to represent the intended person name since it contains only a single component. Construct a person name according to the format in described in https://dicom.nema.org/dicom/2013/output/chtml/part05/sect_6.2.html#sect_6.2.1.2, or, in pydicom 2.2.0 or later, use the pydicom.valuerep.PersonName.from_named_components() method to construct the person name correctly. If a single-component name is really intended, add a trailing caret character to disambiguate the name.\n",
            "  check_person_name(patient_name)\n"
          ]
        },
        {
          "output_type": "stream",
          "name": "stdout",
          "text": [
            "***** On series: 1.3.6.1.4.1.14519.5.2.1.7311.5101.242424835264181527414562151046 *****\n",
            "SeriesInstanceUID: 1.3.6.1.4.1.14519.5.2.1.7311.5101.242424835264181527414562151046\n"
          ]
        },
        {
          "output_type": "stream",
          "name": "stderr",
          "text": [
            "Downloading data: 100%|█████████▉| 6.28M/6.28M [00:02<00:00, 2.50MB/s]"
          ]
        },
        {
          "output_type": "stream",
          "name": "stdout",
          "text": [
            "FrameOfReferenceUID: 1.3.6.1.4.1.14519.5.2.1.7311.5101.261191407484038531868379103641\n",
            "Parsing -37.3152 28.8733 -27.9854\n",
            "1\n"
          ]
        },
        {
          "output_type": "stream",
          "name": "stderr",
          "text": [
            "\n",
            "/usr/local/lib/python3.11/dist-packages/highdicom/base.py:163: UserWarning: The string \"ProstateX-0125\" is unlikely to represent the intended person name since it contains only a single component. Construct a person name according to the format in described in https://dicom.nema.org/dicom/2013/output/chtml/part05/sect_6.2.html#sect_6.2.1.2, or, in pydicom 2.2.0 or later, use the pydicom.valuerep.PersonName.from_named_components() method to construct the person name correctly. If a single-component name is really intended, add a trailing caret character to disambiguate the name.\n",
            "  check_person_name(patient_name)\n"
          ]
        },
        {
          "output_type": "stream",
          "name": "stdout",
          "text": [
            "********** On patient: ProstateX-0126 **********\n",
            "num_series: 2\n",
            "***** On series: 1.3.6.1.4.1.14519.5.2.1.7311.5101.196743467875962901534742284889 *****\n",
            "SeriesInstanceUID: 1.3.6.1.4.1.14519.5.2.1.7311.5101.196743467875962901534742284889\n"
          ]
        },
        {
          "output_type": "stream",
          "name": "stderr",
          "text": [
            "Downloading data: 100%|█████████▉| 6.88M/6.88M [00:03<00:00, 2.28MB/s]"
          ]
        },
        {
          "output_type": "stream",
          "name": "stdout",
          "text": [
            "FrameOfReferenceUID: 1.3.6.1.4.1.14519.5.2.1.7311.5101.482800104507858858492480071624\n",
            "Parsing 13.6285 51.202 6.47909\n",
            "Parsing -0.00813 12.961 3.0117\n",
            "2\n"
          ]
        },
        {
          "output_type": "stream",
          "name": "stderr",
          "text": [
            "\n",
            "/usr/local/lib/python3.11/dist-packages/highdicom/base.py:163: UserWarning: The string \"ProstateX-0126\" is unlikely to represent the intended person name since it contains only a single component. Construct a person name according to the format in described in https://dicom.nema.org/dicom/2013/output/chtml/part05/sect_6.2.html#sect_6.2.1.2, or, in pydicom 2.2.0 or later, use the pydicom.valuerep.PersonName.from_named_components() method to construct the person name correctly. If a single-component name is really intended, add a trailing caret character to disambiguate the name.\n",
            "  check_person_name(patient_name)\n"
          ]
        },
        {
          "output_type": "stream",
          "name": "stdout",
          "text": [
            "***** On series: 1.3.6.1.4.1.14519.5.2.1.7311.5101.609444921602227480415119333725 *****\n",
            "SeriesInstanceUID: 1.3.6.1.4.1.14519.5.2.1.7311.5101.609444921602227480415119333725\n"
          ]
        },
        {
          "output_type": "stream",
          "name": "stderr",
          "text": [
            "Downloading data: 100%|█████████▉| 6.88M/6.88M [00:02<00:00, 2.74MB/s]"
          ]
        },
        {
          "output_type": "stream",
          "name": "stdout",
          "text": [
            "FrameOfReferenceUID: 1.3.6.1.4.1.14519.5.2.1.7311.5101.482800104507858858492480071624\n",
            "Parsing 13.6285 51.202 6.47909\n",
            "Parsing -0.00813 12.961 3.0117\n",
            "2\n"
          ]
        },
        {
          "output_type": "stream",
          "name": "stderr",
          "text": [
            "\n",
            "/usr/local/lib/python3.11/dist-packages/highdicom/base.py:163: UserWarning: The string \"ProstateX-0126\" is unlikely to represent the intended person name since it contains only a single component. Construct a person name according to the format in described in https://dicom.nema.org/dicom/2013/output/chtml/part05/sect_6.2.html#sect_6.2.1.2, or, in pydicom 2.2.0 or later, use the pydicom.valuerep.PersonName.from_named_components() method to construct the person name correctly. If a single-component name is really intended, add a trailing caret character to disambiguate the name.\n",
            "  check_person_name(patient_name)\n"
          ]
        },
        {
          "output_type": "stream",
          "name": "stdout",
          "text": [
            "********** On patient: ProstateX-0127 **********\n",
            "num_series: 1\n",
            "***** On series: 1.3.6.1.4.1.14519.5.2.1.7311.5101.125028312746883214553925465367 *****\n",
            "SeriesInstanceUID: 1.3.6.1.4.1.14519.5.2.1.7311.5101.125028312746883214553925465367\n"
          ]
        },
        {
          "output_type": "stream",
          "name": "stderr",
          "text": [
            "Downloading data: 100%|██████████| 5.68M/5.68M [00:03<00:00, 1.62MB/s]"
          ]
        },
        {
          "output_type": "stream",
          "name": "stdout",
          "text": [
            "FrameOfReferenceUID: 1.3.6.1.4.1.14519.5.2.1.7311.5101.157360251464184758179658777342\n",
            "Parsing -2.96897 54.8394 -35.4997\n",
            "1\n"
          ]
        },
        {
          "output_type": "stream",
          "name": "stderr",
          "text": [
            "\n",
            "/usr/local/lib/python3.11/dist-packages/highdicom/base.py:163: UserWarning: The string \"ProstateX-0127\" is unlikely to represent the intended person name since it contains only a single component. Construct a person name according to the format in described in https://dicom.nema.org/dicom/2013/output/chtml/part05/sect_6.2.html#sect_6.2.1.2, or, in pydicom 2.2.0 or later, use the pydicom.valuerep.PersonName.from_named_components() method to construct the person name correctly. If a single-component name is really intended, add a trailing caret character to disambiguate the name.\n",
            "  check_person_name(patient_name)\n"
          ]
        },
        {
          "output_type": "stream",
          "name": "stdout",
          "text": [
            "********** On patient: ProstateX-0128 **********\n",
            "num_series: 1\n",
            "***** On series: 1.3.6.1.4.1.14519.5.2.1.7311.5101.191897092045160790927368035834 *****\n",
            "SeriesInstanceUID: 1.3.6.1.4.1.14519.5.2.1.7311.5101.191897092045160790927368035834\n"
          ]
        },
        {
          "output_type": "stream",
          "name": "stderr",
          "text": [
            "Downloading data: 100%|█████████▉| 5.68M/5.68M [00:02<00:00, 2.27MB/s]"
          ]
        },
        {
          "output_type": "stream",
          "name": "stdout",
          "text": [
            "FrameOfReferenceUID: 1.3.6.1.4.1.14519.5.2.1.7311.5101.101041255335839250531247904628\n",
            "Parsing -34.0393 43.4712 4.89498\n",
            "Parsing -29.2246 33.9741 10.7415\n",
            "Parsing -10.8589 36.4117 -4.54883\n",
            "3\n"
          ]
        },
        {
          "output_type": "stream",
          "name": "stderr",
          "text": [
            "\n",
            "/usr/local/lib/python3.11/dist-packages/highdicom/base.py:163: UserWarning: The string \"ProstateX-0128\" is unlikely to represent the intended person name since it contains only a single component. Construct a person name according to the format in described in https://dicom.nema.org/dicom/2013/output/chtml/part05/sect_6.2.html#sect_6.2.1.2, or, in pydicom 2.2.0 or later, use the pydicom.valuerep.PersonName.from_named_components() method to construct the person name correctly. If a single-component name is really intended, add a trailing caret character to disambiguate the name.\n",
            "  check_person_name(patient_name)\n"
          ]
        },
        {
          "output_type": "stream",
          "name": "stdout",
          "text": [
            "********** On patient: ProstateX-0129 **********\n",
            "num_series: 1\n",
            "***** On series: 1.3.6.1.4.1.14519.5.2.1.7311.5101.245315537897059083725251245833 *****\n",
            "SeriesInstanceUID: 1.3.6.1.4.1.14519.5.2.1.7311.5101.245315537897059083725251245833\n"
          ]
        },
        {
          "output_type": "stream",
          "name": "stderr",
          "text": [
            "Downloading data: 100%|█████████▉| 5.68M/5.68M [00:02<00:00, 2.26MB/s]"
          ]
        },
        {
          "output_type": "stream",
          "name": "stdout",
          "text": [
            "FrameOfReferenceUID: 1.3.6.1.4.1.14519.5.2.1.7311.5101.292500059665698797933451802364\n",
            "Parsing 42.3 39.7 20.7\n",
            "1\n"
          ]
        },
        {
          "output_type": "stream",
          "name": "stderr",
          "text": [
            "\n",
            "/usr/local/lib/python3.11/dist-packages/highdicom/base.py:163: UserWarning: The string \"ProstateX-0129\" is unlikely to represent the intended person name since it contains only a single component. Construct a person name according to the format in described in https://dicom.nema.org/dicom/2013/output/chtml/part05/sect_6.2.html#sect_6.2.1.2, or, in pydicom 2.2.0 or later, use the pydicom.valuerep.PersonName.from_named_components() method to construct the person name correctly. If a single-component name is really intended, add a trailing caret character to disambiguate the name.\n",
            "  check_person_name(patient_name)\n"
          ]
        },
        {
          "output_type": "stream",
          "name": "stdout",
          "text": [
            "********** On patient: ProstateX-0130 **********\n",
            "num_series: 1\n",
            "***** On series: 1.3.6.1.4.1.14519.5.2.1.7311.5101.119868581724901379856626647643 *****\n",
            "SeriesInstanceUID: 1.3.6.1.4.1.14519.5.2.1.7311.5101.119868581724901379856626647643\n"
          ]
        },
        {
          "output_type": "stream",
          "name": "stderr",
          "text": [
            "Downloading data: 100%|██████████| 6.87M/6.87M [00:03<00:00, 2.28MB/s]"
          ]
        },
        {
          "output_type": "stream",
          "name": "stdout",
          "text": [
            "FrameOfReferenceUID: 1.3.6.1.4.1.14519.5.2.1.7311.5101.162200623966360506901355222045\n",
            "Parsing -7.54632 40.5456 -56.3508\n",
            "Parsing 45.3834 43.6413 -38.5832\n",
            "Parsing 41.6386 32.1835 -70.5187\n",
            "3\n"
          ]
        },
        {
          "output_type": "stream",
          "name": "stderr",
          "text": [
            "\n",
            "/usr/local/lib/python3.11/dist-packages/highdicom/base.py:163: UserWarning: The string \"ProstateX-0130\" is unlikely to represent the intended person name since it contains only a single component. Construct a person name according to the format in described in https://dicom.nema.org/dicom/2013/output/chtml/part05/sect_6.2.html#sect_6.2.1.2, or, in pydicom 2.2.0 or later, use the pydicom.valuerep.PersonName.from_named_components() method to construct the person name correctly. If a single-component name is really intended, add a trailing caret character to disambiguate the name.\n",
            "  check_person_name(patient_name)\n"
          ]
        },
        {
          "output_type": "stream",
          "name": "stdout",
          "text": [
            "********** On patient: ProstateX-0131 **********\n",
            "num_series: 1\n",
            "***** On series: 1.3.6.1.4.1.14519.5.2.1.7311.5101.248400497115717620855573447327 *****\n",
            "SeriesInstanceUID: 1.3.6.1.4.1.14519.5.2.1.7311.5101.248400497115717620855573447327\n"
          ]
        },
        {
          "output_type": "stream",
          "name": "stderr",
          "text": [
            "Downloading data: 100%|█████████▉| 5.68M/5.68M [00:02<00:00, 2.26MB/s]"
          ]
        },
        {
          "output_type": "stream",
          "name": "stdout",
          "text": [
            "FrameOfReferenceUID: 1.3.6.1.4.1.14519.5.2.1.7311.5101.184999824467804660395493011387\n",
            "Parsing 51.1849 25.9864 12.9275\n",
            "Parsing 25.0155 40.2724 -5.74252\n",
            "2\n"
          ]
        },
        {
          "output_type": "stream",
          "name": "stderr",
          "text": [
            "\n",
            "/usr/local/lib/python3.11/dist-packages/highdicom/base.py:163: UserWarning: The string \"ProstateX-0131\" is unlikely to represent the intended person name since it contains only a single component. Construct a person name according to the format in described in https://dicom.nema.org/dicom/2013/output/chtml/part05/sect_6.2.html#sect_6.2.1.2, or, in pydicom 2.2.0 or later, use the pydicom.valuerep.PersonName.from_named_components() method to construct the person name correctly. If a single-component name is really intended, add a trailing caret character to disambiguate the name.\n",
            "  check_person_name(patient_name)\n"
          ]
        },
        {
          "output_type": "stream",
          "name": "stdout",
          "text": [
            "********** On patient: ProstateX-0132 **********\n",
            "num_series: 2\n",
            "***** On series: 1.3.6.1.4.1.14519.5.2.1.7311.5101.235418344526749984963370142986 *****\n",
            "SeriesInstanceUID: 1.3.6.1.4.1.14519.5.2.1.7311.5101.235418344526749984963370142986\n"
          ]
        },
        {
          "output_type": "stream",
          "name": "stderr",
          "text": [
            "Downloading data: 100%|█████████▉| 5.68M/5.68M [00:02<00:00, 2.26MB/s]"
          ]
        },
        {
          "output_type": "stream",
          "name": "stdout",
          "text": [
            "FrameOfReferenceUID: 1.3.6.1.4.1.14519.5.2.1.7311.5101.338362626893289469761068145805\n",
            "Parsing -2.44585 41.3319 33.2478\n",
            "1\n"
          ]
        },
        {
          "output_type": "stream",
          "name": "stderr",
          "text": [
            "\n",
            "/usr/local/lib/python3.11/dist-packages/highdicom/base.py:163: UserWarning: The string \"ProstateX-0132\" is unlikely to represent the intended person name since it contains only a single component. Construct a person name according to the format in described in https://dicom.nema.org/dicom/2013/output/chtml/part05/sect_6.2.html#sect_6.2.1.2, or, in pydicom 2.2.0 or later, use the pydicom.valuerep.PersonName.from_named_components() method to construct the person name correctly. If a single-component name is really intended, add a trailing caret character to disambiguate the name.\n",
            "  check_person_name(patient_name)\n"
          ]
        },
        {
          "output_type": "stream",
          "name": "stdout",
          "text": [
            "***** On series: 1.3.6.1.4.1.14519.5.2.1.7311.5101.315655107351765121146095905436 *****\n",
            "SeriesInstanceUID: 1.3.6.1.4.1.14519.5.2.1.7311.5101.315655107351765121146095905436\n"
          ]
        },
        {
          "output_type": "stream",
          "name": "stderr",
          "text": [
            "Downloading data: 100%|█████████▉| 6.88M/6.88M [00:02<00:00, 2.74MB/s]"
          ]
        },
        {
          "output_type": "stream",
          "name": "stdout",
          "text": [
            "FrameOfReferenceUID: 1.3.6.1.4.1.14519.5.2.1.7311.5101.338362626893289469761068145805\n",
            "Parsing -2.44585 41.3319 33.2478\n",
            "1\n"
          ]
        },
        {
          "output_type": "stream",
          "name": "stderr",
          "text": [
            "\n",
            "/usr/local/lib/python3.11/dist-packages/highdicom/base.py:163: UserWarning: The string \"ProstateX-0132\" is unlikely to represent the intended person name since it contains only a single component. Construct a person name according to the format in described in https://dicom.nema.org/dicom/2013/output/chtml/part05/sect_6.2.html#sect_6.2.1.2, or, in pydicom 2.2.0 or later, use the pydicom.valuerep.PersonName.from_named_components() method to construct the person name correctly. If a single-component name is really intended, add a trailing caret character to disambiguate the name.\n",
            "  check_person_name(patient_name)\n"
          ]
        },
        {
          "output_type": "stream",
          "name": "stdout",
          "text": [
            "********** On patient: ProstateX-0133 **********\n",
            "num_series: 1\n",
            "***** On series: 1.3.6.1.4.1.14519.5.2.1.7311.5101.231680841183267045628534596021 *****\n",
            "SeriesInstanceUID: 1.3.6.1.4.1.14519.5.2.1.7311.5101.231680841183267045628534596021\n"
          ]
        },
        {
          "output_type": "stream",
          "name": "stderr",
          "text": [
            "Downloading data: 100%|█████████▉| 6.28M/6.28M [00:02<00:00, 2.50MB/s]"
          ]
        },
        {
          "output_type": "stream",
          "name": "stdout",
          "text": [
            "FrameOfReferenceUID: 1.3.6.1.4.1.14519.5.2.1.7311.5101.310015309977843728418251902867\n",
            "Parsing 22.8645 28.3757 -26.314\n",
            "1\n"
          ]
        },
        {
          "output_type": "stream",
          "name": "stderr",
          "text": [
            "\n",
            "/usr/local/lib/python3.11/dist-packages/highdicom/base.py:163: UserWarning: The string \"ProstateX-0133\" is unlikely to represent the intended person name since it contains only a single component. Construct a person name according to the format in described in https://dicom.nema.org/dicom/2013/output/chtml/part05/sect_6.2.html#sect_6.2.1.2, or, in pydicom 2.2.0 or later, use the pydicom.valuerep.PersonName.from_named_components() method to construct the person name correctly. If a single-component name is really intended, add a trailing caret character to disambiguate the name.\n",
            "  check_person_name(patient_name)\n"
          ]
        },
        {
          "output_type": "stream",
          "name": "stdout",
          "text": [
            "********** On patient: ProstateX-0134 **********\n",
            "num_series: 1\n",
            "***** On series: 1.3.6.1.4.1.14519.5.2.1.7311.5101.149728379277305470281540696443 *****\n",
            "SeriesInstanceUID: 1.3.6.1.4.1.14519.5.2.1.7311.5101.149728379277305470281540696443\n"
          ]
        },
        {
          "output_type": "stream",
          "name": "stderr",
          "text": [
            "Downloading data: 100%|█████████▉| 6.28M/6.28M [00:02<00:00, 2.50MB/s]"
          ]
        },
        {
          "output_type": "stream",
          "name": "stdout",
          "text": [
            "FrameOfReferenceUID: 1.3.6.1.4.1.14519.5.2.1.7311.5101.215699880939555438747394020421\n",
            "Parsing 10.4469 54.7228 -17.7097\n",
            "Parsing 24.5865 41.3689 -11.8297\n",
            "2\n"
          ]
        },
        {
          "output_type": "stream",
          "name": "stderr",
          "text": [
            "\n",
            "/usr/local/lib/python3.11/dist-packages/highdicom/base.py:163: UserWarning: The string \"ProstateX-0134\" is unlikely to represent the intended person name since it contains only a single component. Construct a person name according to the format in described in https://dicom.nema.org/dicom/2013/output/chtml/part05/sect_6.2.html#sect_6.2.1.2, or, in pydicom 2.2.0 or later, use the pydicom.valuerep.PersonName.from_named_components() method to construct the person name correctly. If a single-component name is really intended, add a trailing caret character to disambiguate the name.\n",
            "  check_person_name(patient_name)\n"
          ]
        },
        {
          "output_type": "stream",
          "name": "stdout",
          "text": [
            "********** On patient: ProstateX-0135 **********\n",
            "num_series: 1\n",
            "***** On series: 1.3.6.1.4.1.14519.5.2.1.7311.5101.176196916281607796091267730897 *****\n",
            "SeriesInstanceUID: 1.3.6.1.4.1.14519.5.2.1.7311.5101.176196916281607796091267730897\n"
          ]
        },
        {
          "output_type": "stream",
          "name": "stderr",
          "text": [
            "Downloading data: 100%|█████████▉| 5.68M/5.68M [00:02<00:00, 2.26MB/s]"
          ]
        },
        {
          "output_type": "stream",
          "name": "stdout",
          "text": [
            "FrameOfReferenceUID: 1.3.6.1.4.1.14519.5.2.1.7311.5101.175346402153217122998999172346\n",
            "Parsing 6.18072 21.8572 -45.0361\n",
            "Parsing -5.23868 43.376 -40.263\n",
            "2\n"
          ]
        },
        {
          "output_type": "stream",
          "name": "stderr",
          "text": [
            "\n",
            "/usr/local/lib/python3.11/dist-packages/highdicom/base.py:163: UserWarning: The string \"ProstateX-0135\" is unlikely to represent the intended person name since it contains only a single component. Construct a person name according to the format in described in https://dicom.nema.org/dicom/2013/output/chtml/part05/sect_6.2.html#sect_6.2.1.2, or, in pydicom 2.2.0 or later, use the pydicom.valuerep.PersonName.from_named_components() method to construct the person name correctly. If a single-component name is really intended, add a trailing caret character to disambiguate the name.\n",
            "  check_person_name(patient_name)\n"
          ]
        },
        {
          "output_type": "stream",
          "name": "stdout",
          "text": [
            "********** On patient: ProstateX-0136 **********\n",
            "num_series: 1\n",
            "***** On series: 1.3.6.1.4.1.14519.5.2.1.7311.5101.258067469374761412596368241889 *****\n",
            "SeriesInstanceUID: 1.3.6.1.4.1.14519.5.2.1.7311.5101.258067469374761412596368241889\n"
          ]
        },
        {
          "output_type": "stream",
          "name": "stderr",
          "text": [
            "Downloading data: 100%|█████████▉| 6.28M/6.28M [00:02<00:00, 2.50MB/s]"
          ]
        },
        {
          "output_type": "stream",
          "name": "stdout",
          "text": [
            "FrameOfReferenceUID: 1.3.6.1.4.1.14519.5.2.1.7311.5101.551593086015709381003493953878\n",
            "Parsing -8.32957 19.2429 -49.2812\n",
            "Parsing 14.4499 51.6636 -62.939\n",
            "2\n"
          ]
        },
        {
          "output_type": "stream",
          "name": "stderr",
          "text": [
            "\n",
            "/usr/local/lib/python3.11/dist-packages/highdicom/base.py:163: UserWarning: The string \"ProstateX-0136\" is unlikely to represent the intended person name since it contains only a single component. Construct a person name according to the format in described in https://dicom.nema.org/dicom/2013/output/chtml/part05/sect_6.2.html#sect_6.2.1.2, or, in pydicom 2.2.0 or later, use the pydicom.valuerep.PersonName.from_named_components() method to construct the person name correctly. If a single-component name is really intended, add a trailing caret character to disambiguate the name.\n",
            "  check_person_name(patient_name)\n"
          ]
        },
        {
          "output_type": "stream",
          "name": "stdout",
          "text": [
            "********** On patient: ProstateX-0137 **********\n",
            "num_series: 1\n",
            "***** On series: 1.3.6.1.4.1.14519.5.2.1.7311.5101.159765650464968735731209309869 *****\n",
            "SeriesInstanceUID: 1.3.6.1.4.1.14519.5.2.1.7311.5101.159765650464968735731209309869\n"
          ]
        },
        {
          "output_type": "stream",
          "name": "stderr",
          "text": [
            "Downloading data: 100%|█████████▉| 6.28M/6.28M [00:02<00:00, 2.50MB/s]"
          ]
        },
        {
          "output_type": "stream",
          "name": "stdout",
          "text": [
            "FrameOfReferenceUID: 1.3.6.1.4.1.14519.5.2.1.7311.5101.133742853743140227336101221234\n",
            "Parsing -21.2239 22.444 -0.521881\n",
            "Parsing 12.6136 15.611 -8.18108\n",
            "Parsing -21.1034 25.7037 11.0412\n",
            "3\n"
          ]
        },
        {
          "output_type": "stream",
          "name": "stderr",
          "text": [
            "\n",
            "/usr/local/lib/python3.11/dist-packages/highdicom/base.py:163: UserWarning: The string \"ProstateX-0137\" is unlikely to represent the intended person name since it contains only a single component. Construct a person name according to the format in described in https://dicom.nema.org/dicom/2013/output/chtml/part05/sect_6.2.html#sect_6.2.1.2, or, in pydicom 2.2.0 or later, use the pydicom.valuerep.PersonName.from_named_components() method to construct the person name correctly. If a single-component name is really intended, add a trailing caret character to disambiguate the name.\n",
            "  check_person_name(patient_name)\n"
          ]
        },
        {
          "output_type": "stream",
          "name": "stdout",
          "text": [
            "********** On patient: ProstateX-0138 **********\n",
            "num_series: 1\n",
            "***** On series: 1.3.6.1.4.1.14519.5.2.1.7311.5101.315887077330071484443267938866 *****\n",
            "SeriesInstanceUID: 1.3.6.1.4.1.14519.5.2.1.7311.5101.315887077330071484443267938866\n"
          ]
        },
        {
          "output_type": "stream",
          "name": "stderr",
          "text": [
            "Downloading data: 100%|██████████| 6.87M/6.87M [00:02<00:00, 2.74MB/s]"
          ]
        },
        {
          "output_type": "stream",
          "name": "stdout",
          "text": [
            "FrameOfReferenceUID: 1.3.6.1.4.1.14519.5.2.1.7311.5101.207090796015353167440722250671\n",
            "Parsing -32.4804 39.1994 -26.6623\n",
            "Parsing -35.9909 8.59034 -32.5471\n",
            "Parsing -40.9569 39.6596 -17.6619\n",
            "3\n"
          ]
        },
        {
          "output_type": "stream",
          "name": "stderr",
          "text": [
            "\n",
            "/usr/local/lib/python3.11/dist-packages/highdicom/base.py:163: UserWarning: The string \"ProstateX-0138\" is unlikely to represent the intended person name since it contains only a single component. Construct a person name according to the format in described in https://dicom.nema.org/dicom/2013/output/chtml/part05/sect_6.2.html#sect_6.2.1.2, or, in pydicom 2.2.0 or later, use the pydicom.valuerep.PersonName.from_named_components() method to construct the person name correctly. If a single-component name is really intended, add a trailing caret character to disambiguate the name.\n",
            "  check_person_name(patient_name)\n"
          ]
        },
        {
          "output_type": "stream",
          "name": "stdout",
          "text": [
            "********** On patient: ProstateX-0139 **********\n",
            "num_series: 1\n",
            "***** On series: 1.3.6.1.4.1.14519.5.2.1.7311.5101.296953193106259799632836057549 *****\n",
            "SeriesInstanceUID: 1.3.6.1.4.1.14519.5.2.1.7311.5101.296953193106259799632836057549\n"
          ]
        },
        {
          "output_type": "stream",
          "name": "stderr",
          "text": [
            "Downloading data: 100%|█████████▉| 5.68M/5.68M [00:02<00:00, 2.26MB/s]\n",
            "/usr/local/lib/python3.11/dist-packages/highdicom/base.py:163: UserWarning: The string \"ProstateX-0139\" is unlikely to represent the intended person name since it contains only a single component. Construct a person name according to the format in described in https://dicom.nema.org/dicom/2013/output/chtml/part05/sect_6.2.html#sect_6.2.1.2, or, in pydicom 2.2.0 or later, use the pydicom.valuerep.PersonName.from_named_components() method to construct the person name correctly. If a single-component name is really intended, add a trailing caret character to disambiguate the name.\n",
            "  check_person_name(patient_name)\n"
          ]
        },
        {
          "output_type": "stream",
          "name": "stdout",
          "text": [
            "FrameOfReferenceUID: 1.3.6.1.4.1.14519.5.2.1.7311.5101.128919222225202432966659340685\n",
            "Parsing -11.8805 28.3133 17.5188\n",
            "Parsing -19.9039 39.6134 29.4296\n",
            "Parsing -5.79388 41.2189 18.3538\n",
            "3\n",
            "********** On patient: ProstateX-0140 **********\n",
            "num_series: 1\n",
            "***** On series: 1.3.6.1.4.1.14519.5.2.1.7311.5101.102319033451840757212229400283 *****\n",
            "SeriesInstanceUID: 1.3.6.1.4.1.14519.5.2.1.7311.5101.102319033451840757212229400283\n"
          ]
        },
        {
          "output_type": "stream",
          "name": "stderr",
          "text": [
            "Downloading data: 100%|█████████▉| 5.68M/5.68M [00:02<00:00, 2.26MB/s]"
          ]
        },
        {
          "output_type": "stream",
          "name": "stdout",
          "text": [
            "FrameOfReferenceUID: 1.3.6.1.4.1.14519.5.2.1.7311.5101.270396463530712219059413682278\n",
            "Parsing -12.396 24.3574 -39.5583\n",
            "Parsing 18.8122 40.9708 -20.4472\n",
            "2\n"
          ]
        },
        {
          "output_type": "stream",
          "name": "stderr",
          "text": [
            "\n",
            "/usr/local/lib/python3.11/dist-packages/highdicom/base.py:163: UserWarning: The string \"ProstateX-0140\" is unlikely to represent the intended person name since it contains only a single component. Construct a person name according to the format in described in https://dicom.nema.org/dicom/2013/output/chtml/part05/sect_6.2.html#sect_6.2.1.2, or, in pydicom 2.2.0 or later, use the pydicom.valuerep.PersonName.from_named_components() method to construct the person name correctly. If a single-component name is really intended, add a trailing caret character to disambiguate the name.\n",
            "  check_person_name(patient_name)\n"
          ]
        },
        {
          "output_type": "stream",
          "name": "stdout",
          "text": [
            "********** On patient: ProstateX-0141 **********\n",
            "num_series: 2\n",
            "***** On series: 1.3.6.1.4.1.14519.5.2.1.7311.5101.175571642712029852692219295919 *****\n",
            "SeriesInstanceUID: 1.3.6.1.4.1.14519.5.2.1.7311.5101.175571642712029852692219295919\n"
          ]
        },
        {
          "output_type": "stream",
          "name": "stderr",
          "text": [
            "Downloading data: 100%|█████████▉| 17.3M/17.3M [00:03<00:00, 5.75MB/s]"
          ]
        },
        {
          "output_type": "stream",
          "name": "stdout",
          "text": [
            "FrameOfReferenceUID: 1.3.6.1.4.1.14519.5.2.1.7311.5101.269757994444511544166012750599\n",
            "Parsing -4.79709 4.6308 -13.8932\n",
            "Parsing -16.9907 23.4567 -25.1546\n",
            "Parsing 6.36281 19.9978 -21.5098\n",
            "3\n"
          ]
        },
        {
          "output_type": "stream",
          "name": "stderr",
          "text": [
            "\n",
            "/usr/local/lib/python3.11/dist-packages/highdicom/base.py:163: UserWarning: The string \"ProstateX-0141\" is unlikely to represent the intended person name since it contains only a single component. Construct a person name according to the format in described in https://dicom.nema.org/dicom/2013/output/chtml/part05/sect_6.2.html#sect_6.2.1.2, or, in pydicom 2.2.0 or later, use the pydicom.valuerep.PersonName.from_named_components() method to construct the person name correctly. If a single-component name is really intended, add a trailing caret character to disambiguate the name.\n",
            "  check_person_name(patient_name)\n"
          ]
        },
        {
          "output_type": "stream",
          "name": "stdout",
          "text": [
            "***** On series: 1.3.6.1.4.1.14519.5.2.1.7311.5101.252185783543855817242399041825 *****\n",
            "SeriesInstanceUID: 1.3.6.1.4.1.14519.5.2.1.7311.5101.252185783543855817242399041825\n"
          ]
        },
        {
          "output_type": "stream",
          "name": "stderr",
          "text": [
            "Downloading data: 100%|█████████▉| 6.28M/6.28M [00:03<00:00, 2.09MB/s]"
          ]
        },
        {
          "output_type": "stream",
          "name": "stdout",
          "text": [
            "FrameOfReferenceUID: 1.3.6.1.4.1.14519.5.2.1.7311.5101.269757994444511544166012750599\n",
            "Parsing -4.79709 4.6308 -13.8932\n",
            "Parsing -16.9907 23.4567 -25.1546\n",
            "Parsing 6.36281 19.9978 -21.5098\n",
            "3\n"
          ]
        },
        {
          "output_type": "stream",
          "name": "stderr",
          "text": [
            "\n",
            "/usr/local/lib/python3.11/dist-packages/highdicom/base.py:163: UserWarning: The string \"ProstateX-0141\" is unlikely to represent the intended person name since it contains only a single component. Construct a person name according to the format in described in https://dicom.nema.org/dicom/2013/output/chtml/part05/sect_6.2.html#sect_6.2.1.2, or, in pydicom 2.2.0 or later, use the pydicom.valuerep.PersonName.from_named_components() method to construct the person name correctly. If a single-component name is really intended, add a trailing caret character to disambiguate the name.\n",
            "  check_person_name(patient_name)\n"
          ]
        },
        {
          "output_type": "stream",
          "name": "stdout",
          "text": [
            "********** On patient: ProstateX-0142 **********\n",
            "num_series: 1\n",
            "***** On series: 1.3.6.1.4.1.14519.5.2.1.7311.5101.236967836312224538274213979128 *****\n",
            "SeriesInstanceUID: 1.3.6.1.4.1.14519.5.2.1.7311.5101.236967836312224538274213979128\n"
          ]
        },
        {
          "output_type": "stream",
          "name": "stderr",
          "text": [
            "Downloading data: 100%|█████████▉| 6.28M/6.28M [00:02<00:00, 2.50MB/s]"
          ]
        },
        {
          "output_type": "stream",
          "name": "stdout",
          "text": [
            "FrameOfReferenceUID: 1.3.6.1.4.1.14519.5.2.1.7311.5101.130725294919579641762006874131\n",
            "Parsing 32.1001 22.5752 25.9394\n",
            "Parsing 52.9462 53.9049 39.3076\n",
            "Parsing 21.5867 12.2297 48.2092\n",
            "3\n"
          ]
        },
        {
          "output_type": "stream",
          "name": "stderr",
          "text": [
            "\n",
            "/usr/local/lib/python3.11/dist-packages/highdicom/base.py:163: UserWarning: The string \"ProstateX-0142\" is unlikely to represent the intended person name since it contains only a single component. Construct a person name according to the format in described in https://dicom.nema.org/dicom/2013/output/chtml/part05/sect_6.2.html#sect_6.2.1.2, or, in pydicom 2.2.0 or later, use the pydicom.valuerep.PersonName.from_named_components() method to construct the person name correctly. If a single-component name is really intended, add a trailing caret character to disambiguate the name.\n",
            "  check_person_name(patient_name)\n"
          ]
        },
        {
          "output_type": "stream",
          "name": "stdout",
          "text": [
            "********** On patient: ProstateX-0143 **********\n",
            "num_series: 1\n",
            "***** On series: 1.3.6.1.4.1.14519.5.2.1.7311.5101.284937074993270071304960321277 *****\n",
            "SeriesInstanceUID: 1.3.6.1.4.1.14519.5.2.1.7311.5101.284937074993270071304960321277\n"
          ]
        },
        {
          "output_type": "stream",
          "name": "stderr",
          "text": [
            "Downloading data: 100%|█████████▉| 5.68M/5.68M [00:03<00:00, 1.89MB/s]"
          ]
        },
        {
          "output_type": "stream",
          "name": "stdout",
          "text": [
            "FrameOfReferenceUID: 1.3.6.1.4.1.14519.5.2.1.7311.5101.242767528590896714429539394398\n",
            "Parsing -20.0928 14.9006 23.5027\n",
            "1\n"
          ]
        },
        {
          "output_type": "stream",
          "name": "stderr",
          "text": [
            "\n",
            "/usr/local/lib/python3.11/dist-packages/highdicom/base.py:163: UserWarning: The string \"ProstateX-0143\" is unlikely to represent the intended person name since it contains only a single component. Construct a person name according to the format in described in https://dicom.nema.org/dicom/2013/output/chtml/part05/sect_6.2.html#sect_6.2.1.2, or, in pydicom 2.2.0 or later, use the pydicom.valuerep.PersonName.from_named_components() method to construct the person name correctly. If a single-component name is really intended, add a trailing caret character to disambiguate the name.\n",
            "  check_person_name(patient_name)\n"
          ]
        },
        {
          "output_type": "stream",
          "name": "stdout",
          "text": [
            "********** On patient: ProstateX-0144 **********\n",
            "num_series: 1\n",
            "***** On series: 1.3.6.1.4.1.14519.5.2.1.7311.5101.813054628707353396925223754592 *****\n",
            "SeriesInstanceUID: 1.3.6.1.4.1.14519.5.2.1.7311.5101.813054628707353396925223754592\n"
          ]
        },
        {
          "output_type": "stream",
          "name": "stderr",
          "text": [
            "Downloading data: 100%|█████████▉| 6.28M/6.28M [00:02<00:00, 2.50MB/s]"
          ]
        },
        {
          "output_type": "stream",
          "name": "stdout",
          "text": [
            "FrameOfReferenceUID: 1.3.6.1.4.1.14519.5.2.1.7311.5101.310944031198437575272141204175\n",
            "Parsing -8.56937 40.4973 -41.5161\n",
            "Parsing 17.8007 33.3877 -43.7495\n",
            "Parsing 0.560626 31.9222 -58.6788\n",
            "3\n"
          ]
        },
        {
          "output_type": "stream",
          "name": "stderr",
          "text": [
            "\n",
            "/usr/local/lib/python3.11/dist-packages/highdicom/base.py:163: UserWarning: The string \"ProstateX-0144\" is unlikely to represent the intended person name since it contains only a single component. Construct a person name according to the format in described in https://dicom.nema.org/dicom/2013/output/chtml/part05/sect_6.2.html#sect_6.2.1.2, or, in pydicom 2.2.0 or later, use the pydicom.valuerep.PersonName.from_named_components() method to construct the person name correctly. If a single-component name is really intended, add a trailing caret character to disambiguate the name.\n",
            "  check_person_name(patient_name)\n"
          ]
        },
        {
          "output_type": "stream",
          "name": "stdout",
          "text": [
            "********** On patient: ProstateX-0145 **********\n",
            "num_series: 1\n",
            "***** On series: 1.3.6.1.4.1.14519.5.2.1.7311.5101.200709810046761326061245861709 *****\n",
            "SeriesInstanceUID: 1.3.6.1.4.1.14519.5.2.1.7311.5101.200709810046761326061245861709\n"
          ]
        },
        {
          "output_type": "stream",
          "name": "stderr",
          "text": [
            "Downloading data: 100%|█████████▉| 6.28M/6.28M [00:03<00:00, 2.09MB/s]"
          ]
        },
        {
          "output_type": "stream",
          "name": "stdout",
          "text": [
            "FrameOfReferenceUID: 1.3.6.1.4.1.14519.5.2.1.7311.5101.285550168925322505264269384518\n",
            "Parsing 9.6005 17.4343 65.7892\n",
            "1\n"
          ]
        },
        {
          "output_type": "stream",
          "name": "stderr",
          "text": [
            "\n",
            "/usr/local/lib/python3.11/dist-packages/highdicom/base.py:163: UserWarning: The string \"ProstateX-0145\" is unlikely to represent the intended person name since it contains only a single component. Construct a person name according to the format in described in https://dicom.nema.org/dicom/2013/output/chtml/part05/sect_6.2.html#sect_6.2.1.2, or, in pydicom 2.2.0 or later, use the pydicom.valuerep.PersonName.from_named_components() method to construct the person name correctly. If a single-component name is really intended, add a trailing caret character to disambiguate the name.\n",
            "  check_person_name(patient_name)\n"
          ]
        },
        {
          "output_type": "stream",
          "name": "stdout",
          "text": [
            "********** On patient: ProstateX-0146 **********\n",
            "num_series: 1\n",
            "***** On series: 1.3.6.1.4.1.14519.5.2.1.7311.5101.374654359343007468165376476067 *****\n",
            "SeriesInstanceUID: 1.3.6.1.4.1.14519.5.2.1.7311.5101.374654359343007468165376476067\n"
          ]
        },
        {
          "output_type": "stream",
          "name": "stderr",
          "text": [
            "Downloading data: 100%|█████████▉| 6.28M/6.28M [00:02<00:00, 2.50MB/s]"
          ]
        },
        {
          "output_type": "stream",
          "name": "stdout",
          "text": [
            "FrameOfReferenceUID: 1.3.6.1.4.1.14519.5.2.1.7311.5101.206956597686174949059464225856\n",
            "Parsing -6.08591 30.5233 22.132\n",
            "1\n"
          ]
        },
        {
          "output_type": "stream",
          "name": "stderr",
          "text": [
            "\n",
            "/usr/local/lib/python3.11/dist-packages/highdicom/base.py:163: UserWarning: The string \"ProstateX-0146\" is unlikely to represent the intended person name since it contains only a single component. Construct a person name according to the format in described in https://dicom.nema.org/dicom/2013/output/chtml/part05/sect_6.2.html#sect_6.2.1.2, or, in pydicom 2.2.0 or later, use the pydicom.valuerep.PersonName.from_named_components() method to construct the person name correctly. If a single-component name is really intended, add a trailing caret character to disambiguate the name.\n",
            "  check_person_name(patient_name)\n"
          ]
        },
        {
          "output_type": "stream",
          "name": "stdout",
          "text": [
            "********** On patient: ProstateX-0147 **********\n",
            "num_series: 2\n",
            "***** On series: 1.3.6.1.4.1.14519.5.2.1.7311.5101.167155555082118981142239962860 *****\n",
            "SeriesInstanceUID: 1.3.6.1.4.1.14519.5.2.1.7311.5101.167155555082118981142239962860\n"
          ]
        },
        {
          "output_type": "stream",
          "name": "stderr",
          "text": [
            "Downloading data: 100%|█████████▉| 5.68M/5.68M [00:03<00:00, 1.88MB/s]"
          ]
        },
        {
          "output_type": "stream",
          "name": "stdout",
          "text": [
            "FrameOfReferenceUID: 1.3.6.1.4.1.14519.5.2.1.7311.5101.543116483452683061188944893269\n",
            "Parsing -33.4804 41.3495 -25.21\n",
            "Parsing -12.0507 11.3514 -16.3687\n",
            "2\n"
          ]
        },
        {
          "output_type": "stream",
          "name": "stderr",
          "text": [
            "\n",
            "/usr/local/lib/python3.11/dist-packages/highdicom/base.py:163: UserWarning: The string \"ProstateX-0147\" is unlikely to represent the intended person name since it contains only a single component. Construct a person name according to the format in described in https://dicom.nema.org/dicom/2013/output/chtml/part05/sect_6.2.html#sect_6.2.1.2, or, in pydicom 2.2.0 or later, use the pydicom.valuerep.PersonName.from_named_components() method to construct the person name correctly. If a single-component name is really intended, add a trailing caret character to disambiguate the name.\n",
            "  check_person_name(patient_name)\n"
          ]
        },
        {
          "output_type": "stream",
          "name": "stdout",
          "text": [
            "***** On series: 1.3.6.1.4.1.14519.5.2.1.7311.5101.234432147221188666883470048099 *****\n",
            "SeriesInstanceUID: 1.3.6.1.4.1.14519.5.2.1.7311.5101.234432147221188666883470048099\n"
          ]
        },
        {
          "output_type": "stream",
          "name": "stderr",
          "text": [
            "Downloading data: 100%|█████████▉| 5.68M/5.68M [00:02<00:00, 2.27MB/s]"
          ]
        },
        {
          "output_type": "stream",
          "name": "stdout",
          "text": [
            "FrameOfReferenceUID: 1.3.6.1.4.1.14519.5.2.1.7311.5101.543116483452683061188944893269\n",
            "Parsing -33.4804 41.3495 -25.21\n",
            "Parsing -12.0507 11.3514 -16.3687\n",
            "2\n"
          ]
        },
        {
          "output_type": "stream",
          "name": "stderr",
          "text": [
            "\n",
            "/usr/local/lib/python3.11/dist-packages/highdicom/base.py:163: UserWarning: The string \"ProstateX-0147\" is unlikely to represent the intended person name since it contains only a single component. Construct a person name according to the format in described in https://dicom.nema.org/dicom/2013/output/chtml/part05/sect_6.2.html#sect_6.2.1.2, or, in pydicom 2.2.0 or later, use the pydicom.valuerep.PersonName.from_named_components() method to construct the person name correctly. If a single-component name is really intended, add a trailing caret character to disambiguate the name.\n",
            "  check_person_name(patient_name)\n"
          ]
        },
        {
          "output_type": "stream",
          "name": "stdout",
          "text": [
            "********** On patient: ProstateX-0148 **********\n",
            "num_series: 2\n",
            "***** On series: 1.3.6.1.4.1.14519.5.2.1.7311.5101.290824483776452360867551034347 *****\n",
            "SeriesInstanceUID: 1.3.6.1.4.1.14519.5.2.1.7311.5101.290824483776452360867551034347\n"
          ]
        },
        {
          "output_type": "stream",
          "name": "stderr",
          "text": [
            "Downloading data: 100%|█████████▉| 5.68M/5.68M [00:02<00:00, 2.26MB/s]"
          ]
        },
        {
          "output_type": "stream",
          "name": "stdout",
          "text": [
            "FrameOfReferenceUID: 1.3.6.1.4.1.14519.5.2.1.7311.5101.269836234966646141568835572744\n",
            "Parsing 13.2424 27.3962 10.5819\n",
            "Parsing -12.7642 49.4502 11.1654\n",
            "2\n"
          ]
        },
        {
          "output_type": "stream",
          "name": "stderr",
          "text": [
            "\n",
            "/usr/local/lib/python3.11/dist-packages/highdicom/base.py:163: UserWarning: The string \"ProstateX-0148\" is unlikely to represent the intended person name since it contains only a single component. Construct a person name according to the format in described in https://dicom.nema.org/dicom/2013/output/chtml/part05/sect_6.2.html#sect_6.2.1.2, or, in pydicom 2.2.0 or later, use the pydicom.valuerep.PersonName.from_named_components() method to construct the person name correctly. If a single-component name is really intended, add a trailing caret character to disambiguate the name.\n",
            "  check_person_name(patient_name)\n"
          ]
        },
        {
          "output_type": "stream",
          "name": "stdout",
          "text": [
            "***** On series: 1.3.6.1.4.1.14519.5.2.1.7311.5101.550991824936292327323304064911 *****\n",
            "SeriesInstanceUID: 1.3.6.1.4.1.14519.5.2.1.7311.5101.550991824936292327323304064911\n"
          ]
        },
        {
          "output_type": "stream",
          "name": "stderr",
          "text": [
            "Downloading data: 100%|█████████▉| 6.28M/6.28M [00:02<00:00, 2.50MB/s]"
          ]
        },
        {
          "output_type": "stream",
          "name": "stdout",
          "text": [
            "FrameOfReferenceUID: 1.3.6.1.4.1.14519.5.2.1.7311.5101.269836234966646141568835572744\n",
            "Parsing 13.2424 27.3962 10.5819\n",
            "Parsing -12.7642 49.4502 11.1654\n",
            "2\n"
          ]
        },
        {
          "output_type": "stream",
          "name": "stderr",
          "text": [
            "\n",
            "/usr/local/lib/python3.11/dist-packages/highdicom/base.py:163: UserWarning: The string \"ProstateX-0148\" is unlikely to represent the intended person name since it contains only a single component. Construct a person name according to the format in described in https://dicom.nema.org/dicom/2013/output/chtml/part05/sect_6.2.html#sect_6.2.1.2, or, in pydicom 2.2.0 or later, use the pydicom.valuerep.PersonName.from_named_components() method to construct the person name correctly. If a single-component name is really intended, add a trailing caret character to disambiguate the name.\n",
            "  check_person_name(patient_name)\n"
          ]
        },
        {
          "output_type": "stream",
          "name": "stdout",
          "text": [
            "********** On patient: ProstateX-0149 **********\n",
            "num_series: 2\n",
            "***** On series: 1.3.6.1.4.1.14519.5.2.1.7311.5101.235313222921237121866993583985 *****\n",
            "SeriesInstanceUID: 1.3.6.1.4.1.14519.5.2.1.7311.5101.235313222921237121866993583985\n"
          ]
        },
        {
          "output_type": "stream",
          "name": "stderr",
          "text": [
            "Downloading data: 100%|█████████▉| 5.68M/5.68M [00:02<00:00, 2.26MB/s]"
          ]
        },
        {
          "output_type": "stream",
          "name": "stdout",
          "text": [
            "FrameOfReferenceUID: 1.3.6.1.4.1.14519.5.2.1.7311.5101.274442209838857962272821764734\n",
            "Parsing 19.0337 63.5321 14.5746\n",
            "Parsing 3.5212 62.8315 14.8159\n",
            "2\n"
          ]
        },
        {
          "output_type": "stream",
          "name": "stderr",
          "text": [
            "\n",
            "/usr/local/lib/python3.11/dist-packages/highdicom/base.py:163: UserWarning: The string \"ProstateX-0149\" is unlikely to represent the intended person name since it contains only a single component. Construct a person name according to the format in described in https://dicom.nema.org/dicom/2013/output/chtml/part05/sect_6.2.html#sect_6.2.1.2, or, in pydicom 2.2.0 or later, use the pydicom.valuerep.PersonName.from_named_components() method to construct the person name correctly. If a single-component name is really intended, add a trailing caret character to disambiguate the name.\n",
            "  check_person_name(patient_name)\n"
          ]
        },
        {
          "output_type": "stream",
          "name": "stdout",
          "text": [
            "***** On series: 1.3.6.1.4.1.14519.5.2.1.7311.5101.314531141765998042138646857840 *****\n",
            "SeriesInstanceUID: 1.3.6.1.4.1.14519.5.2.1.7311.5101.314531141765998042138646857840\n"
          ]
        },
        {
          "output_type": "stream",
          "name": "stderr",
          "text": [
            "Downloading data: 100%|█████████▉| 5.68M/5.68M [00:02<00:00, 2.26MB/s]"
          ]
        },
        {
          "output_type": "stream",
          "name": "stdout",
          "text": [
            "FrameOfReferenceUID: 1.3.6.1.4.1.14519.5.2.1.7311.5101.274442209838857962272821764734\n",
            "Parsing 19.0337 63.5321 14.5746\n",
            "Parsing 3.5212 62.8315 14.8159\n",
            "2\n"
          ]
        },
        {
          "output_type": "stream",
          "name": "stderr",
          "text": [
            "\n",
            "/usr/local/lib/python3.11/dist-packages/highdicom/base.py:163: UserWarning: The string \"ProstateX-0149\" is unlikely to represent the intended person name since it contains only a single component. Construct a person name according to the format in described in https://dicom.nema.org/dicom/2013/output/chtml/part05/sect_6.2.html#sect_6.2.1.2, or, in pydicom 2.2.0 or later, use the pydicom.valuerep.PersonName.from_named_components() method to construct the person name correctly. If a single-component name is really intended, add a trailing caret character to disambiguate the name.\n",
            "  check_person_name(patient_name)\n"
          ]
        },
        {
          "output_type": "stream",
          "name": "stdout",
          "text": [
            "********** On patient: ProstateX-0150 **********\n",
            "num_series: 1\n",
            "***** On series: 1.3.6.1.4.1.14519.5.2.1.7311.5101.175570448971296597162147241386 *****\n",
            "SeriesInstanceUID: 1.3.6.1.4.1.14519.5.2.1.7311.5101.175570448971296597162147241386\n"
          ]
        },
        {
          "output_type": "stream",
          "name": "stderr",
          "text": [
            "Downloading data: 100%|██████████| 5.68M/5.68M [00:02<00:00, 2.26MB/s]"
          ]
        },
        {
          "output_type": "stream",
          "name": "stdout",
          "text": [
            "FrameOfReferenceUID: 1.3.6.1.4.1.14519.5.2.1.7311.5101.309097001538800839641421362249\n",
            "Parsing -9.84748672851562 11.7404424609375 30.3737125732422\n",
            "Parsing 22.876 15.5785 30.8967\n",
            "2\n"
          ]
        },
        {
          "output_type": "stream",
          "name": "stderr",
          "text": [
            "\n",
            "/usr/local/lib/python3.11/dist-packages/highdicom/base.py:163: UserWarning: The string \"ProstateX-0150\" is unlikely to represent the intended person name since it contains only a single component. Construct a person name according to the format in described in https://dicom.nema.org/dicom/2013/output/chtml/part05/sect_6.2.html#sect_6.2.1.2, or, in pydicom 2.2.0 or later, use the pydicom.valuerep.PersonName.from_named_components() method to construct the person name correctly. If a single-component name is really intended, add a trailing caret character to disambiguate the name.\n",
            "  check_person_name(patient_name)\n"
          ]
        },
        {
          "output_type": "stream",
          "name": "stdout",
          "text": [
            "********** On patient: ProstateX-0151 **********\n",
            "num_series: 1\n",
            "***** On series: 1.3.6.1.4.1.14519.5.2.1.7311.5101.350955436858436674161041696224 *****\n",
            "SeriesInstanceUID: 1.3.6.1.4.1.14519.5.2.1.7311.5101.350955436858436674161041696224\n"
          ]
        },
        {
          "output_type": "stream",
          "name": "stderr",
          "text": [
            "Downloading data: 100%|██████████| 6.87M/6.87M [00:02<00:00, 2.74MB/s]"
          ]
        },
        {
          "output_type": "stream",
          "name": "stdout",
          "text": [
            "FrameOfReferenceUID: 1.3.6.1.4.1.14519.5.2.1.7311.5101.281640294331150664767468208942\n",
            "Parsing -19.8161 35.8201 -65.2786\n",
            "Parsing -3.08292 13.8686 -47.12\n",
            "2\n"
          ]
        },
        {
          "output_type": "stream",
          "name": "stderr",
          "text": [
            "\n",
            "/usr/local/lib/python3.11/dist-packages/highdicom/base.py:163: UserWarning: The string \"ProstateX-0151\" is unlikely to represent the intended person name since it contains only a single component. Construct a person name according to the format in described in https://dicom.nema.org/dicom/2013/output/chtml/part05/sect_6.2.html#sect_6.2.1.2, or, in pydicom 2.2.0 or later, use the pydicom.valuerep.PersonName.from_named_components() method to construct the person name correctly. If a single-component name is really intended, add a trailing caret character to disambiguate the name.\n",
            "  check_person_name(patient_name)\n"
          ]
        },
        {
          "output_type": "stream",
          "name": "stdout",
          "text": [
            "********** On patient: ProstateX-0152 **********\n",
            "num_series: 2\n",
            "***** On series: 1.3.6.1.4.1.14519.5.2.1.7311.5101.187515038079598276430377093280 *****\n",
            "SeriesInstanceUID: 1.3.6.1.4.1.14519.5.2.1.7311.5101.187515038079598276430377093280\n"
          ]
        },
        {
          "output_type": "stream",
          "name": "stderr",
          "text": [
            "Downloading data: 100%|█████████▉| 3.97M/3.97M [00:02<00:00, 1.58MB/s]"
          ]
        },
        {
          "output_type": "stream",
          "name": "stdout",
          "text": [
            "FrameOfReferenceUID: 1.3.6.1.4.1.14519.5.2.1.7311.5101.282785740000443487648832079973\n",
            "Parsing 4.73273 22.4072 -77.2909\n",
            "1\n"
          ]
        },
        {
          "output_type": "stream",
          "name": "stderr",
          "text": [
            "\n",
            "/usr/local/lib/python3.11/dist-packages/highdicom/base.py:163: UserWarning: The string \"ProstateX-0152\" is unlikely to represent the intended person name since it contains only a single component. Construct a person name according to the format in described in https://dicom.nema.org/dicom/2013/output/chtml/part05/sect_6.2.html#sect_6.2.1.2, or, in pydicom 2.2.0 or later, use the pydicom.valuerep.PersonName.from_named_components() method to construct the person name correctly. If a single-component name is really intended, add a trailing caret character to disambiguate the name.\n",
            "  check_person_name(patient_name)\n"
          ]
        },
        {
          "output_type": "stream",
          "name": "stdout",
          "text": [
            "***** On series: 1.3.6.1.4.1.14519.5.2.1.7311.5101.332062863080236096553787441517 *****\n",
            "SeriesInstanceUID: 1.3.6.1.4.1.14519.5.2.1.7311.5101.332062863080236096553787441517\n"
          ]
        },
        {
          "output_type": "stream",
          "name": "stderr",
          "text": [
            "Downloading data: 100%|█████████▉| 5.68M/5.68M [00:02<00:00, 2.26MB/s]"
          ]
        },
        {
          "output_type": "stream",
          "name": "stdout",
          "text": [
            "FrameOfReferenceUID: 1.3.6.1.4.1.14519.5.2.1.7311.5101.282785740000443487648832079973\n",
            "Parsing 4.73273 22.4072 -77.2909\n",
            "1\n"
          ]
        },
        {
          "output_type": "stream",
          "name": "stderr",
          "text": [
            "\n",
            "/usr/local/lib/python3.11/dist-packages/highdicom/base.py:163: UserWarning: The string \"ProstateX-0152\" is unlikely to represent the intended person name since it contains only a single component. Construct a person name according to the format in described in https://dicom.nema.org/dicom/2013/output/chtml/part05/sect_6.2.html#sect_6.2.1.2, or, in pydicom 2.2.0 or later, use the pydicom.valuerep.PersonName.from_named_components() method to construct the person name correctly. If a single-component name is really intended, add a trailing caret character to disambiguate the name.\n",
            "  check_person_name(patient_name)\n"
          ]
        },
        {
          "output_type": "stream",
          "name": "stdout",
          "text": [
            "********** On patient: ProstateX-0153 **********\n",
            "num_series: 2\n",
            "***** On series: 1.3.6.1.4.1.14519.5.2.1.7311.5101.108303752086745663024948060973 *****\n",
            "SeriesInstanceUID: 1.3.6.1.4.1.14519.5.2.1.7311.5101.108303752086745663024948060973\n"
          ]
        },
        {
          "output_type": "stream",
          "name": "stderr",
          "text": [
            "Downloading data: 100%|█████████▉| 6.88M/6.88M [00:02<00:00, 2.74MB/s]"
          ]
        },
        {
          "output_type": "stream",
          "name": "stdout",
          "text": [
            "FrameOfReferenceUID: 1.3.6.1.4.1.14519.5.2.1.7311.5101.112279611709677197814366837341\n",
            "Parsing 42.0601 33.9525 17.631\n",
            "Parsing 20.2033 34.6238 8.23929\n",
            "Parsing 38.1052 61.5407 6.04978\n",
            "3\n"
          ]
        },
        {
          "output_type": "stream",
          "name": "stderr",
          "text": [
            "\n",
            "/usr/local/lib/python3.11/dist-packages/highdicom/base.py:163: UserWarning: The string \"ProstateX-0153\" is unlikely to represent the intended person name since it contains only a single component. Construct a person name according to the format in described in https://dicom.nema.org/dicom/2013/output/chtml/part05/sect_6.2.html#sect_6.2.1.2, or, in pydicom 2.2.0 or later, use the pydicom.valuerep.PersonName.from_named_components() method to construct the person name correctly. If a single-component name is really intended, add a trailing caret character to disambiguate the name.\n",
            "  check_person_name(patient_name)\n"
          ]
        },
        {
          "output_type": "stream",
          "name": "stdout",
          "text": [
            "***** On series: 1.3.6.1.4.1.14519.5.2.1.7311.5101.230713550588238324062333085955 *****\n",
            "SeriesInstanceUID: 1.3.6.1.4.1.14519.5.2.1.7311.5101.230713550588238324062333085955\n"
          ]
        },
        {
          "output_type": "stream",
          "name": "stderr",
          "text": [
            "Downloading data: 100%|█████████▉| 6.88M/6.88M [00:02<00:00, 2.74MB/s]"
          ]
        },
        {
          "output_type": "stream",
          "name": "stdout",
          "text": [
            "FrameOfReferenceUID: 1.3.6.1.4.1.14519.5.2.1.7311.5101.112279611709677197814366837341\n",
            "Parsing 42.0601 33.9525 17.631\n",
            "Parsing 20.2033 34.6238 8.23929\n",
            "Parsing 38.1052 61.5407 6.04978\n",
            "3\n"
          ]
        },
        {
          "output_type": "stream",
          "name": "stderr",
          "text": [
            "\n",
            "/usr/local/lib/python3.11/dist-packages/highdicom/base.py:163: UserWarning: The string \"ProstateX-0153\" is unlikely to represent the intended person name since it contains only a single component. Construct a person name according to the format in described in https://dicom.nema.org/dicom/2013/output/chtml/part05/sect_6.2.html#sect_6.2.1.2, or, in pydicom 2.2.0 or later, use the pydicom.valuerep.PersonName.from_named_components() method to construct the person name correctly. If a single-component name is really intended, add a trailing caret character to disambiguate the name.\n",
            "  check_person_name(patient_name)\n"
          ]
        },
        {
          "output_type": "stream",
          "name": "stdout",
          "text": [
            "********** On patient: ProstateX-0154 **********\n",
            "num_series: 1\n",
            "***** On series: 1.3.6.1.4.1.14519.5.2.1.7311.5101.343916378102532535787148689111 *****\n",
            "SeriesInstanceUID: 1.3.6.1.4.1.14519.5.2.1.7311.5101.343916378102532535787148689111\n"
          ]
        },
        {
          "output_type": "stream",
          "name": "stderr",
          "text": [
            "Downloading data: 100%|█████████▉| 6.28M/6.28M [00:02<00:00, 2.50MB/s]"
          ]
        },
        {
          "output_type": "stream",
          "name": "stdout",
          "text": [
            "FrameOfReferenceUID: 1.3.6.1.4.1.14519.5.2.1.7311.5101.174399336827736544280126693400\n",
            "Parsing -45.5195 53.9119 33.6642\n",
            "Parsing -42.3586 50.6483 73.0089\n",
            "2\n"
          ]
        },
        {
          "output_type": "stream",
          "name": "stderr",
          "text": [
            "\n",
            "/usr/local/lib/python3.11/dist-packages/highdicom/base.py:163: UserWarning: The string \"ProstateX-0154\" is unlikely to represent the intended person name since it contains only a single component. Construct a person name according to the format in described in https://dicom.nema.org/dicom/2013/output/chtml/part05/sect_6.2.html#sect_6.2.1.2, or, in pydicom 2.2.0 or later, use the pydicom.valuerep.PersonName.from_named_components() method to construct the person name correctly. If a single-component name is really intended, add a trailing caret character to disambiguate the name.\n",
            "  check_person_name(patient_name)\n"
          ]
        },
        {
          "output_type": "stream",
          "name": "stdout",
          "text": [
            "********** On patient: ProstateX-0155 **********\n",
            "num_series: 2\n",
            "***** On series: 1.3.6.1.4.1.14519.5.2.1.7311.5101.117006719340609137078363795861 *****\n",
            "SeriesInstanceUID: 1.3.6.1.4.1.14519.5.2.1.7311.5101.117006719340609137078363795861\n"
          ]
        },
        {
          "output_type": "stream",
          "name": "stderr",
          "text": [
            "Downloading data: 100%|█████████▉| 5.68M/5.68M [00:02<00:00, 2.26MB/s]"
          ]
        },
        {
          "output_type": "stream",
          "name": "stdout",
          "text": [
            "FrameOfReferenceUID: 1.3.6.1.4.1.14519.5.2.1.7311.5101.222697693735507557141643728092\n",
            "Parsing -3.93688 34.2726 -50.8292\n",
            "1\n"
          ]
        },
        {
          "output_type": "stream",
          "name": "stderr",
          "text": [
            "\n",
            "/usr/local/lib/python3.11/dist-packages/highdicom/base.py:163: UserWarning: The string \"ProstateX-0155\" is unlikely to represent the intended person name since it contains only a single component. Construct a person name according to the format in described in https://dicom.nema.org/dicom/2013/output/chtml/part05/sect_6.2.html#sect_6.2.1.2, or, in pydicom 2.2.0 or later, use the pydicom.valuerep.PersonName.from_named_components() method to construct the person name correctly. If a single-component name is really intended, add a trailing caret character to disambiguate the name.\n",
            "  check_person_name(patient_name)\n"
          ]
        },
        {
          "output_type": "stream",
          "name": "stdout",
          "text": [
            "***** On series: 1.3.6.1.4.1.14519.5.2.1.7311.5101.803910368736625694091372932002 *****\n",
            "SeriesInstanceUID: 1.3.6.1.4.1.14519.5.2.1.7311.5101.803910368736625694091372932002\n"
          ]
        },
        {
          "output_type": "stream",
          "name": "stderr",
          "text": [
            "Downloading data: 100%|█████████▉| 5.68M/5.68M [00:02<00:00, 2.26MB/s]"
          ]
        },
        {
          "output_type": "stream",
          "name": "stdout",
          "text": [
            "FrameOfReferenceUID: 1.3.6.1.4.1.14519.5.2.1.7311.5101.222697693735507557141643728092\n",
            "Parsing -3.93688 34.2726 -50.8292\n",
            "1\n"
          ]
        },
        {
          "output_type": "stream",
          "name": "stderr",
          "text": [
            "\n",
            "/usr/local/lib/python3.11/dist-packages/highdicom/base.py:163: UserWarning: The string \"ProstateX-0155\" is unlikely to represent the intended person name since it contains only a single component. Construct a person name according to the format in described in https://dicom.nema.org/dicom/2013/output/chtml/part05/sect_6.2.html#sect_6.2.1.2, or, in pydicom 2.2.0 or later, use the pydicom.valuerep.PersonName.from_named_components() method to construct the person name correctly. If a single-component name is really intended, add a trailing caret character to disambiguate the name.\n",
            "  check_person_name(patient_name)\n"
          ]
        },
        {
          "output_type": "stream",
          "name": "stdout",
          "text": [
            "********** On patient: ProstateX-0156 **********\n",
            "num_series: 1\n",
            "***** On series: 1.3.6.1.4.1.14519.5.2.1.7311.5101.785303327607349403635620326985 *****\n",
            "SeriesInstanceUID: 1.3.6.1.4.1.14519.5.2.1.7311.5101.785303327607349403635620326985\n"
          ]
        },
        {
          "output_type": "stream",
          "name": "stderr",
          "text": [
            "Downloading data: 100%|█████████▉| 6.28M/6.28M [00:02<00:00, 2.50MB/s]"
          ]
        },
        {
          "output_type": "stream",
          "name": "stdout",
          "text": [
            "FrameOfReferenceUID: 1.3.6.1.4.1.14519.5.2.1.7311.5101.107336064994771956667695332232\n",
            "Parsing 22.741 57.6098 -9.1716\n",
            "1\n"
          ]
        },
        {
          "output_type": "stream",
          "name": "stderr",
          "text": [
            "\n",
            "/usr/local/lib/python3.11/dist-packages/highdicom/base.py:163: UserWarning: The string \"ProstateX-0156\" is unlikely to represent the intended person name since it contains only a single component. Construct a person name according to the format in described in https://dicom.nema.org/dicom/2013/output/chtml/part05/sect_6.2.html#sect_6.2.1.2, or, in pydicom 2.2.0 or later, use the pydicom.valuerep.PersonName.from_named_components() method to construct the person name correctly. If a single-component name is really intended, add a trailing caret character to disambiguate the name.\n",
            "  check_person_name(patient_name)\n"
          ]
        },
        {
          "output_type": "stream",
          "name": "stdout",
          "text": [
            "********** On patient: ProstateX-0157 **********\n",
            "num_series: 1\n",
            "***** On series: 1.3.6.1.4.1.14519.5.2.1.7311.5101.399128839365313172173765475191 *****\n",
            "SeriesInstanceUID: 1.3.6.1.4.1.14519.5.2.1.7311.5101.399128839365313172173765475191\n"
          ]
        },
        {
          "output_type": "stream",
          "name": "stderr",
          "text": [
            "Downloading data: 100%|█████████▉| 5.68M/5.68M [00:02<00:00, 2.27MB/s]"
          ]
        },
        {
          "output_type": "stream",
          "name": "stdout",
          "text": [
            "FrameOfReferenceUID: 1.3.6.1.4.1.14519.5.2.1.7311.5101.595737588890664082986755534262\n",
            "Parsing -7.5415 30.6653 39.5173\n",
            "Parsing 2.0399 2.65785 40.8597\n",
            "2\n"
          ]
        },
        {
          "output_type": "stream",
          "name": "stderr",
          "text": [
            "\n",
            "/usr/local/lib/python3.11/dist-packages/highdicom/base.py:163: UserWarning: The string \"ProstateX-0157\" is unlikely to represent the intended person name since it contains only a single component. Construct a person name according to the format in described in https://dicom.nema.org/dicom/2013/output/chtml/part05/sect_6.2.html#sect_6.2.1.2, or, in pydicom 2.2.0 or later, use the pydicom.valuerep.PersonName.from_named_components() method to construct the person name correctly. If a single-component name is really intended, add a trailing caret character to disambiguate the name.\n",
            "  check_person_name(patient_name)\n"
          ]
        },
        {
          "output_type": "stream",
          "name": "stdout",
          "text": [
            "********** On patient: ProstateX-0158 **********\n",
            "num_series: 1\n",
            "***** On series: 1.3.6.1.4.1.14519.5.2.1.7311.5101.104912399908126315922787192411 *****\n",
            "SeriesInstanceUID: 1.3.6.1.4.1.14519.5.2.1.7311.5101.104912399908126315922787192411\n"
          ]
        },
        {
          "output_type": "stream",
          "name": "stderr",
          "text": [
            "Downloading data: 100%|█████████▉| 6.88M/6.88M [00:02<00:00, 2.74MB/s]"
          ]
        },
        {
          "output_type": "stream",
          "name": "stdout",
          "text": [
            "FrameOfReferenceUID: 1.3.6.1.4.1.14519.5.2.1.7311.5101.148924483682766955212369169823\n",
            "Parsing -6.26665 31.8417 -15.0005\n",
            "1\n"
          ]
        },
        {
          "output_type": "stream",
          "name": "stderr",
          "text": [
            "\n",
            "/usr/local/lib/python3.11/dist-packages/highdicom/base.py:163: UserWarning: The string \"ProstateX-0158\" is unlikely to represent the intended person name since it contains only a single component. Construct a person name according to the format in described in https://dicom.nema.org/dicom/2013/output/chtml/part05/sect_6.2.html#sect_6.2.1.2, or, in pydicom 2.2.0 or later, use the pydicom.valuerep.PersonName.from_named_components() method to construct the person name correctly. If a single-component name is really intended, add a trailing caret character to disambiguate the name.\n",
            "  check_person_name(patient_name)\n"
          ]
        },
        {
          "output_type": "stream",
          "name": "stdout",
          "text": [
            "********** On patient: ProstateX-0159 **********\n",
            "num_series: 1\n",
            "***** On series: 1.3.6.1.4.1.14519.5.2.1.7311.5101.920398658735678812917978707078 *****\n",
            "SeriesInstanceUID: 1.3.6.1.4.1.14519.5.2.1.7311.5101.920398658735678812917978707078\n"
          ]
        },
        {
          "output_type": "stream",
          "name": "stderr",
          "text": [
            "Downloading data: 100%|█████████▉| 6.28M/6.28M [00:03<00:00, 2.09MB/s]"
          ]
        },
        {
          "output_type": "stream",
          "name": "stdout",
          "text": [
            "FrameOfReferenceUID: 1.3.6.1.4.1.14519.5.2.1.7311.5101.669012981389251371498488237232\n",
            "Parsing -7.30205 50.7125 3.72577\n",
            "Parsing 1.73495 46.48 -4.57566\n",
            "Parsing -29.1486 31.1808 7.87735\n",
            "3\n"
          ]
        },
        {
          "output_type": "stream",
          "name": "stderr",
          "text": [
            "\n",
            "/usr/local/lib/python3.11/dist-packages/highdicom/base.py:163: UserWarning: The string \"ProstateX-0159\" is unlikely to represent the intended person name since it contains only a single component. Construct a person name according to the format in described in https://dicom.nema.org/dicom/2013/output/chtml/part05/sect_6.2.html#sect_6.2.1.2, or, in pydicom 2.2.0 or later, use the pydicom.valuerep.PersonName.from_named_components() method to construct the person name correctly. If a single-component name is really intended, add a trailing caret character to disambiguate the name.\n",
            "  check_person_name(patient_name)\n"
          ]
        },
        {
          "output_type": "stream",
          "name": "stdout",
          "text": [
            "********** On patient: ProstateX-0160 **********\n",
            "num_series: 2\n",
            "***** On series: 1.3.6.1.4.1.14519.5.2.1.7311.5101.104360316042570322918609119489 *****\n",
            "SeriesInstanceUID: 1.3.6.1.4.1.14519.5.2.1.7311.5101.104360316042570322918609119489\n"
          ]
        },
        {
          "output_type": "stream",
          "name": "stderr",
          "text": [
            "Downloading data: 100%|█████████▉| 17.3M/17.3M [00:03<00:00, 5.75MB/s]"
          ]
        },
        {
          "output_type": "stream",
          "name": "stdout",
          "text": [
            "FrameOfReferenceUID: 1.3.6.1.4.1.14519.5.2.1.7311.5101.299206083744526588933438392671\n",
            "Parsing -8.4535 45.119 -25.2647\n",
            "Parsing 8.37405 48.9384 -25.8554\n",
            "2\n"
          ]
        },
        {
          "output_type": "stream",
          "name": "stderr",
          "text": [
            "\n",
            "/usr/local/lib/python3.11/dist-packages/highdicom/base.py:163: UserWarning: The string \"ProstateX-0160\" is unlikely to represent the intended person name since it contains only a single component. Construct a person name according to the format in described in https://dicom.nema.org/dicom/2013/output/chtml/part05/sect_6.2.html#sect_6.2.1.2, or, in pydicom 2.2.0 or later, use the pydicom.valuerep.PersonName.from_named_components() method to construct the person name correctly. If a single-component name is really intended, add a trailing caret character to disambiguate the name.\n",
            "  check_person_name(patient_name)\n"
          ]
        },
        {
          "output_type": "stream",
          "name": "stdout",
          "text": [
            "***** On series: 1.3.6.1.4.1.14519.5.2.1.7311.5101.656275115282319187088015845543 *****\n",
            "SeriesInstanceUID: 1.3.6.1.4.1.14519.5.2.1.7311.5101.656275115282319187088015845543\n"
          ]
        },
        {
          "output_type": "stream",
          "name": "stderr",
          "text": [
            "Downloading data: 100%|█████████▉| 6.28M/6.28M [00:02<00:00, 2.50MB/s]"
          ]
        },
        {
          "output_type": "stream",
          "name": "stdout",
          "text": [
            "FrameOfReferenceUID: 1.3.6.1.4.1.14519.5.2.1.7311.5101.299206083744526588933438392671\n",
            "Parsing -8.4535 45.119 -25.2647\n",
            "Parsing 8.37405 48.9384 -25.8554\n",
            "2\n"
          ]
        },
        {
          "output_type": "stream",
          "name": "stderr",
          "text": [
            "\n",
            "/usr/local/lib/python3.11/dist-packages/highdicom/base.py:163: UserWarning: The string \"ProstateX-0160\" is unlikely to represent the intended person name since it contains only a single component. Construct a person name according to the format in described in https://dicom.nema.org/dicom/2013/output/chtml/part05/sect_6.2.html#sect_6.2.1.2, or, in pydicom 2.2.0 or later, use the pydicom.valuerep.PersonName.from_named_components() method to construct the person name correctly. If a single-component name is really intended, add a trailing caret character to disambiguate the name.\n",
            "  check_person_name(patient_name)\n"
          ]
        },
        {
          "output_type": "stream",
          "name": "stdout",
          "text": [
            "********** On patient: ProstateX-0161 **********\n",
            "num_series: 1\n",
            "***** On series: 1.3.6.1.4.1.14519.5.2.1.7311.5101.196511587017551386049158542619 *****\n",
            "SeriesInstanceUID: 1.3.6.1.4.1.14519.5.2.1.7311.5101.196511587017551386049158542619\n"
          ]
        },
        {
          "output_type": "stream",
          "name": "stderr",
          "text": [
            "Downloading data: 100%|█████████▉| 6.88M/6.88M [00:03<00:00, 2.28MB/s]"
          ]
        },
        {
          "output_type": "stream",
          "name": "stdout",
          "text": [
            "FrameOfReferenceUID: 1.3.6.1.4.1.14519.5.2.1.7311.5101.148428033221471990903034174422\n",
            "Parsing -20.6979 60.1012 6.61219\n",
            "Parsing 4.47867 33.6044 10.1267\n",
            "Parsing -26.6273 34.689 22.2237\n",
            "3\n"
          ]
        },
        {
          "output_type": "stream",
          "name": "stderr",
          "text": [
            "\n",
            "/usr/local/lib/python3.11/dist-packages/highdicom/base.py:163: UserWarning: The string \"ProstateX-0161\" is unlikely to represent the intended person name since it contains only a single component. Construct a person name according to the format in described in https://dicom.nema.org/dicom/2013/output/chtml/part05/sect_6.2.html#sect_6.2.1.2, or, in pydicom 2.2.0 or later, use the pydicom.valuerep.PersonName.from_named_components() method to construct the person name correctly. If a single-component name is really intended, add a trailing caret character to disambiguate the name.\n",
            "  check_person_name(patient_name)\n"
          ]
        },
        {
          "output_type": "stream",
          "name": "stdout",
          "text": [
            "********** On patient: ProstateX-0162 **********\n",
            "num_series: 1\n",
            "***** On series: 1.3.6.1.4.1.14519.5.2.1.7311.5101.331790498051540524922995906154 *****\n",
            "SeriesInstanceUID: 1.3.6.1.4.1.14519.5.2.1.7311.5101.331790498051540524922995906154\n"
          ]
        },
        {
          "output_type": "stream",
          "name": "stderr",
          "text": [
            "Downloading data: 100%|█████████▉| 5.68M/5.68M [00:02<00:00, 2.26MB/s]"
          ]
        },
        {
          "output_type": "stream",
          "name": "stdout",
          "text": [
            "FrameOfReferenceUID: 1.3.6.1.4.1.14519.5.2.1.7311.5101.287937400607575533931295615945\n",
            "Parsing -3.48821 35.5927 1.11006\n",
            "1\n"
          ]
        },
        {
          "output_type": "stream",
          "name": "stderr",
          "text": [
            "\n",
            "/usr/local/lib/python3.11/dist-packages/highdicom/base.py:163: UserWarning: The string \"ProstateX-0162\" is unlikely to represent the intended person name since it contains only a single component. Construct a person name according to the format in described in https://dicom.nema.org/dicom/2013/output/chtml/part05/sect_6.2.html#sect_6.2.1.2, or, in pydicom 2.2.0 or later, use the pydicom.valuerep.PersonName.from_named_components() method to construct the person name correctly. If a single-component name is really intended, add a trailing caret character to disambiguate the name.\n",
            "  check_person_name(patient_name)\n"
          ]
        },
        {
          "output_type": "stream",
          "name": "stdout",
          "text": [
            "********** On patient: ProstateX-0163 **********\n",
            "num_series: 1\n",
            "***** On series: 1.3.6.1.4.1.14519.5.2.1.7311.5101.200953352205369299518149484249 *****\n",
            "SeriesInstanceUID: 1.3.6.1.4.1.14519.5.2.1.7311.5101.200953352205369299518149484249\n"
          ]
        },
        {
          "output_type": "stream",
          "name": "stderr",
          "text": [
            "Downloading data: 100%|█████████▉| 5.68M/5.68M [00:03<00:00, 1.89MB/s]"
          ]
        },
        {
          "output_type": "stream",
          "name": "stdout",
          "text": [
            "FrameOfReferenceUID: 1.3.6.1.4.1.14519.5.2.1.7311.5101.308724181181266339210275349146\n",
            "Parsing 20.1242 6.54079 22.4168\n",
            "Parsing 3.93681 50.4291 8.8492\n",
            "Parsing 11.7962 55.1382 19.8463\n",
            "3\n"
          ]
        },
        {
          "output_type": "stream",
          "name": "stderr",
          "text": [
            "\n",
            "/usr/local/lib/python3.11/dist-packages/highdicom/base.py:163: UserWarning: The string \"ProstateX-0163\" is unlikely to represent the intended person name since it contains only a single component. Construct a person name according to the format in described in https://dicom.nema.org/dicom/2013/output/chtml/part05/sect_6.2.html#sect_6.2.1.2, or, in pydicom 2.2.0 or later, use the pydicom.valuerep.PersonName.from_named_components() method to construct the person name correctly. If a single-component name is really intended, add a trailing caret character to disambiguate the name.\n",
            "  check_person_name(patient_name)\n"
          ]
        },
        {
          "output_type": "stream",
          "name": "stdout",
          "text": [
            "********** On patient: ProstateX-0164 **********\n",
            "num_series: 1\n",
            "***** On series: 1.3.6.1.4.1.14519.5.2.1.7311.5101.606554985338789812728613003926 *****\n",
            "SeriesInstanceUID: 1.3.6.1.4.1.14519.5.2.1.7311.5101.606554985338789812728613003926\n"
          ]
        },
        {
          "output_type": "stream",
          "name": "stderr",
          "text": [
            "Downloading data: 100%|█████████▉| 5.68M/5.68M [00:02<00:00, 2.27MB/s]"
          ]
        },
        {
          "output_type": "stream",
          "name": "stdout",
          "text": [
            "FrameOfReferenceUID: 1.3.6.1.4.1.14519.5.2.1.7311.5101.117582023470604394012507273156\n",
            "Parsing -10.90348 22.7658 -51.1909\n",
            "1\n"
          ]
        },
        {
          "output_type": "stream",
          "name": "stderr",
          "text": [
            "\n",
            "/usr/local/lib/python3.11/dist-packages/highdicom/base.py:163: UserWarning: The string \"ProstateX-0164\" is unlikely to represent the intended person name since it contains only a single component. Construct a person name according to the format in described in https://dicom.nema.org/dicom/2013/output/chtml/part05/sect_6.2.html#sect_6.2.1.2, or, in pydicom 2.2.0 or later, use the pydicom.valuerep.PersonName.from_named_components() method to construct the person name correctly. If a single-component name is really intended, add a trailing caret character to disambiguate the name.\n",
            "  check_person_name(patient_name)\n"
          ]
        },
        {
          "output_type": "stream",
          "name": "stdout",
          "text": [
            "********** On patient: ProstateX-0165 **********\n",
            "num_series: 2\n",
            "***** On series: 1.3.6.1.4.1.14519.5.2.1.7311.5101.258483113217164421324473616387 *****\n",
            "SeriesInstanceUID: 1.3.6.1.4.1.14519.5.2.1.7311.5101.258483113217164421324473616387\n"
          ]
        },
        {
          "output_type": "stream",
          "name": "stderr",
          "text": [
            "Downloading data: 100%|█████████▉| 5.68M/5.68M [00:02<00:00, 2.26MB/s]"
          ]
        },
        {
          "output_type": "stream",
          "name": "stdout",
          "text": [
            "FrameOfReferenceUID: 1.3.6.1.4.1.14519.5.2.1.7311.5101.235541109642952380138095312909\n",
            "Parsing -9.56161457763672 -1.25801445800781 42.5441229797363\n",
            "Parsing -9.06336 29.4275 37.3958\n",
            "2\n"
          ]
        },
        {
          "output_type": "stream",
          "name": "stderr",
          "text": [
            "\n",
            "/usr/local/lib/python3.11/dist-packages/highdicom/base.py:163: UserWarning: The string \"ProstateX-0165\" is unlikely to represent the intended person name since it contains only a single component. Construct a person name according to the format in described in https://dicom.nema.org/dicom/2013/output/chtml/part05/sect_6.2.html#sect_6.2.1.2, or, in pydicom 2.2.0 or later, use the pydicom.valuerep.PersonName.from_named_components() method to construct the person name correctly. If a single-component name is really intended, add a trailing caret character to disambiguate the name.\n",
            "  check_person_name(patient_name)\n"
          ]
        },
        {
          "output_type": "stream",
          "name": "stdout",
          "text": [
            "***** On series: 1.3.6.1.4.1.14519.5.2.1.7311.5101.338174236052625192178112905271 *****\n",
            "SeriesInstanceUID: 1.3.6.1.4.1.14519.5.2.1.7311.5101.338174236052625192178112905271\n"
          ]
        },
        {
          "output_type": "stream",
          "name": "stderr",
          "text": [
            "Downloading data: 100%|██████████| 15.6M/15.6M [00:03<00:00, 5.19MB/s]"
          ]
        },
        {
          "output_type": "stream",
          "name": "stdout",
          "text": [
            "FrameOfReferenceUID: 1.3.6.1.4.1.14519.5.2.1.7311.5101.235541109642952380138095312909\n",
            "Parsing -9.56161457763672 -1.25801445800781 42.5441229797363\n",
            "Parsing -9.06336 29.4275 37.3958\n",
            "2\n"
          ]
        },
        {
          "output_type": "stream",
          "name": "stderr",
          "text": [
            "\n",
            "/usr/local/lib/python3.11/dist-packages/highdicom/base.py:163: UserWarning: The string \"ProstateX-0165\" is unlikely to represent the intended person name since it contains only a single component. Construct a person name according to the format in described in https://dicom.nema.org/dicom/2013/output/chtml/part05/sect_6.2.html#sect_6.2.1.2, or, in pydicom 2.2.0 or later, use the pydicom.valuerep.PersonName.from_named_components() method to construct the person name correctly. If a single-component name is really intended, add a trailing caret character to disambiguate the name.\n",
            "  check_person_name(patient_name)\n"
          ]
        },
        {
          "output_type": "stream",
          "name": "stdout",
          "text": [
            "********** On patient: ProstateX-0166 **********\n",
            "num_series: 2\n",
            "***** On series: 1.3.6.1.4.1.14519.5.2.1.7311.5101.366179132680001842620860741397 *****\n",
            "SeriesInstanceUID: 1.3.6.1.4.1.14519.5.2.1.7311.5101.366179132680001842620860741397\n"
          ]
        },
        {
          "output_type": "stream",
          "name": "stderr",
          "text": [
            "Downloading data: 100%|██████████| 15.6M/15.6M [00:03<00:00, 5.20MB/s]"
          ]
        },
        {
          "output_type": "stream",
          "name": "stdout",
          "text": [
            "FrameOfReferenceUID: 1.3.6.1.4.1.14519.5.2.1.7311.5101.116711388309668739279933276704\n",
            "Parsing 8.4542 38.0181 -21.5462\n",
            "1\n"
          ]
        },
        {
          "output_type": "stream",
          "name": "stderr",
          "text": [
            "\n",
            "/usr/local/lib/python3.11/dist-packages/highdicom/base.py:163: UserWarning: The string \"ProstateX-0166\" is unlikely to represent the intended person name since it contains only a single component. Construct a person name according to the format in described in https://dicom.nema.org/dicom/2013/output/chtml/part05/sect_6.2.html#sect_6.2.1.2, or, in pydicom 2.2.0 or later, use the pydicom.valuerep.PersonName.from_named_components() method to construct the person name correctly. If a single-component name is really intended, add a trailing caret character to disambiguate the name.\n",
            "  check_person_name(patient_name)\n"
          ]
        },
        {
          "output_type": "stream",
          "name": "stdout",
          "text": [
            "***** On series: 1.3.6.1.4.1.14519.5.2.1.7311.5101.526460710084012176738138857947 *****\n",
            "SeriesInstanceUID: 1.3.6.1.4.1.14519.5.2.1.7311.5101.526460710084012176738138857947\n"
          ]
        },
        {
          "output_type": "stream",
          "name": "stderr",
          "text": [
            "Downloading data: 100%|█████████▉| 5.68M/5.68M [00:02<00:00, 2.27MB/s]"
          ]
        },
        {
          "output_type": "stream",
          "name": "stdout",
          "text": [
            "FrameOfReferenceUID: 1.3.6.1.4.1.14519.5.2.1.7311.5101.116711388309668739279933276704\n",
            "Parsing 8.4542 38.0181 -21.5462\n",
            "1\n"
          ]
        },
        {
          "output_type": "stream",
          "name": "stderr",
          "text": [
            "\n",
            "/usr/local/lib/python3.11/dist-packages/highdicom/base.py:163: UserWarning: The string \"ProstateX-0166\" is unlikely to represent the intended person name since it contains only a single component. Construct a person name according to the format in described in https://dicom.nema.org/dicom/2013/output/chtml/part05/sect_6.2.html#sect_6.2.1.2, or, in pydicom 2.2.0 or later, use the pydicom.valuerep.PersonName.from_named_components() method to construct the person name correctly. If a single-component name is really intended, add a trailing caret character to disambiguate the name.\n",
            "  check_person_name(patient_name)\n"
          ]
        },
        {
          "output_type": "stream",
          "name": "stdout",
          "text": [
            "********** On patient: ProstateX-0167 **********\n",
            "num_series: 1\n",
            "***** On series: 1.3.6.1.4.1.14519.5.2.1.7311.5101.278678499727921221969809926050 *****\n",
            "SeriesInstanceUID: 1.3.6.1.4.1.14519.5.2.1.7311.5101.278678499727921221969809926050\n"
          ]
        },
        {
          "output_type": "stream",
          "name": "stderr",
          "text": [
            "Downloading data: 100%|█████████▉| 6.28M/6.28M [00:03<00:00, 2.09MB/s]"
          ]
        },
        {
          "output_type": "stream",
          "name": "stdout",
          "text": [
            "FrameOfReferenceUID: 1.3.6.1.4.1.14519.5.2.1.7311.5101.432044032573254759073499412487\n",
            "Parsing -6.58205 12.9871 -51.6847\n",
            "1\n"
          ]
        },
        {
          "output_type": "stream",
          "name": "stderr",
          "text": [
            "\n",
            "/usr/local/lib/python3.11/dist-packages/highdicom/base.py:163: UserWarning: The string \"ProstateX-0167\" is unlikely to represent the intended person name since it contains only a single component. Construct a person name according to the format in described in https://dicom.nema.org/dicom/2013/output/chtml/part05/sect_6.2.html#sect_6.2.1.2, or, in pydicom 2.2.0 or later, use the pydicom.valuerep.PersonName.from_named_components() method to construct the person name correctly. If a single-component name is really intended, add a trailing caret character to disambiguate the name.\n",
            "  check_person_name(patient_name)\n"
          ]
        },
        {
          "output_type": "stream",
          "name": "stdout",
          "text": [
            "********** On patient: ProstateX-0168 **********\n",
            "num_series: 2\n",
            "***** On series: 1.3.6.1.4.1.14519.5.2.1.7311.5101.226939533786316417608293472819 *****\n",
            "SeriesInstanceUID: 1.3.6.1.4.1.14519.5.2.1.7311.5101.226939533786316417608293472819\n"
          ]
        },
        {
          "output_type": "stream",
          "name": "stderr",
          "text": [
            "Downloading data: 100%|█████████▉| 5.68M/5.68M [00:03<00:00, 1.62MB/s]"
          ]
        },
        {
          "output_type": "stream",
          "name": "stdout",
          "text": [
            "FrameOfReferenceUID: 1.3.6.1.4.1.14519.5.2.1.7311.5101.572529106337023232968734839238\n",
            "Parsing 7.0255 21.6969 -29.8274\n",
            "1\n"
          ]
        },
        {
          "output_type": "stream",
          "name": "stderr",
          "text": [
            "\n",
            "/usr/local/lib/python3.11/dist-packages/highdicom/base.py:163: UserWarning: The string \"ProstateX-0168\" is unlikely to represent the intended person name since it contains only a single component. Construct a person name according to the format in described in https://dicom.nema.org/dicom/2013/output/chtml/part05/sect_6.2.html#sect_6.2.1.2, or, in pydicom 2.2.0 or later, use the pydicom.valuerep.PersonName.from_named_components() method to construct the person name correctly. If a single-component name is really intended, add a trailing caret character to disambiguate the name.\n",
            "  check_person_name(patient_name)\n"
          ]
        },
        {
          "output_type": "stream",
          "name": "stdout",
          "text": [
            "***** On series: 1.3.6.1.4.1.14519.5.2.1.7311.5101.238155789531438110361239421258 *****\n",
            "SeriesInstanceUID: 1.3.6.1.4.1.14519.5.2.1.7311.5101.238155789531438110361239421258\n"
          ]
        },
        {
          "output_type": "stream",
          "name": "stderr",
          "text": [
            "Downloading data: 100%|██████████| 15.6M/15.6M [00:03<00:00, 5.20MB/s]"
          ]
        },
        {
          "output_type": "stream",
          "name": "stdout",
          "text": [
            "FrameOfReferenceUID: 1.3.6.1.4.1.14519.5.2.1.7311.5101.572529106337023232968734839238\n",
            "Parsing 7.0255 21.6969 -29.8274\n",
            "1\n"
          ]
        },
        {
          "output_type": "stream",
          "name": "stderr",
          "text": [
            "\n",
            "/usr/local/lib/python3.11/dist-packages/highdicom/base.py:163: UserWarning: The string \"ProstateX-0168\" is unlikely to represent the intended person name since it contains only a single component. Construct a person name according to the format in described in https://dicom.nema.org/dicom/2013/output/chtml/part05/sect_6.2.html#sect_6.2.1.2, or, in pydicom 2.2.0 or later, use the pydicom.valuerep.PersonName.from_named_components() method to construct the person name correctly. If a single-component name is really intended, add a trailing caret character to disambiguate the name.\n",
            "  check_person_name(patient_name)\n"
          ]
        },
        {
          "output_type": "stream",
          "name": "stdout",
          "text": [
            "********** On patient: ProstateX-0169 **********\n",
            "num_series: 1\n",
            "***** On series: 1.3.6.1.4.1.14519.5.2.1.7311.5101.172108716654528372176275135230 *****\n",
            "SeriesInstanceUID: 1.3.6.1.4.1.14519.5.2.1.7311.5101.172108716654528372176275135230\n"
          ]
        },
        {
          "output_type": "stream",
          "name": "stderr",
          "text": [
            "Downloading data: 100%|██████████| 6.87M/6.87M [00:02<00:00, 2.74MB/s]"
          ]
        },
        {
          "output_type": "stream",
          "name": "stdout",
          "text": [
            "FrameOfReferenceUID: 1.3.6.1.4.1.14519.5.2.1.7311.5101.339932203580188961197306769658\n",
            "Parsing 9.94036 27.0209 30.4277\n",
            "1\n"
          ]
        },
        {
          "output_type": "stream",
          "name": "stderr",
          "text": [
            "\n",
            "/usr/local/lib/python3.11/dist-packages/highdicom/base.py:163: UserWarning: The string \"ProstateX-0169\" is unlikely to represent the intended person name since it contains only a single component. Construct a person name according to the format in described in https://dicom.nema.org/dicom/2013/output/chtml/part05/sect_6.2.html#sect_6.2.1.2, or, in pydicom 2.2.0 or later, use the pydicom.valuerep.PersonName.from_named_components() method to construct the person name correctly. If a single-component name is really intended, add a trailing caret character to disambiguate the name.\n",
            "  check_person_name(patient_name)\n"
          ]
        },
        {
          "output_type": "stream",
          "name": "stdout",
          "text": [
            "********** On patient: ProstateX-0170 **********\n",
            "num_series: 1\n",
            "***** On series: 1.3.6.1.4.1.14519.5.2.1.7311.5101.357054868848226402548612686613 *****\n",
            "SeriesInstanceUID: 1.3.6.1.4.1.14519.5.2.1.7311.5101.357054868848226402548612686613\n"
          ]
        },
        {
          "output_type": "stream",
          "name": "stderr",
          "text": [
            "Downloading data: 100%|█████████▉| 5.68M/5.68M [00:02<00:00, 2.26MB/s]"
          ]
        },
        {
          "output_type": "stream",
          "name": "stdout",
          "text": [
            "FrameOfReferenceUID: 1.3.6.1.4.1.14519.5.2.1.7311.5101.496655735497048503502248368651\n",
            "Parsing 21.3805 48.3445 52.8735\n",
            "Parsing -0.565471 47.1089 41.5742\n",
            "2\n"
          ]
        },
        {
          "output_type": "stream",
          "name": "stderr",
          "text": [
            "\n",
            "/usr/local/lib/python3.11/dist-packages/highdicom/base.py:163: UserWarning: The string \"ProstateX-0170\" is unlikely to represent the intended person name since it contains only a single component. Construct a person name according to the format in described in https://dicom.nema.org/dicom/2013/output/chtml/part05/sect_6.2.html#sect_6.2.1.2, or, in pydicom 2.2.0 or later, use the pydicom.valuerep.PersonName.from_named_components() method to construct the person name correctly. If a single-component name is really intended, add a trailing caret character to disambiguate the name.\n",
            "  check_person_name(patient_name)\n"
          ]
        },
        {
          "output_type": "stream",
          "name": "stdout",
          "text": [
            "********** On patient: ProstateX-0171 **********\n",
            "num_series: 2\n",
            "***** On series: 1.3.6.1.4.1.14519.5.2.1.7311.5101.106639214047404264333821765300 *****\n",
            "SeriesInstanceUID: 1.3.6.1.4.1.14519.5.2.1.7311.5101.106639214047404264333821765300\n"
          ]
        },
        {
          "output_type": "stream",
          "name": "stderr",
          "text": [
            "Downloading data: 100%|██████████| 6.87M/6.87M [00:03<00:00, 2.28MB/s]"
          ]
        },
        {
          "output_type": "stream",
          "name": "stdout",
          "text": [
            "FrameOfReferenceUID: 1.3.6.1.4.1.14519.5.2.1.7311.5101.308999332853208890281859056482\n",
            "Parsing 27.6693 44.7334 22.3789\n",
            "Parsing 20.1323 18.8425 28.2502\n",
            "Parsing 0.425155639648438 40.347412109375 23.8209381103516\n",
            "3\n"
          ]
        },
        {
          "output_type": "stream",
          "name": "stderr",
          "text": [
            "\n",
            "/usr/local/lib/python3.11/dist-packages/highdicom/base.py:163: UserWarning: The string \"ProstateX-0171\" is unlikely to represent the intended person name since it contains only a single component. Construct a person name according to the format in described in https://dicom.nema.org/dicom/2013/output/chtml/part05/sect_6.2.html#sect_6.2.1.2, or, in pydicom 2.2.0 or later, use the pydicom.valuerep.PersonName.from_named_components() method to construct the person name correctly. If a single-component name is really intended, add a trailing caret character to disambiguate the name.\n",
            "  check_person_name(patient_name)\n"
          ]
        },
        {
          "output_type": "stream",
          "name": "stdout",
          "text": [
            "***** On series: 1.3.6.1.4.1.14519.5.2.1.7311.5101.140686800124197915329789557019 *****\n",
            "SeriesInstanceUID: 1.3.6.1.4.1.14519.5.2.1.7311.5101.140686800124197915329789557019\n"
          ]
        },
        {
          "output_type": "stream",
          "name": "stderr",
          "text": [
            "Downloading data: 100%|██████████| 6.87M/6.87M [00:02<00:00, 2.74MB/s]"
          ]
        },
        {
          "output_type": "stream",
          "name": "stdout",
          "text": [
            "FrameOfReferenceUID: 1.3.6.1.4.1.14519.5.2.1.7311.5101.308999332853208890281859056482\n",
            "Parsing 27.6693 44.7334 22.3789\n",
            "Parsing 20.1323 18.8425 28.2502\n",
            "Parsing 0.425155639648438 40.347412109375 23.8209381103516\n",
            "3\n"
          ]
        },
        {
          "output_type": "stream",
          "name": "stderr",
          "text": [
            "\n",
            "/usr/local/lib/python3.11/dist-packages/highdicom/base.py:163: UserWarning: The string \"ProstateX-0171\" is unlikely to represent the intended person name since it contains only a single component. Construct a person name according to the format in described in https://dicom.nema.org/dicom/2013/output/chtml/part05/sect_6.2.html#sect_6.2.1.2, or, in pydicom 2.2.0 or later, use the pydicom.valuerep.PersonName.from_named_components() method to construct the person name correctly. If a single-component name is really intended, add a trailing caret character to disambiguate the name.\n",
            "  check_person_name(patient_name)\n"
          ]
        },
        {
          "output_type": "stream",
          "name": "stdout",
          "text": [
            "********** On patient: ProstateX-0172 **********\n",
            "num_series: 1\n",
            "***** On series: 1.3.6.1.4.1.14519.5.2.1.7311.5101.173238779094840791662031336757 *****\n",
            "SeriesInstanceUID: 1.3.6.1.4.1.14519.5.2.1.7311.5101.173238779094840791662031336757\n"
          ]
        },
        {
          "output_type": "stream",
          "name": "stderr",
          "text": [
            "Downloading data: 100%|█████████▉| 6.28M/6.28M [00:02<00:00, 2.50MB/s]"
          ]
        },
        {
          "output_type": "stream",
          "name": "stdout",
          "text": [
            "FrameOfReferenceUID: 1.3.6.1.4.1.14519.5.2.1.7311.5101.221279744539059005101797852732\n",
            "Parsing -19.9140532625499 31.4812375854275 41.345622424212\n",
            "Parsing -7.23110961914062 43.0895080566406 37.3951797485352\n",
            "Parsing 3.961669921875 10.2980422973633 19.8878326416016\n",
            "3\n"
          ]
        },
        {
          "output_type": "stream",
          "name": "stderr",
          "text": [
            "\n",
            "/usr/local/lib/python3.11/dist-packages/highdicom/base.py:163: UserWarning: The string \"ProstateX-0172\" is unlikely to represent the intended person name since it contains only a single component. Construct a person name according to the format in described in https://dicom.nema.org/dicom/2013/output/chtml/part05/sect_6.2.html#sect_6.2.1.2, or, in pydicom 2.2.0 or later, use the pydicom.valuerep.PersonName.from_named_components() method to construct the person name correctly. If a single-component name is really intended, add a trailing caret character to disambiguate the name.\n",
            "  check_person_name(patient_name)\n"
          ]
        },
        {
          "output_type": "stream",
          "name": "stdout",
          "text": [
            "********** On patient: ProstateX-0173 **********\n",
            "num_series: 3\n",
            "***** On series: 1.3.6.1.4.1.14519.5.2.1.7311.5101.162312139806477118597047772186 *****\n",
            "SeriesInstanceUID: 1.3.6.1.4.1.14519.5.2.1.7311.5101.162312139806477118597047772186\n"
          ]
        },
        {
          "output_type": "stream",
          "name": "stderr",
          "text": [
            "Downloading data: 100%|█████████▉| 6.28M/6.28M [00:02<00:00, 2.50MB/s]"
          ]
        },
        {
          "output_type": "stream",
          "name": "stdout",
          "text": [
            "FrameOfReferenceUID: 1.3.6.1.4.1.14519.5.2.1.7311.5101.246127764505580567160403120742\n",
            "Parsing -19.6271 40.7648 -22.8634\n",
            "Parsing -18.7971 46.6287 -42.0199\n",
            "2\n"
          ]
        },
        {
          "output_type": "stream",
          "name": "stderr",
          "text": [
            "\n",
            "/usr/local/lib/python3.11/dist-packages/highdicom/base.py:163: UserWarning: The string \"ProstateX-0173\" is unlikely to represent the intended person name since it contains only a single component. Construct a person name according to the format in described in https://dicom.nema.org/dicom/2013/output/chtml/part05/sect_6.2.html#sect_6.2.1.2, or, in pydicom 2.2.0 or later, use the pydicom.valuerep.PersonName.from_named_components() method to construct the person name correctly. If a single-component name is really intended, add a trailing caret character to disambiguate the name.\n",
            "  check_person_name(patient_name)\n"
          ]
        },
        {
          "output_type": "stream",
          "name": "stdout",
          "text": [
            "***** On series: 1.3.6.1.4.1.14519.5.2.1.7311.5101.396250088865668447959433809122 *****\n",
            "SeriesInstanceUID: 1.3.6.1.4.1.14519.5.2.1.7311.5101.396250088865668447959433809122\n"
          ]
        },
        {
          "output_type": "stream",
          "name": "stderr",
          "text": [
            "Downloading data: 100%|█████████▉| 6.28M/6.28M [00:02<00:00, 2.50MB/s]"
          ]
        },
        {
          "output_type": "stream",
          "name": "stdout",
          "text": [
            "FrameOfReferenceUID: 1.3.6.1.4.1.14519.5.2.1.7311.5101.246127764505580567160403120742\n",
            "Parsing -19.6271 40.7648 -22.8634\n",
            "Parsing -18.7971 46.6287 -42.0199\n",
            "2\n"
          ]
        },
        {
          "output_type": "stream",
          "name": "stderr",
          "text": [
            "\n",
            "/usr/local/lib/python3.11/dist-packages/highdicom/base.py:163: UserWarning: The string \"ProstateX-0173\" is unlikely to represent the intended person name since it contains only a single component. Construct a person name according to the format in described in https://dicom.nema.org/dicom/2013/output/chtml/part05/sect_6.2.html#sect_6.2.1.2, or, in pydicom 2.2.0 or later, use the pydicom.valuerep.PersonName.from_named_components() method to construct the person name correctly. If a single-component name is really intended, add a trailing caret character to disambiguate the name.\n",
            "  check_person_name(patient_name)\n"
          ]
        },
        {
          "output_type": "stream",
          "name": "stdout",
          "text": [
            "***** On series: 1.3.6.1.4.1.14519.5.2.1.7311.5101.657656083774636088529992646063 *****\n",
            "SeriesInstanceUID: 1.3.6.1.4.1.14519.5.2.1.7311.5101.657656083774636088529992646063\n"
          ]
        },
        {
          "output_type": "stream",
          "name": "stderr",
          "text": [
            "Downloading data: 100%|█████████▉| 4.39M/4.39M [00:02<00:00, 1.75MB/s]"
          ]
        },
        {
          "output_type": "stream",
          "name": "stdout",
          "text": [
            "FrameOfReferenceUID: 1.3.6.1.4.1.14519.5.2.1.7311.5101.246127764505580567160403120742\n",
            "Parsing -19.6271 40.7648 -22.8634\n",
            "Parsing -18.7971 46.6287 -42.0199\n",
            "2\n"
          ]
        },
        {
          "output_type": "stream",
          "name": "stderr",
          "text": [
            "\n",
            "/usr/local/lib/python3.11/dist-packages/highdicom/base.py:163: UserWarning: The string \"ProstateX-0173\" is unlikely to represent the intended person name since it contains only a single component. Construct a person name according to the format in described in https://dicom.nema.org/dicom/2013/output/chtml/part05/sect_6.2.html#sect_6.2.1.2, or, in pydicom 2.2.0 or later, use the pydicom.valuerep.PersonName.from_named_components() method to construct the person name correctly. If a single-component name is really intended, add a trailing caret character to disambiguate the name.\n",
            "  check_person_name(patient_name)\n"
          ]
        },
        {
          "output_type": "stream",
          "name": "stdout",
          "text": [
            "********** On patient: ProstateX-0174 **********\n",
            "num_series: 1\n",
            "***** On series: 1.3.6.1.4.1.14519.5.2.1.7311.5101.139777446225547509525324454225 *****\n",
            "SeriesInstanceUID: 1.3.6.1.4.1.14519.5.2.1.7311.5101.139777446225547509525324454225\n"
          ]
        },
        {
          "output_type": "stream",
          "name": "stderr",
          "text": [
            "Downloading data: 100%|█████████▉| 5.68M/5.68M [00:02<00:00, 2.26MB/s]"
          ]
        },
        {
          "output_type": "stream",
          "name": "stdout",
          "text": [
            "FrameOfReferenceUID: 1.3.6.1.4.1.14519.5.2.1.7311.5101.210347340675998508321633753283\n",
            "Parsing 9.31972 11.9806 2.38443\n",
            "1\n"
          ]
        },
        {
          "output_type": "stream",
          "name": "stderr",
          "text": [
            "\n",
            "/usr/local/lib/python3.11/dist-packages/highdicom/base.py:163: UserWarning: The string \"ProstateX-0174\" is unlikely to represent the intended person name since it contains only a single component. Construct a person name according to the format in described in https://dicom.nema.org/dicom/2013/output/chtml/part05/sect_6.2.html#sect_6.2.1.2, or, in pydicom 2.2.0 or later, use the pydicom.valuerep.PersonName.from_named_components() method to construct the person name correctly. If a single-component name is really intended, add a trailing caret character to disambiguate the name.\n",
            "  check_person_name(patient_name)\n"
          ]
        },
        {
          "output_type": "stream",
          "name": "stdout",
          "text": [
            "********** On patient: ProstateX-0175 **********\n",
            "num_series: 1\n",
            "***** On series: 1.3.6.1.4.1.14519.5.2.1.7311.5101.178153366604062074610708816017 *****\n",
            "SeriesInstanceUID: 1.3.6.1.4.1.14519.5.2.1.7311.5101.178153366604062074610708816017\n"
          ]
        },
        {
          "output_type": "stream",
          "name": "stderr",
          "text": [
            "Downloading data: 100%|█████████▉| 6.28M/6.28M [00:02<00:00, 2.50MB/s]"
          ]
        },
        {
          "output_type": "stream",
          "name": "stdout",
          "text": [
            "FrameOfReferenceUID: 1.3.6.1.4.1.14519.5.2.1.7311.5101.290023874988047268512348489565\n",
            "Parsing 21.0113 20.9077 -25.4179\n",
            "Parsing 21.851 36.4468 -28.0461\n",
            "2\n"
          ]
        },
        {
          "output_type": "stream",
          "name": "stderr",
          "text": [
            "\n",
            "/usr/local/lib/python3.11/dist-packages/highdicom/base.py:163: UserWarning: The string \"ProstateX-0175\" is unlikely to represent the intended person name since it contains only a single component. Construct a person name according to the format in described in https://dicom.nema.org/dicom/2013/output/chtml/part05/sect_6.2.html#sect_6.2.1.2, or, in pydicom 2.2.0 or later, use the pydicom.valuerep.PersonName.from_named_components() method to construct the person name correctly. If a single-component name is really intended, add a trailing caret character to disambiguate the name.\n",
            "  check_person_name(patient_name)\n"
          ]
        },
        {
          "output_type": "stream",
          "name": "stdout",
          "text": [
            "********** On patient: ProstateX-0176 **********\n",
            "num_series: 2\n",
            "***** On series: 1.3.6.1.4.1.14519.5.2.1.7311.5101.166051030982074895918248397964 *****\n",
            "SeriesInstanceUID: 1.3.6.1.4.1.14519.5.2.1.7311.5101.166051030982074895918248397964\n"
          ]
        },
        {
          "output_type": "stream",
          "name": "stderr",
          "text": [
            "Downloading data: 100%|█████████▉| 6.28M/6.28M [00:02<00:00, 2.50MB/s]"
          ]
        },
        {
          "output_type": "stream",
          "name": "stdout",
          "text": [
            "FrameOfReferenceUID: 1.3.6.1.4.1.14519.5.2.1.7311.5101.778336344568692180943045322838\n",
            "Parsing 20.4698 19.123 4.52906\n",
            "Parsing 26.9851 36.5301 15.0113\n",
            "2\n"
          ]
        },
        {
          "output_type": "stream",
          "name": "stderr",
          "text": [
            "\n",
            "/usr/local/lib/python3.11/dist-packages/highdicom/base.py:163: UserWarning: The string \"ProstateX-0176\" is unlikely to represent the intended person name since it contains only a single component. Construct a person name according to the format in described in https://dicom.nema.org/dicom/2013/output/chtml/part05/sect_6.2.html#sect_6.2.1.2, or, in pydicom 2.2.0 or later, use the pydicom.valuerep.PersonName.from_named_components() method to construct the person name correctly. If a single-component name is really intended, add a trailing caret character to disambiguate the name.\n",
            "  check_person_name(patient_name)\n"
          ]
        },
        {
          "output_type": "stream",
          "name": "stdout",
          "text": [
            "***** On series: 1.3.6.1.4.1.14519.5.2.1.7311.5101.666342438883185464672112795625 *****\n",
            "SeriesInstanceUID: 1.3.6.1.4.1.14519.5.2.1.7311.5101.666342438883185464672112795625\n"
          ]
        },
        {
          "output_type": "stream",
          "name": "stderr",
          "text": [
            "Downloading data: 100%|█████████▉| 6.28M/6.28M [00:02<00:00, 2.50MB/s]"
          ]
        },
        {
          "output_type": "stream",
          "name": "stdout",
          "text": [
            "FrameOfReferenceUID: 1.3.6.1.4.1.14519.5.2.1.7311.5101.778336344568692180943045322838\n",
            "Parsing 20.4698 19.123 4.52906\n",
            "Parsing 26.9851 36.5301 15.0113\n",
            "2\n"
          ]
        },
        {
          "output_type": "stream",
          "name": "stderr",
          "text": [
            "\n",
            "/usr/local/lib/python3.11/dist-packages/highdicom/base.py:163: UserWarning: The string \"ProstateX-0176\" is unlikely to represent the intended person name since it contains only a single component. Construct a person name according to the format in described in https://dicom.nema.org/dicom/2013/output/chtml/part05/sect_6.2.html#sect_6.2.1.2, or, in pydicom 2.2.0 or later, use the pydicom.valuerep.PersonName.from_named_components() method to construct the person name correctly. If a single-component name is really intended, add a trailing caret character to disambiguate the name.\n",
            "  check_person_name(patient_name)\n"
          ]
        },
        {
          "output_type": "stream",
          "name": "stdout",
          "text": [
            "********** On patient: ProstateX-0177 **********\n",
            "num_series: 1\n",
            "***** On series: 1.3.6.1.4.1.14519.5.2.1.7311.5101.318660391556220519803669869815 *****\n",
            "SeriesInstanceUID: 1.3.6.1.4.1.14519.5.2.1.7311.5101.318660391556220519803669869815\n"
          ]
        },
        {
          "output_type": "stream",
          "name": "stderr",
          "text": [
            "Downloading data: 100%|█████████▉| 5.68M/5.68M [00:02<00:00, 2.26MB/s]"
          ]
        },
        {
          "output_type": "stream",
          "name": "stdout",
          "text": [
            "FrameOfReferenceUID: 1.3.6.1.4.1.14519.5.2.1.7311.5101.264176618796771695045834257291\n",
            "Parsing -24.6506 13.6168 -17.1067\n",
            "Parsing -14.6738 28.1266 -18.9086\n",
            "Parsing -5.846966 8.59326 -23.1375\n",
            "3\n"
          ]
        },
        {
          "output_type": "stream",
          "name": "stderr",
          "text": [
            "\n",
            "/usr/local/lib/python3.11/dist-packages/highdicom/base.py:163: UserWarning: The string \"ProstateX-0177\" is unlikely to represent the intended person name since it contains only a single component. Construct a person name according to the format in described in https://dicom.nema.org/dicom/2013/output/chtml/part05/sect_6.2.html#sect_6.2.1.2, or, in pydicom 2.2.0 or later, use the pydicom.valuerep.PersonName.from_named_components() method to construct the person name correctly. If a single-component name is really intended, add a trailing caret character to disambiguate the name.\n",
            "  check_person_name(patient_name)\n"
          ]
        },
        {
          "output_type": "stream",
          "name": "stdout",
          "text": [
            "********** On patient: ProstateX-0178 **********\n",
            "num_series: 1\n",
            "***** On series: 1.3.6.1.4.1.14519.5.2.1.7311.5101.304059090360577635696141047871 *****\n",
            "SeriesInstanceUID: 1.3.6.1.4.1.14519.5.2.1.7311.5101.304059090360577635696141047871\n"
          ]
        },
        {
          "output_type": "stream",
          "name": "stderr",
          "text": [
            "Downloading data: 100%|█████████▉| 6.28M/6.28M [00:02<00:00, 2.50MB/s]"
          ]
        },
        {
          "output_type": "stream",
          "name": "stdout",
          "text": [
            "FrameOfReferenceUID: 1.3.6.1.4.1.14519.5.2.1.7311.5101.237055660128988642039249867552\n",
            "Parsing 22.7777 9.97451 -65.0748\n",
            "1\n"
          ]
        },
        {
          "output_type": "stream",
          "name": "stderr",
          "text": [
            "\n",
            "/usr/local/lib/python3.11/dist-packages/highdicom/base.py:163: UserWarning: The string \"ProstateX-0178\" is unlikely to represent the intended person name since it contains only a single component. Construct a person name according to the format in described in https://dicom.nema.org/dicom/2013/output/chtml/part05/sect_6.2.html#sect_6.2.1.2, or, in pydicom 2.2.0 or later, use the pydicom.valuerep.PersonName.from_named_components() method to construct the person name correctly. If a single-component name is really intended, add a trailing caret character to disambiguate the name.\n",
            "  check_person_name(patient_name)\n"
          ]
        },
        {
          "output_type": "stream",
          "name": "stdout",
          "text": [
            "********** On patient: ProstateX-0179 **********\n",
            "num_series: 2\n",
            "***** On series: 1.3.6.1.4.1.14519.5.2.1.7311.5101.159781248302148906415423529801 *****\n",
            "SeriesInstanceUID: 1.3.6.1.4.1.14519.5.2.1.7311.5101.159781248302148906415423529801\n"
          ]
        },
        {
          "output_type": "stream",
          "name": "stderr",
          "text": [
            "Downloading data: 100%|█████████▉| 6.28M/6.28M [00:03<00:00, 2.09MB/s]"
          ]
        },
        {
          "output_type": "stream",
          "name": "stdout",
          "text": [
            "FrameOfReferenceUID: 1.3.6.1.4.1.14519.5.2.1.7311.5101.199343327365384634761944676271\n",
            "Parsing -27.6234 23.8724 -20.1605\n",
            "Parsing -7.56976 31.7887 -42.7564\n",
            "2\n"
          ]
        },
        {
          "output_type": "stream",
          "name": "stderr",
          "text": [
            "\n",
            "/usr/local/lib/python3.11/dist-packages/highdicom/base.py:163: UserWarning: The string \"ProstateX-0179\" is unlikely to represent the intended person name since it contains only a single component. Construct a person name according to the format in described in https://dicom.nema.org/dicom/2013/output/chtml/part05/sect_6.2.html#sect_6.2.1.2, or, in pydicom 2.2.0 or later, use the pydicom.valuerep.PersonName.from_named_components() method to construct the person name correctly. If a single-component name is really intended, add a trailing caret character to disambiguate the name.\n",
            "  check_person_name(patient_name)\n"
          ]
        },
        {
          "output_type": "stream",
          "name": "stdout",
          "text": [
            "***** On series: 1.3.6.1.4.1.14519.5.2.1.7311.5101.208111099364521191624769210183 *****\n",
            "SeriesInstanceUID: 1.3.6.1.4.1.14519.5.2.1.7311.5101.208111099364521191624769210183\n"
          ]
        },
        {
          "output_type": "stream",
          "name": "stderr",
          "text": [
            "Downloading data: 100%|█████████▉| 6.28M/6.28M [00:03<00:00, 2.08MB/s]"
          ]
        },
        {
          "output_type": "stream",
          "name": "stdout",
          "text": [
            "FrameOfReferenceUID: 1.3.6.1.4.1.14519.5.2.1.7311.5101.199343327365384634761944676271\n",
            "Parsing -27.6234 23.8724 -20.1605\n",
            "Parsing -7.56976 31.7887 -42.7564\n",
            "2\n"
          ]
        },
        {
          "output_type": "stream",
          "name": "stderr",
          "text": [
            "\n",
            "/usr/local/lib/python3.11/dist-packages/highdicom/base.py:163: UserWarning: The string \"ProstateX-0179\" is unlikely to represent the intended person name since it contains only a single component. Construct a person name according to the format in described in https://dicom.nema.org/dicom/2013/output/chtml/part05/sect_6.2.html#sect_6.2.1.2, or, in pydicom 2.2.0 or later, use the pydicom.valuerep.PersonName.from_named_components() method to construct the person name correctly. If a single-component name is really intended, add a trailing caret character to disambiguate the name.\n",
            "  check_person_name(patient_name)\n"
          ]
        },
        {
          "output_type": "stream",
          "name": "stdout",
          "text": [
            "********** On patient: ProstateX-0180 **********\n",
            "num_series: 1\n",
            "***** On series: 1.3.6.1.4.1.14519.5.2.1.7311.5101.900876193912787500283738398795 *****\n",
            "SeriesInstanceUID: 1.3.6.1.4.1.14519.5.2.1.7311.5101.900876193912787500283738398795\n"
          ]
        },
        {
          "output_type": "stream",
          "name": "stderr",
          "text": [
            "Downloading data: 100%|█████████▉| 5.68M/5.68M [00:03<00:00, 1.89MB/s]"
          ]
        },
        {
          "output_type": "stream",
          "name": "stdout",
          "text": [
            "FrameOfReferenceUID: 1.3.6.1.4.1.14519.5.2.1.7311.5101.938418421238033513931436329406\n",
            "Parsing -41.1698 34.6176 45.2961\n",
            "1\n"
          ]
        },
        {
          "output_type": "stream",
          "name": "stderr",
          "text": [
            "\n",
            "/usr/local/lib/python3.11/dist-packages/highdicom/base.py:163: UserWarning: The string \"ProstateX-0180\" is unlikely to represent the intended person name since it contains only a single component. Construct a person name according to the format in described in https://dicom.nema.org/dicom/2013/output/chtml/part05/sect_6.2.html#sect_6.2.1.2, or, in pydicom 2.2.0 or later, use the pydicom.valuerep.PersonName.from_named_components() method to construct the person name correctly. If a single-component name is really intended, add a trailing caret character to disambiguate the name.\n",
            "  check_person_name(patient_name)\n"
          ]
        },
        {
          "output_type": "stream",
          "name": "stdout",
          "text": [
            "********** On patient: ProstateX-0181 **********\n",
            "num_series: 2\n",
            "***** On series: 1.3.6.1.4.1.14519.5.2.1.7311.5101.100502269904864466940152348063 *****\n",
            "SeriesInstanceUID: 1.3.6.1.4.1.14519.5.2.1.7311.5101.100502269904864466940152348063\n"
          ]
        },
        {
          "output_type": "stream",
          "name": "stderr",
          "text": [
            "Downloading data: 100%|██████████| 20.6M/20.6M [00:03<00:00, 6.83MB/s]"
          ]
        },
        {
          "output_type": "stream",
          "name": "stdout",
          "text": [
            "FrameOfReferenceUID: 1.3.6.1.4.1.14519.5.2.1.7311.5101.320039825952896007633730083932\n",
            "Parsing -14.47804 8.02319 12.0739\n",
            "1\n"
          ]
        },
        {
          "output_type": "stream",
          "name": "stderr",
          "text": [
            "\n",
            "/usr/local/lib/python3.11/dist-packages/highdicom/base.py:163: UserWarning: The string \"ProstateX-0181\" is unlikely to represent the intended person name since it contains only a single component. Construct a person name according to the format in described in https://dicom.nema.org/dicom/2013/output/chtml/part05/sect_6.2.html#sect_6.2.1.2, or, in pydicom 2.2.0 or later, use the pydicom.valuerep.PersonName.from_named_components() method to construct the person name correctly. If a single-component name is really intended, add a trailing caret character to disambiguate the name.\n",
            "  check_person_name(patient_name)\n"
          ]
        },
        {
          "output_type": "stream",
          "name": "stdout",
          "text": [
            "***** On series: 1.3.6.1.4.1.14519.5.2.1.7311.5101.240252995301566877278824822004 *****\n",
            "SeriesInstanceUID: 1.3.6.1.4.1.14519.5.2.1.7311.5101.240252995301566877278824822004\n"
          ]
        },
        {
          "output_type": "stream",
          "name": "stderr",
          "text": [
            "Downloading data: 100%|██████████| 7.47M/7.47M [00:02<00:00, 2.98MB/s]"
          ]
        },
        {
          "output_type": "stream",
          "name": "stdout",
          "text": [
            "FrameOfReferenceUID: 1.3.6.1.4.1.14519.5.2.1.7311.5101.320039825952896007633730083932\n",
            "Parsing -14.47804 8.02319 12.0739\n",
            "1\n"
          ]
        },
        {
          "output_type": "stream",
          "name": "stderr",
          "text": [
            "\n",
            "/usr/local/lib/python3.11/dist-packages/highdicom/base.py:163: UserWarning: The string \"ProstateX-0181\" is unlikely to represent the intended person name since it contains only a single component. Construct a person name according to the format in described in https://dicom.nema.org/dicom/2013/output/chtml/part05/sect_6.2.html#sect_6.2.1.2, or, in pydicom 2.2.0 or later, use the pydicom.valuerep.PersonName.from_named_components() method to construct the person name correctly. If a single-component name is really intended, add a trailing caret character to disambiguate the name.\n",
            "  check_person_name(patient_name)\n"
          ]
        },
        {
          "output_type": "stream",
          "name": "stdout",
          "text": [
            "********** On patient: ProstateX-0182 **********\n",
            "num_series: 1\n",
            "***** On series: 1.3.6.1.4.1.14519.5.2.1.7311.5101.165636727522505811947315188478 *****\n",
            "SeriesInstanceUID: 1.3.6.1.4.1.14519.5.2.1.7311.5101.165636727522505811947315188478\n"
          ]
        },
        {
          "output_type": "stream",
          "name": "stderr",
          "text": [
            "Downloading data: 100%|█████████▉| 6.28M/6.28M [00:02<00:00, 2.50MB/s]"
          ]
        },
        {
          "output_type": "stream",
          "name": "stdout",
          "text": [
            "FrameOfReferenceUID: 1.3.6.1.4.1.14519.5.2.1.7311.5101.148806572756252533563417963732\n",
            "Parsing 13.1275 41.7624 -17.9265\n",
            "1\n"
          ]
        },
        {
          "output_type": "stream",
          "name": "stderr",
          "text": [
            "\n",
            "/usr/local/lib/python3.11/dist-packages/highdicom/base.py:163: UserWarning: The string \"ProstateX-0182\" is unlikely to represent the intended person name since it contains only a single component. Construct a person name according to the format in described in https://dicom.nema.org/dicom/2013/output/chtml/part05/sect_6.2.html#sect_6.2.1.2, or, in pydicom 2.2.0 or later, use the pydicom.valuerep.PersonName.from_named_components() method to construct the person name correctly. If a single-component name is really intended, add a trailing caret character to disambiguate the name.\n",
            "  check_person_name(patient_name)\n"
          ]
        },
        {
          "output_type": "stream",
          "name": "stdout",
          "text": [
            "********** On patient: ProstateX-0183 **********\n",
            "num_series: 1\n",
            "***** On series: 1.3.6.1.4.1.14519.5.2.1.7311.5101.262719318163046156031519223454 *****\n",
            "SeriesInstanceUID: 1.3.6.1.4.1.14519.5.2.1.7311.5101.262719318163046156031519223454\n"
          ]
        },
        {
          "output_type": "stream",
          "name": "stderr",
          "text": [
            "Downloading data: 100%|█████████▉| 6.28M/6.28M [00:02<00:00, 2.50MB/s]"
          ]
        },
        {
          "output_type": "stream",
          "name": "stdout",
          "text": [
            "FrameOfReferenceUID: 1.3.6.1.4.1.14519.5.2.1.7311.5101.249983539933474965335229320605\n",
            "Parsing 21.4663 46.1903 -28.381\n",
            "1\n"
          ]
        },
        {
          "output_type": "stream",
          "name": "stderr",
          "text": [
            "\n",
            "/usr/local/lib/python3.11/dist-packages/highdicom/base.py:163: UserWarning: The string \"ProstateX-0183\" is unlikely to represent the intended person name since it contains only a single component. Construct a person name according to the format in described in https://dicom.nema.org/dicom/2013/output/chtml/part05/sect_6.2.html#sect_6.2.1.2, or, in pydicom 2.2.0 or later, use the pydicom.valuerep.PersonName.from_named_components() method to construct the person name correctly. If a single-component name is really intended, add a trailing caret character to disambiguate the name.\n",
            "  check_person_name(patient_name)\n"
          ]
        },
        {
          "output_type": "stream",
          "name": "stdout",
          "text": [
            "********** On patient: ProstateX-0184 **********\n",
            "num_series: 1\n",
            "***** On series: 1.3.6.1.4.1.14519.5.2.1.7311.5101.304058605325520782900293953679 *****\n",
            "SeriesInstanceUID: 1.3.6.1.4.1.14519.5.2.1.7311.5101.304058605325520782900293953679\n"
          ]
        },
        {
          "output_type": "stream",
          "name": "stderr",
          "text": [
            "Downloading data: 100%|█████████▉| 5.68M/5.68M [00:03<00:00, 1.89MB/s]"
          ]
        },
        {
          "output_type": "stream",
          "name": "stdout",
          "text": [
            "FrameOfReferenceUID: 1.3.6.1.4.1.14519.5.2.1.7311.5101.197779337997009608274230666595\n",
            "Parsing 8.75216 26.8913 -82.9706\n",
            "Parsing 25.2714 23.2703 -81.1427\n",
            "2\n"
          ]
        },
        {
          "output_type": "stream",
          "name": "stderr",
          "text": [
            "\n",
            "/usr/local/lib/python3.11/dist-packages/highdicom/base.py:163: UserWarning: The string \"ProstateX-0184\" is unlikely to represent the intended person name since it contains only a single component. Construct a person name according to the format in described in https://dicom.nema.org/dicom/2013/output/chtml/part05/sect_6.2.html#sect_6.2.1.2, or, in pydicom 2.2.0 or later, use the pydicom.valuerep.PersonName.from_named_components() method to construct the person name correctly. If a single-component name is really intended, add a trailing caret character to disambiguate the name.\n",
            "  check_person_name(patient_name)\n"
          ]
        },
        {
          "output_type": "stream",
          "name": "stdout",
          "text": [
            "********** On patient: ProstateX-0185 **********\n",
            "num_series: 2\n",
            "***** On series: 1.3.6.1.4.1.14519.5.2.1.7311.5101.151926116701993828339629854929 *****\n",
            "SeriesInstanceUID: 1.3.6.1.4.1.14519.5.2.1.7311.5101.151926116701993828339629854929\n"
          ]
        },
        {
          "output_type": "stream",
          "name": "stderr",
          "text": [
            "Downloading data: 100%|█████████▉| 5.68M/5.68M [00:02<00:00, 2.27MB/s]"
          ]
        },
        {
          "output_type": "stream",
          "name": "stdout",
          "text": [
            "FrameOfReferenceUID: 1.3.6.1.4.1.14519.5.2.1.7311.5101.211898739555693989378665593399\n",
            "Parsing -36.5467 15.7218 22.3888\n",
            "1\n"
          ]
        },
        {
          "output_type": "stream",
          "name": "stderr",
          "text": [
            "\n",
            "/usr/local/lib/python3.11/dist-packages/highdicom/base.py:163: UserWarning: The string \"ProstateX-0185\" is unlikely to represent the intended person name since it contains only a single component. Construct a person name according to the format in described in https://dicom.nema.org/dicom/2013/output/chtml/part05/sect_6.2.html#sect_6.2.1.2, or, in pydicom 2.2.0 or later, use the pydicom.valuerep.PersonName.from_named_components() method to construct the person name correctly. If a single-component name is really intended, add a trailing caret character to disambiguate the name.\n",
            "  check_person_name(patient_name)\n"
          ]
        },
        {
          "output_type": "stream",
          "name": "stdout",
          "text": [
            "***** On series: 1.3.6.1.4.1.14519.5.2.1.7311.5101.499535836520877428039158411409 *****\n",
            "SeriesInstanceUID: 1.3.6.1.4.1.14519.5.2.1.7311.5101.499535836520877428039158411409\n"
          ]
        },
        {
          "output_type": "stream",
          "name": "stderr",
          "text": [
            "Downloading data: 100%|█████████▉| 5.68M/5.68M [00:02<00:00, 2.26MB/s]"
          ]
        },
        {
          "output_type": "stream",
          "name": "stdout",
          "text": [
            "FrameOfReferenceUID: 1.3.6.1.4.1.14519.5.2.1.7311.5101.211898739555693989378665593399\n",
            "Parsing -36.5467 15.7218 22.3888\n",
            "1\n"
          ]
        },
        {
          "output_type": "stream",
          "name": "stderr",
          "text": [
            "\n",
            "/usr/local/lib/python3.11/dist-packages/highdicom/base.py:163: UserWarning: The string \"ProstateX-0185\" is unlikely to represent the intended person name since it contains only a single component. Construct a person name according to the format in described in https://dicom.nema.org/dicom/2013/output/chtml/part05/sect_6.2.html#sect_6.2.1.2, or, in pydicom 2.2.0 or later, use the pydicom.valuerep.PersonName.from_named_components() method to construct the person name correctly. If a single-component name is really intended, add a trailing caret character to disambiguate the name.\n",
            "  check_person_name(patient_name)\n"
          ]
        },
        {
          "output_type": "stream",
          "name": "stdout",
          "text": [
            "********** On patient: ProstateX-0186 **********\n",
            "num_series: 2\n",
            "***** On series: 1.3.6.1.4.1.14519.5.2.1.7311.5101.310468266072373540926387115751 *****\n",
            "SeriesInstanceUID: 1.3.6.1.4.1.14519.5.2.1.7311.5101.310468266072373540926387115751\n"
          ]
        },
        {
          "output_type": "stream",
          "name": "stderr",
          "text": [
            "Downloading data: 100%|█████████▉| 5.68M/5.68M [00:02<00:00, 2.26MB/s]"
          ]
        },
        {
          "output_type": "stream",
          "name": "stdout",
          "text": [
            "FrameOfReferenceUID: 1.3.6.1.4.1.14519.5.2.1.7311.5101.100936877588627410101865718681\n",
            "Parsing -0.209802 19.6911 22.6179\n",
            "Parsing 11.8551 32.938 20.8921\n",
            "2\n"
          ]
        },
        {
          "output_type": "stream",
          "name": "stderr",
          "text": [
            "\n",
            "/usr/local/lib/python3.11/dist-packages/highdicom/base.py:163: UserWarning: The string \"ProstateX-0186\" is unlikely to represent the intended person name since it contains only a single component. Construct a person name according to the format in described in https://dicom.nema.org/dicom/2013/output/chtml/part05/sect_6.2.html#sect_6.2.1.2, or, in pydicom 2.2.0 or later, use the pydicom.valuerep.PersonName.from_named_components() method to construct the person name correctly. If a single-component name is really intended, add a trailing caret character to disambiguate the name.\n",
            "  check_person_name(patient_name)\n"
          ]
        },
        {
          "output_type": "stream",
          "name": "stdout",
          "text": [
            "***** On series: 1.3.6.1.4.1.14519.5.2.1.7311.5101.335300771013550860456101430334 *****\n",
            "SeriesInstanceUID: 1.3.6.1.4.1.14519.5.2.1.7311.5101.335300771013550860456101430334\n"
          ]
        },
        {
          "output_type": "stream",
          "name": "stderr",
          "text": [
            "Downloading data: 100%|█████████▉| 5.68M/5.68M [00:02<00:00, 2.26MB/s]"
          ]
        },
        {
          "output_type": "stream",
          "name": "stdout",
          "text": [
            "FrameOfReferenceUID: 1.3.6.1.4.1.14519.5.2.1.7311.5101.100936877588627410101865718681\n",
            "Parsing -0.209802 19.6911 22.6179\n",
            "Parsing 11.8551 32.938 20.8921\n",
            "2\n"
          ]
        },
        {
          "output_type": "stream",
          "name": "stderr",
          "text": [
            "\n",
            "/usr/local/lib/python3.11/dist-packages/highdicom/base.py:163: UserWarning: The string \"ProstateX-0186\" is unlikely to represent the intended person name since it contains only a single component. Construct a person name according to the format in described in https://dicom.nema.org/dicom/2013/output/chtml/part05/sect_6.2.html#sect_6.2.1.2, or, in pydicom 2.2.0 or later, use the pydicom.valuerep.PersonName.from_named_components() method to construct the person name correctly. If a single-component name is really intended, add a trailing caret character to disambiguate the name.\n",
            "  check_person_name(patient_name)\n"
          ]
        },
        {
          "output_type": "stream",
          "name": "stdout",
          "text": [
            "********** On patient: ProstateX-0187 **********\n",
            "num_series: 1\n",
            "***** On series: 1.3.6.1.4.1.14519.5.2.1.7311.5101.180897290010820067884877867369 *****\n",
            "SeriesInstanceUID: 1.3.6.1.4.1.14519.5.2.1.7311.5101.180897290010820067884877867369\n"
          ]
        },
        {
          "output_type": "stream",
          "name": "stderr",
          "text": [
            "Downloading data: 100%|█████████▉| 6.88M/6.88M [00:02<00:00, 2.74MB/s]"
          ]
        },
        {
          "output_type": "stream",
          "name": "stdout",
          "text": [
            "FrameOfReferenceUID: 1.3.6.1.4.1.14519.5.2.1.7311.5101.122769170517768020728932176119\n",
            "Parsing 15.6411 12.9549 -36.1184\n",
            "Parsing 9.00901 8.66353 -21.6164\n",
            "Parsing 28.2186 12.6441 -8.76523\n",
            "3\n"
          ]
        },
        {
          "output_type": "stream",
          "name": "stderr",
          "text": [
            "\n",
            "/usr/local/lib/python3.11/dist-packages/highdicom/base.py:163: UserWarning: The string \"ProstateX-0187\" is unlikely to represent the intended person name since it contains only a single component. Construct a person name according to the format in described in https://dicom.nema.org/dicom/2013/output/chtml/part05/sect_6.2.html#sect_6.2.1.2, or, in pydicom 2.2.0 or later, use the pydicom.valuerep.PersonName.from_named_components() method to construct the person name correctly. If a single-component name is really intended, add a trailing caret character to disambiguate the name.\n",
            "  check_person_name(patient_name)\n"
          ]
        },
        {
          "output_type": "stream",
          "name": "stdout",
          "text": [
            "********** On patient: ProstateX-0188 **********\n",
            "num_series: 1\n",
            "***** On series: 1.3.6.1.4.1.14519.5.2.1.7311.5101.155875154686610653777230856177 *****\n",
            "SeriesInstanceUID: 1.3.6.1.4.1.14519.5.2.1.7311.5101.155875154686610653777230856177\n"
          ]
        },
        {
          "output_type": "stream",
          "name": "stderr",
          "text": [
            "Downloading data: 100%|█████████▉| 6.28M/6.28M [00:02<00:00, 2.50MB/s]"
          ]
        },
        {
          "output_type": "stream",
          "name": "stdout",
          "text": [
            "FrameOfReferenceUID: 1.3.6.1.4.1.14519.5.2.1.7311.5101.334961355939108144354161494587\n",
            "Parsing -28.3426 16.8586 -14.8499\n",
            "1\n"
          ]
        },
        {
          "output_type": "stream",
          "name": "stderr",
          "text": [
            "\n",
            "/usr/local/lib/python3.11/dist-packages/highdicom/base.py:163: UserWarning: The string \"ProstateX-0188\" is unlikely to represent the intended person name since it contains only a single component. Construct a person name according to the format in described in https://dicom.nema.org/dicom/2013/output/chtml/part05/sect_6.2.html#sect_6.2.1.2, or, in pydicom 2.2.0 or later, use the pydicom.valuerep.PersonName.from_named_components() method to construct the person name correctly. If a single-component name is really intended, add a trailing caret character to disambiguate the name.\n",
            "  check_person_name(patient_name)\n"
          ]
        },
        {
          "output_type": "stream",
          "name": "stdout",
          "text": [
            "********** On patient: ProstateX-0189 **********\n",
            "num_series: 1\n",
            "***** On series: 1.3.6.1.4.1.14519.5.2.1.7311.5101.245643584452698738579432409288 *****\n",
            "SeriesInstanceUID: 1.3.6.1.4.1.14519.5.2.1.7311.5101.245643584452698738579432409288\n"
          ]
        },
        {
          "output_type": "stream",
          "name": "stderr",
          "text": [
            "Downloading data: 100%|█████████▉| 5.68M/5.68M [00:03<00:00, 1.88MB/s]"
          ]
        },
        {
          "output_type": "stream",
          "name": "stdout",
          "text": [
            "FrameOfReferenceUID: 1.3.6.1.4.1.14519.5.2.1.7311.5101.321176568458999353195529536326\n",
            "Parsing 18.4185 36.54 -10.9865\n",
            "Parsing 5.92835 37.8942 5.98516\n",
            "Parsing 8.35175 26.1661 -23.7111\n",
            "3\n"
          ]
        },
        {
          "output_type": "stream",
          "name": "stderr",
          "text": [
            "\n",
            "/usr/local/lib/python3.11/dist-packages/highdicom/base.py:163: UserWarning: The string \"ProstateX-0189\" is unlikely to represent the intended person name since it contains only a single component. Construct a person name according to the format in described in https://dicom.nema.org/dicom/2013/output/chtml/part05/sect_6.2.html#sect_6.2.1.2, or, in pydicom 2.2.0 or later, use the pydicom.valuerep.PersonName.from_named_components() method to construct the person name correctly. If a single-component name is really intended, add a trailing caret character to disambiguate the name.\n",
            "  check_person_name(patient_name)\n"
          ]
        },
        {
          "output_type": "stream",
          "name": "stdout",
          "text": [
            "********** On patient: ProstateX-0190 **********\n",
            "num_series: 1\n",
            "***** On series: 1.3.6.1.4.1.14519.5.2.1.7311.5101.285223877732426820048747382713 *****\n",
            "SeriesInstanceUID: 1.3.6.1.4.1.14519.5.2.1.7311.5101.285223877732426820048747382713\n"
          ]
        },
        {
          "output_type": "stream",
          "name": "stderr",
          "text": [
            "Downloading data: 100%|█████████▉| 5.68M/5.68M [00:02<00:00, 2.26MB/s]"
          ]
        },
        {
          "output_type": "stream",
          "name": "stdout",
          "text": [
            "FrameOfReferenceUID: 1.3.6.1.4.1.14519.5.2.1.7311.5101.163733356748383929282802883589\n",
            "Parsing 7.16203 24.1384 -43.6284\n",
            "Parsing 18.0346 25.0828 -33.7677\n",
            "2\n"
          ]
        },
        {
          "output_type": "stream",
          "name": "stderr",
          "text": [
            "\n",
            "/usr/local/lib/python3.11/dist-packages/highdicom/base.py:163: UserWarning: The string \"ProstateX-0190\" is unlikely to represent the intended person name since it contains only a single component. Construct a person name according to the format in described in https://dicom.nema.org/dicom/2013/output/chtml/part05/sect_6.2.html#sect_6.2.1.2, or, in pydicom 2.2.0 or later, use the pydicom.valuerep.PersonName.from_named_components() method to construct the person name correctly. If a single-component name is really intended, add a trailing caret character to disambiguate the name.\n",
            "  check_person_name(patient_name)\n"
          ]
        },
        {
          "output_type": "stream",
          "name": "stdout",
          "text": [
            "********** On patient: ProstateX-0191 **********\n",
            "num_series: 1\n",
            "***** On series: 1.3.6.1.4.1.14519.5.2.1.7311.5101.275385263606495118256127870574 *****\n",
            "SeriesInstanceUID: 1.3.6.1.4.1.14519.5.2.1.7311.5101.275385263606495118256127870574\n"
          ]
        },
        {
          "output_type": "stream",
          "name": "stderr",
          "text": [
            "Downloading data: 100%|██████████| 5.38M/5.38M [00:02<00:00, 2.15MB/s]"
          ]
        },
        {
          "output_type": "stream",
          "name": "stdout",
          "text": [
            "FrameOfReferenceUID: 1.3.6.1.4.1.14519.5.2.1.7311.5101.156181239828198773904224523971\n",
            "Parsing 20.7818 18.0177 -0.799461\n",
            "1\n"
          ]
        },
        {
          "output_type": "stream",
          "name": "stderr",
          "text": [
            "\n",
            "/usr/local/lib/python3.11/dist-packages/highdicom/base.py:163: UserWarning: The string \"ProstateX-0191\" is unlikely to represent the intended person name since it contains only a single component. Construct a person name according to the format in described in https://dicom.nema.org/dicom/2013/output/chtml/part05/sect_6.2.html#sect_6.2.1.2, or, in pydicom 2.2.0 or later, use the pydicom.valuerep.PersonName.from_named_components() method to construct the person name correctly. If a single-component name is really intended, add a trailing caret character to disambiguate the name.\n",
            "  check_person_name(patient_name)\n"
          ]
        },
        {
          "output_type": "stream",
          "name": "stdout",
          "text": [
            "********** On patient: ProstateX-0192 **********\n",
            "num_series: 1\n",
            "***** On series: 1.3.6.1.4.1.14519.5.2.1.7311.5101.155909086837320349352604162626 *****\n",
            "SeriesInstanceUID: 1.3.6.1.4.1.14519.5.2.1.7311.5101.155909086837320349352604162626\n"
          ]
        },
        {
          "output_type": "stream",
          "name": "stderr",
          "text": [
            "Downloading data: 100%|█████████▉| 5.68M/5.68M [00:02<00:00, 2.26MB/s]"
          ]
        },
        {
          "output_type": "stream",
          "name": "stdout",
          "text": [
            "FrameOfReferenceUID: 1.3.6.1.4.1.14519.5.2.1.7311.5101.977243798917837982303558923277\n",
            "Parsing 31.2186 41.3789 -1.29214\n",
            "Parsing 4.38277 45.7107 13.0712\n",
            "2\n"
          ]
        },
        {
          "output_type": "stream",
          "name": "stderr",
          "text": [
            "\n",
            "/usr/local/lib/python3.11/dist-packages/highdicom/base.py:163: UserWarning: The string \"ProstateX-0192\" is unlikely to represent the intended person name since it contains only a single component. Construct a person name according to the format in described in https://dicom.nema.org/dicom/2013/output/chtml/part05/sect_6.2.html#sect_6.2.1.2, or, in pydicom 2.2.0 or later, use the pydicom.valuerep.PersonName.from_named_components() method to construct the person name correctly. If a single-component name is really intended, add a trailing caret character to disambiguate the name.\n",
            "  check_person_name(patient_name)\n"
          ]
        },
        {
          "output_type": "stream",
          "name": "stdout",
          "text": [
            "********** On patient: ProstateX-0193 **********\n",
            "num_series: 1\n",
            "***** On series: 1.3.6.1.4.1.14519.5.2.1.7311.5101.289711251504454079274667690291 *****\n",
            "SeriesInstanceUID: 1.3.6.1.4.1.14519.5.2.1.7311.5101.289711251504454079274667690291\n"
          ]
        },
        {
          "output_type": "stream",
          "name": "stderr",
          "text": [
            "Downloading data: 100%|█████████▉| 5.68M/5.68M [00:02<00:00, 2.26MB/s]\n",
            "/usr/local/lib/python3.11/dist-packages/highdicom/base.py:163: UserWarning: The string \"ProstateX-0193\" is unlikely to represent the intended person name since it contains only a single component. Construct a person name according to the format in described in https://dicom.nema.org/dicom/2013/output/chtml/part05/sect_6.2.html#sect_6.2.1.2, or, in pydicom 2.2.0 or later, use the pydicom.valuerep.PersonName.from_named_components() method to construct the person name correctly. If a single-component name is really intended, add a trailing caret character to disambiguate the name.\n",
            "  check_person_name(patient_name)\n"
          ]
        },
        {
          "output_type": "stream",
          "name": "stdout",
          "text": [
            "FrameOfReferenceUID: 1.3.6.1.4.1.14519.5.2.1.7311.5101.105446180003708568291794899868\n",
            "Parsing 7.42249 10.9888 10.3919\n",
            "Parsing 20.1375 43.9469 9.68558\n",
            "Parsing -2.47701 42.2325 21.9024\n",
            "Parsing 7.42249 43.3791 0.138344\n",
            "4\n",
            "********** On patient: ProstateX-0194 **********\n",
            "num_series: 1\n",
            "***** On series: 1.3.6.1.4.1.14519.5.2.1.7311.5101.281831681044018699292482474399 *****\n",
            "SeriesInstanceUID: 1.3.6.1.4.1.14519.5.2.1.7311.5101.281831681044018699292482474399\n"
          ]
        },
        {
          "output_type": "stream",
          "name": "stderr",
          "text": [
            "Downloading data: 100%|█████████▉| 6.28M/6.28M [00:03<00:00, 2.09MB/s]"
          ]
        },
        {
          "output_type": "stream",
          "name": "stdout",
          "text": [
            "FrameOfReferenceUID: 1.3.6.1.4.1.14519.5.2.1.7311.5101.152202361303488355174425528296\n",
            "Parsing -31.1794 27.3023 13.8725\n",
            "1\n"
          ]
        },
        {
          "output_type": "stream",
          "name": "stderr",
          "text": [
            "\n",
            "/usr/local/lib/python3.11/dist-packages/highdicom/base.py:163: UserWarning: The string \"ProstateX-0194\" is unlikely to represent the intended person name since it contains only a single component. Construct a person name according to the format in described in https://dicom.nema.org/dicom/2013/output/chtml/part05/sect_6.2.html#sect_6.2.1.2, or, in pydicom 2.2.0 or later, use the pydicom.valuerep.PersonName.from_named_components() method to construct the person name correctly. If a single-component name is really intended, add a trailing caret character to disambiguate the name.\n",
            "  check_person_name(patient_name)\n"
          ]
        },
        {
          "output_type": "stream",
          "name": "stdout",
          "text": [
            "********** On patient: ProstateX-0195 **********\n",
            "num_series: 1\n",
            "***** On series: 1.3.6.1.4.1.14519.5.2.1.7311.5101.855474707794645817581504887564 *****\n",
            "SeriesInstanceUID: 1.3.6.1.4.1.14519.5.2.1.7311.5101.855474707794645817581504887564\n"
          ]
        },
        {
          "output_type": "stream",
          "name": "stderr",
          "text": [
            "Downloading data: 100%|█████████▉| 5.68M/5.68M [00:02<00:00, 2.26MB/s]"
          ]
        },
        {
          "output_type": "stream",
          "name": "stdout",
          "text": [
            "FrameOfReferenceUID: 1.3.6.1.4.1.14519.5.2.1.7311.5101.195850694829113876085346814641\n",
            "Parsing -13.0258 7.2252 17.6683\n",
            "1\n"
          ]
        },
        {
          "output_type": "stream",
          "name": "stderr",
          "text": [
            "\n",
            "/usr/local/lib/python3.11/dist-packages/highdicom/base.py:163: UserWarning: The string \"ProstateX-0195\" is unlikely to represent the intended person name since it contains only a single component. Construct a person name according to the format in described in https://dicom.nema.org/dicom/2013/output/chtml/part05/sect_6.2.html#sect_6.2.1.2, or, in pydicom 2.2.0 or later, use the pydicom.valuerep.PersonName.from_named_components() method to construct the person name correctly. If a single-component name is really intended, add a trailing caret character to disambiguate the name.\n",
            "  check_person_name(patient_name)\n"
          ]
        },
        {
          "output_type": "stream",
          "name": "stdout",
          "text": [
            "********** On patient: ProstateX-0196 **********\n",
            "num_series: 1\n",
            "***** On series: 1.3.6.1.4.1.14519.5.2.1.7311.5101.928012760939767746081753156593 *****\n",
            "SeriesInstanceUID: 1.3.6.1.4.1.14519.5.2.1.7311.5101.928012760939767746081753156593\n"
          ]
        },
        {
          "output_type": "stream",
          "name": "stderr",
          "text": [
            "Downloading data: 100%|█████████▉| 6.28M/6.28M [00:02<00:00, 2.50MB/s]"
          ]
        },
        {
          "output_type": "stream",
          "name": "stdout",
          "text": [
            "FrameOfReferenceUID: 1.3.6.1.4.1.14519.5.2.1.7311.5101.193828370815864809529145176061\n",
            "Parsing 12.1189 32.1358 -5.88878\n",
            "Parsing 35.2755 27.3587 -8.26241\n",
            "Parsing 7.7081 18.6187 -7.06518\n",
            "3\n"
          ]
        },
        {
          "output_type": "stream",
          "name": "stderr",
          "text": [
            "\n",
            "/usr/local/lib/python3.11/dist-packages/highdicom/base.py:163: UserWarning: The string \"ProstateX-0196\" is unlikely to represent the intended person name since it contains only a single component. Construct a person name according to the format in described in https://dicom.nema.org/dicom/2013/output/chtml/part05/sect_6.2.html#sect_6.2.1.2, or, in pydicom 2.2.0 or later, use the pydicom.valuerep.PersonName.from_named_components() method to construct the person name correctly. If a single-component name is really intended, add a trailing caret character to disambiguate the name.\n",
            "  check_person_name(patient_name)\n"
          ]
        },
        {
          "output_type": "stream",
          "name": "stdout",
          "text": [
            "********** On patient: ProstateX-0197 **********\n",
            "num_series: 2\n",
            "***** On series: 1.3.6.1.4.1.14519.5.2.1.7311.5101.162168388081775933157117953368 *****\n",
            "SeriesInstanceUID: 1.3.6.1.4.1.14519.5.2.1.7311.5101.162168388081775933157117953368\n"
          ]
        },
        {
          "output_type": "stream",
          "name": "stderr",
          "text": [
            "Downloading data: 100%|█████████▉| 5.68M/5.68M [00:02<00:00, 2.26MB/s]"
          ]
        },
        {
          "output_type": "stream",
          "name": "stdout",
          "text": [
            "FrameOfReferenceUID: 1.3.6.1.4.1.14519.5.2.1.7311.5101.255852558068113391151701004337\n",
            "Parsing 11.537 21.7114 31.1706\n",
            "1\n"
          ]
        },
        {
          "output_type": "stream",
          "name": "stderr",
          "text": [
            "\n",
            "/usr/local/lib/python3.11/dist-packages/highdicom/base.py:163: UserWarning: The string \"ProstateX-0197\" is unlikely to represent the intended person name since it contains only a single component. Construct a person name according to the format in described in https://dicom.nema.org/dicom/2013/output/chtml/part05/sect_6.2.html#sect_6.2.1.2, or, in pydicom 2.2.0 or later, use the pydicom.valuerep.PersonName.from_named_components() method to construct the person name correctly. If a single-component name is really intended, add a trailing caret character to disambiguate the name.\n",
            "  check_person_name(patient_name)\n"
          ]
        },
        {
          "output_type": "stream",
          "name": "stdout",
          "text": [
            "***** On series: 1.3.6.1.4.1.14519.5.2.1.7311.5101.209027431250861333383033880802 *****\n",
            "SeriesInstanceUID: 1.3.6.1.4.1.14519.5.2.1.7311.5101.209027431250861333383033880802\n"
          ]
        },
        {
          "output_type": "stream",
          "name": "stderr",
          "text": [
            "Downloading data: 100%|█████████▉| 5.68M/5.68M [00:03<00:00, 1.88MB/s]"
          ]
        },
        {
          "output_type": "stream",
          "name": "stdout",
          "text": [
            "FrameOfReferenceUID: 1.3.6.1.4.1.14519.5.2.1.7311.5101.255852558068113391151701004337\n",
            "Parsing 11.537 21.7114 31.1706\n",
            "1\n"
          ]
        },
        {
          "output_type": "stream",
          "name": "stderr",
          "text": [
            "\n",
            "/usr/local/lib/python3.11/dist-packages/highdicom/base.py:163: UserWarning: The string \"ProstateX-0197\" is unlikely to represent the intended person name since it contains only a single component. Construct a person name according to the format in described in https://dicom.nema.org/dicom/2013/output/chtml/part05/sect_6.2.html#sect_6.2.1.2, or, in pydicom 2.2.0 or later, use the pydicom.valuerep.PersonName.from_named_components() method to construct the person name correctly. If a single-component name is really intended, add a trailing caret character to disambiguate the name.\n",
            "  check_person_name(patient_name)\n"
          ]
        },
        {
          "output_type": "stream",
          "name": "stdout",
          "text": [
            "********** On patient: ProstateX-0198 **********\n",
            "num_series: 1\n",
            "***** On series: 1.3.6.1.4.1.14519.5.2.1.7311.5101.333332554059735467244825907777 *****\n",
            "SeriesInstanceUID: 1.3.6.1.4.1.14519.5.2.1.7311.5101.333332554059735467244825907777\n"
          ]
        },
        {
          "output_type": "stream",
          "name": "stderr",
          "text": [
            "Downloading data: 100%|█████████▉| 5.68M/5.68M [00:02<00:00, 2.26MB/s]"
          ]
        },
        {
          "output_type": "stream",
          "name": "stdout",
          "text": [
            "FrameOfReferenceUID: 1.3.6.1.4.1.14519.5.2.1.7311.5101.145853518498300742185072259241\n",
            "Parsing -5.12248 6.53627 -108.337\n",
            "1\n"
          ]
        },
        {
          "output_type": "stream",
          "name": "stderr",
          "text": [
            "\n",
            "/usr/local/lib/python3.11/dist-packages/highdicom/base.py:163: UserWarning: The string \"ProstateX-0198\" is unlikely to represent the intended person name since it contains only a single component. Construct a person name according to the format in described in https://dicom.nema.org/dicom/2013/output/chtml/part05/sect_6.2.html#sect_6.2.1.2, or, in pydicom 2.2.0 or later, use the pydicom.valuerep.PersonName.from_named_components() method to construct the person name correctly. If a single-component name is really intended, add a trailing caret character to disambiguate the name.\n",
            "  check_person_name(patient_name)\n"
          ]
        },
        {
          "output_type": "stream",
          "name": "stdout",
          "text": [
            "********** On patient: ProstateX-0199 **********\n",
            "num_series: 1\n",
            "***** On series: 1.3.6.1.4.1.14519.5.2.1.7311.5101.468264361024689646978006199785 *****\n",
            "SeriesInstanceUID: 1.3.6.1.4.1.14519.5.2.1.7311.5101.468264361024689646978006199785\n"
          ]
        },
        {
          "output_type": "stream",
          "name": "stderr",
          "text": [
            "Downloading data: 100%|█████████▉| 3.97M/3.97M [00:02<00:00, 1.58MB/s]"
          ]
        },
        {
          "output_type": "stream",
          "name": "stdout",
          "text": [
            "FrameOfReferenceUID: 1.3.6.1.4.1.14519.5.2.1.7311.5101.318399135392442919669663066021\n",
            "Parsing -4.267512 -51.1958 4.3458\n",
            "Parsing  -20.3406 -48.9915 -12.8204\n",
            "2\n"
          ]
        },
        {
          "output_type": "stream",
          "name": "stderr",
          "text": [
            "\n",
            "/usr/local/lib/python3.11/dist-packages/highdicom/base.py:163: UserWarning: The string \"ProstateX-0199\" is unlikely to represent the intended person name since it contains only a single component. Construct a person name according to the format in described in https://dicom.nema.org/dicom/2013/output/chtml/part05/sect_6.2.html#sect_6.2.1.2, or, in pydicom 2.2.0 or later, use the pydicom.valuerep.PersonName.from_named_components() method to construct the person name correctly. If a single-component name is really intended, add a trailing caret character to disambiguate the name.\n",
            "  check_person_name(patient_name)\n"
          ]
        },
        {
          "output_type": "stream",
          "name": "stdout",
          "text": [
            "********** On patient: ProstateX-0200 **********\n",
            "num_series: 2\n",
            "***** On series: 1.3.6.1.4.1.14519.5.2.1.7311.5101.261628370676428418409614548364 *****\n",
            "SeriesInstanceUID: 1.3.6.1.4.1.14519.5.2.1.7311.5101.261628370676428418409614548364\n"
          ]
        },
        {
          "output_type": "stream",
          "name": "stderr",
          "text": [
            "Downloading data: 100%|██████████| 4.38M/4.38M [00:02<00:00, 1.75MB/s]"
          ]
        },
        {
          "output_type": "stream",
          "name": "stdout",
          "text": [
            "FrameOfReferenceUID: 1.3.6.1.4.1.14519.5.2.1.7311.5101.153791399156147361954543283771\n",
            "Parsing 21.8727 -28.9887 -64.2121\n",
            "Parsing  -19.0211715698242 -35.6678161621094 -60.5919570922852\n",
            "2\n"
          ]
        },
        {
          "output_type": "stream",
          "name": "stderr",
          "text": [
            "\n",
            "/usr/local/lib/python3.11/dist-packages/highdicom/base.py:163: UserWarning: The string \"ProstateX-0200\" is unlikely to represent the intended person name since it contains only a single component. Construct a person name according to the format in described in https://dicom.nema.org/dicom/2013/output/chtml/part05/sect_6.2.html#sect_6.2.1.2, or, in pydicom 2.2.0 or later, use the pydicom.valuerep.PersonName.from_named_components() method to construct the person name correctly. If a single-component name is really intended, add a trailing caret character to disambiguate the name.\n",
            "  check_person_name(patient_name)\n"
          ]
        },
        {
          "output_type": "stream",
          "name": "stdout",
          "text": [
            "***** On series: 1.3.6.1.4.1.14519.5.2.1.7311.5101.771777989547133361685142176372 *****\n",
            "SeriesInstanceUID: 1.3.6.1.4.1.14519.5.2.1.7311.5101.771777989547133361685142176372\n"
          ]
        },
        {
          "output_type": "stream",
          "name": "stderr",
          "text": [
            "Downloading data: 100%|██████████| 4.38M/4.38M [00:03<00:00, 1.45MB/s]"
          ]
        },
        {
          "output_type": "stream",
          "name": "stdout",
          "text": [
            "FrameOfReferenceUID: 1.3.6.1.4.1.14519.5.2.1.7311.5101.153791399156147361954543283771\n",
            "Parsing 21.8727 -28.9887 -64.2121\n",
            "Parsing  -19.0211715698242 -35.6678161621094 -60.5919570922852\n",
            "2\n"
          ]
        },
        {
          "output_type": "stream",
          "name": "stderr",
          "text": [
            "\n",
            "/usr/local/lib/python3.11/dist-packages/highdicom/base.py:163: UserWarning: The string \"ProstateX-0200\" is unlikely to represent the intended person name since it contains only a single component. Construct a person name according to the format in described in https://dicom.nema.org/dicom/2013/output/chtml/part05/sect_6.2.html#sect_6.2.1.2, or, in pydicom 2.2.0 or later, use the pydicom.valuerep.PersonName.from_named_components() method to construct the person name correctly. If a single-component name is really intended, add a trailing caret character to disambiguate the name.\n",
            "  check_person_name(patient_name)\n"
          ]
        },
        {
          "output_type": "stream",
          "name": "stdout",
          "text": [
            "********** On patient: ProstateX-0201 **********\n",
            "num_series: 1\n",
            "***** On series: 1.3.6.1.4.1.14519.5.2.1.7311.5101.257928599770116866513356683535 *****\n",
            "SeriesInstanceUID: 1.3.6.1.4.1.14519.5.2.1.7311.5101.257928599770116866513356683535\n"
          ]
        },
        {
          "output_type": "stream",
          "name": "stderr",
          "text": [
            "Downloading data: 100%|██████████| 4.80M/4.80M [00:02<00:00, 1.91MB/s]"
          ]
        },
        {
          "output_type": "stream",
          "name": "stdout",
          "text": [
            "FrameOfReferenceUID: 1.3.6.1.4.1.14519.5.2.1.7311.5101.253186550433396880303456353963\n",
            "Parsing 10.1826 -10.0427 20.9151\n",
            "1\n"
          ]
        },
        {
          "output_type": "stream",
          "name": "stderr",
          "text": [
            "\n",
            "/usr/local/lib/python3.11/dist-packages/highdicom/base.py:163: UserWarning: The string \"ProstateX-0201\" is unlikely to represent the intended person name since it contains only a single component. Construct a person name according to the format in described in https://dicom.nema.org/dicom/2013/output/chtml/part05/sect_6.2.html#sect_6.2.1.2, or, in pydicom 2.2.0 or later, use the pydicom.valuerep.PersonName.from_named_components() method to construct the person name correctly. If a single-component name is really intended, add a trailing caret character to disambiguate the name.\n",
            "  check_person_name(patient_name)\n"
          ]
        },
        {
          "output_type": "stream",
          "name": "stdout",
          "text": [
            "********** On patient: ProstateX-0202 **********\n",
            "num_series: 1\n",
            "***** On series: 1.3.6.1.4.1.14519.5.2.1.7311.5101.726084685263459026564544343194 *****\n",
            "SeriesInstanceUID: 1.3.6.1.4.1.14519.5.2.1.7311.5101.726084685263459026564544343194\n"
          ]
        },
        {
          "output_type": "stream",
          "name": "stderr",
          "text": [
            "Downloading data: 100%|██████████| 4.38M/4.38M [00:02<00:00, 1.75MB/s]"
          ]
        },
        {
          "output_type": "stream",
          "name": "stdout",
          "text": [
            "FrameOfReferenceUID: 1.3.6.1.4.1.14519.5.2.1.7311.5101.674086768578167601929665266873\n",
            "Parsing -0.02085 -44.5506 16.7349\n",
            "Parsing -12.8649 -21.7307 7.76273\n",
            "2\n"
          ]
        },
        {
          "output_type": "stream",
          "name": "stderr",
          "text": [
            "\n",
            "/usr/local/lib/python3.11/dist-packages/highdicom/base.py:163: UserWarning: The string \"ProstateX-0202\" is unlikely to represent the intended person name since it contains only a single component. Construct a person name according to the format in described in https://dicom.nema.org/dicom/2013/output/chtml/part05/sect_6.2.html#sect_6.2.1.2, or, in pydicom 2.2.0 or later, use the pydicom.valuerep.PersonName.from_named_components() method to construct the person name correctly. If a single-component name is really intended, add a trailing caret character to disambiguate the name.\n",
            "  check_person_name(patient_name)\n"
          ]
        },
        {
          "output_type": "stream",
          "name": "stdout",
          "text": [
            "********** On patient: ProstateX-0203 **********\n",
            "num_series: 1\n",
            "***** On series: 1.3.6.1.4.1.14519.5.2.1.7311.5101.483531332865279698809018970756 *****\n",
            "SeriesInstanceUID: 1.3.6.1.4.1.14519.5.2.1.7311.5101.483531332865279698809018970756\n"
          ]
        },
        {
          "output_type": "stream",
          "name": "stderr",
          "text": [
            "Downloading data: 100%|█████████▉| 3.97M/3.97M [00:02<00:00, 1.58MB/s]"
          ]
        },
        {
          "output_type": "stream",
          "name": "stdout",
          "text": [
            "FrameOfReferenceUID: 1.3.6.1.4.1.14519.5.2.1.7311.5101.158698009976071495685094823865\n",
            "Parsing  -10.02681 -18.5905 -75.1691\n",
            "Parsing 10.0280456542969 -4.62264251708984 -90.3759994506836\n",
            "2\n"
          ]
        },
        {
          "output_type": "stream",
          "name": "stderr",
          "text": [
            "\n",
            "/usr/local/lib/python3.11/dist-packages/highdicom/base.py:163: UserWarning: The string \"ProstateX-0203\" is unlikely to represent the intended person name since it contains only a single component. Construct a person name according to the format in described in https://dicom.nema.org/dicom/2013/output/chtml/part05/sect_6.2.html#sect_6.2.1.2, or, in pydicom 2.2.0 or later, use the pydicom.valuerep.PersonName.from_named_components() method to construct the person name correctly. If a single-component name is really intended, add a trailing caret character to disambiguate the name.\n",
            "  check_person_name(patient_name)\n"
          ]
        },
        {
          "output_type": "stream",
          "name": "stdout",
          "text": [
            "********** On patient: ProstateX-0204 **********\n",
            "num_series: 1\n",
            "***** On series: 1.3.6.1.4.1.14519.5.2.1.7311.5101.710992102789339137578810224134 *****\n",
            "SeriesInstanceUID: 1.3.6.1.4.1.14519.5.2.1.7311.5101.710992102789339137578810224134\n"
          ]
        },
        {
          "output_type": "stream",
          "name": "stderr",
          "text": [
            "Downloading data: 100%|█████████▉| 6.28M/6.28M [00:02<00:00, 2.50MB/s]"
          ]
        },
        {
          "output_type": "stream",
          "name": "stdout",
          "text": [
            "FrameOfReferenceUID: 1.3.6.1.4.1.14519.5.2.1.7311.5101.221351907157888248216888359615\n",
            "Parsing 3.95252 26.067 -10.0291\n",
            "Parsing -8.58088 26.3826 -3.63647\n",
            "Parsing 22.3351 40.0699 3.55293\n",
            "3\n"
          ]
        },
        {
          "output_type": "stream",
          "name": "stderr",
          "text": [
            "\n",
            "/usr/local/lib/python3.11/dist-packages/highdicom/base.py:163: UserWarning: The string \"ProstateX-0204\" is unlikely to represent the intended person name since it contains only a single component. Construct a person name according to the format in described in https://dicom.nema.org/dicom/2013/output/chtml/part05/sect_6.2.html#sect_6.2.1.2, or, in pydicom 2.2.0 or later, use the pydicom.valuerep.PersonName.from_named_components() method to construct the person name correctly. If a single-component name is really intended, add a trailing caret character to disambiguate the name.\n",
            "  check_person_name(patient_name)\n"
          ]
        },
        {
          "output_type": "stream",
          "name": "stdout",
          "text": [
            "********** On patient: ProstateX-0205 **********\n",
            "num_series: 1\n",
            "***** On series: 1.3.6.1.4.1.14519.5.2.1.7311.5101.190533169444114211394461562240 *****\n",
            "SeriesInstanceUID: 1.3.6.1.4.1.14519.5.2.1.7311.5101.190533169444114211394461562240\n"
          ]
        },
        {
          "output_type": "stream",
          "name": "stderr",
          "text": [
            "Downloading data: 100%|██████████| 6.87M/6.87M [00:03<00:00, 2.28MB/s]"
          ]
        },
        {
          "output_type": "stream",
          "name": "stdout",
          "text": [
            "FrameOfReferenceUID: 1.3.6.1.4.1.14519.5.2.1.7311.5101.637291429331411288020548582840\n",
            "Parsing -1.86562 30.6426 27.1608\n",
            "1\n"
          ]
        },
        {
          "output_type": "stream",
          "name": "stderr",
          "text": [
            "\n",
            "/usr/local/lib/python3.11/dist-packages/highdicom/base.py:163: UserWarning: The string \"ProstateX-0205\" is unlikely to represent the intended person name since it contains only a single component. Construct a person name according to the format in described in https://dicom.nema.org/dicom/2013/output/chtml/part05/sect_6.2.html#sect_6.2.1.2, or, in pydicom 2.2.0 or later, use the pydicom.valuerep.PersonName.from_named_components() method to construct the person name correctly. If a single-component name is really intended, add a trailing caret character to disambiguate the name.\n",
            "  check_person_name(patient_name)\n"
          ]
        },
        {
          "output_type": "stream",
          "name": "stdout",
          "text": [
            "********** On patient: ProstateX-0206 **********\n",
            "num_series: 1\n",
            "***** On series: 1.3.6.1.4.1.14519.5.2.1.7310.5101.303525861750852730995284862930 *****\n",
            "SeriesInstanceUID: 1.3.6.1.4.1.14519.5.2.1.7310.5101.303525861750852730995284862930\n"
          ]
        },
        {
          "output_type": "stream",
          "name": "stderr",
          "text": [
            "Downloading data: 100%|██████████| 5.69M/5.69M [00:03<00:00, 1.89MB/s]"
          ]
        },
        {
          "output_type": "stream",
          "name": "stdout",
          "text": [
            "FrameOfReferenceUID: 1.3.6.1.4.1.14519.5.2.1.7310.5101.124880245841364625046738094802\n",
            "Parsing -8.21135 38.8642 36.3069\n",
            "1\n"
          ]
        },
        {
          "output_type": "stream",
          "name": "stderr",
          "text": [
            "\n",
            "/usr/local/lib/python3.11/dist-packages/highdicom/base.py:163: UserWarning: The string \"ProstateX-0206\" is unlikely to represent the intended person name since it contains only a single component. Construct a person name according to the format in described in https://dicom.nema.org/dicom/2013/output/chtml/part05/sect_6.2.html#sect_6.2.1.2, or, in pydicom 2.2.0 or later, use the pydicom.valuerep.PersonName.from_named_components() method to construct the person name correctly. If a single-component name is really intended, add a trailing caret character to disambiguate the name.\n",
            "  check_person_name(patient_name)\n"
          ]
        },
        {
          "output_type": "stream",
          "name": "stdout",
          "text": [
            "********** On patient: ProstateX-0207 **********\n",
            "num_series: 1\n",
            "***** On series: 1.3.6.1.4.1.14519.5.2.1.7310.5101.181235565127625868343692734421 *****\n",
            "SeriesInstanceUID: 1.3.6.1.4.1.14519.5.2.1.7310.5101.181235565127625868343692734421\n"
          ]
        },
        {
          "output_type": "stream",
          "name": "stderr",
          "text": [
            "Downloading data: 100%|██████████| 6.29M/6.29M [00:02<00:00, 2.51MB/s]"
          ]
        },
        {
          "output_type": "stream",
          "name": "stdout",
          "text": [
            "FrameOfReferenceUID: 1.3.6.1.4.1.14519.5.2.1.7310.5101.229097146323464962872163836986\n",
            "Parsing -4.64873 39.4624 -42.5734\n",
            "Parsing -0.78383 30.958 -29.0582\n",
            "2\n"
          ]
        },
        {
          "output_type": "stream",
          "name": "stderr",
          "text": [
            "\n",
            "/usr/local/lib/python3.11/dist-packages/highdicom/base.py:163: UserWarning: The string \"ProstateX-0207\" is unlikely to represent the intended person name since it contains only a single component. Construct a person name according to the format in described in https://dicom.nema.org/dicom/2013/output/chtml/part05/sect_6.2.html#sect_6.2.1.2, or, in pydicom 2.2.0 or later, use the pydicom.valuerep.PersonName.from_named_components() method to construct the person name correctly. If a single-component name is really intended, add a trailing caret character to disambiguate the name.\n",
            "  check_person_name(patient_name)\n"
          ]
        },
        {
          "output_type": "stream",
          "name": "stdout",
          "text": [
            "********** On patient: ProstateX-0208 **********\n",
            "num_series: 1\n",
            "***** On series: 1.3.6.1.4.1.14519.5.2.1.7310.5101.154215598935752917640774887185 *****\n",
            "SeriesInstanceUID: 1.3.6.1.4.1.14519.5.2.1.7310.5101.154215598935752917640774887185\n"
          ]
        },
        {
          "output_type": "stream",
          "name": "stderr",
          "text": [
            "Downloading data: 100%|██████████| 5.69M/5.69M [00:03<00:00, 1.89MB/s]"
          ]
        },
        {
          "output_type": "stream",
          "name": "stdout",
          "text": [
            "FrameOfReferenceUID: 1.3.6.1.4.1.14519.5.2.1.7310.5101.134968284698406884172016384416\n",
            "Parsing -21.5946 31.3756418334961 -36.1405659729004\n",
            "Parsing -20.3058 43.0256 -22.7382\n",
            "2\n"
          ]
        },
        {
          "output_type": "stream",
          "name": "stderr",
          "text": [
            "\n",
            "/usr/local/lib/python3.11/dist-packages/highdicom/base.py:163: UserWarning: The string \"ProstateX-0208\" is unlikely to represent the intended person name since it contains only a single component. Construct a person name according to the format in described in https://dicom.nema.org/dicom/2013/output/chtml/part05/sect_6.2.html#sect_6.2.1.2, or, in pydicom 2.2.0 or later, use the pydicom.valuerep.PersonName.from_named_components() method to construct the person name correctly. If a single-component name is really intended, add a trailing caret character to disambiguate the name.\n",
            "  check_person_name(patient_name)\n"
          ]
        },
        {
          "output_type": "stream",
          "name": "stdout",
          "text": [
            "********** On patient: ProstateX-0209 **********\n",
            "num_series: 1\n",
            "***** On series: 1.3.6.1.4.1.14519.5.2.1.7310.5101.217705819956691748023253683197 *****\n",
            "SeriesInstanceUID: 1.3.6.1.4.1.14519.5.2.1.7310.5101.217705819956691748023253683197\n"
          ]
        },
        {
          "output_type": "stream",
          "name": "stderr",
          "text": [
            "Downloading data: 100%|██████████| 6.29M/6.29M [00:02<00:00, 2.51MB/s]"
          ]
        },
        {
          "output_type": "stream",
          "name": "stdout",
          "text": [
            "FrameOfReferenceUID: 1.3.6.1.4.1.14519.5.2.1.7310.5101.163629417502073539332739024975\n",
            "Parsing -2.84908 13.6956 -19.385\n",
            "Parsing 2.19952 16.6817 -7.6418\n",
            "Parsing -17.6317 13.108 -19.3201\n",
            "3\n"
          ]
        },
        {
          "output_type": "stream",
          "name": "stderr",
          "text": [
            "\n",
            "/usr/local/lib/python3.11/dist-packages/highdicom/base.py:163: UserWarning: The string \"ProstateX-0209\" is unlikely to represent the intended person name since it contains only a single component. Construct a person name according to the format in described in https://dicom.nema.org/dicom/2013/output/chtml/part05/sect_6.2.html#sect_6.2.1.2, or, in pydicom 2.2.0 or later, use the pydicom.valuerep.PersonName.from_named_components() method to construct the person name correctly. If a single-component name is really intended, add a trailing caret character to disambiguate the name.\n",
            "  check_person_name(patient_name)\n"
          ]
        },
        {
          "output_type": "stream",
          "name": "stdout",
          "text": [
            "********** On patient: ProstateX-0210 **********\n",
            "num_series: 1\n",
            "***** On series: 1.3.6.1.4.1.14519.5.2.1.7310.5101.184591346294777966752238514147 *****\n",
            "SeriesInstanceUID: 1.3.6.1.4.1.14519.5.2.1.7310.5101.184591346294777966752238514147\n"
          ]
        },
        {
          "output_type": "stream",
          "name": "stderr",
          "text": [
            "Downloading data: 100%|██████████| 6.29M/6.29M [00:02<00:00, 2.51MB/s]"
          ]
        },
        {
          "output_type": "stream",
          "name": "stdout",
          "text": [
            "FrameOfReferenceUID: 1.3.6.1.4.1.14519.5.2.1.7310.5101.124669888338082774507160608503\n",
            "Parsing -20.8497 3.66035 50.7966\n",
            "Parsing -13.31069 8.49834 35.1714\n",
            "Parsing -23.3692 22.5678 57.5124\n",
            "3\n"
          ]
        },
        {
          "output_type": "stream",
          "name": "stderr",
          "text": [
            "\n",
            "/usr/local/lib/python3.11/dist-packages/highdicom/base.py:163: UserWarning: The string \"ProstateX-0210\" is unlikely to represent the intended person name since it contains only a single component. Construct a person name according to the format in described in https://dicom.nema.org/dicom/2013/output/chtml/part05/sect_6.2.html#sect_6.2.1.2, or, in pydicom 2.2.0 or later, use the pydicom.valuerep.PersonName.from_named_components() method to construct the person name correctly. If a single-component name is really intended, add a trailing caret character to disambiguate the name.\n",
            "  check_person_name(patient_name)\n"
          ]
        },
        {
          "output_type": "stream",
          "name": "stdout",
          "text": [
            "********** On patient: ProstateX-0211 **********\n",
            "num_series: 1\n",
            "***** On series: 1.3.6.1.4.1.14519.5.2.1.7310.5101.101539108853738403623949879520 *****\n",
            "SeriesInstanceUID: 1.3.6.1.4.1.14519.5.2.1.7310.5101.101539108853738403623949879520\n"
          ]
        },
        {
          "output_type": "stream",
          "name": "stderr",
          "text": [
            "Downloading data: 100%|██████████| 5.69M/5.69M [00:02<00:00, 2.27MB/s]"
          ]
        },
        {
          "output_type": "stream",
          "name": "stdout",
          "text": [
            "FrameOfReferenceUID: 1.3.6.1.4.1.14519.5.2.1.7310.5101.146401626923793195915630585079\n",
            "Parsing -3.22711 29.7536 -109.577\n",
            "Parsing -26.2295 42.7474 -115.562\n",
            "2\n"
          ]
        },
        {
          "output_type": "stream",
          "name": "stderr",
          "text": [
            "\n",
            "/usr/local/lib/python3.11/dist-packages/highdicom/base.py:163: UserWarning: The string \"ProstateX-0211\" is unlikely to represent the intended person name since it contains only a single component. Construct a person name according to the format in described in https://dicom.nema.org/dicom/2013/output/chtml/part05/sect_6.2.html#sect_6.2.1.2, or, in pydicom 2.2.0 or later, use the pydicom.valuerep.PersonName.from_named_components() method to construct the person name correctly. If a single-component name is really intended, add a trailing caret character to disambiguate the name.\n",
            "  check_person_name(patient_name)\n"
          ]
        },
        {
          "output_type": "stream",
          "name": "stdout",
          "text": [
            "********** On patient: ProstateX-0212 **********\n",
            "num_series: 1\n",
            "***** On series: 1.3.6.1.4.1.14519.5.2.1.7310.5101.141778792922424766324228695183 *****\n",
            "SeriesInstanceUID: 1.3.6.1.4.1.14519.5.2.1.7310.5101.141778792922424766324228695183\n"
          ]
        },
        {
          "output_type": "stream",
          "name": "stderr",
          "text": [
            "Downloading data: 100%|██████████| 5.69M/5.69M [00:02<00:00, 2.27MB/s]"
          ]
        },
        {
          "output_type": "stream",
          "name": "stdout",
          "text": [
            "FrameOfReferenceUID: 1.3.6.1.4.1.14519.5.2.1.7310.5101.184365317055005044849211035079\n",
            "Parsing 32.7188 46.7009 -90.6172\n",
            "Parsing 21.6087 40.6789 -61.819\n",
            "2\n"
          ]
        },
        {
          "output_type": "stream",
          "name": "stderr",
          "text": [
            "\n",
            "/usr/local/lib/python3.11/dist-packages/highdicom/base.py:163: UserWarning: The string \"ProstateX-0212\" is unlikely to represent the intended person name since it contains only a single component. Construct a person name according to the format in described in https://dicom.nema.org/dicom/2013/output/chtml/part05/sect_6.2.html#sect_6.2.1.2, or, in pydicom 2.2.0 or later, use the pydicom.valuerep.PersonName.from_named_components() method to construct the person name correctly. If a single-component name is really intended, add a trailing caret character to disambiguate the name.\n",
            "  check_person_name(patient_name)\n"
          ]
        },
        {
          "output_type": "stream",
          "name": "stdout",
          "text": [
            "********** On patient: ProstateX-0213 **********\n",
            "num_series: 1\n",
            "***** On series: 1.3.6.1.4.1.14519.5.2.1.7310.5101.541906759419943648458134925226 *****\n",
            "SeriesInstanceUID: 1.3.6.1.4.1.14519.5.2.1.7310.5101.541906759419943648458134925226\n"
          ]
        },
        {
          "output_type": "stream",
          "name": "stderr",
          "text": [
            "Downloading data: 100%|██████████| 5.69M/5.69M [00:03<00:00, 1.89MB/s]"
          ]
        },
        {
          "output_type": "stream",
          "name": "stdout",
          "text": [
            "FrameOfReferenceUID: 1.3.6.1.4.1.14519.5.2.1.7310.5101.292726770880833568425870681806\n",
            "Parsing -18.7094 27.5115 -37.3373\n",
            "1\n"
          ]
        },
        {
          "output_type": "stream",
          "name": "stderr",
          "text": [
            "\n",
            "/usr/local/lib/python3.11/dist-packages/highdicom/base.py:163: UserWarning: The string \"ProstateX-0213\" is unlikely to represent the intended person name since it contains only a single component. Construct a person name according to the format in described in https://dicom.nema.org/dicom/2013/output/chtml/part05/sect_6.2.html#sect_6.2.1.2, or, in pydicom 2.2.0 or later, use the pydicom.valuerep.PersonName.from_named_components() method to construct the person name correctly. If a single-component name is really intended, add a trailing caret character to disambiguate the name.\n",
            "  check_person_name(patient_name)\n"
          ]
        },
        {
          "output_type": "stream",
          "name": "stdout",
          "text": [
            "********** On patient: ProstateX-0214 **********\n",
            "num_series: 1\n",
            "***** On series: 1.3.6.1.4.1.14519.5.2.1.7310.5101.243497112464920849972755957295 *****\n",
            "SeriesInstanceUID: 1.3.6.1.4.1.14519.5.2.1.7310.5101.243497112464920849972755957295\n"
          ]
        },
        {
          "output_type": "stream",
          "name": "stderr",
          "text": [
            "Downloading data: 100%|██████████| 5.69M/5.69M [00:02<00:00, 2.27MB/s]"
          ]
        },
        {
          "output_type": "stream",
          "name": "stdout",
          "text": [
            "FrameOfReferenceUID: 1.3.6.1.4.1.14519.5.2.1.7310.5101.305831997955353345492275249268\n",
            "Parsing 23.7333 14.4991 50.1458\n",
            "Parsing 7.22653 35.0735 54.9713\n",
            "2\n"
          ]
        },
        {
          "output_type": "stream",
          "name": "stderr",
          "text": [
            "\n",
            "/usr/local/lib/python3.11/dist-packages/highdicom/base.py:163: UserWarning: The string \"ProstateX-0214\" is unlikely to represent the intended person name since it contains only a single component. Construct a person name according to the format in described in https://dicom.nema.org/dicom/2013/output/chtml/part05/sect_6.2.html#sect_6.2.1.2, or, in pydicom 2.2.0 or later, use the pydicom.valuerep.PersonName.from_named_components() method to construct the person name correctly. If a single-component name is really intended, add a trailing caret character to disambiguate the name.\n",
            "  check_person_name(patient_name)\n"
          ]
        },
        {
          "output_type": "stream",
          "name": "stdout",
          "text": [
            "********** On patient: ProstateX-0215 **********\n",
            "num_series: 1\n",
            "***** On series: 1.3.6.1.4.1.14519.5.2.1.7310.5101.136420659135077137665295528348 *****\n",
            "SeriesInstanceUID: 1.3.6.1.4.1.14519.5.2.1.7310.5101.136420659135077137665295528348\n"
          ]
        },
        {
          "output_type": "stream",
          "name": "stderr",
          "text": [
            "Downloading data: 100%|██████████| 5.69M/5.69M [00:02<00:00, 2.27MB/s]"
          ]
        },
        {
          "output_type": "stream",
          "name": "stdout",
          "text": [
            "FrameOfReferenceUID: 1.3.6.1.4.1.14519.5.2.1.7310.5101.269637970747170076747832283054\n",
            "Parsing -22.2015 4.63269 21.2696\n",
            "1\n"
          ]
        },
        {
          "output_type": "stream",
          "name": "stderr",
          "text": [
            "\n",
            "/usr/local/lib/python3.11/dist-packages/highdicom/base.py:163: UserWarning: The string \"ProstateX-0215\" is unlikely to represent the intended person name since it contains only a single component. Construct a person name according to the format in described in https://dicom.nema.org/dicom/2013/output/chtml/part05/sect_6.2.html#sect_6.2.1.2, or, in pydicom 2.2.0 or later, use the pydicom.valuerep.PersonName.from_named_components() method to construct the person name correctly. If a single-component name is really intended, add a trailing caret character to disambiguate the name.\n",
            "  check_person_name(patient_name)\n"
          ]
        },
        {
          "output_type": "stream",
          "name": "stdout",
          "text": [
            "********** On patient: ProstateX-0216 **********\n",
            "num_series: 1\n",
            "***** On series: 1.3.6.1.4.1.14519.5.2.1.7310.5101.302512962309977607689817264320 *****\n",
            "SeriesInstanceUID: 1.3.6.1.4.1.14519.5.2.1.7310.5101.302512962309977607689817264320\n"
          ]
        },
        {
          "output_type": "stream",
          "name": "stderr",
          "text": [
            "Downloading data: 100%|██████████| 8.69M/8.69M [00:02<00:00, 3.46MB/s]"
          ]
        },
        {
          "output_type": "stream",
          "name": "stdout",
          "text": [
            "FrameOfReferenceUID: 1.3.6.1.4.1.14519.5.2.1.7310.5101.325736044334077431962105705408\n",
            "Parsing 35.6435 10.2618 31.4949\n",
            "1\n"
          ]
        },
        {
          "output_type": "stream",
          "name": "stderr",
          "text": [
            "\n",
            "/usr/local/lib/python3.11/dist-packages/highdicom/base.py:163: UserWarning: The string \"ProstateX-0216\" is unlikely to represent the intended person name since it contains only a single component. Construct a person name according to the format in described in https://dicom.nema.org/dicom/2013/output/chtml/part05/sect_6.2.html#sect_6.2.1.2, or, in pydicom 2.2.0 or later, use the pydicom.valuerep.PersonName.from_named_components() method to construct the person name correctly. If a single-component name is really intended, add a trailing caret character to disambiguate the name.\n",
            "  check_person_name(patient_name)\n"
          ]
        },
        {
          "output_type": "stream",
          "name": "stdout",
          "text": [
            "********** On patient: ProstateX-0217 **********\n",
            "num_series: 1\n",
            "***** On series: 1.3.6.1.4.1.14519.5.2.1.7310.5101.233894782007809884236855995183 *****\n",
            "SeriesInstanceUID: 1.3.6.1.4.1.14519.5.2.1.7310.5101.233894782007809884236855995183\n"
          ]
        },
        {
          "output_type": "stream",
          "name": "stderr",
          "text": [
            "Downloading data: 100%|█████████▉| 4.82M/4.82M [00:02<00:00, 1.92MB/s]"
          ]
        },
        {
          "output_type": "stream",
          "name": "stdout",
          "text": [
            "FrameOfReferenceUID: 1.3.6.1.4.1.14519.5.2.1.7310.5101.176665074197635977100504425378\n",
            "Parsing 19.887 -18.004 -41.0925\n",
            "1\n"
          ]
        },
        {
          "output_type": "stream",
          "name": "stderr",
          "text": [
            "\n",
            "/usr/local/lib/python3.11/dist-packages/highdicom/base.py:163: UserWarning: The string \"ProstateX-0217\" is unlikely to represent the intended person name since it contains only a single component. Construct a person name according to the format in described in https://dicom.nema.org/dicom/2013/output/chtml/part05/sect_6.2.html#sect_6.2.1.2, or, in pydicom 2.2.0 or later, use the pydicom.valuerep.PersonName.from_named_components() method to construct the person name correctly. If a single-component name is really intended, add a trailing caret character to disambiguate the name.\n",
            "  check_person_name(patient_name)\n"
          ]
        },
        {
          "output_type": "stream",
          "name": "stdout",
          "text": [
            "********** On patient: ProstateX-0218 **********\n",
            "num_series: 1\n",
            "***** On series: 1.3.6.1.4.1.14519.5.2.1.7310.5101.160333914331334724030935809906 *****\n",
            "SeriesInstanceUID: 1.3.6.1.4.1.14519.5.2.1.7310.5101.160333914331334724030935809906\n"
          ]
        },
        {
          "output_type": "stream",
          "name": "stderr",
          "text": [
            "Downloading data: 100%|██████████| 4.19M/4.19M [00:02<00:00, 1.67MB/s]"
          ]
        },
        {
          "output_type": "stream",
          "name": "stdout",
          "text": [
            "FrameOfReferenceUID: 1.3.6.1.4.1.14519.5.2.1.7310.5101.259479176047811450441813293088\n",
            "Parsing -23.6045 4.13372 -4.72843\n",
            "1\n"
          ]
        },
        {
          "output_type": "stream",
          "name": "stderr",
          "text": [
            "\n",
            "/usr/local/lib/python3.11/dist-packages/highdicom/base.py:163: UserWarning: The string \"ProstateX-0218\" is unlikely to represent the intended person name since it contains only a single component. Construct a person name according to the format in described in https://dicom.nema.org/dicom/2013/output/chtml/part05/sect_6.2.html#sect_6.2.1.2, or, in pydicom 2.2.0 or later, use the pydicom.valuerep.PersonName.from_named_components() method to construct the person name correctly. If a single-component name is really intended, add a trailing caret character to disambiguate the name.\n",
            "  check_person_name(patient_name)\n"
          ]
        },
        {
          "output_type": "stream",
          "name": "stdout",
          "text": [
            "********** On patient: ProstateX-0219 **********\n",
            "num_series: 1\n",
            "***** On series: 1.3.6.1.4.1.14519.5.2.1.7310.5101.156355474235536930096765953749 *****\n",
            "SeriesInstanceUID: 1.3.6.1.4.1.14519.5.2.1.7310.5101.156355474235536930096765953749\n"
          ]
        },
        {
          "output_type": "stream",
          "name": "stderr",
          "text": [
            "Downloading data: 100%|█████████▉| 4.82M/4.82M [00:02<00:00, 1.92MB/s]"
          ]
        },
        {
          "output_type": "stream",
          "name": "stdout",
          "text": [
            "FrameOfReferenceUID: 1.3.6.1.4.1.14519.5.2.1.7310.5101.155396081437562065454282676744\n",
            "Parsing 31.2634 -6.74286 -50.9639\n",
            "1\n"
          ]
        },
        {
          "output_type": "stream",
          "name": "stderr",
          "text": [
            "\n",
            "/usr/local/lib/python3.11/dist-packages/highdicom/base.py:163: UserWarning: The string \"ProstateX-0219\" is unlikely to represent the intended person name since it contains only a single component. Construct a person name according to the format in described in https://dicom.nema.org/dicom/2013/output/chtml/part05/sect_6.2.html#sect_6.2.1.2, or, in pydicom 2.2.0 or later, use the pydicom.valuerep.PersonName.from_named_components() method to construct the person name correctly. If a single-component name is really intended, add a trailing caret character to disambiguate the name.\n",
            "  check_person_name(patient_name)\n"
          ]
        },
        {
          "output_type": "stream",
          "name": "stdout",
          "text": [
            "********** On patient: ProstateX-0220 **********\n",
            "num_series: 1\n",
            "***** On series: 1.3.6.1.4.1.14519.5.2.1.7310.5101.130359671299852349352049858895 *****\n",
            "SeriesInstanceUID: 1.3.6.1.4.1.14519.5.2.1.7310.5101.130359671299852349352049858895\n"
          ]
        },
        {
          "output_type": "stream",
          "name": "stderr",
          "text": [
            "Downloading data: 100%|█████████▉| 4.40M/4.40M [00:02<00:00, 1.75MB/s]"
          ]
        },
        {
          "output_type": "stream",
          "name": "stdout",
          "text": [
            "FrameOfReferenceUID: 1.3.6.1.4.1.14519.5.2.1.7310.5101.305286630542507841406654885455\n",
            "Parsing 7.91537 -18.5198 -82.0675\n",
            "1\n"
          ]
        },
        {
          "output_type": "stream",
          "name": "stderr",
          "text": [
            "\n",
            "/usr/local/lib/python3.11/dist-packages/highdicom/base.py:163: UserWarning: The string \"ProstateX-0220\" is unlikely to represent the intended person name since it contains only a single component. Construct a person name according to the format in described in https://dicom.nema.org/dicom/2013/output/chtml/part05/sect_6.2.html#sect_6.2.1.2, or, in pydicom 2.2.0 or later, use the pydicom.valuerep.PersonName.from_named_components() method to construct the person name correctly. If a single-component name is really intended, add a trailing caret character to disambiguate the name.\n",
            "  check_person_name(patient_name)\n"
          ]
        },
        {
          "output_type": "stream",
          "name": "stdout",
          "text": [
            "********** On patient: ProstateX-0221 **********\n",
            "num_series: 1\n",
            "***** On series: 1.3.6.1.4.1.14519.5.2.1.7310.5101.115316195341669925573362136950 *****\n",
            "SeriesInstanceUID: 1.3.6.1.4.1.14519.5.2.1.7310.5101.115316195341669925573362136950\n"
          ]
        },
        {
          "output_type": "stream",
          "name": "stderr",
          "text": [
            "Downloading data: 100%|█████████▉| 4.40M/4.40M [00:02<00:00, 1.75MB/s]"
          ]
        },
        {
          "output_type": "stream",
          "name": "stdout",
          "text": [
            "FrameOfReferenceUID: 1.3.6.1.4.1.14519.5.2.1.7310.5101.278317418144329511048720676768\n",
            "Parsing 31.8493903437955 -10.6913658496094 -66.9433795898437\n",
            "1\n"
          ]
        },
        {
          "output_type": "stream",
          "name": "stderr",
          "text": [
            "\n",
            "/usr/local/lib/python3.11/dist-packages/highdicom/base.py:163: UserWarning: The string \"ProstateX-0221\" is unlikely to represent the intended person name since it contains only a single component. Construct a person name according to the format in described in https://dicom.nema.org/dicom/2013/output/chtml/part05/sect_6.2.html#sect_6.2.1.2, or, in pydicom 2.2.0 or later, use the pydicom.valuerep.PersonName.from_named_components() method to construct the person name correctly. If a single-component name is really intended, add a trailing caret character to disambiguate the name.\n",
            "  check_person_name(patient_name)\n"
          ]
        },
        {
          "output_type": "stream",
          "name": "stdout",
          "text": [
            "********** On patient: ProstateX-0222 **********\n",
            "num_series: 1\n",
            "***** On series: 1.3.6.1.4.1.14519.5.2.1.7310.5101.227146260603402787665368997183 *****\n",
            "SeriesInstanceUID: 1.3.6.1.4.1.14519.5.2.1.7310.5101.227146260603402787665368997183\n"
          ]
        },
        {
          "output_type": "stream",
          "name": "stderr",
          "text": [
            "Downloading data: 100%|██████████| 5.69M/5.69M [00:02<00:00, 2.27MB/s]"
          ]
        },
        {
          "output_type": "stream",
          "name": "stdout",
          "text": [
            "FrameOfReferenceUID: 1.3.6.1.4.1.14519.5.2.1.7310.5101.283607599944148278290193003613\n",
            "Parsing -15.3211048332002 21.0878985229492 -11.5281921447754\n",
            "1\n"
          ]
        },
        {
          "output_type": "stream",
          "name": "stderr",
          "text": [
            "\n",
            "/usr/local/lib/python3.11/dist-packages/highdicom/base.py:163: UserWarning: The string \"ProstateX-0222\" is unlikely to represent the intended person name since it contains only a single component. Construct a person name according to the format in described in https://dicom.nema.org/dicom/2013/output/chtml/part05/sect_6.2.html#sect_6.2.1.2, or, in pydicom 2.2.0 or later, use the pydicom.valuerep.PersonName.from_named_components() method to construct the person name correctly. If a single-component name is really intended, add a trailing caret character to disambiguate the name.\n",
            "  check_person_name(patient_name)\n"
          ]
        },
        {
          "output_type": "stream",
          "name": "stdout",
          "text": [
            "********** On patient: ProstateX-0223 **********\n",
            "num_series: 1\n",
            "***** On series: 1.3.6.1.4.1.14519.5.2.1.7310.5101.285377561429881721467174887978 *****\n",
            "SeriesInstanceUID: 1.3.6.1.4.1.14519.5.2.1.7310.5101.285377561429881721467174887978\n"
          ]
        },
        {
          "output_type": "stream",
          "name": "stderr",
          "text": [
            "Downloading data: 100%|██████████| 6.29M/6.29M [00:02<00:00, 2.51MB/s]"
          ]
        },
        {
          "output_type": "stream",
          "name": "stdout",
          "text": [
            "FrameOfReferenceUID: 1.3.6.1.4.1.14519.5.2.1.7310.5101.189300543778271055469649121588\n",
            "Parsing -24.5974 25.6736783691406 29.6183215393066\n",
            "Parsing -23.8525 51.6012 44.0016\n",
            "2\n"
          ]
        },
        {
          "output_type": "stream",
          "name": "stderr",
          "text": [
            "\n",
            "/usr/local/lib/python3.11/dist-packages/highdicom/base.py:163: UserWarning: The string \"ProstateX-0223\" is unlikely to represent the intended person name since it contains only a single component. Construct a person name according to the format in described in https://dicom.nema.org/dicom/2013/output/chtml/part05/sect_6.2.html#sect_6.2.1.2, or, in pydicom 2.2.0 or later, use the pydicom.valuerep.PersonName.from_named_components() method to construct the person name correctly. If a single-component name is really intended, add a trailing caret character to disambiguate the name.\n",
            "  check_person_name(patient_name)\n"
          ]
        },
        {
          "output_type": "stream",
          "name": "stdout",
          "text": [
            "********** On patient: ProstateX-0224 **********\n",
            "num_series: 1\n",
            "***** On series: 1.3.6.1.4.1.14519.5.2.1.7310.5101.116663724291439696905592825647 *****\n",
            "SeriesInstanceUID: 1.3.6.1.4.1.14519.5.2.1.7310.5101.116663724291439696905592825647\n"
          ]
        },
        {
          "output_type": "stream",
          "name": "stderr",
          "text": [
            "Downloading data: 100%|██████████| 4.40M/4.40M [00:02<00:00, 1.75MB/s]"
          ]
        },
        {
          "output_type": "stream",
          "name": "stdout",
          "text": [
            "FrameOfReferenceUID: 1.3.6.1.4.1.14519.5.2.1.7310.5101.302304235715703251503093506905\n",
            "Parsing  -3.10699 -4.44119 -47.059\n",
            "1\n"
          ]
        },
        {
          "output_type": "stream",
          "name": "stderr",
          "text": [
            "\n",
            "/usr/local/lib/python3.11/dist-packages/highdicom/base.py:163: UserWarning: The string \"ProstateX-0224\" is unlikely to represent the intended person name since it contains only a single component. Construct a person name according to the format in described in https://dicom.nema.org/dicom/2013/output/chtml/part05/sect_6.2.html#sect_6.2.1.2, or, in pydicom 2.2.0 or later, use the pydicom.valuerep.PersonName.from_named_components() method to construct the person name correctly. If a single-component name is really intended, add a trailing caret character to disambiguate the name.\n",
            "  check_person_name(patient_name)\n"
          ]
        },
        {
          "output_type": "stream",
          "name": "stdout",
          "text": [
            "********** On patient: ProstateX-0225 **********\n",
            "num_series: 1\n",
            "***** On series: 1.3.6.1.4.1.14519.5.2.1.7310.5101.262368727868099322965643388791 *****\n",
            "SeriesInstanceUID: 1.3.6.1.4.1.14519.5.2.1.7310.5101.262368727868099322965643388791\n"
          ]
        },
        {
          "output_type": "stream",
          "name": "stderr",
          "text": [
            "Downloading data: 100%|██████████| 3.98M/3.98M [00:02<00:00, 1.59MB/s]"
          ]
        },
        {
          "output_type": "stream",
          "name": "stdout",
          "text": [
            "FrameOfReferenceUID: 1.3.6.1.4.1.14519.5.2.1.7310.5101.150653525941060814183648711550\n",
            "Parsing  -34.5633 -5.53885 -33.3099\n",
            "1\n"
          ]
        },
        {
          "output_type": "stream",
          "name": "stderr",
          "text": [
            "\n",
            "/usr/local/lib/python3.11/dist-packages/highdicom/base.py:163: UserWarning: The string \"ProstateX-0225\" is unlikely to represent the intended person name since it contains only a single component. Construct a person name according to the format in described in https://dicom.nema.org/dicom/2013/output/chtml/part05/sect_6.2.html#sect_6.2.1.2, or, in pydicom 2.2.0 or later, use the pydicom.valuerep.PersonName.from_named_components() method to construct the person name correctly. If a single-component name is really intended, add a trailing caret character to disambiguate the name.\n",
            "  check_person_name(patient_name)\n"
          ]
        },
        {
          "output_type": "stream",
          "name": "stdout",
          "text": [
            "********** On patient: ProstateX-0226 **********\n",
            "num_series: 1\n",
            "***** On series: 1.3.6.1.4.1.14519.5.2.1.7310.5101.327688411328303538746086795352 *****\n",
            "SeriesInstanceUID: 1.3.6.1.4.1.14519.5.2.1.7310.5101.327688411328303538746086795352\n"
          ]
        },
        {
          "output_type": "stream",
          "name": "stderr",
          "text": [
            "Downloading data: 100%|██████████| 3.98M/3.98M [00:02<00:00, 1.58MB/s]"
          ]
        },
        {
          "output_type": "stream",
          "name": "stdout",
          "text": [
            "FrameOfReferenceUID: 1.3.6.1.4.1.14519.5.2.1.7310.5101.279423651166727732424913389484\n",
            "Parsing 13.1156 -32.1486 -16.2786\n",
            "Parsing 3.08892 -16.3002 -34.3315\n",
            "2\n"
          ]
        },
        {
          "output_type": "stream",
          "name": "stderr",
          "text": [
            "\n",
            "/usr/local/lib/python3.11/dist-packages/highdicom/base.py:163: UserWarning: The string \"ProstateX-0226\" is unlikely to represent the intended person name since it contains only a single component. Construct a person name according to the format in described in https://dicom.nema.org/dicom/2013/output/chtml/part05/sect_6.2.html#sect_6.2.1.2, or, in pydicom 2.2.0 or later, use the pydicom.valuerep.PersonName.from_named_components() method to construct the person name correctly. If a single-component name is really intended, add a trailing caret character to disambiguate the name.\n",
            "  check_person_name(patient_name)\n"
          ]
        },
        {
          "output_type": "stream",
          "name": "stdout",
          "text": [
            "********** On patient: ProstateX-0227 **********\n",
            "num_series: 1\n",
            "***** On series: 1.3.6.1.4.1.14519.5.2.1.7310.5101.491189432685088911046133238188 *****\n",
            "SeriesInstanceUID: 1.3.6.1.4.1.14519.5.2.1.7310.5101.491189432685088911046133238188\n"
          ]
        },
        {
          "output_type": "stream",
          "name": "stderr",
          "text": [
            "Downloading data: 100%|██████████| 3.98M/3.98M [00:02<00:00, 1.59MB/s]"
          ]
        },
        {
          "output_type": "stream",
          "name": "stdout",
          "text": [
            "FrameOfReferenceUID: 1.3.6.1.4.1.14519.5.2.1.7310.5101.213130531041418195834342586922\n",
            "Parsing  -5.165177 -34.5927 -5.4499\n",
            "Parsing 4.87032 -4.72601 4.46356\n",
            "2\n"
          ]
        },
        {
          "output_type": "stream",
          "name": "stderr",
          "text": [
            "\n",
            "/usr/local/lib/python3.11/dist-packages/highdicom/base.py:163: UserWarning: The string \"ProstateX-0227\" is unlikely to represent the intended person name since it contains only a single component. Construct a person name according to the format in described in https://dicom.nema.org/dicom/2013/output/chtml/part05/sect_6.2.html#sect_6.2.1.2, or, in pydicom 2.2.0 or later, use the pydicom.valuerep.PersonName.from_named_components() method to construct the person name correctly. If a single-component name is really intended, add a trailing caret character to disambiguate the name.\n",
            "  check_person_name(patient_name)\n"
          ]
        },
        {
          "output_type": "stream",
          "name": "stdout",
          "text": [
            "********** On patient: ProstateX-0228 **********\n",
            "num_series: 1\n",
            "***** On series: 1.3.6.1.4.1.14519.5.2.1.7310.5101.147404975255665529475492361795 *****\n",
            "SeriesInstanceUID: 1.3.6.1.4.1.14519.5.2.1.7310.5101.147404975255665529475492361795\n"
          ]
        },
        {
          "output_type": "stream",
          "name": "stderr",
          "text": [
            "Downloading data: 100%|█████████▉| 4.40M/4.40M [00:02<00:00, 1.75MB/s]"
          ]
        },
        {
          "output_type": "stream",
          "name": "stdout",
          "text": [
            "FrameOfReferenceUID: 1.3.6.1.4.1.14519.5.2.1.7310.5101.706930829798328094472763113219\n",
            "Parsing  -22.185 -27.2626 -61.2556\n",
            "1\n"
          ]
        },
        {
          "output_type": "stream",
          "name": "stderr",
          "text": [
            "\n",
            "/usr/local/lib/python3.11/dist-packages/highdicom/base.py:163: UserWarning: The string \"ProstateX-0228\" is unlikely to represent the intended person name since it contains only a single component. Construct a person name according to the format in described in https://dicom.nema.org/dicom/2013/output/chtml/part05/sect_6.2.html#sect_6.2.1.2, or, in pydicom 2.2.0 or later, use the pydicom.valuerep.PersonName.from_named_components() method to construct the person name correctly. If a single-component name is really intended, add a trailing caret character to disambiguate the name.\n",
            "  check_person_name(patient_name)\n"
          ]
        },
        {
          "output_type": "stream",
          "name": "stdout",
          "text": [
            "********** On patient: ProstateX-0229 **********\n",
            "num_series: 1\n",
            "***** On series: 1.3.6.1.4.1.14519.5.2.1.7310.5101.826618331586486521083213597554 *****\n",
            "SeriesInstanceUID: 1.3.6.1.4.1.14519.5.2.1.7310.5101.826618331586486521083213597554\n"
          ]
        },
        {
          "output_type": "stream",
          "name": "stderr",
          "text": [
            "Downloading data: 100%|██████████| 4.40M/4.40M [00:02<00:00, 1.75MB/s]"
          ]
        },
        {
          "output_type": "stream",
          "name": "stdout",
          "text": [
            "FrameOfReferenceUID: 1.3.6.1.4.1.14519.5.2.1.7310.5101.181273380249004996747317493020\n",
            "Parsing  -20.7852 -15.0009 -40.4496\n",
            "1\n"
          ]
        },
        {
          "output_type": "stream",
          "name": "stderr",
          "text": [
            "\n",
            "/usr/local/lib/python3.11/dist-packages/highdicom/base.py:163: UserWarning: The string \"ProstateX-0229\" is unlikely to represent the intended person name since it contains only a single component. Construct a person name according to the format in described in https://dicom.nema.org/dicom/2013/output/chtml/part05/sect_6.2.html#sect_6.2.1.2, or, in pydicom 2.2.0 or later, use the pydicom.valuerep.PersonName.from_named_components() method to construct the person name correctly. If a single-component name is really intended, add a trailing caret character to disambiguate the name.\n",
            "  check_person_name(patient_name)\n"
          ]
        },
        {
          "output_type": "stream",
          "name": "stdout",
          "text": [
            "********** On patient: ProstateX-0230 **********\n",
            "num_series: 1\n",
            "***** On series: 1.3.6.1.4.1.14519.5.2.1.7310.5101.111501746803373227848293187172 *****\n",
            "SeriesInstanceUID: 1.3.6.1.4.1.14519.5.2.1.7310.5101.111501746803373227848293187172\n"
          ]
        },
        {
          "output_type": "stream",
          "name": "stderr",
          "text": [
            "Downloading data: 100%|██████████| 3.98M/3.98M [00:02<00:00, 1.59MB/s]"
          ]
        },
        {
          "output_type": "stream",
          "name": "stdout",
          "text": [
            "FrameOfReferenceUID: 1.3.6.1.4.1.14519.5.2.1.7310.5101.215604575305454715126725833302\n",
            "Parsing 5.26937 8.11311 -108.829\n",
            "Parsing -4.63288 3.04543 -113.999\n",
            "2\n"
          ]
        },
        {
          "output_type": "stream",
          "name": "stderr",
          "text": [
            "\n",
            "/usr/local/lib/python3.11/dist-packages/highdicom/base.py:163: UserWarning: The string \"ProstateX-0230\" is unlikely to represent the intended person name since it contains only a single component. Construct a person name according to the format in described in https://dicom.nema.org/dicom/2013/output/chtml/part05/sect_6.2.html#sect_6.2.1.2, or, in pydicom 2.2.0 or later, use the pydicom.valuerep.PersonName.from_named_components() method to construct the person name correctly. If a single-component name is really intended, add a trailing caret character to disambiguate the name.\n",
            "  check_person_name(patient_name)\n"
          ]
        },
        {
          "output_type": "stream",
          "name": "stdout",
          "text": [
            "********** On patient: ProstateX-0231 **********\n",
            "num_series: 1\n",
            "***** On series: 1.3.6.1.4.1.14519.5.2.1.7310.5101.124263126829946106730346760690 *****\n",
            "SeriesInstanceUID: 1.3.6.1.4.1.14519.5.2.1.7310.5101.124263126829946106730346760690\n"
          ]
        },
        {
          "output_type": "stream",
          "name": "stderr",
          "text": [
            "Downloading data: 100%|██████████| 4.40M/4.40M [00:02<00:00, 1.75MB/s]"
          ]
        },
        {
          "output_type": "stream",
          "name": "stdout",
          "text": [
            "FrameOfReferenceUID: 1.3.6.1.4.1.14519.5.2.1.7310.5101.210224650309266460698668940259\n",
            "Parsing -5.79254 2.169 -74.6477\n",
            "Parsing  -2.48219 -1.37541 -56.1279\n",
            "2\n"
          ]
        },
        {
          "output_type": "stream",
          "name": "stderr",
          "text": [
            "\n",
            "/usr/local/lib/python3.11/dist-packages/highdicom/base.py:163: UserWarning: The string \"ProstateX-0231\" is unlikely to represent the intended person name since it contains only a single component. Construct a person name according to the format in described in https://dicom.nema.org/dicom/2013/output/chtml/part05/sect_6.2.html#sect_6.2.1.2, or, in pydicom 2.2.0 or later, use the pydicom.valuerep.PersonName.from_named_components() method to construct the person name correctly. If a single-component name is really intended, add a trailing caret character to disambiguate the name.\n",
            "  check_person_name(patient_name)\n"
          ]
        },
        {
          "output_type": "stream",
          "name": "stdout",
          "text": [
            "********** On patient: ProstateX-0232 **********\n",
            "num_series: 1\n",
            "***** On series: 1.3.6.1.4.1.14519.5.2.1.7310.5101.303648071508152159414358322970 *****\n",
            "SeriesInstanceUID: 1.3.6.1.4.1.14519.5.2.1.7310.5101.303648071508152159414358322970\n"
          ]
        },
        {
          "output_type": "stream",
          "name": "stderr",
          "text": [
            "Downloading data: 100%|██████████| 3.98M/3.98M [00:02<00:00, 1.59MB/s]"
          ]
        },
        {
          "output_type": "stream",
          "name": "stdout",
          "text": [
            "FrameOfReferenceUID: 1.3.6.1.4.1.14519.5.2.1.7310.5101.334187737142260553448352210791\n",
            "Parsing 2.38034 -27.0771 -17.0657\n",
            "1\n"
          ]
        },
        {
          "output_type": "stream",
          "name": "stderr",
          "text": [
            "\n",
            "/usr/local/lib/python3.11/dist-packages/highdicom/base.py:163: UserWarning: The string \"ProstateX-0232\" is unlikely to represent the intended person name since it contains only a single component. Construct a person name according to the format in described in https://dicom.nema.org/dicom/2013/output/chtml/part05/sect_6.2.html#sect_6.2.1.2, or, in pydicom 2.2.0 or later, use the pydicom.valuerep.PersonName.from_named_components() method to construct the person name correctly. If a single-component name is really intended, add a trailing caret character to disambiguate the name.\n",
            "  check_person_name(patient_name)\n"
          ]
        },
        {
          "output_type": "stream",
          "name": "stdout",
          "text": [
            "********** On patient: ProstateX-0233 **********\n",
            "num_series: 1\n",
            "***** On series: 1.3.6.1.4.1.14519.5.2.1.7310.5101.288244441178843471300757966037 *****\n",
            "SeriesInstanceUID: 1.3.6.1.4.1.14519.5.2.1.7310.5101.288244441178843471300757966037\n"
          ]
        },
        {
          "output_type": "stream",
          "name": "stderr",
          "text": [
            "Downloading data: 100%|██████████| 3.98M/3.98M [00:02<00:00, 1.59MB/s]"
          ]
        },
        {
          "output_type": "stream",
          "name": "stdout",
          "text": [
            "FrameOfReferenceUID: 1.3.6.1.4.1.14519.5.2.1.7310.5101.832440919213874649249797295220\n",
            "Parsing -5.66296 0.875509 -31.7241\n",
            "1\n"
          ]
        },
        {
          "output_type": "stream",
          "name": "stderr",
          "text": [
            "\n",
            "/usr/local/lib/python3.11/dist-packages/highdicom/base.py:163: UserWarning: The string \"ProstateX-0233\" is unlikely to represent the intended person name since it contains only a single component. Construct a person name according to the format in described in https://dicom.nema.org/dicom/2013/output/chtml/part05/sect_6.2.html#sect_6.2.1.2, or, in pydicom 2.2.0 or later, use the pydicom.valuerep.PersonName.from_named_components() method to construct the person name correctly. If a single-component name is really intended, add a trailing caret character to disambiguate the name.\n",
            "  check_person_name(patient_name)\n"
          ]
        },
        {
          "output_type": "stream",
          "name": "stdout",
          "text": [
            "********** On patient: ProstateX-0234 **********\n",
            "num_series: 1\n",
            "***** On series: 1.3.6.1.4.1.14519.5.2.1.7310.5101.304316830256441169563562899562 *****\n",
            "SeriesInstanceUID: 1.3.6.1.4.1.14519.5.2.1.7310.5101.304316830256441169563562899562\n"
          ]
        },
        {
          "output_type": "stream",
          "name": "stderr",
          "text": [
            "Downloading data: 100%|██████████| 6.89M/6.89M [00:02<00:00, 2.75MB/s]"
          ]
        },
        {
          "output_type": "stream",
          "name": "stdout",
          "text": [
            "FrameOfReferenceUID: 1.3.6.1.4.1.14519.5.2.1.7310.5101.253815780766386394633424538743\n",
            "Parsing -21.2602 2.47568 85.4801\n",
            "1\n"
          ]
        },
        {
          "output_type": "stream",
          "name": "stderr",
          "text": [
            "\n",
            "/usr/local/lib/python3.11/dist-packages/highdicom/base.py:163: UserWarning: The string \"ProstateX-0234\" is unlikely to represent the intended person name since it contains only a single component. Construct a person name according to the format in described in https://dicom.nema.org/dicom/2013/output/chtml/part05/sect_6.2.html#sect_6.2.1.2, or, in pydicom 2.2.0 or later, use the pydicom.valuerep.PersonName.from_named_components() method to construct the person name correctly. If a single-component name is really intended, add a trailing caret character to disambiguate the name.\n",
            "  check_person_name(patient_name)\n"
          ]
        },
        {
          "output_type": "stream",
          "name": "stdout",
          "text": [
            "********** On patient: ProstateX-0235 **********\n",
            "num_series: 1\n",
            "***** On series: 1.3.6.1.4.1.14519.5.2.1.7310.5101.334544477769884353445423659206 *****\n",
            "SeriesInstanceUID: 1.3.6.1.4.1.14519.5.2.1.7310.5101.334544477769884353445423659206\n"
          ]
        },
        {
          "output_type": "stream",
          "name": "stderr",
          "text": [
            "Downloading data: 100%|█████████▉| 4.82M/4.82M [00:03<00:00, 1.60MB/s]"
          ]
        },
        {
          "output_type": "stream",
          "name": "stdout",
          "text": [
            "FrameOfReferenceUID: 1.3.6.1.4.1.14519.5.2.1.7310.5101.158280436723268924147628187939\n",
            "Parsing -17.0209 -23.4955 61.5781\n",
            "Parsing -5.189273 -9.1921 53.5781\n",
            "2\n"
          ]
        },
        {
          "output_type": "stream",
          "name": "stderr",
          "text": [
            "\n",
            "/usr/local/lib/python3.11/dist-packages/highdicom/base.py:163: UserWarning: The string \"ProstateX-0235\" is unlikely to represent the intended person name since it contains only a single component. Construct a person name according to the format in described in https://dicom.nema.org/dicom/2013/output/chtml/part05/sect_6.2.html#sect_6.2.1.2, or, in pydicom 2.2.0 or later, use the pydicom.valuerep.PersonName.from_named_components() method to construct the person name correctly. If a single-component name is really intended, add a trailing caret character to disambiguate the name.\n",
            "  check_person_name(patient_name)\n"
          ]
        },
        {
          "output_type": "stream",
          "name": "stdout",
          "text": [
            "********** On patient: ProstateX-0236 **********\n",
            "num_series: 1\n",
            "***** On series: 1.3.6.1.4.1.14519.5.2.1.7310.5101.175395160737281885853657044391 *****\n",
            "SeriesInstanceUID: 1.3.6.1.4.1.14519.5.2.1.7310.5101.175395160737281885853657044391\n"
          ]
        },
        {
          "output_type": "stream",
          "name": "stderr",
          "text": [
            "Downloading data: 100%|██████████| 3.98M/3.98M [00:02<00:00, 1.59MB/s]"
          ]
        },
        {
          "output_type": "stream",
          "name": "stdout",
          "text": [
            "FrameOfReferenceUID: 1.3.6.1.4.1.14519.5.2.1.7310.5101.418361643425724865050745016012\n",
            "Parsing  -19.3547 -19.9453 -52.1291\n",
            "1\n"
          ]
        },
        {
          "output_type": "stream",
          "name": "stderr",
          "text": [
            "\n",
            "/usr/local/lib/python3.11/dist-packages/highdicom/base.py:163: UserWarning: The string \"ProstateX-0236\" is unlikely to represent the intended person name since it contains only a single component. Construct a person name according to the format in described in https://dicom.nema.org/dicom/2013/output/chtml/part05/sect_6.2.html#sect_6.2.1.2, or, in pydicom 2.2.0 or later, use the pydicom.valuerep.PersonName.from_named_components() method to construct the person name correctly. If a single-component name is really intended, add a trailing caret character to disambiguate the name.\n",
            "  check_person_name(patient_name)\n"
          ]
        },
        {
          "output_type": "stream",
          "name": "stdout",
          "text": [
            "********** On patient: ProstateX-0237 **********\n",
            "num_series: 1\n",
            "***** On series: 1.3.6.1.4.1.14519.5.2.1.7310.5101.956112472248083314673885129046 *****\n",
            "SeriesInstanceUID: 1.3.6.1.4.1.14519.5.2.1.7310.5101.956112472248083314673885129046\n"
          ]
        },
        {
          "output_type": "stream",
          "name": "stderr",
          "text": [
            "Downloading data: 100%|██████████| 4.40M/4.40M [00:02<00:00, 1.75MB/s]"
          ]
        },
        {
          "output_type": "stream",
          "name": "stdout",
          "text": [
            "FrameOfReferenceUID: 1.3.6.1.4.1.14519.5.2.1.7310.5101.238574475972640963208380088343\n",
            "Parsing -20.4135 -33.0085 2.38364\n",
            "1\n"
          ]
        },
        {
          "output_type": "stream",
          "name": "stderr",
          "text": [
            "\n",
            "/usr/local/lib/python3.11/dist-packages/highdicom/base.py:163: UserWarning: The string \"ProstateX-0237\" is unlikely to represent the intended person name since it contains only a single component. Construct a person name according to the format in described in https://dicom.nema.org/dicom/2013/output/chtml/part05/sect_6.2.html#sect_6.2.1.2, or, in pydicom 2.2.0 or later, use the pydicom.valuerep.PersonName.from_named_components() method to construct the person name correctly. If a single-component name is really intended, add a trailing caret character to disambiguate the name.\n",
            "  check_person_name(patient_name)\n"
          ]
        },
        {
          "output_type": "stream",
          "name": "stdout",
          "text": [
            "********** On patient: ProstateX-0238 **********\n",
            "num_series: 1\n",
            "***** On series: 1.3.6.1.4.1.14519.5.2.1.7310.5101.314929585175109574243842033105 *****\n",
            "SeriesInstanceUID: 1.3.6.1.4.1.14519.5.2.1.7310.5101.314929585175109574243842033105\n"
          ]
        },
        {
          "output_type": "stream",
          "name": "stderr",
          "text": [
            "Downloading data: 100%|█████████▉| 4.40M/4.40M [00:02<00:00, 1.75MB/s]"
          ]
        },
        {
          "output_type": "stream",
          "name": "stdout",
          "text": [
            "FrameOfReferenceUID: 1.3.6.1.4.1.14519.5.2.1.7310.5101.674874132005338305073956549414\n",
            "Parsing  -0.87896 -22.6853 -29.2104\n",
            "1\n"
          ]
        },
        {
          "output_type": "stream",
          "name": "stderr",
          "text": [
            "\n",
            "/usr/local/lib/python3.11/dist-packages/highdicom/base.py:163: UserWarning: The string \"ProstateX-0238\" is unlikely to represent the intended person name since it contains only a single component. Construct a person name according to the format in described in https://dicom.nema.org/dicom/2013/output/chtml/part05/sect_6.2.html#sect_6.2.1.2, or, in pydicom 2.2.0 or later, use the pydicom.valuerep.PersonName.from_named_components() method to construct the person name correctly. If a single-component name is really intended, add a trailing caret character to disambiguate the name.\n",
            "  check_person_name(patient_name)\n"
          ]
        },
        {
          "output_type": "stream",
          "name": "stdout",
          "text": [
            "********** On patient: ProstateX-0239 **********\n",
            "num_series: 1\n",
            "***** On series: 1.3.6.1.4.1.14519.5.2.1.7310.5101.232588581229371671938219739171 *****\n",
            "SeriesInstanceUID: 1.3.6.1.4.1.14519.5.2.1.7310.5101.232588581229371671938219739171\n"
          ]
        },
        {
          "output_type": "stream",
          "name": "stderr",
          "text": [
            "Downloading data: 100%|█████████▉| 4.40M/4.40M [00:03<00:00, 1.46MB/s]"
          ]
        },
        {
          "output_type": "stream",
          "name": "stdout",
          "text": [
            "FrameOfReferenceUID: 1.3.6.1.4.1.14519.5.2.1.7310.5101.259488237442014961101101031346\n",
            "Parsing 3.94748 5.96611 -114.663\n",
            "1\n"
          ]
        },
        {
          "output_type": "stream",
          "name": "stderr",
          "text": [
            "\n",
            "/usr/local/lib/python3.11/dist-packages/highdicom/base.py:163: UserWarning: The string \"ProstateX-0239\" is unlikely to represent the intended person name since it contains only a single component. Construct a person name according to the format in described in https://dicom.nema.org/dicom/2013/output/chtml/part05/sect_6.2.html#sect_6.2.1.2, or, in pydicom 2.2.0 or later, use the pydicom.valuerep.PersonName.from_named_components() method to construct the person name correctly. If a single-component name is really intended, add a trailing caret character to disambiguate the name.\n",
            "  check_person_name(patient_name)\n"
          ]
        },
        {
          "output_type": "stream",
          "name": "stdout",
          "text": [
            "********** On patient: ProstateX-0240 **********\n",
            "num_series: 1\n",
            "***** On series: 1.3.6.1.4.1.14519.5.2.1.7310.5101.104072271460569042431182866792 *****\n",
            "SeriesInstanceUID: 1.3.6.1.4.1.14519.5.2.1.7310.5101.104072271460569042431182866792\n"
          ]
        },
        {
          "output_type": "stream",
          "name": "stderr",
          "text": [
            "Downloading data: 100%|██████████| 3.98M/3.98M [00:02<00:00, 1.59MB/s]"
          ]
        },
        {
          "output_type": "stream",
          "name": "stdout",
          "text": [
            "FrameOfReferenceUID: 1.3.6.1.4.1.14519.5.2.1.7310.5101.315803283526154077607044928206\n",
            "Parsing  -44.2824 -23.5685 -72.7057\n",
            "1\n"
          ]
        },
        {
          "output_type": "stream",
          "name": "stderr",
          "text": [
            "\n",
            "/usr/local/lib/python3.11/dist-packages/highdicom/base.py:163: UserWarning: The string \"ProstateX-0240\" is unlikely to represent the intended person name since it contains only a single component. Construct a person name according to the format in described in https://dicom.nema.org/dicom/2013/output/chtml/part05/sect_6.2.html#sect_6.2.1.2, or, in pydicom 2.2.0 or later, use the pydicom.valuerep.PersonName.from_named_components() method to construct the person name correctly. If a single-component name is really intended, add a trailing caret character to disambiguate the name.\n",
            "  check_person_name(patient_name)\n"
          ]
        },
        {
          "output_type": "stream",
          "name": "stdout",
          "text": [
            "********** On patient: ProstateX-0241 **********\n",
            "num_series: 1\n",
            "***** On series: 1.3.6.1.4.1.14519.5.2.1.7310.5101.182666056353308077379356745296 *****\n",
            "SeriesInstanceUID: 1.3.6.1.4.1.14519.5.2.1.7310.5101.182666056353308077379356745296\n"
          ]
        },
        {
          "output_type": "stream",
          "name": "stderr",
          "text": [
            "Downloading data: 100%|██████████| 3.98M/3.98M [00:02<00:00, 1.59MB/s]"
          ]
        },
        {
          "output_type": "stream",
          "name": "stdout",
          "text": [
            "FrameOfReferenceUID: 1.3.6.1.4.1.14519.5.2.1.7310.5101.225077468794532034785158947603\n",
            "Parsing  -21.725 -5.80164 -9.21361\n",
            "1\n"
          ]
        },
        {
          "output_type": "stream",
          "name": "stderr",
          "text": [
            "\n",
            "/usr/local/lib/python3.11/dist-packages/highdicom/base.py:163: UserWarning: The string \"ProstateX-0241\" is unlikely to represent the intended person name since it contains only a single component. Construct a person name according to the format in described in https://dicom.nema.org/dicom/2013/output/chtml/part05/sect_6.2.html#sect_6.2.1.2, or, in pydicom 2.2.0 or later, use the pydicom.valuerep.PersonName.from_named_components() method to construct the person name correctly. If a single-component name is really intended, add a trailing caret character to disambiguate the name.\n",
            "  check_person_name(patient_name)\n"
          ]
        },
        {
          "output_type": "stream",
          "name": "stdout",
          "text": [
            "********** On patient: ProstateX-0242 **********\n",
            "num_series: 1\n",
            "***** On series: 1.3.6.1.4.1.14519.5.2.1.7310.5101.189831564233906493518193184443 *****\n",
            "SeriesInstanceUID: 1.3.6.1.4.1.14519.5.2.1.7310.5101.189831564233906493518193184443\n"
          ]
        },
        {
          "output_type": "stream",
          "name": "stderr",
          "text": [
            "Downloading data: 100%|█████████▉| 4.82M/4.82M [00:02<00:00, 1.92MB/s]"
          ]
        },
        {
          "output_type": "stream",
          "name": "stdout",
          "text": [
            "FrameOfReferenceUID: 1.3.6.1.4.1.14519.5.2.1.7310.5101.610125700617073369321558874180\n",
            "Parsing 22.8701 -4.53197 -51.1697\n",
            "Parsing  -24.1335 -19.824 -71.0551\n",
            "2\n"
          ]
        },
        {
          "output_type": "stream",
          "name": "stderr",
          "text": [
            "\n",
            "/usr/local/lib/python3.11/dist-packages/highdicom/base.py:163: UserWarning: The string \"ProstateX-0242\" is unlikely to represent the intended person name since it contains only a single component. Construct a person name according to the format in described in https://dicom.nema.org/dicom/2013/output/chtml/part05/sect_6.2.html#sect_6.2.1.2, or, in pydicom 2.2.0 or later, use the pydicom.valuerep.PersonName.from_named_components() method to construct the person name correctly. If a single-component name is really intended, add a trailing caret character to disambiguate the name.\n",
            "  check_person_name(patient_name)\n"
          ]
        },
        {
          "output_type": "stream",
          "name": "stdout",
          "text": [
            "********** On patient: ProstateX-0243 **********\n",
            "num_series: 1\n",
            "***** On series: 1.3.6.1.4.1.14519.5.2.1.7310.5101.300405485079081913573045655087 *****\n",
            "SeriesInstanceUID: 1.3.6.1.4.1.14519.5.2.1.7310.5101.300405485079081913573045655087\n"
          ]
        },
        {
          "output_type": "stream",
          "name": "stderr",
          "text": [
            "Downloading data: 100%|██████████| 3.98M/3.98M [00:02<00:00, 1.59MB/s]"
          ]
        },
        {
          "output_type": "stream",
          "name": "stdout",
          "text": [
            "FrameOfReferenceUID: 1.3.6.1.4.1.14519.5.2.1.7310.5101.280011715275166083762188666531\n",
            "Parsing  -12.20001 -31.7144 -27.7653\n",
            "1\n"
          ]
        },
        {
          "output_type": "stream",
          "name": "stderr",
          "text": [
            "\n",
            "/usr/local/lib/python3.11/dist-packages/highdicom/base.py:163: UserWarning: The string \"ProstateX-0243\" is unlikely to represent the intended person name since it contains only a single component. Construct a person name according to the format in described in https://dicom.nema.org/dicom/2013/output/chtml/part05/sect_6.2.html#sect_6.2.1.2, or, in pydicom 2.2.0 or later, use the pydicom.valuerep.PersonName.from_named_components() method to construct the person name correctly. If a single-component name is really intended, add a trailing caret character to disambiguate the name.\n",
            "  check_person_name(patient_name)\n"
          ]
        },
        {
          "output_type": "stream",
          "name": "stdout",
          "text": [
            "********** On patient: ProstateX-0244 **********\n",
            "num_series: 1\n",
            "***** On series: 1.3.6.1.4.1.14519.5.2.1.7310.5101.306748150836286513093400468929 *****\n",
            "SeriesInstanceUID: 1.3.6.1.4.1.14519.5.2.1.7310.5101.306748150836286513093400468929\n"
          ]
        },
        {
          "output_type": "stream",
          "name": "stderr",
          "text": [
            "Downloading data: 100%|█████████▉| 4.82M/4.82M [00:02<00:00, 1.92MB/s]"
          ]
        },
        {
          "output_type": "stream",
          "name": "stdout",
          "text": [
            "FrameOfReferenceUID: 1.3.6.1.4.1.14519.5.2.1.7310.5101.173657639866142494968707918290\n",
            "Parsing -42.4735 -4.3385 28.3709\n",
            "1\n"
          ]
        },
        {
          "output_type": "stream",
          "name": "stderr",
          "text": [
            "\n",
            "/usr/local/lib/python3.11/dist-packages/highdicom/base.py:163: UserWarning: The string \"ProstateX-0244\" is unlikely to represent the intended person name since it contains only a single component. Construct a person name according to the format in described in https://dicom.nema.org/dicom/2013/output/chtml/part05/sect_6.2.html#sect_6.2.1.2, or, in pydicom 2.2.0 or later, use the pydicom.valuerep.PersonName.from_named_components() method to construct the person name correctly. If a single-component name is really intended, add a trailing caret character to disambiguate the name.\n",
            "  check_person_name(patient_name)\n"
          ]
        },
        {
          "output_type": "stream",
          "name": "stdout",
          "text": [
            "********** On patient: ProstateX-0245 **********\n",
            "num_series: 1\n",
            "***** On series: 1.3.6.1.4.1.14519.5.2.1.7310.5101.123177818452296187390183052340 *****\n",
            "SeriesInstanceUID: 1.3.6.1.4.1.14519.5.2.1.7310.5101.123177818452296187390183052340\n"
          ]
        },
        {
          "output_type": "stream",
          "name": "stderr",
          "text": [
            "Downloading data: 100%|██████████| 5.69M/5.69M [00:02<00:00, 2.27MB/s]"
          ]
        },
        {
          "output_type": "stream",
          "name": "stdout",
          "text": [
            "FrameOfReferenceUID: 1.3.6.1.4.1.14519.5.2.1.7310.5101.151044208439828468777236126920\n",
            "Parsing 10.5926 19.7748 -51.1394\n",
            "1\n"
          ]
        },
        {
          "output_type": "stream",
          "name": "stderr",
          "text": [
            "\n",
            "/usr/local/lib/python3.11/dist-packages/highdicom/base.py:163: UserWarning: The string \"ProstateX-0245\" is unlikely to represent the intended person name since it contains only a single component. Construct a person name according to the format in described in https://dicom.nema.org/dicom/2013/output/chtml/part05/sect_6.2.html#sect_6.2.1.2, or, in pydicom 2.2.0 or later, use the pydicom.valuerep.PersonName.from_named_components() method to construct the person name correctly. If a single-component name is really intended, add a trailing caret character to disambiguate the name.\n",
            "  check_person_name(patient_name)\n"
          ]
        },
        {
          "output_type": "stream",
          "name": "stdout",
          "text": [
            "********** On patient: ProstateX-0246 **********\n",
            "num_series: 1\n",
            "***** On series: 1.3.6.1.4.1.14519.5.2.1.7310.5101.403295706346277492785652634059 *****\n",
            "SeriesInstanceUID: 1.3.6.1.4.1.14519.5.2.1.7310.5101.403295706346277492785652634059\n"
          ]
        },
        {
          "output_type": "stream",
          "name": "stderr",
          "text": [
            "Downloading data: 100%|██████████| 3.98M/3.98M [00:02<00:00, 1.59MB/s]"
          ]
        },
        {
          "output_type": "stream",
          "name": "stdout",
          "text": [
            "FrameOfReferenceUID: 1.3.6.1.4.1.14519.5.2.1.7310.5101.299469022987263686445383619712\n",
            "Parsing 15.2159 3.28125 -28.4416\n",
            "1\n"
          ]
        },
        {
          "output_type": "stream",
          "name": "stderr",
          "text": [
            "\n",
            "/usr/local/lib/python3.11/dist-packages/highdicom/base.py:163: UserWarning: The string \"ProstateX-0246\" is unlikely to represent the intended person name since it contains only a single component. Construct a person name according to the format in described in https://dicom.nema.org/dicom/2013/output/chtml/part05/sect_6.2.html#sect_6.2.1.2, or, in pydicom 2.2.0 or later, use the pydicom.valuerep.PersonName.from_named_components() method to construct the person name correctly. If a single-component name is really intended, add a trailing caret character to disambiguate the name.\n",
            "  check_person_name(patient_name)\n"
          ]
        },
        {
          "output_type": "stream",
          "name": "stdout",
          "text": [
            "********** On patient: ProstateX-0247 **********\n",
            "num_series: 1\n",
            "***** On series: 1.3.6.1.4.1.14519.5.2.1.7310.5101.282490226567493940846743862310 *****\n",
            "SeriesInstanceUID: 1.3.6.1.4.1.14519.5.2.1.7310.5101.282490226567493940846743862310\n"
          ]
        },
        {
          "output_type": "stream",
          "name": "stderr",
          "text": [
            "Downloading data: 100%|██████████| 3.98M/3.98M [00:02<00:00, 1.59MB/s]"
          ]
        },
        {
          "output_type": "stream",
          "name": "stdout",
          "text": [
            "FrameOfReferenceUID: 1.3.6.1.4.1.14519.5.2.1.7310.5101.269413256331918049392674652238\n",
            "Parsing  -6.27968749362465 -54.0641456542969 -27.8060717468262\n",
            "1\n"
          ]
        },
        {
          "output_type": "stream",
          "name": "stderr",
          "text": [
            "\n",
            "/usr/local/lib/python3.11/dist-packages/highdicom/base.py:163: UserWarning: The string \"ProstateX-0247\" is unlikely to represent the intended person name since it contains only a single component. Construct a person name according to the format in described in https://dicom.nema.org/dicom/2013/output/chtml/part05/sect_6.2.html#sect_6.2.1.2, or, in pydicom 2.2.0 or later, use the pydicom.valuerep.PersonName.from_named_components() method to construct the person name correctly. If a single-component name is really intended, add a trailing caret character to disambiguate the name.\n",
            "  check_person_name(patient_name)\n"
          ]
        },
        {
          "output_type": "stream",
          "name": "stdout",
          "text": [
            "********** On patient: ProstateX-0248 **********\n",
            "num_series: 1\n",
            "***** On series: 1.3.6.1.4.1.14519.5.2.1.7310.5101.265897533507529706056035133473 *****\n",
            "SeriesInstanceUID: 1.3.6.1.4.1.14519.5.2.1.7310.5101.265897533507529706056035133473\n"
          ]
        },
        {
          "output_type": "stream",
          "name": "stderr",
          "text": [
            "Downloading data: 100%|██████████| 3.98M/3.98M [00:02<00:00, 1.58MB/s]"
          ]
        },
        {
          "output_type": "stream",
          "name": "stdout",
          "text": [
            "FrameOfReferenceUID: 1.3.6.1.4.1.14519.5.2.1.7310.5101.276783873413457952782998119335\n",
            "Parsing -10.45966 3.51144 -85.8622\n",
            "1\n"
          ]
        },
        {
          "output_type": "stream",
          "name": "stderr",
          "text": [
            "\n",
            "/usr/local/lib/python3.11/dist-packages/highdicom/base.py:163: UserWarning: The string \"ProstateX-0248\" is unlikely to represent the intended person name since it contains only a single component. Construct a person name according to the format in described in https://dicom.nema.org/dicom/2013/output/chtml/part05/sect_6.2.html#sect_6.2.1.2, or, in pydicom 2.2.0 or later, use the pydicom.valuerep.PersonName.from_named_components() method to construct the person name correctly. If a single-component name is really intended, add a trailing caret character to disambiguate the name.\n",
            "  check_person_name(patient_name)\n"
          ]
        },
        {
          "output_type": "stream",
          "name": "stdout",
          "text": [
            "********** On patient: ProstateX-0249 **********\n",
            "num_series: 1\n",
            "***** On series: 1.3.6.1.4.1.14519.5.2.1.7310.5101.234424615181029312892423746307 *****\n",
            "SeriesInstanceUID: 1.3.6.1.4.1.14519.5.2.1.7310.5101.234424615181029312892423746307\n"
          ]
        },
        {
          "output_type": "stream",
          "name": "stderr",
          "text": [
            "Downloading data: 100%|█████████▉| 4.40M/4.40M [00:03<00:00, 1.46MB/s]"
          ]
        },
        {
          "output_type": "stream",
          "name": "stdout",
          "text": [
            "FrameOfReferenceUID: 1.3.6.1.4.1.14519.5.2.1.7310.5101.510331743110397868752032807526\n",
            "Parsing -22.3711 4.41193708251953 -38.1087306030273\n",
            "1\n"
          ]
        },
        {
          "output_type": "stream",
          "name": "stderr",
          "text": [
            "\n",
            "/usr/local/lib/python3.11/dist-packages/highdicom/base.py:163: UserWarning: The string \"ProstateX-0249\" is unlikely to represent the intended person name since it contains only a single component. Construct a person name according to the format in described in https://dicom.nema.org/dicom/2013/output/chtml/part05/sect_6.2.html#sect_6.2.1.2, or, in pydicom 2.2.0 or later, use the pydicom.valuerep.PersonName.from_named_components() method to construct the person name correctly. If a single-component name is really intended, add a trailing caret character to disambiguate the name.\n",
            "  check_person_name(patient_name)\n"
          ]
        },
        {
          "output_type": "stream",
          "name": "stdout",
          "text": [
            "********** On patient: ProstateX-0250 **********\n",
            "num_series: 1\n",
            "***** On series: 1.3.6.1.4.1.14519.5.2.1.7310.5101.267071642492778105364997148436 *****\n",
            "SeriesInstanceUID: 1.3.6.1.4.1.14519.5.2.1.7310.5101.267071642492778105364997148436\n"
          ]
        },
        {
          "output_type": "stream",
          "name": "stderr",
          "text": [
            "Downloading data: 100%|██████████| 3.98M/3.98M [00:02<00:00, 1.59MB/s]"
          ]
        },
        {
          "output_type": "stream",
          "name": "stdout",
          "text": [
            "FrameOfReferenceUID: 1.3.6.1.4.1.14519.5.2.1.7310.5101.488846927857991531713191644532\n",
            "Parsing  -25.9558 -12.6661 -33.1324\n",
            "Parsing 12.3242 -40.9085 -27.163\n",
            "2\n"
          ]
        },
        {
          "output_type": "stream",
          "name": "stderr",
          "text": [
            "\n",
            "/usr/local/lib/python3.11/dist-packages/highdicom/base.py:163: UserWarning: The string \"ProstateX-0250\" is unlikely to represent the intended person name since it contains only a single component. Construct a person name according to the format in described in https://dicom.nema.org/dicom/2013/output/chtml/part05/sect_6.2.html#sect_6.2.1.2, or, in pydicom 2.2.0 or later, use the pydicom.valuerep.PersonName.from_named_components() method to construct the person name correctly. If a single-component name is really intended, add a trailing caret character to disambiguate the name.\n",
            "  check_person_name(patient_name)\n"
          ]
        },
        {
          "output_type": "stream",
          "name": "stdout",
          "text": [
            "********** On patient: ProstateX-0251 **********\n",
            "num_series: 1\n",
            "***** On series: 1.3.6.1.4.1.14519.5.2.1.7310.5101.137806782257611702189792788042 *****\n",
            "SeriesInstanceUID: 1.3.6.1.4.1.14519.5.2.1.7310.5101.137806782257611702189792788042\n"
          ]
        },
        {
          "output_type": "stream",
          "name": "stderr",
          "text": [
            "Downloading data: 100%|██████████| 4.40M/4.40M [00:02<00:00, 1.75MB/s]"
          ]
        },
        {
          "output_type": "stream",
          "name": "stdout",
          "text": [
            "FrameOfReferenceUID: 1.3.6.1.4.1.14519.5.2.1.7310.5101.145093586431405049254647975522\n",
            "Parsing -8.86267 0.65263 -7.47071\n",
            "Parsing 14.7278747558594 -6.31044769287109 -15.2196807861328\n",
            "Parsing  -10.1755828857422 -30.9657592773438 -10.1137771606445\n",
            "Parsing  -13.743537902832 -14.8849945068359 -22.6349010467529\n",
            "4\n"
          ]
        },
        {
          "output_type": "stream",
          "name": "stderr",
          "text": [
            "\n",
            "/usr/local/lib/python3.11/dist-packages/highdicom/base.py:163: UserWarning: The string \"ProstateX-0251\" is unlikely to represent the intended person name since it contains only a single component. Construct a person name according to the format in described in https://dicom.nema.org/dicom/2013/output/chtml/part05/sect_6.2.html#sect_6.2.1.2, or, in pydicom 2.2.0 or later, use the pydicom.valuerep.PersonName.from_named_components() method to construct the person name correctly. If a single-component name is really intended, add a trailing caret character to disambiguate the name.\n",
            "  check_person_name(patient_name)\n"
          ]
        },
        {
          "output_type": "stream",
          "name": "stdout",
          "text": [
            "********** On patient: ProstateX-0252 **********\n",
            "num_series: 1\n",
            "***** On series: 1.3.6.1.4.1.14519.5.2.1.7310.5101.217131304269637361469107634213 *****\n",
            "SeriesInstanceUID: 1.3.6.1.4.1.14519.5.2.1.7310.5101.217131304269637361469107634213\n"
          ]
        },
        {
          "output_type": "stream",
          "name": "stderr",
          "text": [
            "Downloading data: 100%|██████████| 4.40M/4.40M [00:02<00:00, 1.75MB/s]"
          ]
        },
        {
          "output_type": "stream",
          "name": "stdout",
          "text": [
            "FrameOfReferenceUID: 1.3.6.1.4.1.14519.5.2.1.7310.5101.293747302669960060715532381511\n",
            "Parsing 21.4236 -28.9678 -4.0906\n",
            "Parsing -8.97575 -1.75226 1.45031\n",
            "Parsing -10.3072 8.0715 26.3928\n",
            "Parsing 26.1741 2.60967 -1.13302\n",
            "4\n"
          ]
        },
        {
          "output_type": "stream",
          "name": "stderr",
          "text": [
            "\n",
            "/usr/local/lib/python3.11/dist-packages/highdicom/base.py:163: UserWarning: The string \"ProstateX-0252\" is unlikely to represent the intended person name since it contains only a single component. Construct a person name according to the format in described in https://dicom.nema.org/dicom/2013/output/chtml/part05/sect_6.2.html#sect_6.2.1.2, or, in pydicom 2.2.0 or later, use the pydicom.valuerep.PersonName.from_named_components() method to construct the person name correctly. If a single-component name is really intended, add a trailing caret character to disambiguate the name.\n",
            "  check_person_name(patient_name)\n"
          ]
        },
        {
          "output_type": "stream",
          "name": "stdout",
          "text": [
            "********** On patient: ProstateX-0253 **********\n",
            "num_series: 1\n",
            "***** On series: 1.3.6.1.4.1.14519.5.2.1.7310.5101.164513375859159566810427866545 *****\n",
            "SeriesInstanceUID: 1.3.6.1.4.1.14519.5.2.1.7310.5101.164513375859159566810427866545\n"
          ]
        },
        {
          "output_type": "stream",
          "name": "stderr",
          "text": [
            "Downloading data: 100%|██████████| 3.98M/3.98M [00:03<00:00, 1.32MB/s]"
          ]
        },
        {
          "output_type": "stream",
          "name": "stdout",
          "text": [
            "FrameOfReferenceUID: 1.3.6.1.4.1.14519.5.2.1.7310.5101.445811612078987975188685520339\n",
            "Parsing -10.6534 3.71308 -47.6864\n",
            "Parsing  -3.94954 -3.51989 -29.9806\n",
            "Parsing 12.5805 -6.92628 -41.5198\n",
            "3\n"
          ]
        },
        {
          "output_type": "stream",
          "name": "stderr",
          "text": [
            "\n",
            "/usr/local/lib/python3.11/dist-packages/highdicom/base.py:163: UserWarning: The string \"ProstateX-0253\" is unlikely to represent the intended person name since it contains only a single component. Construct a person name according to the format in described in https://dicom.nema.org/dicom/2013/output/chtml/part05/sect_6.2.html#sect_6.2.1.2, or, in pydicom 2.2.0 or later, use the pydicom.valuerep.PersonName.from_named_components() method to construct the person name correctly. If a single-component name is really intended, add a trailing caret character to disambiguate the name.\n",
            "  check_person_name(patient_name)\n"
          ]
        },
        {
          "output_type": "stream",
          "name": "stdout",
          "text": [
            "********** On patient: ProstateX-0254 **********\n",
            "num_series: 1\n",
            "***** On series: 1.3.6.1.4.1.14519.5.2.1.7310.5101.107276353018221365492863559094 *****\n",
            "SeriesInstanceUID: 1.3.6.1.4.1.14519.5.2.1.7310.5101.107276353018221365492863559094\n"
          ]
        },
        {
          "output_type": "stream",
          "name": "stderr",
          "text": [
            "Downloading data: 100%|██████████| 3.98M/3.98M [00:02<00:00, 1.59MB/s]"
          ]
        },
        {
          "output_type": "stream",
          "name": "stdout",
          "text": [
            "FrameOfReferenceUID: 1.3.6.1.4.1.14519.5.2.1.7310.5101.191303474242301063396076400336\n",
            "Parsing  -17.8242 -17.1942 -48.7477\n",
            "Parsing  -22.4669 -10.4404 -33.5764\n",
            "2\n"
          ]
        },
        {
          "output_type": "stream",
          "name": "stderr",
          "text": [
            "\n",
            "/usr/local/lib/python3.11/dist-packages/highdicom/base.py:163: UserWarning: The string \"ProstateX-0254\" is unlikely to represent the intended person name since it contains only a single component. Construct a person name according to the format in described in https://dicom.nema.org/dicom/2013/output/chtml/part05/sect_6.2.html#sect_6.2.1.2, or, in pydicom 2.2.0 or later, use the pydicom.valuerep.PersonName.from_named_components() method to construct the person name correctly. If a single-component name is really intended, add a trailing caret character to disambiguate the name.\n",
            "  check_person_name(patient_name)\n"
          ]
        },
        {
          "output_type": "stream",
          "name": "stdout",
          "text": [
            "********** On patient: ProstateX-0255 **********\n",
            "num_series: 1\n",
            "***** On series: 1.3.6.1.4.1.14519.5.2.1.7310.5101.178558909086432531377913596350 *****\n",
            "SeriesInstanceUID: 1.3.6.1.4.1.14519.5.2.1.7310.5101.178558909086432531377913596350\n"
          ]
        },
        {
          "output_type": "stream",
          "name": "stderr",
          "text": [
            "Downloading data: 100%|█████████▉| 4.40M/4.40M [00:02<00:00, 1.75MB/s]"
          ]
        },
        {
          "output_type": "stream",
          "name": "stdout",
          "text": [
            "FrameOfReferenceUID: 1.3.6.1.4.1.14519.5.2.1.7310.5101.186320165109440273383105951702\n",
            "Parsing 6.66022 18.5016 8.5268\n",
            "Parsing -34.8098 10.1051 -8.96782\n",
            "2\n"
          ]
        },
        {
          "output_type": "stream",
          "name": "stderr",
          "text": [
            "\n",
            "/usr/local/lib/python3.11/dist-packages/highdicom/base.py:163: UserWarning: The string \"ProstateX-0255\" is unlikely to represent the intended person name since it contains only a single component. Construct a person name according to the format in described in https://dicom.nema.org/dicom/2013/output/chtml/part05/sect_6.2.html#sect_6.2.1.2, or, in pydicom 2.2.0 or later, use the pydicom.valuerep.PersonName.from_named_components() method to construct the person name correctly. If a single-component name is really intended, add a trailing caret character to disambiguate the name.\n",
            "  check_person_name(patient_name)\n"
          ]
        },
        {
          "output_type": "stream",
          "name": "stdout",
          "text": [
            "********** On patient: ProstateX-0256 **********\n",
            "num_series: 1\n",
            "***** On series: 1.3.6.1.4.1.14519.5.2.1.7310.5101.237442521216542491174034743456 *****\n",
            "SeriesInstanceUID: 1.3.6.1.4.1.14519.5.2.1.7310.5101.237442521216542491174034743456\n"
          ]
        },
        {
          "output_type": "stream",
          "name": "stderr",
          "text": [
            "Downloading data: 100%|██████████| 5.69M/5.69M [00:02<00:00, 2.27MB/s]"
          ]
        },
        {
          "output_type": "stream",
          "name": "stdout",
          "text": [
            "FrameOfReferenceUID: 1.3.6.1.4.1.14519.5.2.1.7310.5101.191186919295702510106799450794\n",
            "Parsing -12.5853 13.0773 -32.567\n",
            "Parsing -35.6923 34.9979 -16.8777\n",
            "Parsing -0.96195 33.1801 -19.6952\n",
            "3\n"
          ]
        },
        {
          "output_type": "stream",
          "name": "stderr",
          "text": [
            "\n",
            "/usr/local/lib/python3.11/dist-packages/highdicom/base.py:163: UserWarning: The string \"ProstateX-0256\" is unlikely to represent the intended person name since it contains only a single component. Construct a person name according to the format in described in https://dicom.nema.org/dicom/2013/output/chtml/part05/sect_6.2.html#sect_6.2.1.2, or, in pydicom 2.2.0 or later, use the pydicom.valuerep.PersonName.from_named_components() method to construct the person name correctly. If a single-component name is really intended, add a trailing caret character to disambiguate the name.\n",
            "  check_person_name(patient_name)\n"
          ]
        },
        {
          "output_type": "stream",
          "name": "stdout",
          "text": [
            "********** On patient: ProstateX-0257 **********\n",
            "num_series: 1\n",
            "***** On series: 1.3.6.1.4.1.14519.5.2.1.7310.5101.198640557604892009779112154185 *****\n",
            "SeriesInstanceUID: 1.3.6.1.4.1.14519.5.2.1.7310.5101.198640557604892009779112154185\n"
          ]
        },
        {
          "output_type": "stream",
          "name": "stderr",
          "text": [
            "Downloading data: 100%|█████████▉| 3.98M/3.98M [00:02<00:00, 1.58MB/s]"
          ]
        },
        {
          "output_type": "stream",
          "name": "stdout",
          "text": [
            "FrameOfReferenceUID: 1.3.6.1.4.1.14519.5.2.1.7310.5101.623838114563318622094506694824\n",
            "Parsing -19.5377 -52.7103 24.7468\n",
            "Parsing -15.6097 -32.2727 18.7468\n",
            "2\n"
          ]
        },
        {
          "output_type": "stream",
          "name": "stderr",
          "text": [
            "\n",
            "/usr/local/lib/python3.11/dist-packages/highdicom/base.py:163: UserWarning: The string \"ProstateX-0257\" is unlikely to represent the intended person name since it contains only a single component. Construct a person name according to the format in described in https://dicom.nema.org/dicom/2013/output/chtml/part05/sect_6.2.html#sect_6.2.1.2, or, in pydicom 2.2.0 or later, use the pydicom.valuerep.PersonName.from_named_components() method to construct the person name correctly. If a single-component name is really intended, add a trailing caret character to disambiguate the name.\n",
            "  check_person_name(patient_name)\n"
          ]
        },
        {
          "output_type": "stream",
          "name": "stdout",
          "text": [
            "********** On patient: ProstateX-0258 **********\n",
            "num_series: 1\n",
            "***** On series: 1.3.6.1.4.1.14519.5.2.1.7310.5101.322989122124845966628970877782 *****\n",
            "SeriesInstanceUID: 1.3.6.1.4.1.14519.5.2.1.7310.5101.322989122124845966628970877782\n"
          ]
        },
        {
          "output_type": "stream",
          "name": "stderr",
          "text": [
            "Downloading data: 100%|██████████| 3.98M/3.98M [00:02<00:00, 1.59MB/s]"
          ]
        },
        {
          "output_type": "stream",
          "name": "stdout",
          "text": [
            "FrameOfReferenceUID: 1.3.6.1.4.1.14519.5.2.1.7310.5101.260938510028464284847964637338\n",
            "Parsing 30.8548 -38.1329 -117.505\n",
            "Parsing 40.6592 -28.3287 -114.505\n",
            "2\n"
          ]
        },
        {
          "output_type": "stream",
          "name": "stderr",
          "text": [
            "\n",
            "/usr/local/lib/python3.11/dist-packages/highdicom/base.py:163: UserWarning: The string \"ProstateX-0258\" is unlikely to represent the intended person name since it contains only a single component. Construct a person name according to the format in described in https://dicom.nema.org/dicom/2013/output/chtml/part05/sect_6.2.html#sect_6.2.1.2, or, in pydicom 2.2.0 or later, use the pydicom.valuerep.PersonName.from_named_components() method to construct the person name correctly. If a single-component name is really intended, add a trailing caret character to disambiguate the name.\n",
            "  check_person_name(patient_name)\n"
          ]
        },
        {
          "output_type": "stream",
          "name": "stdout",
          "text": [
            "********** On patient: ProstateX-0259 **********\n",
            "num_series: 1\n",
            "***** On series: 1.3.6.1.4.1.14519.5.2.1.7310.5101.448179594868032658135586836637 *****\n",
            "SeriesInstanceUID: 1.3.6.1.4.1.14519.5.2.1.7310.5101.448179594868032658135586836637\n"
          ]
        },
        {
          "output_type": "stream",
          "name": "stderr",
          "text": [
            "Downloading data: 100%|██████████| 4.61M/4.61M [00:02<00:00, 1.84MB/s]"
          ]
        },
        {
          "output_type": "stream",
          "name": "stdout",
          "text": [
            "FrameOfReferenceUID: 1.3.6.1.4.1.14519.5.2.1.7310.5101.989293154660361070592837751743\n",
            "Parsing  -6.31335 -43.9449 -55.575\n",
            "Parsing 6.24728 -15.2991 -51.4981\n",
            "2\n"
          ]
        },
        {
          "output_type": "stream",
          "name": "stderr",
          "text": [
            "\n",
            "/usr/local/lib/python3.11/dist-packages/highdicom/base.py:163: UserWarning: The string \"ProstateX-0259\" is unlikely to represent the intended person name since it contains only a single component. Construct a person name according to the format in described in https://dicom.nema.org/dicom/2013/output/chtml/part05/sect_6.2.html#sect_6.2.1.2, or, in pydicom 2.2.0 or later, use the pydicom.valuerep.PersonName.from_named_components() method to construct the person name correctly. If a single-component name is really intended, add a trailing caret character to disambiguate the name.\n",
            "  check_person_name(patient_name)\n"
          ]
        },
        {
          "output_type": "stream",
          "name": "stdout",
          "text": [
            "********** On patient: ProstateX-0260 **********\n",
            "num_series: 1\n",
            "***** On series: 1.3.6.1.4.1.14519.5.2.1.7310.5101.216826324141545489418853460277 *****\n",
            "SeriesInstanceUID: 1.3.6.1.4.1.14519.5.2.1.7310.5101.216826324141545489418853460277\n"
          ]
        },
        {
          "output_type": "stream",
          "name": "stderr",
          "text": [
            "Downloading data: 100%|██████████| 3.98M/3.98M [00:02<00:00, 1.59MB/s]"
          ]
        },
        {
          "output_type": "stream",
          "name": "stdout",
          "text": [
            "FrameOfReferenceUID: 1.3.6.1.4.1.14519.5.2.1.7310.5101.232596238620192316887264733508\n",
            "Parsing  -7.50511 -3.73691 -51.9227\n",
            "1\n"
          ]
        },
        {
          "output_type": "stream",
          "name": "stderr",
          "text": [
            "\n",
            "/usr/local/lib/python3.11/dist-packages/highdicom/base.py:163: UserWarning: The string \"ProstateX-0260\" is unlikely to represent the intended person name since it contains only a single component. Construct a person name according to the format in described in https://dicom.nema.org/dicom/2013/output/chtml/part05/sect_6.2.html#sect_6.2.1.2, or, in pydicom 2.2.0 or later, use the pydicom.valuerep.PersonName.from_named_components() method to construct the person name correctly. If a single-component name is really intended, add a trailing caret character to disambiguate the name.\n",
            "  check_person_name(patient_name)\n"
          ]
        },
        {
          "output_type": "stream",
          "name": "stdout",
          "text": [
            "********** On patient: ProstateX-0261 **********\n",
            "num_series: 1\n",
            "***** On series: 1.3.6.1.4.1.14519.5.2.1.7310.5101.132782055228415703876207968911 *****\n",
            "SeriesInstanceUID: 1.3.6.1.4.1.14519.5.2.1.7310.5101.132782055228415703876207968911\n"
          ]
        },
        {
          "output_type": "stream",
          "name": "stderr",
          "text": [
            "Downloading data: 100%|██████████| 3.98M/3.98M [00:02<00:00, 1.59MB/s]"
          ]
        },
        {
          "output_type": "stream",
          "name": "stdout",
          "text": [
            "FrameOfReferenceUID: 1.3.6.1.4.1.14519.5.2.1.7310.5101.699715539539753372338921332174\n",
            "Parsing -3.5465 -51.3759 49.5249\n",
            "1\n"
          ]
        },
        {
          "output_type": "stream",
          "name": "stderr",
          "text": [
            "\n",
            "/usr/local/lib/python3.11/dist-packages/highdicom/base.py:163: UserWarning: The string \"ProstateX-0261\" is unlikely to represent the intended person name since it contains only a single component. Construct a person name according to the format in described in https://dicom.nema.org/dicom/2013/output/chtml/part05/sect_6.2.html#sect_6.2.1.2, or, in pydicom 2.2.0 or later, use the pydicom.valuerep.PersonName.from_named_components() method to construct the person name correctly. If a single-component name is really intended, add a trailing caret character to disambiguate the name.\n",
            "  check_person_name(patient_name)\n"
          ]
        },
        {
          "output_type": "stream",
          "name": "stdout",
          "text": [
            "********** On patient: ProstateX-0262 **********\n",
            "num_series: 1\n",
            "***** On series: 1.3.6.1.4.1.14519.5.2.1.7310.5101.101994341947902029100401227478 *****\n",
            "SeriesInstanceUID: 1.3.6.1.4.1.14519.5.2.1.7310.5101.101994341947902029100401227478\n"
          ]
        },
        {
          "output_type": "stream",
          "name": "stderr",
          "text": [
            "Downloading data: 100%|██████████| 3.98M/3.98M [00:02<00:00, 1.59MB/s]"
          ]
        },
        {
          "output_type": "stream",
          "name": "stdout",
          "text": [
            "FrameOfReferenceUID: 1.3.6.1.4.1.14519.5.2.1.7310.5101.221014234436525071018331402613\n",
            "Parsing 10.1241 -43.2535 -101.859\n",
            "1\n"
          ]
        },
        {
          "output_type": "stream",
          "name": "stderr",
          "text": [
            "\n",
            "/usr/local/lib/python3.11/dist-packages/highdicom/base.py:163: UserWarning: The string \"ProstateX-0262\" is unlikely to represent the intended person name since it contains only a single component. Construct a person name according to the format in described in https://dicom.nema.org/dicom/2013/output/chtml/part05/sect_6.2.html#sect_6.2.1.2, or, in pydicom 2.2.0 or later, use the pydicom.valuerep.PersonName.from_named_components() method to construct the person name correctly. If a single-component name is really intended, add a trailing caret character to disambiguate the name.\n",
            "  check_person_name(patient_name)\n"
          ]
        },
        {
          "output_type": "stream",
          "name": "stdout",
          "text": [
            "********** On patient: ProstateX-0263 **********\n",
            "num_series: 1\n",
            "***** On series: 1.3.6.1.4.1.14519.5.2.1.7310.5101.301349316641545909339162578599 *****\n",
            "SeriesInstanceUID: 1.3.6.1.4.1.14519.5.2.1.7310.5101.301349316641545909339162578599\n"
          ]
        },
        {
          "output_type": "stream",
          "name": "stderr",
          "text": [
            "Downloading data: 100%|██████████| 3.98M/3.98M [00:02<00:00, 1.59MB/s]"
          ]
        },
        {
          "output_type": "stream",
          "name": "stdout",
          "text": [
            "FrameOfReferenceUID: 1.3.6.1.4.1.14519.5.2.1.7310.5101.515211005718286440543125462854\n",
            "Parsing 8.25576 -26.6201 -37.9288\n",
            "Parsing  -19.5045 -19.8942 -33.5483\n",
            "Parsing  -17.5542 -26.4774 -47.2986\n",
            "3\n"
          ]
        },
        {
          "output_type": "stream",
          "name": "stderr",
          "text": [
            "\n",
            "/usr/local/lib/python3.11/dist-packages/highdicom/base.py:163: UserWarning: The string \"ProstateX-0263\" is unlikely to represent the intended person name since it contains only a single component. Construct a person name according to the format in described in https://dicom.nema.org/dicom/2013/output/chtml/part05/sect_6.2.html#sect_6.2.1.2, or, in pydicom 2.2.0 or later, use the pydicom.valuerep.PersonName.from_named_components() method to construct the person name correctly. If a single-component name is really intended, add a trailing caret character to disambiguate the name.\n",
            "  check_person_name(patient_name)\n"
          ]
        },
        {
          "output_type": "stream",
          "name": "stdout",
          "text": [
            "********** On patient: ProstateX-0264 **********\n",
            "num_series: 1\n",
            "***** On series: 1.3.6.1.4.1.14519.5.2.1.7310.5101.262265771460895312003009125052 *****\n",
            "SeriesInstanceUID: 1.3.6.1.4.1.14519.5.2.1.7310.5101.262265771460895312003009125052\n"
          ]
        },
        {
          "output_type": "stream",
          "name": "stderr",
          "text": [
            "Downloading data: 100%|█████████▉| 4.40M/4.40M [00:02<00:00, 1.75MB/s]"
          ]
        },
        {
          "output_type": "stream",
          "name": "stdout",
          "text": [
            "FrameOfReferenceUID: 1.3.6.1.4.1.14519.5.2.1.7310.5101.259795406321639704909372942973\n",
            "Parsing 10.9161 -29.6669 33.1635\n",
            "Parsing 17.6304 -1.36684 49.2034\n",
            "Parsing 31.3722 -21.1448 30.3945\n",
            "3\n"
          ]
        },
        {
          "output_type": "stream",
          "name": "stderr",
          "text": [
            "\n",
            "/usr/local/lib/python3.11/dist-packages/highdicom/base.py:163: UserWarning: The string \"ProstateX-0264\" is unlikely to represent the intended person name since it contains only a single component. Construct a person name according to the format in described in https://dicom.nema.org/dicom/2013/output/chtml/part05/sect_6.2.html#sect_6.2.1.2, or, in pydicom 2.2.0 or later, use the pydicom.valuerep.PersonName.from_named_components() method to construct the person name correctly. If a single-component name is really intended, add a trailing caret character to disambiguate the name.\n",
            "  check_person_name(patient_name)\n"
          ]
        },
        {
          "output_type": "stream",
          "name": "stdout",
          "text": [
            "********** On patient: ProstateX-0265 **********\n",
            "num_series: 1\n",
            "***** On series: 1.3.6.1.4.1.14519.5.2.1.7310.5101.259467270859277582122403078829 *****\n",
            "SeriesInstanceUID: 1.3.6.1.4.1.14519.5.2.1.7310.5101.259467270859277582122403078829\n"
          ]
        },
        {
          "output_type": "stream",
          "name": "stderr",
          "text": [
            "Downloading data: 100%|█████████▉| 5.24M/5.24M [00:02<00:00, 2.09MB/s]"
          ]
        },
        {
          "output_type": "stream",
          "name": "stdout",
          "text": [
            "FrameOfReferenceUID: 1.3.6.1.4.1.14519.5.2.1.7310.5101.183412907739645095535735740377\n",
            "Parsing -1.53569 2.79883 -24.7923\n",
            "Parsing 19.0543 -19.3814 -19.0561\n",
            "2\n"
          ]
        },
        {
          "output_type": "stream",
          "name": "stderr",
          "text": [
            "\n",
            "/usr/local/lib/python3.11/dist-packages/highdicom/base.py:163: UserWarning: The string \"ProstateX-0265\" is unlikely to represent the intended person name since it contains only a single component. Construct a person name according to the format in described in https://dicom.nema.org/dicom/2013/output/chtml/part05/sect_6.2.html#sect_6.2.1.2, or, in pydicom 2.2.0 or later, use the pydicom.valuerep.PersonName.from_named_components() method to construct the person name correctly. If a single-component name is really intended, add a trailing caret character to disambiguate the name.\n",
            "  check_person_name(patient_name)\n"
          ]
        },
        {
          "output_type": "stream",
          "name": "stdout",
          "text": [
            "********** On patient: ProstateX-0266 **********\n",
            "num_series: 1\n",
            "***** On series: 1.3.6.1.4.1.14519.5.2.1.7310.5101.211983363253218554754073154868 *****\n",
            "SeriesInstanceUID: 1.3.6.1.4.1.14519.5.2.1.7310.5101.211983363253218554754073154868\n"
          ]
        },
        {
          "output_type": "stream",
          "name": "stderr",
          "text": [
            "Downloading data: 100%|██████████| 4.82M/4.82M [00:02<00:00, 1.92MB/s]"
          ]
        },
        {
          "output_type": "stream",
          "name": "stdout",
          "text": [
            "FrameOfReferenceUID: 1.3.6.1.4.1.14519.5.2.1.7310.5101.179999055073363826275388629617\n",
            "Parsing  -4.03878372558594 -22.6587456054687 -17.448522845459\n",
            "1\n"
          ]
        },
        {
          "output_type": "stream",
          "name": "stderr",
          "text": [
            "\n",
            "/usr/local/lib/python3.11/dist-packages/highdicom/base.py:163: UserWarning: The string \"ProstateX-0266\" is unlikely to represent the intended person name since it contains only a single component. Construct a person name according to the format in described in https://dicom.nema.org/dicom/2013/output/chtml/part05/sect_6.2.html#sect_6.2.1.2, or, in pydicom 2.2.0 or later, use the pydicom.valuerep.PersonName.from_named_components() method to construct the person name correctly. If a single-component name is really intended, add a trailing caret character to disambiguate the name.\n",
            "  check_person_name(patient_name)\n"
          ]
        },
        {
          "output_type": "stream",
          "name": "stdout",
          "text": [
            "********** On patient: ProstateX-0267 **********\n",
            "num_series: 1\n",
            "***** On series: 1.3.6.1.4.1.14519.5.2.1.7310.5101.173752379288468572789564980298 *****\n",
            "SeriesInstanceUID: 1.3.6.1.4.1.14519.5.2.1.7310.5101.173752379288468572789564980298\n"
          ]
        },
        {
          "output_type": "stream",
          "name": "stderr",
          "text": [
            "Downloading data: 100%|██████████| 6.29M/6.29M [00:02<00:00, 2.51MB/s]"
          ]
        },
        {
          "output_type": "stream",
          "name": "stdout",
          "text": [
            "FrameOfReferenceUID: 1.3.6.1.4.1.14519.5.2.1.7310.5101.165587934636264303122433693098\n",
            "Parsing -3.1 20.7 40.8\n",
            "1\n"
          ]
        },
        {
          "output_type": "stream",
          "name": "stderr",
          "text": [
            "\n",
            "/usr/local/lib/python3.11/dist-packages/highdicom/base.py:163: UserWarning: The string \"ProstateX-0267\" is unlikely to represent the intended person name since it contains only a single component. Construct a person name according to the format in described in https://dicom.nema.org/dicom/2013/output/chtml/part05/sect_6.2.html#sect_6.2.1.2, or, in pydicom 2.2.0 or later, use the pydicom.valuerep.PersonName.from_named_components() method to construct the person name correctly. If a single-component name is really intended, add a trailing caret character to disambiguate the name.\n",
            "  check_person_name(patient_name)\n"
          ]
        },
        {
          "output_type": "stream",
          "name": "stdout",
          "text": [
            "********** On patient: ProstateX-0268 **********\n",
            "num_series: 1\n",
            "***** On series: 1.3.6.1.4.1.14519.5.2.1.7310.5101.178902935708728771480570387341 *****\n",
            "SeriesInstanceUID: 1.3.6.1.4.1.14519.5.2.1.7310.5101.178902935708728771480570387341\n"
          ]
        },
        {
          "output_type": "stream",
          "name": "stderr",
          "text": [
            "Downloading data: 100%|█████████▉| 3.98M/3.98M [00:02<00:00, 1.59MB/s]"
          ]
        },
        {
          "output_type": "stream",
          "name": "stdout",
          "text": [
            "FrameOfReferenceUID: 1.3.6.1.4.1.14519.5.2.1.7310.5101.744601004273650017850883425601\n",
            "Parsing -13.486 2.98341 -96.4219\n",
            "Parsing -22.6678 5.24236 -86.1719\n",
            "2\n"
          ]
        },
        {
          "output_type": "stream",
          "name": "stderr",
          "text": [
            "\n",
            "/usr/local/lib/python3.11/dist-packages/highdicom/base.py:163: UserWarning: The string \"ProstateX-0268\" is unlikely to represent the intended person name since it contains only a single component. Construct a person name according to the format in described in https://dicom.nema.org/dicom/2013/output/chtml/part05/sect_6.2.html#sect_6.2.1.2, or, in pydicom 2.2.0 or later, use the pydicom.valuerep.PersonName.from_named_components() method to construct the person name correctly. If a single-component name is really intended, add a trailing caret character to disambiguate the name.\n",
            "  check_person_name(patient_name)\n"
          ]
        },
        {
          "output_type": "stream",
          "name": "stdout",
          "text": [
            "********** On patient: ProstateX-0269 **********\n",
            "num_series: 1\n",
            "***** On series: 1.3.6.1.4.1.14519.5.2.1.7310.5101.312129043927692347659304195085 *****\n",
            "SeriesInstanceUID: 1.3.6.1.4.1.14519.5.2.1.7310.5101.312129043927692347659304195085\n"
          ]
        },
        {
          "output_type": "stream",
          "name": "stderr",
          "text": [
            "Downloading data: 100%|█████████▉| 5.24M/5.24M [00:02<00:00, 2.09MB/s]"
          ]
        },
        {
          "output_type": "stream",
          "name": "stdout",
          "text": [
            "FrameOfReferenceUID: 1.3.6.1.4.1.14519.5.2.1.7310.5101.168679762560522704938386094709\n",
            "Parsing  -5.79517 -36.1715 -63.7043\n",
            "1\n"
          ]
        },
        {
          "output_type": "stream",
          "name": "stderr",
          "text": [
            "\n",
            "/usr/local/lib/python3.11/dist-packages/highdicom/base.py:163: UserWarning: The string \"ProstateX-0269\" is unlikely to represent the intended person name since it contains only a single component. Construct a person name according to the format in described in https://dicom.nema.org/dicom/2013/output/chtml/part05/sect_6.2.html#sect_6.2.1.2, or, in pydicom 2.2.0 or later, use the pydicom.valuerep.PersonName.from_named_components() method to construct the person name correctly. If a single-component name is really intended, add a trailing caret character to disambiguate the name.\n",
            "  check_person_name(patient_name)\n"
          ]
        },
        {
          "output_type": "stream",
          "name": "stdout",
          "text": [
            "********** On patient: ProstateX-0270 **********\n",
            "num_series: 1\n",
            "***** On series: 1.3.6.1.4.1.14519.5.2.1.7310.5101.266299213163755410817772974453 *****\n",
            "SeriesInstanceUID: 1.3.6.1.4.1.14519.5.2.1.7310.5101.266299213163755410817772974453\n"
          ]
        },
        {
          "output_type": "stream",
          "name": "stderr",
          "text": [
            "Downloading data: 100%|██████████| 2.58M/2.58M [00:02<00:00, 1.03MB/s]"
          ]
        },
        {
          "output_type": "stream",
          "name": "stdout",
          "text": [
            "FrameOfReferenceUID: 1.3.6.1.4.1.14519.5.2.1.7310.5101.268957211492327167455814686701\n",
            "Parsing 7.61212 19.5191 -79.9657\n",
            "1\n"
          ]
        },
        {
          "output_type": "stream",
          "name": "stderr",
          "text": [
            "\n",
            "/usr/local/lib/python3.11/dist-packages/highdicom/base.py:163: UserWarning: The string \"ProstateX-0270\" is unlikely to represent the intended person name since it contains only a single component. Construct a person name according to the format in described in https://dicom.nema.org/dicom/2013/output/chtml/part05/sect_6.2.html#sect_6.2.1.2, or, in pydicom 2.2.0 or later, use the pydicom.valuerep.PersonName.from_named_components() method to construct the person name correctly. If a single-component name is really intended, add a trailing caret character to disambiguate the name.\n",
            "  check_person_name(patient_name)\n"
          ]
        },
        {
          "output_type": "stream",
          "name": "stdout",
          "text": [
            "********** On patient: ProstateX-0271 **********\n",
            "num_series: 1\n",
            "***** On series: 1.3.6.1.4.1.14519.5.2.1.7310.5101.195247086269041979647370870072 *****\n",
            "SeriesInstanceUID: 1.3.6.1.4.1.14519.5.2.1.7310.5101.195247086269041979647370870072\n"
          ]
        },
        {
          "output_type": "stream",
          "name": "stderr",
          "text": [
            "Downloading data: 100%|██████████| 4.40M/4.40M [00:02<00:00, 1.75MB/s]"
          ]
        },
        {
          "output_type": "stream",
          "name": "stdout",
          "text": [
            "FrameOfReferenceUID: 1.3.6.1.4.1.14519.5.2.1.7310.5101.216759988594540175628784402215\n",
            "Parsing  -18.3579 -26.1483 -121.836\n",
            "1\n"
          ]
        },
        {
          "output_type": "stream",
          "name": "stderr",
          "text": [
            "\n",
            "/usr/local/lib/python3.11/dist-packages/highdicom/base.py:163: UserWarning: The string \"ProstateX-0271\" is unlikely to represent the intended person name since it contains only a single component. Construct a person name according to the format in described in https://dicom.nema.org/dicom/2013/output/chtml/part05/sect_6.2.html#sect_6.2.1.2, or, in pydicom 2.2.0 or later, use the pydicom.valuerep.PersonName.from_named_components() method to construct the person name correctly. If a single-component name is really intended, add a trailing caret character to disambiguate the name.\n",
            "  check_person_name(patient_name)\n"
          ]
        },
        {
          "output_type": "stream",
          "name": "stdout",
          "text": [
            "********** On patient: ProstateX-0272 **********\n",
            "num_series: 1\n",
            "***** On series: 1.3.6.1.4.1.14519.5.2.1.7310.5101.218677999328304542921744029431 *****\n",
            "SeriesInstanceUID: 1.3.6.1.4.1.14519.5.2.1.7310.5101.218677999328304542921744029431\n"
          ]
        },
        {
          "output_type": "stream",
          "name": "stderr",
          "text": [
            "Downloading data: 100%|█████████▉| 4.40M/4.40M [00:02<00:00, 1.75MB/s]"
          ]
        },
        {
          "output_type": "stream",
          "name": "stdout",
          "text": [
            "FrameOfReferenceUID: 1.3.6.1.4.1.14519.5.2.1.7310.5101.326858482431009455435186041379\n",
            "Parsing 41.2564 -20.6123 -80.6673\n",
            "1\n"
          ]
        },
        {
          "output_type": "stream",
          "name": "stderr",
          "text": [
            "\n",
            "/usr/local/lib/python3.11/dist-packages/highdicom/base.py:163: UserWarning: The string \"ProstateX-0272\" is unlikely to represent the intended person name since it contains only a single component. Construct a person name according to the format in described in https://dicom.nema.org/dicom/2013/output/chtml/part05/sect_6.2.html#sect_6.2.1.2, or, in pydicom 2.2.0 or later, use the pydicom.valuerep.PersonName.from_named_components() method to construct the person name correctly. If a single-component name is really intended, add a trailing caret character to disambiguate the name.\n",
            "  check_person_name(patient_name)\n"
          ]
        },
        {
          "output_type": "stream",
          "name": "stdout",
          "text": [
            "********** On patient: ProstateX-0273 **********\n",
            "num_series: 1\n",
            "***** On series: 1.3.6.1.4.1.14519.5.2.1.7310.5101.292685299330397663566681891219 *****\n",
            "SeriesInstanceUID: 1.3.6.1.4.1.14519.5.2.1.7310.5101.292685299330397663566681891219\n"
          ]
        },
        {
          "output_type": "stream",
          "name": "stderr",
          "text": [
            "Downloading data: 100%|██████████| 3.98M/3.98M [00:02<00:00, 1.59MB/s]"
          ]
        },
        {
          "output_type": "stream",
          "name": "stdout",
          "text": [
            "FrameOfReferenceUID: 1.3.6.1.4.1.14519.5.2.1.7310.5101.316695190464816698721510672795\n",
            "Parsing 7.43394 -2.65248 -64.2629\n",
            "1\n"
          ]
        },
        {
          "output_type": "stream",
          "name": "stderr",
          "text": [
            "\n",
            "/usr/local/lib/python3.11/dist-packages/highdicom/base.py:163: UserWarning: The string \"ProstateX-0273\" is unlikely to represent the intended person name since it contains only a single component. Construct a person name according to the format in described in https://dicom.nema.org/dicom/2013/output/chtml/part05/sect_6.2.html#sect_6.2.1.2, or, in pydicom 2.2.0 or later, use the pydicom.valuerep.PersonName.from_named_components() method to construct the person name correctly. If a single-component name is really intended, add a trailing caret character to disambiguate the name.\n",
            "  check_person_name(patient_name)\n"
          ]
        },
        {
          "output_type": "stream",
          "name": "stdout",
          "text": [
            "********** On patient: ProstateX-0274 **********\n",
            "num_series: 1\n",
            "***** On series: 1.3.6.1.4.1.14519.5.2.1.7310.5101.706288557565057604880613057899 *****\n",
            "SeriesInstanceUID: 1.3.6.1.4.1.14519.5.2.1.7310.5101.706288557565057604880613057899\n"
          ]
        },
        {
          "output_type": "stream",
          "name": "stderr",
          "text": [
            "Downloading data: 100%|██████████| 3.98M/3.98M [00:02<00:00, 1.59MB/s]"
          ]
        },
        {
          "output_type": "stream",
          "name": "stdout",
          "text": [
            "FrameOfReferenceUID: 1.3.6.1.4.1.14519.5.2.1.7310.5101.328752138044075379405430289119\n",
            "Parsing 12.9641 -15.8707 -2.60254\n",
            "1\n"
          ]
        },
        {
          "output_type": "stream",
          "name": "stderr",
          "text": [
            "\n",
            "/usr/local/lib/python3.11/dist-packages/highdicom/base.py:163: UserWarning: The string \"ProstateX-0274\" is unlikely to represent the intended person name since it contains only a single component. Construct a person name according to the format in described in https://dicom.nema.org/dicom/2013/output/chtml/part05/sect_6.2.html#sect_6.2.1.2, or, in pydicom 2.2.0 or later, use the pydicom.valuerep.PersonName.from_named_components() method to construct the person name correctly. If a single-component name is really intended, add a trailing caret character to disambiguate the name.\n",
            "  check_person_name(patient_name)\n"
          ]
        },
        {
          "output_type": "stream",
          "name": "stdout",
          "text": [
            "********** On patient: ProstateX-0275 **********\n",
            "num_series: 1\n",
            "***** On series: 1.3.6.1.4.1.14519.5.2.1.7310.5101.128915395083536972793214199559 *****\n",
            "SeriesInstanceUID: 1.3.6.1.4.1.14519.5.2.1.7310.5101.128915395083536972793214199559\n"
          ]
        },
        {
          "output_type": "stream",
          "name": "stderr",
          "text": [
            "Downloading data: 100%|██████████| 5.69M/5.69M [00:03<00:00, 1.89MB/s]"
          ]
        },
        {
          "output_type": "stream",
          "name": "stdout",
          "text": [
            "FrameOfReferenceUID: 1.3.6.1.4.1.14519.5.2.1.7310.5101.182744637918723024268402313771\n",
            "Parsing 6.84322 33.4621 24.0203\n",
            "1\n"
          ]
        },
        {
          "output_type": "stream",
          "name": "stderr",
          "text": [
            "\n",
            "/usr/local/lib/python3.11/dist-packages/highdicom/base.py:163: UserWarning: The string \"ProstateX-0275\" is unlikely to represent the intended person name since it contains only a single component. Construct a person name according to the format in described in https://dicom.nema.org/dicom/2013/output/chtml/part05/sect_6.2.html#sect_6.2.1.2, or, in pydicom 2.2.0 or later, use the pydicom.valuerep.PersonName.from_named_components() method to construct the person name correctly. If a single-component name is really intended, add a trailing caret character to disambiguate the name.\n",
            "  check_person_name(patient_name)\n"
          ]
        },
        {
          "output_type": "stream",
          "name": "stdout",
          "text": [
            "********** On patient: ProstateX-0276 **********\n",
            "num_series: 1\n",
            "***** On series: 1.3.6.1.4.1.14519.5.2.1.7310.5101.410225374213928440799700663463 *****\n",
            "SeriesInstanceUID: 1.3.6.1.4.1.14519.5.2.1.7310.5101.410225374213928440799700663463\n"
          ]
        },
        {
          "output_type": "stream",
          "name": "stderr",
          "text": [
            "Downloading data: 100%|██████████| 5.69M/5.69M [00:02<00:00, 2.27MB/s]"
          ]
        },
        {
          "output_type": "stream",
          "name": "stdout",
          "text": [
            "FrameOfReferenceUID: 1.3.6.1.4.1.14519.5.2.1.7310.5101.305077428266139716839250030975\n",
            "Parsing -19.6589 44.2201 -8.74483\n",
            "1\n"
          ]
        },
        {
          "output_type": "stream",
          "name": "stderr",
          "text": [
            "\n",
            "/usr/local/lib/python3.11/dist-packages/highdicom/base.py:163: UserWarning: The string \"ProstateX-0276\" is unlikely to represent the intended person name since it contains only a single component. Construct a person name according to the format in described in https://dicom.nema.org/dicom/2013/output/chtml/part05/sect_6.2.html#sect_6.2.1.2, or, in pydicom 2.2.0 or later, use the pydicom.valuerep.PersonName.from_named_components() method to construct the person name correctly. If a single-component name is really intended, add a trailing caret character to disambiguate the name.\n",
            "  check_person_name(patient_name)\n"
          ]
        },
        {
          "output_type": "stream",
          "name": "stdout",
          "text": [
            "********** On patient: ProstateX-0277 **********\n",
            "num_series: 1\n",
            "***** On series: 1.3.6.1.4.1.14519.5.2.1.7310.5101.160005740358936144046081104399 *****\n",
            "SeriesInstanceUID: 1.3.6.1.4.1.14519.5.2.1.7310.5101.160005740358936144046081104399\n"
          ]
        },
        {
          "output_type": "stream",
          "name": "stderr",
          "text": [
            "Downloading data: 100%|██████████| 5.69M/5.69M [00:02<00:00, 2.27MB/s]"
          ]
        },
        {
          "output_type": "stream",
          "name": "stdout",
          "text": [
            "FrameOfReferenceUID: 1.3.6.1.4.1.14519.5.2.1.7310.5101.292303382611920800416131862061\n",
            "Parsing 3.44298 31.7627 -44.4016\n",
            "1\n"
          ]
        },
        {
          "output_type": "stream",
          "name": "stderr",
          "text": [
            "\n",
            "/usr/local/lib/python3.11/dist-packages/highdicom/base.py:163: UserWarning: The string \"ProstateX-0277\" is unlikely to represent the intended person name since it contains only a single component. Construct a person name according to the format in described in https://dicom.nema.org/dicom/2013/output/chtml/part05/sect_6.2.html#sect_6.2.1.2, or, in pydicom 2.2.0 or later, use the pydicom.valuerep.PersonName.from_named_components() method to construct the person name correctly. If a single-component name is really intended, add a trailing caret character to disambiguate the name.\n",
            "  check_person_name(patient_name)\n"
          ]
        },
        {
          "output_type": "stream",
          "name": "stdout",
          "text": [
            "********** On patient: ProstateX-0278 **********\n",
            "num_series: 1\n",
            "***** On series: 1.3.6.1.4.1.14519.5.2.1.7310.5101.145860169462793456371175286429 *****\n",
            "SeriesInstanceUID: 1.3.6.1.4.1.14519.5.2.1.7310.5101.145860169462793456371175286429\n"
          ]
        },
        {
          "output_type": "stream",
          "name": "stderr",
          "text": [
            "Downloading data: 100%|██████████| 5.69M/5.69M [00:02<00:00, 2.27MB/s]"
          ]
        },
        {
          "output_type": "stream",
          "name": "stdout",
          "text": [
            "FrameOfReferenceUID: 1.3.6.1.4.1.14519.5.2.1.7310.5101.171521611808435195577122758434\n",
            "Parsing 0.0694979 9.85507 -90.7959\n",
            "Parsing 24.2547 43.4386 -73.376\n",
            "2\n"
          ]
        },
        {
          "output_type": "stream",
          "name": "stderr",
          "text": [
            "\n",
            "/usr/local/lib/python3.11/dist-packages/highdicom/base.py:163: UserWarning: The string \"ProstateX-0278\" is unlikely to represent the intended person name since it contains only a single component. Construct a person name according to the format in described in https://dicom.nema.org/dicom/2013/output/chtml/part05/sect_6.2.html#sect_6.2.1.2, or, in pydicom 2.2.0 or later, use the pydicom.valuerep.PersonName.from_named_components() method to construct the person name correctly. If a single-component name is really intended, add a trailing caret character to disambiguate the name.\n",
            "  check_person_name(patient_name)\n"
          ]
        },
        {
          "output_type": "stream",
          "name": "stdout",
          "text": [
            "********** On patient: ProstateX-0279 **********\n",
            "num_series: 1\n",
            "***** On series: 1.3.6.1.4.1.14519.5.2.1.7310.5101.587257417107959511054111707590 *****\n",
            "SeriesInstanceUID: 1.3.6.1.4.1.14519.5.2.1.7310.5101.587257417107959511054111707590\n"
          ]
        },
        {
          "output_type": "stream",
          "name": "stderr",
          "text": [
            "Downloading data: 100%|██████████| 5.69M/5.69M [00:02<00:00, 2.27MB/s]"
          ]
        },
        {
          "output_type": "stream",
          "name": "stdout",
          "text": [
            "FrameOfReferenceUID: 1.3.6.1.4.1.14519.5.2.1.7310.5101.385763808112876082919708732896\n",
            "Parsing -13.4517 23.5068 20.7393\n",
            "1\n"
          ]
        },
        {
          "output_type": "stream",
          "name": "stderr",
          "text": [
            "\n",
            "/usr/local/lib/python3.11/dist-packages/highdicom/base.py:163: UserWarning: The string \"ProstateX-0279\" is unlikely to represent the intended person name since it contains only a single component. Construct a person name according to the format in described in https://dicom.nema.org/dicom/2013/output/chtml/part05/sect_6.2.html#sect_6.2.1.2, or, in pydicom 2.2.0 or later, use the pydicom.valuerep.PersonName.from_named_components() method to construct the person name correctly. If a single-component name is really intended, add a trailing caret character to disambiguate the name.\n",
            "  check_person_name(patient_name)\n"
          ]
        },
        {
          "output_type": "stream",
          "name": "stdout",
          "text": [
            "********** On patient: ProstateX-0280 **********\n",
            "num_series: 1\n",
            "***** On series: 1.3.6.1.4.1.14519.5.2.1.7310.5101.338061683022072925705221779249 *****\n",
            "SeriesInstanceUID: 1.3.6.1.4.1.14519.5.2.1.7310.5101.338061683022072925705221779249\n"
          ]
        },
        {
          "output_type": "stream",
          "name": "stderr",
          "text": [
            "Downloading data: 100%|██████████| 5.69M/5.69M [00:02<00:00, 2.27MB/s]"
          ]
        },
        {
          "output_type": "stream",
          "name": "stdout",
          "text": [
            "FrameOfReferenceUID: 1.3.6.1.4.1.14519.5.2.1.7310.5101.262634576406112694214902583335\n",
            "Parsing -32.5957 24.2277 20.6089\n",
            "1\n"
          ]
        },
        {
          "output_type": "stream",
          "name": "stderr",
          "text": [
            "\n",
            "/usr/local/lib/python3.11/dist-packages/highdicom/base.py:163: UserWarning: The string \"ProstateX-0280\" is unlikely to represent the intended person name since it contains only a single component. Construct a person name according to the format in described in https://dicom.nema.org/dicom/2013/output/chtml/part05/sect_6.2.html#sect_6.2.1.2, or, in pydicom 2.2.0 or later, use the pydicom.valuerep.PersonName.from_named_components() method to construct the person name correctly. If a single-component name is really intended, add a trailing caret character to disambiguate the name.\n",
            "  check_person_name(patient_name)\n"
          ]
        },
        {
          "output_type": "stream",
          "name": "stdout",
          "text": [
            "********** On patient: ProstateX-0281 **********\n",
            "num_series: 1\n",
            "***** On series: 1.3.6.1.4.1.14519.5.2.1.7310.5101.922631090413513300254681344298 *****\n",
            "SeriesInstanceUID: 1.3.6.1.4.1.14519.5.2.1.7310.5101.922631090413513300254681344298\n"
          ]
        },
        {
          "output_type": "stream",
          "name": "stderr",
          "text": [
            "Downloading data: 100%|██████████| 5.69M/5.69M [00:02<00:00, 2.27MB/s]"
          ]
        },
        {
          "output_type": "stream",
          "name": "stdout",
          "text": [
            "FrameOfReferenceUID: 1.3.6.1.4.1.14519.5.2.1.7310.5101.319815107067928669883344442151\n",
            "Parsing -4.01879 41.9102 -67.9277\n",
            "1\n"
          ]
        },
        {
          "output_type": "stream",
          "name": "stderr",
          "text": [
            "\n",
            "/usr/local/lib/python3.11/dist-packages/highdicom/base.py:163: UserWarning: The string \"ProstateX-0281\" is unlikely to represent the intended person name since it contains only a single component. Construct a person name according to the format in described in https://dicom.nema.org/dicom/2013/output/chtml/part05/sect_6.2.html#sect_6.2.1.2, or, in pydicom 2.2.0 or later, use the pydicom.valuerep.PersonName.from_named_components() method to construct the person name correctly. If a single-component name is really intended, add a trailing caret character to disambiguate the name.\n",
            "  check_person_name(patient_name)\n"
          ]
        },
        {
          "output_type": "stream",
          "name": "stdout",
          "text": [
            "********** On patient: ProstateX-0282 **********\n",
            "num_series: 1\n",
            "***** On series: 1.3.6.1.4.1.14519.5.2.1.7310.5101.924461907121382629082653841527 *****\n",
            "SeriesInstanceUID: 1.3.6.1.4.1.14519.5.2.1.7310.5101.924461907121382629082653841527\n"
          ]
        },
        {
          "output_type": "stream",
          "name": "stderr",
          "text": [
            "Downloading data: 100%|██████████| 6.59M/6.59M [00:02<00:00, 2.63MB/s]"
          ]
        },
        {
          "output_type": "stream",
          "name": "stdout",
          "text": [
            "FrameOfReferenceUID: 1.3.6.1.4.1.14519.5.2.1.7310.5101.349823948536928403707859155659\n",
            "Parsing -8.20328 38.4142 -52.8455\n",
            "Parsing -35.5933 34.8802 -52.1777\n",
            "2\n"
          ]
        },
        {
          "output_type": "stream",
          "name": "stderr",
          "text": [
            "\n",
            "/usr/local/lib/python3.11/dist-packages/highdicom/base.py:163: UserWarning: The string \"ProstateX-0282\" is unlikely to represent the intended person name since it contains only a single component. Construct a person name according to the format in described in https://dicom.nema.org/dicom/2013/output/chtml/part05/sect_6.2.html#sect_6.2.1.2, or, in pydicom 2.2.0 or later, use the pydicom.valuerep.PersonName.from_named_components() method to construct the person name correctly. If a single-component name is really intended, add a trailing caret character to disambiguate the name.\n",
            "  check_person_name(patient_name)\n"
          ]
        },
        {
          "output_type": "stream",
          "name": "stdout",
          "text": [
            "********** On patient: ProstateX-0283 **********\n",
            "num_series: 1\n",
            "***** On series: 1.3.6.1.4.1.14519.5.2.1.7310.5101.254733956131960822463239274141 *****\n",
            "SeriesInstanceUID: 1.3.6.1.4.1.14519.5.2.1.7310.5101.254733956131960822463239274141\n"
          ]
        },
        {
          "output_type": "stream",
          "name": "stderr",
          "text": [
            "Downloading data: 100%|██████████| 6.89M/6.89M [00:02<00:00, 2.74MB/s]"
          ]
        },
        {
          "output_type": "stream",
          "name": "stdout",
          "text": [
            "FrameOfReferenceUID: 1.3.6.1.4.1.14519.5.2.1.7310.5101.147826831822879944496084143429\n",
            "Parsing 6.15665 38.018 22.5233\n",
            "Parsing -22.9568 2.05752 27.9472\n",
            "2\n"
          ]
        },
        {
          "output_type": "stream",
          "name": "stderr",
          "text": [
            "\n",
            "/usr/local/lib/python3.11/dist-packages/highdicom/base.py:163: UserWarning: The string \"ProstateX-0283\" is unlikely to represent the intended person name since it contains only a single component. Construct a person name according to the format in described in https://dicom.nema.org/dicom/2013/output/chtml/part05/sect_6.2.html#sect_6.2.1.2, or, in pydicom 2.2.0 or later, use the pydicom.valuerep.PersonName.from_named_components() method to construct the person name correctly. If a single-component name is really intended, add a trailing caret character to disambiguate the name.\n",
            "  check_person_name(patient_name)\n"
          ]
        },
        {
          "output_type": "stream",
          "name": "stdout",
          "text": [
            "********** On patient: ProstateX-0284 **********\n",
            "num_series: 1\n",
            "***** On series: 1.3.6.1.4.1.14519.5.2.1.7310.5101.255381456499897319242934665403 *****\n",
            "SeriesInstanceUID: 1.3.6.1.4.1.14519.5.2.1.7310.5101.255381456499897319242934665403\n"
          ]
        },
        {
          "output_type": "stream",
          "name": "stderr",
          "text": [
            "Downloading data: 100%|██████████| 6.29M/6.29M [00:02<00:00, 2.50MB/s]"
          ]
        },
        {
          "output_type": "stream",
          "name": "stdout",
          "text": [
            "FrameOfReferenceUID: 1.3.6.1.4.1.14519.5.2.1.7310.5101.332102412167975067113171176748\n",
            "Parsing 10.1251 47.9035 -34.5716\n",
            "1\n"
          ]
        },
        {
          "output_type": "stream",
          "name": "stderr",
          "text": [
            "\n",
            "/usr/local/lib/python3.11/dist-packages/highdicom/base.py:163: UserWarning: The string \"ProstateX-0284\" is unlikely to represent the intended person name since it contains only a single component. Construct a person name according to the format in described in https://dicom.nema.org/dicom/2013/output/chtml/part05/sect_6.2.html#sect_6.2.1.2, or, in pydicom 2.2.0 or later, use the pydicom.valuerep.PersonName.from_named_components() method to construct the person name correctly. If a single-component name is really intended, add a trailing caret character to disambiguate the name.\n",
            "  check_person_name(patient_name)\n"
          ]
        },
        {
          "output_type": "stream",
          "name": "stdout",
          "text": [
            "********** On patient: ProstateX-0285 **********\n",
            "num_series: 1\n",
            "***** On series: 1.3.6.1.4.1.14519.5.2.1.7310.5101.596749098283329798247147737806 *****\n",
            "SeriesInstanceUID: 1.3.6.1.4.1.14519.5.2.1.7310.5101.596749098283329798247147737806\n"
          ]
        },
        {
          "output_type": "stream",
          "name": "stderr",
          "text": [
            "Downloading data: 100%|██████████| 5.69M/5.69M [00:02<00:00, 2.27MB/s]"
          ]
        },
        {
          "output_type": "stream",
          "name": "stdout",
          "text": [
            "FrameOfReferenceUID: 1.3.6.1.4.1.14519.5.2.1.7310.5101.102656581660393015214705846048\n",
            "Parsing 2.59157 53.6028 0.338243\n",
            "1\n"
          ]
        },
        {
          "output_type": "stream",
          "name": "stderr",
          "text": [
            "\n",
            "/usr/local/lib/python3.11/dist-packages/highdicom/base.py:163: UserWarning: The string \"ProstateX-0285\" is unlikely to represent the intended person name since it contains only a single component. Construct a person name according to the format in described in https://dicom.nema.org/dicom/2013/output/chtml/part05/sect_6.2.html#sect_6.2.1.2, or, in pydicom 2.2.0 or later, use the pydicom.valuerep.PersonName.from_named_components() method to construct the person name correctly. If a single-component name is really intended, add a trailing caret character to disambiguate the name.\n",
            "  check_person_name(patient_name)\n"
          ]
        },
        {
          "output_type": "stream",
          "name": "stdout",
          "text": [
            "********** On patient: ProstateX-0286 **********\n",
            "num_series: 1\n",
            "***** On series: 1.3.6.1.4.1.14519.5.2.1.7310.5101.239895707172410649285443181339 *****\n",
            "SeriesInstanceUID: 1.3.6.1.4.1.14519.5.2.1.7310.5101.239895707172410649285443181339\n"
          ]
        },
        {
          "output_type": "stream",
          "name": "stderr",
          "text": [
            "Downloading data: 100%|██████████| 5.69M/5.69M [00:02<00:00, 2.27MB/s]"
          ]
        },
        {
          "output_type": "stream",
          "name": "stdout",
          "text": [
            "FrameOfReferenceUID: 1.3.6.1.4.1.14519.5.2.1.7310.5101.369624270270184982327376974657\n",
            "Parsing 4.68827 26.5313 65.0605\n",
            "Parsing -17.1774 48.1813 55.193\n",
            "2\n"
          ]
        },
        {
          "output_type": "stream",
          "name": "stderr",
          "text": [
            "\n",
            "/usr/local/lib/python3.11/dist-packages/highdicom/base.py:163: UserWarning: The string \"ProstateX-0286\" is unlikely to represent the intended person name since it contains only a single component. Construct a person name according to the format in described in https://dicom.nema.org/dicom/2013/output/chtml/part05/sect_6.2.html#sect_6.2.1.2, or, in pydicom 2.2.0 or later, use the pydicom.valuerep.PersonName.from_named_components() method to construct the person name correctly. If a single-component name is really intended, add a trailing caret character to disambiguate the name.\n",
            "  check_person_name(patient_name)\n"
          ]
        },
        {
          "output_type": "stream",
          "name": "stdout",
          "text": [
            "********** On patient: ProstateX-0287 **********\n",
            "num_series: 1\n",
            "***** On series: 1.3.6.1.4.1.14519.5.2.1.7310.5101.235435378961283096677653331214 *****\n",
            "SeriesInstanceUID: 1.3.6.1.4.1.14519.5.2.1.7310.5101.235435378961283096677653331214\n"
          ]
        },
        {
          "output_type": "stream",
          "name": "stderr",
          "text": [
            "Downloading data: 100%|██████████| 6.29M/6.29M [00:02<00:00, 2.51MB/s]"
          ]
        },
        {
          "output_type": "stream",
          "name": "stdout",
          "text": [
            "FrameOfReferenceUID: 1.3.6.1.4.1.14519.5.2.1.7310.5101.134849151830956348575831701397\n",
            "Parsing -2.03572 42.4434 22.189\n",
            "Parsing -26.6149 25.6358 24.8511\n",
            "2\n"
          ]
        },
        {
          "output_type": "stream",
          "name": "stderr",
          "text": [
            "\n",
            "/usr/local/lib/python3.11/dist-packages/highdicom/base.py:163: UserWarning: The string \"ProstateX-0287\" is unlikely to represent the intended person name since it contains only a single component. Construct a person name according to the format in described in https://dicom.nema.org/dicom/2013/output/chtml/part05/sect_6.2.html#sect_6.2.1.2, or, in pydicom 2.2.0 or later, use the pydicom.valuerep.PersonName.from_named_components() method to construct the person name correctly. If a single-component name is really intended, add a trailing caret character to disambiguate the name.\n",
            "  check_person_name(patient_name)\n"
          ]
        },
        {
          "output_type": "stream",
          "name": "stdout",
          "text": [
            "********** On patient: ProstateX-0288 **********\n",
            "num_series: 1\n",
            "***** On series: 1.3.6.1.4.1.14519.5.2.1.7310.5101.297260986967184085777069455341 *****\n",
            "SeriesInstanceUID: 1.3.6.1.4.1.14519.5.2.1.7310.5101.297260986967184085777069455341\n"
          ]
        },
        {
          "output_type": "stream",
          "name": "stderr",
          "text": [
            "Downloading data: 100%|██████████| 6.89M/6.89M [00:03<00:00, 2.29MB/s]"
          ]
        },
        {
          "output_type": "stream",
          "name": "stdout",
          "text": [
            "FrameOfReferenceUID: 1.3.6.1.4.1.14519.5.2.1.7310.5101.712834249729854944432028331571\n",
            "Parsing -3.60655 8.38504 -0.521945\n",
            "Parsing -23.6508 39.3182693237305 -6.76557138305664\n",
            "2\n"
          ]
        },
        {
          "output_type": "stream",
          "name": "stderr",
          "text": [
            "\n",
            "/usr/local/lib/python3.11/dist-packages/highdicom/base.py:163: UserWarning: The string \"ProstateX-0288\" is unlikely to represent the intended person name since it contains only a single component. Construct a person name according to the format in described in https://dicom.nema.org/dicom/2013/output/chtml/part05/sect_6.2.html#sect_6.2.1.2, or, in pydicom 2.2.0 or later, use the pydicom.valuerep.PersonName.from_named_components() method to construct the person name correctly. If a single-component name is really intended, add a trailing caret character to disambiguate the name.\n",
            "  check_person_name(patient_name)\n"
          ]
        },
        {
          "output_type": "stream",
          "name": "stdout",
          "text": [
            "********** On patient: ProstateX-0289 **********\n",
            "num_series: 1\n",
            "***** On series: 1.3.6.1.4.1.14519.5.2.1.7310.5101.281436300716562163221085326209 *****\n",
            "SeriesInstanceUID: 1.3.6.1.4.1.14519.5.2.1.7310.5101.281436300716562163221085326209\n"
          ]
        },
        {
          "output_type": "stream",
          "name": "stderr",
          "text": [
            "Downloading data: 100%|██████████| 6.89M/6.89M [00:02<00:00, 2.75MB/s]"
          ]
        },
        {
          "output_type": "stream",
          "name": "stdout",
          "text": [
            "FrameOfReferenceUID: 1.3.6.1.4.1.14519.5.2.1.7310.5101.294495904565481650438865626843\n",
            "Parsing 7.01316 40.0137 20.7159\n",
            "1\n"
          ]
        },
        {
          "output_type": "stream",
          "name": "stderr",
          "text": [
            "\n",
            "/usr/local/lib/python3.11/dist-packages/highdicom/base.py:163: UserWarning: The string \"ProstateX-0289\" is unlikely to represent the intended person name since it contains only a single component. Construct a person name according to the format in described in https://dicom.nema.org/dicom/2013/output/chtml/part05/sect_6.2.html#sect_6.2.1.2, or, in pydicom 2.2.0 or later, use the pydicom.valuerep.PersonName.from_named_components() method to construct the person name correctly. If a single-component name is really intended, add a trailing caret character to disambiguate the name.\n",
            "  check_person_name(patient_name)\n"
          ]
        },
        {
          "output_type": "stream",
          "name": "stdout",
          "text": [
            "********** On patient: ProstateX-0290 **********\n",
            "num_series: 1\n",
            "***** On series: 1.3.6.1.4.1.14519.5.2.1.7310.5101.547884163838813229519179914268 *****\n",
            "SeriesInstanceUID: 1.3.6.1.4.1.14519.5.2.1.7310.5101.547884163838813229519179914268\n"
          ]
        },
        {
          "output_type": "stream",
          "name": "stderr",
          "text": [
            "Downloading data: 100%|██████████| 5.69M/5.69M [00:02<00:00, 2.27MB/s]"
          ]
        },
        {
          "output_type": "stream",
          "name": "stdout",
          "text": [
            "FrameOfReferenceUID: 1.3.6.1.4.1.14519.5.2.1.7310.5101.179786588813398487615023082895\n",
            "Parsing -9.8979 35.0861 -46.3425\n",
            "1\n"
          ]
        },
        {
          "output_type": "stream",
          "name": "stderr",
          "text": [
            "\n",
            "/usr/local/lib/python3.11/dist-packages/highdicom/base.py:163: UserWarning: The string \"ProstateX-0290\" is unlikely to represent the intended person name since it contains only a single component. Construct a person name according to the format in described in https://dicom.nema.org/dicom/2013/output/chtml/part05/sect_6.2.html#sect_6.2.1.2, or, in pydicom 2.2.0 or later, use the pydicom.valuerep.PersonName.from_named_components() method to construct the person name correctly. If a single-component name is really intended, add a trailing caret character to disambiguate the name.\n",
            "  check_person_name(patient_name)\n"
          ]
        },
        {
          "output_type": "stream",
          "name": "stdout",
          "text": [
            "********** On patient: ProstateX-0291 **********\n",
            "num_series: 1\n",
            "***** On series: 1.3.6.1.4.1.14519.5.2.1.7310.5101.281628398743940350616155351242 *****\n",
            "SeriesInstanceUID: 1.3.6.1.4.1.14519.5.2.1.7310.5101.281628398743940350616155351242\n"
          ]
        },
        {
          "output_type": "stream",
          "name": "stderr",
          "text": [
            "Downloading data: 100%|██████████| 6.29M/6.29M [00:02<00:00, 2.51MB/s]"
          ]
        },
        {
          "output_type": "stream",
          "name": "stdout",
          "text": [
            "FrameOfReferenceUID: 1.3.6.1.4.1.14519.5.2.1.7310.5101.138729424130738916639627991690\n",
            "Parsing -54.5944 44.4664 -54.0555\n",
            "Parsing -71.5076 44.5422646972656 -52.0640193603516\n",
            "2\n"
          ]
        },
        {
          "output_type": "stream",
          "name": "stderr",
          "text": [
            "\n",
            "/usr/local/lib/python3.11/dist-packages/highdicom/base.py:163: UserWarning: The string \"ProstateX-0291\" is unlikely to represent the intended person name since it contains only a single component. Construct a person name according to the format in described in https://dicom.nema.org/dicom/2013/output/chtml/part05/sect_6.2.html#sect_6.2.1.2, or, in pydicom 2.2.0 or later, use the pydicom.valuerep.PersonName.from_named_components() method to construct the person name correctly. If a single-component name is really intended, add a trailing caret character to disambiguate the name.\n",
            "  check_person_name(patient_name)\n"
          ]
        },
        {
          "output_type": "stream",
          "name": "stdout",
          "text": [
            "********** On patient: ProstateX-0292 **********\n",
            "num_series: 1\n",
            "***** On series: 1.3.6.1.4.1.14519.5.2.1.7310.5101.136890888264423786795074592571 *****\n",
            "SeriesInstanceUID: 1.3.6.1.4.1.14519.5.2.1.7310.5101.136890888264423786795074592571\n"
          ]
        },
        {
          "output_type": "stream",
          "name": "stderr",
          "text": [
            "Downloading data: 100%|██████████| 6.89M/6.89M [00:02<00:00, 2.74MB/s]"
          ]
        },
        {
          "output_type": "stream",
          "name": "stdout",
          "text": [
            "FrameOfReferenceUID: 1.3.6.1.4.1.14519.5.2.1.7310.5101.107451268630210390230531726065\n",
            "Parsing -4.70198 4.27007 12.9001\n",
            "1\n"
          ]
        },
        {
          "output_type": "stream",
          "name": "stderr",
          "text": [
            "\n",
            "/usr/local/lib/python3.11/dist-packages/highdicom/base.py:163: UserWarning: The string \"ProstateX-0292\" is unlikely to represent the intended person name since it contains only a single component. Construct a person name according to the format in described in https://dicom.nema.org/dicom/2013/output/chtml/part05/sect_6.2.html#sect_6.2.1.2, or, in pydicom 2.2.0 or later, use the pydicom.valuerep.PersonName.from_named_components() method to construct the person name correctly. If a single-component name is really intended, add a trailing caret character to disambiguate the name.\n",
            "  check_person_name(patient_name)\n"
          ]
        },
        {
          "output_type": "stream",
          "name": "stdout",
          "text": [
            "********** On patient: ProstateX-0293 **********\n",
            "num_series: 1\n",
            "***** On series: 1.3.6.1.4.1.14519.5.2.1.7310.5101.460054567474206412344710730403 *****\n",
            "SeriesInstanceUID: 1.3.6.1.4.1.14519.5.2.1.7310.5101.460054567474206412344710730403\n"
          ]
        },
        {
          "output_type": "stream",
          "name": "stderr",
          "text": [
            "Downloading data: 100%|██████████| 6.89M/6.89M [00:02<00:00, 2.74MB/s]"
          ]
        },
        {
          "output_type": "stream",
          "name": "stdout",
          "text": [
            "FrameOfReferenceUID: 1.3.6.1.4.1.14519.5.2.1.7310.5101.252738106679176509693207112557\n",
            "Parsing -45.2543 13.6905 44.5121\n",
            "1\n"
          ]
        },
        {
          "output_type": "stream",
          "name": "stderr",
          "text": [
            "\n",
            "/usr/local/lib/python3.11/dist-packages/highdicom/base.py:163: UserWarning: The string \"ProstateX-0293\" is unlikely to represent the intended person name since it contains only a single component. Construct a person name according to the format in described in https://dicom.nema.org/dicom/2013/output/chtml/part05/sect_6.2.html#sect_6.2.1.2, or, in pydicom 2.2.0 or later, use the pydicom.valuerep.PersonName.from_named_components() method to construct the person name correctly. If a single-component name is really intended, add a trailing caret character to disambiguate the name.\n",
            "  check_person_name(patient_name)\n"
          ]
        },
        {
          "output_type": "stream",
          "name": "stdout",
          "text": [
            "********** On patient: ProstateX-0294 **********\n",
            "num_series: 1\n",
            "***** On series: 1.3.6.1.4.1.14519.5.2.1.7310.5101.184877180818859097625423149351 *****\n",
            "SeriesInstanceUID: 1.3.6.1.4.1.14519.5.2.1.7310.5101.184877180818859097625423149351\n"
          ]
        },
        {
          "output_type": "stream",
          "name": "stderr",
          "text": [
            "Downloading data: 100%|██████████| 6.29M/6.29M [00:02<00:00, 2.51MB/s]"
          ]
        },
        {
          "output_type": "stream",
          "name": "stdout",
          "text": [
            "FrameOfReferenceUID: 1.3.6.1.4.1.14519.5.2.1.7310.5101.764820291520727423787587637158\n",
            "Parsing 35.564 8.00915 -45.8676\n",
            "1\n"
          ]
        },
        {
          "output_type": "stream",
          "name": "stderr",
          "text": [
            "\n",
            "/usr/local/lib/python3.11/dist-packages/highdicom/base.py:163: UserWarning: The string \"ProstateX-0294\" is unlikely to represent the intended person name since it contains only a single component. Construct a person name according to the format in described in https://dicom.nema.org/dicom/2013/output/chtml/part05/sect_6.2.html#sect_6.2.1.2, or, in pydicom 2.2.0 or later, use the pydicom.valuerep.PersonName.from_named_components() method to construct the person name correctly. If a single-component name is really intended, add a trailing caret character to disambiguate the name.\n",
            "  check_person_name(patient_name)\n"
          ]
        },
        {
          "output_type": "stream",
          "name": "stdout",
          "text": [
            "********** On patient: ProstateX-0295 **********\n",
            "num_series: 1\n",
            "***** On series: 1.3.6.1.4.1.14519.5.2.1.7310.5101.328797217354592686015939408326 *****\n",
            "SeriesInstanceUID: 1.3.6.1.4.1.14519.5.2.1.7310.5101.328797217354592686015939408326\n"
          ]
        },
        {
          "output_type": "stream",
          "name": "stderr",
          "text": [
            "Downloading data: 100%|██████████| 6.29M/6.29M [00:02<00:00, 2.51MB/s]"
          ]
        },
        {
          "output_type": "stream",
          "name": "stdout",
          "text": [
            "FrameOfReferenceUID: 1.3.6.1.4.1.14519.5.2.1.7310.5101.330354992231328908920064136583\n",
            "Parsing 33.6883 20.8543 -56.2975\n",
            "1\n"
          ]
        },
        {
          "output_type": "stream",
          "name": "stderr",
          "text": [
            "\n",
            "/usr/local/lib/python3.11/dist-packages/highdicom/base.py:163: UserWarning: The string \"ProstateX-0295\" is unlikely to represent the intended person name since it contains only a single component. Construct a person name according to the format in described in https://dicom.nema.org/dicom/2013/output/chtml/part05/sect_6.2.html#sect_6.2.1.2, or, in pydicom 2.2.0 or later, use the pydicom.valuerep.PersonName.from_named_components() method to construct the person name correctly. If a single-component name is really intended, add a trailing caret character to disambiguate the name.\n",
            "  check_person_name(patient_name)\n"
          ]
        },
        {
          "output_type": "stream",
          "name": "stdout",
          "text": [
            "********** On patient: ProstateX-0296 **********\n",
            "num_series: 1\n",
            "***** On series: 1.3.6.1.4.1.14519.5.2.1.7310.5101.165300442724253983589878240856 *****\n",
            "SeriesInstanceUID: 1.3.6.1.4.1.14519.5.2.1.7310.5101.165300442724253983589878240856\n"
          ]
        },
        {
          "output_type": "stream",
          "name": "stderr",
          "text": [
            "Downloading data: 100%|██████████| 5.69M/5.69M [00:03<00:00, 1.89MB/s]"
          ]
        },
        {
          "output_type": "stream",
          "name": "stdout",
          "text": [
            "FrameOfReferenceUID: 1.3.6.1.4.1.14519.5.2.1.7310.5101.145325442032519436532063905223\n",
            "Parsing 47.2948 26.4757 -87.1313\n",
            "1\n"
          ]
        },
        {
          "output_type": "stream",
          "name": "stderr",
          "text": [
            "\n",
            "/usr/local/lib/python3.11/dist-packages/highdicom/base.py:163: UserWarning: The string \"ProstateX-0296\" is unlikely to represent the intended person name since it contains only a single component. Construct a person name according to the format in described in https://dicom.nema.org/dicom/2013/output/chtml/part05/sect_6.2.html#sect_6.2.1.2, or, in pydicom 2.2.0 or later, use the pydicom.valuerep.PersonName.from_named_components() method to construct the person name correctly. If a single-component name is really intended, add a trailing caret character to disambiguate the name.\n",
            "  check_person_name(patient_name)\n"
          ]
        },
        {
          "output_type": "stream",
          "name": "stdout",
          "text": [
            "********** On patient: ProstateX-0297 **********\n",
            "num_series: 1\n",
            "***** On series: 1.3.6.1.4.1.14519.5.2.1.7310.5101.898676446450078900613536879876 *****\n",
            "SeriesInstanceUID: 1.3.6.1.4.1.14519.5.2.1.7310.5101.898676446450078900613536879876\n"
          ]
        },
        {
          "output_type": "stream",
          "name": "stderr",
          "text": [
            "Downloading data: 100%|██████████| 6.89M/6.89M [00:03<00:00, 2.29MB/s]"
          ]
        },
        {
          "output_type": "stream",
          "name": "stdout",
          "text": [
            "FrameOfReferenceUID: 1.3.6.1.4.1.14519.5.2.1.7310.5101.100422914474337042667167680785\n",
            "Parsing -30.727 46.193 -54.335\n",
            "1\n"
          ]
        },
        {
          "output_type": "stream",
          "name": "stderr",
          "text": [
            "\n",
            "/usr/local/lib/python3.11/dist-packages/highdicom/base.py:163: UserWarning: The string \"ProstateX-0297\" is unlikely to represent the intended person name since it contains only a single component. Construct a person name according to the format in described in https://dicom.nema.org/dicom/2013/output/chtml/part05/sect_6.2.html#sect_6.2.1.2, or, in pydicom 2.2.0 or later, use the pydicom.valuerep.PersonName.from_named_components() method to construct the person name correctly. If a single-component name is really intended, add a trailing caret character to disambiguate the name.\n",
            "  check_person_name(patient_name)\n"
          ]
        },
        {
          "output_type": "stream",
          "name": "stdout",
          "text": [
            "********** On patient: ProstateX-0298 **********\n",
            "num_series: 1\n",
            "***** On series: 1.3.6.1.4.1.14519.5.2.1.7310.5101.113377191345010791232121730636 *****\n",
            "SeriesInstanceUID: 1.3.6.1.4.1.14519.5.2.1.7310.5101.113377191345010791232121730636\n"
          ]
        },
        {
          "output_type": "stream",
          "name": "stderr",
          "text": [
            "Downloading data: 100%|██████████| 6.29M/6.29M [00:02<00:00, 2.51MB/s]"
          ]
        },
        {
          "output_type": "stream",
          "name": "stdout",
          "text": [
            "FrameOfReferenceUID: 1.3.6.1.4.1.14519.5.2.1.7310.5101.266427256168549414794039753995\n",
            "Parsing 35.3304 41.6241 46.8782\n",
            "1\n"
          ]
        },
        {
          "output_type": "stream",
          "name": "stderr",
          "text": [
            "\n",
            "/usr/local/lib/python3.11/dist-packages/highdicom/base.py:163: UserWarning: The string \"ProstateX-0298\" is unlikely to represent the intended person name since it contains only a single component. Construct a person name according to the format in described in https://dicom.nema.org/dicom/2013/output/chtml/part05/sect_6.2.html#sect_6.2.1.2, or, in pydicom 2.2.0 or later, use the pydicom.valuerep.PersonName.from_named_components() method to construct the person name correctly. If a single-component name is really intended, add a trailing caret character to disambiguate the name.\n",
            "  check_person_name(patient_name)\n"
          ]
        },
        {
          "output_type": "stream",
          "name": "stdout",
          "text": [
            "********** On patient: ProstateX-0299 **********\n",
            "num_series: 1\n",
            "***** On series: 1.3.6.1.4.1.14519.5.2.1.7310.5101.128277800300358489261783563750 *****\n",
            "SeriesInstanceUID: 1.3.6.1.4.1.14519.5.2.1.7310.5101.128277800300358489261783563750\n"
          ]
        },
        {
          "output_type": "stream",
          "name": "stderr",
          "text": [
            "Downloading data: 100%|██████████| 5.69M/5.69M [00:02<00:00, 2.27MB/s]"
          ]
        },
        {
          "output_type": "stream",
          "name": "stdout",
          "text": [
            "FrameOfReferenceUID: 1.3.6.1.4.1.14519.5.2.1.7310.5101.134043543882955610157637838031\n",
            "Parsing 11.4237 52.8456 3.04201\n",
            "1\n"
          ]
        },
        {
          "output_type": "stream",
          "name": "stderr",
          "text": [
            "\n",
            "/usr/local/lib/python3.11/dist-packages/highdicom/base.py:163: UserWarning: The string \"ProstateX-0299\" is unlikely to represent the intended person name since it contains only a single component. Construct a person name according to the format in described in https://dicom.nema.org/dicom/2013/output/chtml/part05/sect_6.2.html#sect_6.2.1.2, or, in pydicom 2.2.0 or later, use the pydicom.valuerep.PersonName.from_named_components() method to construct the person name correctly. If a single-component name is really intended, add a trailing caret character to disambiguate the name.\n",
            "  check_person_name(patient_name)\n"
          ]
        },
        {
          "output_type": "stream",
          "name": "stdout",
          "text": [
            "********** On patient: ProstateX-0300 **********\n",
            "num_series: 1\n",
            "***** On series: 1.3.6.1.4.1.14519.5.2.1.7310.5101.213996074226955292751555996591 *****\n",
            "SeriesInstanceUID: 1.3.6.1.4.1.14519.5.2.1.7310.5101.213996074226955292751555996591\n"
          ]
        },
        {
          "output_type": "stream",
          "name": "stderr",
          "text": [
            "Downloading data: 100%|██████████| 5.69M/5.69M [00:02<00:00, 2.27MB/s]"
          ]
        },
        {
          "output_type": "stream",
          "name": "stdout",
          "text": [
            "FrameOfReferenceUID: 1.3.6.1.4.1.14519.5.2.1.7310.5101.405390093564290083044978157701\n",
            "Parsing 2.07861 25.2911 47.5686\n",
            "1\n"
          ]
        },
        {
          "output_type": "stream",
          "name": "stderr",
          "text": [
            "\n",
            "/usr/local/lib/python3.11/dist-packages/highdicom/base.py:163: UserWarning: The string \"ProstateX-0300\" is unlikely to represent the intended person name since it contains only a single component. Construct a person name according to the format in described in https://dicom.nema.org/dicom/2013/output/chtml/part05/sect_6.2.html#sect_6.2.1.2, or, in pydicom 2.2.0 or later, use the pydicom.valuerep.PersonName.from_named_components() method to construct the person name correctly. If a single-component name is really intended, add a trailing caret character to disambiguate the name.\n",
            "  check_person_name(patient_name)\n"
          ]
        },
        {
          "output_type": "stream",
          "name": "stdout",
          "text": [
            "********** On patient: ProstateX-0301 **********\n",
            "num_series: 1\n",
            "***** On series: 1.3.6.1.4.1.14519.5.2.1.7310.5101.177948174060531009774271918441 *****\n",
            "SeriesInstanceUID: 1.3.6.1.4.1.14519.5.2.1.7310.5101.177948174060531009774271918441\n"
          ]
        },
        {
          "output_type": "stream",
          "name": "stderr",
          "text": [
            "Downloading data: 100%|██████████| 5.69M/5.69M [00:02<00:00, 2.27MB/s]"
          ]
        },
        {
          "output_type": "stream",
          "name": "stdout",
          "text": [
            "FrameOfReferenceUID: 1.3.6.1.4.1.14519.5.2.1.7310.5101.254984325117731022287805689175\n",
            "Parsing 23.7196 24.8016 -45.7865\n",
            "1\n"
          ]
        },
        {
          "output_type": "stream",
          "name": "stderr",
          "text": [
            "\n",
            "/usr/local/lib/python3.11/dist-packages/highdicom/base.py:163: UserWarning: The string \"ProstateX-0301\" is unlikely to represent the intended person name since it contains only a single component. Construct a person name according to the format in described in https://dicom.nema.org/dicom/2013/output/chtml/part05/sect_6.2.html#sect_6.2.1.2, or, in pydicom 2.2.0 or later, use the pydicom.valuerep.PersonName.from_named_components() method to construct the person name correctly. If a single-component name is really intended, add a trailing caret character to disambiguate the name.\n",
            "  check_person_name(patient_name)\n"
          ]
        },
        {
          "output_type": "stream",
          "name": "stdout",
          "text": [
            "********** On patient: ProstateX-0302 **********\n",
            "num_series: 1\n",
            "***** On series: 1.3.6.1.4.1.14519.5.2.1.7310.5101.250251056207504564095117070968 *****\n",
            "SeriesInstanceUID: 1.3.6.1.4.1.14519.5.2.1.7310.5101.250251056207504564095117070968\n"
          ]
        },
        {
          "output_type": "stream",
          "name": "stderr",
          "text": [
            "Downloading data: 100%|██████████| 6.89M/6.89M [00:03<00:00, 2.29MB/s]"
          ]
        },
        {
          "output_type": "stream",
          "name": "stdout",
          "text": [
            "FrameOfReferenceUID: 1.3.6.1.4.1.14519.5.2.1.7310.5101.914648875065000057089168043571\n",
            "Parsing -40.9102 20.4419 -4.15981\n",
            "Parsing -44.1625 43.7422 16.1018\n",
            "2\n"
          ]
        },
        {
          "output_type": "stream",
          "name": "stderr",
          "text": [
            "\n",
            "/usr/local/lib/python3.11/dist-packages/highdicom/base.py:163: UserWarning: The string \"ProstateX-0302\" is unlikely to represent the intended person name since it contains only a single component. Construct a person name according to the format in described in https://dicom.nema.org/dicom/2013/output/chtml/part05/sect_6.2.html#sect_6.2.1.2, or, in pydicom 2.2.0 or later, use the pydicom.valuerep.PersonName.from_named_components() method to construct the person name correctly. If a single-component name is really intended, add a trailing caret character to disambiguate the name.\n",
            "  check_person_name(patient_name)\n"
          ]
        },
        {
          "output_type": "stream",
          "name": "stdout",
          "text": [
            "********** On patient: ProstateX-0303 **********\n",
            "num_series: 1\n",
            "***** On series: 1.3.6.1.4.1.14519.5.2.1.7310.5101.723608901894526939665333140860 *****\n",
            "SeriesInstanceUID: 1.3.6.1.4.1.14519.5.2.1.7310.5101.723608901894526939665333140860\n"
          ]
        },
        {
          "output_type": "stream",
          "name": "stderr",
          "text": [
            "Downloading data: 100%|██████████| 5.69M/5.69M [00:02<00:00, 2.27MB/s]"
          ]
        },
        {
          "output_type": "stream",
          "name": "stdout",
          "text": [
            "FrameOfReferenceUID: 1.3.6.1.4.1.14519.5.2.1.7310.5101.207185642751978009644279015504\n",
            "Parsing -16.2182 20.9969 40.7779\n",
            "Parsing 18.2481 39.534 33.7248\n",
            "2\n"
          ]
        },
        {
          "output_type": "stream",
          "name": "stderr",
          "text": [
            "\n",
            "/usr/local/lib/python3.11/dist-packages/highdicom/base.py:163: UserWarning: The string \"ProstateX-0303\" is unlikely to represent the intended person name since it contains only a single component. Construct a person name according to the format in described in https://dicom.nema.org/dicom/2013/output/chtml/part05/sect_6.2.html#sect_6.2.1.2, or, in pydicom 2.2.0 or later, use the pydicom.valuerep.PersonName.from_named_components() method to construct the person name correctly. If a single-component name is really intended, add a trailing caret character to disambiguate the name.\n",
            "  check_person_name(patient_name)\n"
          ]
        },
        {
          "output_type": "stream",
          "name": "stdout",
          "text": [
            "********** On patient: ProstateX-0304 **********\n",
            "num_series: 1\n",
            "***** On series: 1.3.6.1.4.1.14519.5.2.1.7310.5101.597931254098755159310144472621 *****\n",
            "SeriesInstanceUID: 1.3.6.1.4.1.14519.5.2.1.7310.5101.597931254098755159310144472621\n"
          ]
        },
        {
          "output_type": "stream",
          "name": "stderr",
          "text": [
            "Downloading data: 100%|██████████| 5.69M/5.69M [00:02<00:00, 2.27MB/s]"
          ]
        },
        {
          "output_type": "stream",
          "name": "stdout",
          "text": [
            "FrameOfReferenceUID: 1.3.6.1.4.1.14519.5.2.1.7310.5101.276395790311203060421196745919\n",
            "Parsing -11.9824 13.869 13.8412\n",
            "Parsing 0.71707 33.7709 12.8375\n",
            "2\n"
          ]
        },
        {
          "output_type": "stream",
          "name": "stderr",
          "text": [
            "\n",
            "/usr/local/lib/python3.11/dist-packages/highdicom/base.py:163: UserWarning: The string \"ProstateX-0304\" is unlikely to represent the intended person name since it contains only a single component. Construct a person name according to the format in described in https://dicom.nema.org/dicom/2013/output/chtml/part05/sect_6.2.html#sect_6.2.1.2, or, in pydicom 2.2.0 or later, use the pydicom.valuerep.PersonName.from_named_components() method to construct the person name correctly. If a single-component name is really intended, add a trailing caret character to disambiguate the name.\n",
            "  check_person_name(patient_name)\n"
          ]
        },
        {
          "output_type": "stream",
          "name": "stdout",
          "text": [
            "********** On patient: ProstateX-0305 **********\n",
            "num_series: 1\n",
            "***** On series: 1.3.6.1.4.1.14519.5.2.1.7310.5101.662798695442251537947237054156 *****\n",
            "SeriesInstanceUID: 1.3.6.1.4.1.14519.5.2.1.7310.5101.662798695442251537947237054156\n"
          ]
        },
        {
          "output_type": "stream",
          "name": "stderr",
          "text": [
            "Downloading data: 100%|██████████| 5.69M/5.69M [00:02<00:00, 2.27MB/s]"
          ]
        },
        {
          "output_type": "stream",
          "name": "stdout",
          "text": [
            "FrameOfReferenceUID: 1.3.6.1.4.1.14519.5.2.1.7310.5101.254974477405535548086882655829\n",
            "Parsing -18.012 47.7659 -133.204\n",
            "1\n"
          ]
        },
        {
          "output_type": "stream",
          "name": "stderr",
          "text": [
            "\n",
            "/usr/local/lib/python3.11/dist-packages/highdicom/base.py:163: UserWarning: The string \"ProstateX-0305\" is unlikely to represent the intended person name since it contains only a single component. Construct a person name according to the format in described in https://dicom.nema.org/dicom/2013/output/chtml/part05/sect_6.2.html#sect_6.2.1.2, or, in pydicom 2.2.0 or later, use the pydicom.valuerep.PersonName.from_named_components() method to construct the person name correctly. If a single-component name is really intended, add a trailing caret character to disambiguate the name.\n",
            "  check_person_name(patient_name)\n"
          ]
        },
        {
          "output_type": "stream",
          "name": "stdout",
          "text": [
            "********** On patient: ProstateX-0306 **********\n",
            "num_series: 1\n",
            "***** On series: 1.3.6.1.4.1.14519.5.2.1.7310.5101.275916878534307444148558080196 *****\n",
            "SeriesInstanceUID: 1.3.6.1.4.1.14519.5.2.1.7310.5101.275916878534307444148558080196\n"
          ]
        },
        {
          "output_type": "stream",
          "name": "stderr",
          "text": [
            "Downloading data: 100%|██████████| 5.69M/5.69M [00:03<00:00, 1.89MB/s]"
          ]
        },
        {
          "output_type": "stream",
          "name": "stdout",
          "text": [
            "FrameOfReferenceUID: 1.3.6.1.4.1.14519.5.2.1.7310.5101.184494523391731900176747339649\n",
            "Parsing -6.25963 -23.3715 99.2256\n",
            "1\n"
          ]
        },
        {
          "output_type": "stream",
          "name": "stderr",
          "text": [
            "\n",
            "/usr/local/lib/python3.11/dist-packages/highdicom/base.py:163: UserWarning: The string \"ProstateX-0306\" is unlikely to represent the intended person name since it contains only a single component. Construct a person name according to the format in described in https://dicom.nema.org/dicom/2013/output/chtml/part05/sect_6.2.html#sect_6.2.1.2, or, in pydicom 2.2.0 or later, use the pydicom.valuerep.PersonName.from_named_components() method to construct the person name correctly. If a single-component name is really intended, add a trailing caret character to disambiguate the name.\n",
            "  check_person_name(patient_name)\n"
          ]
        },
        {
          "output_type": "stream",
          "name": "stdout",
          "text": [
            "********** On patient: ProstateX-0307 **********\n",
            "num_series: 2\n",
            "***** On series: 1.3.6.1.4.1.14519.5.2.1.7310.5101.101808801791463219572970524412 *****\n",
            "SeriesInstanceUID: 1.3.6.1.4.1.14519.5.2.1.7310.5101.101808801791463219572970524412\n"
          ]
        },
        {
          "output_type": "stream",
          "name": "stderr",
          "text": [
            "Downloading data: 100%|██████████| 5.69M/5.69M [00:02<00:00, 2.27MB/s]"
          ]
        },
        {
          "output_type": "stream",
          "name": "stdout",
          "text": [
            "FrameOfReferenceUID: 1.3.6.1.4.1.14519.5.2.1.7310.5101.303021819247855545461198391324\n",
            "Parsing -1.72925 36.8615 -75.4821\n",
            "1\n"
          ]
        },
        {
          "output_type": "stream",
          "name": "stderr",
          "text": [
            "\n",
            "/usr/local/lib/python3.11/dist-packages/highdicom/base.py:163: UserWarning: The string \"ProstateX-0307\" is unlikely to represent the intended person name since it contains only a single component. Construct a person name according to the format in described in https://dicom.nema.org/dicom/2013/output/chtml/part05/sect_6.2.html#sect_6.2.1.2, or, in pydicom 2.2.0 or later, use the pydicom.valuerep.PersonName.from_named_components() method to construct the person name correctly. If a single-component name is really intended, add a trailing caret character to disambiguate the name.\n",
            "  check_person_name(patient_name)\n"
          ]
        },
        {
          "output_type": "stream",
          "name": "stdout",
          "text": [
            "***** On series: 1.3.6.1.4.1.14519.5.2.1.7310.5101.308391719582265253729619952900 *****\n",
            "SeriesInstanceUID: 1.3.6.1.4.1.14519.5.2.1.7310.5101.308391719582265253729619952900\n"
          ]
        },
        {
          "output_type": "stream",
          "name": "stderr",
          "text": [
            "Downloading data: 100%|██████████| 5.69M/5.69M [00:02<00:00, 2.27MB/s]"
          ]
        },
        {
          "output_type": "stream",
          "name": "stdout",
          "text": [
            "FrameOfReferenceUID: 1.3.6.1.4.1.14519.5.2.1.7310.5101.234657685677362171548732128982\n",
            "Parsing -1.72925 36.8615 -75.4821\n",
            "1\n"
          ]
        },
        {
          "output_type": "stream",
          "name": "stderr",
          "text": [
            "\n",
            "/usr/local/lib/python3.11/dist-packages/highdicom/base.py:163: UserWarning: The string \"ProstateX-0307\" is unlikely to represent the intended person name since it contains only a single component. Construct a person name according to the format in described in https://dicom.nema.org/dicom/2013/output/chtml/part05/sect_6.2.html#sect_6.2.1.2, or, in pydicom 2.2.0 or later, use the pydicom.valuerep.PersonName.from_named_components() method to construct the person name correctly. If a single-component name is really intended, add a trailing caret character to disambiguate the name.\n",
            "  check_person_name(patient_name)\n"
          ]
        },
        {
          "output_type": "stream",
          "name": "stdout",
          "text": [
            "********** On patient: ProstateX-0308 **********\n",
            "num_series: 1\n",
            "***** On series: 1.3.6.1.4.1.14519.5.2.1.7310.5101.309557042248850046285753324629 *****\n",
            "SeriesInstanceUID: 1.3.6.1.4.1.14519.5.2.1.7310.5101.309557042248850046285753324629\n"
          ]
        },
        {
          "output_type": "stream",
          "name": "stderr",
          "text": [
            "Downloading data: 100%|██████████| 6.29M/6.29M [00:03<00:00, 2.09MB/s]"
          ]
        },
        {
          "output_type": "stream",
          "name": "stdout",
          "text": [
            "FrameOfReferenceUID: 1.3.6.1.4.1.14519.5.2.1.7310.5101.231263080054916559344868837349\n",
            "Parsing -1.66388 4.54195 -47.5147\n",
            "1\n"
          ]
        },
        {
          "output_type": "stream",
          "name": "stderr",
          "text": [
            "\n",
            "/usr/local/lib/python3.11/dist-packages/highdicom/base.py:163: UserWarning: The string \"ProstateX-0308\" is unlikely to represent the intended person name since it contains only a single component. Construct a person name according to the format in described in https://dicom.nema.org/dicom/2013/output/chtml/part05/sect_6.2.html#sect_6.2.1.2, or, in pydicom 2.2.0 or later, use the pydicom.valuerep.PersonName.from_named_components() method to construct the person name correctly. If a single-component name is really intended, add a trailing caret character to disambiguate the name.\n",
            "  check_person_name(patient_name)\n"
          ]
        },
        {
          "output_type": "stream",
          "name": "stdout",
          "text": [
            "********** On patient: ProstateX-0309 **********\n",
            "num_series: 1\n",
            "***** On series: 1.3.6.1.4.1.14519.5.2.1.7310.5101.337896560664468718350275750005 *****\n",
            "SeriesInstanceUID: 1.3.6.1.4.1.14519.5.2.1.7310.5101.337896560664468718350275750005\n"
          ]
        },
        {
          "output_type": "stream",
          "name": "stderr",
          "text": [
            "Downloading data: 100%|██████████| 5.99M/5.99M [00:03<00:00, 1.99MB/s]"
          ]
        },
        {
          "output_type": "stream",
          "name": "stdout",
          "text": [
            "FrameOfReferenceUID: 1.3.6.1.4.1.14519.5.2.1.7310.5101.217689315871399115649330431396\n",
            "Parsing 0.810831 58.4172 5.43955\n",
            "1\n"
          ]
        },
        {
          "output_type": "stream",
          "name": "stderr",
          "text": [
            "\n",
            "/usr/local/lib/python3.11/dist-packages/highdicom/base.py:163: UserWarning: The string \"ProstateX-0309\" is unlikely to represent the intended person name since it contains only a single component. Construct a person name according to the format in described in https://dicom.nema.org/dicom/2013/output/chtml/part05/sect_6.2.html#sect_6.2.1.2, or, in pydicom 2.2.0 or later, use the pydicom.valuerep.PersonName.from_named_components() method to construct the person name correctly. If a single-component name is really intended, add a trailing caret character to disambiguate the name.\n",
            "  check_person_name(patient_name)\n"
          ]
        },
        {
          "output_type": "stream",
          "name": "stdout",
          "text": [
            "********** On patient: ProstateX-0310 **********\n",
            "num_series: 1\n",
            "***** On series: 1.3.6.1.4.1.14519.5.2.1.7310.5101.258833369386322151055616324069 *****\n",
            "SeriesInstanceUID: 1.3.6.1.4.1.14519.5.2.1.7310.5101.258833369386322151055616324069\n"
          ]
        },
        {
          "output_type": "stream",
          "name": "stderr",
          "text": [
            "Downloading data: 100%|██████████| 5.69M/5.69M [00:02<00:00, 2.27MB/s]"
          ]
        },
        {
          "output_type": "stream",
          "name": "stdout",
          "text": [
            "FrameOfReferenceUID: 1.3.6.1.4.1.14519.5.2.1.7310.5101.294907290577442717293619925332\n",
            "Parsing 4.80197 52.5972 61.1688\n",
            "1\n"
          ]
        },
        {
          "output_type": "stream",
          "name": "stderr",
          "text": [
            "\n",
            "/usr/local/lib/python3.11/dist-packages/highdicom/base.py:163: UserWarning: The string \"ProstateX-0310\" is unlikely to represent the intended person name since it contains only a single component. Construct a person name according to the format in described in https://dicom.nema.org/dicom/2013/output/chtml/part05/sect_6.2.html#sect_6.2.1.2, or, in pydicom 2.2.0 or later, use the pydicom.valuerep.PersonName.from_named_components() method to construct the person name correctly. If a single-component name is really intended, add a trailing caret character to disambiguate the name.\n",
            "  check_person_name(patient_name)\n"
          ]
        },
        {
          "output_type": "stream",
          "name": "stdout",
          "text": [
            "********** On patient: ProstateX-0311 **********\n",
            "num_series: 1\n",
            "***** On series: 1.3.6.1.4.1.14519.5.2.1.7310.5101.318856235542799349557600990165 *****\n",
            "SeriesInstanceUID: 1.3.6.1.4.1.14519.5.2.1.7310.5101.318856235542799349557600990165\n"
          ]
        },
        {
          "output_type": "stream",
          "name": "stderr",
          "text": [
            "Downloading data: 100%|██████████| 5.69M/5.69M [00:02<00:00, 2.27MB/s]"
          ]
        },
        {
          "output_type": "stream",
          "name": "stdout",
          "text": [
            "FrameOfReferenceUID: 1.3.6.1.4.1.14519.5.2.1.7310.5101.192091950676169962714829076226\n",
            "Parsing 12.2684 32.4471 -11.2656\n",
            "Parsing 6.91132 40.187 2.61519\n",
            "2\n"
          ]
        },
        {
          "output_type": "stream",
          "name": "stderr",
          "text": [
            "\n",
            "/usr/local/lib/python3.11/dist-packages/highdicom/base.py:163: UserWarning: The string \"ProstateX-0311\" is unlikely to represent the intended person name since it contains only a single component. Construct a person name according to the format in described in https://dicom.nema.org/dicom/2013/output/chtml/part05/sect_6.2.html#sect_6.2.1.2, or, in pydicom 2.2.0 or later, use the pydicom.valuerep.PersonName.from_named_components() method to construct the person name correctly. If a single-component name is really intended, add a trailing caret character to disambiguate the name.\n",
            "  check_person_name(patient_name)\n"
          ]
        },
        {
          "output_type": "stream",
          "name": "stdout",
          "text": [
            "********** On patient: ProstateX-0312 **********\n",
            "num_series: 1\n",
            "***** On series: 1.3.6.1.4.1.14519.5.2.1.7310.5101.216861245922124633435932072451 *****\n",
            "SeriesInstanceUID: 1.3.6.1.4.1.14519.5.2.1.7310.5101.216861245922124633435932072451\n"
          ]
        },
        {
          "output_type": "stream",
          "name": "stderr",
          "text": [
            "Downloading data: 100%|██████████| 5.69M/5.69M [00:02<00:00, 2.27MB/s]"
          ]
        },
        {
          "output_type": "stream",
          "name": "stdout",
          "text": [
            "FrameOfReferenceUID: 1.3.6.1.4.1.14519.5.2.1.7310.5101.281975042766782321765956007201\n",
            "Parsing -7.35579 4.41678 32.5842\n",
            "1\n"
          ]
        },
        {
          "output_type": "stream",
          "name": "stderr",
          "text": [
            "\n",
            "/usr/local/lib/python3.11/dist-packages/highdicom/base.py:163: UserWarning: The string \"ProstateX-0312\" is unlikely to represent the intended person name since it contains only a single component. Construct a person name according to the format in described in https://dicom.nema.org/dicom/2013/output/chtml/part05/sect_6.2.html#sect_6.2.1.2, or, in pydicom 2.2.0 or later, use the pydicom.valuerep.PersonName.from_named_components() method to construct the person name correctly. If a single-component name is really intended, add a trailing caret character to disambiguate the name.\n",
            "  check_person_name(patient_name)\n"
          ]
        },
        {
          "output_type": "stream",
          "name": "stdout",
          "text": [
            "********** On patient: ProstateX-0313 **********\n",
            "num_series: 1\n",
            "***** On series: 1.3.6.1.4.1.14519.5.2.1.7310.5101.173246915513533365999480149638 *****\n",
            "SeriesInstanceUID: 1.3.6.1.4.1.14519.5.2.1.7310.5101.173246915513533365999480149638\n"
          ]
        },
        {
          "output_type": "stream",
          "name": "stderr",
          "text": [
            "Downloading data: 100%|██████████| 7.49M/7.49M [00:02<00:00, 2.98MB/s]"
          ]
        },
        {
          "output_type": "stream",
          "name": "stdout",
          "text": [
            "FrameOfReferenceUID: 1.3.6.1.4.1.14519.5.2.1.7310.5101.183279448754062289011634447901\n",
            "Parsing 3.0382 49.022 44.1061\n",
            "Parsing -7.1029 14.5843 13.9642\n",
            "2\n"
          ]
        },
        {
          "output_type": "stream",
          "name": "stderr",
          "text": [
            "\n",
            "/usr/local/lib/python3.11/dist-packages/highdicom/base.py:163: UserWarning: The string \"ProstateX-0313\" is unlikely to represent the intended person name since it contains only a single component. Construct a person name according to the format in described in https://dicom.nema.org/dicom/2013/output/chtml/part05/sect_6.2.html#sect_6.2.1.2, or, in pydicom 2.2.0 or later, use the pydicom.valuerep.PersonName.from_named_components() method to construct the person name correctly. If a single-component name is really intended, add a trailing caret character to disambiguate the name.\n",
            "  check_person_name(patient_name)\n"
          ]
        },
        {
          "output_type": "stream",
          "name": "stdout",
          "text": [
            "********** On patient: ProstateX-0314 **********\n",
            "num_series: 1\n",
            "***** On series: 1.3.6.1.4.1.14519.5.2.1.7310.5101.109456220054559254367720531442 *****\n",
            "SeriesInstanceUID: 1.3.6.1.4.1.14519.5.2.1.7310.5101.109456220054559254367720531442\n"
          ]
        },
        {
          "output_type": "stream",
          "name": "stderr",
          "text": [
            "Downloading data: 100%|██████████| 5.69M/5.69M [00:02<00:00, 2.27MB/s]"
          ]
        },
        {
          "output_type": "stream",
          "name": "stdout",
          "text": [
            "FrameOfReferenceUID: 1.3.6.1.4.1.14519.5.2.1.7310.5101.172004127728264024155846112155\n",
            "Parsing -3.08571 27.7543 -18.4097\n",
            "1\n"
          ]
        },
        {
          "output_type": "stream",
          "name": "stderr",
          "text": [
            "\n",
            "/usr/local/lib/python3.11/dist-packages/highdicom/base.py:163: UserWarning: The string \"ProstateX-0314\" is unlikely to represent the intended person name since it contains only a single component. Construct a person name according to the format in described in https://dicom.nema.org/dicom/2013/output/chtml/part05/sect_6.2.html#sect_6.2.1.2, or, in pydicom 2.2.0 or later, use the pydicom.valuerep.PersonName.from_named_components() method to construct the person name correctly. If a single-component name is really intended, add a trailing caret character to disambiguate the name.\n",
            "  check_person_name(patient_name)\n"
          ]
        },
        {
          "output_type": "stream",
          "name": "stdout",
          "text": [
            "********** On patient: ProstateX-0315 **********\n",
            "num_series: 1\n",
            "***** On series: 1.3.6.1.4.1.14519.5.2.1.7310.5101.186774622785991236817513394758 *****\n",
            "SeriesInstanceUID: 1.3.6.1.4.1.14519.5.2.1.7310.5101.186774622785991236817513394758\n"
          ]
        },
        {
          "output_type": "stream",
          "name": "stderr",
          "text": [
            "Downloading data: 100%|██████████| 6.29M/6.29M [00:02<00:00, 2.51MB/s]"
          ]
        },
        {
          "output_type": "stream",
          "name": "stdout",
          "text": [
            "FrameOfReferenceUID: 1.3.6.1.4.1.14519.5.2.1.7310.5101.152067438589731014798468958677\n",
            "Parsing -23.3955 40.0994 -15.4241\n",
            "Parsing 18.1245 37.6205 -0.059256\n",
            "2\n"
          ]
        },
        {
          "output_type": "stream",
          "name": "stderr",
          "text": [
            "\n",
            "/usr/local/lib/python3.11/dist-packages/highdicom/base.py:163: UserWarning: The string \"ProstateX-0315\" is unlikely to represent the intended person name since it contains only a single component. Construct a person name according to the format in described in https://dicom.nema.org/dicom/2013/output/chtml/part05/sect_6.2.html#sect_6.2.1.2, or, in pydicom 2.2.0 or later, use the pydicom.valuerep.PersonName.from_named_components() method to construct the person name correctly. If a single-component name is really intended, add a trailing caret character to disambiguate the name.\n",
            "  check_person_name(patient_name)\n"
          ]
        },
        {
          "output_type": "stream",
          "name": "stdout",
          "text": [
            "********** On patient: ProstateX-0316 **********\n",
            "num_series: 1\n",
            "***** On series: 1.3.6.1.4.1.14519.5.2.1.7310.5101.174218153922133372206197884491 *****\n",
            "SeriesInstanceUID: 1.3.6.1.4.1.14519.5.2.1.7310.5101.174218153922133372206197884491\n"
          ]
        },
        {
          "output_type": "stream",
          "name": "stderr",
          "text": [
            "Downloading data: 100%|██████████| 5.69M/5.69M [00:03<00:00, 1.89MB/s]"
          ]
        },
        {
          "output_type": "stream",
          "name": "stdout",
          "text": [
            "FrameOfReferenceUID: 1.3.6.1.4.1.14519.5.2.1.7310.5101.940220598854132979438220109085\n",
            "Parsing -25.0287 52.7325 5.27067\n",
            "1\n"
          ]
        },
        {
          "output_type": "stream",
          "name": "stderr",
          "text": [
            "\n",
            "/usr/local/lib/python3.11/dist-packages/highdicom/base.py:163: UserWarning: The string \"ProstateX-0316\" is unlikely to represent the intended person name since it contains only a single component. Construct a person name according to the format in described in https://dicom.nema.org/dicom/2013/output/chtml/part05/sect_6.2.html#sect_6.2.1.2, or, in pydicom 2.2.0 or later, use the pydicom.valuerep.PersonName.from_named_components() method to construct the person name correctly. If a single-component name is really intended, add a trailing caret character to disambiguate the name.\n",
            "  check_person_name(patient_name)\n"
          ]
        },
        {
          "output_type": "stream",
          "name": "stdout",
          "text": [
            "********** On patient: ProstateX-0317 **********\n",
            "num_series: 1\n",
            "***** On series: 1.3.6.1.4.1.14519.5.2.1.7310.5101.293782955511269544079370772041 *****\n",
            "SeriesInstanceUID: 1.3.6.1.4.1.14519.5.2.1.7310.5101.293782955511269544079370772041\n"
          ]
        },
        {
          "output_type": "stream",
          "name": "stderr",
          "text": [
            "Downloading data: 100%|██████████| 6.29M/6.29M [00:03<00:00, 2.09MB/s]"
          ]
        },
        {
          "output_type": "stream",
          "name": "stdout",
          "text": [
            "FrameOfReferenceUID: 1.3.6.1.4.1.14519.5.2.1.7310.5101.670357666045554462399979479597\n",
            "Parsing -14.9265 45.0738 -9.70419\n",
            "1\n"
          ]
        },
        {
          "output_type": "stream",
          "name": "stderr",
          "text": [
            "\n",
            "/usr/local/lib/python3.11/dist-packages/highdicom/base.py:163: UserWarning: The string \"ProstateX-0317\" is unlikely to represent the intended person name since it contains only a single component. Construct a person name according to the format in described in https://dicom.nema.org/dicom/2013/output/chtml/part05/sect_6.2.html#sect_6.2.1.2, or, in pydicom 2.2.0 or later, use the pydicom.valuerep.PersonName.from_named_components() method to construct the person name correctly. If a single-component name is really intended, add a trailing caret character to disambiguate the name.\n",
            "  check_person_name(patient_name)\n"
          ]
        },
        {
          "output_type": "stream",
          "name": "stdout",
          "text": [
            "********** On patient: ProstateX-0318 **********\n",
            "num_series: 1\n",
            "***** On series: 1.3.6.1.4.1.14519.5.2.1.7310.5101.120664285420103309232780344250 *****\n",
            "SeriesInstanceUID: 1.3.6.1.4.1.14519.5.2.1.7310.5101.120664285420103309232780344250\n"
          ]
        },
        {
          "output_type": "stream",
          "name": "stderr",
          "text": [
            "Downloading data: 100%|██████████| 6.88M/6.88M [00:02<00:00, 2.74MB/s]"
          ]
        },
        {
          "output_type": "stream",
          "name": "stdout",
          "text": [
            "FrameOfReferenceUID: 1.3.6.1.4.1.14519.5.2.1.7310.5101.304751149396746263552979877567\n",
            "Parsing -31.4522 42.9997 0.720986\n",
            "1\n"
          ]
        },
        {
          "output_type": "stream",
          "name": "stderr",
          "text": [
            "\n",
            "/usr/local/lib/python3.11/dist-packages/highdicom/base.py:163: UserWarning: The string \"ProstateX-0318\" is unlikely to represent the intended person name since it contains only a single component. Construct a person name according to the format in described in https://dicom.nema.org/dicom/2013/output/chtml/part05/sect_6.2.html#sect_6.2.1.2, or, in pydicom 2.2.0 or later, use the pydicom.valuerep.PersonName.from_named_components() method to construct the person name correctly. If a single-component name is really intended, add a trailing caret character to disambiguate the name.\n",
            "  check_person_name(patient_name)\n"
          ]
        },
        {
          "output_type": "stream",
          "name": "stdout",
          "text": [
            "********** On patient: ProstateX-0319 **********\n",
            "num_series: 1\n",
            "***** On series: 1.3.6.1.4.1.14519.5.2.1.7310.5101.827121833651501707862980172519 *****\n",
            "SeriesInstanceUID: 1.3.6.1.4.1.14519.5.2.1.7310.5101.827121833651501707862980172519\n"
          ]
        },
        {
          "output_type": "stream",
          "name": "stderr",
          "text": [
            "Downloading data: 100%|██████████| 6.29M/6.29M [00:02<00:00, 2.51MB/s]"
          ]
        },
        {
          "output_type": "stream",
          "name": "stdout",
          "text": [
            "FrameOfReferenceUID: 1.3.6.1.4.1.14519.5.2.1.7310.5101.215602358984341213943899873571\n",
            "Parsing 10.1881 13.3777 -21.5744\n",
            "1\n"
          ]
        },
        {
          "output_type": "stream",
          "name": "stderr",
          "text": [
            "\n",
            "/usr/local/lib/python3.11/dist-packages/highdicom/base.py:163: UserWarning: The string \"ProstateX-0319\" is unlikely to represent the intended person name since it contains only a single component. Construct a person name according to the format in described in https://dicom.nema.org/dicom/2013/output/chtml/part05/sect_6.2.html#sect_6.2.1.2, or, in pydicom 2.2.0 or later, use the pydicom.valuerep.PersonName.from_named_components() method to construct the person name correctly. If a single-component name is really intended, add a trailing caret character to disambiguate the name.\n",
            "  check_person_name(patient_name)\n"
          ]
        },
        {
          "output_type": "stream",
          "name": "stdout",
          "text": [
            "********** On patient: ProstateX-0320 **********\n",
            "num_series: 1\n",
            "***** On series: 1.3.6.1.4.1.14519.5.2.1.7310.5101.120756940005818126381807185012 *****\n",
            "SeriesInstanceUID: 1.3.6.1.4.1.14519.5.2.1.7310.5101.120756940005818126381807185012\n"
          ]
        },
        {
          "output_type": "stream",
          "name": "stderr",
          "text": [
            "Downloading data: 100%|██████████| 5.69M/5.69M [00:02<00:00, 2.27MB/s]"
          ]
        },
        {
          "output_type": "stream",
          "name": "stdout",
          "text": [
            "FrameOfReferenceUID: 1.3.6.1.4.1.14519.5.2.1.7310.5101.325854812081853253395556518631\n",
            "Parsing 40.6201 30.8586 -33.8828\n",
            "1\n"
          ]
        },
        {
          "output_type": "stream",
          "name": "stderr",
          "text": [
            "\n",
            "/usr/local/lib/python3.11/dist-packages/highdicom/base.py:163: UserWarning: The string \"ProstateX-0320\" is unlikely to represent the intended person name since it contains only a single component. Construct a person name according to the format in described in https://dicom.nema.org/dicom/2013/output/chtml/part05/sect_6.2.html#sect_6.2.1.2, or, in pydicom 2.2.0 or later, use the pydicom.valuerep.PersonName.from_named_components() method to construct the person name correctly. If a single-component name is really intended, add a trailing caret character to disambiguate the name.\n",
            "  check_person_name(patient_name)\n"
          ]
        },
        {
          "output_type": "stream",
          "name": "stdout",
          "text": [
            "********** On patient: ProstateX-0321 **********\n",
            "num_series: 1\n",
            "***** On series: 1.3.6.1.4.1.14519.5.2.1.7310.5101.216355853212891847221128172741 *****\n",
            "SeriesInstanceUID: 1.3.6.1.4.1.14519.5.2.1.7310.5101.216355853212891847221128172741\n"
          ]
        },
        {
          "output_type": "stream",
          "name": "stderr",
          "text": [
            "Downloading data: 100%|██████████| 5.69M/5.69M [00:02<00:00, 2.27MB/s]"
          ]
        },
        {
          "output_type": "stream",
          "name": "stdout",
          "text": [
            "FrameOfReferenceUID: 1.3.6.1.4.1.14519.5.2.1.7310.5101.552717011259283915664249170666\n",
            "Parsing 13.3815 23.372 -11.7891\n",
            "Parsing -12.6273 23.0088 -11.9708\n",
            "2\n"
          ]
        },
        {
          "output_type": "stream",
          "name": "stderr",
          "text": [
            "\n",
            "/usr/local/lib/python3.11/dist-packages/highdicom/base.py:163: UserWarning: The string \"ProstateX-0321\" is unlikely to represent the intended person name since it contains only a single component. Construct a person name according to the format in described in https://dicom.nema.org/dicom/2013/output/chtml/part05/sect_6.2.html#sect_6.2.1.2, or, in pydicom 2.2.0 or later, use the pydicom.valuerep.PersonName.from_named_components() method to construct the person name correctly. If a single-component name is really intended, add a trailing caret character to disambiguate the name.\n",
            "  check_person_name(patient_name)\n"
          ]
        },
        {
          "output_type": "stream",
          "name": "stdout",
          "text": [
            "********** On patient: ProstateX-0322 **********\n",
            "num_series: 1\n",
            "***** On series: 1.3.6.1.4.1.14519.5.2.1.7310.5101.460006802975639882938215243710 *****\n",
            "SeriesInstanceUID: 1.3.6.1.4.1.14519.5.2.1.7310.5101.460006802975639882938215243710\n"
          ]
        },
        {
          "output_type": "stream",
          "name": "stderr",
          "text": [
            "Downloading data: 100%|██████████| 5.69M/5.69M [00:03<00:00, 1.89MB/s]"
          ]
        },
        {
          "output_type": "stream",
          "name": "stdout",
          "text": [
            "FrameOfReferenceUID: 1.3.6.1.4.1.14519.5.2.1.7310.5101.141035415082811393464017821693\n",
            "Parsing -6.39834 20.7209 -20.2661\n",
            "1\n"
          ]
        },
        {
          "output_type": "stream",
          "name": "stderr",
          "text": [
            "\n",
            "/usr/local/lib/python3.11/dist-packages/highdicom/base.py:163: UserWarning: The string \"ProstateX-0322\" is unlikely to represent the intended person name since it contains only a single component. Construct a person name according to the format in described in https://dicom.nema.org/dicom/2013/output/chtml/part05/sect_6.2.html#sect_6.2.1.2, or, in pydicom 2.2.0 or later, use the pydicom.valuerep.PersonName.from_named_components() method to construct the person name correctly. If a single-component name is really intended, add a trailing caret character to disambiguate the name.\n",
            "  check_person_name(patient_name)\n"
          ]
        },
        {
          "output_type": "stream",
          "name": "stdout",
          "text": [
            "********** On patient: ProstateX-0323 **********\n",
            "num_series: 1\n",
            "***** On series: 1.3.6.1.4.1.14519.5.2.1.7310.5101.260386623049829078909727548239 *****\n",
            "SeriesInstanceUID: 1.3.6.1.4.1.14519.5.2.1.7310.5101.260386623049829078909727548239\n"
          ]
        },
        {
          "output_type": "stream",
          "name": "stderr",
          "text": [
            "Downloading data: 100%|██████████| 5.69M/5.69M [00:02<00:00, 2.27MB/s]"
          ]
        },
        {
          "output_type": "stream",
          "name": "stdout",
          "text": [
            "FrameOfReferenceUID: 1.3.6.1.4.1.14519.5.2.1.7310.5101.315149278594274610225709755917\n",
            "Parsing -24.342 39.0976 -81.7895\n",
            "1\n"
          ]
        },
        {
          "output_type": "stream",
          "name": "stderr",
          "text": [
            "\n",
            "/usr/local/lib/python3.11/dist-packages/highdicom/base.py:163: UserWarning: The string \"ProstateX-0323\" is unlikely to represent the intended person name since it contains only a single component. Construct a person name according to the format in described in https://dicom.nema.org/dicom/2013/output/chtml/part05/sect_6.2.html#sect_6.2.1.2, or, in pydicom 2.2.0 or later, use the pydicom.valuerep.PersonName.from_named_components() method to construct the person name correctly. If a single-component name is really intended, add a trailing caret character to disambiguate the name.\n",
            "  check_person_name(patient_name)\n"
          ]
        },
        {
          "output_type": "stream",
          "name": "stdout",
          "text": [
            "********** On patient: ProstateX-0324 **********\n",
            "num_series: 1\n",
            "***** On series: 1.3.6.1.4.1.14519.5.2.1.7310.5101.821310035514230779305100198083 *****\n",
            "SeriesInstanceUID: 1.3.6.1.4.1.14519.5.2.1.7310.5101.821310035514230779305100198083\n"
          ]
        },
        {
          "output_type": "stream",
          "name": "stderr",
          "text": [
            "Downloading data: 100%|██████████| 5.69M/5.69M [00:02<00:00, 2.27MB/s]"
          ]
        },
        {
          "output_type": "stream",
          "name": "stdout",
          "text": [
            "FrameOfReferenceUID: 1.3.6.1.4.1.14519.5.2.1.7310.5101.266883890062158567641228939548\n",
            "Parsing -19.7015 -1.08003 2.09972\n",
            "1\n"
          ]
        },
        {
          "output_type": "stream",
          "name": "stderr",
          "text": [
            "\n",
            "/usr/local/lib/python3.11/dist-packages/highdicom/base.py:163: UserWarning: The string \"ProstateX-0324\" is unlikely to represent the intended person name since it contains only a single component. Construct a person name according to the format in described in https://dicom.nema.org/dicom/2013/output/chtml/part05/sect_6.2.html#sect_6.2.1.2, or, in pydicom 2.2.0 or later, use the pydicom.valuerep.PersonName.from_named_components() method to construct the person name correctly. If a single-component name is really intended, add a trailing caret character to disambiguate the name.\n",
            "  check_person_name(patient_name)\n"
          ]
        },
        {
          "output_type": "stream",
          "name": "stdout",
          "text": [
            "********** On patient: ProstateX-0326 **********\n",
            "num_series: 1\n",
            "***** On series: 1.3.6.1.4.1.14519.5.2.1.7310.5101.692422891141071106181545054689 *****\n",
            "SeriesInstanceUID: 1.3.6.1.4.1.14519.5.2.1.7310.5101.692422891141071106181545054689\n"
          ]
        },
        {
          "output_type": "stream",
          "name": "stderr",
          "text": [
            "Downloading data: 100%|█████████▉| 15.7M/15.7M [00:03<00:00, 5.20MB/s]"
          ]
        },
        {
          "output_type": "stream",
          "name": "stdout",
          "text": [
            "FrameOfReferenceUID: 1.3.6.1.4.1.14519.5.2.1.7310.5101.104147317406265563811798999589\n",
            "Parsing -16.5335 29.0869 -4.64193\n",
            "1\n"
          ]
        },
        {
          "output_type": "stream",
          "name": "stderr",
          "text": [
            "\n",
            "/usr/local/lib/python3.11/dist-packages/highdicom/base.py:163: UserWarning: The string \"ProstateX-0326\" is unlikely to represent the intended person name since it contains only a single component. Construct a person name according to the format in described in https://dicom.nema.org/dicom/2013/output/chtml/part05/sect_6.2.html#sect_6.2.1.2, or, in pydicom 2.2.0 or later, use the pydicom.valuerep.PersonName.from_named_components() method to construct the person name correctly. If a single-component name is really intended, add a trailing caret character to disambiguate the name.\n",
            "  check_person_name(patient_name)\n"
          ]
        },
        {
          "output_type": "stream",
          "name": "stdout",
          "text": [
            "********** On patient: ProstateX-0327 **********\n",
            "num_series: 1\n",
            "***** On series: 1.3.6.1.4.1.14519.5.2.1.7310.5101.318747715689850987979841001207 *****\n",
            "SeriesInstanceUID: 1.3.6.1.4.1.14519.5.2.1.7310.5101.318747715689850987979841001207\n"
          ]
        },
        {
          "output_type": "stream",
          "name": "stderr",
          "text": [
            "Downloading data: 100%|██████████| 5.69M/5.69M [00:03<00:00, 1.89MB/s]"
          ]
        },
        {
          "output_type": "stream",
          "name": "stdout",
          "text": [
            "FrameOfReferenceUID: 1.3.6.1.4.1.14519.5.2.1.7310.5101.190244141521846018805820238708\n",
            "Parsing -11.8864 17.9647 -34.2623\n",
            "Parsing 2.09632 32.0117 -17.7037\n",
            "2\n"
          ]
        },
        {
          "output_type": "stream",
          "name": "stderr",
          "text": [
            "\n",
            "/usr/local/lib/python3.11/dist-packages/highdicom/base.py:163: UserWarning: The string \"ProstateX-0327\" is unlikely to represent the intended person name since it contains only a single component. Construct a person name according to the format in described in https://dicom.nema.org/dicom/2013/output/chtml/part05/sect_6.2.html#sect_6.2.1.2, or, in pydicom 2.2.0 or later, use the pydicom.valuerep.PersonName.from_named_components() method to construct the person name correctly. If a single-component name is really intended, add a trailing caret character to disambiguate the name.\n",
            "  check_person_name(patient_name)\n"
          ]
        },
        {
          "output_type": "stream",
          "name": "stdout",
          "text": [
            "********** On patient: ProstateX-0328 **********\n",
            "num_series: 1\n",
            "***** On series: 1.3.6.1.4.1.14519.5.2.1.7310.5101.970856708671679444758957553019 *****\n",
            "SeriesInstanceUID: 1.3.6.1.4.1.14519.5.2.1.7310.5101.970856708671679444758957553019\n"
          ]
        },
        {
          "output_type": "stream",
          "name": "stderr",
          "text": [
            "Downloading data: 100%|█████████▉| 6.29M/6.29M [00:02<00:00, 2.51MB/s]"
          ]
        },
        {
          "output_type": "stream",
          "name": "stdout",
          "text": [
            "FrameOfReferenceUID: 1.3.6.1.4.1.14519.5.2.1.7310.5101.174299268517848506632874771654\n",
            "Parsing -37.7976 58.8032 11.0067\n",
            "1\n"
          ]
        },
        {
          "output_type": "stream",
          "name": "stderr",
          "text": [
            "\n",
            "/usr/local/lib/python3.11/dist-packages/highdicom/base.py:163: UserWarning: The string \"ProstateX-0328\" is unlikely to represent the intended person name since it contains only a single component. Construct a person name according to the format in described in https://dicom.nema.org/dicom/2013/output/chtml/part05/sect_6.2.html#sect_6.2.1.2, or, in pydicom 2.2.0 or later, use the pydicom.valuerep.PersonName.from_named_components() method to construct the person name correctly. If a single-component name is really intended, add a trailing caret character to disambiguate the name.\n",
            "  check_person_name(patient_name)\n"
          ]
        },
        {
          "output_type": "stream",
          "name": "stdout",
          "text": [
            "********** On patient: ProstateX-0329 **********\n",
            "num_series: 1\n",
            "***** On series: 1.3.6.1.4.1.14519.5.2.1.7310.5101.195771036343570554021626327942 *****\n",
            "SeriesInstanceUID: 1.3.6.1.4.1.14519.5.2.1.7310.5101.195771036343570554021626327942\n"
          ]
        },
        {
          "output_type": "stream",
          "name": "stderr",
          "text": [
            "Downloading data: 100%|██████████| 5.69M/5.69M [00:03<00:00, 1.89MB/s]"
          ]
        },
        {
          "output_type": "stream",
          "name": "stdout",
          "text": [
            "FrameOfReferenceUID: 1.3.6.1.4.1.14519.5.2.1.7310.5101.274586423672173157968212652310\n",
            "Parsing 32.5683 37.7544 -4.47573\n",
            "1\n"
          ]
        },
        {
          "output_type": "stream",
          "name": "stderr",
          "text": [
            "\n",
            "/usr/local/lib/python3.11/dist-packages/highdicom/base.py:163: UserWarning: The string \"ProstateX-0329\" is unlikely to represent the intended person name since it contains only a single component. Construct a person name according to the format in described in https://dicom.nema.org/dicom/2013/output/chtml/part05/sect_6.2.html#sect_6.2.1.2, or, in pydicom 2.2.0 or later, use the pydicom.valuerep.PersonName.from_named_components() method to construct the person name correctly. If a single-component name is really intended, add a trailing caret character to disambiguate the name.\n",
            "  check_person_name(patient_name)\n"
          ]
        },
        {
          "output_type": "stream",
          "name": "stdout",
          "text": [
            "********** On patient: ProstateX-0330 **********\n",
            "num_series: 1\n",
            "***** On series: 1.3.6.1.4.1.14519.5.2.1.7310.5101.249690269105067720695516207961 *****\n",
            "SeriesInstanceUID: 1.3.6.1.4.1.14519.5.2.1.7310.5101.249690269105067720695516207961\n"
          ]
        },
        {
          "output_type": "stream",
          "name": "stderr",
          "text": [
            "Downloading data: 100%|██████████| 6.29M/6.29M [00:02<00:00, 2.51MB/s]"
          ]
        },
        {
          "output_type": "stream",
          "name": "stdout",
          "text": [
            "FrameOfReferenceUID: 1.3.6.1.4.1.14519.5.2.1.7310.5101.223969019967285570999465376201\n",
            "Parsing -43.062 36.623 -3.62146\n",
            "Parsing -27.6645 29.5634 -18.9393\n",
            "2\n"
          ]
        },
        {
          "output_type": "stream",
          "name": "stderr",
          "text": [
            "\n",
            "/usr/local/lib/python3.11/dist-packages/highdicom/base.py:163: UserWarning: The string \"ProstateX-0330\" is unlikely to represent the intended person name since it contains only a single component. Construct a person name according to the format in described in https://dicom.nema.org/dicom/2013/output/chtml/part05/sect_6.2.html#sect_6.2.1.2, or, in pydicom 2.2.0 or later, use the pydicom.valuerep.PersonName.from_named_components() method to construct the person name correctly. If a single-component name is really intended, add a trailing caret character to disambiguate the name.\n",
            "  check_person_name(patient_name)\n"
          ]
        },
        {
          "output_type": "stream",
          "name": "stdout",
          "text": [
            "********** On patient: ProstateX-0332 **********\n",
            "num_series: 1\n",
            "***** On series: 1.3.6.1.4.1.14519.5.2.1.7310.5101.214784992900164494786248522083 *****\n",
            "SeriesInstanceUID: 1.3.6.1.4.1.14519.5.2.1.7310.5101.214784992900164494786248522083\n"
          ]
        },
        {
          "output_type": "stream",
          "name": "stderr",
          "text": [
            "Downloading data: 100%|██████████| 6.29M/6.29M [00:03<00:00, 2.09MB/s]"
          ]
        },
        {
          "output_type": "stream",
          "name": "stdout",
          "text": [
            "FrameOfReferenceUID: 1.3.6.1.4.1.14519.5.2.1.7310.5101.293090717093993292785663795454\n",
            "Parsing 41.4588 41.8674 11.7921\n",
            "Parsing 3.86933 45.2403 -3.67143\n",
            "Parsing 5.30978 32.8543 -17.3953\n",
            "3\n"
          ]
        },
        {
          "output_type": "stream",
          "name": "stderr",
          "text": [
            "\n",
            "/usr/local/lib/python3.11/dist-packages/highdicom/base.py:163: UserWarning: The string \"ProstateX-0332\" is unlikely to represent the intended person name since it contains only a single component. Construct a person name according to the format in described in https://dicom.nema.org/dicom/2013/output/chtml/part05/sect_6.2.html#sect_6.2.1.2, or, in pydicom 2.2.0 or later, use the pydicom.valuerep.PersonName.from_named_components() method to construct the person name correctly. If a single-component name is really intended, add a trailing caret character to disambiguate the name.\n",
            "  check_person_name(patient_name)\n"
          ]
        },
        {
          "output_type": "stream",
          "name": "stdout",
          "text": [
            "********** On patient: ProstateX-0333 **********\n",
            "num_series: 1\n",
            "***** On series: 1.3.6.1.4.1.14519.5.2.1.7310.5101.688444189306785888383774786402 *****\n",
            "SeriesInstanceUID: 1.3.6.1.4.1.14519.5.2.1.7310.5101.688444189306785888383774786402\n"
          ]
        },
        {
          "output_type": "stream",
          "name": "stderr",
          "text": [
            "Downloading data: 100%|██████████| 5.69M/5.69M [00:02<00:00, 2.27MB/s]"
          ]
        },
        {
          "output_type": "stream",
          "name": "stdout",
          "text": [
            "FrameOfReferenceUID: 1.3.6.1.4.1.14519.5.2.1.7310.5101.269815199477762081054013219746\n",
            "Parsing -7.81702 24.8581 25.9937\n",
            "Parsing -35.5084 38.039 31.9268\n",
            "Parsing -1.63804 41.967 33.4659\n",
            "3\n"
          ]
        },
        {
          "output_type": "stream",
          "name": "stderr",
          "text": [
            "\n",
            "/usr/local/lib/python3.11/dist-packages/highdicom/base.py:163: UserWarning: The string \"ProstateX-0333\" is unlikely to represent the intended person name since it contains only a single component. Construct a person name according to the format in described in https://dicom.nema.org/dicom/2013/output/chtml/part05/sect_6.2.html#sect_6.2.1.2, or, in pydicom 2.2.0 or later, use the pydicom.valuerep.PersonName.from_named_components() method to construct the person name correctly. If a single-component name is really intended, add a trailing caret character to disambiguate the name.\n",
            "  check_person_name(patient_name)\n"
          ]
        },
        {
          "output_type": "stream",
          "name": "stdout",
          "text": [
            "********** On patient: ProstateX-0334 **********\n",
            "num_series: 1\n",
            "***** On series: 1.3.6.1.4.1.14519.5.2.1.7310.5101.877607202381357458819664904037 *****\n",
            "SeriesInstanceUID: 1.3.6.1.4.1.14519.5.2.1.7310.5101.877607202381357458819664904037\n"
          ]
        },
        {
          "output_type": "stream",
          "name": "stderr",
          "text": [
            "Downloading data: 100%|██████████| 5.69M/5.69M [00:02<00:00, 2.27MB/s]"
          ]
        },
        {
          "output_type": "stream",
          "name": "stdout",
          "text": [
            "FrameOfReferenceUID: 1.3.6.1.4.1.14519.5.2.1.7310.5101.449877409430924777830845924676\n",
            "Parsing -4.89673 -1.79654 41.3457\n",
            "1\n"
          ]
        },
        {
          "output_type": "stream",
          "name": "stderr",
          "text": [
            "\n",
            "/usr/local/lib/python3.11/dist-packages/highdicom/base.py:163: UserWarning: The string \"ProstateX-0334\" is unlikely to represent the intended person name since it contains only a single component. Construct a person name according to the format in described in https://dicom.nema.org/dicom/2013/output/chtml/part05/sect_6.2.html#sect_6.2.1.2, or, in pydicom 2.2.0 or later, use the pydicom.valuerep.PersonName.from_named_components() method to construct the person name correctly. If a single-component name is really intended, add a trailing caret character to disambiguate the name.\n",
            "  check_person_name(patient_name)\n"
          ]
        },
        {
          "output_type": "stream",
          "name": "stdout",
          "text": [
            "********** On patient: ProstateX-0335 **********\n",
            "num_series: 1\n",
            "***** On series: 1.3.6.1.4.1.14519.5.2.1.7310.5101.289060504204803089807286090631 *****\n",
            "SeriesInstanceUID: 1.3.6.1.4.1.14519.5.2.1.7310.5101.289060504204803089807286090631\n"
          ]
        },
        {
          "output_type": "stream",
          "name": "stderr",
          "text": [
            "Downloading data: 100%|██████████| 6.29M/6.29M [00:02<00:00, 2.51MB/s]"
          ]
        },
        {
          "output_type": "stream",
          "name": "stdout",
          "text": [
            "FrameOfReferenceUID: 1.3.6.1.4.1.14519.5.2.1.7310.5101.356851581420141457239245825484\n",
            "Parsing -33.053 10.1795 -49.3518\n",
            "Parsing -28.8028 27.7169 -27.1153\n",
            "2\n"
          ]
        },
        {
          "output_type": "stream",
          "name": "stderr",
          "text": [
            "\n",
            "/usr/local/lib/python3.11/dist-packages/highdicom/base.py:163: UserWarning: The string \"ProstateX-0335\" is unlikely to represent the intended person name since it contains only a single component. Construct a person name according to the format in described in https://dicom.nema.org/dicom/2013/output/chtml/part05/sect_6.2.html#sect_6.2.1.2, or, in pydicom 2.2.0 or later, use the pydicom.valuerep.PersonName.from_named_components() method to construct the person name correctly. If a single-component name is really intended, add a trailing caret character to disambiguate the name.\n",
            "  check_person_name(patient_name)\n"
          ]
        },
        {
          "output_type": "stream",
          "name": "stdout",
          "text": [
            "********** On patient: ProstateX-0336 **********\n",
            "num_series: 1\n",
            "***** On series: 1.3.6.1.4.1.14519.5.2.1.7310.5101.224076318611508329113933938602 *****\n",
            "SeriesInstanceUID: 1.3.6.1.4.1.14519.5.2.1.7310.5101.224076318611508329113933938602\n"
          ]
        },
        {
          "output_type": "stream",
          "name": "stderr",
          "text": [
            "Downloading data: 100%|██████████| 6.29M/6.29M [00:02<00:00, 2.51MB/s]"
          ]
        },
        {
          "output_type": "stream",
          "name": "stdout",
          "text": [
            "FrameOfReferenceUID: 1.3.6.1.4.1.14519.5.2.1.7310.5101.858231143526817489238264754004\n",
            "Parsing -22.6823 38.417 -50.0952\n",
            "Parsing -32.0575 41.2177 -26.2586\n",
            "2\n"
          ]
        },
        {
          "output_type": "stream",
          "name": "stderr",
          "text": [
            "\n",
            "/usr/local/lib/python3.11/dist-packages/highdicom/base.py:163: UserWarning: The string \"ProstateX-0336\" is unlikely to represent the intended person name since it contains only a single component. Construct a person name according to the format in described in https://dicom.nema.org/dicom/2013/output/chtml/part05/sect_6.2.html#sect_6.2.1.2, or, in pydicom 2.2.0 or later, use the pydicom.valuerep.PersonName.from_named_components() method to construct the person name correctly. If a single-component name is really intended, add a trailing caret character to disambiguate the name.\n",
            "  check_person_name(patient_name)\n"
          ]
        },
        {
          "output_type": "stream",
          "name": "stdout",
          "text": [
            "********** On patient: ProstateX-0337 **********\n",
            "num_series: 1\n",
            "***** On series: 1.3.6.1.4.1.14519.5.2.1.7310.5101.182925643588046970694192241999 *****\n",
            "SeriesInstanceUID: 1.3.6.1.4.1.14519.5.2.1.7310.5101.182925643588046970694192241999\n"
          ]
        },
        {
          "output_type": "stream",
          "name": "stderr",
          "text": [
            "Downloading data: 100%|██████████| 6.29M/6.29M [00:02<00:00, 2.51MB/s]"
          ]
        },
        {
          "output_type": "stream",
          "name": "stdout",
          "text": [
            "FrameOfReferenceUID: 1.3.6.1.4.1.14519.5.2.1.7310.5101.384708417943208872479491615035\n",
            "Parsing 46.1993 41.6713 32.4445\n",
            "1\n"
          ]
        },
        {
          "output_type": "stream",
          "name": "stderr",
          "text": [
            "\n",
            "/usr/local/lib/python3.11/dist-packages/highdicom/base.py:163: UserWarning: The string \"ProstateX-0337\" is unlikely to represent the intended person name since it contains only a single component. Construct a person name according to the format in described in https://dicom.nema.org/dicom/2013/output/chtml/part05/sect_6.2.html#sect_6.2.1.2, or, in pydicom 2.2.0 or later, use the pydicom.valuerep.PersonName.from_named_components() method to construct the person name correctly. If a single-component name is really intended, add a trailing caret character to disambiguate the name.\n",
            "  check_person_name(patient_name)\n"
          ]
        },
        {
          "output_type": "stream",
          "name": "stdout",
          "text": [
            "********** On patient: ProstateX-0338 **********\n",
            "num_series: 1\n",
            "***** On series: 1.3.6.1.4.1.14519.5.2.1.7310.5101.537713231271807217392132237717 *****\n",
            "SeriesInstanceUID: 1.3.6.1.4.1.14519.5.2.1.7310.5101.537713231271807217392132237717\n"
          ]
        },
        {
          "output_type": "stream",
          "name": "stderr",
          "text": [
            "Downloading data: 100%|██████████| 5.69M/5.69M [00:02<00:00, 2.27MB/s]"
          ]
        },
        {
          "output_type": "stream",
          "name": "stdout",
          "text": [
            "FrameOfReferenceUID: 1.3.6.1.4.1.14519.5.2.1.7310.5101.286129336331704857879466271290\n",
            "Parsing -9.83844 33.453 -41.3144\n",
            "1\n"
          ]
        },
        {
          "output_type": "stream",
          "name": "stderr",
          "text": [
            "\n",
            "/usr/local/lib/python3.11/dist-packages/highdicom/base.py:163: UserWarning: The string \"ProstateX-0338\" is unlikely to represent the intended person name since it contains only a single component. Construct a person name according to the format in described in https://dicom.nema.org/dicom/2013/output/chtml/part05/sect_6.2.html#sect_6.2.1.2, or, in pydicom 2.2.0 or later, use the pydicom.valuerep.PersonName.from_named_components() method to construct the person name correctly. If a single-component name is really intended, add a trailing caret character to disambiguate the name.\n",
            "  check_person_name(patient_name)\n"
          ]
        },
        {
          "output_type": "stream",
          "name": "stdout",
          "text": [
            "********** On patient: ProstateX-0339 **********\n",
            "num_series: 1\n",
            "***** On series: 1.3.6.1.4.1.14519.5.2.1.7310.5101.122709529159573052869985720888 *****\n",
            "SeriesInstanceUID: 1.3.6.1.4.1.14519.5.2.1.7310.5101.122709529159573052869985720888\n"
          ]
        },
        {
          "output_type": "stream",
          "name": "stderr",
          "text": [
            "Downloading data: 100%|██████████| 5.69M/5.69M [00:02<00:00, 2.27MB/s]"
          ]
        },
        {
          "output_type": "stream",
          "name": "stdout",
          "text": [
            "FrameOfReferenceUID: 1.3.6.1.4.1.14519.5.2.1.7310.5101.713331017067693297560734946575\n",
            "Parsing 4.26946 28.6048 -37.2774\n",
            "Parsing 35.135 42.0741 -42.3792\n",
            "2\n"
          ]
        },
        {
          "output_type": "stream",
          "name": "stderr",
          "text": [
            "\n",
            "/usr/local/lib/python3.11/dist-packages/highdicom/base.py:163: UserWarning: The string \"ProstateX-0339\" is unlikely to represent the intended person name since it contains only a single component. Construct a person name according to the format in described in https://dicom.nema.org/dicom/2013/output/chtml/part05/sect_6.2.html#sect_6.2.1.2, or, in pydicom 2.2.0 or later, use the pydicom.valuerep.PersonName.from_named_components() method to construct the person name correctly. If a single-component name is really intended, add a trailing caret character to disambiguate the name.\n",
            "  check_person_name(patient_name)\n"
          ]
        },
        {
          "output_type": "stream",
          "name": "stdout",
          "text": [
            "********** On patient: ProstateX-0340 **********\n",
            "num_series: 1\n",
            "***** On series: 1.3.6.1.4.1.14519.5.2.1.7310.5101.127076787998581344993055912043 *****\n",
            "SeriesInstanceUID: 1.3.6.1.4.1.14519.5.2.1.7310.5101.127076787998581344993055912043\n"
          ]
        },
        {
          "output_type": "stream",
          "name": "stderr",
          "text": [
            "Downloading data: 100%|██████████| 6.29M/6.29M [00:02<00:00, 2.51MB/s]"
          ]
        },
        {
          "output_type": "stream",
          "name": "stdout",
          "text": [
            "FrameOfReferenceUID: 1.3.6.1.4.1.14519.5.2.1.7310.5101.205131026677972916855428268640\n",
            "Parsing -7.16374 53.8446 -53.2545\n",
            "Parsing 15.9791 31.4866 -47.768\n",
            "2\n"
          ]
        },
        {
          "output_type": "stream",
          "name": "stderr",
          "text": [
            "\n",
            "/usr/local/lib/python3.11/dist-packages/highdicom/base.py:163: UserWarning: The string \"ProstateX-0340\" is unlikely to represent the intended person name since it contains only a single component. Construct a person name according to the format in described in https://dicom.nema.org/dicom/2013/output/chtml/part05/sect_6.2.html#sect_6.2.1.2, or, in pydicom 2.2.0 or later, use the pydicom.valuerep.PersonName.from_named_components() method to construct the person name correctly. If a single-component name is really intended, add a trailing caret character to disambiguate the name.\n",
            "  check_person_name(patient_name)\n"
          ]
        },
        {
          "output_type": "stream",
          "name": "stdout",
          "text": [
            "********** On patient: ProstateX-0341 **********\n",
            "num_series: 1\n",
            "***** On series: 1.3.6.1.4.1.14519.5.2.1.7310.5101.564281219984061183571553602031 *****\n",
            "SeriesInstanceUID: 1.3.6.1.4.1.14519.5.2.1.7310.5101.564281219984061183571553602031\n"
          ]
        },
        {
          "output_type": "stream",
          "name": "stderr",
          "text": [
            "Downloading data: 100%|██████████| 6.29M/6.29M [00:02<00:00, 2.50MB/s]"
          ]
        },
        {
          "output_type": "stream",
          "name": "stdout",
          "text": [
            "FrameOfReferenceUID: 1.3.6.1.4.1.14519.5.2.1.7310.5101.293245647830500865020590894307\n",
            "Parsing -13.2496 48.009 -64.7035\n",
            "Parsing 7.65152 55.6718 -42.9128\n",
            "Parsing 18.4443 41.0405 -39.0338\n",
            "3\n"
          ]
        },
        {
          "output_type": "stream",
          "name": "stderr",
          "text": [
            "\n",
            "/usr/local/lib/python3.11/dist-packages/highdicom/base.py:163: UserWarning: The string \"ProstateX-0341\" is unlikely to represent the intended person name since it contains only a single component. Construct a person name according to the format in described in https://dicom.nema.org/dicom/2013/output/chtml/part05/sect_6.2.html#sect_6.2.1.2, or, in pydicom 2.2.0 or later, use the pydicom.valuerep.PersonName.from_named_components() method to construct the person name correctly. If a single-component name is really intended, add a trailing caret character to disambiguate the name.\n",
            "  check_person_name(patient_name)\n"
          ]
        },
        {
          "output_type": "stream",
          "name": "stdout",
          "text": [
            "********** On patient: ProstateX-0342 **********\n",
            "num_series: 1\n",
            "***** On series: 1.3.6.1.4.1.14519.5.2.1.7310.5101.770608043083676395706663682748 *****\n",
            "SeriesInstanceUID: 1.3.6.1.4.1.14519.5.2.1.7310.5101.770608043083676395706663682748\n"
          ]
        },
        {
          "output_type": "stream",
          "name": "stderr",
          "text": [
            "Downloading data: 100%|██████████| 5.69M/5.69M [00:02<00:00, 2.27MB/s]"
          ]
        },
        {
          "output_type": "stream",
          "name": "stdout",
          "text": [
            "FrameOfReferenceUID: 1.3.6.1.4.1.14519.5.2.1.7310.5101.186632542748976522849002901970\n",
            "Parsing -26.6332 8.95682 -34.9153\n",
            "1\n"
          ]
        },
        {
          "output_type": "stream",
          "name": "stderr",
          "text": [
            "\n",
            "/usr/local/lib/python3.11/dist-packages/highdicom/base.py:163: UserWarning: The string \"ProstateX-0342\" is unlikely to represent the intended person name since it contains only a single component. Construct a person name according to the format in described in https://dicom.nema.org/dicom/2013/output/chtml/part05/sect_6.2.html#sect_6.2.1.2, or, in pydicom 2.2.0 or later, use the pydicom.valuerep.PersonName.from_named_components() method to construct the person name correctly. If a single-component name is really intended, add a trailing caret character to disambiguate the name.\n",
            "  check_person_name(patient_name)\n"
          ]
        },
        {
          "output_type": "stream",
          "name": "stdout",
          "text": [
            "********** On patient: ProstateX-0343 **********\n",
            "num_series: 1\n",
            "***** On series: 1.3.6.1.4.1.14519.5.2.1.7310.5101.866134128742207219465271413458 *****\n",
            "SeriesInstanceUID: 1.3.6.1.4.1.14519.5.2.1.7310.5101.866134128742207219465271413458\n"
          ]
        },
        {
          "output_type": "stream",
          "name": "stderr",
          "text": [
            "Downloading data: 100%|██████████| 6.29M/6.29M [00:02<00:00, 2.51MB/s]"
          ]
        },
        {
          "output_type": "stream",
          "name": "stdout",
          "text": [
            "FrameOfReferenceUID: 1.3.6.1.4.1.14519.5.2.1.7310.5101.196819474303715527407522352952\n",
            "Parsing 0.553015 18.7555 18.5042\n",
            "1\n"
          ]
        },
        {
          "output_type": "stream",
          "name": "stderr",
          "text": [
            "\n",
            "/usr/local/lib/python3.11/dist-packages/highdicom/base.py:163: UserWarning: The string \"ProstateX-0343\" is unlikely to represent the intended person name since it contains only a single component. Construct a person name according to the format in described in https://dicom.nema.org/dicom/2013/output/chtml/part05/sect_6.2.html#sect_6.2.1.2, or, in pydicom 2.2.0 or later, use the pydicom.valuerep.PersonName.from_named_components() method to construct the person name correctly. If a single-component name is really intended, add a trailing caret character to disambiguate the name.\n",
            "  check_person_name(patient_name)\n"
          ]
        },
        {
          "output_type": "stream",
          "name": "stdout",
          "text": [
            "********** On patient: ProstateX-0344 **********\n",
            "num_series: 1\n",
            "***** On series: 1.3.6.1.4.1.14519.5.2.1.7310.5101.284671843735327551266044347858 *****\n",
            "SeriesInstanceUID: 1.3.6.1.4.1.14519.5.2.1.7310.5101.284671843735327551266044347858\n"
          ]
        },
        {
          "output_type": "stream",
          "name": "stderr",
          "text": [
            "Downloading data: 100%|██████████| 5.69M/5.69M [00:02<00:00, 2.27MB/s]"
          ]
        },
        {
          "output_type": "stream",
          "name": "stdout",
          "text": [
            "FrameOfReferenceUID: 1.3.6.1.4.1.14519.5.2.1.7310.5101.139348806503640763364411511158\n",
            "Parsing 8.86952 34.8962 -3.25847\n",
            "Parsing 19.3829 55.2417 3.26941\n",
            "2\n"
          ]
        },
        {
          "output_type": "stream",
          "name": "stderr",
          "text": [
            "\n",
            "/usr/local/lib/python3.11/dist-packages/highdicom/base.py:163: UserWarning: The string \"ProstateX-0344\" is unlikely to represent the intended person name since it contains only a single component. Construct a person name according to the format in described in https://dicom.nema.org/dicom/2013/output/chtml/part05/sect_6.2.html#sect_6.2.1.2, or, in pydicom 2.2.0 or later, use the pydicom.valuerep.PersonName.from_named_components() method to construct the person name correctly. If a single-component name is really intended, add a trailing caret character to disambiguate the name.\n",
            "  check_person_name(patient_name)\n"
          ]
        },
        {
          "output_type": "stream",
          "name": "stdout",
          "text": [
            "********** On patient: ProstateX-0345 **********\n",
            "num_series: 1\n",
            "***** On series: 1.3.6.1.4.1.14519.5.2.1.7310.5101.234925765587533703261014383053 *****\n",
            "SeriesInstanceUID: 1.3.6.1.4.1.14519.5.2.1.7310.5101.234925765587533703261014383053\n"
          ]
        },
        {
          "output_type": "stream",
          "name": "stderr",
          "text": [
            "Downloading data: 100%|██████████| 6.29M/6.29M [00:02<00:00, 2.50MB/s]"
          ]
        },
        {
          "output_type": "stream",
          "name": "stdout",
          "text": [
            "FrameOfReferenceUID: 1.3.6.1.4.1.14519.5.2.1.7310.5101.220673677138630730663741100306\n",
            "Parsing 8.59292 15.8902 10.8248\n",
            "Parsing -16.2035 35.3915 5.65363\n",
            "2\n"
          ]
        },
        {
          "output_type": "stream",
          "name": "stderr",
          "text": [
            "\n",
            "/usr/local/lib/python3.11/dist-packages/highdicom/base.py:163: UserWarning: The string \"ProstateX-0345\" is unlikely to represent the intended person name since it contains only a single component. Construct a person name according to the format in described in https://dicom.nema.org/dicom/2013/output/chtml/part05/sect_6.2.html#sect_6.2.1.2, or, in pydicom 2.2.0 or later, use the pydicom.valuerep.PersonName.from_named_components() method to construct the person name correctly. If a single-component name is really intended, add a trailing caret character to disambiguate the name.\n",
            "  check_person_name(patient_name)\n"
          ]
        }
      ]
    },
    {
      "cell_type": "code",
      "source": [
        "# Temporarily download the files from ProstateX-0000\n",
        "\n",
        "SeriesInstanceUID = df_prostatex[df_prostatex['ProxID']==\"ProstateX-0000\"]['DCMSerUID'].values[0]\n",
        "print(SeriesInstanceUID)\n",
        "\n",
        "if not os.path.isdir(\"/content/mr\"):\n",
        "  os.mkdir(\"/content/mr\")\n",
        "\n",
        "# download the series\n",
        "client.download_from_selection(\n",
        "  seriesInstanceUID=SeriesInstanceUID,\n",
        "  downloadDir=\"/content/mr\",\n",
        "  dirTemplate=''\n",
        ")\n",
        "\n",
        "from google.colab import files\n",
        "!zip -r /content/mr.zip /content/mr\n",
        "files.download(\"/content/mr.zip\")"
      ],
      "metadata": {
        "colab": {
          "base_uri": "https://localhost:8080/",
          "height": 399
        },
        "id": "CDX-1jIKm2qk",
        "outputId": "96d2adfa-8297-4405-cca7-0e4dda72870b"
      },
      "execution_count": 50,
      "outputs": [
        {
          "output_type": "stream",
          "name": "stdout",
          "text": [
            "1.3.6.1.4.1.14519.5.2.1.7311.5101.160028252338004527274326500702\n"
          ]
        },
        {
          "output_type": "stream",
          "name": "stderr",
          "text": [
            "Downloading data:   0%|          | 0.00/5.68M [00:02<?, ?B/s]\n"
          ]
        },
        {
          "output_type": "stream",
          "name": "stdout",
          "text": [
            "  adding: content/mr/ (stored 0%)\n",
            "  adding: content/mr/30fe8c21-15f8-4976-bce7-0924d0a53c68.dcm (deflated 36%)\n",
            "  adding: content/mr/b5662434-a832-4959-b459-9c63ceb59c3c.dcm (deflated 35%)\n",
            "  adding: content/mr/346438a7-63b3-49df-ba3f-c02d36231723.dcm (deflated 36%)\n",
            "  adding: content/mr/2fdf50a2-0d95-4b65-9e8d-342ff7303c6c.dcm (deflated 37%)\n",
            "  adding: content/mr/073408be-44b2-4dfc-a57f-5fdc453916dc.dcm (deflated 36%)\n",
            "  adding: content/mr/60131fc9-eff4-4287-9ac2-4f1911bc4405.dcm (deflated 36%)\n",
            "  adding: content/mr/bad3a04f-f679-4062-b72c-a521505ed228.dcm (deflated 37%)\n",
            "  adding: content/mr/634a5d1f-8322-40ae-964e-562e8a7af59e.dcm (deflated 36%)\n",
            "  adding: content/mr/c00574a6-6d45-4cdd-9332-9c1e3e09ff54.dcm (deflated 36%)\n",
            "  adding: content/mr/7bfc90a7-fc93-455d-b517-4246724e3660.dcm (deflated 37%)\n",
            "  adding: content/mr/c324ae41-65d4-48ca-af7f-9d3eec595409.dcm (deflated 37%)\n",
            "  adding: content/mr/bd26e77d-4246-4eb0-9a88-0233f6b5aa1e.dcm (deflated 37%)\n",
            "  adding: content/mr/14a428fe-3235-48d6-a4de-ee2c925bd46b.dcm (deflated 36%)\n",
            "  adding: content/mr/19a277f3-36b4-4efe-a25c-3a559d649c86.dcm (deflated 36%)\n",
            "  adding: content/mr/9b6269ab-0c87-45ab-96a6-e81995f617d1.dcm (deflated 36%)\n",
            "  adding: content/mr/67ebce55-6302-499a-b65e-29a55f8459b1.dcm (deflated 36%)\n",
            "  adding: content/mr/83d8fe09-8adb-4bb9-80fb-707fe9224981.dcm (deflated 36%)\n",
            "  adding: content/mr/a1a12c65-85aa-4dec-a76c-9f7c2d95f287.dcm (deflated 37%)\n",
            "  adding: content/mr/4c690568-b82e-4752-8eb1-e92c76045cab.dcm (deflated 36%)\n"
          ]
        },
        {
          "output_type": "display_data",
          "data": {
            "text/plain": [
              "<IPython.core.display.Javascript object>"
            ],
            "application/javascript": [
              "\n",
              "    async function download(id, filename, size) {\n",
              "      if (!google.colab.kernel.accessAllowed) {\n",
              "        return;\n",
              "      }\n",
              "      const div = document.createElement('div');\n",
              "      const label = document.createElement('label');\n",
              "      label.textContent = `Downloading \"${filename}\": `;\n",
              "      div.appendChild(label);\n",
              "      const progress = document.createElement('progress');\n",
              "      progress.max = size;\n",
              "      div.appendChild(progress);\n",
              "      document.body.appendChild(div);\n",
              "\n",
              "      const buffers = [];\n",
              "      let downloaded = 0;\n",
              "\n",
              "      const channel = await google.colab.kernel.comms.open(id);\n",
              "      // Send a message to notify the kernel that we're ready.\n",
              "      channel.send({})\n",
              "\n",
              "      for await (const message of channel.messages) {\n",
              "        // Send a message to notify the kernel that we're ready.\n",
              "        channel.send({})\n",
              "        if (message.buffers) {\n",
              "          for (const buffer of message.buffers) {\n",
              "            buffers.push(buffer);\n",
              "            downloaded += buffer.byteLength;\n",
              "            progress.value = downloaded;\n",
              "          }\n",
              "        }\n",
              "      }\n",
              "      const blob = new Blob(buffers, {type: 'application/binary'});\n",
              "      const a = document.createElement('a');\n",
              "      a.href = window.URL.createObjectURL(blob);\n",
              "      a.download = filename;\n",
              "      div.appendChild(a);\n",
              "      a.click();\n",
              "      div.remove();\n",
              "    }\n",
              "  "
            ]
          },
          "metadata": {}
        },
        {
          "output_type": "display_data",
          "data": {
            "text/plain": [
              "<IPython.core.display.Javascript object>"
            ],
            "application/javascript": [
              "download(\"download_a3598780-14b4-4e04-ab9c-250a686d17b5\", \"mr.zip\", 3626715)"
            ]
          },
          "metadata": {}
        }
      ]
    },
    {
      "cell_type": "code",
      "source": [
        "# Download the SR files\n",
        "\n",
        "from google.colab import files\n",
        "!zip -r /content/sr.zip /content/sr\n",
        "files.download(\"/content/sr.zip\")"
      ],
      "metadata": {
        "colab": {
          "base_uri": "https://localhost:8080/",
          "height": 1000
        },
        "id": "0679td4blzIs",
        "outputId": "21adb7dd-8b49-4e33-a1f8-d23c2646d635"
      },
      "execution_count": 41,
      "outputs": [
        {
          "output_type": "stream",
          "name": "stdout",
          "text": [
            "  adding: content/sr/ (stored 0%)\n",
            "  adding: content/sr/ProstateX-0018/ (stored 0%)\n",
            "  adding: content/sr/ProstateX-0018/ProstateX-0018_1.3.6.1.4.1.14519.5.2.1.7311.5101.299325488555858809740695924568.dcm (deflated 61%)\n",
            "  adding: content/sr/ProstateX-0004/ (stored 0%)\n",
            "  adding: content/sr/ProstateX-0004/ProstateX-0004_1.3.6.1.4.1.14519.5.2.1.7311.5101.206828891270520544417996275680.dcm (deflated 60%)\n",
            "  adding: content/sr/ProstateX-0194/ (stored 0%)\n",
            "  adding: content/sr/ProstateX-0194/ProstateX-0194_1.3.6.1.4.1.14519.5.2.1.7311.5101.281831681044018699292482474399.dcm (deflated 61%)\n",
            "  adding: content/sr/ProstateX-0298/ (stored 0%)\n",
            "  adding: content/sr/ProstateX-0298/ProstateX-0298_1.3.6.1.4.1.14519.5.2.1.7310.5101.113377191345010791232121730636.dcm (deflated 65%)\n",
            "  adding: content/sr/ProstateX-0099/ (stored 0%)\n",
            "  adding: content/sr/ProstateX-0099/ProstateX-0099_1.3.6.1.4.1.14519.5.2.1.7311.5101.309312107560449116639832256098.dcm (deflated 67%)\n",
            "  adding: content/sr/ProstateX-0099/ProstateX-0099_1.3.6.1.4.1.14519.5.2.1.7311.5101.296514716938564243315383634940.dcm (deflated 67%)\n",
            "  adding: content/sr/ProstateX-0323/ (stored 0%)\n",
            "  adding: content/sr/ProstateX-0323/ProstateX-0323_1.3.6.1.4.1.14519.5.2.1.7310.5101.260386623049829078909727548239.dcm (deflated 65%)\n",
            "  adding: content/sr/ProstateX-0337/ (stored 0%)\n",
            "  adding: content/sr/ProstateX-0337/ProstateX-0337_1.3.6.1.4.1.14519.5.2.1.7310.5101.182925643588046970694192241999.dcm (deflated 65%)\n",
            "  adding: content/sr/ProstateX-0157/ (stored 0%)\n",
            "  adding: content/sr/ProstateX-0157/ProstateX-0157_1.3.6.1.4.1.14519.5.2.1.7311.5101.399128839365313172173765475191.dcm (deflated 67%)\n",
            "  adding: content/sr/ProstateX-0178/ (stored 0%)\n",
            "  adding: content/sr/ProstateX-0178/ProstateX-0178_1.3.6.1.4.1.14519.5.2.1.7311.5101.304059090360577635696141047871.dcm (deflated 60%)\n",
            "  adding: content/sr/ProstateX-0200/ (stored 0%)\n",
            "  adding: content/sr/ProstateX-0200/ProstateX-0200_1.3.6.1.4.1.14519.5.2.1.7311.5101.771777989547133361685142176372.dcm (deflated 67%)\n",
            "  adding: content/sr/ProstateX-0200/ProstateX-0200_1.3.6.1.4.1.14519.5.2.1.7311.5101.261628370676428418409614548364.dcm (deflated 67%)\n",
            "  adding: content/sr/ProstateX-0095/ (stored 0%)\n",
            "  adding: content/sr/ProstateX-0095/ProstateX-0095_1.3.6.1.4.1.14519.5.2.1.7311.5101.173092772623542426232778225856.dcm (deflated 67%)\n",
            "  adding: content/sr/ProstateX-0095/ProstateX-0095_1.3.6.1.4.1.14519.5.2.1.7311.5101.132833241684519074400077929213.dcm (deflated 67%)\n",
            "  adding: content/sr/ProstateX-0100/ (stored 0%)\n",
            "  adding: content/sr/ProstateX-0100/ProstateX-0100_1.3.6.1.4.1.14519.5.2.1.7311.5101.937831815028124449735398487309.dcm (deflated 72%)\n",
            "  adding: content/sr/ProstateX-0013/ (stored 0%)\n",
            "  adding: content/sr/ProstateX-0013/ProstateX-0013_1.3.6.1.4.1.14519.5.2.1.7311.5101.171893377598642682694687211799.dcm (deflated 60%)\n",
            "  adding: content/sr/ProstateX-0040/ (stored 0%)\n",
            "  adding: content/sr/ProstateX-0040/ProstateX-0040_1.3.6.1.4.1.14519.5.2.1.7311.5101.129497959517350113675496714576.dcm (deflated 72%)\n",
            "  adding: content/sr/ProstateX-0129/ (stored 0%)\n",
            "  adding: content/sr/ProstateX-0129/ProstateX-0129_1.3.6.1.4.1.14519.5.2.1.7311.5101.245315537897059083725251245833.dcm (deflated 61%)\n",
            "  adding: content/sr/ProstateX-0039/ (stored 0%)\n",
            "  adding: content/sr/ProstateX-0039/ProstateX-0039_1.3.6.1.4.1.14519.5.2.1.7311.5101.765597225260617532326624425795.dcm (deflated 60%)\n",
            "  adding: content/sr/ProstateX-0097/ (stored 0%)\n",
            "  adding: content/sr/ProstateX-0097/ProstateX-0097_1.3.6.1.4.1.14519.5.2.1.7311.5101.146003799124729230636410374869.dcm (deflated 61%)\n",
            "  adding: content/sr/ProstateX-0097/ProstateX-0097_1.3.6.1.4.1.14519.5.2.1.7311.5101.320094868363621613621699169456.dcm (deflated 60%)\n",
            "  adding: content/sr/ProstateX-0273/ (stored 0%)\n",
            "  adding: content/sr/ProstateX-0273/ProstateX-0273_1.3.6.1.4.1.14519.5.2.1.7310.5101.292685299330397663566681891219.dcm (deflated 65%)\n",
            "  adding: content/sr/ProstateX-0301/ (stored 0%)\n",
            "  adding: content/sr/ProstateX-0301/ProstateX-0301_1.3.6.1.4.1.14519.5.2.1.7310.5101.177948174060531009774271918441.dcm (deflated 65%)\n",
            "  adding: content/sr/ProstateX-0073/ (stored 0%)\n",
            "  adding: content/sr/ProstateX-0073/ProstateX-0073_1.3.6.1.4.1.14519.5.2.1.7311.5101.234155516911467674069297383539.dcm (deflated 60%)\n",
            "  adding: content/sr/ProstateX-0012/ (stored 0%)\n",
            "  adding: content/sr/ProstateX-0012/ProstateX-0012_1.3.6.1.4.1.14519.5.2.1.7311.5101.179061211347773359586192609623.dcm (deflated 67%)\n",
            "  adding: content/sr/ProstateX-0132/ (stored 0%)\n",
            "  adding: content/sr/ProstateX-0132/ProstateX-0132_1.3.6.1.4.1.14519.5.2.1.7311.5101.235418344526749984963370142986.dcm (deflated 60%)\n",
            "  adding: content/sr/ProstateX-0132/ProstateX-0132_1.3.6.1.4.1.14519.5.2.1.7311.5101.315655107351765121146095905436.dcm (deflated 60%)\n",
            "  adding: content/sr/ProstateX-0134/ (stored 0%)\n",
            "  adding: content/sr/ProstateX-0134/ProstateX-0134_1.3.6.1.4.1.14519.5.2.1.7311.5101.149728379277305470281540696443.dcm (deflated 67%)\n",
            "  adding: content/sr/ProstateX-0312/ (stored 0%)\n",
            "  adding: content/sr/ProstateX-0312/ProstateX-0312_1.3.6.1.4.1.14519.5.2.1.7310.5101.216861245922124633435932072451.dcm (deflated 65%)\n",
            "  adding: content/sr/ProstateX-0017/ (stored 0%)\n",
            "  adding: content/sr/ProstateX-0017/ProstateX-0017_1.3.6.1.4.1.14519.5.2.1.7311.5101.332787653334717830086813339653.dcm (deflated 60%)\n",
            "  adding: content/sr/ProstateX-0185/ (stored 0%)\n",
            "  adding: content/sr/ProstateX-0185/ProstateX-0185_1.3.6.1.4.1.14519.5.2.1.7311.5101.499535836520877428039158411409.dcm (deflated 60%)\n",
            "  adding: content/sr/ProstateX-0185/ProstateX-0185_1.3.6.1.4.1.14519.5.2.1.7311.5101.151926116701993828339629854929.dcm (deflated 60%)\n",
            "  adding: content/sr/ProstateX-0237/ (stored 0%)\n",
            "  adding: content/sr/ProstateX-0237/ProstateX-0237_1.3.6.1.4.1.14519.5.2.1.7310.5101.956112472248083314673885129046.dcm (deflated 65%)\n",
            "  adding: content/sr/ProstateX-0015/ (stored 0%)\n",
            "  adding: content/sr/ProstateX-0015/ProstateX-0015_1.3.6.1.4.1.14519.5.2.1.7311.5101.287403883614425048490255475041.dcm (deflated 61%)\n",
            "  adding: content/sr/ProstateX-0081/ (stored 0%)\n",
            "  adding: content/sr/ProstateX-0081/ProstateX-0081_1.3.6.1.4.1.14519.5.2.1.7311.5101.197997921761562294002559600858.dcm (deflated 60%)\n",
            "  adding: content/sr/ProstateX-0222/ (stored 0%)\n",
            "  adding: content/sr/ProstateX-0222/ProstateX-0222_1.3.6.1.4.1.14519.5.2.1.7310.5101.227146260603402787665368997183.dcm (deflated 65%)\n",
            "  adding: content/sr/ProstateX-0065/ (stored 0%)\n",
            "  adding: content/sr/ProstateX-0065/ProstateX-0065_1.3.6.1.4.1.14519.5.2.1.7311.5101.146422450520894659910416624671.dcm (deflated 67%)\n",
            "  adding: content/sr/ProstateX-0255/ (stored 0%)\n",
            "  adding: content/sr/ProstateX-0255/ProstateX-0255_1.3.6.1.4.1.14519.5.2.1.7310.5101.178558909086432531377913596350.dcm (deflated 70%)\n",
            "  adding: content/sr/ProstateX-0118/ (stored 0%)\n",
            "  adding: content/sr/ProstateX-0118/ProstateX-0118_1.3.6.1.4.1.14519.5.2.1.7311.5101.156910737340231640626298466189.dcm (deflated 67%)\n",
            "  adding: content/sr/ProstateX-0219/ (stored 0%)\n",
            "  adding: content/sr/ProstateX-0219/ProstateX-0219_1.3.6.1.4.1.14519.5.2.1.7310.5101.156355474235536930096765953749.dcm (deflated 65%)\n",
            "  adding: content/sr/ProstateX-0313/ (stored 0%)\n",
            "  adding: content/sr/ProstateX-0313/ProstateX-0313_1.3.6.1.4.1.14519.5.2.1.7310.5101.173246915513533365999480149638.dcm (deflated 70%)\n",
            "  adding: content/sr/ProstateX-0269/ (stored 0%)\n",
            "  adding: content/sr/ProstateX-0269/ProstateX-0269_1.3.6.1.4.1.14519.5.2.1.7310.5101.312129043927692347659304195085.dcm (deflated 65%)\n",
            "  adding: content/sr/ProstateX-0105/ (stored 0%)\n",
            "  adding: content/sr/ProstateX-0105/ProstateX-0105_1.3.6.1.4.1.14519.5.2.1.7311.5101.629057884696444074281659410025.dcm (deflated 72%)\n",
            "  adding: content/sr/ProstateX-0105/ProstateX-0105_1.3.6.1.4.1.14519.5.2.1.7311.5101.867874221606636863648073982153.dcm (deflated 72%)\n",
            "  adding: content/sr/ProstateX-0070/ (stored 0%)\n",
            "  adding: content/sr/ProstateX-0070/ProstateX-0070_1.3.6.1.4.1.14519.5.2.1.7311.5101.186553403053805718209125341361.dcm (deflated 67%)\n",
            "  adding: content/sr/ProstateX-0332/ (stored 0%)\n",
            "  adding: content/sr/ProstateX-0332/ProstateX-0332_1.3.6.1.4.1.14519.5.2.1.7310.5101.214784992900164494786248522083.dcm (deflated 74%)\n",
            "  adding: content/sr/ProstateX-0108/ (stored 0%)\n",
            "  adding: content/sr/ProstateX-0108/ProstateX-0108_1.3.6.1.4.1.14519.5.2.1.7311.5101.550442475515580084796174510739.dcm (deflated 67%)\n",
            "  adding: content/sr/ProstateX-0146/ (stored 0%)\n",
            "  adding: content/sr/ProstateX-0146/ProstateX-0146_1.3.6.1.4.1.14519.5.2.1.7311.5101.374654359343007468165376476067.dcm (deflated 60%)\n",
            "  adding: content/sr/ProstateX-0170/ (stored 0%)\n",
            "  adding: content/sr/ProstateX-0170/ProstateX-0170_1.3.6.1.4.1.14519.5.2.1.7311.5101.357054868848226402548612686613.dcm (deflated 68%)\n",
            "  adding: content/sr/ProstateX-0270/ (stored 0%)\n",
            "  adding: content/sr/ProstateX-0270/ProstateX-0270_1.3.6.1.4.1.14519.5.2.1.7310.5101.266299213163755410817772974453.dcm (deflated 65%)\n",
            "  adding: content/sr/ProstateX-0196/ (stored 0%)\n",
            "  adding: content/sr/ProstateX-0196/ProstateX-0196_1.3.6.1.4.1.14519.5.2.1.7311.5101.928012760939767746081753156593.dcm (deflated 74%)\n",
            "  adding: content/sr/ProstateX-0189/ (stored 0%)\n",
            "  adding: content/sr/ProstateX-0189/ProstateX-0189_1.3.6.1.4.1.14519.5.2.1.7311.5101.245643584452698738579432409288.dcm (deflated 73%)\n",
            "  adding: content/sr/ProstateX-0264/ (stored 0%)\n",
            "  adding: content/sr/ProstateX-0264/ProstateX-0264_1.3.6.1.4.1.14519.5.2.1.7310.5101.262265771460895312003009125052.dcm (deflated 74%)\n",
            "  adding: content/sr/ProstateX-0294/ (stored 0%)\n",
            "  adding: content/sr/ProstateX-0294/ProstateX-0294_1.3.6.1.4.1.14519.5.2.1.7310.5101.184877180818859097625423149351.dcm (deflated 65%)\n",
            "  adding: content/sr/ProstateX-0164/ (stored 0%)\n",
            "  adding: content/sr/ProstateX-0164/ProstateX-0164_1.3.6.1.4.1.14519.5.2.1.7311.5101.606554985338789812728613003926.dcm (deflated 61%)\n",
            "  adding: content/sr/ProstateX-0218/ (stored 0%)\n",
            "  adding: content/sr/ProstateX-0218/ProstateX-0218_1.3.6.1.4.1.14519.5.2.1.7310.5101.160333914331334724030935809906.dcm (deflated 65%)\n",
            "  adding: content/sr/ProstateX-0231/ (stored 0%)\n",
            "  adding: content/sr/ProstateX-0231/ProstateX-0231_1.3.6.1.4.1.14519.5.2.1.7310.5101.124263126829946106730346760690.dcm (deflated 70%)\n",
            "  adding: content/sr/ProstateX-0042/ (stored 0%)\n",
            "  adding: content/sr/ProstateX-0042/ProstateX-0042_1.3.6.1.4.1.14519.5.2.1.7311.5101.123964260856155181201635028074.dcm (deflated 60%)\n",
            "  adding: content/sr/ProstateX-0042/ProstateX-0042_1.3.6.1.4.1.14519.5.2.1.7311.5101.143564387821383173303424260576.dcm (deflated 60%)\n",
            "  adding: content/sr/ProstateX-0111/ (stored 0%)\n",
            "  adding: content/sr/ProstateX-0111/ProstateX-0111_1.3.6.1.4.1.14519.5.2.1.7311.5101.312442050391027773578890036831.dcm (deflated 61%)\n",
            "  adding: content/sr/ProstateX-0242/ (stored 0%)\n",
            "  adding: content/sr/ProstateX-0242/ProstateX-0242_1.3.6.1.4.1.14519.5.2.1.7310.5101.189831564233906493518193184443.dcm (deflated 70%)\n",
            "  adding: content/sr/ProstateX-0234/ (stored 0%)\n",
            "  adding: content/sr/ProstateX-0234/ProstateX-0234_1.3.6.1.4.1.14519.5.2.1.7310.5101.304316830256441169563562899562.dcm (deflated 65%)\n",
            "  adding: content/sr/ProstateX-0160/ (stored 0%)\n",
            "  adding: content/sr/ProstateX-0160/ProstateX-0160_1.3.6.1.4.1.14519.5.2.1.7311.5101.656275115282319187088015845543.dcm (deflated 68%)\n",
            "  adding: content/sr/ProstateX-0160/ProstateX-0160_1.3.6.1.4.1.14519.5.2.1.7311.5101.104360316042570322918609119489.dcm (deflated 68%)\n",
            "  adding: content/sr/ProstateX-0156/ (stored 0%)\n",
            "  adding: content/sr/ProstateX-0156/ProstateX-0156_1.3.6.1.4.1.14519.5.2.1.7311.5101.785303327607349403635620326985.dcm (deflated 60%)\n",
            "  adding: content/sr/ProstateX-0112/ (stored 0%)\n",
            "  adding: content/sr/ProstateX-0112/ProstateX-0112_1.3.6.1.4.1.14519.5.2.1.7311.5101.322192860849906453257530108507.dcm (deflated 60%)\n",
            "  adding: content/sr/ProstateX-0112/ProstateX-0112_1.3.6.1.4.1.14519.5.2.1.7311.5101.113779685300839787361676127393.dcm (deflated 60%)\n",
            "  adding: content/sr/ProstateX-0198/ (stored 0%)\n",
            "  adding: content/sr/ProstateX-0198/ProstateX-0198_1.3.6.1.4.1.14519.5.2.1.7311.5101.333332554059735467244825907777.dcm (deflated 61%)\n",
            "  adding: content/sr/ProstateX-0142/ (stored 0%)\n",
            "  adding: content/sr/ProstateX-0142/ProstateX-0142_1.3.6.1.4.1.14519.5.2.1.7311.5101.236967836312224538274213979128.dcm (deflated 72%)\n",
            "  adding: content/sr/ProstateX-0187/ (stored 0%)\n",
            "  adding: content/sr/ProstateX-0187/ProstateX-0187_1.3.6.1.4.1.14519.5.2.1.7311.5101.180897290010820067884877867369.dcm (deflated 72%)\n",
            "  adding: content/sr/ProstateX-0030/ (stored 0%)\n",
            "  adding: content/sr/ProstateX-0030/ProstateX-0030_1.3.6.1.4.1.14519.5.2.1.7311.5101.732569288876643404213425491014.dcm (deflated 60%)\n",
            "  adding: content/sr/ProstateX-0254/ (stored 0%)\n",
            "  adding: content/sr/ProstateX-0254/ProstateX-0254_1.3.6.1.4.1.14519.5.2.1.7310.5101.107276353018221365492863559094.dcm (deflated 70%)\n",
            "  adding: content/sr/ProstateX-0027/ (stored 0%)\n",
            "  adding: content/sr/ProstateX-0027/ProstateX-0027_1.3.6.1.4.1.14519.5.2.1.7311.5101.123270790346808222960556330331.dcm (deflated 60%)\n",
            "  adding: content/sr/ProstateX-0246/ (stored 0%)\n",
            "  adding: content/sr/ProstateX-0246/ProstateX-0246_1.3.6.1.4.1.14519.5.2.1.7310.5101.403295706346277492785652634059.dcm (deflated 65%)\n",
            "  adding: content/sr/ProstateX-0230/ (stored 0%)\n",
            "  adding: content/sr/ProstateX-0230/ProstateX-0230_1.3.6.1.4.1.14519.5.2.1.7310.5101.111501746803373227848293187172.dcm (deflated 70%)\n",
            "  adding: content/sr/ProstateX-0158/ (stored 0%)\n",
            "  adding: content/sr/ProstateX-0158/ProstateX-0158_1.3.6.1.4.1.14519.5.2.1.7311.5101.104912399908126315922787192411.dcm (deflated 60%)\n",
            "  adding: content/sr/ProstateX-0271/ (stored 0%)\n",
            "  adding: content/sr/ProstateX-0271/ProstateX-0271_1.3.6.1.4.1.14519.5.2.1.7310.5101.195247086269041979647370870072.dcm (deflated 65%)\n",
            "  adding: content/sr/ProstateX-0283/ (stored 0%)\n",
            "  adding: content/sr/ProstateX-0283/ProstateX-0283_1.3.6.1.4.1.14519.5.2.1.7310.5101.254733956131960822463239274141.dcm (deflated 70%)\n",
            "  adding: content/sr/ProstateX-0085/ (stored 0%)\n",
            "  adding: content/sr/ProstateX-0085/ProstateX-0085_1.3.6.1.4.1.14519.5.2.1.7311.5101.211555650428345841697929161230.dcm (deflated 76%)\n",
            "  adding: content/sr/ProstateX-0305/ (stored 0%)\n",
            "  adding: content/sr/ProstateX-0305/ProstateX-0305_1.3.6.1.4.1.14519.5.2.1.7310.5101.662798695442251537947237054156.dcm (deflated 65%)\n",
            "  adding: content/sr/ProstateX-0144/ (stored 0%)\n",
            "  adding: content/sr/ProstateX-0144/ProstateX-0144_1.3.6.1.4.1.14519.5.2.1.7311.5101.813054628707353396925223754592.dcm (deflated 73%)\n",
            "  adding: content/sr/ProstateX-0167/ (stored 0%)\n",
            "  adding: content/sr/ProstateX-0167/ProstateX-0167_1.3.6.1.4.1.14519.5.2.1.7311.5101.278678499727921221969809926050.dcm (deflated 60%)\n",
            "  adding: content/sr/ProstateX-0212/ (stored 0%)\n",
            "  adding: content/sr/ProstateX-0212/ProstateX-0212_1.3.6.1.4.1.14519.5.2.1.7310.5101.141778792922424766324228695183.dcm (deflated 70%)\n",
            "  adding: content/sr/ProstateX-0177/ (stored 0%)\n",
            "  adding: content/sr/ProstateX-0177/ProstateX-0177_1.3.6.1.4.1.14519.5.2.1.7311.5101.318660391556220519803669869815.dcm (deflated 72%)\n",
            "  adding: content/sr/ProstateX-0067/ (stored 0%)\n",
            "  adding: content/sr/ProstateX-0067/ProstateX-0067_1.3.6.1.4.1.14519.5.2.1.7311.5101.192468235215257148984036683918.dcm (deflated 72%)\n",
            "  adding: content/sr/ProstateX-0267/ (stored 0%)\n",
            "  adding: content/sr/ProstateX-0267/ProstateX-0267_1.3.6.1.4.1.14519.5.2.1.7310.5101.173752379288468572789564980298.dcm (deflated 65%)\n",
            "  adding: content/sr/ProstateX-0182/ (stored 0%)\n",
            "  adding: content/sr/ProstateX-0182/ProstateX-0182_1.3.6.1.4.1.14519.5.2.1.7311.5101.165636727522505811947315188478.dcm (deflated 61%)\n",
            "  adding: content/sr/ProstateX-0125/ (stored 0%)\n",
            "  adding: content/sr/ProstateX-0125/ProstateX-0125_1.3.6.1.4.1.14519.5.2.1.7311.5101.192880613789296100694211103696.dcm (deflated 61%)\n",
            "  adding: content/sr/ProstateX-0125/ProstateX-0125_1.3.6.1.4.1.14519.5.2.1.7311.5101.242424835264181527414562151046.dcm (deflated 60%)\n",
            "  adding: content/sr/ProstateX-0284/ (stored 0%)\n",
            "  adding: content/sr/ProstateX-0284/ProstateX-0284_1.3.6.1.4.1.14519.5.2.1.7310.5101.255381456499897319242934665403.dcm (deflated 65%)\n",
            "  adding: content/sr/ProstateX-0166/ (stored 0%)\n",
            "  adding: content/sr/ProstateX-0166/ProstateX-0166_1.3.6.1.4.1.14519.5.2.1.7311.5101.366179132680001842620860741397.dcm (deflated 60%)\n",
            "  adding: content/sr/ProstateX-0166/ProstateX-0166_1.3.6.1.4.1.14519.5.2.1.7311.5101.526460710084012176738138857947.dcm (deflated 60%)\n",
            "  adding: content/sr/ProstateX-0249/ (stored 0%)\n",
            "  adding: content/sr/ProstateX-0249/ProstateX-0249_1.3.6.1.4.1.14519.5.2.1.7310.5101.234424615181029312892423746307.dcm (deflated 65%)\n",
            "  adding: content/sr/ProstateX-0038/ (stored 0%)\n",
            "  adding: content/sr/ProstateX-0038/ProstateX-0038_1.3.6.1.4.1.14519.5.2.1.7311.5101.187284638098559593208671789518.dcm (deflated 72%)\n",
            "  adding: content/sr/ProstateX-0137/ (stored 0%)\n",
            "  adding: content/sr/ProstateX-0137/ProstateX-0137_1.3.6.1.4.1.14519.5.2.1.7311.5101.159765650464968735731209309869.dcm (deflated 73%)\n",
            "  adding: content/sr/ProstateX-0003/ (stored 0%)\n",
            "  adding: content/sr/ProstateX-0003/ProstateX-0003_1.3.6.1.4.1.14519.5.2.1.7311.5101.320508777856431308769740730967.dcm (deflated 68%)\n",
            "  adding: content/sr/ProstateX-0020/ (stored 0%)\n",
            "  adding: content/sr/ProstateX-0020/ProstateX-0020_1.3.6.1.4.1.14519.5.2.1.7311.5101.109832262779867794170417053903.dcm (deflated 60%)\n",
            "  adding: content/sr/ProstateX-0227/ (stored 0%)\n",
            "  adding: content/sr/ProstateX-0227/ProstateX-0227_1.3.6.1.4.1.14519.5.2.1.7310.5101.491189432685088911046133238188.dcm (deflated 70%)\n",
            "  adding: content/sr/ProstateX-0139/ (stored 0%)\n",
            "  adding: content/sr/ProstateX-0139/ProstateX-0139_1.3.6.1.4.1.14519.5.2.1.7311.5101.296953193106259799632836057549.dcm (deflated 73%)\n",
            "  adding: content/sr/ProstateX-0324/ (stored 0%)\n",
            "  adding: content/sr/ProstateX-0324/ProstateX-0324_1.3.6.1.4.1.14519.5.2.1.7310.5101.821310035514230779305100198083.dcm (deflated 65%)\n",
            "  adding: content/sr/ProstateX-0011/ (stored 0%)\n",
            "  adding: content/sr/ProstateX-0011/ProstateX-0011_1.3.6.1.4.1.14519.5.2.1.7311.5101.158939653047507686306327000502.dcm (deflated 60%)\n",
            "  adding: content/sr/ProstateX-0011/ProstateX-0011_1.3.6.1.4.1.14519.5.2.1.7311.5101.186070864519714822595685748529.dcm (deflated 60%)\n",
            "  adding: content/sr/ProstateX-0044/ (stored 0%)\n",
            "  adding: content/sr/ProstateX-0044/ProstateX-0044_1.3.6.1.4.1.14519.5.2.1.7311.5101.195161857226628695667807122636.dcm (deflated 60%)\n",
            "  adding: content/sr/ProstateX-0239/ (stored 0%)\n",
            "  adding: content/sr/ProstateX-0239/ProstateX-0239_1.3.6.1.4.1.14519.5.2.1.7310.5101.232588581229371671938219739171.dcm (deflated 65%)\n",
            "  adding: content/sr/ProstateX-0223/ (stored 0%)\n",
            "  adding: content/sr/ProstateX-0223/ProstateX-0223_1.3.6.1.4.1.14519.5.2.1.7310.5101.285377561429881721467174887978.dcm (deflated 70%)\n",
            "  adding: content/sr/ProstateX-0060/ (stored 0%)\n",
            "  adding: content/sr/ProstateX-0060/ProstateX-0060_1.3.6.1.4.1.14519.5.2.1.7311.5101.941591881515408480538274555272.dcm (deflated 60%)\n",
            "  adding: content/sr/ProstateX-0330/ (stored 0%)\n",
            "  adding: content/sr/ProstateX-0330/ProstateX-0330_1.3.6.1.4.1.14519.5.2.1.7310.5101.249690269105067720695516207961.dcm (deflated 70%)\n",
            "  adding: content/sr/ProstateX-0275/ (stored 0%)\n",
            "  adding: content/sr/ProstateX-0275/ProstateX-0275_1.3.6.1.4.1.14519.5.2.1.7310.5101.128915395083536972793214199559.dcm (deflated 65%)\n",
            "  adding: content/sr/ProstateX-0053/ (stored 0%)\n",
            "  adding: content/sr/ProstateX-0053/ProstateX-0053_1.3.6.1.4.1.14519.5.2.1.7311.5101.134494516596506286173198983699.dcm (deflated 61%)\n",
            "  adding: content/sr/ProstateX-0221/ (stored 0%)\n",
            "  adding: content/sr/ProstateX-0221/ProstateX-0221_1.3.6.1.4.1.14519.5.2.1.7310.5101.115316195341669925573362136950.dcm (deflated 65%)\n",
            "  adding: content/sr/ProstateX-0109/ (stored 0%)\n",
            "  adding: content/sr/ProstateX-0109/ProstateX-0109_1.3.6.1.4.1.14519.5.2.1.7311.5101.915211281684168977118704306498.dcm (deflated 68%)\n",
            "  adding: content/sr/ProstateX-0076/ (stored 0%)\n",
            "  adding: content/sr/ProstateX-0076/ProstateX-0076_1.3.6.1.4.1.14519.5.2.1.7311.5101.334326985258868181144176796864.dcm (deflated 61%)\n",
            "  adding: content/sr/ProstateX-0047/ (stored 0%)\n",
            "  adding: content/sr/ProstateX-0047/ProstateX-0047_1.3.6.1.4.1.14519.5.2.1.7311.5101.177297063809065385024860008775.dcm (deflated 60%)\n",
            "  adding: content/sr/ProstateX-0041/ (stored 0%)\n",
            "  adding: content/sr/ProstateX-0041/ProstateX-0041_1.3.6.1.4.1.14519.5.2.1.7311.5101.239707679629501768790276428232.dcm (deflated 60%)\n",
            "  adding: content/sr/ProstateX-0181/ (stored 0%)\n",
            "  adding: content/sr/ProstateX-0181/ProstateX-0181_1.3.6.1.4.1.14519.5.2.1.7311.5101.100502269904864466940152348063.dcm (deflated 61%)\n",
            "  adding: content/sr/ProstateX-0181/ProstateX-0181_1.3.6.1.4.1.14519.5.2.1.7311.5101.240252995301566877278824822004.dcm (deflated 60%)\n",
            "  adding: content/sr/ProstateX-0034/ (stored 0%)\n",
            "  adding: content/sr/ProstateX-0034/ProstateX-0034_1.3.6.1.4.1.14519.5.2.1.7311.5101.127224954660931218948108374578.dcm (deflated 60%)\n",
            "  adding: content/sr/ProstateX-0034/ProstateX-0034_1.3.6.1.4.1.14519.5.2.1.7311.5101.118179781979766295284796608573.dcm (deflated 60%)\n",
            "  adding: content/sr/ProstateX-0176/ (stored 0%)\n",
            "  adding: content/sr/ProstateX-0176/ProstateX-0176_1.3.6.1.4.1.14519.5.2.1.7311.5101.166051030982074895918248397964.dcm (deflated 68%)\n",
            "  adding: content/sr/ProstateX-0176/ProstateX-0176_1.3.6.1.4.1.14519.5.2.1.7311.5101.666342438883185464672112795625.dcm (deflated 68%)\n",
            "  adding: content/sr/ProstateX-0110/ (stored 0%)\n",
            "  adding: content/sr/ProstateX-0110/ProstateX-0110_1.3.6.1.4.1.14519.5.2.1.7311.5101.972587624360040843943663321466.dcm (deflated 67%)\n",
            "  adding: content/sr/ProstateX-0066/ (stored 0%)\n",
            "  adding: content/sr/ProstateX-0066/ProstateX-0066_1.3.6.1.4.1.14519.5.2.1.7311.5101.252385246988168654915352850239.dcm (deflated 60%)\n",
            "  adding: content/sr/ProstateX-0302/ (stored 0%)\n",
            "  adding: content/sr/ProstateX-0302/ProstateX-0302_1.3.6.1.4.1.14519.5.2.1.7310.5101.250251056207504564095117070968.dcm (deflated 70%)\n",
            "  adding: content/sr/ProstateX-0155/ (stored 0%)\n",
            "  adding: content/sr/ProstateX-0155/ProstateX-0155_1.3.6.1.4.1.14519.5.2.1.7311.5101.803910368736625694091372932002.dcm (deflated 60%)\n",
            "  adding: content/sr/ProstateX-0155/ProstateX-0155_1.3.6.1.4.1.14519.5.2.1.7311.5101.117006719340609137078363795861.dcm (deflated 60%)\n",
            "  adding: content/sr/ProstateX-0195/ (stored 0%)\n",
            "  adding: content/sr/ProstateX-0195/ProstateX-0195_1.3.6.1.4.1.14519.5.2.1.7311.5101.855474707794645817581504887564.dcm (deflated 61%)\n",
            "  adding: content/sr/ProstateX-0343/ (stored 0%)\n",
            "  adding: content/sr/ProstateX-0343/ProstateX-0343_1.3.6.1.4.1.14519.5.2.1.7310.5101.866134128742207219465271413458.dcm (deflated 65%)\n",
            "  adding: content/sr/ProstateX-0045/ (stored 0%)\n",
            "  adding: content/sr/ProstateX-0045/ProstateX-0045_1.3.6.1.4.1.14519.5.2.1.7311.5101.327793082899258021167131498907.dcm (deflated 60%)\n",
            "  adding: content/sr/ProstateX-0080/ (stored 0%)\n",
            "  adding: content/sr/ProstateX-0080/ProstateX-0080_1.3.6.1.4.1.14519.5.2.1.7311.5101.341352097107587679521590034290.dcm (deflated 60%)\n",
            "  adding: content/sr/ProstateX-0059/ (stored 0%)\n",
            "  adding: content/sr/ProstateX-0059/ProstateX-0059_1.3.6.1.4.1.14519.5.2.1.7311.5101.323608747897754776819167940278.dcm (deflated 60%)\n",
            "  adding: content/sr/ProstateX-0043/ (stored 0%)\n",
            "  adding: content/sr/ProstateX-0043/ProstateX-0043_1.3.6.1.4.1.14519.5.2.1.7311.5101.267771623383410636497650745630.dcm (deflated 60%)\n",
            "  adding: content/sr/ProstateX-0202/ (stored 0%)\n",
            "  adding: content/sr/ProstateX-0202/ProstateX-0202_1.3.6.1.4.1.14519.5.2.1.7311.5101.726084685263459026564544343194.dcm (deflated 67%)\n",
            "  adding: content/sr/ProstateX-0205/ (stored 0%)\n",
            "  adding: content/sr/ProstateX-0205/ProstateX-0205_1.3.6.1.4.1.14519.5.2.1.7311.5101.190533169444114211394461562240.dcm (deflated 60%)\n",
            "  adding: content/sr/ProstateX-0268/ (stored 0%)\n",
            "  adding: content/sr/ProstateX-0268/ProstateX-0268_1.3.6.1.4.1.14519.5.2.1.7310.5101.178902935708728771480570387341.dcm (deflated 70%)\n",
            "  adding: content/sr/ProstateX-0340/ (stored 0%)\n",
            "  adding: content/sr/ProstateX-0340/ProstateX-0340_1.3.6.1.4.1.14519.5.2.1.7310.5101.127076787998581344993055912043.dcm (deflated 70%)\n",
            "  adding: content/sr/ProstateX-0101/ (stored 0%)\n",
            "  adding: content/sr/ProstateX-0101/ProstateX-0101_1.3.6.1.4.1.14519.5.2.1.7311.5101.163856857463329526073327923224.dcm (deflated 67%)\n",
            "  adding: content/sr/ProstateX-0101/ProstateX-0101_1.3.6.1.4.1.14519.5.2.1.7311.5101.939940825655396889012027914688.dcm (deflated 67%)\n",
            "  adding: content/sr/ProstateX-0061/ (stored 0%)\n",
            "  adding: content/sr/ProstateX-0061/ProstateX-0061_1.3.6.1.4.1.14519.5.2.1.7311.5101.388037181027626720828515580230.dcm (deflated 60%)\n",
            "  adding: content/sr/ProstateX-0061/ProstateX-0061_1.3.6.1.4.1.14519.5.2.1.7311.5101.117787454837907188090392680606.dcm (deflated 60%)\n",
            "  adding: content/sr/ProstateX-0316/ (stored 0%)\n",
            "  adding: content/sr/ProstateX-0316/ProstateX-0316_1.3.6.1.4.1.14519.5.2.1.7310.5101.174218153922133372206197884491.dcm (deflated 65%)\n",
            "  adding: content/sr/ProstateX-0287/ (stored 0%)\n",
            "  adding: content/sr/ProstateX-0287/ProstateX-0287_1.3.6.1.4.1.14519.5.2.1.7310.5101.235435378961283096677653331214.dcm (deflated 70%)\n",
            "  adding: content/sr/ProstateX-0123/ (stored 0%)\n",
            "  adding: content/sr/ProstateX-0123/ProstateX-0123_1.3.6.1.4.1.14519.5.2.1.7311.5101.235341885112539313032416621161.dcm (deflated 60%)\n",
            "  adding: content/sr/ProstateX-0123/ProstateX-0123_1.3.6.1.4.1.14519.5.2.1.7311.5101.254062829104359292048024318809.dcm (deflated 60%)\n",
            "  adding: content/sr/ProstateX-0063/ (stored 0%)\n",
            "  adding: content/sr/ProstateX-0063/ProstateX-0063_1.3.6.1.4.1.14519.5.2.1.7311.5101.325859894329765410277635438195.dcm (deflated 60%)\n",
            "  adding: content/sr/ProstateX-0244/ (stored 0%)\n",
            "  adding: content/sr/ProstateX-0244/ProstateX-0244_1.3.6.1.4.1.14519.5.2.1.7310.5101.306748150836286513093400468929.dcm (deflated 65%)\n",
            "  adding: content/sr/ProstateX-0069/ (stored 0%)\n",
            "  adding: content/sr/ProstateX-0069/ProstateX-0069_1.3.6.1.4.1.14519.5.2.1.7311.5101.266720221212035669954581062639.dcm (deflated 61%)\n",
            "  adding: content/sr/ProstateX-0122/ (stored 0%)\n",
            "  adding: content/sr/ProstateX-0122/ProstateX-0122_1.3.6.1.4.1.14519.5.2.1.7311.5101.630584421787232290645088959150.dcm (deflated 68%)\n",
            "  adding: content/sr/ProstateX-0122/ProstateX-0122_1.3.6.1.4.1.14519.5.2.1.7311.5101.169644449862583835369721294033.dcm (deflated 67%)\n",
            "  adding: content/sr/ProstateX-0172/ (stored 0%)\n",
            "  adding: content/sr/ProstateX-0172/ProstateX-0172_1.3.6.1.4.1.14519.5.2.1.7311.5101.173238779094840791662031336757.dcm (deflated 72%)\n",
            "  adding: content/sr/ProstateX-0260/ (stored 0%)\n",
            "  adding: content/sr/ProstateX-0260/ProstateX-0260_1.3.6.1.4.1.14519.5.2.1.7310.5101.216826324141545489418853460277.dcm (deflated 65%)\n",
            "  adding: content/sr/ProstateX-0224/ (stored 0%)\n",
            "  adding: content/sr/ProstateX-0224/ProstateX-0224_1.3.6.1.4.1.14519.5.2.1.7310.5101.116663724291439696905592825647.dcm (deflated 65%)\n",
            "  adding: content/sr/ProstateX-0124/ (stored 0%)\n",
            "  adding: content/sr/ProstateX-0124/ProstateX-0124_1.3.6.1.4.1.14519.5.2.1.7311.5101.120671479738653620797949234670.dcm (deflated 61%)\n",
            "  adding: content/sr/ProstateX-0220/ (stored 0%)\n",
            "  adding: content/sr/ProstateX-0220/ProstateX-0220_1.3.6.1.4.1.14519.5.2.1.7310.5101.130359671299852349352049858895.dcm (deflated 65%)\n",
            "  adding: content/sr/ProstateX-0279/ (stored 0%)\n",
            "  adding: content/sr/ProstateX-0279/ProstateX-0279_1.3.6.1.4.1.14519.5.2.1.7310.5101.587257417107959511054111707590.dcm (deflated 65%)\n",
            "  adding: content/sr/ProstateX-0075/ (stored 0%)\n",
            "  adding: content/sr/ProstateX-0075/ProstateX-0075_1.3.6.1.4.1.14519.5.2.1.7311.5101.129018112957735432370663915845.dcm (deflated 60%)\n",
            "  adding: content/sr/ProstateX-0192/ (stored 0%)\n",
            "  adding: content/sr/ProstateX-0192/ProstateX-0192_1.3.6.1.4.1.14519.5.2.1.7311.5101.155909086837320349352604162626.dcm (deflated 67%)\n",
            "  adding: content/sr/ProstateX-0009/ (stored 0%)\n",
            "  adding: content/sr/ProstateX-0009/ProstateX-0009_1.3.6.1.4.1.14519.5.2.1.7311.5101.180041601751316950966041961765.dcm (deflated 60%)\n",
            "  adding: content/sr/ProstateX-0213/ (stored 0%)\n",
            "  adding: content/sr/ProstateX-0213/ProstateX-0213_1.3.6.1.4.1.14519.5.2.1.7310.5101.541906759419943648458134925226.dcm (deflated 65%)\n",
            "  adding: content/sr/ProstateX-0289/ (stored 0%)\n",
            "  adding: content/sr/ProstateX-0289/ProstateX-0289_1.3.6.1.4.1.14519.5.2.1.7310.5101.281436300716562163221085326209.dcm (deflated 65%)\n",
            "  adding: content/sr/ProstateX-0103/ (stored 0%)\n",
            "  adding: content/sr/ProstateX-0103/ProstateX-0103_1.3.6.1.4.1.14519.5.2.1.7311.5101.799648618512630817625506411450.dcm (deflated 67%)\n",
            "  adding: content/sr/ProstateX-0245/ (stored 0%)\n",
            "  adding: content/sr/ProstateX-0245/ProstateX-0245_1.3.6.1.4.1.14519.5.2.1.7310.5101.123177818452296187390183052340.dcm (deflated 65%)\n",
            "  adding: content/sr/ProstateX-0152/ (stored 0%)\n",
            "  adding: content/sr/ProstateX-0152/ProstateX-0152_1.3.6.1.4.1.14519.5.2.1.7311.5101.187515038079598276430377093280.dcm (deflated 61%)\n",
            "  adding: content/sr/ProstateX-0152/ProstateX-0152_1.3.6.1.4.1.14519.5.2.1.7311.5101.332062863080236096553787441517.dcm (deflated 60%)\n",
            "  adding: content/sr/ProstateX-0188/ (stored 0%)\n",
            "  adding: content/sr/ProstateX-0188/ProstateX-0188_1.3.6.1.4.1.14519.5.2.1.7311.5101.155875154686610653777230856177.dcm (deflated 61%)\n",
            "  adding: content/sr/ProstateX-0127/ (stored 0%)\n",
            "  adding: content/sr/ProstateX-0127/ProstateX-0127_1.3.6.1.4.1.14519.5.2.1.7311.5101.125028312746883214553925465367.dcm (deflated 61%)\n",
            "  adding: content/sr/ProstateX-0074/ (stored 0%)\n",
            "  adding: content/sr/ProstateX-0074/ProstateX-0074_1.3.6.1.4.1.14519.5.2.1.7311.5101.424493579224646237573300169060.dcm (deflated 60%)\n",
            "  adding: content/sr/ProstateX-0074/ProstateX-0074_1.3.6.1.4.1.14519.5.2.1.7311.5101.224282276602945928070807819072.dcm (deflated 60%)\n",
            "  adding: content/sr/ProstateX-0074/ProstateX-0074_1.3.6.1.4.1.14519.5.2.1.7311.5101.148763432469486183424435286431.dcm (deflated 60%)\n",
            "  adding: content/sr/ProstateX-0130/ (stored 0%)\n",
            "  adding: content/sr/ProstateX-0130/ProstateX-0130_1.3.6.1.4.1.14519.5.2.1.7311.5101.119868581724901379856626647643.dcm (deflated 73%)\n",
            "  adding: content/sr/ProstateX-0126/ (stored 0%)\n",
            "  adding: content/sr/ProstateX-0126/ProstateX-0126_1.3.6.1.4.1.14519.5.2.1.7311.5101.196743467875962901534742284889.dcm (deflated 67%)\n",
            "  adding: content/sr/ProstateX-0126/ProstateX-0126_1.3.6.1.4.1.14519.5.2.1.7311.5101.609444921602227480415119333725.dcm (deflated 67%)\n",
            "  adding: content/sr/ProstateX-0310/ (stored 0%)\n",
            "  adding: content/sr/ProstateX-0310/ProstateX-0310_1.3.6.1.4.1.14519.5.2.1.7310.5101.258833369386322151055616324069.dcm (deflated 65%)\n",
            "  adding: content/sr/ProstateX-0082/ (stored 0%)\n",
            "  adding: content/sr/ProstateX-0082/ProstateX-0082_1.3.6.1.4.1.14519.5.2.1.7311.5101.287009217605941401146066177219.dcm (deflated 60%)\n",
            "  adding: content/sr/ProstateX-0304/ (stored 0%)\n",
            "  adding: content/sr/ProstateX-0304/ProstateX-0304_1.3.6.1.4.1.14519.5.2.1.7310.5101.597931254098755159310144472621.dcm (deflated 70%)\n",
            "  adding: content/sr/ProstateX-0023/ (stored 0%)\n",
            "  adding: content/sr/ProstateX-0023/ProstateX-0023_1.3.6.1.4.1.14519.5.2.1.7311.5101.842199303058687201997947709588.dcm (deflated 68%)\n",
            "  adding: content/sr/ProstateX-0115/ (stored 0%)\n",
            "  adding: content/sr/ProstateX-0115/ProstateX-0115_1.3.6.1.4.1.14519.5.2.1.7311.5101.130874669996556555852519436588.dcm (deflated 61%)\n",
            "  adding: content/sr/ProstateX-0295/ (stored 0%)\n",
            "  adding: content/sr/ProstateX-0295/ProstateX-0295_1.3.6.1.4.1.14519.5.2.1.7310.5101.328797217354592686015939408326.dcm (deflated 65%)\n",
            "  adding: content/sr/ProstateX-0207/ (stored 0%)\n",
            "  adding: content/sr/ProstateX-0207/ProstateX-0207_1.3.6.1.4.1.14519.5.2.1.7310.5101.181235565127625868343692734421.dcm (deflated 70%)\n",
            "  adding: content/sr/ProstateX-0033/ (stored 0%)\n",
            "  adding: content/sr/ProstateX-0033/ProstateX-0033_1.3.6.1.4.1.14519.5.2.1.7311.5101.188139215577213234230834229650.dcm (deflated 67%)\n",
            "  adding: content/sr/ProstateX-0141/ (stored 0%)\n",
            "  adding: content/sr/ProstateX-0141/ProstateX-0141_1.3.6.1.4.1.14519.5.2.1.7311.5101.252185783543855817242399041825.dcm (deflated 72%)\n",
            "  adding: content/sr/ProstateX-0141/ProstateX-0141_1.3.6.1.4.1.14519.5.2.1.7311.5101.175571642712029852692219295919.dcm (deflated 72%)\n",
            "  adding: content/sr/ProstateX-0210/ (stored 0%)\n",
            "  adding: content/sr/ProstateX-0210/ProstateX-0210_1.3.6.1.4.1.14519.5.2.1.7310.5101.184591346294777966752238514147.dcm (deflated 73%)\n",
            "  adding: content/sr/ProstateX-0276/ (stored 0%)\n",
            "  adding: content/sr/ProstateX-0276/ProstateX-0276_1.3.6.1.4.1.14519.5.2.1.7310.5101.410225374213928440799700663463.dcm (deflated 65%)\n",
            "  adding: content/sr/ProstateX-0171/ (stored 0%)\n",
            "  adding: content/sr/ProstateX-0171/ProstateX-0171_1.3.6.1.4.1.14519.5.2.1.7311.5101.140686800124197915329789557019.dcm (deflated 72%)\n",
            "  adding: content/sr/ProstateX-0171/ProstateX-0171_1.3.6.1.4.1.14519.5.2.1.7311.5101.106639214047404264333821765300.dcm (deflated 72%)\n",
            "  adding: content/sr/ProstateX-0308/ (stored 0%)\n",
            "  adding: content/sr/ProstateX-0308/ProstateX-0308_1.3.6.1.4.1.14519.5.2.1.7310.5101.309557042248850046285753324629.dcm (deflated 65%)\n",
            "  adding: content/sr/ProstateX-0326/ (stored 0%)\n",
            "  adding: content/sr/ProstateX-0326/ProstateX-0326_1.3.6.1.4.1.14519.5.2.1.7310.5101.692422891141071106181545054689.dcm (deflated 65%)\n",
            "  adding: content/sr/ProstateX-0322/ (stored 0%)\n",
            "  adding: content/sr/ProstateX-0322/ProstateX-0322_1.3.6.1.4.1.14519.5.2.1.7310.5101.460006802975639882938215243710.dcm (deflated 65%)\n",
            "  adding: content/sr/ProstateX-0241/ (stored 0%)\n",
            "  adding: content/sr/ProstateX-0241/ProstateX-0241_1.3.6.1.4.1.14519.5.2.1.7310.5101.182666056353308077379356745296.dcm (deflated 65%)\n",
            "  adding: content/sr/ProstateX-0235/ (stored 0%)\n",
            "  adding: content/sr/ProstateX-0235/ProstateX-0235_1.3.6.1.4.1.14519.5.2.1.7310.5101.334544477769884353445423659206.dcm (deflated 70%)\n",
            "  adding: content/sr/ProstateX-0299/ (stored 0%)\n",
            "  adding: content/sr/ProstateX-0299/ProstateX-0299_1.3.6.1.4.1.14519.5.2.1.7310.5101.128277800300358489261783563750.dcm (deflated 65%)\n",
            "  adding: content/sr/ProstateX-0036/ (stored 0%)\n",
            "  adding: content/sr/ProstateX-0036/ProstateX-0036_1.3.6.1.4.1.14519.5.2.1.7311.5101.796436302295730821810471680824.dcm (deflated 60%)\n",
            "  adding: content/sr/ProstateX-0252/ (stored 0%)\n",
            "  adding: content/sr/ProstateX-0252/ProstateX-0252_1.3.6.1.4.1.14519.5.2.1.7310.5101.217131304269637361469107634213.dcm (deflated 76%)\n",
            "  adding: content/sr/ProstateX-0010/ (stored 0%)\n",
            "  adding: content/sr/ProstateX-0010/ProstateX-0010_1.3.6.1.4.1.14519.5.2.1.7311.5101.107792262621268615786134115389.dcm (deflated 60%)\n",
            "  adding: content/sr/ProstateX-0010/ProstateX-0010_1.3.6.1.4.1.14519.5.2.1.7311.5101.102816563221419143513831507664.dcm (deflated 60%)\n",
            "  adding: content/sr/ProstateX-0261/ (stored 0%)\n",
            "  adding: content/sr/ProstateX-0261/ProstateX-0261_1.3.6.1.4.1.14519.5.2.1.7310.5101.132782055228415703876207968911.dcm (deflated 65%)\n",
            "  adding: content/sr/ProstateX-0138/ (stored 0%)\n",
            "  adding: content/sr/ProstateX-0138/ProstateX-0138_1.3.6.1.4.1.14519.5.2.1.7311.5101.315887077330071484443267938866.dcm (deflated 72%)\n",
            "  adding: content/sr/ProstateX-0214/ (stored 0%)\n",
            "  adding: content/sr/ProstateX-0214/ProstateX-0214_1.3.6.1.4.1.14519.5.2.1.7310.5101.243497112464920849972755957295.dcm (deflated 70%)\n",
            "  adding: content/sr/ProstateX-0342/ (stored 0%)\n",
            "  adding: content/sr/ProstateX-0342/ProstateX-0342_1.3.6.1.4.1.14519.5.2.1.7310.5101.770608043083676395706663682748.dcm (deflated 65%)\n",
            "  adding: content/sr/ProstateX-0093/ (stored 0%)\n",
            "  adding: content/sr/ProstateX-0093/ProstateX-0093_1.3.6.1.4.1.14519.5.2.1.7311.5101.752811560183152736197496609130.dcm (deflated 72%)\n",
            "  adding: content/sr/ProstateX-0201/ (stored 0%)\n",
            "  adding: content/sr/ProstateX-0201/ProstateX-0201_1.3.6.1.4.1.14519.5.2.1.7311.5101.257928599770116866513356683535.dcm (deflated 61%)\n",
            "  adding: content/sr/ProstateX-0131/ (stored 0%)\n",
            "  adding: content/sr/ProstateX-0131/ProstateX-0131_1.3.6.1.4.1.14519.5.2.1.7311.5101.248400497115717620855573447327.dcm (deflated 67%)\n",
            "  adding: content/sr/ProstateX-0098/ (stored 0%)\n",
            "  adding: content/sr/ProstateX-0098/ProstateX-0098_1.3.6.1.4.1.14519.5.2.1.7311.5101.228488186237613111386604397249.dcm (deflated 60%)\n",
            "  adding: content/sr/ProstateX-0098/ProstateX-0098_1.3.6.1.4.1.14519.5.2.1.7311.5101.280488534937203800972430319478.dcm (deflated 60%)\n",
            "  adding: content/sr/ProstateX-0186/ (stored 0%)\n",
            "  adding: content/sr/ProstateX-0186/ProstateX-0186_1.3.6.1.4.1.14519.5.2.1.7311.5101.310468266072373540926387115751.dcm (deflated 67%)\n",
            "  adding: content/sr/ProstateX-0186/ProstateX-0186_1.3.6.1.4.1.14519.5.2.1.7311.5101.335300771013550860456101430334.dcm (deflated 66%)\n",
            "  adding: content/sr/ProstateX-0028/ (stored 0%)\n",
            "  adding: content/sr/ProstateX-0028/ProstateX-0028_1.3.6.1.4.1.14519.5.2.1.7311.5101.309805745643397068715061702026.dcm (deflated 67%)\n",
            "  adding: content/sr/ProstateX-0054/ (stored 0%)\n",
            "  adding: content/sr/ProstateX-0054/ProstateX-0054_1.3.6.1.4.1.14519.5.2.1.7311.5101.472900684997509231929411950536.dcm (deflated 67%)\n",
            "  adding: content/sr/ProstateX-0054/ProstateX-0054_1.3.6.1.4.1.14519.5.2.1.7311.5101.469973634568975241672898863188.dcm (deflated 67%)\n",
            "  adding: content/sr/ProstateX-0162/ (stored 0%)\n",
            "  adding: content/sr/ProstateX-0162/ProstateX-0162_1.3.6.1.4.1.14519.5.2.1.7311.5101.331790498051540524922995906154.dcm (deflated 61%)\n",
            "  adding: content/sr/ProstateX-0274/ (stored 0%)\n",
            "  adding: content/sr/ProstateX-0274/ProstateX-0274_1.3.6.1.4.1.14519.5.2.1.7310.5101.706288557565057604880613057899.dcm (deflated 65%)\n",
            "  adding: content/sr/ProstateX-0153/ (stored 0%)\n",
            "  adding: content/sr/ProstateX-0153/ProstateX-0153_1.3.6.1.4.1.14519.5.2.1.7311.5101.108303752086745663024948060973.dcm (deflated 72%)\n",
            "  adding: content/sr/ProstateX-0153/ProstateX-0153_1.3.6.1.4.1.14519.5.2.1.7311.5101.230713550588238324062333085955.dcm (deflated 72%)\n",
            "  adding: content/sr/ProstateX-0232/ (stored 0%)\n",
            "  adding: content/sr/ProstateX-0232/ProstateX-0232_1.3.6.1.4.1.14519.5.2.1.7310.5101.303648071508152159414358322970.dcm (deflated 65%)\n",
            "  adding: content/sr/ProstateX-0321/ (stored 0%)\n",
            "  adding: content/sr/ProstateX-0321/ProstateX-0321_1.3.6.1.4.1.14519.5.2.1.7310.5101.216355853212891847221128172741.dcm (deflated 70%)\n",
            "  adding: content/sr/ProstateX-0300/ (stored 0%)\n",
            "  adding: content/sr/ProstateX-0300/ProstateX-0300_1.3.6.1.4.1.14519.5.2.1.7310.5101.213996074226955292751555996591.dcm (deflated 65%)\n",
            "  adding: content/sr/ProstateX-0165/ (stored 0%)\n",
            "  adding: content/sr/ProstateX-0165/ProstateX-0165_1.3.6.1.4.1.14519.5.2.1.7311.5101.258483113217164421324473616387.dcm (deflated 68%)\n",
            "  adding: content/sr/ProstateX-0165/ProstateX-0165_1.3.6.1.4.1.14519.5.2.1.7311.5101.338174236052625192178112905271.dcm (deflated 68%)\n",
            "  adding: content/sr/ProstateX-0084/ (stored 0%)\n",
            "  adding: content/sr/ProstateX-0084/ProstateX-0084_1.3.6.1.4.1.14519.5.2.1.7311.5101.124933244802704100684011471210.dcm (deflated 67%)\n",
            "  adding: content/sr/ProstateX-0256/ (stored 0%)\n",
            "  adding: content/sr/ProstateX-0256/ProstateX-0256_1.3.6.1.4.1.14519.5.2.1.7310.5101.237442521216542491174034743456.dcm (deflated 73%)\n",
            "  adding: content/sr/ProstateX-0233/ (stored 0%)\n",
            "  adding: content/sr/ProstateX-0233/ProstateX-0233_1.3.6.1.4.1.14519.5.2.1.7310.5101.288244441178843471300757966037.dcm (deflated 65%)\n",
            "  adding: content/sr/ProstateX-0150/ (stored 0%)\n",
            "  adding: content/sr/ProstateX-0150/ProstateX-0150_1.3.6.1.4.1.14519.5.2.1.7311.5101.175570448971296597162147241386.dcm (deflated 69%)\n",
            "  adding: content/sr/ProstateX-0226/ (stored 0%)\n",
            "  adding: content/sr/ProstateX-0226/ProstateX-0226_1.3.6.1.4.1.14519.5.2.1.7310.5101.327688411328303538746086795352.dcm (deflated 70%)\n",
            "  adding: content/sr/ProstateX-0055/ (stored 0%)\n",
            "  adding: content/sr/ProstateX-0055/ProstateX-0055_1.3.6.1.4.1.14519.5.2.1.7311.5101.867984895695548587093255801819.dcm (deflated 60%)\n",
            "  adding: content/sr/ProstateX-0119/ (stored 0%)\n",
            "  adding: content/sr/ProstateX-0119/ProstateX-0119_1.3.6.1.4.1.14519.5.2.1.7311.5101.233981388543370190172245731393.dcm (deflated 61%)\n",
            "  adding: content/sr/ProstateX-0050/ (stored 0%)\n",
            "  adding: content/sr/ProstateX-0050/ProstateX-0050_1.3.6.1.4.1.14519.5.2.1.7311.5101.362250911393138568500075581973.dcm (deflated 60%)\n",
            "  adding: content/sr/ProstateX-0106/ (stored 0%)\n",
            "  adding: content/sr/ProstateX-0106/ProstateX-0106_1.3.6.1.4.1.14519.5.2.1.7311.5101.276959752243390681174198503432.dcm (deflated 67%)\n",
            "  adding: content/sr/ProstateX-0272/ (stored 0%)\n",
            "  adding: content/sr/ProstateX-0272/ProstateX-0272_1.3.6.1.4.1.14519.5.2.1.7310.5101.218677999328304542921744029431.dcm (deflated 65%)\n",
            "  adding: content/sr/ProstateX-0046/ (stored 0%)\n",
            "  adding: content/sr/ProstateX-0046/ProstateX-0046_1.3.6.1.4.1.14519.5.2.1.7311.5101.166265209513832781969059787909.dcm (deflated 67%)\n",
            "  adding: content/sr/ProstateX-0285/ (stored 0%)\n",
            "  adding: content/sr/ProstateX-0285/ProstateX-0285_1.3.6.1.4.1.14519.5.2.1.7310.5101.596749098283329798247147737806.dcm (deflated 65%)\n",
            "  adding: content/sr/ProstateX-0079/ (stored 0%)\n",
            "  adding: content/sr/ProstateX-0079/ProstateX-0079_1.3.6.1.4.1.14519.5.2.1.7311.5101.306983143690233862191598551114.dcm (deflated 60%)\n",
            "  adding: content/sr/ProstateX-0079/ProstateX-0079_1.3.6.1.4.1.14519.5.2.1.7311.5101.609688433484111469257596745913.dcm (deflated 60%)\n",
            "  adding: content/sr/ProstateX-0315/ (stored 0%)\n",
            "  adding: content/sr/ProstateX-0315/ProstateX-0315_1.3.6.1.4.1.14519.5.2.1.7310.5101.186774622785991236817513394758.dcm (deflated 70%)\n",
            "  adding: content/sr/ProstateX-0297/ (stored 0%)\n",
            "  adding: content/sr/ProstateX-0297/ProstateX-0297_1.3.6.1.4.1.14519.5.2.1.7310.5101.898676446450078900613536879876.dcm (deflated 65%)\n",
            "  adding: content/sr/ProstateX-0086/ (stored 0%)\n",
            "  adding: content/sr/ProstateX-0086/ProstateX-0086_1.3.6.1.4.1.14519.5.2.1.7311.5101.159015812612639123923275982393.dcm (deflated 68%)\n",
            "  adding: content/sr/ProstateX-0292/ (stored 0%)\n",
            "  adding: content/sr/ProstateX-0292/ProstateX-0292_1.3.6.1.4.1.14519.5.2.1.7310.5101.136890888264423786795074592571.dcm (deflated 65%)\n",
            "  adding: content/sr/ProstateX-0062/ (stored 0%)\n",
            "  adding: content/sr/ProstateX-0062/ProstateX-0062_1.3.6.1.4.1.14519.5.2.1.7311.5101.174899983360846888271485770942.dcm (deflated 60%)\n",
            "  adding: content/sr/ProstateX-0286/ (stored 0%)\n",
            "  adding: content/sr/ProstateX-0286/ProstateX-0286_1.3.6.1.4.1.14519.5.2.1.7310.5101.239895707172410649285443181339.dcm (deflated 70%)\n",
            "  adding: content/sr/ProstateX-0092/ (stored 0%)\n",
            "  adding: content/sr/ProstateX-0092/ProstateX-0092_1.3.6.1.4.1.14519.5.2.1.7311.5101.132920011337448246627655551217.dcm (deflated 61%)\n",
            "  adding: content/sr/ProstateX-0278/ (stored 0%)\n",
            "  adding: content/sr/ProstateX-0278/ProstateX-0278_1.3.6.1.4.1.14519.5.2.1.7310.5101.145860169462793456371175286429.dcm (deflated 70%)\n",
            "  adding: content/sr/ProstateX-0175/ (stored 0%)\n",
            "  adding: content/sr/ProstateX-0175/ProstateX-0175_1.3.6.1.4.1.14519.5.2.1.7311.5101.178153366604062074610708816017.dcm (deflated 68%)\n",
            "  adding: content/sr/ProstateX-0000/ (stored 0%)\n",
            "  adding: content/sr/ProstateX-0000/ProstateX-0000_1.3.6.1.4.1.14519.5.2.1.7311.5101.160028252338004527274326500702.dcm (deflated 61%)\n",
            "  adding: content/sr/ProstateX-0031/ (stored 0%)\n",
            "  adding: content/sr/ProstateX-0031/ProstateX-0031_1.3.6.1.4.1.14519.5.2.1.7311.5101.236668750518079273920360526105.dcm (deflated 68%)\n",
            "  adding: content/sr/ProstateX-0031/ProstateX-0031_1.3.6.1.4.1.14519.5.2.1.7311.5101.158242672157347526184088769127.dcm (deflated 67%)\n",
            "  adding: content/sr/ProstateX-0335/ (stored 0%)\n",
            "  adding: content/sr/ProstateX-0335/ProstateX-0335_1.3.6.1.4.1.14519.5.2.1.7310.5101.289060504204803089807286090631.dcm (deflated 70%)\n",
            "  adding: content/sr/ProstateX-0104/ (stored 0%)\n",
            "  adding: content/sr/ProstateX-0104/ProstateX-0104_1.3.6.1.4.1.14519.5.2.1.7311.5101.176992287385407028701284533740.dcm (deflated 66%)\n",
            "  adding: content/sr/ProstateX-0306/ (stored 0%)\n",
            "  adding: content/sr/ProstateX-0306/ProstateX-0306_1.3.6.1.4.1.14519.5.2.1.7310.5101.275916878534307444148558080196.dcm (deflated 65%)\n",
            "  adding: content/sr/ProstateX-0240/ (stored 0%)\n",
            "  adding: content/sr/ProstateX-0240/ProstateX-0240_1.3.6.1.4.1.14519.5.2.1.7310.5101.104072271460569042431182866792.dcm (deflated 65%)\n",
            "  adding: content/sr/ProstateX-0057/ (stored 0%)\n",
            "  adding: content/sr/ProstateX-0057/ProstateX-0057_1.3.6.1.4.1.14519.5.2.1.7311.5101.182889596923924025690195877030.dcm (deflated 68%)\n",
            "  adding: content/sr/ProstateX-0333/ (stored 0%)\n",
            "  adding: content/sr/ProstateX-0333/ProstateX-0333_1.3.6.1.4.1.14519.5.2.1.7310.5101.688444189306785888383774786402.dcm (deflated 74%)\n",
            "  adding: content/sr/ProstateX-0193/ (stored 0%)\n",
            "  adding: content/sr/ProstateX-0193/ProstateX-0193_1.3.6.1.4.1.14519.5.2.1.7311.5101.289711251504454079274667690291.dcm (deflated 75%)\n",
            "  adding: content/sr/ProstateX-0154/ (stored 0%)\n",
            "  adding: content/sr/ProstateX-0154/ProstateX-0154_1.3.6.1.4.1.14519.5.2.1.7311.5101.343916378102532535787148689111.dcm (deflated 67%)\n",
            "  adding: content/sr/ProstateX-0344/ (stored 0%)\n",
            "  adding: content/sr/ProstateX-0344/ProstateX-0344_1.3.6.1.4.1.14519.5.2.1.7310.5101.284671843735327551266044347858.dcm (deflated 70%)\n",
            "  adding: content/sr/ProstateX-0341/ (stored 0%)\n",
            "  adding: content/sr/ProstateX-0341/ProstateX-0341_1.3.6.1.4.1.14519.5.2.1.7310.5101.564281219984061183571553602031.dcm (deflated 73%)\n",
            "  adding: content/sr/ProstateX-0133/ (stored 0%)\n",
            "  adding: content/sr/ProstateX-0133/ProstateX-0133_1.3.6.1.4.1.14519.5.2.1.7311.5101.231680841183267045628534596021.dcm (deflated 61%)\n",
            "  adding: content/sr/ProstateX-0117/ (stored 0%)\n",
            "  adding: content/sr/ProstateX-0117/ProstateX-0117_1.3.6.1.4.1.14519.5.2.1.7311.5101.101130890931274399577478152963.dcm (deflated 67%)\n",
            "  adding: content/sr/ProstateX-0339/ (stored 0%)\n",
            "  adding: content/sr/ProstateX-0339/ProstateX-0339_1.3.6.1.4.1.14519.5.2.1.7310.5101.122709529159573052869985720888.dcm (deflated 70%)\n",
            "  adding: content/sr/ProstateX-0345/ (stored 0%)\n",
            "  adding: content/sr/ProstateX-0345/ProstateX-0345_1.3.6.1.4.1.14519.5.2.1.7310.5101.234925765587533703261014383053.dcm (deflated 70%)\n",
            "  adding: content/sr/ProstateX-0211/ (stored 0%)\n",
            "  adding: content/sr/ProstateX-0211/ProstateX-0211_1.3.6.1.4.1.14519.5.2.1.7310.5101.101539108853738403623949879520.dcm (deflated 70%)\n",
            "  adding: content/sr/ProstateX-0026/ (stored 0%)\n",
            "  adding: content/sr/ProstateX-0026/ProstateX-0026_1.3.6.1.4.1.14519.5.2.1.7311.5101.101130934168942593154270621032.dcm (deflated 60%)\n",
            "  adding: content/sr/ProstateX-0277/ (stored 0%)\n",
            "  adding: content/sr/ProstateX-0277/ProstateX-0277_1.3.6.1.4.1.14519.5.2.1.7310.5101.160005740358936144046081104399.dcm (deflated 65%)\n",
            "  adding: content/sr/ProstateX-0089/ (stored 0%)\n",
            "  adding: content/sr/ProstateX-0089/ProstateX-0089_1.3.6.1.4.1.14519.5.2.1.7311.5101.160225377533762960695041069832.dcm (deflated 60%)\n",
            "  adding: content/sr/ProstateX-0159/ (stored 0%)\n",
            "  adding: content/sr/ProstateX-0159/ProstateX-0159_1.3.6.1.4.1.14519.5.2.1.7311.5101.920398658735678812917978707078.dcm (deflated 73%)\n",
            "  adding: content/sr/ProstateX-0248/ (stored 0%)\n",
            "  adding: content/sr/ProstateX-0248/ProstateX-0248_1.3.6.1.4.1.14519.5.2.1.7310.5101.265897533507529706056035133473.dcm (deflated 65%)\n",
            "  adding: content/sr/ProstateX-0140/ (stored 0%)\n",
            "  adding: content/sr/ProstateX-0140/ProstateX-0140_1.3.6.1.4.1.14519.5.2.1.7311.5101.102319033451840757212229400283.dcm (deflated 68%)\n",
            "  adding: content/sr/ProstateX-0048/ (stored 0%)\n",
            "  adding: content/sr/ProstateX-0048/ProstateX-0048_1.3.6.1.4.1.14519.5.2.1.7311.5101.259068897752937994906611460872.dcm (deflated 60%)\n",
            "  adding: content/sr/ProstateX-0116/ (stored 0%)\n",
            "  adding: content/sr/ProstateX-0116/ProstateX-0116_1.3.6.1.4.1.14519.5.2.1.7311.5101.795098917620624521288839241482.dcm (deflated 61%)\n",
            "  adding: content/sr/ProstateX-0116/ProstateX-0116_1.3.6.1.4.1.14519.5.2.1.7311.5101.331586561228772599964079581051.dcm (deflated 60%)\n",
            "  adding: content/sr/ProstateX-0102/ (stored 0%)\n",
            "  adding: content/sr/ProstateX-0102/ProstateX-0102_1.3.6.1.4.1.14519.5.2.1.7311.5101.248203933751895346486742820088.dcm (deflated 60%)\n",
            "  adding: content/sr/ProstateX-0102/ProstateX-0102_1.3.6.1.4.1.14519.5.2.1.7311.5101.239696172860207577230170745733.dcm (deflated 61%)\n",
            "  adding: content/sr/ProstateX-0001/ (stored 0%)\n",
            "  adding: content/sr/ProstateX-0001/ProstateX-0001_1.3.6.1.4.1.14519.5.2.1.7311.5101.143550427570936841761028976610.dcm (deflated 60%)\n",
            "  adding: content/sr/ProstateX-0001/ProstateX-0001_1.3.6.1.4.1.14519.5.2.1.7311.5101.296510477295449267377313817541.dcm (deflated 61%)\n",
            "  adding: content/sr/ProstateX-0016/ (stored 0%)\n",
            "  adding: content/sr/ProstateX-0016/ProstateX-0016_1.3.6.1.4.1.14519.5.2.1.7311.5101.289400416987402469088090375658.dcm (deflated 61%)\n",
            "  adding: content/sr/ProstateX-0180/ (stored 0%)\n",
            "  adding: content/sr/ProstateX-0180/ProstateX-0180_1.3.6.1.4.1.14519.5.2.1.7311.5101.900876193912787500283738398795.dcm (deflated 60%)\n",
            "  adding: content/sr/ProstateX-0296/ (stored 0%)\n",
            "  adding: content/sr/ProstateX-0296/ProstateX-0296_1.3.6.1.4.1.14519.5.2.1.7310.5101.165300442724253983589878240856.dcm (deflated 65%)\n",
            "  adding: content/sr/ProstateX-0217/ (stored 0%)\n",
            "  adding: content/sr/ProstateX-0217/ProstateX-0217_1.3.6.1.4.1.14519.5.2.1.7310.5101.233894782007809884236855995183.dcm (deflated 65%)\n",
            "  adding: content/sr/ProstateX-0327/ (stored 0%)\n",
            "  adding: content/sr/ProstateX-0327/ProstateX-0327_1.3.6.1.4.1.14519.5.2.1.7310.5101.318747715689850987979841001207.dcm (deflated 70%)\n",
            "  adding: content/sr/ProstateX-0288/ (stored 0%)\n",
            "  adding: content/sr/ProstateX-0288/ProstateX-0288_1.3.6.1.4.1.14519.5.2.1.7310.5101.297260986967184085777069455341.dcm (deflated 70%)\n",
            "  adding: content/sr/ProstateX-0078/ (stored 0%)\n",
            "  adding: content/sr/ProstateX-0078/ProstateX-0078_1.3.6.1.4.1.14519.5.2.1.7311.5101.105195267324030799151105608660.dcm (deflated 60%)\n",
            "  adding: content/sr/ProstateX-0290/ (stored 0%)\n",
            "  adding: content/sr/ProstateX-0290/ProstateX-0290_1.3.6.1.4.1.14519.5.2.1.7310.5101.547884163838813229519179914268.dcm (deflated 66%)\n",
            "  adding: content/sr/ProstateX-0068/ (stored 0%)\n",
            "  adding: content/sr/ProstateX-0068/ProstateX-0068_1.3.6.1.4.1.14519.5.2.1.7311.5101.198193851607052967342507788897.dcm (deflated 72%)\n",
            "  adding: content/sr/ProstateX-0204/ (stored 0%)\n",
            "  adding: content/sr/ProstateX-0204/ProstateX-0204_1.3.6.1.4.1.14519.5.2.1.7311.5101.710992102789339137578810224134.dcm (deflated 71%)\n",
            "  adding: content/sr/ProstateX-0338/ (stored 0%)\n",
            "  adding: content/sr/ProstateX-0338/ProstateX-0338_1.3.6.1.4.1.14519.5.2.1.7310.5101.537713231271807217392132237717.dcm (deflated 65%)\n",
            "  adding: content/sr/ProstateX-0008/ (stored 0%)\n",
            "  adding: content/sr/ProstateX-0008/ProstateX-0008_1.3.6.1.4.1.14519.5.2.1.7311.5101.114335609248973418447980073777.dcm (deflated 60%)\n",
            "  adding: content/sr/ProstateX-0309/ (stored 0%)\n",
            "  adding: content/sr/ProstateX-0309/ProstateX-0309_1.3.6.1.4.1.14519.5.2.1.7310.5101.337896560664468718350275750005.dcm (deflated 65%)\n",
            "  adding: content/sr/ProstateX-0136/ (stored 0%)\n",
            "  adding: content/sr/ProstateX-0136/ProstateX-0136_1.3.6.1.4.1.14519.5.2.1.7311.5101.258067469374761412596368241889.dcm (deflated 67%)\n",
            "  adding: content/sr/ProstateX-0091/ (stored 0%)\n",
            "  adding: content/sr/ProstateX-0091/ProstateX-0091_1.3.6.1.4.1.14519.5.2.1.7311.5101.194000123380498758561962283977.dcm (deflated 60%)\n",
            "  adding: content/sr/ProstateX-0209/ (stored 0%)\n",
            "  adding: content/sr/ProstateX-0209/ProstateX-0209_1.3.6.1.4.1.14519.5.2.1.7310.5101.217705819956691748023253683197.dcm (deflated 74%)\n",
            "  adding: content/sr/ProstateX-0291/ (stored 0%)\n",
            "  adding: content/sr/ProstateX-0291/ProstateX-0291_1.3.6.1.4.1.14519.5.2.1.7310.5101.281628398743940350616155351242.dcm (deflated 70%)\n",
            "  adding: content/sr/ProstateX-0135/ (stored 0%)\n",
            "  adding: content/sr/ProstateX-0135/ProstateX-0135_1.3.6.1.4.1.14519.5.2.1.7311.5101.176196916281607796091267730897.dcm (deflated 67%)\n",
            "  adding: content/sr/ProstateX-0064/ (stored 0%)\n",
            "  adding: content/sr/ProstateX-0064/ProstateX-0064_1.3.6.1.4.1.14519.5.2.1.7311.5101.200213914930332021730900158659.dcm (deflated 60%)\n",
            "  adding: content/sr/ProstateX-0032/ (stored 0%)\n",
            "  adding: content/sr/ProstateX-0032/ProstateX-0032_1.3.6.1.4.1.14519.5.2.1.7311.5101.192059931363783290394366910087.dcm (deflated 60%)\n",
            "  adding: content/sr/ProstateX-0032/ProstateX-0032_1.3.6.1.4.1.14519.5.2.1.7311.5101.173304539264806375350214468553.dcm (deflated 60%)\n",
            "  adding: content/sr/ProstateX-0262/ (stored 0%)\n",
            "  adding: content/sr/ProstateX-0262/ProstateX-0262_1.3.6.1.4.1.14519.5.2.1.7310.5101.101994341947902029100401227478.dcm (deflated 65%)\n",
            "  adding: content/sr/ProstateX-0077/ (stored 0%)\n",
            "  adding: content/sr/ProstateX-0077/ProstateX-0077_1.3.6.1.4.1.14519.5.2.1.7311.5101.163203999150476340830652125749.dcm (deflated 60%)\n",
            "  adding: content/sr/ProstateX-0077/ProstateX-0077_1.3.6.1.4.1.14519.5.2.1.7311.5101.108254522305321641639146259073.dcm (deflated 61%)\n",
            "  adding: content/sr/ProstateX-0320/ (stored 0%)\n",
            "  adding: content/sr/ProstateX-0320/ProstateX-0320_1.3.6.1.4.1.14519.5.2.1.7310.5101.120756940005818126381807185012.dcm (deflated 65%)\n",
            "  adding: content/sr/ProstateX-0007/ (stored 0%)\n",
            "  adding: content/sr/ProstateX-0007/ProstateX-0007_1.3.6.1.4.1.14519.5.2.1.7311.5101.282008038881694967871335639325.dcm (deflated 60%)\n",
            "  adding: content/sr/ProstateX-0087/ (stored 0%)\n",
            "  adding: content/sr/ProstateX-0087/ProstateX-0087_1.3.6.1.4.1.14519.5.2.1.7311.5101.190445461958668285994393846289.dcm (deflated 67%)\n",
            "  adding: content/sr/ProstateX-0019/ (stored 0%)\n",
            "  adding: content/sr/ProstateX-0019/ProstateX-0019_1.3.6.1.4.1.14519.5.2.1.7311.5101.178335346029070622782294165888.dcm (deflated 60%)\n",
            "  adding: content/sr/ProstateX-0019/ProstateX-0019_1.3.6.1.4.1.14519.5.2.1.7311.5101.337120993451084170526679013923.dcm (deflated 61%)\n",
            "  adding: content/sr/ProstateX-0173/ (stored 0%)\n",
            "  adding: content/sr/ProstateX-0173/ProstateX-0173_1.3.6.1.4.1.14519.5.2.1.7311.5101.396250088865668447959433809122.dcm (deflated 68%)\n",
            "  adding: content/sr/ProstateX-0173/ProstateX-0173_1.3.6.1.4.1.14519.5.2.1.7311.5101.657656083774636088529992646063.dcm (deflated 69%)\n",
            "  adding: content/sr/ProstateX-0173/ProstateX-0173_1.3.6.1.4.1.14519.5.2.1.7311.5101.162312139806477118597047772186.dcm (deflated 68%)\n",
            "  adding: content/sr/ProstateX-0238/ (stored 0%)\n",
            "  adding: content/sr/ProstateX-0238/ProstateX-0238_1.3.6.1.4.1.14519.5.2.1.7310.5101.314929585175109574243842033105.dcm (deflated 65%)\n",
            "  adding: content/sr/ProstateX-0174/ (stored 0%)\n",
            "  adding: content/sr/ProstateX-0174/ProstateX-0174_1.3.6.1.4.1.14519.5.2.1.7311.5101.139777446225547509525324454225.dcm (deflated 61%)\n",
            "  adding: content/sr/ProstateX-0280/ (stored 0%)\n",
            "  adding: content/sr/ProstateX-0280/ProstateX-0280_1.3.6.1.4.1.14519.5.2.1.7310.5101.338061683022072925705221779249.dcm (deflated 65%)\n",
            "  adding: content/sr/ProstateX-0265/ (stored 0%)\n",
            "  adding: content/sr/ProstateX-0265/ProstateX-0265_1.3.6.1.4.1.14519.5.2.1.7310.5101.259467270859277582122403078829.dcm (deflated 70%)\n",
            "  adding: content/sr/ProstateX-0258/ (stored 0%)\n",
            "  adding: content/sr/ProstateX-0258/ProstateX-0258_1.3.6.1.4.1.14519.5.2.1.7310.5101.322989122124845966628970877782.dcm (deflated 70%)\n",
            "  adding: content/sr/ProstateX-0121/ (stored 0%)\n",
            "  adding: content/sr/ProstateX-0121/ProstateX-0121_1.3.6.1.4.1.14519.5.2.1.7311.5101.180650601474055581355948988643.dcm (deflated 68%)\n",
            "  adding: content/sr/ProstateX-0149/ (stored 0%)\n",
            "  adding: content/sr/ProstateX-0149/ProstateX-0149_1.3.6.1.4.1.14519.5.2.1.7311.5101.314531141765998042138646857840.dcm (deflated 68%)\n",
            "  adding: content/sr/ProstateX-0149/ProstateX-0149_1.3.6.1.4.1.14519.5.2.1.7311.5101.235313222921237121866993583985.dcm (deflated 68%)\n",
            "  adding: content/sr/ProstateX-0266/ (stored 0%)\n",
            "  adding: content/sr/ProstateX-0266/ProstateX-0266_1.3.6.1.4.1.14519.5.2.1.7310.5101.211983363253218554754073154868.dcm (deflated 65%)\n",
            "  adding: content/sr/ProstateX-0328/ (stored 0%)\n",
            "  adding: content/sr/ProstateX-0328/ProstateX-0328_1.3.6.1.4.1.14519.5.2.1.7310.5101.970856708671679444758957553019.dcm (deflated 65%)\n",
            "  adding: content/sr/ProstateX-0334/ (stored 0%)\n",
            "  adding: content/sr/ProstateX-0334/ProstateX-0334_1.3.6.1.4.1.14519.5.2.1.7310.5101.877607202381357458819664904037.dcm (deflated 65%)\n",
            "  adding: content/sr/ProstateX-0147/ (stored 0%)\n",
            "  adding: content/sr/ProstateX-0147/ProstateX-0147_1.3.6.1.4.1.14519.5.2.1.7311.5101.167155555082118981142239962860.dcm (deflated 67%)\n",
            "  adding: content/sr/ProstateX-0147/ProstateX-0147_1.3.6.1.4.1.14519.5.2.1.7311.5101.234432147221188666883470048099.dcm (deflated 67%)\n",
            "  adding: content/sr/ProstateX-0021/ (stored 0%)\n",
            "  adding: content/sr/ProstateX-0021/ProstateX-0021_1.3.6.1.4.1.14519.5.2.1.7311.5101.280015489563490250982057308457.dcm (deflated 67%)\n",
            "  adding: content/sr/ProstateX-0090/ (stored 0%)\n",
            "  adding: content/sr/ProstateX-0090/ProstateX-0090_1.3.6.1.4.1.14519.5.2.1.7311.5101.271991298059338527584681788043.dcm (deflated 60%)\n",
            "  adding: content/sr/ProstateX-0184/ (stored 0%)\n",
            "  adding: content/sr/ProstateX-0184/ProstateX-0184_1.3.6.1.4.1.14519.5.2.1.7311.5101.304058605325520782900293953679.dcm (deflated 67%)\n",
            "  adding: content/sr/ProstateX-0203/ (stored 0%)\n",
            "  adding: content/sr/ProstateX-0203/ProstateX-0203_1.3.6.1.4.1.14519.5.2.1.7311.5101.483531332865279698809018970756.dcm (deflated 68%)\n",
            "  adding: content/sr/ProstateX-0208/ (stored 0%)\n",
            "  adding: content/sr/ProstateX-0208/ProstateX-0208_1.3.6.1.4.1.14519.5.2.1.7310.5101.154215598935752917640774887185.dcm (deflated 70%)\n",
            "  adding: content/sr/ProstateX-0096/ (stored 0%)\n",
            "  adding: content/sr/ProstateX-0096/ProstateX-0096_1.3.6.1.4.1.14519.5.2.1.7311.5101.105766764724449379107432362750.dcm (deflated 60%)\n",
            "  adding: content/sr/ProstateX-0311/ (stored 0%)\n",
            "  adding: content/sr/ProstateX-0311/ProstateX-0311_1.3.6.1.4.1.14519.5.2.1.7310.5101.318856235542799349557600990165.dcm (deflated 70%)\n",
            "  adding: content/sr/ProstateX-0243/ (stored 0%)\n",
            "  adding: content/sr/ProstateX-0243/ProstateX-0243_1.3.6.1.4.1.14519.5.2.1.7310.5101.300405485079081913573045655087.dcm (deflated 65%)\n",
            "  adding: content/sr/ProstateX-0225/ (stored 0%)\n",
            "  adding: content/sr/ProstateX-0225/ProstateX-0225_1.3.6.1.4.1.14519.5.2.1.7310.5101.262368727868099322965643388791.dcm (deflated 65%)\n",
            "  adding: content/sr/ProstateX-0143/ (stored 0%)\n",
            "  adding: content/sr/ProstateX-0143/ProstateX-0143_1.3.6.1.4.1.14519.5.2.1.7311.5101.284937074993270071304960321277.dcm (deflated 61%)\n",
            "  adding: content/sr/ProstateX-0293/ (stored 0%)\n",
            "  adding: content/sr/ProstateX-0293/ProstateX-0293_1.3.6.1.4.1.14519.5.2.1.7310.5101.460054567474206412344710730403.dcm (deflated 65%)\n",
            "  adding: content/sr/ProstateX-0163/ (stored 0%)\n",
            "  adding: content/sr/ProstateX-0163/ProstateX-0163_1.3.6.1.4.1.14519.5.2.1.7311.5101.200953352205369299518149484249.dcm (deflated 73%)\n",
            "  adding: content/sr/ProstateX-0006/ (stored 0%)\n",
            "  adding: content/sr/ProstateX-0006/ProstateX-0006_1.3.6.1.4.1.14519.5.2.1.7311.5101.256864043009268361529947598209.dcm (deflated 68%)\n",
            "  adding: content/sr/ProstateX-0114/ (stored 0%)\n",
            "  adding: content/sr/ProstateX-0114/ProstateX-0114_1.3.6.1.4.1.14519.5.2.1.7311.5101.160665974886533236804770187268.dcm (deflated 67%)\n",
            "  adding: content/sr/ProstateX-0114/ProstateX-0114_1.3.6.1.4.1.14519.5.2.1.7311.5101.369017036589955758238824664960.dcm (deflated 67%)\n",
            "  adding: content/sr/ProstateX-0236/ (stored 0%)\n",
            "  adding: content/sr/ProstateX-0236/ProstateX-0236_1.3.6.1.4.1.14519.5.2.1.7310.5101.175395160737281885853657044391.dcm (deflated 65%)\n",
            "  adding: content/sr/ProstateX-0058/ (stored 0%)\n",
            "  adding: content/sr/ProstateX-0058/ProstateX-0058_1.3.6.1.4.1.14519.5.2.1.7311.5101.272107812581357323586544870665.dcm (deflated 60%)\n",
            "  adding: content/sr/ProstateX-0052/ (stored 0%)\n",
            "  adding: content/sr/ProstateX-0052/ProstateX-0052_1.3.6.1.4.1.14519.5.2.1.7311.5101.249945594986863677107973338194.dcm (deflated 60%)\n",
            "  adding: content/sr/ProstateX-0052/ProstateX-0052_1.3.6.1.4.1.14519.5.2.1.7311.5101.151037559012155965551113153184.dcm (deflated 60%)\n",
            "  adding: content/sr/ProstateX-0199/ (stored 0%)\n",
            "  adding: content/sr/ProstateX-0199/ProstateX-0199_1.3.6.1.4.1.14519.5.2.1.7311.5101.468264361024689646978006199785.dcm (deflated 69%)\n",
            "  adding: content/sr/ProstateX-0247/ (stored 0%)\n",
            "  adding: content/sr/ProstateX-0247/ProstateX-0247_1.3.6.1.4.1.14519.5.2.1.7310.5101.282490226567493940846743862310.dcm (deflated 65%)\n",
            "  adding: content/sr/ProstateX-0148/ (stored 0%)\n",
            "  adding: content/sr/ProstateX-0148/ProstateX-0148_1.3.6.1.4.1.14519.5.2.1.7311.5101.550991824936292327323304064911.dcm (deflated 67%)\n",
            "  adding: content/sr/ProstateX-0148/ProstateX-0148_1.3.6.1.4.1.14519.5.2.1.7311.5101.290824483776452360867551034347.dcm (deflated 67%)\n",
            "  adding: content/sr/ProstateX-0094/ (stored 0%)\n",
            "  adding: content/sr/ProstateX-0094/ProstateX-0094_1.3.6.1.4.1.14519.5.2.1.7311.5101.178750617003896154912438088527.dcm (deflated 61%)\n",
            "  adding: content/sr/ProstateX-0145/ (stored 0%)\n",
            "  adding: content/sr/ProstateX-0145/ProstateX-0145_1.3.6.1.4.1.14519.5.2.1.7311.5101.200709810046761326061245861709.dcm (deflated 61%)\n",
            "  adding: content/sr/ProstateX-0120/ (stored 0%)\n",
            "  adding: content/sr/ProstateX-0120/ProstateX-0120_1.3.6.1.4.1.14519.5.2.1.7311.5101.109177039401754943775885602055.dcm (deflated 67%)\n",
            "  adding: content/sr/ProstateX-0151/ (stored 0%)\n",
            "  adding: content/sr/ProstateX-0151/ProstateX-0151_1.3.6.1.4.1.14519.5.2.1.7311.5101.350955436858436674161041696224.dcm (deflated 67%)\n",
            "  adding: content/sr/ProstateX-0071/ (stored 0%)\n",
            "  adding: content/sr/ProstateX-0071/ProstateX-0071_1.3.6.1.4.1.14519.5.2.1.7311.5101.327021307073506490268456871497.dcm (deflated 60%)\n",
            "  adding: content/sr/ProstateX-0072/ (stored 0%)\n",
            "  adding: content/sr/ProstateX-0072/ProstateX-0072_1.3.6.1.4.1.14519.5.2.1.7311.5101.126808882287123482193592987944.dcm (deflated 60%)\n",
            "  adding: content/sr/ProstateX-0022/ (stored 0%)\n",
            "  adding: content/sr/ProstateX-0022/ProstateX-0022_1.3.6.1.4.1.14519.5.2.1.7311.5101.198836923216150981519653002628.dcm (deflated 60%)\n",
            "  adding: content/sr/ProstateX-0229/ (stored 0%)\n",
            "  adding: content/sr/ProstateX-0229/ProstateX-0229_1.3.6.1.4.1.14519.5.2.1.7310.5101.826618331586486521083213597554.dcm (deflated 65%)\n",
            "  adding: content/sr/ProstateX-0206/ (stored 0%)\n",
            "  adding: content/sr/ProstateX-0206/ProstateX-0206_1.3.6.1.4.1.14519.5.2.1.7310.5101.303525861750852730995284862930.dcm (deflated 65%)\n",
            "  adding: content/sr/ProstateX-0107/ (stored 0%)\n",
            "  adding: content/sr/ProstateX-0107/ProstateX-0107_1.3.6.1.4.1.14519.5.2.1.7311.5101.138689767490385276541690275238.dcm (deflated 60%)\n",
            "  adding: content/sr/ProstateX-0049/ (stored 0%)\n",
            "  adding: content/sr/ProstateX-0049/ProstateX-0049_1.3.6.1.4.1.14519.5.2.1.7311.5101.288990829588462794667647108778.dcm (deflated 60%)\n",
            "  adding: content/sr/ProstateX-0281/ (stored 0%)\n",
            "  adding: content/sr/ProstateX-0281/ProstateX-0281_1.3.6.1.4.1.14519.5.2.1.7310.5101.922631090413513300254681344298.dcm (deflated 65%)\n",
            "  adding: content/sr/ProstateX-0263/ (stored 0%)\n",
            "  adding: content/sr/ProstateX-0263/ProstateX-0263_1.3.6.1.4.1.14519.5.2.1.7310.5101.301349316641545909339162578599.dcm (deflated 74%)\n",
            "  adding: content/sr/ProstateX-0024/ (stored 0%)\n",
            "  adding: content/sr/ProstateX-0024/ProstateX-0024_1.3.6.1.4.1.14519.5.2.1.7311.5101.112910418643385818012268269485.dcm (deflated 60%)\n",
            "  adding: content/sr/ProstateX-0251/ (stored 0%)\n",
            "  adding: content/sr/ProstateX-0251/ProstateX-0251_1.3.6.1.4.1.14519.5.2.1.7310.5101.137806782257611702189792788042.dcm (deflated 76%)\n",
            "  adding: content/sr/ProstateX-0307/ (stored 0%)\n",
            "  adding: content/sr/ProstateX-0307/ProstateX-0307_1.3.6.1.4.1.14519.5.2.1.7310.5101.101808801791463219572970524412.dcm (deflated 65%)\n",
            "  adding: content/sr/ProstateX-0307/ProstateX-0307_1.3.6.1.4.1.14519.5.2.1.7310.5101.308391719582265253729619952900.dcm (deflated 65%)\n",
            "  adding: content/sr/ProstateX-0056/ (stored 0%)\n",
            "  adding: content/sr/ProstateX-0056/ProstateX-0056_1.3.6.1.4.1.14519.5.2.1.7311.5101.905763996607212880296069425861.dcm (deflated 60%)\n",
            "  adding: content/sr/ProstateX-0336/ (stored 0%)\n",
            "  adding: content/sr/ProstateX-0336/ProstateX-0336_1.3.6.1.4.1.14519.5.2.1.7310.5101.224076318611508329113933938602.dcm (deflated 70%)\n",
            "  adding: content/sr/ProstateX-0161/ (stored 0%)\n",
            "  adding: content/sr/ProstateX-0161/ProstateX-0161_1.3.6.1.4.1.14519.5.2.1.7311.5101.196511587017551386049158542619.dcm (deflated 72%)\n",
            "  adding: content/sr/ProstateX-0128/ (stored 0%)\n",
            "  adding: content/sr/ProstateX-0128/ProstateX-0128_1.3.6.1.4.1.14519.5.2.1.7311.5101.191897092045160790927368035834.dcm (deflated 72%)\n",
            "  adding: content/sr/ProstateX-0029/ (stored 0%)\n",
            "  adding: content/sr/ProstateX-0029/ProstateX-0029_1.3.6.1.4.1.14519.5.2.1.7311.5101.254720210057539290153454291675.dcm (deflated 60%)\n",
            "  adding: content/sr/ProstateX-0228/ (stored 0%)\n",
            "  adding: content/sr/ProstateX-0228/ProstateX-0228_1.3.6.1.4.1.14519.5.2.1.7310.5101.147404975255665529475492361795.dcm (deflated 65%)\n",
            "  adding: content/sr/ProstateX-0197/ (stored 0%)\n",
            "  adding: content/sr/ProstateX-0197/ProstateX-0197_1.3.6.1.4.1.14519.5.2.1.7311.5101.162168388081775933157117953368.dcm (deflated 61%)\n",
            "  adding: content/sr/ProstateX-0197/ProstateX-0197_1.3.6.1.4.1.14519.5.2.1.7311.5101.209027431250861333383033880802.dcm (deflated 60%)\n",
            "  adding: content/sr/ProstateX-0025/ (stored 0%)\n",
            "  adding: content/sr/ProstateX-0025/ProstateX-0025_1.3.6.1.4.1.14519.5.2.1.7311.5101.138312525804351431765740680161.dcm (deflated 86%)\n",
            "  adding: content/sr/ProstateX-0216/ (stored 0%)\n",
            "  adding: content/sr/ProstateX-0216/ProstateX-0216_1.3.6.1.4.1.14519.5.2.1.7310.5101.302512962309977607689817264320.dcm (deflated 65%)\n",
            "  adding: content/sr/ProstateX-0259/ (stored 0%)\n",
            "  adding: content/sr/ProstateX-0259/ProstateX-0259_1.3.6.1.4.1.14519.5.2.1.7310.5101.448179594868032658135586836637.dcm (deflated 70%)\n",
            "  adding: content/sr/ProstateX-0169/ (stored 0%)\n",
            "  adding: content/sr/ProstateX-0169/ProstateX-0169_1.3.6.1.4.1.14519.5.2.1.7311.5101.172108716654528372176275135230.dcm (deflated 61%)\n",
            "  adding: content/sr/ProstateX-0190/ (stored 0%)\n",
            "  adding: content/sr/ProstateX-0190/ProstateX-0190_1.3.6.1.4.1.14519.5.2.1.7311.5101.285223877732426820048747382713.dcm (deflated 67%)\n",
            "  adding: content/sr/ProstateX-0168/ (stored 0%)\n",
            "  adding: content/sr/ProstateX-0168/ProstateX-0168_1.3.6.1.4.1.14519.5.2.1.7311.5101.238155789531438110361239421258.dcm (deflated 61%)\n",
            "  adding: content/sr/ProstateX-0168/ProstateX-0168_1.3.6.1.4.1.14519.5.2.1.7311.5101.226939533786316417608293472819.dcm (deflated 60%)\n",
            "  adding: content/sr/ProstateX-0329/ (stored 0%)\n",
            "  adding: content/sr/ProstateX-0329/ProstateX-0329_1.3.6.1.4.1.14519.5.2.1.7310.5101.195771036343570554021626327942.dcm (deflated 65%)\n",
            "  adding: content/sr/ProstateX-0037/ (stored 0%)\n",
            "  adding: content/sr/ProstateX-0037/ProstateX-0037_1.3.6.1.4.1.14519.5.2.1.7311.5101.693064576588508957101499589375.dcm (deflated 67%)\n",
            "  adding: content/sr/ProstateX-0179/ (stored 0%)\n",
            "  adding: content/sr/ProstateX-0179/ProstateX-0179_1.3.6.1.4.1.14519.5.2.1.7311.5101.208111099364521191624769210183.dcm (deflated 69%)\n",
            "  adding: content/sr/ProstateX-0179/ProstateX-0179_1.3.6.1.4.1.14519.5.2.1.7311.5101.159781248302148906415423529801.dcm (deflated 68%)\n",
            "  adding: content/sr/ProstateX-0257/ (stored 0%)\n",
            "  adding: content/sr/ProstateX-0257/ProstateX-0257_1.3.6.1.4.1.14519.5.2.1.7310.5101.198640557604892009779112154185.dcm (deflated 70%)\n",
            "  adding: content/sr/ProstateX-0005/ (stored 0%)\n",
            "  adding: content/sr/ProstateX-0005/ProstateX-0005_1.3.6.1.4.1.14519.5.2.1.7311.5101.119114186762760923175160291330.dcm (deflated 73%)\n",
            "  adding: content/sr/ProstateX-0215/ (stored 0%)\n",
            "  adding: content/sr/ProstateX-0215/ProstateX-0215_1.3.6.1.4.1.14519.5.2.1.7310.5101.136420659135077137665295528348.dcm (deflated 65%)\n",
            "  adding: content/sr/ProstateX-0253/ (stored 0%)\n",
            "  adding: content/sr/ProstateX-0253/ProstateX-0253_1.3.6.1.4.1.14519.5.2.1.7310.5101.164513375859159566810427866545.dcm (deflated 74%)\n",
            "  adding: content/sr/ProstateX-0317/ (stored 0%)\n",
            "  adding: content/sr/ProstateX-0317/ProstateX-0317_1.3.6.1.4.1.14519.5.2.1.7310.5101.293782955511269544079370772041.dcm (deflated 65%)\n",
            "  adding: content/sr/ProstateX-0318/ (stored 0%)\n",
            "  adding: content/sr/ProstateX-0318/ProstateX-0318_1.3.6.1.4.1.14519.5.2.1.7310.5101.120664285420103309232780344250.dcm (deflated 65%)\n",
            "  adding: content/sr/ProstateX-0250/ (stored 0%)\n",
            "  adding: content/sr/ProstateX-0250/ProstateX-0250_1.3.6.1.4.1.14519.5.2.1.7310.5101.267071642492778105364997148436.dcm (deflated 70%)\n",
            "  adding: content/sr/ProstateX-0319/ (stored 0%)\n",
            "  adding: content/sr/ProstateX-0319/ProstateX-0319_1.3.6.1.4.1.14519.5.2.1.7310.5101.827121833651501707862980172519.dcm (deflated 65%)\n",
            "  adding: content/sr/ProstateX-0051/ (stored 0%)\n",
            "  adding: content/sr/ProstateX-0051/ProstateX-0051_1.3.6.1.4.1.14519.5.2.1.7311.5101.158753215359821065559679220345.dcm (deflated 60%)\n",
            "  adding: content/sr/ProstateX-0113/ (stored 0%)\n",
            "  adding: content/sr/ProstateX-0113/ProstateX-0113_1.3.6.1.4.1.14519.5.2.1.7311.5101.295208076003566232058005456003.dcm (deflated 60%)\n",
            "  adding: content/sr/ProstateX-0113/ProstateX-0113_1.3.6.1.4.1.14519.5.2.1.7311.5101.745309644957612525678428598073.dcm (deflated 60%)\n",
            "  adding: content/sr/ProstateX-0183/ (stored 0%)\n",
            "  adding: content/sr/ProstateX-0183/ProstateX-0183_1.3.6.1.4.1.14519.5.2.1.7311.5101.262719318163046156031519223454.dcm (deflated 61%)\n",
            "  adding: content/sr/ProstateX-0002/ (stored 0%)\n",
            "  adding: content/sr/ProstateX-0002/ProstateX-0002_1.3.6.1.4.1.14519.5.2.1.7311.5101.479812804428819225709948044920.dcm (deflated 68%)\n",
            "  adding: content/sr/ProstateX-0088/ (stored 0%)\n",
            "  adding: content/sr/ProstateX-0088/ProstateX-0088_1.3.6.1.4.1.14519.5.2.1.7311.5101.164969031860775880146618363557.dcm (deflated 67%)\n",
            "  adding: content/sr/ProstateX-0282/ (stored 0%)\n",
            "  adding: content/sr/ProstateX-0282/ProstateX-0282_1.3.6.1.4.1.14519.5.2.1.7310.5101.924461907121382629082653841527.dcm (deflated 70%)\n",
            "  adding: content/sr/ProstateX-0191/ (stored 0%)\n",
            "  adding: content/sr/ProstateX-0191/ProstateX-0191_1.3.6.1.4.1.14519.5.2.1.7311.5101.275385263606495118256127870574.dcm (deflated 61%)\n",
            "  adding: content/sr/ProstateX-0014/ (stored 0%)\n",
            "  adding: content/sr/ProstateX-0014/ProstateX-0014_1.3.6.1.4.1.14519.5.2.1.7311.5101.159842252251603061509259813100.dcm (deflated 61%)\n",
            "  adding: content/sr/ProstateX-0314/ (stored 0%)\n",
            "  adding: content/sr/ProstateX-0314/ProstateX-0314_1.3.6.1.4.1.14519.5.2.1.7310.5101.109456220054559254367720531442.dcm (deflated 65%)\n",
            "  adding: content/sr/ProstateX-0035/ (stored 0%)\n",
            "  adding: content/sr/ProstateX-0035/ProstateX-0035_1.3.6.1.4.1.14519.5.2.1.7311.5101.158066586341196283875658594147.dcm (deflated 67%)\n",
            "  adding: content/sr/ProstateX-0303/ (stored 0%)\n",
            "  adding: content/sr/ProstateX-0303/ProstateX-0303_1.3.6.1.4.1.14519.5.2.1.7310.5101.723608901894526939665333140860.dcm (deflated 70%)\n",
            "  adding: content/sr/ProstateX-0083/ (stored 0%)\n",
            "  adding: content/sr/ProstateX-0083/ProstateX-0083_1.3.6.1.4.1.14519.5.2.1.7311.5101.460453169764361555745878708935.dcm (deflated 67%)\n"
          ]
        },
        {
          "output_type": "display_data",
          "data": {
            "text/plain": [
              "<IPython.core.display.Javascript object>"
            ],
            "application/javascript": [
              "\n",
              "    async function download(id, filename, size) {\n",
              "      if (!google.colab.kernel.accessAllowed) {\n",
              "        return;\n",
              "      }\n",
              "      const div = document.createElement('div');\n",
              "      const label = document.createElement('label');\n",
              "      label.textContent = `Downloading \"${filename}\": `;\n",
              "      div.appendChild(label);\n",
              "      const progress = document.createElement('progress');\n",
              "      progress.max = size;\n",
              "      div.appendChild(progress);\n",
              "      document.body.appendChild(div);\n",
              "\n",
              "      const buffers = [];\n",
              "      let downloaded = 0;\n",
              "\n",
              "      const channel = await google.colab.kernel.comms.open(id);\n",
              "      // Send a message to notify the kernel that we're ready.\n",
              "      channel.send({})\n",
              "\n",
              "      for await (const message of channel.messages) {\n",
              "        // Send a message to notify the kernel that we're ready.\n",
              "        channel.send({})\n",
              "        if (message.buffers) {\n",
              "          for (const buffer of message.buffers) {\n",
              "            buffers.push(buffer);\n",
              "            downloaded += buffer.byteLength;\n",
              "            progress.value = downloaded;\n",
              "          }\n",
              "        }\n",
              "      }\n",
              "      const blob = new Blob(buffers, {type: 'application/binary'});\n",
              "      const a = document.createElement('a');\n",
              "      a.href = window.URL.createObjectURL(blob);\n",
              "      a.download = filename;\n",
              "      div.appendChild(a);\n",
              "      a.click();\n",
              "      div.remove();\n",
              "    }\n",
              "  "
            ]
          },
          "metadata": {}
        },
        {
          "output_type": "display_data",
          "data": {
            "text/plain": [
              "<IPython.core.display.Javascript object>"
            ],
            "application/javascript": [
              "download(\"download_b9823a42-841f-4dff-95d2-25bdaf46335f\", \"sr.zip\", 944352)"
            ]
          },
          "metadata": {}
        }
      ]
    }
  ]
}