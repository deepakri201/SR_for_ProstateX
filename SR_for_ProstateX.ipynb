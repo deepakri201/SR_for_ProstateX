{
  "nbformat": 4,
  "nbformat_minor": 0,
  "metadata": {
    "colab": {
      "provenance": [],
      "collapsed_sections": [
        "gBtjWZXgbESM"
      ],
      "authorship_tag": "ABX9TyN1+4cb+gLcYu/P7/NRMPAE",
      "include_colab_link": true
    },
    "kernelspec": {
      "name": "python3",
      "display_name": "Python 3"
    },
    "language_info": {
      "name": "python"
    }
  },
  "cells": [
    {
      "cell_type": "markdown",
      "metadata": {
        "id": "view-in-github",
        "colab_type": "text"
      },
      "source": [
        "<a href=\"https://colab.research.google.com/github/deepakri201/SR_for_ProstateX/blob/main/SR_for_ProstateX.ipynb\" target=\"_parent\"><img src=\"https://colab.research.google.com/assets/colab-badge.svg\" alt=\"Open In Colab\"/></a>"
      ]
    },
    {
      "cell_type": "markdown",
      "source": [
        "# Creation of DICOM for ProstateX\n",
        "\n",
        "In this notebook, we create all of the DICOM SRs for ProstateX. The csvs used for the annotations are obtained from TCIA: https://www.cancerimagingarchive.net/collection/prostatex/\n",
        "\n",
        "The data from the 1st challenge do not include the Gleason Grade Group and only include if each lesion is clinically significant or not: located in google drive for now, later upload as github attachment to download quickly.\n",
        "\n",
        "The data from the 2nd challenge include the Gleason Grade Group: the csvs for the training lesion info are [here](https://www.cancerimagingarchive.net/wp-content/uploads/ProstateX2-DataInfo-Train.zip), and the testing lesion info is [here](https://www.cancerimagingarchive.net/wp-content/uploads/ProstateX2-DataInfo-Test.zip)\n",
        "\n",
        "However, the other prostate information remains the same.\n",
        "\n",
        "\n",
        "Deepa Krishnaswamy\n",
        "\n",
        "Brigham and Women's Hospital\n",
        "\n",
        "May 2025"
      ],
      "metadata": {
        "id": "xAbOUGDSzovH"
      }
    },
    {
      "cell_type": "code",
      "source": [
        "location = 'us-central1'\n",
        "bucket_sr_directory = \"gs://sr_prostatex\""
      ],
      "metadata": {
        "id": "BDQsyG4mokh2"
      },
      "execution_count": 1,
      "outputs": []
    },
    {
      "cell_type": "markdown",
      "metadata": {
        "id": "_9kwcxEhbF46"
      },
      "source": [
        "# Parameterization"
      ]
    },
    {
      "cell_type": "code",
      "execution_count": 2,
      "metadata": {
        "colab": {
          "base_uri": "https://localhost:8080/"
        },
        "id": "PlykERX38ZjP",
        "outputId": "a9bcccd3-ec04-4d9a-b290-0c0b4cd9c1c9",
        "cellView": "form"
      },
      "outputs": [
        {
          "output_type": "stream",
          "name": "stdout",
          "text": [
            "Updated property [core/project].\n"
          ]
        }
      ],
      "source": [
        "#@title Enter your Project ID here\n",
        "# initialize this variable with your Google Cloud Project ID!\n",
        "project_name = \"idc-external-018\" #@param {type:\"string\"}\n",
        "\n",
        "import os\n",
        "os.environ[\"GCP_PROJECT_ID\"] = project_name\n",
        "\n",
        "!gcloud config set project $project_name\n",
        "\n",
        "from google.colab import auth\n",
        "auth.authenticate_user()"
      ]
    },
    {
      "cell_type": "markdown",
      "metadata": {
        "id": "gBtjWZXgbESM"
      },
      "source": [
        "# Environment setup"
      ]
    },
    {
      "cell_type": "code",
      "execution_count": 3,
      "metadata": {
        "id": "jq44n6UxbHJc"
      },
      "outputs": [],
      "source": [
        "# Authorize\n",
        "from google.colab import auth\n",
        "auth.authenticate_user()"
      ]
    },
    {
      "cell_type": "code",
      "source": [
        "from google.colab import drive\n",
        "drive.mount('/content/gdrive')"
      ],
      "metadata": {
        "colab": {
          "base_uri": "https://localhost:8080/"
        },
        "id": "dzHo8zElfG13",
        "outputId": "235867a8-9047-40b6-8d12-fa5d1ebb346d"
      },
      "execution_count": 4,
      "outputs": [
        {
          "output_type": "stream",
          "name": "stdout",
          "text": [
            "Mounted at /content/gdrive\n"
          ]
        }
      ]
    },
    {
      "cell_type": "code",
      "execution_count": 5,
      "metadata": {
        "colab": {
          "base_uri": "https://localhost:8080/"
        },
        "id": "fiGlclKQsKqX",
        "outputId": "38c58429-1b83-4a73-9629-62d95c9ba49c"
      },
      "outputs": [
        {
          "output_type": "stream",
          "name": "stdout",
          "text": [
            "Collecting SimpleITK\n",
            "  Downloading simpleitk-2.5.2-cp311-abi3-manylinux2014_x86_64.manylinux_2_17_x86_64.whl.metadata (7.2 kB)\n",
            "Downloading simpleitk-2.5.2-cp311-abi3-manylinux2014_x86_64.manylinux_2_17_x86_64.whl (52.6 MB)\n",
            "\u001b[2K   \u001b[90m━━━━━━━━━━━━━━━━━━━━━━━━━━━━━━━━━━━━━━━━\u001b[0m \u001b[32m52.6/52.6 MB\u001b[0m \u001b[31m15.0 MB/s\u001b[0m eta \u001b[36m0:00:00\u001b[0m\n",
            "\u001b[?25hInstalling collected packages: SimpleITK\n",
            "Successfully installed SimpleITK-2.5.2\n"
          ]
        }
      ],
      "source": [
        "!pip install SimpleITK"
      ]
    },
    {
      "cell_type": "code",
      "source": [
        "!pip install pydicom"
      ],
      "metadata": {
        "colab": {
          "base_uri": "https://localhost:8080/"
        },
        "id": "rA7fmPJ0eamw",
        "outputId": "9b44390c-3a84-4edd-8fcb-509445b06453"
      },
      "execution_count": 6,
      "outputs": [
        {
          "output_type": "stream",
          "name": "stdout",
          "text": [
            "Collecting pydicom\n",
            "  Downloading pydicom-3.0.1-py3-none-any.whl.metadata (9.4 kB)\n",
            "Downloading pydicom-3.0.1-py3-none-any.whl (2.4 MB)\n",
            "\u001b[2K   \u001b[90m━━━━━━━━━━━━━━━━━━━━━━━━━━━━━━━━━━━━━━━━\u001b[0m \u001b[32m2.4/2.4 MB\u001b[0m \u001b[31m16.8 MB/s\u001b[0m eta \u001b[36m0:00:00\u001b[0m\n",
            "\u001b[?25hInstalling collected packages: pydicom\n",
            "Successfully installed pydicom-3.0.1\n"
          ]
        }
      ]
    },
    {
      "cell_type": "code",
      "source": [
        "!pip install highdicom"
      ],
      "metadata": {
        "colab": {
          "base_uri": "https://localhost:8080/"
        },
        "id": "O5aQ0HDUedvl",
        "outputId": "91a28610-738d-4908-913f-dcc5b358a94c"
      },
      "execution_count": 7,
      "outputs": [
        {
          "output_type": "stream",
          "name": "stdout",
          "text": [
            "Collecting highdicom\n",
            "  Downloading highdicom-0.25.1-py3-none-any.whl.metadata (5.0 kB)\n",
            "Requirement already satisfied: numpy>=1.19 in /usr/local/lib/python3.11/dist-packages (from highdicom) (2.0.2)\n",
            "Requirement already satisfied: pillow>=8.3 in /usr/local/lib/python3.11/dist-packages (from highdicom) (11.2.1)\n",
            "Requirement already satisfied: pydicom>=3.0.1 in /usr/local/lib/python3.11/dist-packages (from highdicom) (3.0.1)\n",
            "Collecting pyjpegls>=1.0.0 (from highdicom)\n",
            "  Downloading pyjpegls-1.5.1-cp311-cp311-manylinux_2_17_x86_64.manylinux2014_x86_64.whl.metadata (4.5 kB)\n",
            "Requirement already satisfied: typing-extensions>=4.0.0 in /usr/local/lib/python3.11/dist-packages (from highdicom) (4.14.0)\n",
            "Downloading highdicom-0.25.1-py3-none-any.whl (1.1 MB)\n",
            "\u001b[2K   \u001b[90m━━━━━━━━━━━━━━━━━━━━━━━━━━━━━━━━━━━━━━━━\u001b[0m \u001b[32m1.1/1.1 MB\u001b[0m \u001b[31m12.5 MB/s\u001b[0m eta \u001b[36m0:00:00\u001b[0m\n",
            "\u001b[?25hDownloading pyjpegls-1.5.1-cp311-cp311-manylinux_2_17_x86_64.manylinux2014_x86_64.whl (2.7 MB)\n",
            "\u001b[2K   \u001b[90m━━━━━━━━━━━━━━━━━━━━━━━━━━━━━━━━━━━━━━━━\u001b[0m \u001b[32m2.7/2.7 MB\u001b[0m \u001b[31m18.8 MB/s\u001b[0m eta \u001b[36m0:00:00\u001b[0m\n",
            "\u001b[?25hInstalling collected packages: pyjpegls, highdicom\n",
            "Successfully installed highdicom-0.25.1 pyjpegls-1.5.1\n"
          ]
        }
      ]
    },
    {
      "cell_type": "code",
      "source": [
        "!pip install idc-index"
      ],
      "metadata": {
        "colab": {
          "base_uri": "https://localhost:8080/"
        },
        "id": "uLSiTKcyehp3",
        "outputId": "16370197-dd89-43a1-8dc5-83a48a6f9d91"
      },
      "execution_count": 8,
      "outputs": [
        {
          "output_type": "stream",
          "name": "stdout",
          "text": [
            "Collecting idc-index\n",
            "  Downloading idc_index-0.9.0-py3-none-any.whl.metadata (7.9 kB)\n",
            "Requirement already satisfied: click in /usr/local/lib/python3.11/dist-packages (from idc-index) (8.2.1)\n",
            "Collecting duckdb<=1.2.1,>=0.10.0 (from idc-index)\n",
            "  Downloading duckdb-1.2.1-cp311-cp311-manylinux_2_17_x86_64.manylinux2014_x86_64.whl.metadata (966 bytes)\n",
            "Collecting idc-index-data==21.0.0 (from idc-index)\n",
            "  Downloading idc_index_data-21.0.0-py3-none-any.whl.metadata (5.5 kB)\n",
            "Requirement already satisfied: packaging in /usr/local/lib/python3.11/dist-packages (from idc-index) (24.2)\n",
            "Requirement already satisfied: pandas<=2.2.4 in /usr/local/lib/python3.11/dist-packages (from idc-index) (2.2.2)\n",
            "Requirement already satisfied: platformdirs in /usr/local/lib/python3.11/dist-packages (from idc-index) (4.3.8)\n",
            "Requirement already satisfied: psutil in /usr/local/lib/python3.11/dist-packages (from idc-index) (5.9.5)\n",
            "Requirement already satisfied: pyarrow in /usr/local/lib/python3.11/dist-packages (from idc-index) (18.1.0)\n",
            "Requirement already satisfied: requests in /usr/local/lib/python3.11/dist-packages (from idc-index) (2.32.3)\n",
            "Collecting s5cmd (from idc-index)\n",
            "  Downloading s5cmd-0.2.0-py3-none-manylinux_2_5_x86_64.manylinux1_x86_64.manylinux_2_17_x86_64.manylinux2014_x86_64.whl.metadata (5.7 kB)\n",
            "Collecting sphinx-click (from idc-index)\n",
            "  Downloading sphinx_click-6.0.0-py3-none-any.whl.metadata (3.4 kB)\n",
            "Requirement already satisfied: tqdm in /usr/local/lib/python3.11/dist-packages (from idc-index) (4.67.1)\n",
            "Requirement already satisfied: numpy>=1.23.2 in /usr/local/lib/python3.11/dist-packages (from pandas<=2.2.4->idc-index) (2.0.2)\n",
            "Requirement already satisfied: python-dateutil>=2.8.2 in /usr/local/lib/python3.11/dist-packages (from pandas<=2.2.4->idc-index) (2.9.0.post0)\n",
            "Requirement already satisfied: pytz>=2020.1 in /usr/local/lib/python3.11/dist-packages (from pandas<=2.2.4->idc-index) (2025.2)\n",
            "Requirement already satisfied: tzdata>=2022.7 in /usr/local/lib/python3.11/dist-packages (from pandas<=2.2.4->idc-index) (2025.2)\n",
            "Requirement already satisfied: charset-normalizer<4,>=2 in /usr/local/lib/python3.11/dist-packages (from requests->idc-index) (3.4.2)\n",
            "Requirement already satisfied: idna<4,>=2.5 in /usr/local/lib/python3.11/dist-packages (from requests->idc-index) (3.10)\n",
            "Requirement already satisfied: urllib3<3,>=1.21.1 in /usr/local/lib/python3.11/dist-packages (from requests->idc-index) (2.4.0)\n",
            "Requirement already satisfied: certifi>=2017.4.17 in /usr/local/lib/python3.11/dist-packages (from requests->idc-index) (2025.4.26)\n",
            "Requirement already satisfied: sphinx>=4.0 in /usr/local/lib/python3.11/dist-packages (from sphinx-click->idc-index) (8.2.3)\n",
            "Requirement already satisfied: docutils in /usr/local/lib/python3.11/dist-packages (from sphinx-click->idc-index) (0.21.2)\n",
            "Requirement already satisfied: six>=1.5 in /usr/local/lib/python3.11/dist-packages (from python-dateutil>=2.8.2->pandas<=2.2.4->idc-index) (1.17.0)\n",
            "Requirement already satisfied: sphinxcontrib-applehelp>=1.0.7 in /usr/local/lib/python3.11/dist-packages (from sphinx>=4.0->sphinx-click->idc-index) (2.0.0)\n",
            "Requirement already satisfied: sphinxcontrib-devhelp>=1.0.6 in /usr/local/lib/python3.11/dist-packages (from sphinx>=4.0->sphinx-click->idc-index) (2.0.0)\n",
            "Requirement already satisfied: sphinxcontrib-htmlhelp>=2.0.6 in /usr/local/lib/python3.11/dist-packages (from sphinx>=4.0->sphinx-click->idc-index) (2.1.0)\n",
            "Requirement already satisfied: sphinxcontrib-jsmath>=1.0.1 in /usr/local/lib/python3.11/dist-packages (from sphinx>=4.0->sphinx-click->idc-index) (1.0.1)\n",
            "Requirement already satisfied: sphinxcontrib-qthelp>=1.0.6 in /usr/local/lib/python3.11/dist-packages (from sphinx>=4.0->sphinx-click->idc-index) (2.0.0)\n",
            "Requirement already satisfied: sphinxcontrib-serializinghtml>=1.1.9 in /usr/local/lib/python3.11/dist-packages (from sphinx>=4.0->sphinx-click->idc-index) (2.0.0)\n",
            "Requirement already satisfied: Jinja2>=3.1 in /usr/local/lib/python3.11/dist-packages (from sphinx>=4.0->sphinx-click->idc-index) (3.1.6)\n",
            "Requirement already satisfied: Pygments>=2.17 in /usr/local/lib/python3.11/dist-packages (from sphinx>=4.0->sphinx-click->idc-index) (2.19.1)\n",
            "Requirement already satisfied: snowballstemmer>=2.2 in /usr/local/lib/python3.11/dist-packages (from sphinx>=4.0->sphinx-click->idc-index) (3.0.1)\n",
            "Requirement already satisfied: babel>=2.13 in /usr/local/lib/python3.11/dist-packages (from sphinx>=4.0->sphinx-click->idc-index) (2.17.0)\n",
            "Requirement already satisfied: alabaster>=0.7.14 in /usr/local/lib/python3.11/dist-packages (from sphinx>=4.0->sphinx-click->idc-index) (1.0.0)\n",
            "Requirement already satisfied: imagesize>=1.3 in /usr/local/lib/python3.11/dist-packages (from sphinx>=4.0->sphinx-click->idc-index) (1.4.1)\n",
            "Requirement already satisfied: roman-numerals-py>=1.0.0 in /usr/local/lib/python3.11/dist-packages (from sphinx>=4.0->sphinx-click->idc-index) (3.1.0)\n",
            "Requirement already satisfied: MarkupSafe>=2.0 in /usr/local/lib/python3.11/dist-packages (from Jinja2>=3.1->sphinx>=4.0->sphinx-click->idc-index) (3.0.2)\n",
            "Downloading idc_index-0.9.0-py3-none-any.whl (27 kB)\n",
            "Downloading idc_index_data-21.0.0-py3-none-any.whl (80.6 MB)\n",
            "\u001b[2K   \u001b[90m━━━━━━━━━━━━━━━━━━━━━━━━━━━━━━━━━━━━━━━━\u001b[0m \u001b[32m80.6/80.6 MB\u001b[0m \u001b[31m9.2 MB/s\u001b[0m eta \u001b[36m0:00:00\u001b[0m\n",
            "\u001b[?25hDownloading duckdb-1.2.1-cp311-cp311-manylinux_2_17_x86_64.manylinux2014_x86_64.whl (20.2 MB)\n",
            "\u001b[2K   \u001b[90m━━━━━━━━━━━━━━━━━━━━━━━━━━━━━━━━━━━━━━━━\u001b[0m \u001b[32m20.2/20.2 MB\u001b[0m \u001b[31m45.2 MB/s\u001b[0m eta \u001b[36m0:00:00\u001b[0m\n",
            "\u001b[?25hDownloading s5cmd-0.2.0-py3-none-manylinux_2_5_x86_64.manylinux1_x86_64.manylinux_2_17_x86_64.manylinux2014_x86_64.whl (4.7 MB)\n",
            "\u001b[2K   \u001b[90m━━━━━━━━━━━━━━━━━━━━━━━━━━━━━━━━━━━━━━━━\u001b[0m \u001b[32m4.7/4.7 MB\u001b[0m \u001b[31m36.8 MB/s\u001b[0m eta \u001b[36m0:00:00\u001b[0m\n",
            "\u001b[?25hDownloading sphinx_click-6.0.0-py3-none-any.whl (9.9 kB)\n",
            "Installing collected packages: s5cmd, idc-index-data, duckdb, sphinx-click, idc-index\n",
            "  Attempting uninstall: duckdb\n",
            "    Found existing installation: duckdb 1.2.2\n",
            "    Uninstalling duckdb-1.2.2:\n",
            "      Successfully uninstalled duckdb-1.2.2\n",
            "Successfully installed duckdb-1.2.1 idc-index-0.9.0 idc-index-data-21.0.0 s5cmd-0.2.0 sphinx-click-6.0.0\n"
          ]
        }
      ]
    },
    {
      "cell_type": "code",
      "execution_count": 9,
      "metadata": {
        "id": "se9qmcLGbHfa"
      },
      "outputs": [],
      "source": [
        "import os\n",
        "import sys\n",
        "import time\n",
        "import re\n",
        "\n",
        "from google.cloud import bigquery\n",
        "from google.cloud import storage\n",
        "\n",
        "import nibabel as nib\n",
        "import numpy as np\n",
        "import pandas as pd\n",
        "import SimpleITK as sitk\n",
        "import matplotlib.pyplot as plt\n",
        "\n",
        "import json\n",
        "\n",
        "import pydicom"
      ]
    },
    {
      "cell_type": "code",
      "source": [
        "from pathlib import Path\n",
        "\n",
        "import pydicom\n",
        "from pydicom.uid import generate_uid\n",
        "from pydicom.filereader import dcmread\n",
        "from pydicom.sr.codedict import codes\n",
        "\n",
        "import highdicom\n",
        "from highdicom.sr.content import (\n",
        "    FindingSite,\n",
        "    ImageRegion,\n",
        "    ImageRegion3D,\n",
        "    SourceImageForRegion\n",
        ")\n",
        "from highdicom.sr.enum import GraphicTypeValues3D\n",
        "from highdicom.sr.enum import GraphicTypeValues\n",
        "from highdicom.sr.sop import Comprehensive3DSR, ComprehensiveSR\n",
        "from highdicom.sr.templates import (\n",
        "    DeviceObserverIdentifyingAttributes,\n",
        "    Measurement,\n",
        "    MeasurementProperties,\n",
        "    MeasurementReport,\n",
        "    ObservationContext,\n",
        "    ObserverContext,\n",
        "    PersonObserverIdentifyingAttributes,\n",
        "    PlanarROIMeasurementsAndQualitativeEvaluations,\n",
        "    RelationshipTypeValues,\n",
        "    TrackingIdentifier,\n",
        "    QualitativeEvaluation\n",
        ")\n",
        "from highdicom.sr.value_types import (\n",
        "    CodedConcept,\n",
        "    CodeContentItem,\n",
        ")\n",
        "\n",
        "from highdicom.sr import ImageLibrary\n",
        "from highdicom.sr import ImageLibraryEntryDescriptors\n",
        "from highdicom.sr.value_types import Code\n",
        "from highdicom.sr.value_types import ContentItem\n",
        "# from highdicom.sr import ContentItem, ValueTypeValues, RelationshipTypeValues\n",
        "from highdicom.sr.coding import CodedConcept\n",
        "\n",
        "import logging\n",
        "logger = logging.getLogger(\"highdicom.sr.sop\")\n",
        "logger.setLevel(logging.INFO)"
      ],
      "metadata": {
        "id": "6l8_jKlKNmV0"
      },
      "execution_count": 10,
      "outputs": []
    },
    {
      "cell_type": "code",
      "source": [
        "from idc_index import IDCClient\n",
        "client = IDCClient.client()"
      ],
      "metadata": {
        "id": "wcS7tThiQmOV"
      },
      "execution_count": 11,
      "outputs": []
    },
    {
      "cell_type": "code",
      "source": [
        "pydicom.__version__"
      ],
      "metadata": {
        "colab": {
          "base_uri": "https://localhost:8080/",
          "height": 35
        },
        "id": "hZ2CVSaZm2NL",
        "outputId": "ea255afa-10a4-4e46-c389-c47bc3687fdf"
      },
      "execution_count": 12,
      "outputs": [
        {
          "output_type": "execute_result",
          "data": {
            "text/plain": [
              "'3.0.1'"
            ],
            "application/vnd.google.colaboratory.intrinsic+json": {
              "type": "string"
            }
          },
          "metadata": {},
          "execution_count": 12
        }
      ]
    },
    {
      "cell_type": "code",
      "source": [
        "highdicom.__version__"
      ],
      "metadata": {
        "colab": {
          "base_uri": "https://localhost:8080/",
          "height": 35
        },
        "id": "rZ_OIHp_nimy",
        "outputId": "51da4721-66d5-46ad-fb5f-e49dbbfd70eb"
      },
      "execution_count": 13,
      "outputs": [
        {
          "output_type": "execute_result",
          "data": {
            "text/plain": [
              "'0.25.1'"
            ],
            "application/vnd.google.colaboratory.intrinsic+json": {
              "type": "string"
            }
          },
          "metadata": {},
          "execution_count": 13
        }
      ]
    },
    {
      "cell_type": "markdown",
      "source": [
        "# Get the metadata tables from IDC"
      ],
      "metadata": {
        "id": "ro1NefsB3aOu"
      }
    },
    {
      "cell_type": "code",
      "source": [
        "client_bq = bigquery.Client(project=project_name)"
      ],
      "metadata": {
        "id": "GqaZ0mAMOaCP"
      },
      "execution_count": 14,
      "outputs": []
    },
    {
      "cell_type": "code",
      "source": [
        "query1 = f\"\"\"\n",
        "    SELECT\n",
        "      findings.dicom_patient_id AS PatientID,\n",
        "      findings.fid,\n",
        "      findings.pos,\n",
        "      findings.zone,\n",
        "      findings.clinsig,\n",
        "      images.dcmserdescr AS SeriesDescription,\n",
        "      images.dcmsernum AS SeriesNumber\n",
        "    FROM\n",
        "      `bigquery-public-data.idc_current_clinical.prostatex_findings` as findings\n",
        "    JOIN\n",
        "      `bigquery-public-data.idc_current_clinical.prostatex_images` as images\n",
        "    ON\n",
        "      findings.dicom_patient_id = images.dicom_patient_id AND\n",
        "      findings.fid = images.fid AND\n",
        "      findings.pos = images.pos\n",
        "    WHERE\n",
        "      images.dcmserdescr LIKE \"%t2_tse_tra%\"\n",
        "      \"\"\"\n",
        "\n",
        "query2 = f\"\"\"\n",
        "  SELECT\n",
        "    findings.dicom_patient_id AS PatientID,\n",
        "    findings.fid,\n",
        "    findings.pos,\n",
        "    findings.zone,\n",
        "    findings.ggg,\n",
        "    images.dcmserdescr AS SeriesDescription,\n",
        "    images.dcmsernum AS SeriesNumber,\n",
        "    images.dcmseruid AS SeriesInstanceUID\n",
        "  FROM\n",
        "    `bigquery-public-data.idc_current_clinical.prostatex_findings2` as findings\n",
        "  JOIN\n",
        "    `bigquery-public-data.idc_current_clinical.prostatex_images2` as images\n",
        "  ON\n",
        "    findings.dicom_patient_id = images.dicom_patient_id AND\n",
        "    findings.fid = images.fid AND\n",
        "    findings.pos = images.pos\n",
        "  WHERE\n",
        "    images.dcmserdescr LIKE \"%t2_tse_tra%\"\n",
        "  \"\"\"\n",
        "\n",
        "job_config = bigquery.QueryJobConfig()\n",
        "df1 = client_bq.query(query1, job_config=job_config).to_dataframe()\n",
        "df2 = client_bq.query(query2, job_config=job_config).to_dataframe()\n",
        "\n",
        "# Then merge to create single df\n",
        "df = pd.merge(left=df1, right=df2, how=\"outer\", on=['PatientID', 'fid', 'pos', 'zone', 'SeriesDescription', 'SeriesNumber'])\n",
        "\n",
        "def merge_rows(group):\n",
        "  # Start with the first row as the base\n",
        "  row = group.iloc[0].copy()\n",
        "\n",
        "  # Prefer non-null ggg from any row\n",
        "  non_null_ggg = group['ggg'].dropna()\n",
        "  if not non_null_ggg.empty:\n",
        "    row['ggg'] = non_null_ggg.iloc[0]\n",
        "\n",
        "  # Prefer non-null dcmseruid, and match its corresponding dcmsernum\n",
        "  non_null_uid_row = group.dropna(subset=['SeriesInstanceUID'])\n",
        "  if not non_null_uid_row.empty:\n",
        "    row['SeriesInstanceUID'] = non_null_uid_row.iloc[0]['SeriesInstanceUID']\n",
        "    row['SeriesNumber'] = non_null_uid_row.iloc[0]['SeriesNumber']\n",
        "    row['SeriesDescription'] = non_null_uid_row.iloc[0]['SeriesDescription']\n",
        "\n",
        "  return row\n",
        "\n",
        "# Now we need to merge the rows, so that the ggg and clinsig are appropriately combined per pos\n",
        "# Apply per (dicom_patient_id, pos)\n",
        "df = df.groupby(['PatientID', 'pos'], as_index=False).apply(merge_rows).reset_index(drop=True)\n"
      ],
      "metadata": {
        "colab": {
          "base_uri": "https://localhost:8080/"
        },
        "id": "2YjyaGnJedYx",
        "outputId": "c95fd94a-ea68-4c16-e727-1e4aeacaf445"
      },
      "execution_count": 15,
      "outputs": [
        {
          "output_type": "stream",
          "name": "stderr",
          "text": [
            "<ipython-input-15-642120320>:71: DeprecationWarning: DataFrameGroupBy.apply operated on the grouping columns. This behavior is deprecated, and in a future version of pandas the grouping columns will be excluded from the operation. Either pass `include_groups=False` to exclude the groupings or explicitly select the grouping columns after groupby to silence this warning.\n",
            "  df = df.groupby(['PatientID', 'pos'], as_index=False).apply(merge_rows).reset_index(drop=True)\n"
          ]
        }
      ]
    },
    {
      "cell_type": "code",
      "source": [
        "# The v1 did not include the SeriesInstanceUID or the StudyDate\n",
        "# We need to add back in manually - use combination of PatientID, SeriesNumber, and the SeriesDescription\n",
        "# query for ones with missing SeriesInstanceUID\n",
        "\n",
        "query = \"\"\"\n",
        "SELECT\n",
        "  PatientID,\n",
        "  StudyInstanceUID,\n",
        "  StudyDate,\n",
        "  SeriesNumber,\n",
        "  SeriesInstanceUID,\n",
        "  SeriesDescription,\n",
        "  FrameOfReferenceUID\n",
        "FROM\n",
        "  `bigquery-public-data.idc_current.dicom_all`\n",
        "WHERE\n",
        "  Modality = 'MR' AND\n",
        "  collection_id = 'prostatex'\n",
        "ORDER BY\n",
        "  PatientID\n",
        "\"\"\"\n",
        "\n",
        "df_selection = client_bq.query(query).to_dataframe()\n"
      ],
      "metadata": {
        "id": "2I0QzvDiSNk0"
      },
      "execution_count": 16,
      "outputs": []
    },
    {
      "cell_type": "code",
      "source": [
        "df_prostatex = df.copy(deep=True)"
      ],
      "metadata": {
        "id": "07S_MVlyleYn"
      },
      "execution_count": 17,
      "outputs": []
    },
    {
      "cell_type": "code",
      "source": [
        "# Now we take the SeriesInstanceUID field from the df_selection and insert into the df_prostatex\n",
        "\n",
        "for index, row in df_prostatex.iterrows():\n",
        "  # If SeriesInstanceUID is NaN, fill in\n",
        "  DCMSerUID = row['SeriesInstanceUID']\n",
        "  if pd.isna(DCMSerUID):\n",
        "    # Get the corresponding PatientID (ProxID), SeriesNumber (DCMSerNum) and SeriesDescription (DCMSerDescr) to do the matching\n",
        "    PatientID_tomatch = row['PatientID']\n",
        "    SeriesNumber_tomatch = row['SeriesNumber']\n",
        "    SeriesDescription_tomatch = row['SeriesDescription']\n",
        "    # now find in the selection_df the corresponding SeriesInstanceUID\n",
        "    # First we check the PatientID\n",
        "    temp1_df = df_selection[df_selection['PatientID']==PatientID_tomatch]\n",
        "    if (temp1_df.empty):\n",
        "      print('PatientID: ' + str(PatientID_tomatch) + ' does not exist in IDC, skipping')\n",
        "      continue\n",
        "    else:\n",
        "      temp2_df = temp1_df[temp1_df['SeriesNumber']==str(SeriesNumber_tomatch)]\n",
        "      if (temp2_df.empty):\n",
        "        print('PatientID: ' + str(PatientID_tomatch) + ' SeriesNumber: ' + str(SeriesNumber_tomatch) + ' do not exist in IDC, skipping')\n",
        "        continue\n",
        "      else:\n",
        "        temp3_df = temp2_df[temp2_df['SeriesDescription']==str(SeriesDescription_tomatch)]\n",
        "        if (temp3_df.empty):\n",
        "          print('PatientID: ' + str(PatientID_tomatch) + ' SeriesNumber: ' + str(SeriesNumber_tomatch) + ' SeriesDescription' + str(SeriesDescription_tomatch) + ' do not exist in IDC, skipping')\n",
        "        else:\n",
        "          # get the SeriesInstanceUID\n",
        "          SeriesInstanceUID = temp3_df['SeriesInstanceUID'].values[0]\n",
        "          # assign value\n",
        "          df_prostatex.loc[index, 'SeriesInstanceUID'] = SeriesInstanceUID\n"
      ],
      "metadata": {
        "id": "pqSlYli5SNk1"
      },
      "execution_count": 18,
      "outputs": []
    },
    {
      "cell_type": "code",
      "source": [
        "# Now we take the StudyDate field from the df_selection and insert into the df_prostatex\n",
        "# Do the same with the StudyInstanceUID\n",
        "\n",
        "for index, row in df_prostatex.iterrows():\n",
        "  # Reassign all StudyDates!\n",
        "  # Get the corresponding PatientID (ProxID), SeriesNumber (DCMSerNum) and SeriesDescription (DCMSerDescr) to do the matching\n",
        "  PatientID_tomatch = row['PatientID']\n",
        "  SeriesNumber_tomatch = row['SeriesNumber']\n",
        "  SeriesDescription_tomatch = row['SeriesDescription']\n",
        "  # now find in the selection_df the corresponding SeriesInstanceUID\n",
        "  # First we check the PatientID\n",
        "  temp1_df = df_selection[df_selection['PatientID']==PatientID_tomatch]\n",
        "  if (temp1_df.empty):\n",
        "    print('PatientID: ' + str(PatientID_tomatch) + ' does not exist in IDC, skipping')\n",
        "    continue\n",
        "  else:\n",
        "    temp2_df = temp1_df[temp1_df['SeriesNumber']==str(SeriesNumber_tomatch)]\n",
        "    if (temp2_df.empty):\n",
        "      print('PatientID: ' + str(PatientID_tomatch) + ' SeriesNumber: ' + str(SeriesNumber_tomatch) + ' do not exist in IDC, skipping')\n",
        "      continue\n",
        "    else:\n",
        "      temp3_df = temp2_df[temp2_df['SeriesDescription']==str(SeriesDescription_tomatch)]\n",
        "      if (temp3_df.empty):\n",
        "        print('PatientID: ' + str(PatientID_tomatch) + ' SeriesNumber: ' + str(SeriesNumber_tomatch) + ' SeriesDescription' + str(SeriesDescription_tomatch) + ' do not exist in IDC, skipping')\n",
        "      else:\n",
        "        # get the StudyDate\n",
        "        StudyDate = temp3_df['StudyDate'].values[0]\n",
        "        # assign value\n",
        "        df_prostatex.loc[index, 'StudyDate'] = StudyDate\n",
        "        # get the StudyInstanceUID\n",
        "        StudyInstanceUID = temp3_df['StudyInstanceUID'].values[0]\n",
        "        # assign the value\n",
        "        df_prostatex.loc[index, 'StudyInstanceUID'] = StudyInstanceUID\n"
      ],
      "metadata": {
        "id": "P-TTJ_ewSNk1"
      },
      "execution_count": 19,
      "outputs": []
    },
    {
      "cell_type": "code",
      "source": [
        "# Remove rows with Nan in the SeriesInstanceUID\n",
        "\n",
        "print('original number of rows in df_prostatex: ' + str(len(df_prostatex)))\n",
        "df_prostatex = df_prostatex[df_prostatex['SeriesInstanceUID'].notna()]\n",
        "print('new number of rows in df_prostatex: ' + str(len(df_prostatex)))"
      ],
      "metadata": {
        "colab": {
          "base_uri": "https://localhost:8080/"
        },
        "outputId": "f639fa51-7c94-4cce-f742-bf51b1346f81",
        "id": "QGIvfwjXSNk1"
      },
      "execution_count": 20,
      "outputs": [
        {
          "output_type": "stream",
          "name": "stdout",
          "text": [
            "original number of rows in df_prostatex: 539\n",
            "new number of rows in df_prostatex: 539\n"
          ]
        }
      ]
    },
    {
      "cell_type": "code",
      "source": [
        "# Now add the FrameOfReferenceUID as a column\n",
        "\n",
        "FrameOfReferenceUID_list = []\n",
        "for n in range(0,len(df_prostatex)):\n",
        "  SeriesInstanceUID = df_prostatex['SeriesInstanceUID'].values[n]\n",
        "  FrameOfReferenceUID = df_selection[df_selection['SeriesInstanceUID']==SeriesInstanceUID]['FrameOfReferenceUID'].values[0]\n",
        "  FrameOfReferenceUID_list.append(FrameOfReferenceUID)\n",
        "df_prostatex['FrameOfReferenceUID'] = FrameOfReferenceUID_list"
      ],
      "metadata": {
        "id": "zaGEhT1DrDid"
      },
      "execution_count": 21,
      "outputs": []
    },
    {
      "cell_type": "code",
      "source": [
        "# Now we make the SeriesNumber and SeriesInstanceUID consistent\n",
        "\n",
        "# Iterate through for each patient\n",
        "patient_ids = sorted(list(set(df_prostatex['PatientID'].values)))\n",
        "dcmsernum_list = []\n",
        "dcmseruid_list = []\n",
        "for n in range(0,len(patient_ids)):\n",
        "  df_patient = df_prostatex[df_prostatex['PatientID']==patient_ids[n]]\n",
        "  set_seriesnumber = list(df_patient['SeriesNumber'].values)[0]\n",
        "  set_seriesuid = list(df_patient['SeriesInstanceUID'].values)[0]\n",
        "  dcmsernum_list.append(set_seriesnumber)\n",
        "  dcmseruid_list.append(set_seriesuid)\n",
        "\n",
        "df_patient = pd.DataFrame()\n",
        "df_patient['PatientID'] = patient_ids\n",
        "df_patient['SeriesNumber'] = dcmsernum_list\n",
        "df_patient['SeriesInstanceUID'] = dcmseruid_list\n",
        "\n",
        "df_prostatex = df_prostatex[['PatientID',\t'fid', 'pos', 'zone', 'clinsig', 'ggg', 'StudyDate', 'StudyInstanceUID', 'FrameOfReferenceUID']]\n",
        "df_prostatex = pd.merge(left=df_prostatex, right=df_patient, how='inner', on=['PatientID'])\n"
      ],
      "metadata": {
        "id": "zLDwjuLBsXY_"
      },
      "execution_count": 22,
      "outputs": []
    },
    {
      "cell_type": "code",
      "source": [
        "# Order the rows\n",
        "\n",
        "df_prostatex = df_prostatex.sort_values(by=['PatientID', 'zone', 'fid'])"
      ],
      "metadata": {
        "id": "xGkw_DXVYKsQ"
      },
      "execution_count": 24,
      "outputs": []
    },
    {
      "cell_type": "code",
      "source": [
        "df_prostatex.head(10)"
      ],
      "metadata": {
        "colab": {
          "base_uri": "https://localhost:8080/",
          "height": 363
        },
        "id": "mdIwlZqmT27N",
        "outputId": "0d117872-73c0-4a59-c9bb-b385c185b258"
      },
      "execution_count": 25,
      "outputs": [
        {
          "output_type": "execute_result",
          "data": {
            "text/plain": [
              "        PatientID  fid                                                pos  \\\n",
              "0  ProstateX-0000    1                            25.7457 31.8707 -38.511   \n",
              "1  ProstateX-0001    1  -40.5367071921656 29.320722668457 -16.70766907...   \n",
              "3  ProstateX-0002    1                          -27.0102 41.5467 -26.0469   \n",
              "2  ProstateX-0002    2                            -2.058 38.6752 -34.6104   \n",
              "5  ProstateX-0003    1                           22.1495 31.2717 -2.45933   \n",
              "4  ProstateX-0003    2                           -21.2871 19.3995 19.7429   \n",
              "6  ProstateX-0004    1                           -7.69665 3.64226 23.1659   \n",
              "7  ProstateX-0005    0  -14.5174331665039 49.4428329467773 20.78152465...   \n",
              "9  ProstateX-0005    1                           -38.6276 42.2781 21.4084   \n",
              "8  ProstateX-0005    1  -22.0892639160156 25.4668045043945 22.87915420...   \n",
              "\n",
              "  zone clinsig  ggg   StudyDate  \\\n",
              "0   PZ    True    3  2011-07-07   \n",
              "1   AS   False    1  2011-07-08   \n",
              "3   PZ    True    2  2011-07-15   \n",
              "2   PZ   False    1  2011-07-15   \n",
              "5   TZ   False  NaN  2011-10-17   \n",
              "4   TZ   False  NaN  2011-10-17   \n",
              "6   AS   False    1  2011-10-18   \n",
              "7   PZ    True    2  2011-10-20   \n",
              "9   PZ    True    3  2011-10-20   \n",
              "8   TZ   False  NaN  2011-10-20   \n",
              "\n",
              "                                    StudyInstanceUID  \\\n",
              "0  1.3.6.1.4.1.14519.5.2.1.7311.5101.158323547117...   \n",
              "1  1.3.6.1.4.1.14519.5.2.1.7311.5101.204786391199...   \n",
              "3  1.3.6.1.4.1.14519.5.2.1.7311.5101.170110802438...   \n",
              "2  1.3.6.1.4.1.14519.5.2.1.7311.5101.170110802438...   \n",
              "5  1.3.6.1.4.1.14519.5.2.1.7311.5101.879702148497...   \n",
              "4  1.3.6.1.4.1.14519.5.2.1.7311.5101.879702148497...   \n",
              "6  1.3.6.1.4.1.14519.5.2.1.7311.5101.170561193612...   \n",
              "7  1.3.6.1.4.1.14519.5.2.1.7311.5101.247316591887...   \n",
              "9  1.3.6.1.4.1.14519.5.2.1.7311.5101.247316591887...   \n",
              "8  1.3.6.1.4.1.14519.5.2.1.7311.5101.247316591887...   \n",
              "\n",
              "                                 FrameOfReferenceUID  SeriesNumber  \\\n",
              "0  1.3.6.1.4.1.14519.5.2.1.7311.5101.167989189699...             4   \n",
              "1  1.3.6.1.4.1.14519.5.2.1.7311.5101.410957498702...            10   \n",
              "3  1.3.6.1.4.1.14519.5.2.1.7311.5101.216292633397...             4   \n",
              "2  1.3.6.1.4.1.14519.5.2.1.7311.5101.216292633397...             4   \n",
              "5  1.3.6.1.4.1.14519.5.2.1.7311.5101.210593189161...             3   \n",
              "4  1.3.6.1.4.1.14519.5.2.1.7311.5101.210593189161...             3   \n",
              "6  1.3.6.1.4.1.14519.5.2.1.7311.5101.283465068568...             5   \n",
              "7  1.3.6.1.4.1.14519.5.2.1.7311.5101.253068539461...             4   \n",
              "9  1.3.6.1.4.1.14519.5.2.1.7311.5101.253068539461...             4   \n",
              "8  1.3.6.1.4.1.14519.5.2.1.7311.5101.253068539461...             4   \n",
              "\n",
              "                                   SeriesInstanceUID  \n",
              "0  1.3.6.1.4.1.14519.5.2.1.7311.5101.160028252338...  \n",
              "1  1.3.6.1.4.1.14519.5.2.1.7311.5101.296510477295...  \n",
              "3  1.3.6.1.4.1.14519.5.2.1.7311.5101.479812804428...  \n",
              "2  1.3.6.1.4.1.14519.5.2.1.7311.5101.479812804428...  \n",
              "5  1.3.6.1.4.1.14519.5.2.1.7311.5101.320508777856...  \n",
              "4  1.3.6.1.4.1.14519.5.2.1.7311.5101.320508777856...  \n",
              "6  1.3.6.1.4.1.14519.5.2.1.7311.5101.206828891270...  \n",
              "7  1.3.6.1.4.1.14519.5.2.1.7311.5101.119114186762...  \n",
              "9  1.3.6.1.4.1.14519.5.2.1.7311.5101.119114186762...  \n",
              "8  1.3.6.1.4.1.14519.5.2.1.7311.5101.119114186762...  "
            ],
            "text/html": [
              "\n",
              "  <div id=\"df-ad0181e3-b851-4728-a1c7-682a82eccfbf\" class=\"colab-df-container\">\n",
              "    <div>\n",
              "<style scoped>\n",
              "    .dataframe tbody tr th:only-of-type {\n",
              "        vertical-align: middle;\n",
              "    }\n",
              "\n",
              "    .dataframe tbody tr th {\n",
              "        vertical-align: top;\n",
              "    }\n",
              "\n",
              "    .dataframe thead th {\n",
              "        text-align: right;\n",
              "    }\n",
              "</style>\n",
              "<table border=\"1\" class=\"dataframe\">\n",
              "  <thead>\n",
              "    <tr style=\"text-align: right;\">\n",
              "      <th></th>\n",
              "      <th>PatientID</th>\n",
              "      <th>fid</th>\n",
              "      <th>pos</th>\n",
              "      <th>zone</th>\n",
              "      <th>clinsig</th>\n",
              "      <th>ggg</th>\n",
              "      <th>StudyDate</th>\n",
              "      <th>StudyInstanceUID</th>\n",
              "      <th>FrameOfReferenceUID</th>\n",
              "      <th>SeriesNumber</th>\n",
              "      <th>SeriesInstanceUID</th>\n",
              "    </tr>\n",
              "  </thead>\n",
              "  <tbody>\n",
              "    <tr>\n",
              "      <th>0</th>\n",
              "      <td>ProstateX-0000</td>\n",
              "      <td>1</td>\n",
              "      <td>25.7457 31.8707 -38.511</td>\n",
              "      <td>PZ</td>\n",
              "      <td>True</td>\n",
              "      <td>3</td>\n",
              "      <td>2011-07-07</td>\n",
              "      <td>1.3.6.1.4.1.14519.5.2.1.7311.5101.158323547117...</td>\n",
              "      <td>1.3.6.1.4.1.14519.5.2.1.7311.5101.167989189699...</td>\n",
              "      <td>4</td>\n",
              "      <td>1.3.6.1.4.1.14519.5.2.1.7311.5101.160028252338...</td>\n",
              "    </tr>\n",
              "    <tr>\n",
              "      <th>1</th>\n",
              "      <td>ProstateX-0001</td>\n",
              "      <td>1</td>\n",
              "      <td>-40.5367071921656 29.320722668457 -16.70766907...</td>\n",
              "      <td>AS</td>\n",
              "      <td>False</td>\n",
              "      <td>1</td>\n",
              "      <td>2011-07-08</td>\n",
              "      <td>1.3.6.1.4.1.14519.5.2.1.7311.5101.204786391199...</td>\n",
              "      <td>1.3.6.1.4.1.14519.5.2.1.7311.5101.410957498702...</td>\n",
              "      <td>10</td>\n",
              "      <td>1.3.6.1.4.1.14519.5.2.1.7311.5101.296510477295...</td>\n",
              "    </tr>\n",
              "    <tr>\n",
              "      <th>3</th>\n",
              "      <td>ProstateX-0002</td>\n",
              "      <td>1</td>\n",
              "      <td>-27.0102 41.5467 -26.0469</td>\n",
              "      <td>PZ</td>\n",
              "      <td>True</td>\n",
              "      <td>2</td>\n",
              "      <td>2011-07-15</td>\n",
              "      <td>1.3.6.1.4.1.14519.5.2.1.7311.5101.170110802438...</td>\n",
              "      <td>1.3.6.1.4.1.14519.5.2.1.7311.5101.216292633397...</td>\n",
              "      <td>4</td>\n",
              "      <td>1.3.6.1.4.1.14519.5.2.1.7311.5101.479812804428...</td>\n",
              "    </tr>\n",
              "    <tr>\n",
              "      <th>2</th>\n",
              "      <td>ProstateX-0002</td>\n",
              "      <td>2</td>\n",
              "      <td>-2.058 38.6752 -34.6104</td>\n",
              "      <td>PZ</td>\n",
              "      <td>False</td>\n",
              "      <td>1</td>\n",
              "      <td>2011-07-15</td>\n",
              "      <td>1.3.6.1.4.1.14519.5.2.1.7311.5101.170110802438...</td>\n",
              "      <td>1.3.6.1.4.1.14519.5.2.1.7311.5101.216292633397...</td>\n",
              "      <td>4</td>\n",
              "      <td>1.3.6.1.4.1.14519.5.2.1.7311.5101.479812804428...</td>\n",
              "    </tr>\n",
              "    <tr>\n",
              "      <th>5</th>\n",
              "      <td>ProstateX-0003</td>\n",
              "      <td>1</td>\n",
              "      <td>22.1495 31.2717 -2.45933</td>\n",
              "      <td>TZ</td>\n",
              "      <td>False</td>\n",
              "      <td>NaN</td>\n",
              "      <td>2011-10-17</td>\n",
              "      <td>1.3.6.1.4.1.14519.5.2.1.7311.5101.879702148497...</td>\n",
              "      <td>1.3.6.1.4.1.14519.5.2.1.7311.5101.210593189161...</td>\n",
              "      <td>3</td>\n",
              "      <td>1.3.6.1.4.1.14519.5.2.1.7311.5101.320508777856...</td>\n",
              "    </tr>\n",
              "    <tr>\n",
              "      <th>4</th>\n",
              "      <td>ProstateX-0003</td>\n",
              "      <td>2</td>\n",
              "      <td>-21.2871 19.3995 19.7429</td>\n",
              "      <td>TZ</td>\n",
              "      <td>False</td>\n",
              "      <td>NaN</td>\n",
              "      <td>2011-10-17</td>\n",
              "      <td>1.3.6.1.4.1.14519.5.2.1.7311.5101.879702148497...</td>\n",
              "      <td>1.3.6.1.4.1.14519.5.2.1.7311.5101.210593189161...</td>\n",
              "      <td>3</td>\n",
              "      <td>1.3.6.1.4.1.14519.5.2.1.7311.5101.320508777856...</td>\n",
              "    </tr>\n",
              "    <tr>\n",
              "      <th>6</th>\n",
              "      <td>ProstateX-0004</td>\n",
              "      <td>1</td>\n",
              "      <td>-7.69665 3.64226 23.1659</td>\n",
              "      <td>AS</td>\n",
              "      <td>False</td>\n",
              "      <td>1</td>\n",
              "      <td>2011-10-18</td>\n",
              "      <td>1.3.6.1.4.1.14519.5.2.1.7311.5101.170561193612...</td>\n",
              "      <td>1.3.6.1.4.1.14519.5.2.1.7311.5101.283465068568...</td>\n",
              "      <td>5</td>\n",
              "      <td>1.3.6.1.4.1.14519.5.2.1.7311.5101.206828891270...</td>\n",
              "    </tr>\n",
              "    <tr>\n",
              "      <th>7</th>\n",
              "      <td>ProstateX-0005</td>\n",
              "      <td>0</td>\n",
              "      <td>-14.5174331665039 49.4428329467773 20.78152465...</td>\n",
              "      <td>PZ</td>\n",
              "      <td>True</td>\n",
              "      <td>2</td>\n",
              "      <td>2011-10-20</td>\n",
              "      <td>1.3.6.1.4.1.14519.5.2.1.7311.5101.247316591887...</td>\n",
              "      <td>1.3.6.1.4.1.14519.5.2.1.7311.5101.253068539461...</td>\n",
              "      <td>4</td>\n",
              "      <td>1.3.6.1.4.1.14519.5.2.1.7311.5101.119114186762...</td>\n",
              "    </tr>\n",
              "    <tr>\n",
              "      <th>9</th>\n",
              "      <td>ProstateX-0005</td>\n",
              "      <td>1</td>\n",
              "      <td>-38.6276 42.2781 21.4084</td>\n",
              "      <td>PZ</td>\n",
              "      <td>True</td>\n",
              "      <td>3</td>\n",
              "      <td>2011-10-20</td>\n",
              "      <td>1.3.6.1.4.1.14519.5.2.1.7311.5101.247316591887...</td>\n",
              "      <td>1.3.6.1.4.1.14519.5.2.1.7311.5101.253068539461...</td>\n",
              "      <td>4</td>\n",
              "      <td>1.3.6.1.4.1.14519.5.2.1.7311.5101.119114186762...</td>\n",
              "    </tr>\n",
              "    <tr>\n",
              "      <th>8</th>\n",
              "      <td>ProstateX-0005</td>\n",
              "      <td>1</td>\n",
              "      <td>-22.0892639160156 25.4668045043945 22.87915420...</td>\n",
              "      <td>TZ</td>\n",
              "      <td>False</td>\n",
              "      <td>NaN</td>\n",
              "      <td>2011-10-20</td>\n",
              "      <td>1.3.6.1.4.1.14519.5.2.1.7311.5101.247316591887...</td>\n",
              "      <td>1.3.6.1.4.1.14519.5.2.1.7311.5101.253068539461...</td>\n",
              "      <td>4</td>\n",
              "      <td>1.3.6.1.4.1.14519.5.2.1.7311.5101.119114186762...</td>\n",
              "    </tr>\n",
              "  </tbody>\n",
              "</table>\n",
              "</div>\n",
              "    <div class=\"colab-df-buttons\">\n",
              "\n",
              "  <div class=\"colab-df-container\">\n",
              "    <button class=\"colab-df-convert\" onclick=\"convertToInteractive('df-ad0181e3-b851-4728-a1c7-682a82eccfbf')\"\n",
              "            title=\"Convert this dataframe to an interactive table.\"\n",
              "            style=\"display:none;\">\n",
              "\n",
              "  <svg xmlns=\"http://www.w3.org/2000/svg\" height=\"24px\" viewBox=\"0 -960 960 960\">\n",
              "    <path d=\"M120-120v-720h720v720H120Zm60-500h600v-160H180v160Zm220 220h160v-160H400v160Zm0 220h160v-160H400v160ZM180-400h160v-160H180v160Zm440 0h160v-160H620v160ZM180-180h160v-160H180v160Zm440 0h160v-160H620v160Z\"/>\n",
              "  </svg>\n",
              "    </button>\n",
              "\n",
              "  <style>\n",
              "    .colab-df-container {\n",
              "      display:flex;\n",
              "      gap: 12px;\n",
              "    }\n",
              "\n",
              "    .colab-df-convert {\n",
              "      background-color: #E8F0FE;\n",
              "      border: none;\n",
              "      border-radius: 50%;\n",
              "      cursor: pointer;\n",
              "      display: none;\n",
              "      fill: #1967D2;\n",
              "      height: 32px;\n",
              "      padding: 0 0 0 0;\n",
              "      width: 32px;\n",
              "    }\n",
              "\n",
              "    .colab-df-convert:hover {\n",
              "      background-color: #E2EBFA;\n",
              "      box-shadow: 0px 1px 2px rgba(60, 64, 67, 0.3), 0px 1px 3px 1px rgba(60, 64, 67, 0.15);\n",
              "      fill: #174EA6;\n",
              "    }\n",
              "\n",
              "    .colab-df-buttons div {\n",
              "      margin-bottom: 4px;\n",
              "    }\n",
              "\n",
              "    [theme=dark] .colab-df-convert {\n",
              "      background-color: #3B4455;\n",
              "      fill: #D2E3FC;\n",
              "    }\n",
              "\n",
              "    [theme=dark] .colab-df-convert:hover {\n",
              "      background-color: #434B5C;\n",
              "      box-shadow: 0px 1px 3px 1px rgba(0, 0, 0, 0.15);\n",
              "      filter: drop-shadow(0px 1px 2px rgba(0, 0, 0, 0.3));\n",
              "      fill: #FFFFFF;\n",
              "    }\n",
              "  </style>\n",
              "\n",
              "    <script>\n",
              "      const buttonEl =\n",
              "        document.querySelector('#df-ad0181e3-b851-4728-a1c7-682a82eccfbf button.colab-df-convert');\n",
              "      buttonEl.style.display =\n",
              "        google.colab.kernel.accessAllowed ? 'block' : 'none';\n",
              "\n",
              "      async function convertToInteractive(key) {\n",
              "        const element = document.querySelector('#df-ad0181e3-b851-4728-a1c7-682a82eccfbf');\n",
              "        const dataTable =\n",
              "          await google.colab.kernel.invokeFunction('convertToInteractive',\n",
              "                                                    [key], {});\n",
              "        if (!dataTable) return;\n",
              "\n",
              "        const docLinkHtml = 'Like what you see? Visit the ' +\n",
              "          '<a target=\"_blank\" href=https://colab.research.google.com/notebooks/data_table.ipynb>data table notebook</a>'\n",
              "          + ' to learn more about interactive tables.';\n",
              "        element.innerHTML = '';\n",
              "        dataTable['output_type'] = 'display_data';\n",
              "        await google.colab.output.renderOutput(dataTable, element);\n",
              "        const docLink = document.createElement('div');\n",
              "        docLink.innerHTML = docLinkHtml;\n",
              "        element.appendChild(docLink);\n",
              "      }\n",
              "    </script>\n",
              "  </div>\n",
              "\n",
              "\n",
              "    <div id=\"df-fc5ff20b-d95f-4d1b-98f4-ddf037d8ca43\">\n",
              "      <button class=\"colab-df-quickchart\" onclick=\"quickchart('df-fc5ff20b-d95f-4d1b-98f4-ddf037d8ca43')\"\n",
              "                title=\"Suggest charts\"\n",
              "                style=\"display:none;\">\n",
              "\n",
              "<svg xmlns=\"http://www.w3.org/2000/svg\" height=\"24px\"viewBox=\"0 0 24 24\"\n",
              "     width=\"24px\">\n",
              "    <g>\n",
              "        <path d=\"M19 3H5c-1.1 0-2 .9-2 2v14c0 1.1.9 2 2 2h14c1.1 0 2-.9 2-2V5c0-1.1-.9-2-2-2zM9 17H7v-7h2v7zm4 0h-2V7h2v10zm4 0h-2v-4h2v4z\"/>\n",
              "    </g>\n",
              "</svg>\n",
              "      </button>\n",
              "\n",
              "<style>\n",
              "  .colab-df-quickchart {\n",
              "      --bg-color: #E8F0FE;\n",
              "      --fill-color: #1967D2;\n",
              "      --hover-bg-color: #E2EBFA;\n",
              "      --hover-fill-color: #174EA6;\n",
              "      --disabled-fill-color: #AAA;\n",
              "      --disabled-bg-color: #DDD;\n",
              "  }\n",
              "\n",
              "  [theme=dark] .colab-df-quickchart {\n",
              "      --bg-color: #3B4455;\n",
              "      --fill-color: #D2E3FC;\n",
              "      --hover-bg-color: #434B5C;\n",
              "      --hover-fill-color: #FFFFFF;\n",
              "      --disabled-bg-color: #3B4455;\n",
              "      --disabled-fill-color: #666;\n",
              "  }\n",
              "\n",
              "  .colab-df-quickchart {\n",
              "    background-color: var(--bg-color);\n",
              "    border: none;\n",
              "    border-radius: 50%;\n",
              "    cursor: pointer;\n",
              "    display: none;\n",
              "    fill: var(--fill-color);\n",
              "    height: 32px;\n",
              "    padding: 0;\n",
              "    width: 32px;\n",
              "  }\n",
              "\n",
              "  .colab-df-quickchart:hover {\n",
              "    background-color: var(--hover-bg-color);\n",
              "    box-shadow: 0 1px 2px rgba(60, 64, 67, 0.3), 0 1px 3px 1px rgba(60, 64, 67, 0.15);\n",
              "    fill: var(--button-hover-fill-color);\n",
              "  }\n",
              "\n",
              "  .colab-df-quickchart-complete:disabled,\n",
              "  .colab-df-quickchart-complete:disabled:hover {\n",
              "    background-color: var(--disabled-bg-color);\n",
              "    fill: var(--disabled-fill-color);\n",
              "    box-shadow: none;\n",
              "  }\n",
              "\n",
              "  .colab-df-spinner {\n",
              "    border: 2px solid var(--fill-color);\n",
              "    border-color: transparent;\n",
              "    border-bottom-color: var(--fill-color);\n",
              "    animation:\n",
              "      spin 1s steps(1) infinite;\n",
              "  }\n",
              "\n",
              "  @keyframes spin {\n",
              "    0% {\n",
              "      border-color: transparent;\n",
              "      border-bottom-color: var(--fill-color);\n",
              "      border-left-color: var(--fill-color);\n",
              "    }\n",
              "    20% {\n",
              "      border-color: transparent;\n",
              "      border-left-color: var(--fill-color);\n",
              "      border-top-color: var(--fill-color);\n",
              "    }\n",
              "    30% {\n",
              "      border-color: transparent;\n",
              "      border-left-color: var(--fill-color);\n",
              "      border-top-color: var(--fill-color);\n",
              "      border-right-color: var(--fill-color);\n",
              "    }\n",
              "    40% {\n",
              "      border-color: transparent;\n",
              "      border-right-color: var(--fill-color);\n",
              "      border-top-color: var(--fill-color);\n",
              "    }\n",
              "    60% {\n",
              "      border-color: transparent;\n",
              "      border-right-color: var(--fill-color);\n",
              "    }\n",
              "    80% {\n",
              "      border-color: transparent;\n",
              "      border-right-color: var(--fill-color);\n",
              "      border-bottom-color: var(--fill-color);\n",
              "    }\n",
              "    90% {\n",
              "      border-color: transparent;\n",
              "      border-bottom-color: var(--fill-color);\n",
              "    }\n",
              "  }\n",
              "</style>\n",
              "\n",
              "      <script>\n",
              "        async function quickchart(key) {\n",
              "          const quickchartButtonEl =\n",
              "            document.querySelector('#' + key + ' button');\n",
              "          quickchartButtonEl.disabled = true;  // To prevent multiple clicks.\n",
              "          quickchartButtonEl.classList.add('colab-df-spinner');\n",
              "          try {\n",
              "            const charts = await google.colab.kernel.invokeFunction(\n",
              "                'suggestCharts', [key], {});\n",
              "          } catch (error) {\n",
              "            console.error('Error during call to suggestCharts:', error);\n",
              "          }\n",
              "          quickchartButtonEl.classList.remove('colab-df-spinner');\n",
              "          quickchartButtonEl.classList.add('colab-df-quickchart-complete');\n",
              "        }\n",
              "        (() => {\n",
              "          let quickchartButtonEl =\n",
              "            document.querySelector('#df-fc5ff20b-d95f-4d1b-98f4-ddf037d8ca43 button');\n",
              "          quickchartButtonEl.style.display =\n",
              "            google.colab.kernel.accessAllowed ? 'block' : 'none';\n",
              "        })();\n",
              "      </script>\n",
              "    </div>\n",
              "\n",
              "    </div>\n",
              "  </div>\n"
            ],
            "application/vnd.google.colaboratory.intrinsic+json": {
              "type": "dataframe",
              "variable_name": "df_prostatex",
              "summary": "{\n  \"name\": \"df_prostatex\",\n  \"rows\": 539,\n  \"fields\": [\n    {\n      \"column\": \"PatientID\",\n      \"properties\": {\n        \"dtype\": \"string\",\n        \"num_unique_values\": 345,\n        \"samples\": [\n          \"ProstateX-0194\",\n          \"ProstateX-0157\",\n          \"ProstateX-0225\"\n        ],\n        \"semantic_type\": \"\",\n        \"description\": \"\"\n      }\n    },\n    {\n      \"column\": \"fid\",\n      \"properties\": {\n        \"dtype\": \"number\",\n        \"std\": 0,\n        \"min\": 0,\n        \"max\": 4,\n        \"num_unique_values\": 5,\n        \"samples\": [\n          2,\n          3,\n          0\n        ],\n        \"semantic_type\": \"\",\n        \"description\": \"\"\n      }\n    },\n    {\n      \"column\": \"pos\",\n      \"properties\": {\n        \"dtype\": \"string\",\n        \"num_unique_values\": 539,\n        \"samples\": [\n          \"4.80197 52.5972 61.1688\",\n          \"-7.8659 55.0028 38.3943\",\n          \"-18.7094 27.5115 -37.3373\"\n        ],\n        \"semantic_type\": \"\",\n        \"description\": \"\"\n      }\n    },\n    {\n      \"column\": \"zone\",\n      \"properties\": {\n        \"dtype\": \"category\",\n        \"num_unique_values\": 4,\n        \"samples\": [\n          \"AS\",\n          \"SV\",\n          \"PZ\"\n        ],\n        \"semantic_type\": \"\",\n        \"description\": \"\"\n      }\n    },\n    {\n      \"column\": \"clinsig\",\n      \"properties\": {\n        \"dtype\": \"category\",\n        \"num_unique_values\": 2,\n        \"samples\": [\n          \"False\",\n          \"True\"\n        ],\n        \"semantic_type\": \"\",\n        \"description\": \"\"\n      }\n    },\n    {\n      \"column\": \"ggg\",\n      \"properties\": {\n        \"dtype\": \"category\",\n        \"num_unique_values\": 6,\n        \"samples\": [\n          \"3\",\n          \"1\"\n        ],\n        \"semantic_type\": \"\",\n        \"description\": \"\"\n      }\n    },\n    {\n      \"column\": \"StudyDate\",\n      \"properties\": {\n        \"dtype\": \"date\",\n        \"min\": \"2011-01-08\",\n        \"max\": \"2012-06-15\",\n        \"num_unique_values\": 190,\n        \"samples\": [\n          \"2011-03-20\",\n          \"2011-03-27\"\n        ],\n        \"semantic_type\": \"\",\n        \"description\": \"\"\n      }\n    },\n    {\n      \"column\": \"StudyInstanceUID\",\n      \"properties\": {\n        \"dtype\": \"string\",\n        \"num_unique_values\": 345,\n        \"samples\": [\n          \"1.3.6.1.4.1.14519.5.2.1.7311.5101.312148426268965354930433838659\",\n          \"1.3.6.1.4.1.14519.5.2.1.7311.5101.243395569712136658166691458592\"\n        ],\n        \"semantic_type\": \"\",\n        \"description\": \"\"\n      }\n    },\n    {\n      \"column\": \"FrameOfReferenceUID\",\n      \"properties\": {\n        \"dtype\": \"string\",\n        \"num_unique_values\": 345,\n        \"samples\": [\n          \"1.3.6.1.4.1.14519.5.2.1.7311.5101.152202361303488355174425528296\",\n          \"1.3.6.1.4.1.14519.5.2.1.7311.5101.595737588890664082986755534262\"\n        ],\n        \"semantic_type\": \"\",\n        \"description\": \"\"\n      }\n    },\n    {\n      \"column\": \"SeriesNumber\",\n      \"properties\": {\n        \"dtype\": \"number\",\n        \"std\": 5,\n        \"min\": 2,\n        \"max\": 57,\n        \"num_unique_values\": 14,\n        \"samples\": [\n          55,\n          7\n        ],\n        \"semantic_type\": \"\",\n        \"description\": \"\"\n      }\n    },\n    {\n      \"column\": \"SeriesInstanceUID\",\n      \"properties\": {\n        \"dtype\": \"string\",\n        \"num_unique_values\": 345,\n        \"samples\": [\n          \"1.3.6.1.4.1.14519.5.2.1.7311.5101.281831681044018699292482474399\",\n          \"1.3.6.1.4.1.14519.5.2.1.7311.5101.399128839365313172173765475191\"\n        ],\n        \"semantic_type\": \"\",\n        \"description\": \"\"\n      }\n    }\n  ]\n}"
            }
          },
          "metadata": {},
          "execution_count": 25
        }
      ]
    },
    {
      "cell_type": "code",
      "source": [
        "# Now we do some sanity checking\n",
        "# We should only have as many series as patients\n",
        "\n",
        "num_rows = len(df_prostatex)\n",
        "print('num_rows: ' + str(num_rows))\n",
        "\n",
        "# This is the number of folders we should have in the bucket!\n",
        "num_patients = len(list(set(df_prostatex['PatientID'].values)))\n",
        "print('num_patients: ' + str(num_patients))\n",
        "\n",
        "# This is the number of SRs that should be created!\n",
        "num_series = len(list(set(df_prostatex['SeriesInstanceUID'].values)))\n",
        "print(\"num_series: \" + str(num_series))\n",
        "\n",
        "# This is the number of SRs that should be created!\n",
        "num_frame = len(list(set(df_prostatex['FrameOfReferenceUID'].values)))\n",
        "print(\"num_frame: \" + str(num_frame))"
      ],
      "metadata": {
        "colab": {
          "base_uri": "https://localhost:8080/"
        },
        "outputId": "08910144-3c3c-4375-dd95-2186657d3136",
        "id": "2M8DWojYp3h9"
      },
      "execution_count": 26,
      "outputs": [
        {
          "output_type": "stream",
          "name": "stdout",
          "text": [
            "num_rows: 539\n",
            "num_patients: 345\n",
            "num_series: 345\n",
            "num_frame: 345\n"
          ]
        }
      ]
    },
    {
      "cell_type": "code",
      "source": [
        "# Sanity checking continued\n",
        "# Check which patients are missing\n",
        "\n",
        "patient_ids = sorted(list(set(df_prostatex['PatientID'].values)))\n",
        "query = \"\"\"\n",
        "SELECT\n",
        "  DISTINCT(PatientID)\n",
        "FROM\n",
        "  index\n",
        "WHERE\n",
        "  Modality = 'MR' AND\n",
        "  collection_id = 'prostatex'\n",
        "ORDER BY\n",
        "  PatientID\n",
        "\"\"\"\n",
        "patient_df = client.sql_query(query)\n",
        "patient_ids_total = sorted(list(patient_df['PatientID'].values))\n",
        "patient_ids_missing = list(set(patient_ids_total) - set(patient_ids))\n",
        "print('patient_ids_missing: ' + str(patient_ids_missing))\n",
        "\n",
        "# ProstateX-0325 is missing any clincal metadata in the tables. This is correct."
      ],
      "metadata": {
        "colab": {
          "base_uri": "https://localhost:8080/"
        },
        "outputId": "7ffd410b-3751-46d1-f62d-379d9d019fda",
        "id": "3qOQPC3wp3h9"
      },
      "execution_count": 27,
      "outputs": [
        {
          "output_type": "stream",
          "name": "stdout",
          "text": [
            "patient_ids_missing: ['ProstateX-0325']\n"
          ]
        }
      ]
    },
    {
      "cell_type": "markdown",
      "source": [
        "# Create SRs"
      ],
      "metadata": {
        "id": "z3ne5nSe4y_1"
      }
    },
    {
      "cell_type": "code",
      "source": [
        "def save_SR_for_case(findings_df, reference_dcm_file, output_filename):\n",
        "  \"\"\"\n",
        "  findings_df        - a dataframe containing the findings of a single series\n",
        "  reference_dcm_file - path to a single dcm file to be used as a reference\n",
        "  output_filename    - output filename for the SR\n",
        "  \"\"\"\n",
        "\n",
        "  # Read dcm file\n",
        "  image_dataset = dcmread(reference_dcm_file)\n",
        "\n",
        "  # Here we delete the PertinentOtherEvidenceSequence\n",
        "  # So that it is not referenced in the evidence when we create the Comprehensive3DSR\n",
        "  # We do not need it since we are using SCOORD3D points, and should only use the FrameOfReferenceUID\n",
        "  if \"PertinentOtherEvidenceSequence\" in image_dataset:\n",
        "    try:\n",
        "      del image_dataset.PertinentOtherEvidenceSequence\n",
        "    except:\n",
        "      print(\"Cannot delete the PertinentOtherEvidenceSequence from the pydicom dataset\")\n",
        "\n",
        "  # Get the FrameOfReferenceUID\n",
        "  FrameOfReferenceUID = pydicom.dcmread(reference_dcm_file)['FrameOfReferenceUID'].value\n",
        "  print('FrameOfReferenceUID: ' + str(FrameOfReferenceUID))\n",
        "\n",
        "  # Describe the context of reported observations: the person that reported\n",
        "  # the observations and the device that was used to make the observations\n",
        "  observer_person_context = ObserverContext(\n",
        "      observer_type=codes.DCM.Person,\n",
        "      observer_identifying_attributes=PersonObserverIdentifyingAttributes(\n",
        "          name='Anonymous^Reader'\n",
        "      )\n",
        "  )\n",
        "  observer_device_context = ObserverContext(\n",
        "      observer_type=codes.DCM.Device,\n",
        "      observer_identifying_attributes=DeviceObserverIdentifyingAttributes(\n",
        "          uid=generate_uid()\n",
        "      )\n",
        "  )\n",
        "  observation_context = ObservationContext(\n",
        "      observer_person_context=observer_person_context,\n",
        "      #observer_device_context=observer_device_context,\n",
        "  )\n",
        "\n",
        "  # Add in the clinical information\n",
        "  ClinicalTrialProtocolID = \"doi:10.5281/zenodo.15643312\"\n",
        "  IssuerOfClinicalTrialProtocolID = \"DOI\"\n",
        "  ClinicalTrialSponsorName = \"National Cancer Institute\"\n",
        "\n",
        "  imaging_measurements = []\n",
        "\n",
        "  for index,one_finding in findings_df.iterrows():\n",
        "\n",
        "    print(\"Parsing \"+one_finding['pos'])\n",
        "\n",
        "    finding_id = one_finding['fid']\n",
        "\n",
        "    pos_items = re.search(r\"\\ ?(-?[0-9]*\\.[0-9]*)\\ +(-?[0-9]*\\.[0-9]*)\\ +(-?[0-9]*\\.[0-9]*)\", one_finding['pos'])\n",
        "    if not pos_items:\n",
        "      print(\"Failed to parse \"+one_finding['pos'])\n",
        "\n",
        "    referenced_region_3d = ImageRegion3D(\n",
        "        graphic_type=GraphicTypeValues3D.POINT,\n",
        "        graphic_data=np.array([[float(pos_items.group(1)), float(pos_items.group(2)), float(pos_items.group(3))]]),\n",
        "        #source_image=source_image_ref\n",
        "        frame_of_reference_uid=str(FrameOfReferenceUID)\n",
        "    )\n",
        "\n",
        "    # Describe the anatomic site at which observations were made\n",
        "    if one_finding['zone'] == 'TZ':\n",
        "      finding_location = CodedConcept(\n",
        "                    value=\"399384005\",\n",
        "                    meaning=\"Transition zone of the prostate\",\n",
        "                    scheme_designator=\"SCT\"\n",
        "                )\n",
        "    elif one_finding['zone'] == 'PZ':\n",
        "      finding_location = CodedConcept(\n",
        "                    value=\"279706003\",\n",
        "                    meaning=\"Peripheral zone of the prostate\",\n",
        "                    scheme_designator=\"SCT\"\n",
        "                )\n",
        "    elif one_finding['zone'] == 'AS':\n",
        "      finding_location = CodedConcept(\n",
        "                    value=\"717025007\",\n",
        "                    meaning=\"Anterior fibromuscular stroma of prostate\",\n",
        "                    scheme_designator=\"SCT\"\n",
        "                )\n",
        "    elif one_finding['zone'] == 'SV':\n",
        "      finding_location = CodedConcept(\n",
        "                    value=\"64739004\",\n",
        "                    meaning=\"Seminal vesicle\",\n",
        "                    scheme_designator=\"SCT\"\n",
        "                )\n",
        "\n",
        "    finding_sites = [\n",
        "        FindingSite(anatomic_location=finding_location)\n",
        "    ]\n",
        "\n",
        "    evaluation = []\n",
        "    ggg_code = None\n",
        "\n",
        "    if one_finding['clinsig'] == True:\n",
        "        evaluation=[QualitativeEvaluation(\n",
        "                name=CodedConcept(\n",
        "                    value=\"RID49502\",\n",
        "                    meaning=\"clinically significant prostate cancer\",\n",
        "                    scheme_designator=\"RADLEX\"\n",
        "                ),\n",
        "                value=CodedConcept(value='373066001', scheme_designator='SCT', meaning='Yes', scheme_version=None)\n",
        "            )]\n",
        "\n",
        "    elif one_finding['clinsig'] == False:\n",
        "        evaluation=[QualitativeEvaluation(\n",
        "                name=CodedConcept(\n",
        "                    value=\"RID49502\",\n",
        "                    meaning=\"clinically significant prostate cancer\",\n",
        "                    scheme_designator=\"RADLEX\"\n",
        "                ),\n",
        "                value=CodedConcept(value='373067005', scheme_designator='SCT', meaning='No', scheme_version=None)\n",
        "            )]\n",
        "\n",
        "    if one_finding['ggg'] is not None:\n",
        "          if one_finding['ggg'] == 1:\n",
        "              evaluation.append(QualitativeEvaluation(\n",
        "                  name=CodedConcept(\n",
        "                      value=\"385377005\",\n",
        "                      meaning=\"Gleason grade finding for prostatic cancer\", # taken from SNOMED browser.\n",
        "                      scheme_designator=\"SCT\"\n",
        "                  ),\n",
        "                  value=CodedConcept(value='860742008', scheme_designator='SCT', meaning='Gleason grade group 1', scheme_version=None)\n",
        "              )\n",
        "              )\n",
        "\n",
        "          elif one_finding['ggg'] == 2:\n",
        "              evaluation.append(QualitativeEvaluation(\n",
        "                  name=CodedConcept(\n",
        "                      value=\"385377005\",\n",
        "                      meaning=\"Gleason grade finding for prostatic cancer\",\n",
        "                      scheme_designator=\"SCT\"\n",
        "                  ),\n",
        "                  value=CodedConcept(value='860743003', scheme_designator='SCT', meaning='Gleason grade group 2', scheme_version=None)\n",
        "              )\n",
        "              )\n",
        "\n",
        "          elif one_finding['ggg'] == 3:\n",
        "              evaluation.append(QualitativeEvaluation(\n",
        "                  name=CodedConcept(\n",
        "                      value=\"385377005\",\n",
        "                      meaning=\"Gleason grade finding for prostatic cancer\",\n",
        "                      scheme_designator=\"SCT\"\n",
        "                  ),\n",
        "                  value=CodedConcept(value='860744009', scheme_designator='SCT', meaning='Gleason grade group 3', scheme_version=None)\n",
        "              )\n",
        "              )\n",
        "\n",
        "          elif one_finding['ggg'] == 4:\n",
        "              evaluation.append(QualitativeEvaluation(\n",
        "                  name=CodedConcept(\n",
        "                      value=\"385377005\",\n",
        "                      meaning=\"Gleason grade finding for prostatic cancer\",\n",
        "                      scheme_designator=\"SCT\"\n",
        "                  ),\n",
        "                  value=CodedConcept(value='860745005', scheme_designator='SCT', meaning='Gleason grade group 4', scheme_version=None)\n",
        "              )\n",
        "              )\n",
        "\n",
        "          elif one_finding['ggg'] == 5:\n",
        "              evaluation.append(QualitativeEvaluation(\n",
        "                  name=CodedConcept(\n",
        "                      value=\"385377005\",\n",
        "                      meaning=\"Gleason grade finding for prostatic cancer\",\n",
        "                      scheme_designator=\"SCT\"\n",
        "                  ),\n",
        "                  value=CodedConcept(value='860746006', scheme_designator='SCT', meaning='Gleason grade group 5', scheme_version=None)\n",
        "              )\n",
        "              )\n",
        "\n",
        "    imaging_measurements.append(\n",
        "        PlanarROIMeasurementsAndQualitativeEvaluations(\n",
        "            tracking_identifier=TrackingIdentifier(\n",
        "                uid=generate_uid(),\n",
        "                identifier=str(finding_id)\n",
        "            ),\n",
        "            referenced_region=referenced_region_3d,\n",
        "            finding_type=codes.SCT.Lesion,\n",
        "            #measurements=measurements,\n",
        "            qualitative_evaluations=evaluation,\n",
        "            finding_sites=finding_sites\n",
        "        )\n",
        "    )\n",
        "\n",
        "  print(len(imaging_measurements))\n",
        "\n",
        "  # Create the report content\n",
        "  procedure_code = CodedConcept(value=\"719178004\", scheme_designator=\"SCT\",\n",
        "                                # meaning=\"Multiparametric magnetic resonance imaging of prostate\")\n",
        "                                meaning=\"Multiparametric MRI of prostate\")\n",
        "  measurement_report = MeasurementReport(\n",
        "      observation_context=observation_context,\n",
        "      procedure_reported=procedure_code,\n",
        "      imaging_measurements=imaging_measurements\n",
        "  )\n",
        "\n",
        "  # Create the Structured Report instance\n",
        "  sr_dataset = Comprehensive3DSR(\n",
        "      evidence=[image_dataset],\n",
        "      content=measurement_report[0],\n",
        "      series_number=findings_df['SeriesNumber'].values[0].astype(np.int32) + 100,\n",
        "      series_instance_uid=generate_uid(),\n",
        "      series_description=\"Prostate lesion target annotations\",\n",
        "      sop_instance_uid=generate_uid(),\n",
        "      instance_number=1,\n",
        "      manufacturer='IDC',\n",
        "      is_complete = True,\n",
        "      is_final=True\n",
        "  )\n",
        "\n",
        "  # Add clinical dataset information\n",
        "  sr_dataset.ClinicalTrialProtocolID=ClinicalTrialProtocolID,\n",
        "  sr_dataset.IssuerOfClinicalTrialProtocolID=IssuerOfClinicalTrialProtocolID,\n",
        "  sr_dataset.ClinicalTrialSponsorName=ClinicalTrialSponsorName\n",
        "\n",
        "  # Save out the SR\n",
        "  sr_dataset.save_as(output_filename, enforce_file_format=True)\n",
        "\n",
        "  return\n"
      ],
      "metadata": {
        "id": "cCqRVLrOrOdB"
      },
      "execution_count": 35,
      "outputs": []
    },
    {
      "cell_type": "code",
      "source": [
        "sr_directory = \"/content/sr\"\n",
        "if not os.path.isdir(sr_directory):\n",
        "  os.mkdir(sr_directory)\n",
        "\n",
        "PatientID_list = sorted(list(set(df_prostatex['PatientID'].values)))\n",
        "num_patients = len(PatientID_list)\n",
        "print('num_patients: ' + str(num_patients))"
      ],
      "metadata": {
        "colab": {
          "base_uri": "https://localhost:8080/"
        },
        "id": "d-EMDaaCZYac",
        "outputId": "dd7a81e9-57ad-4633-ce6d-bea4f65f573f"
      },
      "execution_count": 29,
      "outputs": [
        {
          "output_type": "stream",
          "name": "stdout",
          "text": [
            "num_patients: 345\n"
          ]
        }
      ]
    },
    {
      "cell_type": "code",
      "source": [
        "################################################################################\n",
        "################################################################################\n",
        "\n",
        "sr_directory = \"/content/sr\"\n",
        "if not os.path.isdir(sr_directory):\n",
        "  os.mkdir(sr_directory)\n",
        "\n",
        "PatientID_list = sorted(list(set(df_prostatex['PatientID'].values)))\n",
        "num_patients = len(PatientID_list)\n",
        "print('num_patients: ' + str(num_patients))\n",
        "\n",
        "########################\n",
        "### For each patient ###\n",
        "########################\n",
        "\n",
        "checkpoints = {int(len(PatientID_list) * i / 10) for i in range(1, 11)}\n",
        "\n",
        "for index,PatientID in enumerate(PatientID_list,1):\n",
        "\n",
        "  print('********** On patient: ' + str(PatientID) + ' **********')\n",
        "\n",
        "  df_prostatex_patient = df_prostatex[df_prostatex['PatientID']==PatientID]\n",
        "  SeriesInstanceUID_list = sorted(list(set(df_prostatex_patient['SeriesInstanceUID'].values)))\n",
        "  num_series = len(SeriesInstanceUID_list)\n",
        "  print('num_series: ' + str(num_series))\n",
        "\n",
        "  #######################\n",
        "  ### For each series ###\n",
        "  #######################\n",
        "\n",
        "  for SeriesInstanceUID in SeriesInstanceUID_list:\n",
        "\n",
        "    print('***** On series: ' + str(SeriesInstanceUID) + ' *****')\n",
        "    df_prostatex_series = df_prostatex_patient[df_prostatex_patient['SeriesInstanceUID']==SeriesInstanceUID]\n",
        "\n",
        "    # set output filename for SR\n",
        "    output_filename = os.path.join(sr_directory,PatientID + '_' + SeriesInstanceUID + '.dcm')\n",
        "    # set output filename for SR in bucket\n",
        "    output_filename_bucket = os.path.join(bucket_sr_directory, PatientID + '_' + SeriesInstanceUID + '.dcm')\n",
        "\n",
        "    ### get the df ###\n",
        "\n",
        "    # # Get the specific row of the df\n",
        "    # findings_df = df_prostatex_series.iloc[n]\n",
        "    # # Convert the Series to a DataFrame\n",
        "    # findings_df = findings_df.to_frame().T\n",
        "    # # Reset index of the new DataFrame\n",
        "    # findings_df = findings_df.reset_index(drop=True)\n",
        "    findings_df = df_prostatex_series.copy(deep=True)\n",
        "\n",
        "    ### get the reference dcm ###\n",
        "\n",
        "    # get the SeriesInstanceUID\n",
        "    SeriesInstanceUID = findings_df['SeriesInstanceUID'].values[0]\n",
        "    print('SeriesInstanceUID: ' + str(SeriesInstanceUID))\n",
        "\n",
        "    # create a temporary dicom_directory\n",
        "    dicom_directory = \"/content/data\"\n",
        "    if not os.path.isdir(dicom_directory):\n",
        "      os.mkdir(dicom_directory)\n",
        "\n",
        "    # download the series\n",
        "    client.download_from_selection(\n",
        "      seriesInstanceUID=SeriesInstanceUID,\n",
        "      downloadDir=dicom_directory,\n",
        "      dirTemplate=''\n",
        "    )\n",
        "\n",
        "    # get one file\n",
        "    reference_dcm_file = os.path.join(dicom_directory, os.listdir(dicom_directory)[0])\n",
        "\n",
        "    # create and save the SR\n",
        "    save_SR_for_case(findings_df, reference_dcm_file, output_filename)\n",
        "\n",
        "    # copy the SR to the bucket\n",
        "    if os.path.exists(output_filename):\n",
        "      try:\n",
        "        !gsutil cp $output_filename $output_filename_bucket\n",
        "      except:\n",
        "        print('ERROR: cannot copy from ' + str(output_filename) + ' to: ' + str(output_filename_bucket))\n",
        "\n",
        "    # delete files from dicom_directory\n",
        "    !rm -r $dicom_directory\n",
        "\n",
        "    if index in checkpoints:\n",
        "      print(f\"{(index / len(PatientID_list)) * 100:.0f}% of patients processed.\")"
      ],
      "metadata": {
        "id": "oQcvmfzm0hqc",
        "colab": {
          "base_uri": "https://localhost:8080/"
        },
        "outputId": "5e805ebc-a24e-47e0-df78-84129bb4e195"
      },
      "execution_count": null,
      "outputs": [
        {
          "output_type": "stream",
          "name": "stdout",
          "text": [
            "num_patients: 345\n",
            "********** On patient: ProstateX-0000 **********\n",
            "num_series: 1\n",
            "***** On series: 1.3.6.1.4.1.14519.5.2.1.7311.5101.160028252338004527274326500702 *****\n",
            "SeriesInstanceUID: 1.3.6.1.4.1.14519.5.2.1.7311.5101.160028252338004527274326500702\n"
          ]
        },
        {
          "output_type": "stream",
          "name": "stderr",
          "text": [
            "Downloading data: 100%|█████████▉| 5.68M/5.68M [00:01<00:00, 5.66MB/s]\n",
            "/usr/local/lib/python3.11/dist-packages/highdicom/base.py:163: UserWarning: The string \"ProstateX-0000\" is unlikely to represent the intended person name since it contains only a single component. Construct a person name according to the format in described in https://dicom.nema.org/dicom/2013/output/chtml/part05/sect_6.2.html#sect_6.2.1.2, or, in pydicom 2.2.0 or later, use the pydicom.valuerep.PersonName.from_named_components() method to construct the person name correctly. If a single-component name is really intended, add a trailing caret character to disambiguate the name.\n",
            "  check_person_name(patient_name)\n",
            "WARNING:pydicom:A value of type 'tuple' cannot be assigned to a tag with VR LO.\n",
            "/usr/local/lib/python3.11/dist-packages/pydicom/valuerep.py:440: UserWarning: A value of type 'tuple' cannot be assigned to a tag with VR LO.\n",
            "  warn_and_log(msg)\n",
            "WARNING:pydicom:A value of type 'tuple' cannot be assigned to a tag with VR LO.\n"
          ]
        },
        {
          "output_type": "stream",
          "name": "stdout",
          "text": [
            "FrameOfReferenceUID: 1.3.6.1.4.1.14519.5.2.1.7311.5101.167989189699391273938467151375\n",
            "Parsing 25.7457 31.8707 -38.511\n",
            "1\n",
            "Copying file:///content/sr/ProstateX-0000_1.3.6.1.4.1.14519.5.2.1.7311.5101.160028252338004527274326500702.dcm [Content-Type=application/dicom]...\n",
            "/ [1 files][  4.4 KiB/  4.4 KiB]                                                \n",
            "Operation completed over 1 objects/4.4 KiB.                                      \n",
            "********** On patient: ProstateX-0001 **********\n",
            "num_series: 1\n",
            "***** On series: 1.3.6.1.4.1.14519.5.2.1.7311.5101.296510477295449267377313817541 *****\n",
            "SeriesInstanceUID: 1.3.6.1.4.1.14519.5.2.1.7311.5101.296510477295449267377313817541\n"
          ]
        },
        {
          "output_type": "stream",
          "name": "stderr",
          "text": [
            "Downloading data: 100%|█████████▉| 5.68M/5.68M [00:01<00:00, 5.66MB/s]\n",
            "/usr/local/lib/python3.11/dist-packages/highdicom/base.py:163: UserWarning: The string \"ProstateX-0001\" is unlikely to represent the intended person name since it contains only a single component. Construct a person name according to the format in described in https://dicom.nema.org/dicom/2013/output/chtml/part05/sect_6.2.html#sect_6.2.1.2, or, in pydicom 2.2.0 or later, use the pydicom.valuerep.PersonName.from_named_components() method to construct the person name correctly. If a single-component name is really intended, add a trailing caret character to disambiguate the name.\n",
            "  check_person_name(patient_name)\n",
            "WARNING:pydicom:A value of type 'tuple' cannot be assigned to a tag with VR LO.\n",
            "/usr/local/lib/python3.11/dist-packages/pydicom/valuerep.py:440: UserWarning: A value of type 'tuple' cannot be assigned to a tag with VR LO.\n",
            "  warn_and_log(msg)\n",
            "WARNING:pydicom:A value of type 'tuple' cannot be assigned to a tag with VR LO.\n"
          ]
        },
        {
          "output_type": "stream",
          "name": "stdout",
          "text": [
            "FrameOfReferenceUID: 1.3.6.1.4.1.14519.5.2.1.7311.5101.410957498702420257441538976223\n",
            "Parsing -40.5367071921656 29.320722668457 -16.7076690704346\n",
            "1\n",
            "Copying file:///content/sr/ProstateX-0001_1.3.6.1.4.1.14519.5.2.1.7311.5101.296510477295449267377313817541.dcm [Content-Type=application/dicom]...\n",
            "/ [1 files][  4.4 KiB/  4.4 KiB]                                                \n",
            "Operation completed over 1 objects/4.4 KiB.                                      \n",
            "********** On patient: ProstateX-0002 **********\n",
            "num_series: 1\n",
            "***** On series: 1.3.6.1.4.1.14519.5.2.1.7311.5101.479812804428819225709948044920 *****\n",
            "SeriesInstanceUID: 1.3.6.1.4.1.14519.5.2.1.7311.5101.479812804428819225709948044920\n"
          ]
        },
        {
          "output_type": "stream",
          "name": "stderr",
          "text": [
            "Downloading data: 100%|█████████▉| 5.68M/5.68M [00:01<00:00, 5.66MB/s]\n",
            "/usr/local/lib/python3.11/dist-packages/highdicom/base.py:163: UserWarning: The string \"ProstateX-0002\" is unlikely to represent the intended person name since it contains only a single component. Construct a person name according to the format in described in https://dicom.nema.org/dicom/2013/output/chtml/part05/sect_6.2.html#sect_6.2.1.2, or, in pydicom 2.2.0 or later, use the pydicom.valuerep.PersonName.from_named_components() method to construct the person name correctly. If a single-component name is really intended, add a trailing caret character to disambiguate the name.\n",
            "  check_person_name(patient_name)\n",
            "WARNING:pydicom:A value of type 'tuple' cannot be assigned to a tag with VR LO.\n",
            "/usr/local/lib/python3.11/dist-packages/pydicom/valuerep.py:440: UserWarning: A value of type 'tuple' cannot be assigned to a tag with VR LO.\n",
            "  warn_and_log(msg)\n",
            "WARNING:pydicom:A value of type 'tuple' cannot be assigned to a tag with VR LO.\n"
          ]
        },
        {
          "output_type": "stream",
          "name": "stdout",
          "text": [
            "FrameOfReferenceUID: 1.3.6.1.4.1.14519.5.2.1.7311.5101.216292633397710489088373841125\n",
            "Parsing -27.0102 41.5467 -26.0469\n",
            "Parsing -2.058 38.6752 -34.6104\n",
            "2\n",
            "Copying file:///content/sr/ProstateX-0002_1.3.6.1.4.1.14519.5.2.1.7311.5101.479812804428819225709948044920.dcm [Content-Type=application/dicom]...\n",
            "/ [1 files][  5.5 KiB/  5.5 KiB]                                                \n",
            "Operation completed over 1 objects/5.5 KiB.                                      \n",
            "********** On patient: ProstateX-0003 **********\n",
            "num_series: 1\n",
            "***** On series: 1.3.6.1.4.1.14519.5.2.1.7311.5101.320508777856431308769740730967 *****\n",
            "SeriesInstanceUID: 1.3.6.1.4.1.14519.5.2.1.7311.5101.320508777856431308769740730967\n"
          ]
        },
        {
          "output_type": "stream",
          "name": "stderr",
          "text": [
            "Downloading data: 100%|█████████▉| 6.28M/6.28M [00:01<00:00, 6.24MB/s]\n",
            "/usr/local/lib/python3.11/dist-packages/highdicom/base.py:163: UserWarning: The string \"ProstateX-0003\" is unlikely to represent the intended person name since it contains only a single component. Construct a person name according to the format in described in https://dicom.nema.org/dicom/2013/output/chtml/part05/sect_6.2.html#sect_6.2.1.2, or, in pydicom 2.2.0 or later, use the pydicom.valuerep.PersonName.from_named_components() method to construct the person name correctly. If a single-component name is really intended, add a trailing caret character to disambiguate the name.\n",
            "  check_person_name(patient_name)\n",
            "WARNING:pydicom:A value of type 'tuple' cannot be assigned to a tag with VR LO.\n",
            "/usr/local/lib/python3.11/dist-packages/pydicom/valuerep.py:440: UserWarning: A value of type 'tuple' cannot be assigned to a tag with VR LO.\n",
            "  warn_and_log(msg)\n",
            "WARNING:pydicom:A value of type 'tuple' cannot be assigned to a tag with VR LO.\n"
          ]
        },
        {
          "output_type": "stream",
          "name": "stdout",
          "text": [
            "FrameOfReferenceUID: 1.3.6.1.4.1.14519.5.2.1.7311.5101.210593189161434637574952180176\n",
            "Parsing 22.1495 31.2717 -2.45933\n",
            "Parsing -21.2871 19.3995 19.7429\n",
            "2\n",
            "Copying file:///content/sr/ProstateX-0003_1.3.6.1.4.1.14519.5.2.1.7311.5101.320508777856431308769740730967.dcm [Content-Type=application/dicom]...\n",
            "/ [1 files][  5.5 KiB/  5.5 KiB]                                                \n",
            "Operation completed over 1 objects/5.5 KiB.                                      \n",
            "********** On patient: ProstateX-0004 **********\n",
            "num_series: 1\n",
            "***** On series: 1.3.6.1.4.1.14519.5.2.1.7311.5101.206828891270520544417996275680 *****\n",
            "SeriesInstanceUID: 1.3.6.1.4.1.14519.5.2.1.7311.5101.206828891270520544417996275680\n"
          ]
        },
        {
          "output_type": "stream",
          "name": "stderr",
          "text": [
            "Downloading data: 100%|█████████▉| 5.68M/5.68M [00:01<00:00, 5.64MB/s]\n",
            "/usr/local/lib/python3.11/dist-packages/highdicom/base.py:163: UserWarning: The string \"ProstateX-0004\" is unlikely to represent the intended person name since it contains only a single component. Construct a person name according to the format in described in https://dicom.nema.org/dicom/2013/output/chtml/part05/sect_6.2.html#sect_6.2.1.2, or, in pydicom 2.2.0 or later, use the pydicom.valuerep.PersonName.from_named_components() method to construct the person name correctly. If a single-component name is really intended, add a trailing caret character to disambiguate the name.\n",
            "  check_person_name(patient_name)\n",
            "WARNING:pydicom:A value of type 'tuple' cannot be assigned to a tag with VR LO.\n",
            "/usr/local/lib/python3.11/dist-packages/pydicom/valuerep.py:440: UserWarning: A value of type 'tuple' cannot be assigned to a tag with VR LO.\n",
            "  warn_and_log(msg)\n",
            "WARNING:pydicom:A value of type 'tuple' cannot be assigned to a tag with VR LO.\n"
          ]
        },
        {
          "output_type": "stream",
          "name": "stdout",
          "text": [
            "FrameOfReferenceUID: 1.3.6.1.4.1.14519.5.2.1.7311.5101.283465068568757436662041653252\n",
            "Parsing -7.69665 3.64226 23.1659\n",
            "1\n",
            "Copying file:///content/sr/ProstateX-0004_1.3.6.1.4.1.14519.5.2.1.7311.5101.206828891270520544417996275680.dcm [Content-Type=application/dicom]...\n",
            "/ [1 files][  4.4 KiB/  4.4 KiB]                                                \n",
            "Operation completed over 1 objects/4.4 KiB.                                      \n",
            "********** On patient: ProstateX-0005 **********\n",
            "num_series: 1\n",
            "***** On series: 1.3.6.1.4.1.14519.5.2.1.7311.5101.119114186762760923175160291330 *****\n",
            "SeriesInstanceUID: 1.3.6.1.4.1.14519.5.2.1.7311.5101.119114186762760923175160291330\n"
          ]
        },
        {
          "output_type": "stream",
          "name": "stderr",
          "text": [
            "Downloading data: 100%|█████████▉| 5.68M/5.68M [00:01<00:00, 5.66MB/s]\n",
            "/usr/local/lib/python3.11/dist-packages/highdicom/base.py:163: UserWarning: The string \"ProstateX-0005\" is unlikely to represent the intended person name since it contains only a single component. Construct a person name according to the format in described in https://dicom.nema.org/dicom/2013/output/chtml/part05/sect_6.2.html#sect_6.2.1.2, or, in pydicom 2.2.0 or later, use the pydicom.valuerep.PersonName.from_named_components() method to construct the person name correctly. If a single-component name is really intended, add a trailing caret character to disambiguate the name.\n",
            "  check_person_name(patient_name)\n",
            "WARNING:pydicom:A value of type 'tuple' cannot be assigned to a tag with VR LO.\n",
            "/usr/local/lib/python3.11/dist-packages/pydicom/valuerep.py:440: UserWarning: A value of type 'tuple' cannot be assigned to a tag with VR LO.\n",
            "  warn_and_log(msg)\n",
            "WARNING:pydicom:A value of type 'tuple' cannot be assigned to a tag with VR LO.\n"
          ]
        },
        {
          "output_type": "stream",
          "name": "stdout",
          "text": [
            "FrameOfReferenceUID: 1.3.6.1.4.1.14519.5.2.1.7311.5101.253068539461554971732411262101\n",
            "Parsing -14.5174331665039 49.4428329467773 20.7815246582031\n",
            "Parsing -38.6276 42.2781 21.4084\n",
            "Parsing -22.0892639160156 25.4668045043945 22.8791542053223\n",
            "3\n",
            "Copying file:///content/sr/ProstateX-0005_1.3.6.1.4.1.14519.5.2.1.7311.5101.119114186762760923175160291330.dcm [Content-Type=application/dicom]...\n",
            "/ [1 files][  6.5 KiB/  6.5 KiB]                                                \n",
            "Operation completed over 1 objects/6.5 KiB.                                      \n",
            "********** On patient: ProstateX-0006 **********\n",
            "num_series: 1\n",
            "***** On series: 1.3.6.1.4.1.14519.5.2.1.7311.5101.256864043009268361529947598209 *****\n",
            "SeriesInstanceUID: 1.3.6.1.4.1.14519.5.2.1.7311.5101.256864043009268361529947598209\n"
          ]
        },
        {
          "output_type": "stream",
          "name": "stderr",
          "text": [
            "Downloading data: 100%|█████████▉| 5.68M/5.68M [00:01<00:00, 5.66MB/s]\n",
            "/usr/local/lib/python3.11/dist-packages/highdicom/base.py:163: UserWarning: The string \"ProstateX-0006\" is unlikely to represent the intended person name since it contains only a single component. Construct a person name according to the format in described in https://dicom.nema.org/dicom/2013/output/chtml/part05/sect_6.2.html#sect_6.2.1.2, or, in pydicom 2.2.0 or later, use the pydicom.valuerep.PersonName.from_named_components() method to construct the person name correctly. If a single-component name is really intended, add a trailing caret character to disambiguate the name.\n",
            "  check_person_name(patient_name)\n",
            "WARNING:pydicom:A value of type 'tuple' cannot be assigned to a tag with VR LO.\n",
            "/usr/local/lib/python3.11/dist-packages/pydicom/valuerep.py:440: UserWarning: A value of type 'tuple' cannot be assigned to a tag with VR LO.\n",
            "  warn_and_log(msg)\n",
            "WARNING:pydicom:A value of type 'tuple' cannot be assigned to a tag with VR LO.\n"
          ]
        },
        {
          "output_type": "stream",
          "name": "stdout",
          "text": [
            "FrameOfReferenceUID: 1.3.6.1.4.1.14519.5.2.1.7311.5101.205367199527935663486206405198\n",
            "Parsing 8.20024 28.2665 -10.4784\n",
            "Parsing -9.85971 37.2739 0.561445\n",
            "2\n",
            "Copying file:///content/sr/ProstateX-0006_1.3.6.1.4.1.14519.5.2.1.7311.5101.256864043009268361529947598209.dcm [Content-Type=application/dicom]...\n",
            "/ [1 files][  5.5 KiB/  5.5 KiB]                                                \n",
            "Operation completed over 1 objects/5.5 KiB.                                      \n",
            "********** On patient: ProstateX-0007 **********\n",
            "num_series: 1\n",
            "***** On series: 1.3.6.1.4.1.14519.5.2.1.7311.5101.282008038881694967871335639325 *****\n",
            "SeriesInstanceUID: 1.3.6.1.4.1.14519.5.2.1.7311.5101.282008038881694967871335639325\n"
          ]
        },
        {
          "output_type": "stream",
          "name": "stderr",
          "text": [
            "Downloading data: 100%|██████████| 6.87M/6.87M [00:01<00:00, 6.84MB/s]\n",
            "/usr/local/lib/python3.11/dist-packages/highdicom/base.py:163: UserWarning: The string \"ProstateX-0007\" is unlikely to represent the intended person name since it contains only a single component. Construct a person name according to the format in described in https://dicom.nema.org/dicom/2013/output/chtml/part05/sect_6.2.html#sect_6.2.1.2, or, in pydicom 2.2.0 or later, use the pydicom.valuerep.PersonName.from_named_components() method to construct the person name correctly. If a single-component name is really intended, add a trailing caret character to disambiguate the name.\n",
            "  check_person_name(patient_name)\n",
            "WARNING:pydicom:A value of type 'tuple' cannot be assigned to a tag with VR LO.\n",
            "/usr/local/lib/python3.11/dist-packages/pydicom/valuerep.py:440: UserWarning: A value of type 'tuple' cannot be assigned to a tag with VR LO.\n",
            "  warn_and_log(msg)\n",
            "WARNING:pydicom:A value of type 'tuple' cannot be assigned to a tag with VR LO.\n"
          ]
        },
        {
          "output_type": "stream",
          "name": "stdout",
          "text": [
            "FrameOfReferenceUID: 1.3.6.1.4.1.14519.5.2.1.7311.5101.140144582290421688423802352078\n",
            "Parsing -5.4258 20.1075 -57.34\n",
            "1\n",
            "Copying file:///content/sr/ProstateX-0007_1.3.6.1.4.1.14519.5.2.1.7311.5101.282008038881694967871335639325.dcm [Content-Type=application/dicom]...\n",
            "/ [1 files][  4.4 KiB/  4.4 KiB]                                                \n",
            "Operation completed over 1 objects/4.4 KiB.                                      \n",
            "********** On patient: ProstateX-0008 **********\n",
            "num_series: 1\n",
            "***** On series: 1.3.6.1.4.1.14519.5.2.1.7311.5101.114335609248973418447980073777 *****\n",
            "SeriesInstanceUID: 1.3.6.1.4.1.14519.5.2.1.7311.5101.114335609248973418447980073777\n"
          ]
        },
        {
          "output_type": "stream",
          "name": "stderr",
          "text": [
            "Downloading data: 100%|█████████▉| 6.28M/6.28M [00:01<00:00, 6.25MB/s]\n",
            "/usr/local/lib/python3.11/dist-packages/highdicom/base.py:163: UserWarning: The string \"ProstateX-0008\" is unlikely to represent the intended person name since it contains only a single component. Construct a person name according to the format in described in https://dicom.nema.org/dicom/2013/output/chtml/part05/sect_6.2.html#sect_6.2.1.2, or, in pydicom 2.2.0 or later, use the pydicom.valuerep.PersonName.from_named_components() method to construct the person name correctly. If a single-component name is really intended, add a trailing caret character to disambiguate the name.\n",
            "  check_person_name(patient_name)\n",
            "WARNING:pydicom:A value of type 'tuple' cannot be assigned to a tag with VR LO.\n",
            "/usr/local/lib/python3.11/dist-packages/pydicom/valuerep.py:440: UserWarning: A value of type 'tuple' cannot be assigned to a tag with VR LO.\n",
            "  warn_and_log(msg)\n",
            "WARNING:pydicom:A value of type 'tuple' cannot be assigned to a tag with VR LO.\n"
          ]
        },
        {
          "output_type": "stream",
          "name": "stdout",
          "text": [
            "FrameOfReferenceUID: 1.3.6.1.4.1.14519.5.2.1.7311.5101.210391472866399225745146971930\n",
            "Parsing 25.2302 38.6613 -26.864\n",
            "1\n",
            "Copying file:///content/sr/ProstateX-0008_1.3.6.1.4.1.14519.5.2.1.7311.5101.114335609248973418447980073777.dcm [Content-Type=application/dicom]...\n",
            "/ [1 files][  4.4 KiB/  4.4 KiB]                                                \n",
            "Operation completed over 1 objects/4.4 KiB.                                      \n",
            "********** On patient: ProstateX-0009 **********\n",
            "num_series: 1\n",
            "***** On series: 1.3.6.1.4.1.14519.5.2.1.7311.5101.180041601751316950966041961765 *****\n",
            "SeriesInstanceUID: 1.3.6.1.4.1.14519.5.2.1.7311.5101.180041601751316950966041961765\n"
          ]
        },
        {
          "output_type": "stream",
          "name": "stderr",
          "text": [
            "Downloading data: 100%|█████████▉| 6.28M/6.28M [00:01<00:00, 6.25MB/s]\n",
            "/usr/local/lib/python3.11/dist-packages/highdicom/base.py:163: UserWarning: The string \"ProstateX-0009\" is unlikely to represent the intended person name since it contains only a single component. Construct a person name according to the format in described in https://dicom.nema.org/dicom/2013/output/chtml/part05/sect_6.2.html#sect_6.2.1.2, or, in pydicom 2.2.0 or later, use the pydicom.valuerep.PersonName.from_named_components() method to construct the person name correctly. If a single-component name is really intended, add a trailing caret character to disambiguate the name.\n",
            "  check_person_name(patient_name)\n",
            "WARNING:pydicom:A value of type 'tuple' cannot be assigned to a tag with VR LO.\n",
            "/usr/local/lib/python3.11/dist-packages/pydicom/valuerep.py:440: UserWarning: A value of type 'tuple' cannot be assigned to a tag with VR LO.\n",
            "  warn_and_log(msg)\n",
            "WARNING:pydicom:A value of type 'tuple' cannot be assigned to a tag with VR LO.\n"
          ]
        },
        {
          "output_type": "stream",
          "name": "stdout",
          "text": [
            "FrameOfReferenceUID: 1.3.6.1.4.1.14519.5.2.1.7311.5101.323498057870199551812091956260\n",
            "Parsing 19.565 32.8037 -37.4421\n",
            "1\n",
            "Copying file:///content/sr/ProstateX-0009_1.3.6.1.4.1.14519.5.2.1.7311.5101.180041601751316950966041961765.dcm [Content-Type=application/dicom]...\n",
            "\n",
            "Operation completed over 1 objects/4.4 KiB.                                      \n",
            "********** On patient: ProstateX-0010 **********\n",
            "num_series: 1\n",
            "***** On series: 1.3.6.1.4.1.14519.5.2.1.7311.5101.107792262621268615786134115389 *****\n",
            "SeriesInstanceUID: 1.3.6.1.4.1.14519.5.2.1.7311.5101.107792262621268615786134115389\n"
          ]
        },
        {
          "output_type": "stream",
          "name": "stderr",
          "text": [
            "Downloading data: 100%|█████████▉| 5.68M/5.68M [00:01<00:00, 5.65MB/s]\n",
            "/usr/local/lib/python3.11/dist-packages/highdicom/base.py:163: UserWarning: The string \"ProstateX-0010\" is unlikely to represent the intended person name since it contains only a single component. Construct a person name according to the format in described in https://dicom.nema.org/dicom/2013/output/chtml/part05/sect_6.2.html#sect_6.2.1.2, or, in pydicom 2.2.0 or later, use the pydicom.valuerep.PersonName.from_named_components() method to construct the person name correctly. If a single-component name is really intended, add a trailing caret character to disambiguate the name.\n",
            "  check_person_name(patient_name)\n",
            "WARNING:pydicom:A value of type 'tuple' cannot be assigned to a tag with VR LO.\n",
            "/usr/local/lib/python3.11/dist-packages/pydicom/valuerep.py:440: UserWarning: A value of type 'tuple' cannot be assigned to a tag with VR LO.\n",
            "  warn_and_log(msg)\n",
            "WARNING:pydicom:A value of type 'tuple' cannot be assigned to a tag with VR LO.\n"
          ]
        },
        {
          "output_type": "stream",
          "name": "stdout",
          "text": [
            "FrameOfReferenceUID: 1.3.6.1.4.1.14519.5.2.1.7311.5101.832971976524182914051535428302\n",
            "Parsing -31.8128 51.364 -56.0047\n",
            "1\n",
            "Copying file:///content/sr/ProstateX-0010_1.3.6.1.4.1.14519.5.2.1.7311.5101.107792262621268615786134115389.dcm [Content-Type=application/dicom]...\n",
            "/ [1 files][  4.4 KiB/  4.4 KiB]                                                \n",
            "Operation completed over 1 objects/4.4 KiB.                                      \n",
            "********** On patient: ProstateX-0011 **********\n",
            "num_series: 1\n",
            "***** On series: 1.3.6.1.4.1.14519.5.2.1.7311.5101.186070864519714822595685748529 *****\n",
            "SeriesInstanceUID: 1.3.6.1.4.1.14519.5.2.1.7311.5101.186070864519714822595685748529\n"
          ]
        },
        {
          "output_type": "stream",
          "name": "stderr",
          "text": [
            "Downloading data: 100%|█████████▉| 5.68M/5.68M [00:01<00:00, 5.66MB/s]\n",
            "/usr/local/lib/python3.11/dist-packages/highdicom/base.py:163: UserWarning: The string \"ProstateX-0011\" is unlikely to represent the intended person name since it contains only a single component. Construct a person name according to the format in described in https://dicom.nema.org/dicom/2013/output/chtml/part05/sect_6.2.html#sect_6.2.1.2, or, in pydicom 2.2.0 or later, use the pydicom.valuerep.PersonName.from_named_components() method to construct the person name correctly. If a single-component name is really intended, add a trailing caret character to disambiguate the name.\n",
            "  check_person_name(patient_name)\n",
            "WARNING:pydicom:A value of type 'tuple' cannot be assigned to a tag with VR LO.\n",
            "/usr/local/lib/python3.11/dist-packages/pydicom/valuerep.py:440: UserWarning: A value of type 'tuple' cannot be assigned to a tag with VR LO.\n",
            "  warn_and_log(msg)\n",
            "WARNING:pydicom:A value of type 'tuple' cannot be assigned to a tag with VR LO.\n"
          ]
        },
        {
          "output_type": "stream",
          "name": "stdout",
          "text": [
            "FrameOfReferenceUID: 1.3.6.1.4.1.14519.5.2.1.7311.5101.259197513915038892612929206827\n",
            "Parsing 9.29795 10.7009 14.2935\n",
            "1\n",
            "Copying file:///content/sr/ProstateX-0011_1.3.6.1.4.1.14519.5.2.1.7311.5101.186070864519714822595685748529.dcm [Content-Type=application/dicom]...\n",
            "/ [1 files][  4.4 KiB/  4.4 KiB]                                                \n",
            "Operation completed over 1 objects/4.4 KiB.                                      \n",
            "********** On patient: ProstateX-0012 **********\n",
            "num_series: 1\n",
            "***** On series: 1.3.6.1.4.1.14519.5.2.1.7311.5101.179061211347773359586192609623 *****\n",
            "SeriesInstanceUID: 1.3.6.1.4.1.14519.5.2.1.7311.5101.179061211347773359586192609623\n"
          ]
        },
        {
          "output_type": "stream",
          "name": "stderr",
          "text": [
            "Downloading data: 100%|█████████▉| 5.68M/5.68M [00:01<00:00, 5.66MB/s]\n",
            "/usr/local/lib/python3.11/dist-packages/highdicom/base.py:163: UserWarning: The string \"ProstateX-0012\" is unlikely to represent the intended person name since it contains only a single component. Construct a person name according to the format in described in https://dicom.nema.org/dicom/2013/output/chtml/part05/sect_6.2.html#sect_6.2.1.2, or, in pydicom 2.2.0 or later, use the pydicom.valuerep.PersonName.from_named_components() method to construct the person name correctly. If a single-component name is really intended, add a trailing caret character to disambiguate the name.\n",
            "  check_person_name(patient_name)\n",
            "WARNING:pydicom:A value of type 'tuple' cannot be assigned to a tag with VR LO.\n",
            "/usr/local/lib/python3.11/dist-packages/pydicom/valuerep.py:440: UserWarning: A value of type 'tuple' cannot be assigned to a tag with VR LO.\n",
            "  warn_and_log(msg)\n",
            "WARNING:pydicom:A value of type 'tuple' cannot be assigned to a tag with VR LO.\n"
          ]
        },
        {
          "output_type": "stream",
          "name": "stdout",
          "text": [
            "FrameOfReferenceUID: 1.3.6.1.4.1.14519.5.2.1.7311.5101.198807856292143314856440369438\n",
            "Parsing 3.41538238525391 16.3572769165039 6.36409950256348\n",
            "Parsing 4.08778 49.7898 -3.71828\n",
            "2\n",
            "Copying file:///content/sr/ProstateX-0012_1.3.6.1.4.1.14519.5.2.1.7311.5101.179061211347773359586192609623.dcm [Content-Type=application/dicom]...\n",
            "/ [1 files][  5.5 KiB/  5.5 KiB]                                                \n",
            "Operation completed over 1 objects/5.5 KiB.                                      \n",
            "********** On patient: ProstateX-0013 **********\n",
            "num_series: 1\n",
            "***** On series: 1.3.6.1.4.1.14519.5.2.1.7311.5101.171893377598642682694687211799 *****\n",
            "SeriesInstanceUID: 1.3.6.1.4.1.14519.5.2.1.7311.5101.171893377598642682694687211799\n"
          ]
        },
        {
          "output_type": "stream",
          "name": "stderr",
          "text": [
            "Downloading data: 100%|██████████| 6.87M/6.87M [00:01<00:00, 6.85MB/s]\n",
            "/usr/local/lib/python3.11/dist-packages/highdicom/base.py:163: UserWarning: The string \"ProstateX-0013\" is unlikely to represent the intended person name since it contains only a single component. Construct a person name according to the format in described in https://dicom.nema.org/dicom/2013/output/chtml/part05/sect_6.2.html#sect_6.2.1.2, or, in pydicom 2.2.0 or later, use the pydicom.valuerep.PersonName.from_named_components() method to construct the person name correctly. If a single-component name is really intended, add a trailing caret character to disambiguate the name.\n",
            "  check_person_name(patient_name)\n",
            "WARNING:pydicom:A value of type 'tuple' cannot be assigned to a tag with VR LO.\n",
            "/usr/local/lib/python3.11/dist-packages/pydicom/valuerep.py:440: UserWarning: A value of type 'tuple' cannot be assigned to a tag with VR LO.\n",
            "  warn_and_log(msg)\n",
            "WARNING:pydicom:A value of type 'tuple' cannot be assigned to a tag with VR LO.\n"
          ]
        },
        {
          "output_type": "stream",
          "name": "stdout",
          "text": [
            "FrameOfReferenceUID: 1.3.6.1.4.1.14519.5.2.1.7311.5101.302036127175275255662137184167\n",
            "Parsing -42.7915 30.7382 5.60159\n",
            "1\n",
            "Copying file:///content/sr/ProstateX-0013_1.3.6.1.4.1.14519.5.2.1.7311.5101.171893377598642682694687211799.dcm [Content-Type=application/dicom]...\n",
            "/ [1 files][  4.4 KiB/  4.4 KiB]                                                \n",
            "Operation completed over 1 objects/4.4 KiB.                                      \n",
            "********** On patient: ProstateX-0014 **********\n",
            "num_series: 1\n",
            "***** On series: 1.3.6.1.4.1.14519.5.2.1.7311.5101.159842252251603061509259813100 *****\n",
            "SeriesInstanceUID: 1.3.6.1.4.1.14519.5.2.1.7311.5101.159842252251603061509259813100\n"
          ]
        },
        {
          "output_type": "stream",
          "name": "stderr",
          "text": [
            "Downloading data: 100%|█████████▉| 5.68M/5.68M [00:01<00:00, 5.66MB/s]\n",
            "/usr/local/lib/python3.11/dist-packages/highdicom/base.py:163: UserWarning: The string \"ProstateX-0014\" is unlikely to represent the intended person name since it contains only a single component. Construct a person name according to the format in described in https://dicom.nema.org/dicom/2013/output/chtml/part05/sect_6.2.html#sect_6.2.1.2, or, in pydicom 2.2.0 or later, use the pydicom.valuerep.PersonName.from_named_components() method to construct the person name correctly. If a single-component name is really intended, add a trailing caret character to disambiguate the name.\n",
            "  check_person_name(patient_name)\n",
            "WARNING:pydicom:A value of type 'tuple' cannot be assigned to a tag with VR LO.\n",
            "/usr/local/lib/python3.11/dist-packages/pydicom/valuerep.py:440: UserWarning: A value of type 'tuple' cannot be assigned to a tag with VR LO.\n",
            "  warn_and_log(msg)\n",
            "WARNING:pydicom:A value of type 'tuple' cannot be assigned to a tag with VR LO.\n"
          ]
        },
        {
          "output_type": "stream",
          "name": "stdout",
          "text": [
            "FrameOfReferenceUID: 1.3.6.1.4.1.14519.5.2.1.7311.5101.131800403533420663344601001056\n",
            "Parsing -23.0672 31.7673 3.02353\n",
            "1\n",
            "Copying file:///content/sr/ProstateX-0014_1.3.6.1.4.1.14519.5.2.1.7311.5101.159842252251603061509259813100.dcm [Content-Type=application/dicom]...\n",
            "/ [1 files][  4.4 KiB/  4.4 KiB]                                                \n",
            "Operation completed over 1 objects/4.4 KiB.                                      \n",
            "********** On patient: ProstateX-0015 **********\n",
            "num_series: 1\n",
            "***** On series: 1.3.6.1.4.1.14519.5.2.1.7311.5101.287403883614425048490255475041 *****\n",
            "SeriesInstanceUID: 1.3.6.1.4.1.14519.5.2.1.7311.5101.287403883614425048490255475041\n"
          ]
        },
        {
          "output_type": "stream",
          "name": "stderr",
          "text": [
            "Downloading data: 100%|█████████▉| 5.68M/5.68M [00:01<00:00, 5.66MB/s]\n",
            "/usr/local/lib/python3.11/dist-packages/highdicom/base.py:163: UserWarning: The string \"ProstateX-0015\" is unlikely to represent the intended person name since it contains only a single component. Construct a person name according to the format in described in https://dicom.nema.org/dicom/2013/output/chtml/part05/sect_6.2.html#sect_6.2.1.2, or, in pydicom 2.2.0 or later, use the pydicom.valuerep.PersonName.from_named_components() method to construct the person name correctly. If a single-component name is really intended, add a trailing caret character to disambiguate the name.\n",
            "  check_person_name(patient_name)\n",
            "WARNING:pydicom:A value of type 'tuple' cannot be assigned to a tag with VR LO.\n",
            "/usr/local/lib/python3.11/dist-packages/pydicom/valuerep.py:440: UserWarning: A value of type 'tuple' cannot be assigned to a tag with VR LO.\n",
            "  warn_and_log(msg)\n",
            "WARNING:pydicom:A value of type 'tuple' cannot be assigned to a tag with VR LO.\n"
          ]
        },
        {
          "output_type": "stream",
          "name": "stdout",
          "text": [
            "FrameOfReferenceUID: 1.3.6.1.4.1.14519.5.2.1.7311.5101.182602822499152652136388133733\n",
            "Parsing  -3.5 -4.2 -40.5\n",
            "1\n",
            "Copying file:///content/sr/ProstateX-0015_1.3.6.1.4.1.14519.5.2.1.7311.5101.287403883614425048490255475041.dcm [Content-Type=application/dicom]...\n",
            "/ [1 files][  4.4 KiB/  4.4 KiB]                                                \n",
            "Operation completed over 1 objects/4.4 KiB.                                      \n",
            "********** On patient: ProstateX-0016 **********\n",
            "num_series: 1\n",
            "***** On series: 1.3.6.1.4.1.14519.5.2.1.7311.5101.289400416987402469088090375658 *****\n",
            "SeriesInstanceUID: 1.3.6.1.4.1.14519.5.2.1.7311.5101.289400416987402469088090375658\n"
          ]
        },
        {
          "output_type": "stream",
          "name": "stderr",
          "text": [
            "Downloading data: 100%|█████████▉| 6.28M/6.28M [00:01<00:00, 6.23MB/s]\n",
            "/usr/local/lib/python3.11/dist-packages/highdicom/base.py:163: UserWarning: The string \"ProstateX-0016\" is unlikely to represent the intended person name since it contains only a single component. Construct a person name according to the format in described in https://dicom.nema.org/dicom/2013/output/chtml/part05/sect_6.2.html#sect_6.2.1.2, or, in pydicom 2.2.0 or later, use the pydicom.valuerep.PersonName.from_named_components() method to construct the person name correctly. If a single-component name is really intended, add a trailing caret character to disambiguate the name.\n",
            "  check_person_name(patient_name)\n",
            "WARNING:pydicom:A value of type 'tuple' cannot be assigned to a tag with VR LO.\n",
            "/usr/local/lib/python3.11/dist-packages/pydicom/valuerep.py:440: UserWarning: A value of type 'tuple' cannot be assigned to a tag with VR LO.\n",
            "  warn_and_log(msg)\n",
            "WARNING:pydicom:A value of type 'tuple' cannot be assigned to a tag with VR LO.\n"
          ]
        },
        {
          "output_type": "stream",
          "name": "stdout",
          "text": [
            "FrameOfReferenceUID: 1.3.6.1.4.1.14519.5.2.1.7311.5101.327381123730836177085823920221\n",
            "Parsing -17.4648 10.7487 -1.55198\n",
            "1\n",
            "Copying file:///content/sr/ProstateX-0016_1.3.6.1.4.1.14519.5.2.1.7311.5101.289400416987402469088090375658.dcm [Content-Type=application/dicom]...\n",
            "/ [1 files][  4.4 KiB/  4.4 KiB]                                                \n",
            "Operation completed over 1 objects/4.4 KiB.                                      \n",
            "********** On patient: ProstateX-0017 **********\n",
            "num_series: 1\n",
            "***** On series: 1.3.6.1.4.1.14519.5.2.1.7311.5101.332787653334717830086813339653 *****\n",
            "SeriesInstanceUID: 1.3.6.1.4.1.14519.5.2.1.7311.5101.332787653334717830086813339653\n"
          ]
        },
        {
          "output_type": "stream",
          "name": "stderr",
          "text": [
            "Downloading data: 100%|█████████▉| 5.68M/5.68M [00:01<00:00, 5.66MB/s]\n",
            "/usr/local/lib/python3.11/dist-packages/highdicom/base.py:163: UserWarning: The string \"ProstateX-0017\" is unlikely to represent the intended person name since it contains only a single component. Construct a person name according to the format in described in https://dicom.nema.org/dicom/2013/output/chtml/part05/sect_6.2.html#sect_6.2.1.2, or, in pydicom 2.2.0 or later, use the pydicom.valuerep.PersonName.from_named_components() method to construct the person name correctly. If a single-component name is really intended, add a trailing caret character to disambiguate the name.\n",
            "  check_person_name(patient_name)\n",
            "WARNING:pydicom:A value of type 'tuple' cannot be assigned to a tag with VR LO.\n",
            "/usr/local/lib/python3.11/dist-packages/pydicom/valuerep.py:440: UserWarning: A value of type 'tuple' cannot be assigned to a tag with VR LO.\n",
            "  warn_and_log(msg)\n",
            "WARNING:pydicom:A value of type 'tuple' cannot be assigned to a tag with VR LO.\n"
          ]
        },
        {
          "output_type": "stream",
          "name": "stdout",
          "text": [
            "FrameOfReferenceUID: 1.3.6.1.4.1.14519.5.2.1.7311.5101.287222051834297916952863441846\n",
            "Parsing 2.89097 49.4408 -14.4697\n",
            "1\n",
            "Copying file:///content/sr/ProstateX-0017_1.3.6.1.4.1.14519.5.2.1.7311.5101.332787653334717830086813339653.dcm [Content-Type=application/dicom]...\n",
            "/ [1 files][  4.4 KiB/  4.4 KiB]                                                \n",
            "Operation completed over 1 objects/4.4 KiB.                                      \n",
            "********** On patient: ProstateX-0018 **********\n",
            "num_series: 1\n",
            "***** On series: 1.3.6.1.4.1.14519.5.2.1.7311.5101.299325488555858809740695924568 *****\n",
            "SeriesInstanceUID: 1.3.6.1.4.1.14519.5.2.1.7311.5101.299325488555858809740695924568\n"
          ]
        },
        {
          "output_type": "stream",
          "name": "stderr",
          "text": [
            "Downloading data: 100%|█████████▉| 5.68M/5.68M [00:01<00:00, 5.66MB/s]\n",
            "/usr/local/lib/python3.11/dist-packages/highdicom/base.py:163: UserWarning: The string \"ProstateX-0018\" is unlikely to represent the intended person name since it contains only a single component. Construct a person name according to the format in described in https://dicom.nema.org/dicom/2013/output/chtml/part05/sect_6.2.html#sect_6.2.1.2, or, in pydicom 2.2.0 or later, use the pydicom.valuerep.PersonName.from_named_components() method to construct the person name correctly. If a single-component name is really intended, add a trailing caret character to disambiguate the name.\n",
            "  check_person_name(patient_name)\n",
            "WARNING:pydicom:A value of type 'tuple' cannot be assigned to a tag with VR LO.\n",
            "/usr/local/lib/python3.11/dist-packages/pydicom/valuerep.py:440: UserWarning: A value of type 'tuple' cannot be assigned to a tag with VR LO.\n",
            "  warn_and_log(msg)\n",
            "WARNING:pydicom:A value of type 'tuple' cannot be assigned to a tag with VR LO.\n"
          ]
        },
        {
          "output_type": "stream",
          "name": "stdout",
          "text": [
            "FrameOfReferenceUID: 1.3.6.1.4.1.14519.5.2.1.7311.5101.277524692602528742051385665391\n",
            "Parsing 4.08917 18.7769 -11.5951\n",
            "1\n",
            "Copying file:///content/sr/ProstateX-0018_1.3.6.1.4.1.14519.5.2.1.7311.5101.299325488555858809740695924568.dcm [Content-Type=application/dicom]...\n",
            "/ [1 files][  4.4 KiB/  4.4 KiB]                                                \n",
            "Operation completed over 1 objects/4.4 KiB.                                      \n",
            "********** On patient: ProstateX-0019 **********\n",
            "num_series: 1\n",
            "***** On series: 1.3.6.1.4.1.14519.5.2.1.7311.5101.337120993451084170526679013923 *****\n",
            "SeriesInstanceUID: 1.3.6.1.4.1.14519.5.2.1.7311.5101.337120993451084170526679013923\n"
          ]
        },
        {
          "output_type": "stream",
          "name": "stderr",
          "text": [
            "Downloading data: 100%|█████████▉| 5.68M/5.68M [00:01<00:00, 5.66MB/s]\n",
            "/usr/local/lib/python3.11/dist-packages/highdicom/base.py:163: UserWarning: The string \"ProstateX-0019\" is unlikely to represent the intended person name since it contains only a single component. Construct a person name according to the format in described in https://dicom.nema.org/dicom/2013/output/chtml/part05/sect_6.2.html#sect_6.2.1.2, or, in pydicom 2.2.0 or later, use the pydicom.valuerep.PersonName.from_named_components() method to construct the person name correctly. If a single-component name is really intended, add a trailing caret character to disambiguate the name.\n",
            "  check_person_name(patient_name)\n",
            "WARNING:pydicom:A value of type 'tuple' cannot be assigned to a tag with VR LO.\n",
            "/usr/local/lib/python3.11/dist-packages/pydicom/valuerep.py:440: UserWarning: A value of type 'tuple' cannot be assigned to a tag with VR LO.\n",
            "  warn_and_log(msg)\n",
            "WARNING:pydicom:A value of type 'tuple' cannot be assigned to a tag with VR LO.\n"
          ]
        },
        {
          "output_type": "stream",
          "name": "stdout",
          "text": [
            "FrameOfReferenceUID: 1.3.6.1.4.1.14519.5.2.1.7311.5101.162656452603083369153207643547\n",
            "Parsing -4.21012 42.1916 -40.6457\n",
            "1\n",
            "Copying file:///content/sr/ProstateX-0019_1.3.6.1.4.1.14519.5.2.1.7311.5101.337120993451084170526679013923.dcm [Content-Type=application/dicom]...\n",
            "/ [1 files][  4.4 KiB/  4.4 KiB]                                                \n",
            "Operation completed over 1 objects/4.4 KiB.                                      \n",
            "********** On patient: ProstateX-0020 **********\n",
            "num_series: 1\n",
            "***** On series: 1.3.6.1.4.1.14519.5.2.1.7311.5101.109832262779867794170417053903 *****\n",
            "SeriesInstanceUID: 1.3.6.1.4.1.14519.5.2.1.7311.5101.109832262779867794170417053903\n"
          ]
        },
        {
          "output_type": "stream",
          "name": "stderr",
          "text": [
            "Downloading data: 100%|█████████▉| 6.28M/6.28M [00:01<00:00, 6.25MB/s]\n",
            "/usr/local/lib/python3.11/dist-packages/highdicom/base.py:163: UserWarning: The string \"ProstateX-0020\" is unlikely to represent the intended person name since it contains only a single component. Construct a person name according to the format in described in https://dicom.nema.org/dicom/2013/output/chtml/part05/sect_6.2.html#sect_6.2.1.2, or, in pydicom 2.2.0 or later, use the pydicom.valuerep.PersonName.from_named_components() method to construct the person name correctly. If a single-component name is really intended, add a trailing caret character to disambiguate the name.\n",
            "  check_person_name(patient_name)\n",
            "WARNING:pydicom:A value of type 'tuple' cannot be assigned to a tag with VR LO.\n",
            "/usr/local/lib/python3.11/dist-packages/pydicom/valuerep.py:440: UserWarning: A value of type 'tuple' cannot be assigned to a tag with VR LO.\n",
            "  warn_and_log(msg)\n",
            "WARNING:pydicom:A value of type 'tuple' cannot be assigned to a tag with VR LO.\n"
          ]
        },
        {
          "output_type": "stream",
          "name": "stdout",
          "text": [
            "FrameOfReferenceUID: 1.3.6.1.4.1.14519.5.2.1.7311.5101.133752717784947817090220893351\n",
            "Parsing 10.1617 53.5994 10.0223\n",
            "1\n",
            "Copying file:///content/sr/ProstateX-0020_1.3.6.1.4.1.14519.5.2.1.7311.5101.109832262779867794170417053903.dcm [Content-Type=application/dicom]...\n",
            "/ [1 files][  4.4 KiB/  4.4 KiB]                                                \n",
            "Operation completed over 1 objects/4.4 KiB.                                      \n",
            "********** On patient: ProstateX-0021 **********\n",
            "num_series: 1\n",
            "***** On series: 1.3.6.1.4.1.14519.5.2.1.7311.5101.280015489563490250982057308457 *****\n",
            "SeriesInstanceUID: 1.3.6.1.4.1.14519.5.2.1.7311.5101.280015489563490250982057308457\n"
          ]
        },
        {
          "output_type": "stream",
          "name": "stderr",
          "text": [
            "Downloading data: 100%|█████████▉| 6.28M/6.28M [00:01<00:00, 6.25MB/s]\n",
            "/usr/local/lib/python3.11/dist-packages/highdicom/base.py:163: UserWarning: The string \"ProstateX-0021\" is unlikely to represent the intended person name since it contains only a single component. Construct a person name according to the format in described in https://dicom.nema.org/dicom/2013/output/chtml/part05/sect_6.2.html#sect_6.2.1.2, or, in pydicom 2.2.0 or later, use the pydicom.valuerep.PersonName.from_named_components() method to construct the person name correctly. If a single-component name is really intended, add a trailing caret character to disambiguate the name.\n",
            "  check_person_name(patient_name)\n",
            "WARNING:pydicom:A value of type 'tuple' cannot be assigned to a tag with VR LO.\n",
            "/usr/local/lib/python3.11/dist-packages/pydicom/valuerep.py:440: UserWarning: A value of type 'tuple' cannot be assigned to a tag with VR LO.\n",
            "  warn_and_log(msg)\n",
            "WARNING:pydicom:A value of type 'tuple' cannot be assigned to a tag with VR LO.\n"
          ]
        },
        {
          "output_type": "stream",
          "name": "stdout",
          "text": [
            "FrameOfReferenceUID: 1.3.6.1.4.1.14519.5.2.1.7311.5101.224004587588022991678486914112\n",
            "Parsing 38.7099 28.8409 -28.6634\n",
            "Parsing 13.33 33.2901 -26.3378\n",
            "2\n",
            "Copying file:///content/sr/ProstateX-0021_1.3.6.1.4.1.14519.5.2.1.7311.5101.280015489563490250982057308457.dcm [Content-Type=application/dicom]...\n",
            "\n",
            "Operation completed over 1 objects/5.5 KiB.                                      \n",
            "********** On patient: ProstateX-0022 **********\n",
            "num_series: 1\n",
            "***** On series: 1.3.6.1.4.1.14519.5.2.1.7311.5101.198836923216150981519653002628 *****\n",
            "SeriesInstanceUID: 1.3.6.1.4.1.14519.5.2.1.7311.5101.198836923216150981519653002628\n"
          ]
        },
        {
          "output_type": "stream",
          "name": "stderr",
          "text": [
            "Downloading data: 100%|█████████▉| 5.68M/5.68M [00:01<00:00, 5.66MB/s]\n",
            "/usr/local/lib/python3.11/dist-packages/highdicom/base.py:163: UserWarning: The string \"ProstateX-0022\" is unlikely to represent the intended person name since it contains only a single component. Construct a person name according to the format in described in https://dicom.nema.org/dicom/2013/output/chtml/part05/sect_6.2.html#sect_6.2.1.2, or, in pydicom 2.2.0 or later, use the pydicom.valuerep.PersonName.from_named_components() method to construct the person name correctly. If a single-component name is really intended, add a trailing caret character to disambiguate the name.\n",
            "  check_person_name(patient_name)\n",
            "WARNING:pydicom:A value of type 'tuple' cannot be assigned to a tag with VR LO.\n",
            "/usr/local/lib/python3.11/dist-packages/pydicom/valuerep.py:440: UserWarning: A value of type 'tuple' cannot be assigned to a tag with VR LO.\n",
            "  warn_and_log(msg)\n",
            "WARNING:pydicom:A value of type 'tuple' cannot be assigned to a tag with VR LO.\n"
          ]
        },
        {
          "output_type": "stream",
          "name": "stdout",
          "text": [
            "FrameOfReferenceUID: 1.3.6.1.4.1.14519.5.2.1.7311.5101.230441234066577650056533789220\n",
            "Parsing -22.5143 51.5685 -107.645\n",
            "1\n",
            "Copying file:///content/sr/ProstateX-0022_1.3.6.1.4.1.14519.5.2.1.7311.5101.198836923216150981519653002628.dcm [Content-Type=application/dicom]...\n",
            "/ [1 files][  4.4 KiB/  4.4 KiB]                                                \n",
            "Operation completed over 1 objects/4.4 KiB.                                      \n",
            "********** On patient: ProstateX-0023 **********\n",
            "num_series: 1\n",
            "***** On series: 1.3.6.1.4.1.14519.5.2.1.7311.5101.842199303058687201997947709588 *****\n",
            "SeriesInstanceUID: 1.3.6.1.4.1.14519.5.2.1.7311.5101.842199303058687201997947709588\n"
          ]
        },
        {
          "output_type": "stream",
          "name": "stderr",
          "text": [
            "Downloading data: 100%|█████████▉| 5.68M/5.68M [00:01<00:00, 5.66MB/s]\n",
            "/usr/local/lib/python3.11/dist-packages/highdicom/base.py:163: UserWarning: The string \"ProstateX-0023\" is unlikely to represent the intended person name since it contains only a single component. Construct a person name according to the format in described in https://dicom.nema.org/dicom/2013/output/chtml/part05/sect_6.2.html#sect_6.2.1.2, or, in pydicom 2.2.0 or later, use the pydicom.valuerep.PersonName.from_named_components() method to construct the person name correctly. If a single-component name is really intended, add a trailing caret character to disambiguate the name.\n",
            "  check_person_name(patient_name)\n",
            "WARNING:pydicom:A value of type 'tuple' cannot be assigned to a tag with VR LO.\n",
            "/usr/local/lib/python3.11/dist-packages/pydicom/valuerep.py:440: UserWarning: A value of type 'tuple' cannot be assigned to a tag with VR LO.\n",
            "  warn_and_log(msg)\n",
            "WARNING:pydicom:A value of type 'tuple' cannot be assigned to a tag with VR LO.\n"
          ]
        },
        {
          "output_type": "stream",
          "name": "stdout",
          "text": [
            "FrameOfReferenceUID: 1.3.6.1.4.1.14519.5.2.1.7311.5101.918841457001366993425467686408\n",
            "Parsing -4.543299 32.541 13.5624\n",
            "Parsing 30.8291 20.0179 17.6021\n",
            "2\n",
            "Copying file:///content/sr/ProstateX-0023_1.3.6.1.4.1.14519.5.2.1.7311.5101.842199303058687201997947709588.dcm [Content-Type=application/dicom]...\n",
            "/ [1 files][  5.5 KiB/  5.5 KiB]                                                \n",
            "Operation completed over 1 objects/5.5 KiB.                                      \n",
            "********** On patient: ProstateX-0024 **********\n",
            "num_series: 1\n",
            "***** On series: 1.3.6.1.4.1.14519.5.2.1.7311.5101.112910418643385818012268269485 *****\n",
            "SeriesInstanceUID: 1.3.6.1.4.1.14519.5.2.1.7311.5101.112910418643385818012268269485\n"
          ]
        },
        {
          "output_type": "stream",
          "name": "stderr",
          "text": [
            "Downloading data: 100%|█████████▉| 6.28M/6.28M [00:01<00:00, 6.25MB/s]\n",
            "/usr/local/lib/python3.11/dist-packages/highdicom/base.py:163: UserWarning: The string \"ProstateX-0024\" is unlikely to represent the intended person name since it contains only a single component. Construct a person name according to the format in described in https://dicom.nema.org/dicom/2013/output/chtml/part05/sect_6.2.html#sect_6.2.1.2, or, in pydicom 2.2.0 or later, use the pydicom.valuerep.PersonName.from_named_components() method to construct the person name correctly. If a single-component name is really intended, add a trailing caret character to disambiguate the name.\n",
            "  check_person_name(patient_name)\n",
            "WARNING:pydicom:A value of type 'tuple' cannot be assigned to a tag with VR LO.\n",
            "/usr/local/lib/python3.11/dist-packages/pydicom/valuerep.py:440: UserWarning: A value of type 'tuple' cannot be assigned to a tag with VR LO.\n",
            "  warn_and_log(msg)\n",
            "WARNING:pydicom:A value of type 'tuple' cannot be assigned to a tag with VR LO.\n"
          ]
        },
        {
          "output_type": "stream",
          "name": "stdout",
          "text": [
            "FrameOfReferenceUID: 1.3.6.1.4.1.14519.5.2.1.7311.5101.221932700703407615883727918828\n",
            "Parsing -19.4802 26.3731 -25.4612\n",
            "1\n",
            "Copying file:///content/sr/ProstateX-0024_1.3.6.1.4.1.14519.5.2.1.7311.5101.112910418643385818012268269485.dcm [Content-Type=application/dicom]...\n",
            "/ [1 files][  4.4 KiB/  4.4 KiB]                                                \n",
            "Operation completed over 1 objects/4.4 KiB.                                      \n",
            "********** On patient: ProstateX-0025 **********\n",
            "num_series: 1\n",
            "***** On series: 1.3.6.1.4.1.14519.5.2.1.7311.5101.138312525804351431765740680161 *****\n",
            "SeriesInstanceUID: 1.3.6.1.4.1.14519.5.2.1.7311.5101.138312525804351431765740680161\n"
          ]
        },
        {
          "output_type": "stream",
          "name": "stderr",
          "text": [
            "Downloading data: 100%|█████████▉| 5.68M/5.68M [00:01<00:00, 5.66MB/s]\n",
            "/usr/local/lib/python3.11/dist-packages/highdicom/base.py:163: UserWarning: The string \"ProstateX-0025\" is unlikely to represent the intended person name since it contains only a single component. Construct a person name according to the format in described in https://dicom.nema.org/dicom/2013/output/chtml/part05/sect_6.2.html#sect_6.2.1.2, or, in pydicom 2.2.0 or later, use the pydicom.valuerep.PersonName.from_named_components() method to construct the person name correctly. If a single-component name is really intended, add a trailing caret character to disambiguate the name.\n",
            "  check_person_name(patient_name)\n",
            "WARNING:pydicom:A value of type 'tuple' cannot be assigned to a tag with VR LO.\n",
            "/usr/local/lib/python3.11/dist-packages/pydicom/valuerep.py:440: UserWarning: A value of type 'tuple' cannot be assigned to a tag with VR LO.\n",
            "  warn_and_log(msg)\n",
            "WARNING:pydicom:A value of type 'tuple' cannot be assigned to a tag with VR LO.\n"
          ]
        },
        {
          "output_type": "stream",
          "name": "stdout",
          "text": [
            "FrameOfReferenceUID: 1.3.6.1.4.1.14519.5.2.1.7311.5101.300216890660358837012937187325\n",
            "Parsing 23.6983 51.83 -55.7923\n",
            "Parsing 34.8707 51.5015 -3.06943\n",
            "Parsing 7.79027 54.6192 -55.072\n",
            "Parsing 21.9659 22.9866 -63.5253\n",
            "Parsing -8.32488 41.9199 -51.1366\n",
            "5\n",
            "Copying file:///content/sr/ProstateX-0025_1.3.6.1.4.1.14519.5.2.1.7311.5101.138312525804351431765740680161.dcm [Content-Type=application/dicom]...\n",
            "/ [1 files][  8.7 KiB/  8.7 KiB]                                                \n",
            "Operation completed over 1 objects/8.7 KiB.                                      \n",
            "********** On patient: ProstateX-0026 **********\n",
            "num_series: 1\n",
            "***** On series: 1.3.6.1.4.1.14519.5.2.1.7311.5101.101130934168942593154270621032 *****\n",
            "SeriesInstanceUID: 1.3.6.1.4.1.14519.5.2.1.7311.5101.101130934168942593154270621032\n"
          ]
        },
        {
          "output_type": "stream",
          "name": "stderr",
          "text": [
            "Downloading data: 100%|██████████| 6.27M/6.27M [00:01<00:00, 6.24MB/s]\n",
            "/usr/local/lib/python3.11/dist-packages/highdicom/base.py:163: UserWarning: The string \"ProstateX-0026\" is unlikely to represent the intended person name since it contains only a single component. Construct a person name according to the format in described in https://dicom.nema.org/dicom/2013/output/chtml/part05/sect_6.2.html#sect_6.2.1.2, or, in pydicom 2.2.0 or later, use the pydicom.valuerep.PersonName.from_named_components() method to construct the person name correctly. If a single-component name is really intended, add a trailing caret character to disambiguate the name.\n",
            "  check_person_name(patient_name)\n",
            "WARNING:pydicom:A value of type 'tuple' cannot be assigned to a tag with VR LO.\n",
            "/usr/local/lib/python3.11/dist-packages/pydicom/valuerep.py:440: UserWarning: A value of type 'tuple' cannot be assigned to a tag with VR LO.\n",
            "  warn_and_log(msg)\n",
            "WARNING:pydicom:A value of type 'tuple' cannot be assigned to a tag with VR LO.\n"
          ]
        },
        {
          "output_type": "stream",
          "name": "stdout",
          "text": [
            "FrameOfReferenceUID: 1.3.6.1.4.1.14519.5.2.1.7311.5101.160981673203674182065288691981\n",
            "Parsing -2.55984 36.7959 -40.4785\n",
            "1\n",
            "Copying file:///content/sr/ProstateX-0026_1.3.6.1.4.1.14519.5.2.1.7311.5101.101130934168942593154270621032.dcm [Content-Type=application/dicom]...\n",
            "/ [1 files][  4.3 KiB/  4.3 KiB]                                                \n",
            "Operation completed over 1 objects/4.3 KiB.                                      \n",
            "********** On patient: ProstateX-0027 **********\n",
            "num_series: 1\n",
            "***** On series: 1.3.6.1.4.1.14519.5.2.1.7311.5101.123270790346808222960556330331 *****\n",
            "SeriesInstanceUID: 1.3.6.1.4.1.14519.5.2.1.7311.5101.123270790346808222960556330331\n"
          ]
        },
        {
          "output_type": "stream",
          "name": "stderr",
          "text": [
            "Downloading data: 100%|██████████| 6.87M/6.87M [00:01<00:00, 6.84MB/s]\n",
            "/usr/local/lib/python3.11/dist-packages/highdicom/base.py:163: UserWarning: The string \"ProstateX-0027\" is unlikely to represent the intended person name since it contains only a single component. Construct a person name according to the format in described in https://dicom.nema.org/dicom/2013/output/chtml/part05/sect_6.2.html#sect_6.2.1.2, or, in pydicom 2.2.0 or later, use the pydicom.valuerep.PersonName.from_named_components() method to construct the person name correctly. If a single-component name is really intended, add a trailing caret character to disambiguate the name.\n",
            "  check_person_name(patient_name)\n",
            "WARNING:pydicom:A value of type 'tuple' cannot be assigned to a tag with VR LO.\n",
            "/usr/local/lib/python3.11/dist-packages/pydicom/valuerep.py:440: UserWarning: A value of type 'tuple' cannot be assigned to a tag with VR LO.\n",
            "  warn_and_log(msg)\n",
            "WARNING:pydicom:A value of type 'tuple' cannot be assigned to a tag with VR LO.\n"
          ]
        },
        {
          "output_type": "stream",
          "name": "stdout",
          "text": [
            "FrameOfReferenceUID: 1.3.6.1.4.1.14519.5.2.1.7311.5101.142527586812330514125233922407\n",
            "Parsing -8.16043 63.437 -9.60785\n",
            "1\n",
            "Copying file:///content/sr/ProstateX-0027_1.3.6.1.4.1.14519.5.2.1.7311.5101.123270790346808222960556330331.dcm [Content-Type=application/dicom]...\n",
            "/ [1 files][  4.4 KiB/  4.4 KiB]                                                \n",
            "Operation completed over 1 objects/4.4 KiB.                                      \n",
            "********** On patient: ProstateX-0028 **********\n",
            "num_series: 1\n",
            "***** On series: 1.3.6.1.4.1.14519.5.2.1.7311.5101.309805745643397068715061702026 *****\n",
            "SeriesInstanceUID: 1.3.6.1.4.1.14519.5.2.1.7311.5101.309805745643397068715061702026\n"
          ]
        },
        {
          "output_type": "stream",
          "name": "stderr",
          "text": [
            "Downloading data: 100%|█████████▉| 6.28M/6.28M [00:01<00:00, 6.25MB/s]\n",
            "/usr/local/lib/python3.11/dist-packages/highdicom/base.py:163: UserWarning: The string \"ProstateX-0028\" is unlikely to represent the intended person name since it contains only a single component. Construct a person name according to the format in described in https://dicom.nema.org/dicom/2013/output/chtml/part05/sect_6.2.html#sect_6.2.1.2, or, in pydicom 2.2.0 or later, use the pydicom.valuerep.PersonName.from_named_components() method to construct the person name correctly. If a single-component name is really intended, add a trailing caret character to disambiguate the name.\n",
            "  check_person_name(patient_name)\n",
            "WARNING:pydicom:A value of type 'tuple' cannot be assigned to a tag with VR LO.\n",
            "/usr/local/lib/python3.11/dist-packages/pydicom/valuerep.py:440: UserWarning: A value of type 'tuple' cannot be assigned to a tag with VR LO.\n",
            "  warn_and_log(msg)\n",
            "WARNING:pydicom:A value of type 'tuple' cannot be assigned to a tag with VR LO.\n"
          ]
        },
        {
          "output_type": "stream",
          "name": "stdout",
          "text": [
            "FrameOfReferenceUID: 1.3.6.1.4.1.14519.5.2.1.7311.5101.213282214429874694323103164866\n",
            "Parsing 32.6256 39.4066 -7.95307\n",
            "Parsing -9.64486 40.691 -5.07664\n",
            "2\n",
            "Copying file:///content/sr/ProstateX-0028_1.3.6.1.4.1.14519.5.2.1.7311.5101.309805745643397068715061702026.dcm [Content-Type=application/dicom]...\n",
            "/ [1 files][  5.5 KiB/  5.5 KiB]                                                \n",
            "Operation completed over 1 objects/5.5 KiB.                                      \n",
            "********** On patient: ProstateX-0029 **********\n",
            "num_series: 1\n",
            "***** On series: 1.3.6.1.4.1.14519.5.2.1.7311.5101.254720210057539290153454291675 *****\n",
            "SeriesInstanceUID: 1.3.6.1.4.1.14519.5.2.1.7311.5101.254720210057539290153454291675\n"
          ]
        },
        {
          "output_type": "stream",
          "name": "stderr",
          "text": [
            "Downloading data: 100%|█████████▉| 6.28M/6.28M [00:01<00:00, 6.25MB/s]\n",
            "/usr/local/lib/python3.11/dist-packages/highdicom/base.py:163: UserWarning: The string \"ProstateX-0029\" is unlikely to represent the intended person name since it contains only a single component. Construct a person name according to the format in described in https://dicom.nema.org/dicom/2013/output/chtml/part05/sect_6.2.html#sect_6.2.1.2, or, in pydicom 2.2.0 or later, use the pydicom.valuerep.PersonName.from_named_components() method to construct the person name correctly. If a single-component name is really intended, add a trailing caret character to disambiguate the name.\n",
            "  check_person_name(patient_name)\n",
            "WARNING:pydicom:A value of type 'tuple' cannot be assigned to a tag with VR LO.\n",
            "/usr/local/lib/python3.11/dist-packages/pydicom/valuerep.py:440: UserWarning: A value of type 'tuple' cannot be assigned to a tag with VR LO.\n",
            "  warn_and_log(msg)\n",
            "WARNING:pydicom:A value of type 'tuple' cannot be assigned to a tag with VR LO.\n"
          ]
        },
        {
          "output_type": "stream",
          "name": "stdout",
          "text": [
            "FrameOfReferenceUID: 1.3.6.1.4.1.14519.5.2.1.7311.5101.217454589360047797335933266781\n",
            "Parsing -27.064 50.9487 19.5641\n",
            "1\n",
            "Copying file:///content/sr/ProstateX-0029_1.3.6.1.4.1.14519.5.2.1.7311.5101.254720210057539290153454291675.dcm [Content-Type=application/dicom]...\n",
            "/ [1 files][  4.4 KiB/  4.4 KiB]                                                \n",
            "Operation completed over 1 objects/4.4 KiB.                                      \n",
            "********** On patient: ProstateX-0030 **********\n",
            "num_series: 1\n",
            "***** On series: 1.3.6.1.4.1.14519.5.2.1.7311.5101.732569288876643404213425491014 *****\n",
            "SeriesInstanceUID: 1.3.6.1.4.1.14519.5.2.1.7311.5101.732569288876643404213425491014\n"
          ]
        },
        {
          "output_type": "stream",
          "name": "stderr",
          "text": [
            "Downloading data: 100%|█████████▉| 5.68M/5.68M [00:01<00:00, 5.66MB/s]\n",
            "/usr/local/lib/python3.11/dist-packages/highdicom/base.py:163: UserWarning: The string \"ProstateX-0030\" is unlikely to represent the intended person name since it contains only a single component. Construct a person name according to the format in described in https://dicom.nema.org/dicom/2013/output/chtml/part05/sect_6.2.html#sect_6.2.1.2, or, in pydicom 2.2.0 or later, use the pydicom.valuerep.PersonName.from_named_components() method to construct the person name correctly. If a single-component name is really intended, add a trailing caret character to disambiguate the name.\n",
            "  check_person_name(patient_name)\n",
            "WARNING:pydicom:A value of type 'tuple' cannot be assigned to a tag with VR LO.\n",
            "/usr/local/lib/python3.11/dist-packages/pydicom/valuerep.py:440: UserWarning: A value of type 'tuple' cannot be assigned to a tag with VR LO.\n",
            "  warn_and_log(msg)\n",
            "WARNING:pydicom:A value of type 'tuple' cannot be assigned to a tag with VR LO.\n"
          ]
        },
        {
          "output_type": "stream",
          "name": "stdout",
          "text": [
            "FrameOfReferenceUID: 1.3.6.1.4.1.14519.5.2.1.7311.5101.184181559152679949026966932461\n",
            "Parsing 35.3287 44.3674 -50.6832\n",
            "1\n",
            "Copying file:///content/sr/ProstateX-0030_1.3.6.1.4.1.14519.5.2.1.7311.5101.732569288876643404213425491014.dcm [Content-Type=application/dicom]...\n",
            "/ [1 files][  4.4 KiB/  4.4 KiB]                                                \n",
            "Operation completed over 1 objects/4.4 KiB.                                      \n",
            "********** On patient: ProstateX-0031 **********\n",
            "num_series: 1\n",
            "***** On series: 1.3.6.1.4.1.14519.5.2.1.7311.5101.236668750518079273920360526105 *****\n",
            "SeriesInstanceUID: 1.3.6.1.4.1.14519.5.2.1.7311.5101.236668750518079273920360526105\n"
          ]
        },
        {
          "output_type": "stream",
          "name": "stderr",
          "text": [
            "Downloading data: 100%|█████████▉| 5.68M/5.68M [00:01<00:00, 5.66MB/s]\n",
            "/usr/local/lib/python3.11/dist-packages/highdicom/base.py:163: UserWarning: The string \"ProstateX-0031\" is unlikely to represent the intended person name since it contains only a single component. Construct a person name according to the format in described in https://dicom.nema.org/dicom/2013/output/chtml/part05/sect_6.2.html#sect_6.2.1.2, or, in pydicom 2.2.0 or later, use the pydicom.valuerep.PersonName.from_named_components() method to construct the person name correctly. If a single-component name is really intended, add a trailing caret character to disambiguate the name.\n",
            "  check_person_name(patient_name)\n",
            "WARNING:pydicom:A value of type 'tuple' cannot be assigned to a tag with VR LO.\n",
            "/usr/local/lib/python3.11/dist-packages/pydicom/valuerep.py:440: UserWarning: A value of type 'tuple' cannot be assigned to a tag with VR LO.\n",
            "  warn_and_log(msg)\n",
            "WARNING:pydicom:A value of type 'tuple' cannot be assigned to a tag with VR LO.\n"
          ]
        },
        {
          "output_type": "stream",
          "name": "stdout",
          "text": [
            "FrameOfReferenceUID: 1.3.6.1.4.1.14519.5.2.1.7311.5101.297472364444198675742797846417\n",
            "Parsing 8.08436 38.9556 13.8648\n",
            "Parsing -25.5225 39.8319 13.5071\n",
            "2\n",
            "Copying file:///content/sr/ProstateX-0031_1.3.6.1.4.1.14519.5.2.1.7311.5101.236668750518079273920360526105.dcm [Content-Type=application/dicom]...\n",
            "/ [1 files][  5.5 KiB/  5.5 KiB]                                                \n",
            "Operation completed over 1 objects/5.5 KiB.                                      \n",
            "********** On patient: ProstateX-0032 **********\n",
            "num_series: 1\n",
            "***** On series: 1.3.6.1.4.1.14519.5.2.1.7311.5101.173304539264806375350214468553 *****\n",
            "SeriesInstanceUID: 1.3.6.1.4.1.14519.5.2.1.7311.5101.173304539264806375350214468553\n"
          ]
        },
        {
          "output_type": "stream",
          "name": "stderr",
          "text": [
            "Downloading data: 100%|█████████▉| 5.68M/5.68M [00:01<00:00, 5.66MB/s]\n",
            "/usr/local/lib/python3.11/dist-packages/highdicom/base.py:163: UserWarning: The string \"ProstateX-0032\" is unlikely to represent the intended person name since it contains only a single component. Construct a person name according to the format in described in https://dicom.nema.org/dicom/2013/output/chtml/part05/sect_6.2.html#sect_6.2.1.2, or, in pydicom 2.2.0 or later, use the pydicom.valuerep.PersonName.from_named_components() method to construct the person name correctly. If a single-component name is really intended, add a trailing caret character to disambiguate the name.\n",
            "  check_person_name(patient_name)\n",
            "WARNING:pydicom:A value of type 'tuple' cannot be assigned to a tag with VR LO.\n",
            "/usr/local/lib/python3.11/dist-packages/pydicom/valuerep.py:440: UserWarning: A value of type 'tuple' cannot be assigned to a tag with VR LO.\n",
            "  warn_and_log(msg)\n",
            "WARNING:pydicom:A value of type 'tuple' cannot be assigned to a tag with VR LO.\n"
          ]
        },
        {
          "output_type": "stream",
          "name": "stdout",
          "text": [
            "FrameOfReferenceUID: 1.3.6.1.4.1.14519.5.2.1.7311.5101.294811977600581836077194395180\n",
            "Parsing 19.0001 60.9885 -32.157\n",
            "1\n",
            "Copying file:///content/sr/ProstateX-0032_1.3.6.1.4.1.14519.5.2.1.7311.5101.173304539264806375350214468553.dcm [Content-Type=application/dicom]...\n",
            "/ [1 files][  4.4 KiB/  4.4 KiB]                                                \n",
            "Operation completed over 1 objects/4.4 KiB.                                      \n",
            "********** On patient: ProstateX-0033 **********\n",
            "num_series: 1\n",
            "***** On series: 1.3.6.1.4.1.14519.5.2.1.7311.5101.188139215577213234230834229650 *****\n",
            "SeriesInstanceUID: 1.3.6.1.4.1.14519.5.2.1.7311.5101.188139215577213234230834229650\n"
          ]
        },
        {
          "output_type": "stream",
          "name": "stderr",
          "text": [
            "Downloading data: 100%|█████████▉| 5.68M/5.68M [00:01<00:00, 5.64MB/s]\n",
            "/usr/local/lib/python3.11/dist-packages/highdicom/base.py:163: UserWarning: The string \"ProstateX-0033\" is unlikely to represent the intended person name since it contains only a single component. Construct a person name according to the format in described in https://dicom.nema.org/dicom/2013/output/chtml/part05/sect_6.2.html#sect_6.2.1.2, or, in pydicom 2.2.0 or later, use the pydicom.valuerep.PersonName.from_named_components() method to construct the person name correctly. If a single-component name is really intended, add a trailing caret character to disambiguate the name.\n",
            "  check_person_name(patient_name)\n",
            "WARNING:pydicom:A value of type 'tuple' cannot be assigned to a tag with VR LO.\n",
            "/usr/local/lib/python3.11/dist-packages/pydicom/valuerep.py:440: UserWarning: A value of type 'tuple' cannot be assigned to a tag with VR LO.\n",
            "  warn_and_log(msg)\n",
            "WARNING:pydicom:A value of type 'tuple' cannot be assigned to a tag with VR LO.\n"
          ]
        },
        {
          "output_type": "stream",
          "name": "stdout",
          "text": [
            "FrameOfReferenceUID: 1.3.6.1.4.1.14519.5.2.1.7311.5101.120850457336648287021805294953\n",
            "Parsing -0.473669 43.2903 35.9394\n",
            "Parsing 24.7403 33.959 34.6019\n",
            "2\n",
            "Copying file:///content/sr/ProstateX-0033_1.3.6.1.4.1.14519.5.2.1.7311.5101.188139215577213234230834229650.dcm [Content-Type=application/dicom]...\n",
            "/ [1 files][  5.5 KiB/  5.5 KiB]                                                \n",
            "Operation completed over 1 objects/5.5 KiB.                                      \n",
            "10% of patients processed.\n",
            "********** On patient: ProstateX-0034 **********\n",
            "num_series: 1\n",
            "***** On series: 1.3.6.1.4.1.14519.5.2.1.7311.5101.118179781979766295284796608573 *****\n",
            "SeriesInstanceUID: 1.3.6.1.4.1.14519.5.2.1.7311.5101.118179781979766295284796608573\n"
          ]
        },
        {
          "output_type": "stream",
          "name": "stderr",
          "text": [
            "Downloading data: 100%|█████████▉| 5.68M/5.68M [00:01<00:00, 5.66MB/s]\n",
            "/usr/local/lib/python3.11/dist-packages/highdicom/base.py:163: UserWarning: The string \"ProstateX-0034\" is unlikely to represent the intended person name since it contains only a single component. Construct a person name according to the format in described in https://dicom.nema.org/dicom/2013/output/chtml/part05/sect_6.2.html#sect_6.2.1.2, or, in pydicom 2.2.0 or later, use the pydicom.valuerep.PersonName.from_named_components() method to construct the person name correctly. If a single-component name is really intended, add a trailing caret character to disambiguate the name.\n",
            "  check_person_name(patient_name)\n",
            "WARNING:pydicom:A value of type 'tuple' cannot be assigned to a tag with VR LO.\n",
            "/usr/local/lib/python3.11/dist-packages/pydicom/valuerep.py:440: UserWarning: A value of type 'tuple' cannot be assigned to a tag with VR LO.\n",
            "  warn_and_log(msg)\n",
            "WARNING:pydicom:A value of type 'tuple' cannot be assigned to a tag with VR LO.\n"
          ]
        },
        {
          "output_type": "stream",
          "name": "stdout",
          "text": [
            "FrameOfReferenceUID: 1.3.6.1.4.1.14519.5.2.1.7311.5101.146377892469130934209782447147\n",
            "Parsing 17.0042 60.678 5.75149\n",
            "1\n",
            "Copying file:///content/sr/ProstateX-0034_1.3.6.1.4.1.14519.5.2.1.7311.5101.118179781979766295284796608573.dcm [Content-Type=application/dicom]...\n",
            "/ [1 files][  4.4 KiB/  4.4 KiB]                                                \n",
            "Operation completed over 1 objects/4.4 KiB.                                      \n",
            "********** On patient: ProstateX-0035 **********\n",
            "num_series: 1\n",
            "***** On series: 1.3.6.1.4.1.14519.5.2.1.7311.5101.158066586341196283875658594147 *****\n",
            "SeriesInstanceUID: 1.3.6.1.4.1.14519.5.2.1.7311.5101.158066586341196283875658594147\n"
          ]
        },
        {
          "output_type": "stream",
          "name": "stderr",
          "text": [
            "Downloading data: 100%|█████████▉| 5.68M/5.68M [00:01<00:00, 5.66MB/s]\n",
            "/usr/local/lib/python3.11/dist-packages/highdicom/base.py:163: UserWarning: The string \"ProstateX-0035\" is unlikely to represent the intended person name since it contains only a single component. Construct a person name according to the format in described in https://dicom.nema.org/dicom/2013/output/chtml/part05/sect_6.2.html#sect_6.2.1.2, or, in pydicom 2.2.0 or later, use the pydicom.valuerep.PersonName.from_named_components() method to construct the person name correctly. If a single-component name is really intended, add a trailing caret character to disambiguate the name.\n",
            "  check_person_name(patient_name)\n",
            "WARNING:pydicom:A value of type 'tuple' cannot be assigned to a tag with VR LO.\n",
            "/usr/local/lib/python3.11/dist-packages/pydicom/valuerep.py:440: UserWarning: A value of type 'tuple' cannot be assigned to a tag with VR LO.\n",
            "  warn_and_log(msg)\n",
            "WARNING:pydicom:A value of type 'tuple' cannot be assigned to a tag with VR LO.\n"
          ]
        },
        {
          "output_type": "stream",
          "name": "stdout",
          "text": [
            "FrameOfReferenceUID: 1.3.6.1.4.1.14519.5.2.1.7311.5101.202664540177135447152224539908\n",
            "Parsing -22.9279 28.8785 -29.5951\n",
            "Parsing 17.2049 16.7651 -24.8213\n",
            "2\n",
            "Copying file:///content/sr/ProstateX-0035_1.3.6.1.4.1.14519.5.2.1.7311.5101.158066586341196283875658594147.dcm [Content-Type=application/dicom]...\n",
            "/ [1 files][  5.5 KiB/  5.5 KiB]                                                \n",
            "Operation completed over 1 objects/5.5 KiB.                                      \n",
            "********** On patient: ProstateX-0036 **********\n",
            "num_series: 1\n",
            "***** On series: 1.3.6.1.4.1.14519.5.2.1.7311.5101.796436302295730821810471680824 *****\n",
            "SeriesInstanceUID: 1.3.6.1.4.1.14519.5.2.1.7311.5101.796436302295730821810471680824\n"
          ]
        },
        {
          "output_type": "stream",
          "name": "stderr",
          "text": [
            "Downloading data: 100%|██████████| 6.87M/6.87M [00:01<00:00, 6.85MB/s]\n",
            "/usr/local/lib/python3.11/dist-packages/highdicom/base.py:163: UserWarning: The string \"ProstateX-0036\" is unlikely to represent the intended person name since it contains only a single component. Construct a person name according to the format in described in https://dicom.nema.org/dicom/2013/output/chtml/part05/sect_6.2.html#sect_6.2.1.2, or, in pydicom 2.2.0 or later, use the pydicom.valuerep.PersonName.from_named_components() method to construct the person name correctly. If a single-component name is really intended, add a trailing caret character to disambiguate the name.\n",
            "  check_person_name(patient_name)\n",
            "WARNING:pydicom:A value of type 'tuple' cannot be assigned to a tag with VR LO.\n",
            "/usr/local/lib/python3.11/dist-packages/pydicom/valuerep.py:440: UserWarning: A value of type 'tuple' cannot be assigned to a tag with VR LO.\n",
            "  warn_and_log(msg)\n",
            "WARNING:pydicom:A value of type 'tuple' cannot be assigned to a tag with VR LO.\n"
          ]
        },
        {
          "output_type": "stream",
          "name": "stdout",
          "text": [
            "FrameOfReferenceUID: 1.3.6.1.4.1.14519.5.2.1.7311.5101.689654220536025370350889615791\n",
            "Parsing 41.2459 52.7925 -62.1916\n",
            "1\n",
            "Copying file:///content/sr/ProstateX-0036_1.3.6.1.4.1.14519.5.2.1.7311.5101.796436302295730821810471680824.dcm [Content-Type=application/dicom]...\n",
            "\n",
            "Operation completed over 1 objects/4.4 KiB.                                      \n",
            "********** On patient: ProstateX-0037 **********\n",
            "num_series: 1\n",
            "***** On series: 1.3.6.1.4.1.14519.5.2.1.7311.5101.693064576588508957101499589375 *****\n",
            "SeriesInstanceUID: 1.3.6.1.4.1.14519.5.2.1.7311.5101.693064576588508957101499589375\n"
          ]
        },
        {
          "output_type": "stream",
          "name": "stderr",
          "text": [
            "Downloading data: 100%|█████████▉| 5.68M/5.68M [00:01<00:00, 5.66MB/s]\n",
            "/usr/local/lib/python3.11/dist-packages/highdicom/base.py:163: UserWarning: The string \"ProstateX-0037\" is unlikely to represent the intended person name since it contains only a single component. Construct a person name according to the format in described in https://dicom.nema.org/dicom/2013/output/chtml/part05/sect_6.2.html#sect_6.2.1.2, or, in pydicom 2.2.0 or later, use the pydicom.valuerep.PersonName.from_named_components() method to construct the person name correctly. If a single-component name is really intended, add a trailing caret character to disambiguate the name.\n",
            "  check_person_name(patient_name)\n",
            "WARNING:pydicom:A value of type 'tuple' cannot be assigned to a tag with VR LO.\n",
            "/usr/local/lib/python3.11/dist-packages/pydicom/valuerep.py:440: UserWarning: A value of type 'tuple' cannot be assigned to a tag with VR LO.\n",
            "  warn_and_log(msg)\n",
            "WARNING:pydicom:A value of type 'tuple' cannot be assigned to a tag with VR LO.\n"
          ]
        },
        {
          "output_type": "stream",
          "name": "stdout",
          "text": [
            "FrameOfReferenceUID: 1.3.6.1.4.1.14519.5.2.1.7311.5101.935938910270550166706028403707\n",
            "Parsing 10.0109 21.7560412231445 0.489487200805664\n",
            "Parsing 11.742 38.1655 0.0225723\n",
            "2\n",
            "Copying file:///content/sr/ProstateX-0037_1.3.6.1.4.1.14519.5.2.1.7311.5101.693064576588508957101499589375.dcm [Content-Type=application/dicom]...\n",
            "/ [1 files][  5.5 KiB/  5.5 KiB]                                                \n",
            "Operation completed over 1 objects/5.5 KiB.                                      \n",
            "********** On patient: ProstateX-0038 **********\n",
            "num_series: 1\n",
            "***** On series: 1.3.6.1.4.1.14519.5.2.1.7311.5101.187284638098559593208671789518 *****\n",
            "SeriesInstanceUID: 1.3.6.1.4.1.14519.5.2.1.7311.5101.187284638098559593208671789518\n"
          ]
        },
        {
          "output_type": "stream",
          "name": "stderr",
          "text": [
            "Downloading data: 100%|█████████▉| 6.28M/6.28M [00:01<00:00, 6.25MB/s]\n",
            "/usr/local/lib/python3.11/dist-packages/highdicom/base.py:163: UserWarning: The string \"ProstateX-0038\" is unlikely to represent the intended person name since it contains only a single component. Construct a person name according to the format in described in https://dicom.nema.org/dicom/2013/output/chtml/part05/sect_6.2.html#sect_6.2.1.2, or, in pydicom 2.2.0 or later, use the pydicom.valuerep.PersonName.from_named_components() method to construct the person name correctly. If a single-component name is really intended, add a trailing caret character to disambiguate the name.\n",
            "  check_person_name(patient_name)\n",
            "WARNING:pydicom:A value of type 'tuple' cannot be assigned to a tag with VR LO.\n",
            "/usr/local/lib/python3.11/dist-packages/pydicom/valuerep.py:440: UserWarning: A value of type 'tuple' cannot be assigned to a tag with VR LO.\n",
            "  warn_and_log(msg)\n",
            "WARNING:pydicom:A value of type 'tuple' cannot be assigned to a tag with VR LO.\n"
          ]
        },
        {
          "output_type": "stream",
          "name": "stdout",
          "text": [
            "FrameOfReferenceUID: 1.3.6.1.4.1.14519.5.2.1.7311.5101.212869184908237217459071342648\n",
            "Parsing -2.27438 42.417 21.4611\n",
            "Parsing -34.7633 44.767 14.3969\n",
            "Parsing -35.8699 29.366 22.5239\n",
            "3\n",
            "Copying file:///content/sr/ProstateX-0038_1.3.6.1.4.1.14519.5.2.1.7311.5101.187284638098559593208671789518.dcm [Content-Type=application/dicom]...\n",
            "/ [1 files][  6.5 KiB/  6.5 KiB]                                                \n",
            "Operation completed over 1 objects/6.5 KiB.                                      \n",
            "********** On patient: ProstateX-0039 **********\n",
            "num_series: 1\n",
            "***** On series: 1.3.6.1.4.1.14519.5.2.1.7311.5101.765597225260617532326624425795 *****\n",
            "SeriesInstanceUID: 1.3.6.1.4.1.14519.5.2.1.7311.5101.765597225260617532326624425795\n"
          ]
        },
        {
          "output_type": "stream",
          "name": "stderr",
          "text": [
            "Downloading data: 100%|██████████| 7.17M/7.17M [00:01<00:00, 7.14MB/s]\n",
            "/usr/local/lib/python3.11/dist-packages/highdicom/base.py:163: UserWarning: The string \"ProstateX-0039\" is unlikely to represent the intended person name since it contains only a single component. Construct a person name according to the format in described in https://dicom.nema.org/dicom/2013/output/chtml/part05/sect_6.2.html#sect_6.2.1.2, or, in pydicom 2.2.0 or later, use the pydicom.valuerep.PersonName.from_named_components() method to construct the person name correctly. If a single-component name is really intended, add a trailing caret character to disambiguate the name.\n",
            "  check_person_name(patient_name)\n",
            "WARNING:pydicom:A value of type 'tuple' cannot be assigned to a tag with VR LO.\n",
            "/usr/local/lib/python3.11/dist-packages/pydicom/valuerep.py:440: UserWarning: A value of type 'tuple' cannot be assigned to a tag with VR LO.\n",
            "  warn_and_log(msg)\n",
            "WARNING:pydicom:A value of type 'tuple' cannot be assigned to a tag with VR LO.\n"
          ]
        },
        {
          "output_type": "stream",
          "name": "stdout",
          "text": [
            "FrameOfReferenceUID: 1.3.6.1.4.1.14519.5.2.1.7311.5101.664988267562638949079292095827\n",
            "Parsing -29.2205 47.977 66.1721\n",
            "1\n",
            "Copying file:///content/sr/ProstateX-0039_1.3.6.1.4.1.14519.5.2.1.7311.5101.765597225260617532326624425795.dcm [Content-Type=application/dicom]...\n",
            "/ [1 files][  4.4 KiB/  4.4 KiB]                                                \n",
            "Operation completed over 1 objects/4.4 KiB.                                      \n",
            "********** On patient: ProstateX-0040 **********\n",
            "num_series: 1\n",
            "***** On series: 1.3.6.1.4.1.14519.5.2.1.7311.5101.129497959517350113675496714576 *****\n",
            "SeriesInstanceUID: 1.3.6.1.4.1.14519.5.2.1.7311.5101.129497959517350113675496714576\n"
          ]
        },
        {
          "output_type": "stream",
          "name": "stderr",
          "text": [
            "Downloading data: 100%|█████████▉| 5.68M/5.68M [00:01<00:00, 5.66MB/s]\n",
            "/usr/local/lib/python3.11/dist-packages/highdicom/base.py:163: UserWarning: The string \"ProstateX-0040\" is unlikely to represent the intended person name since it contains only a single component. Construct a person name according to the format in described in https://dicom.nema.org/dicom/2013/output/chtml/part05/sect_6.2.html#sect_6.2.1.2, or, in pydicom 2.2.0 or later, use the pydicom.valuerep.PersonName.from_named_components() method to construct the person name correctly. If a single-component name is really intended, add a trailing caret character to disambiguate the name.\n",
            "  check_person_name(patient_name)\n",
            "WARNING:pydicom:A value of type 'tuple' cannot be assigned to a tag with VR LO.\n",
            "/usr/local/lib/python3.11/dist-packages/pydicom/valuerep.py:440: UserWarning: A value of type 'tuple' cannot be assigned to a tag with VR LO.\n",
            "  warn_and_log(msg)\n",
            "WARNING:pydicom:A value of type 'tuple' cannot be assigned to a tag with VR LO.\n"
          ]
        },
        {
          "output_type": "stream",
          "name": "stdout",
          "text": [
            "FrameOfReferenceUID: 1.3.6.1.4.1.14519.5.2.1.7311.5101.115306631245703124957714365930\n",
            "Parsing 5.7972 19.5845 -58.366\n",
            "Parsing 32.0217 37.5945 -70.54\n",
            "Parsing 41.7562 24.6357 -74.4334\n",
            "3\n",
            "Copying file:///content/sr/ProstateX-0040_1.3.6.1.4.1.14519.5.2.1.7311.5101.129497959517350113675496714576.dcm [Content-Type=application/dicom]...\n",
            "/ [1 files][  6.5 KiB/  6.5 KiB]                                                \n",
            "Operation completed over 1 objects/6.5 KiB.                                      \n",
            "********** On patient: ProstateX-0041 **********\n",
            "num_series: 1\n",
            "***** On series: 1.3.6.1.4.1.14519.5.2.1.7311.5101.239707679629501768790276428232 *****\n",
            "SeriesInstanceUID: 1.3.6.1.4.1.14519.5.2.1.7311.5101.239707679629501768790276428232\n"
          ]
        },
        {
          "output_type": "stream",
          "name": "stderr",
          "text": [
            "Downloading data: 100%|█████████▉| 6.28M/6.28M [00:01<00:00, 6.25MB/s]\n",
            "/usr/local/lib/python3.11/dist-packages/highdicom/base.py:163: UserWarning: The string \"ProstateX-0041\" is unlikely to represent the intended person name since it contains only a single component. Construct a person name according to the format in described in https://dicom.nema.org/dicom/2013/output/chtml/part05/sect_6.2.html#sect_6.2.1.2, or, in pydicom 2.2.0 or later, use the pydicom.valuerep.PersonName.from_named_components() method to construct the person name correctly. If a single-component name is really intended, add a trailing caret character to disambiguate the name.\n",
            "  check_person_name(patient_name)\n",
            "WARNING:pydicom:A value of type 'tuple' cannot be assigned to a tag with VR LO.\n",
            "/usr/local/lib/python3.11/dist-packages/pydicom/valuerep.py:440: UserWarning: A value of type 'tuple' cannot be assigned to a tag with VR LO.\n",
            "  warn_and_log(msg)\n",
            "WARNING:pydicom:A value of type 'tuple' cannot be assigned to a tag with VR LO.\n"
          ]
        },
        {
          "output_type": "stream",
          "name": "stdout",
          "text": [
            "FrameOfReferenceUID: 1.3.6.1.4.1.14519.5.2.1.7311.5101.103129904671771870649611312847\n",
            "Parsing -11.24582 60.9975 -48.0648\n",
            "1\n",
            "Copying file:///content/sr/ProstateX-0041_1.3.6.1.4.1.14519.5.2.1.7311.5101.239707679629501768790276428232.dcm [Content-Type=application/dicom]...\n",
            "/ [1 files][  4.4 KiB/  4.4 KiB]                                                \n",
            "Operation completed over 1 objects/4.4 KiB.                                      \n",
            "********** On patient: ProstateX-0042 **********\n",
            "num_series: 1\n",
            "***** On series: 1.3.6.1.4.1.14519.5.2.1.7311.5101.143564387821383173303424260576 *****\n",
            "SeriesInstanceUID: 1.3.6.1.4.1.14519.5.2.1.7311.5101.143564387821383173303424260576\n"
          ]
        },
        {
          "output_type": "stream",
          "name": "stderr",
          "text": [
            "Downloading data: 100%|██████████| 7.47M/7.47M [00:01<00:00, 7.44MB/s]\n",
            "/usr/local/lib/python3.11/dist-packages/highdicom/base.py:163: UserWarning: The string \"ProstateX-0042\" is unlikely to represent the intended person name since it contains only a single component. Construct a person name according to the format in described in https://dicom.nema.org/dicom/2013/output/chtml/part05/sect_6.2.html#sect_6.2.1.2, or, in pydicom 2.2.0 or later, use the pydicom.valuerep.PersonName.from_named_components() method to construct the person name correctly. If a single-component name is really intended, add a trailing caret character to disambiguate the name.\n",
            "  check_person_name(patient_name)\n",
            "WARNING:pydicom:A value of type 'tuple' cannot be assigned to a tag with VR LO.\n",
            "/usr/local/lib/python3.11/dist-packages/pydicom/valuerep.py:440: UserWarning: A value of type 'tuple' cannot be assigned to a tag with VR LO.\n",
            "  warn_and_log(msg)\n",
            "WARNING:pydicom:A value of type 'tuple' cannot be assigned to a tag with VR LO.\n"
          ]
        },
        {
          "output_type": "stream",
          "name": "stdout",
          "text": [
            "FrameOfReferenceUID: 1.3.6.1.4.1.14519.5.2.1.7311.5101.441415470462984304057219956551\n",
            "Parsing 0.258727 12.1867 29.2257\n",
            "1\n",
            "Copying file:///content/sr/ProstateX-0042_1.3.6.1.4.1.14519.5.2.1.7311.5101.143564387821383173303424260576.dcm [Content-Type=application/dicom]...\n",
            "/ [1 files][  4.4 KiB/  4.4 KiB]                                                \n",
            "Operation completed over 1 objects/4.4 KiB.                                      \n",
            "********** On patient: ProstateX-0043 **********\n",
            "num_series: 1\n",
            "***** On series: 1.3.6.1.4.1.14519.5.2.1.7311.5101.267771623383410636497650745630 *****\n",
            "SeriesInstanceUID: 1.3.6.1.4.1.14519.5.2.1.7311.5101.267771623383410636497650745630\n"
          ]
        },
        {
          "output_type": "stream",
          "name": "stderr",
          "text": [
            "Downloading data: 100%|█████████▉| 6.28M/6.28M [00:01<00:00, 6.26MB/s]\n",
            "/usr/local/lib/python3.11/dist-packages/highdicom/base.py:163: UserWarning: The string \"ProstateX-0043\" is unlikely to represent the intended person name since it contains only a single component. Construct a person name according to the format in described in https://dicom.nema.org/dicom/2013/output/chtml/part05/sect_6.2.html#sect_6.2.1.2, or, in pydicom 2.2.0 or later, use the pydicom.valuerep.PersonName.from_named_components() method to construct the person name correctly. If a single-component name is really intended, add a trailing caret character to disambiguate the name.\n",
            "  check_person_name(patient_name)\n",
            "WARNING:pydicom:A value of type 'tuple' cannot be assigned to a tag with VR LO.\n",
            "/usr/local/lib/python3.11/dist-packages/pydicom/valuerep.py:440: UserWarning: A value of type 'tuple' cannot be assigned to a tag with VR LO.\n",
            "  warn_and_log(msg)\n",
            "WARNING:pydicom:A value of type 'tuple' cannot be assigned to a tag with VR LO.\n"
          ]
        },
        {
          "output_type": "stream",
          "name": "stdout",
          "text": [
            "FrameOfReferenceUID: 1.3.6.1.4.1.14519.5.2.1.7311.5101.141876106330537530781759117762\n",
            "Parsing 8.92826 59.9957 -1.69448\n",
            "1\n",
            "Copying file:///content/sr/ProstateX-0043_1.3.6.1.4.1.14519.5.2.1.7311.5101.267771623383410636497650745630.dcm [Content-Type=application/dicom]...\n",
            "/ [1 files][  4.4 KiB/  4.4 KiB]                                                \n",
            "Operation completed over 1 objects/4.4 KiB.                                      \n",
            "********** On patient: ProstateX-0044 **********\n",
            "num_series: 1\n",
            "***** On series: 1.3.6.1.4.1.14519.5.2.1.7311.5101.195161857226628695667807122636 *****\n",
            "SeriesInstanceUID: 1.3.6.1.4.1.14519.5.2.1.7311.5101.195161857226628695667807122636\n"
          ]
        },
        {
          "output_type": "stream",
          "name": "stderr",
          "text": [
            "Downloading data: 100%|█████████▉| 5.68M/5.68M [00:01<00:00, 5.66MB/s]\n",
            "/usr/local/lib/python3.11/dist-packages/highdicom/base.py:163: UserWarning: The string \"ProstateX-0044\" is unlikely to represent the intended person name since it contains only a single component. Construct a person name according to the format in described in https://dicom.nema.org/dicom/2013/output/chtml/part05/sect_6.2.html#sect_6.2.1.2, or, in pydicom 2.2.0 or later, use the pydicom.valuerep.PersonName.from_named_components() method to construct the person name correctly. If a single-component name is really intended, add a trailing caret character to disambiguate the name.\n",
            "  check_person_name(patient_name)\n",
            "WARNING:pydicom:A value of type 'tuple' cannot be assigned to a tag with VR LO.\n",
            "/usr/local/lib/python3.11/dist-packages/pydicom/valuerep.py:440: UserWarning: A value of type 'tuple' cannot be assigned to a tag with VR LO.\n",
            "  warn_and_log(msg)\n",
            "WARNING:pydicom:A value of type 'tuple' cannot be assigned to a tag with VR LO.\n"
          ]
        },
        {
          "output_type": "stream",
          "name": "stdout",
          "text": [
            "FrameOfReferenceUID: 1.3.6.1.4.1.14519.5.2.1.7311.5101.253007802532453937055165861470\n",
            "Parsing -5.795073 18.7907 87.5082\n",
            "1\n",
            "Copying file:///content/sr/ProstateX-0044_1.3.6.1.4.1.14519.5.2.1.7311.5101.195161857226628695667807122636.dcm [Content-Type=application/dicom]...\n",
            "/ [1 files][  4.4 KiB/  4.4 KiB]                                                \n",
            "Operation completed over 1 objects/4.4 KiB.                                      \n",
            "********** On patient: ProstateX-0045 **********\n",
            "num_series: 1\n",
            "***** On series: 1.3.6.1.4.1.14519.5.2.1.7311.5101.327793082899258021167131498907 *****\n",
            "SeriesInstanceUID: 1.3.6.1.4.1.14519.5.2.1.7311.5101.327793082899258021167131498907\n"
          ]
        },
        {
          "output_type": "stream",
          "name": "stderr",
          "text": [
            "Downloading data: 100%|██████████| 7.47M/7.47M [00:01<00:00, 7.44MB/s]\n",
            "/usr/local/lib/python3.11/dist-packages/highdicom/base.py:163: UserWarning: The string \"ProstateX-0045\" is unlikely to represent the intended person name since it contains only a single component. Construct a person name according to the format in described in https://dicom.nema.org/dicom/2013/output/chtml/part05/sect_6.2.html#sect_6.2.1.2, or, in pydicom 2.2.0 or later, use the pydicom.valuerep.PersonName.from_named_components() method to construct the person name correctly. If a single-component name is really intended, add a trailing caret character to disambiguate the name.\n",
            "  check_person_name(patient_name)\n",
            "WARNING:pydicom:A value of type 'tuple' cannot be assigned to a tag with VR LO.\n",
            "/usr/local/lib/python3.11/dist-packages/pydicom/valuerep.py:440: UserWarning: A value of type 'tuple' cannot be assigned to a tag with VR LO.\n",
            "  warn_and_log(msg)\n",
            "WARNING:pydicom:A value of type 'tuple' cannot be assigned to a tag with VR LO.\n"
          ]
        },
        {
          "output_type": "stream",
          "name": "stdout",
          "text": [
            "FrameOfReferenceUID: 1.3.6.1.4.1.14519.5.2.1.7311.5101.272762593238621193407999912382\n",
            "Parsing -4.47705 12.5405 17.9921\n",
            "1\n",
            "Copying file:///content/sr/ProstateX-0045_1.3.6.1.4.1.14519.5.2.1.7311.5101.327793082899258021167131498907.dcm [Content-Type=application/dicom]...\n",
            "/ [1 files][  4.4 KiB/  4.4 KiB]                                                \n",
            "Operation completed over 1 objects/4.4 KiB.                                      \n",
            "********** On patient: ProstateX-0046 **********\n",
            "num_series: 1\n",
            "***** On series: 1.3.6.1.4.1.14519.5.2.1.7311.5101.166265209513832781969059787909 *****\n",
            "SeriesInstanceUID: 1.3.6.1.4.1.14519.5.2.1.7311.5101.166265209513832781969059787909\n"
          ]
        },
        {
          "output_type": "stream",
          "name": "stderr",
          "text": [
            "Downloading data: 100%|█████████▉| 5.68M/5.68M [00:01<00:00, 5.66MB/s]\n",
            "/usr/local/lib/python3.11/dist-packages/highdicom/base.py:163: UserWarning: The string \"ProstateX-0046\" is unlikely to represent the intended person name since it contains only a single component. Construct a person name according to the format in described in https://dicom.nema.org/dicom/2013/output/chtml/part05/sect_6.2.html#sect_6.2.1.2, or, in pydicom 2.2.0 or later, use the pydicom.valuerep.PersonName.from_named_components() method to construct the person name correctly. If a single-component name is really intended, add a trailing caret character to disambiguate the name.\n",
            "  check_person_name(patient_name)\n",
            "WARNING:pydicom:A value of type 'tuple' cannot be assigned to a tag with VR LO.\n",
            "/usr/local/lib/python3.11/dist-packages/pydicom/valuerep.py:440: UserWarning: A value of type 'tuple' cannot be assigned to a tag with VR LO.\n",
            "  warn_and_log(msg)\n",
            "WARNING:pydicom:A value of type 'tuple' cannot be assigned to a tag with VR LO.\n"
          ]
        },
        {
          "output_type": "stream",
          "name": "stdout",
          "text": [
            "FrameOfReferenceUID: 1.3.6.1.4.1.14519.5.2.1.7311.5101.131080321179101762592242788654\n",
            "Parsing -32.861 -2.20032 46.9729\n",
            "Parsing -4.84385 2.95186 35.0858\n",
            "2\n",
            "Copying file:///content/sr/ProstateX-0046_1.3.6.1.4.1.14519.5.2.1.7311.5101.166265209513832781969059787909.dcm [Content-Type=application/dicom]...\n",
            "/ [1 files][  5.5 KiB/  5.5 KiB]                                                \n",
            "Operation completed over 1 objects/5.5 KiB.                                      \n",
            "********** On patient: ProstateX-0047 **********\n",
            "num_series: 1\n",
            "***** On series: 1.3.6.1.4.1.14519.5.2.1.7311.5101.177297063809065385024860008775 *****\n",
            "SeriesInstanceUID: 1.3.6.1.4.1.14519.5.2.1.7311.5101.177297063809065385024860008775\n"
          ]
        },
        {
          "output_type": "stream",
          "name": "stderr",
          "text": [
            "Downloading data: 100%|█████████▉| 6.28M/6.28M [00:01<00:00, 6.23MB/s]\n",
            "/usr/local/lib/python3.11/dist-packages/highdicom/base.py:163: UserWarning: The string \"ProstateX-0047\" is unlikely to represent the intended person name since it contains only a single component. Construct a person name according to the format in described in https://dicom.nema.org/dicom/2013/output/chtml/part05/sect_6.2.html#sect_6.2.1.2, or, in pydicom 2.2.0 or later, use the pydicom.valuerep.PersonName.from_named_components() method to construct the person name correctly. If a single-component name is really intended, add a trailing caret character to disambiguate the name.\n",
            "  check_person_name(patient_name)\n",
            "WARNING:pydicom:A value of type 'tuple' cannot be assigned to a tag with VR LO.\n",
            "/usr/local/lib/python3.11/dist-packages/pydicom/valuerep.py:440: UserWarning: A value of type 'tuple' cannot be assigned to a tag with VR LO.\n",
            "  warn_and_log(msg)\n",
            "WARNING:pydicom:A value of type 'tuple' cannot be assigned to a tag with VR LO.\n"
          ]
        },
        {
          "output_type": "stream",
          "name": "stdout",
          "text": [
            "FrameOfReferenceUID: 1.3.6.1.4.1.14519.5.2.1.7311.5101.176532118190918651842344486279\n",
            "Parsing -24.2868 62.7355 -24.2213\n",
            "1\n",
            "Copying file:///content/sr/ProstateX-0047_1.3.6.1.4.1.14519.5.2.1.7311.5101.177297063809065385024860008775.dcm [Content-Type=application/dicom]...\n",
            "/ [1 files][  4.4 KiB/  4.4 KiB]                                                \n",
            "Operation completed over 1 objects/4.4 KiB.                                      \n",
            "********** On patient: ProstateX-0048 **********\n",
            "num_series: 1\n",
            "***** On series: 1.3.6.1.4.1.14519.5.2.1.7311.5101.259068897752937994906611460872 *****\n",
            "SeriesInstanceUID: 1.3.6.1.4.1.14519.5.2.1.7311.5101.259068897752937994906611460872\n"
          ]
        },
        {
          "output_type": "stream",
          "name": "stderr",
          "text": [
            "Downloading data: 100%|█████████▉| 5.68M/5.68M [00:01<00:00, 5.66MB/s]\n",
            "/usr/local/lib/python3.11/dist-packages/highdicom/base.py:163: UserWarning: The string \"ProstateX-0048\" is unlikely to represent the intended person name since it contains only a single component. Construct a person name according to the format in described in https://dicom.nema.org/dicom/2013/output/chtml/part05/sect_6.2.html#sect_6.2.1.2, or, in pydicom 2.2.0 or later, use the pydicom.valuerep.PersonName.from_named_components() method to construct the person name correctly. If a single-component name is really intended, add a trailing caret character to disambiguate the name.\n",
            "  check_person_name(patient_name)\n",
            "WARNING:pydicom:A value of type 'tuple' cannot be assigned to a tag with VR LO.\n",
            "/usr/local/lib/python3.11/dist-packages/pydicom/valuerep.py:440: UserWarning: A value of type 'tuple' cannot be assigned to a tag with VR LO.\n",
            "  warn_and_log(msg)\n",
            "WARNING:pydicom:A value of type 'tuple' cannot be assigned to a tag with VR LO.\n"
          ]
        },
        {
          "output_type": "stream",
          "name": "stdout",
          "text": [
            "FrameOfReferenceUID: 1.3.6.1.4.1.14519.5.2.1.7311.5101.125423987960412301182924773744\n",
            "Parsing 18.4772 48.0755 -83.6069\n",
            "1\n",
            "Copying file:///content/sr/ProstateX-0048_1.3.6.1.4.1.14519.5.2.1.7311.5101.259068897752937994906611460872.dcm [Content-Type=application/dicom]...\n",
            "/ [1 files][  4.4 KiB/  4.4 KiB]                                                \n",
            "Operation completed over 1 objects/4.4 KiB.                                      \n",
            "********** On patient: ProstateX-0049 **********\n",
            "num_series: 1\n",
            "***** On series: 1.3.6.1.4.1.14519.5.2.1.7311.5101.288990829588462794667647108778 *****\n",
            "SeriesInstanceUID: 1.3.6.1.4.1.14519.5.2.1.7311.5101.288990829588462794667647108778\n"
          ]
        },
        {
          "output_type": "stream",
          "name": "stderr",
          "text": [
            "Downloading data: 100%|█████████▉| 5.68M/5.68M [00:01<00:00, 5.66MB/s]\n",
            "/usr/local/lib/python3.11/dist-packages/highdicom/base.py:163: UserWarning: The string \"ProstateX-0049\" is unlikely to represent the intended person name since it contains only a single component. Construct a person name according to the format in described in https://dicom.nema.org/dicom/2013/output/chtml/part05/sect_6.2.html#sect_6.2.1.2, or, in pydicom 2.2.0 or later, use the pydicom.valuerep.PersonName.from_named_components() method to construct the person name correctly. If a single-component name is really intended, add a trailing caret character to disambiguate the name.\n",
            "  check_person_name(patient_name)\n",
            "WARNING:pydicom:A value of type 'tuple' cannot be assigned to a tag with VR LO.\n",
            "/usr/local/lib/python3.11/dist-packages/pydicom/valuerep.py:440: UserWarning: A value of type 'tuple' cannot be assigned to a tag with VR LO.\n",
            "  warn_and_log(msg)\n",
            "WARNING:pydicom:A value of type 'tuple' cannot be assigned to a tag with VR LO.\n"
          ]
        },
        {
          "output_type": "stream",
          "name": "stdout",
          "text": [
            "FrameOfReferenceUID: 1.3.6.1.4.1.14519.5.2.1.7311.5101.222246052054006372293320971313\n",
            "Parsing 27.5717 36.0367 8.92738\n",
            "1\n",
            "Copying file:///content/sr/ProstateX-0049_1.3.6.1.4.1.14519.5.2.1.7311.5101.288990829588462794667647108778.dcm [Content-Type=application/dicom]...\n",
            "/ [1 files][  4.4 KiB/  4.4 KiB]                                                \n",
            "Operation completed over 1 objects/4.4 KiB.                                      \n",
            "********** On patient: ProstateX-0050 **********\n",
            "num_series: 1\n",
            "***** On series: 1.3.6.1.4.1.14519.5.2.1.7311.5101.362250911393138568500075581973 *****\n",
            "SeriesInstanceUID: 1.3.6.1.4.1.14519.5.2.1.7311.5101.362250911393138568500075581973\n"
          ]
        },
        {
          "output_type": "stream",
          "name": "stderr",
          "text": [
            "Downloading data: 100%|█████████▉| 6.88M/6.88M [00:01<00:00, 6.85MB/s]\n",
            "/usr/local/lib/python3.11/dist-packages/highdicom/base.py:163: UserWarning: The string \"ProstateX-0050\" is unlikely to represent the intended person name since it contains only a single component. Construct a person name according to the format in described in https://dicom.nema.org/dicom/2013/output/chtml/part05/sect_6.2.html#sect_6.2.1.2, or, in pydicom 2.2.0 or later, use the pydicom.valuerep.PersonName.from_named_components() method to construct the person name correctly. If a single-component name is really intended, add a trailing caret character to disambiguate the name.\n",
            "  check_person_name(patient_name)\n",
            "WARNING:pydicom:A value of type 'tuple' cannot be assigned to a tag with VR LO.\n",
            "/usr/local/lib/python3.11/dist-packages/pydicom/valuerep.py:440: UserWarning: A value of type 'tuple' cannot be assigned to a tag with VR LO.\n",
            "  warn_and_log(msg)\n",
            "WARNING:pydicom:A value of type 'tuple' cannot be assigned to a tag with VR LO.\n"
          ]
        },
        {
          "output_type": "stream",
          "name": "stdout",
          "text": [
            "FrameOfReferenceUID: 1.3.6.1.4.1.14519.5.2.1.7311.5101.251399081666551921477175551313\n",
            "Parsing 11.8784 16.0017 -26.537\n",
            "1\n",
            "Copying file:///content/sr/ProstateX-0050_1.3.6.1.4.1.14519.5.2.1.7311.5101.362250911393138568500075581973.dcm [Content-Type=application/dicom]...\n",
            "/ [1 files][  4.4 KiB/  4.4 KiB]                                                \n",
            "Operation completed over 1 objects/4.4 KiB.                                      \n",
            "********** On patient: ProstateX-0051 **********\n",
            "num_series: 1\n",
            "***** On series: 1.3.6.1.4.1.14519.5.2.1.7311.5101.158753215359821065559679220345 *****\n",
            "SeriesInstanceUID: 1.3.6.1.4.1.14519.5.2.1.7311.5101.158753215359821065559679220345\n"
          ]
        },
        {
          "output_type": "stream",
          "name": "stderr",
          "text": [
            "Downloading data: 100%|██████████| 5.68M/5.68M [00:01<00:00, 5.66MB/s]\n",
            "/usr/local/lib/python3.11/dist-packages/highdicom/base.py:163: UserWarning: The string \"ProstateX-0051\" is unlikely to represent the intended person name since it contains only a single component. Construct a person name according to the format in described in https://dicom.nema.org/dicom/2013/output/chtml/part05/sect_6.2.html#sect_6.2.1.2, or, in pydicom 2.2.0 or later, use the pydicom.valuerep.PersonName.from_named_components() method to construct the person name correctly. If a single-component name is really intended, add a trailing caret character to disambiguate the name.\n",
            "  check_person_name(patient_name)\n",
            "WARNING:pydicom:A value of type 'tuple' cannot be assigned to a tag with VR LO.\n",
            "/usr/local/lib/python3.11/dist-packages/pydicom/valuerep.py:440: UserWarning: A value of type 'tuple' cannot be assigned to a tag with VR LO.\n",
            "  warn_and_log(msg)\n",
            "WARNING:pydicom:A value of type 'tuple' cannot be assigned to a tag with VR LO.\n"
          ]
        },
        {
          "output_type": "stream",
          "name": "stdout",
          "text": [
            "FrameOfReferenceUID: 1.3.6.1.4.1.14519.5.2.1.7311.5101.886896240201436481154608570554\n",
            "Parsing -7.8659 55.0028 38.3943\n",
            "1\n",
            "Copying file:///content/sr/ProstateX-0051_1.3.6.1.4.1.14519.5.2.1.7311.5101.158753215359821065559679220345.dcm [Content-Type=application/dicom]...\n",
            "/ [1 files][  4.4 KiB/  4.4 KiB]                                                \n",
            "Operation completed over 1 objects/4.4 KiB.                                      \n",
            "********** On patient: ProstateX-0052 **********\n",
            "num_series: 1\n",
            "***** On series: 1.3.6.1.4.1.14519.5.2.1.7311.5101.151037559012155965551113153184 *****\n",
            "SeriesInstanceUID: 1.3.6.1.4.1.14519.5.2.1.7311.5101.151037559012155965551113153184\n"
          ]
        },
        {
          "output_type": "stream",
          "name": "stderr",
          "text": [
            "Downloading data: 100%|█████████▉| 6.28M/6.28M [00:01<00:00, 6.26MB/s]\n",
            "/usr/local/lib/python3.11/dist-packages/highdicom/base.py:163: UserWarning: The string \"ProstateX-0052\" is unlikely to represent the intended person name since it contains only a single component. Construct a person name according to the format in described in https://dicom.nema.org/dicom/2013/output/chtml/part05/sect_6.2.html#sect_6.2.1.2, or, in pydicom 2.2.0 or later, use the pydicom.valuerep.PersonName.from_named_components() method to construct the person name correctly. If a single-component name is really intended, add a trailing caret character to disambiguate the name.\n",
            "  check_person_name(patient_name)\n",
            "WARNING:pydicom:A value of type 'tuple' cannot be assigned to a tag with VR LO.\n",
            "/usr/local/lib/python3.11/dist-packages/pydicom/valuerep.py:440: UserWarning: A value of type 'tuple' cannot be assigned to a tag with VR LO.\n",
            "  warn_and_log(msg)\n",
            "WARNING:pydicom:A value of type 'tuple' cannot be assigned to a tag with VR LO.\n"
          ]
        },
        {
          "output_type": "stream",
          "name": "stdout",
          "text": [
            "FrameOfReferenceUID: 1.3.6.1.4.1.14519.5.2.1.7311.5101.484220274505576519258790968111\n",
            "Parsing 26.6078 10.1553 50.5636\n",
            "1\n",
            "Copying file:///content/sr/ProstateX-0052_1.3.6.1.4.1.14519.5.2.1.7311.5101.151037559012155965551113153184.dcm [Content-Type=application/dicom]...\n",
            "/ [1 files][  4.4 KiB/  4.4 KiB]                                                \n",
            "Operation completed over 1 objects/4.4 KiB.                                      \n",
            "********** On patient: ProstateX-0053 **********\n",
            "num_series: 1\n",
            "***** On series: 1.3.6.1.4.1.14519.5.2.1.7311.5101.134494516596506286173198983699 *****\n",
            "SeriesInstanceUID: 1.3.6.1.4.1.14519.5.2.1.7311.5101.134494516596506286173198983699\n"
          ]
        },
        {
          "output_type": "stream",
          "name": "stderr",
          "text": [
            "Downloading data: 100%|█████████▉| 6.28M/6.28M [00:01<00:00, 6.25MB/s]\n",
            "/usr/local/lib/python3.11/dist-packages/highdicom/base.py:163: UserWarning: The string \"ProstateX-0053\" is unlikely to represent the intended person name since it contains only a single component. Construct a person name according to the format in described in https://dicom.nema.org/dicom/2013/output/chtml/part05/sect_6.2.html#sect_6.2.1.2, or, in pydicom 2.2.0 or later, use the pydicom.valuerep.PersonName.from_named_components() method to construct the person name correctly. If a single-component name is really intended, add a trailing caret character to disambiguate the name.\n",
            "  check_person_name(patient_name)\n",
            "WARNING:pydicom:A value of type 'tuple' cannot be assigned to a tag with VR LO.\n",
            "/usr/local/lib/python3.11/dist-packages/pydicom/valuerep.py:440: UserWarning: A value of type 'tuple' cannot be assigned to a tag with VR LO.\n",
            "  warn_and_log(msg)\n",
            "WARNING:pydicom:A value of type 'tuple' cannot be assigned to a tag with VR LO.\n"
          ]
        },
        {
          "output_type": "stream",
          "name": "stdout",
          "text": [
            "FrameOfReferenceUID: 1.3.6.1.4.1.14519.5.2.1.7311.5101.333950693394408041715217896431\n",
            "Parsing 36.1 35.7 -83.4\n",
            "1\n",
            "Copying file:///content/sr/ProstateX-0053_1.3.6.1.4.1.14519.5.2.1.7311.5101.134494516596506286173198983699.dcm [Content-Type=application/dicom]...\n",
            "/ [1 files][  4.4 KiB/  4.4 KiB]                                                \n",
            "Operation completed over 1 objects/4.4 KiB.                                      \n",
            "********** On patient: ProstateX-0054 **********\n",
            "num_series: 1\n",
            "***** On series: 1.3.6.1.4.1.14519.5.2.1.7311.5101.472900684997509231929411950536 *****\n",
            "SeriesInstanceUID: 1.3.6.1.4.1.14519.5.2.1.7311.5101.472900684997509231929411950536\n"
          ]
        },
        {
          "output_type": "stream",
          "name": "stderr",
          "text": [
            "Downloading data: 100%|█████████▉| 4.39M/4.39M [00:01<00:00, 4.37MB/s]\n",
            "/usr/local/lib/python3.11/dist-packages/highdicom/base.py:163: UserWarning: The string \"ProstateX-0054\" is unlikely to represent the intended person name since it contains only a single component. Construct a person name according to the format in described in https://dicom.nema.org/dicom/2013/output/chtml/part05/sect_6.2.html#sect_6.2.1.2, or, in pydicom 2.2.0 or later, use the pydicom.valuerep.PersonName.from_named_components() method to construct the person name correctly. If a single-component name is really intended, add a trailing caret character to disambiguate the name.\n",
            "  check_person_name(patient_name)\n",
            "WARNING:pydicom:A value of type 'tuple' cannot be assigned to a tag with VR LO.\n",
            "/usr/local/lib/python3.11/dist-packages/pydicom/valuerep.py:440: UserWarning: A value of type 'tuple' cannot be assigned to a tag with VR LO.\n",
            "  warn_and_log(msg)\n",
            "WARNING:pydicom:A value of type 'tuple' cannot be assigned to a tag with VR LO.\n"
          ]
        },
        {
          "output_type": "stream",
          "name": "stdout",
          "text": [
            "FrameOfReferenceUID: 1.3.6.1.4.1.14519.5.2.1.7311.5101.163867026907015786589298633451\n",
            "Parsing -2.10843 10.7156 -4.33744\n",
            "Parsing 20.3595 31.1926 -6.71699\n",
            "2\n",
            "Copying file:///content/sr/ProstateX-0054_1.3.6.1.4.1.14519.5.2.1.7311.5101.472900684997509231929411950536.dcm [Content-Type=application/dicom]...\n",
            "/ [1 files][  5.5 KiB/  5.5 KiB]                                                \n",
            "Operation completed over 1 objects/5.5 KiB.                                      \n",
            "********** On patient: ProstateX-0055 **********\n",
            "num_series: 1\n",
            "***** On series: 1.3.6.1.4.1.14519.5.2.1.7311.5101.867984895695548587093255801819 *****\n",
            "SeriesInstanceUID: 1.3.6.1.4.1.14519.5.2.1.7311.5101.867984895695548587093255801819\n"
          ]
        },
        {
          "output_type": "stream",
          "name": "stderr",
          "text": [
            "Downloading data: 100%|█████████▉| 5.68M/5.68M [00:01<00:00, 5.66MB/s]\n",
            "/usr/local/lib/python3.11/dist-packages/highdicom/base.py:163: UserWarning: The string \"ProstateX-0055\" is unlikely to represent the intended person name since it contains only a single component. Construct a person name according to the format in described in https://dicom.nema.org/dicom/2013/output/chtml/part05/sect_6.2.html#sect_6.2.1.2, or, in pydicom 2.2.0 or later, use the pydicom.valuerep.PersonName.from_named_components() method to construct the person name correctly. If a single-component name is really intended, add a trailing caret character to disambiguate the name.\n",
            "  check_person_name(patient_name)\n",
            "WARNING:pydicom:A value of type 'tuple' cannot be assigned to a tag with VR LO.\n",
            "/usr/local/lib/python3.11/dist-packages/pydicom/valuerep.py:440: UserWarning: A value of type 'tuple' cannot be assigned to a tag with VR LO.\n",
            "  warn_and_log(msg)\n",
            "WARNING:pydicom:A value of type 'tuple' cannot be assigned to a tag with VR LO.\n"
          ]
        },
        {
          "output_type": "stream",
          "name": "stdout",
          "text": [
            "FrameOfReferenceUID: 1.3.6.1.4.1.14519.5.2.1.7311.5101.307690468880477407098556215360\n",
            "Parsing -6.36708 5.95801 -16.3704\n",
            "1\n",
            "Copying file:///content/sr/ProstateX-0055_1.3.6.1.4.1.14519.5.2.1.7311.5101.867984895695548587093255801819.dcm [Content-Type=application/dicom]...\n",
            "/ [1 files][  4.4 KiB/  4.4 KiB]                                                \n",
            "Operation completed over 1 objects/4.4 KiB.                                      \n",
            "********** On patient: ProstateX-0056 **********\n",
            "num_series: 1\n",
            "***** On series: 1.3.6.1.4.1.14519.5.2.1.7311.5101.905763996607212880296069425861 *****\n",
            "SeriesInstanceUID: 1.3.6.1.4.1.14519.5.2.1.7311.5101.905763996607212880296069425861\n"
          ]
        },
        {
          "output_type": "stream",
          "name": "stderr",
          "text": [
            "Downloading data: 100%|█████████▉| 6.28M/6.28M [00:01<00:00, 6.25MB/s]\n",
            "/usr/local/lib/python3.11/dist-packages/highdicom/base.py:163: UserWarning: The string \"ProstateX-0056\" is unlikely to represent the intended person name since it contains only a single component. Construct a person name according to the format in described in https://dicom.nema.org/dicom/2013/output/chtml/part05/sect_6.2.html#sect_6.2.1.2, or, in pydicom 2.2.0 or later, use the pydicom.valuerep.PersonName.from_named_components() method to construct the person name correctly. If a single-component name is really intended, add a trailing caret character to disambiguate the name.\n",
            "  check_person_name(patient_name)\n",
            "WARNING:pydicom:A value of type 'tuple' cannot be assigned to a tag with VR LO.\n",
            "/usr/local/lib/python3.11/dist-packages/pydicom/valuerep.py:440: UserWarning: A value of type 'tuple' cannot be assigned to a tag with VR LO.\n",
            "  warn_and_log(msg)\n",
            "WARNING:pydicom:A value of type 'tuple' cannot be assigned to a tag with VR LO.\n"
          ]
        },
        {
          "output_type": "stream",
          "name": "stdout",
          "text": [
            "FrameOfReferenceUID: 1.3.6.1.4.1.14519.5.2.1.7311.5101.226749881970300553578664541975\n",
            "Parsing -9.6549 19.4309 -39.5232\n",
            "1\n",
            "Copying file:///content/sr/ProstateX-0056_1.3.6.1.4.1.14519.5.2.1.7311.5101.905763996607212880296069425861.dcm [Content-Type=application/dicom]...\n",
            "/ [1 files][  4.4 KiB/  4.4 KiB]                                                \n",
            "Operation completed over 1 objects/4.4 KiB.                                      \n",
            "********** On patient: ProstateX-0057 **********\n",
            "num_series: 1\n",
            "***** On series: 1.3.6.1.4.1.14519.5.2.1.7311.5101.182889596923924025690195877030 *****\n",
            "SeriesInstanceUID: 1.3.6.1.4.1.14519.5.2.1.7311.5101.182889596923924025690195877030\n"
          ]
        },
        {
          "output_type": "stream",
          "name": "stderr",
          "text": [
            "Downloading data: 100%|█████████▉| 5.68M/5.68M [00:01<00:00, 5.66MB/s]\n",
            "/usr/local/lib/python3.11/dist-packages/highdicom/base.py:163: UserWarning: The string \"ProstateX-0057\" is unlikely to represent the intended person name since it contains only a single component. Construct a person name according to the format in described in https://dicom.nema.org/dicom/2013/output/chtml/part05/sect_6.2.html#sect_6.2.1.2, or, in pydicom 2.2.0 or later, use the pydicom.valuerep.PersonName.from_named_components() method to construct the person name correctly. If a single-component name is really intended, add a trailing caret character to disambiguate the name.\n",
            "  check_person_name(patient_name)\n",
            "WARNING:pydicom:A value of type 'tuple' cannot be assigned to a tag with VR LO.\n",
            "/usr/local/lib/python3.11/dist-packages/pydicom/valuerep.py:440: UserWarning: A value of type 'tuple' cannot be assigned to a tag with VR LO.\n",
            "  warn_and_log(msg)\n",
            "WARNING:pydicom:A value of type 'tuple' cannot be assigned to a tag with VR LO.\n"
          ]
        },
        {
          "output_type": "stream",
          "name": "stdout",
          "text": [
            "FrameOfReferenceUID: 1.3.6.1.4.1.14519.5.2.1.7311.5101.176277954595645044028568583940\n",
            "Parsing -5.013 52.868 7.27444\n",
            "Parsing 26.2799 54.2679 -21.5532\n",
            "2\n",
            "Copying file:///content/sr/ProstateX-0057_1.3.6.1.4.1.14519.5.2.1.7311.5101.182889596923924025690195877030.dcm [Content-Type=application/dicom]...\n",
            "/ [1 files][  5.5 KiB/  5.5 KiB]                                                \n",
            "Operation completed over 1 objects/5.5 KiB.                                      \n",
            "********** On patient: ProstateX-0058 **********\n",
            "num_series: 1\n",
            "***** On series: 1.3.6.1.4.1.14519.5.2.1.7311.5101.272107812581357323586544870665 *****\n",
            "SeriesInstanceUID: 1.3.6.1.4.1.14519.5.2.1.7311.5101.272107812581357323586544870665\n"
          ]
        },
        {
          "output_type": "stream",
          "name": "stderr",
          "text": [
            "Downloading data: 100%|█████████▉| 5.64M/5.64M [00:01<00:00, 5.61MB/s]\n",
            "/usr/local/lib/python3.11/dist-packages/highdicom/base.py:163: UserWarning: The string \"ProstateX-0058\" is unlikely to represent the intended person name since it contains only a single component. Construct a person name according to the format in described in https://dicom.nema.org/dicom/2013/output/chtml/part05/sect_6.2.html#sect_6.2.1.2, or, in pydicom 2.2.0 or later, use the pydicom.valuerep.PersonName.from_named_components() method to construct the person name correctly. If a single-component name is really intended, add a trailing caret character to disambiguate the name.\n",
            "  check_person_name(patient_name)\n",
            "WARNING:pydicom:A value of type 'tuple' cannot be assigned to a tag with VR LO.\n",
            "/usr/local/lib/python3.11/dist-packages/pydicom/valuerep.py:440: UserWarning: A value of type 'tuple' cannot be assigned to a tag with VR LO.\n",
            "  warn_and_log(msg)\n",
            "WARNING:pydicom:A value of type 'tuple' cannot be assigned to a tag with VR LO.\n"
          ]
        },
        {
          "output_type": "stream",
          "name": "stdout",
          "text": [
            "FrameOfReferenceUID: 1.3.6.1.4.1.14519.5.2.1.7311.5101.275186347364672591813640623509\n",
            "Parsing -6.80932 9.61084 -31.1096\n",
            "1\n",
            "Copying file:///content/sr/ProstateX-0058_1.3.6.1.4.1.14519.5.2.1.7311.5101.272107812581357323586544870665.dcm [Content-Type=application/dicom]...\n",
            "/ [1 files][  4.4 KiB/  4.4 KiB]                                                \n",
            "Operation completed over 1 objects/4.4 KiB.                                      \n",
            "********** On patient: ProstateX-0059 **********\n",
            "num_series: 1\n",
            "***** On series: 1.3.6.1.4.1.14519.5.2.1.7311.5101.323608747897754776819167940278 *****\n",
            "SeriesInstanceUID: 1.3.6.1.4.1.14519.5.2.1.7311.5101.323608747897754776819167940278\n"
          ]
        },
        {
          "output_type": "stream",
          "name": "stderr",
          "text": [
            "Downloading data: 100%|█████████▉| 5.68M/5.68M [00:01<00:00, 5.66MB/s]\n",
            "/usr/local/lib/python3.11/dist-packages/highdicom/base.py:163: UserWarning: The string \"ProstateX-0059\" is unlikely to represent the intended person name since it contains only a single component. Construct a person name according to the format in described in https://dicom.nema.org/dicom/2013/output/chtml/part05/sect_6.2.html#sect_6.2.1.2, or, in pydicom 2.2.0 or later, use the pydicom.valuerep.PersonName.from_named_components() method to construct the person name correctly. If a single-component name is really intended, add a trailing caret character to disambiguate the name.\n",
            "  check_person_name(patient_name)\n",
            "WARNING:pydicom:A value of type 'tuple' cannot be assigned to a tag with VR LO.\n",
            "/usr/local/lib/python3.11/dist-packages/pydicom/valuerep.py:440: UserWarning: A value of type 'tuple' cannot be assigned to a tag with VR LO.\n",
            "  warn_and_log(msg)\n",
            "WARNING:pydicom:A value of type 'tuple' cannot be assigned to a tag with VR LO.\n"
          ]
        },
        {
          "output_type": "stream",
          "name": "stdout",
          "text": [
            "FrameOfReferenceUID: 1.3.6.1.4.1.14519.5.2.1.7311.5101.326974837742935047016823933415\n",
            "Parsing -26.9082 24.1523 14.1477\n",
            "1\n",
            "Copying file:///content/sr/ProstateX-0059_1.3.6.1.4.1.14519.5.2.1.7311.5101.323608747897754776819167940278.dcm [Content-Type=application/dicom]...\n",
            "/ [1 files][  4.4 KiB/  4.4 KiB]                                                \n",
            "Operation completed over 1 objects/4.4 KiB.                                      \n",
            "********** On patient: ProstateX-0060 **********\n",
            "num_series: 1\n",
            "***** On series: 1.3.6.1.4.1.14519.5.2.1.7311.5101.941591881515408480538274555272 *****\n",
            "SeriesInstanceUID: 1.3.6.1.4.1.14519.5.2.1.7311.5101.941591881515408480538274555272\n"
          ]
        },
        {
          "output_type": "stream",
          "name": "stderr",
          "text": [
            "Downloading data: 100%|██████████| 6.87M/6.87M [00:01<00:00, 6.84MB/s]\n",
            "/usr/local/lib/python3.11/dist-packages/highdicom/base.py:163: UserWarning: The string \"ProstateX-0060\" is unlikely to represent the intended person name since it contains only a single component. Construct a person name according to the format in described in https://dicom.nema.org/dicom/2013/output/chtml/part05/sect_6.2.html#sect_6.2.1.2, or, in pydicom 2.2.0 or later, use the pydicom.valuerep.PersonName.from_named_components() method to construct the person name correctly. If a single-component name is really intended, add a trailing caret character to disambiguate the name.\n",
            "  check_person_name(patient_name)\n",
            "WARNING:pydicom:A value of type 'tuple' cannot be assigned to a tag with VR LO.\n",
            "/usr/local/lib/python3.11/dist-packages/pydicom/valuerep.py:440: UserWarning: A value of type 'tuple' cannot be assigned to a tag with VR LO.\n",
            "  warn_and_log(msg)\n",
            "WARNING:pydicom:A value of type 'tuple' cannot be assigned to a tag with VR LO.\n"
          ]
        },
        {
          "output_type": "stream",
          "name": "stdout",
          "text": [
            "FrameOfReferenceUID: 1.3.6.1.4.1.14519.5.2.1.7311.5101.186540914116364424925542230163\n",
            "Parsing 12.1046 9.6947 1.35707\n",
            "1\n",
            "Copying file:///content/sr/ProstateX-0060_1.3.6.1.4.1.14519.5.2.1.7311.5101.941591881515408480538274555272.dcm [Content-Type=application/dicom]...\n",
            "/ [1 files][  4.4 KiB/  4.4 KiB]                                                \n",
            "Operation completed over 1 objects/4.4 KiB.                                      \n",
            "********** On patient: ProstateX-0061 **********\n",
            "num_series: 1\n",
            "***** On series: 1.3.6.1.4.1.14519.5.2.1.7311.5101.117787454837907188090392680606 *****\n",
            "SeriesInstanceUID: 1.3.6.1.4.1.14519.5.2.1.7311.5101.117787454837907188090392680606\n"
          ]
        },
        {
          "output_type": "stream",
          "name": "stderr",
          "text": [
            "Downloading data: 100%|█████████▉| 5.68M/5.68M [00:01<00:00, 5.66MB/s]\n",
            "/usr/local/lib/python3.11/dist-packages/highdicom/base.py:163: UserWarning: The string \"ProstateX-0061\" is unlikely to represent the intended person name since it contains only a single component. Construct a person name according to the format in described in https://dicom.nema.org/dicom/2013/output/chtml/part05/sect_6.2.html#sect_6.2.1.2, or, in pydicom 2.2.0 or later, use the pydicom.valuerep.PersonName.from_named_components() method to construct the person name correctly. If a single-component name is really intended, add a trailing caret character to disambiguate the name.\n",
            "  check_person_name(patient_name)\n",
            "WARNING:pydicom:A value of type 'tuple' cannot be assigned to a tag with VR LO.\n",
            "/usr/local/lib/python3.11/dist-packages/pydicom/valuerep.py:440: UserWarning: A value of type 'tuple' cannot be assigned to a tag with VR LO.\n",
            "  warn_and_log(msg)\n",
            "WARNING:pydicom:A value of type 'tuple' cannot be assigned to a tag with VR LO.\n"
          ]
        },
        {
          "output_type": "stream",
          "name": "stdout",
          "text": [
            "FrameOfReferenceUID: 1.3.6.1.4.1.14519.5.2.1.7311.5101.103032174501549106231669150411\n",
            "Parsing -9.29239 36.6647 29.8906\n",
            "1\n",
            "Copying file:///content/sr/ProstateX-0061_1.3.6.1.4.1.14519.5.2.1.7311.5101.117787454837907188090392680606.dcm [Content-Type=application/dicom]...\n",
            "/ [1 files][  4.4 KiB/  4.4 KiB]                                                \n",
            "Operation completed over 1 objects/4.4 KiB.                                      \n",
            "********** On patient: ProstateX-0062 **********\n",
            "num_series: 1\n",
            "***** On series: 1.3.6.1.4.1.14519.5.2.1.7311.5101.174899983360846888271485770942 *****\n",
            "SeriesInstanceUID: 1.3.6.1.4.1.14519.5.2.1.7311.5101.174899983360846888271485770942\n"
          ]
        },
        {
          "output_type": "stream",
          "name": "stderr",
          "text": [
            "Downloading data: 100%|█████████▉| 5.68M/5.68M [00:01<00:00, 5.66MB/s]\n",
            "/usr/local/lib/python3.11/dist-packages/highdicom/base.py:163: UserWarning: The string \"ProstateX-0062\" is unlikely to represent the intended person name since it contains only a single component. Construct a person name according to the format in described in https://dicom.nema.org/dicom/2013/output/chtml/part05/sect_6.2.html#sect_6.2.1.2, or, in pydicom 2.2.0 or later, use the pydicom.valuerep.PersonName.from_named_components() method to construct the person name correctly. If a single-component name is really intended, add a trailing caret character to disambiguate the name.\n",
            "  check_person_name(patient_name)\n",
            "WARNING:pydicom:A value of type 'tuple' cannot be assigned to a tag with VR LO.\n",
            "/usr/local/lib/python3.11/dist-packages/pydicom/valuerep.py:440: UserWarning: A value of type 'tuple' cannot be assigned to a tag with VR LO.\n",
            "  warn_and_log(msg)\n",
            "WARNING:pydicom:A value of type 'tuple' cannot be assigned to a tag with VR LO.\n"
          ]
        },
        {
          "output_type": "stream",
          "name": "stdout",
          "text": [
            "FrameOfReferenceUID: 1.3.6.1.4.1.14519.5.2.1.7311.5101.283417747148115232468407304363\n",
            "Parsing -20.1521 -7.51426 7.20141\n",
            "1\n",
            "Copying file:///content/sr/ProstateX-0062_1.3.6.1.4.1.14519.5.2.1.7311.5101.174899983360846888271485770942.dcm [Content-Type=application/dicom]...\n",
            "/ [1 files][  4.4 KiB/  4.4 KiB]                                                \n",
            "Operation completed over 1 objects/4.4 KiB.                                      \n",
            "********** On patient: ProstateX-0063 **********\n",
            "num_series: 1\n",
            "***** On series: 1.3.6.1.4.1.14519.5.2.1.7311.5101.325859894329765410277635438195 *****\n",
            "SeriesInstanceUID: 1.3.6.1.4.1.14519.5.2.1.7311.5101.325859894329765410277635438195\n"
          ]
        },
        {
          "output_type": "stream",
          "name": "stderr",
          "text": [
            "Downloading data: 100%|█████████▉| 5.68M/5.68M [00:01<00:00, 5.66MB/s]\n",
            "/usr/local/lib/python3.11/dist-packages/highdicom/base.py:163: UserWarning: The string \"ProstateX-0063\" is unlikely to represent the intended person name since it contains only a single component. Construct a person name according to the format in described in https://dicom.nema.org/dicom/2013/output/chtml/part05/sect_6.2.html#sect_6.2.1.2, or, in pydicom 2.2.0 or later, use the pydicom.valuerep.PersonName.from_named_components() method to construct the person name correctly. If a single-component name is really intended, add a trailing caret character to disambiguate the name.\n",
            "  check_person_name(patient_name)\n",
            "WARNING:pydicom:A value of type 'tuple' cannot be assigned to a tag with VR LO.\n",
            "/usr/local/lib/python3.11/dist-packages/pydicom/valuerep.py:440: UserWarning: A value of type 'tuple' cannot be assigned to a tag with VR LO.\n",
            "  warn_and_log(msg)\n",
            "WARNING:pydicom:A value of type 'tuple' cannot be assigned to a tag with VR LO.\n"
          ]
        },
        {
          "output_type": "stream",
          "name": "stdout",
          "text": [
            "FrameOfReferenceUID: 1.3.6.1.4.1.14519.5.2.1.7311.5101.134569760543115105581097574262\n",
            "Parsing -9.86035 39.4559 49.8827\n",
            "1\n",
            "Copying file:///content/sr/ProstateX-0063_1.3.6.1.4.1.14519.5.2.1.7311.5101.325859894329765410277635438195.dcm [Content-Type=application/dicom]...\n",
            "/ [1 files][  4.4 KiB/  4.4 KiB]                                                \n",
            "Operation completed over 1 objects/4.4 KiB.                                      \n",
            "********** On patient: ProstateX-0064 **********\n",
            "num_series: 1\n",
            "***** On series: 1.3.6.1.4.1.14519.5.2.1.7311.5101.200213914930332021730900158659 *****\n",
            "SeriesInstanceUID: 1.3.6.1.4.1.14519.5.2.1.7311.5101.200213914930332021730900158659\n"
          ]
        },
        {
          "output_type": "stream",
          "name": "stderr",
          "text": [
            "Downloading data: 100%|█████████▉| 6.88M/6.88M [00:01<00:00, 6.85MB/s]\n",
            "/usr/local/lib/python3.11/dist-packages/highdicom/base.py:163: UserWarning: The string \"ProstateX-0064\" is unlikely to represent the intended person name since it contains only a single component. Construct a person name according to the format in described in https://dicom.nema.org/dicom/2013/output/chtml/part05/sect_6.2.html#sect_6.2.1.2, or, in pydicom 2.2.0 or later, use the pydicom.valuerep.PersonName.from_named_components() method to construct the person name correctly. If a single-component name is really intended, add a trailing caret character to disambiguate the name.\n",
            "  check_person_name(patient_name)\n",
            "WARNING:pydicom:A value of type 'tuple' cannot be assigned to a tag with VR LO.\n",
            "/usr/local/lib/python3.11/dist-packages/pydicom/valuerep.py:440: UserWarning: A value of type 'tuple' cannot be assigned to a tag with VR LO.\n",
            "  warn_and_log(msg)\n",
            "WARNING:pydicom:A value of type 'tuple' cannot be assigned to a tag with VR LO.\n"
          ]
        },
        {
          "output_type": "stream",
          "name": "stdout",
          "text": [
            "FrameOfReferenceUID: 1.3.6.1.4.1.14519.5.2.1.7311.5101.274674441966459485438191993528\n",
            "Parsing -15.1627 46.2212 22.8244\n",
            "1\n",
            "Copying file:///content/sr/ProstateX-0064_1.3.6.1.4.1.14519.5.2.1.7311.5101.200213914930332021730900158659.dcm [Content-Type=application/dicom]...\n",
            "/ [1 files][  4.4 KiB/  4.4 KiB]                                                \n",
            "Operation completed over 1 objects/4.4 KiB.                                      \n",
            "********** On patient: ProstateX-0065 **********\n",
            "num_series: 1\n",
            "***** On series: 1.3.6.1.4.1.14519.5.2.1.7311.5101.146422450520894659910416624671 *****\n",
            "SeriesInstanceUID: 1.3.6.1.4.1.14519.5.2.1.7311.5101.146422450520894659910416624671\n"
          ]
        },
        {
          "output_type": "stream",
          "name": "stderr",
          "text": [
            "Downloading data: 100%|█████████▉| 5.68M/5.68M [00:01<00:00, 5.66MB/s]\n",
            "/usr/local/lib/python3.11/dist-packages/highdicom/base.py:163: UserWarning: The string \"ProstateX-0065\" is unlikely to represent the intended person name since it contains only a single component. Construct a person name according to the format in described in https://dicom.nema.org/dicom/2013/output/chtml/part05/sect_6.2.html#sect_6.2.1.2, or, in pydicom 2.2.0 or later, use the pydicom.valuerep.PersonName.from_named_components() method to construct the person name correctly. If a single-component name is really intended, add a trailing caret character to disambiguate the name.\n",
            "  check_person_name(patient_name)\n",
            "WARNING:pydicom:A value of type 'tuple' cannot be assigned to a tag with VR LO.\n",
            "/usr/local/lib/python3.11/dist-packages/pydicom/valuerep.py:440: UserWarning: A value of type 'tuple' cannot be assigned to a tag with VR LO.\n",
            "  warn_and_log(msg)\n",
            "WARNING:pydicom:A value of type 'tuple' cannot be assigned to a tag with VR LO.\n"
          ]
        },
        {
          "output_type": "stream",
          "name": "stdout",
          "text": [
            "FrameOfReferenceUID: 1.3.6.1.4.1.14519.5.2.1.7311.5101.406928930880050357335916549903\n",
            "Parsing 2.03432 30.3762 -21.4596\n",
            "Parsing -21.0782 9.84683 -28.2478\n",
            "2\n",
            "Copying file:///content/sr/ProstateX-0065_1.3.6.1.4.1.14519.5.2.1.7311.5101.146422450520894659910416624671.dcm [Content-Type=application/dicom]...\n",
            "/ [1 files][  5.5 KiB/  5.5 KiB]                                                \n",
            "Operation completed over 1 objects/5.5 KiB.                                      \n",
            "********** On patient: ProstateX-0066 **********\n",
            "num_series: 1\n",
            "***** On series: 1.3.6.1.4.1.14519.5.2.1.7311.5101.252385246988168654915352850239 *****\n",
            "SeriesInstanceUID: 1.3.6.1.4.1.14519.5.2.1.7311.5101.252385246988168654915352850239\n"
          ]
        },
        {
          "output_type": "stream",
          "name": "stderr",
          "text": [
            "Downloading data: 100%|█████████▉| 6.28M/6.28M [00:01<00:00, 6.25MB/s]\n",
            "/usr/local/lib/python3.11/dist-packages/highdicom/base.py:163: UserWarning: The string \"ProstateX-0066\" is unlikely to represent the intended person name since it contains only a single component. Construct a person name according to the format in described in https://dicom.nema.org/dicom/2013/output/chtml/part05/sect_6.2.html#sect_6.2.1.2, or, in pydicom 2.2.0 or later, use the pydicom.valuerep.PersonName.from_named_components() method to construct the person name correctly. If a single-component name is really intended, add a trailing caret character to disambiguate the name.\n",
            "  check_person_name(patient_name)\n",
            "WARNING:pydicom:A value of type 'tuple' cannot be assigned to a tag with VR LO.\n",
            "/usr/local/lib/python3.11/dist-packages/pydicom/valuerep.py:440: UserWarning: A value of type 'tuple' cannot be assigned to a tag with VR LO.\n",
            "  warn_and_log(msg)\n",
            "WARNING:pydicom:A value of type 'tuple' cannot be assigned to a tag with VR LO.\n"
          ]
        },
        {
          "output_type": "stream",
          "name": "stdout",
          "text": [
            "FrameOfReferenceUID: 1.3.6.1.4.1.14519.5.2.1.7311.5101.329795989604970670483715076331\n",
            "Parsing -43.1018 23.1527 -14.4811\n",
            "1\n",
            "Copying file:///content/sr/ProstateX-0066_1.3.6.1.4.1.14519.5.2.1.7311.5101.252385246988168654915352850239.dcm [Content-Type=application/dicom]...\n",
            "/ [1 files][  4.4 KiB/  4.4 KiB]                                                \n",
            "Operation completed over 1 objects/4.4 KiB.                                      \n",
            "********** On patient: ProstateX-0067 **********\n",
            "num_series: 1\n",
            "***** On series: 1.3.6.1.4.1.14519.5.2.1.7311.5101.192468235215257148984036683918 *****\n",
            "SeriesInstanceUID: 1.3.6.1.4.1.14519.5.2.1.7311.5101.192468235215257148984036683918\n"
          ]
        },
        {
          "output_type": "stream",
          "name": "stderr",
          "text": [
            "Downloading data: 100%|█████████▉| 6.28M/6.28M [00:01<00:00, 6.25MB/s]\n",
            "/usr/local/lib/python3.11/dist-packages/highdicom/base.py:163: UserWarning: The string \"ProstateX-0067\" is unlikely to represent the intended person name since it contains only a single component. Construct a person name according to the format in described in https://dicom.nema.org/dicom/2013/output/chtml/part05/sect_6.2.html#sect_6.2.1.2, or, in pydicom 2.2.0 or later, use the pydicom.valuerep.PersonName.from_named_components() method to construct the person name correctly. If a single-component name is really intended, add a trailing caret character to disambiguate the name.\n",
            "  check_person_name(patient_name)\n",
            "WARNING:pydicom:A value of type 'tuple' cannot be assigned to a tag with VR LO.\n",
            "/usr/local/lib/python3.11/dist-packages/pydicom/valuerep.py:440: UserWarning: A value of type 'tuple' cannot be assigned to a tag with VR LO.\n",
            "  warn_and_log(msg)\n",
            "WARNING:pydicom:A value of type 'tuple' cannot be assigned to a tag with VR LO.\n"
          ]
        },
        {
          "output_type": "stream",
          "name": "stdout",
          "text": [
            "FrameOfReferenceUID: 1.3.6.1.4.1.14519.5.2.1.7311.5101.216370337792684876944263560452\n",
            "Parsing 18.6239 25.4505 14.9875\n",
            "Parsing 27.2983 36.0017 16.8409\n",
            "Parsing -11.5378 44.1525 22.7649\n",
            "3\n",
            "Copying file:///content/sr/ProstateX-0067_1.3.6.1.4.1.14519.5.2.1.7311.5101.192468235215257148984036683918.dcm [Content-Type=application/dicom]...\n",
            "/ [1 files][  6.5 KiB/  6.5 KiB]                                                \n",
            "Operation completed over 1 objects/6.5 KiB.                                      \n",
            "********** On patient: ProstateX-0068 **********\n",
            "num_series: 1\n",
            "***** On series: 1.3.6.1.4.1.14519.5.2.1.7311.5101.198193851607052967342507788897 *****\n",
            "SeriesInstanceUID: 1.3.6.1.4.1.14519.5.2.1.7311.5101.198193851607052967342507788897\n"
          ]
        },
        {
          "output_type": "stream",
          "name": "stderr",
          "text": [
            "Downloading data: 100%|█████████▉| 5.68M/5.68M [00:01<00:00, 5.66MB/s]\n",
            "/usr/local/lib/python3.11/dist-packages/highdicom/base.py:163: UserWarning: The string \"ProstateX-0068\" is unlikely to represent the intended person name since it contains only a single component. Construct a person name according to the format in described in https://dicom.nema.org/dicom/2013/output/chtml/part05/sect_6.2.html#sect_6.2.1.2, or, in pydicom 2.2.0 or later, use the pydicom.valuerep.PersonName.from_named_components() method to construct the person name correctly. If a single-component name is really intended, add a trailing caret character to disambiguate the name.\n",
            "  check_person_name(patient_name)\n",
            "WARNING:pydicom:A value of type 'tuple' cannot be assigned to a tag with VR LO.\n",
            "/usr/local/lib/python3.11/dist-packages/pydicom/valuerep.py:440: UserWarning: A value of type 'tuple' cannot be assigned to a tag with VR LO.\n",
            "  warn_and_log(msg)\n",
            "WARNING:pydicom:A value of type 'tuple' cannot be assigned to a tag with VR LO.\n"
          ]
        },
        {
          "output_type": "stream",
          "name": "stdout",
          "text": [
            "FrameOfReferenceUID: 1.3.6.1.4.1.14519.5.2.1.7311.5101.155359068576580262596647995852\n",
            "Parsing -8.98097 42.0751 -9.31191\n",
            "Parsing -22.0582 39.112 -11.8622\n",
            "Parsing -32.9206 11.02 7.73917\n",
            "3\n",
            "Copying file:///content/sr/ProstateX-0068_1.3.6.1.4.1.14519.5.2.1.7311.5101.198193851607052967342507788897.dcm [Content-Type=application/dicom]...\n",
            "/ [1 files][  6.5 KiB/  6.5 KiB]                                                \n",
            "Operation completed over 1 objects/6.5 KiB.                                      \n",
            "20% of patients processed.\n",
            "********** On patient: ProstateX-0069 **********\n",
            "num_series: 1\n",
            "***** On series: 1.3.6.1.4.1.14519.5.2.1.7311.5101.266720221212035669954581062639 *****\n",
            "SeriesInstanceUID: 1.3.6.1.4.1.14519.5.2.1.7311.5101.266720221212035669954581062639\n"
          ]
        },
        {
          "output_type": "stream",
          "name": "stderr",
          "text": [
            "Downloading data: 100%|█████████▉| 5.68M/5.68M [00:01<00:00, 5.66MB/s]\n",
            "/usr/local/lib/python3.11/dist-packages/highdicom/base.py:163: UserWarning: The string \"ProstateX-0069\" is unlikely to represent the intended person name since it contains only a single component. Construct a person name according to the format in described in https://dicom.nema.org/dicom/2013/output/chtml/part05/sect_6.2.html#sect_6.2.1.2, or, in pydicom 2.2.0 or later, use the pydicom.valuerep.PersonName.from_named_components() method to construct the person name correctly. If a single-component name is really intended, add a trailing caret character to disambiguate the name.\n",
            "  check_person_name(patient_name)\n",
            "WARNING:pydicom:A value of type 'tuple' cannot be assigned to a tag with VR LO.\n",
            "/usr/local/lib/python3.11/dist-packages/pydicom/valuerep.py:440: UserWarning: A value of type 'tuple' cannot be assigned to a tag with VR LO.\n",
            "  warn_and_log(msg)\n",
            "WARNING:pydicom:A value of type 'tuple' cannot be assigned to a tag with VR LO.\n"
          ]
        },
        {
          "output_type": "stream",
          "name": "stdout",
          "text": [
            "FrameOfReferenceUID: 1.3.6.1.4.1.14519.5.2.1.7311.5101.137457765691784215142262795088\n",
            "Parsing -13.9353 28.1827 -29.5937\n",
            "1\n",
            "Copying file:///content/sr/ProstateX-0069_1.3.6.1.4.1.14519.5.2.1.7311.5101.266720221212035669954581062639.dcm [Content-Type=application/dicom]...\n",
            "/ [1 files][  4.4 KiB/  4.4 KiB]                                                \n",
            "Operation completed over 1 objects/4.4 KiB.                                      \n",
            "********** On patient: ProstateX-0070 **********\n",
            "num_series: 1\n",
            "***** On series: 1.3.6.1.4.1.14519.5.2.1.7311.5101.186553403053805718209125341361 *****\n",
            "SeriesInstanceUID: 1.3.6.1.4.1.14519.5.2.1.7311.5101.186553403053805718209125341361\n"
          ]
        },
        {
          "output_type": "stream",
          "name": "stderr",
          "text": [
            "Downloading data: 100%|█████████▉| 6.28M/6.28M [00:01<00:00, 6.25MB/s]\n",
            "/usr/local/lib/python3.11/dist-packages/highdicom/base.py:163: UserWarning: The string \"ProstateX-0070\" is unlikely to represent the intended person name since it contains only a single component. Construct a person name according to the format in described in https://dicom.nema.org/dicom/2013/output/chtml/part05/sect_6.2.html#sect_6.2.1.2, or, in pydicom 2.2.0 or later, use the pydicom.valuerep.PersonName.from_named_components() method to construct the person name correctly. If a single-component name is really intended, add a trailing caret character to disambiguate the name.\n",
            "  check_person_name(patient_name)\n",
            "WARNING:pydicom:A value of type 'tuple' cannot be assigned to a tag with VR LO.\n",
            "/usr/local/lib/python3.11/dist-packages/pydicom/valuerep.py:440: UserWarning: A value of type 'tuple' cannot be assigned to a tag with VR LO.\n",
            "  warn_and_log(msg)\n",
            "WARNING:pydicom:A value of type 'tuple' cannot be assigned to a tag with VR LO.\n"
          ]
        },
        {
          "output_type": "stream",
          "name": "stdout",
          "text": [
            "FrameOfReferenceUID: 1.3.6.1.4.1.14519.5.2.1.7311.5101.825400624576374622838663009482\n",
            "Parsing -6.54956 20.5497 -37.4393\n",
            "Parsing -5.39406 49.631 -40.7096\n",
            "2\n",
            "Copying file:///content/sr/ProstateX-0070_1.3.6.1.4.1.14519.5.2.1.7311.5101.186553403053805718209125341361.dcm [Content-Type=application/dicom]...\n",
            "/ [1 files][  5.5 KiB/  5.5 KiB]                                                \n",
            "Operation completed over 1 objects/5.5 KiB.                                      \n",
            "********** On patient: ProstateX-0071 **********\n",
            "num_series: 1\n",
            "***** On series: 1.3.6.1.4.1.14519.5.2.1.7311.5101.327021307073506490268456871497 *****\n",
            "SeriesInstanceUID: 1.3.6.1.4.1.14519.5.2.1.7311.5101.327021307073506490268456871497\n"
          ]
        },
        {
          "output_type": "stream",
          "name": "stderr",
          "text": [
            "Downloading data: 100%|█████████▉| 5.68M/5.68M [00:01<00:00, 5.66MB/s]\n",
            "/usr/local/lib/python3.11/dist-packages/highdicom/base.py:163: UserWarning: The string \"ProstateX-0071\" is unlikely to represent the intended person name since it contains only a single component. Construct a person name according to the format in described in https://dicom.nema.org/dicom/2013/output/chtml/part05/sect_6.2.html#sect_6.2.1.2, or, in pydicom 2.2.0 or later, use the pydicom.valuerep.PersonName.from_named_components() method to construct the person name correctly. If a single-component name is really intended, add a trailing caret character to disambiguate the name.\n",
            "  check_person_name(patient_name)\n",
            "WARNING:pydicom:A value of type 'tuple' cannot be assigned to a tag with VR LO.\n",
            "/usr/local/lib/python3.11/dist-packages/pydicom/valuerep.py:440: UserWarning: A value of type 'tuple' cannot be assigned to a tag with VR LO.\n",
            "  warn_and_log(msg)\n",
            "WARNING:pydicom:A value of type 'tuple' cannot be assigned to a tag with VR LO.\n"
          ]
        },
        {
          "output_type": "stream",
          "name": "stdout",
          "text": [
            "FrameOfReferenceUID: 1.3.6.1.4.1.14519.5.2.1.7311.5101.155020104179271274645496683821\n",
            "Parsing 17.3233 15.0943 -23.6103\n",
            "1\n",
            "Copying file:///content/sr/ProstateX-0071_1.3.6.1.4.1.14519.5.2.1.7311.5101.327021307073506490268456871497.dcm [Content-Type=application/dicom]...\n",
            "/ [1 files][  4.4 KiB/  4.4 KiB]                                                \n",
            "Operation completed over 1 objects/4.4 KiB.                                      \n",
            "********** On patient: ProstateX-0072 **********\n",
            "num_series: 1\n",
            "***** On series: 1.3.6.1.4.1.14519.5.2.1.7311.5101.126808882287123482193592987944 *****\n",
            "SeriesInstanceUID: 1.3.6.1.4.1.14519.5.2.1.7311.5101.126808882287123482193592987944\n"
          ]
        },
        {
          "output_type": "stream",
          "name": "stderr",
          "text": [
            "Downloading data: 100%|█████████▉| 5.68M/5.68M [00:01<00:00, 5.66MB/s]\n",
            "/usr/local/lib/python3.11/dist-packages/highdicom/base.py:163: UserWarning: The string \"ProstateX-0072\" is unlikely to represent the intended person name since it contains only a single component. Construct a person name according to the format in described in https://dicom.nema.org/dicom/2013/output/chtml/part05/sect_6.2.html#sect_6.2.1.2, or, in pydicom 2.2.0 or later, use the pydicom.valuerep.PersonName.from_named_components() method to construct the person name correctly. If a single-component name is really intended, add a trailing caret character to disambiguate the name.\n",
            "  check_person_name(patient_name)\n",
            "WARNING:pydicom:A value of type 'tuple' cannot be assigned to a tag with VR LO.\n",
            "/usr/local/lib/python3.11/dist-packages/pydicom/valuerep.py:440: UserWarning: A value of type 'tuple' cannot be assigned to a tag with VR LO.\n",
            "  warn_and_log(msg)\n",
            "WARNING:pydicom:A value of type 'tuple' cannot be assigned to a tag with VR LO.\n"
          ]
        },
        {
          "output_type": "stream",
          "name": "stdout",
          "text": [
            "FrameOfReferenceUID: 1.3.6.1.4.1.14519.5.2.1.7311.5101.435885138467397644988035307170\n",
            "Parsing -46.3727 5.99356 32.8262\n",
            "1\n",
            "Copying file:///content/sr/ProstateX-0072_1.3.6.1.4.1.14519.5.2.1.7311.5101.126808882287123482193592987944.dcm [Content-Type=application/dicom]...\n",
            "/ [1 files][  4.4 KiB/  4.4 KiB]                                                \n",
            "Operation completed over 1 objects/4.4 KiB.                                      \n",
            "********** On patient: ProstateX-0073 **********\n",
            "num_series: 1\n",
            "***** On series: 1.3.6.1.4.1.14519.5.2.1.7311.5101.234155516911467674069297383539 *****\n",
            "SeriesInstanceUID: 1.3.6.1.4.1.14519.5.2.1.7311.5101.234155516911467674069297383539\n"
          ]
        },
        {
          "output_type": "stream",
          "name": "stderr",
          "text": [
            "Downloading data: 100%|█████████▉| 5.68M/5.68M [00:01<00:00, 5.66MB/s]\n",
            "/usr/local/lib/python3.11/dist-packages/highdicom/base.py:163: UserWarning: The string \"ProstateX-0073\" is unlikely to represent the intended person name since it contains only a single component. Construct a person name according to the format in described in https://dicom.nema.org/dicom/2013/output/chtml/part05/sect_6.2.html#sect_6.2.1.2, or, in pydicom 2.2.0 or later, use the pydicom.valuerep.PersonName.from_named_components() method to construct the person name correctly. If a single-component name is really intended, add a trailing caret character to disambiguate the name.\n",
            "  check_person_name(patient_name)\n",
            "WARNING:pydicom:A value of type 'tuple' cannot be assigned to a tag with VR LO.\n",
            "/usr/local/lib/python3.11/dist-packages/pydicom/valuerep.py:440: UserWarning: A value of type 'tuple' cannot be assigned to a tag with VR LO.\n",
            "  warn_and_log(msg)\n",
            "WARNING:pydicom:A value of type 'tuple' cannot be assigned to a tag with VR LO.\n"
          ]
        },
        {
          "output_type": "stream",
          "name": "stdout",
          "text": [
            "FrameOfReferenceUID: 1.3.6.1.4.1.14519.5.2.1.7311.5101.146458373321679403948539671545\n",
            "Parsing 27.3235 35.823 -40.3352\n",
            "1\n",
            "Copying file:///content/sr/ProstateX-0073_1.3.6.1.4.1.14519.5.2.1.7311.5101.234155516911467674069297383539.dcm [Content-Type=application/dicom]...\n",
            "/ [1 files][  4.4 KiB/  4.4 KiB]                                                \n",
            "Operation completed over 1 objects/4.4 KiB.                                      \n",
            "********** On patient: ProstateX-0074 **********\n",
            "num_series: 1\n",
            "***** On series: 1.3.6.1.4.1.14519.5.2.1.7311.5101.148763432469486183424435286431 *****\n",
            "SeriesInstanceUID: 1.3.6.1.4.1.14519.5.2.1.7311.5101.148763432469486183424435286431\n"
          ]
        },
        {
          "output_type": "stream",
          "name": "stderr",
          "text": [
            "Downloading data: 100%|█████████▉| 6.28M/6.28M [00:01<00:00, 6.25MB/s]\n",
            "/usr/local/lib/python3.11/dist-packages/highdicom/base.py:163: UserWarning: The string \"ProstateX-0074\" is unlikely to represent the intended person name since it contains only a single component. Construct a person name according to the format in described in https://dicom.nema.org/dicom/2013/output/chtml/part05/sect_6.2.html#sect_6.2.1.2, or, in pydicom 2.2.0 or later, use the pydicom.valuerep.PersonName.from_named_components() method to construct the person name correctly. If a single-component name is really intended, add a trailing caret character to disambiguate the name.\n",
            "  check_person_name(patient_name)\n",
            "WARNING:pydicom:A value of type 'tuple' cannot be assigned to a tag with VR LO.\n",
            "/usr/local/lib/python3.11/dist-packages/pydicom/valuerep.py:440: UserWarning: A value of type 'tuple' cannot be assigned to a tag with VR LO.\n",
            "  warn_and_log(msg)\n",
            "WARNING:pydicom:A value of type 'tuple' cannot be assigned to a tag with VR LO.\n"
          ]
        },
        {
          "output_type": "stream",
          "name": "stdout",
          "text": [
            "FrameOfReferenceUID: 1.3.6.1.4.1.14519.5.2.1.7311.5101.270938053487231462821696106520\n",
            "Parsing 2.58529 47.7414 -79.8186\n",
            "1\n",
            "Copying file:///content/sr/ProstateX-0074_1.3.6.1.4.1.14519.5.2.1.7311.5101.148763432469486183424435286431.dcm [Content-Type=application/dicom]...\n",
            "/ [1 files][  4.4 KiB/  4.4 KiB]                                                \n",
            "Operation completed over 1 objects/4.4 KiB.                                      \n",
            "********** On patient: ProstateX-0075 **********\n",
            "num_series: 1\n",
            "***** On series: 1.3.6.1.4.1.14519.5.2.1.7311.5101.129018112957735432370663915845 *****\n",
            "SeriesInstanceUID: 1.3.6.1.4.1.14519.5.2.1.7311.5101.129018112957735432370663915845\n"
          ]
        },
        {
          "output_type": "stream",
          "name": "stderr",
          "text": [
            "Downloading data: 100%|█████████▉| 22.2M/22.2M [00:01<00:00, 22.1MB/s]\n",
            "/usr/local/lib/python3.11/dist-packages/highdicom/base.py:163: UserWarning: The string \"ProstateX-0075\" is unlikely to represent the intended person name since it contains only a single component. Construct a person name according to the format in described in https://dicom.nema.org/dicom/2013/output/chtml/part05/sect_6.2.html#sect_6.2.1.2, or, in pydicom 2.2.0 or later, use the pydicom.valuerep.PersonName.from_named_components() method to construct the person name correctly. If a single-component name is really intended, add a trailing caret character to disambiguate the name.\n",
            "  check_person_name(patient_name)\n",
            "WARNING:pydicom:A value of type 'tuple' cannot be assigned to a tag with VR LO.\n",
            "/usr/local/lib/python3.11/dist-packages/pydicom/valuerep.py:440: UserWarning: A value of type 'tuple' cannot be assigned to a tag with VR LO.\n",
            "  warn_and_log(msg)\n",
            "WARNING:pydicom:A value of type 'tuple' cannot be assigned to a tag with VR LO.\n"
          ]
        },
        {
          "output_type": "stream",
          "name": "stdout",
          "text": [
            "FrameOfReferenceUID: 1.3.6.1.4.1.14519.5.2.1.7311.5101.107172043540917865688376657142\n",
            "Parsing 20.1033 33.0877 -65.7973\n",
            "1\n",
            "Copying file:///content/sr/ProstateX-0075_1.3.6.1.4.1.14519.5.2.1.7311.5101.129018112957735432370663915845.dcm [Content-Type=application/dicom]...\n",
            "/ [1 files][  4.4 KiB/  4.4 KiB]                                                \n",
            "Operation completed over 1 objects/4.4 KiB.                                      \n",
            "********** On patient: ProstateX-0076 **********\n",
            "num_series: 1\n",
            "***** On series: 1.3.6.1.4.1.14519.5.2.1.7311.5101.334326985258868181144176796864 *****\n",
            "SeriesInstanceUID: 1.3.6.1.4.1.14519.5.2.1.7311.5101.334326985258868181144176796864\n"
          ]
        },
        {
          "output_type": "stream",
          "name": "stderr",
          "text": [
            "Downloading data: 100%|█████████▉| 5.68M/5.68M [00:01<00:00, 5.66MB/s]\n",
            "/usr/local/lib/python3.11/dist-packages/highdicom/base.py:163: UserWarning: The string \"ProstateX-0076\" is unlikely to represent the intended person name since it contains only a single component. Construct a person name according to the format in described in https://dicom.nema.org/dicom/2013/output/chtml/part05/sect_6.2.html#sect_6.2.1.2, or, in pydicom 2.2.0 or later, use the pydicom.valuerep.PersonName.from_named_components() method to construct the person name correctly. If a single-component name is really intended, add a trailing caret character to disambiguate the name.\n",
            "  check_person_name(patient_name)\n",
            "WARNING:pydicom:A value of type 'tuple' cannot be assigned to a tag with VR LO.\n",
            "/usr/local/lib/python3.11/dist-packages/pydicom/valuerep.py:440: UserWarning: A value of type 'tuple' cannot be assigned to a tag with VR LO.\n",
            "  warn_and_log(msg)\n",
            "WARNING:pydicom:A value of type 'tuple' cannot be assigned to a tag with VR LO.\n"
          ]
        },
        {
          "output_type": "stream",
          "name": "stdout",
          "text": [
            "FrameOfReferenceUID: 1.3.6.1.4.1.14519.5.2.1.7311.5101.436097266075662340420977800549\n",
            "Parsing 7.23638 34.0724 71.1374\n",
            "1\n",
            "Copying file:///content/sr/ProstateX-0076_1.3.6.1.4.1.14519.5.2.1.7311.5101.334326985258868181144176796864.dcm [Content-Type=application/dicom]...\n",
            "/ [1 files][  4.4 KiB/  4.4 KiB]                                                \n",
            "Operation completed over 1 objects/4.4 KiB.                                      \n",
            "********** On patient: ProstateX-0077 **********\n",
            "num_series: 1\n",
            "***** On series: 1.3.6.1.4.1.14519.5.2.1.7311.5101.108254522305321641639146259073 *****\n",
            "SeriesInstanceUID: 1.3.6.1.4.1.14519.5.2.1.7311.5101.108254522305321641639146259073\n"
          ]
        },
        {
          "output_type": "stream",
          "name": "stderr",
          "text": [
            "Downloading data: 100%|█████████▉| 5.68M/5.68M [00:01<00:00, 5.66MB/s]\n",
            "/usr/local/lib/python3.11/dist-packages/highdicom/base.py:163: UserWarning: The string \"ProstateX-0077\" is unlikely to represent the intended person name since it contains only a single component. Construct a person name according to the format in described in https://dicom.nema.org/dicom/2013/output/chtml/part05/sect_6.2.html#sect_6.2.1.2, or, in pydicom 2.2.0 or later, use the pydicom.valuerep.PersonName.from_named_components() method to construct the person name correctly. If a single-component name is really intended, add a trailing caret character to disambiguate the name.\n",
            "  check_person_name(patient_name)\n",
            "WARNING:pydicom:A value of type 'tuple' cannot be assigned to a tag with VR LO.\n",
            "/usr/local/lib/python3.11/dist-packages/pydicom/valuerep.py:440: UserWarning: A value of type 'tuple' cannot be assigned to a tag with VR LO.\n",
            "  warn_and_log(msg)\n",
            "WARNING:pydicom:A value of type 'tuple' cannot be assigned to a tag with VR LO.\n"
          ]
        },
        {
          "output_type": "stream",
          "name": "stdout",
          "text": [
            "FrameOfReferenceUID: 1.3.6.1.4.1.14519.5.2.1.7311.5101.641301493381036785371002957342\n",
            "Parsing -26.1229 39.9618 13.7895\n",
            "1\n",
            "Copying file:///content/sr/ProstateX-0077_1.3.6.1.4.1.14519.5.2.1.7311.5101.108254522305321641639146259073.dcm [Content-Type=application/dicom]...\n",
            "/ [1 files][  4.4 KiB/  4.4 KiB]                                                \n",
            "Operation completed over 1 objects/4.4 KiB.                                      \n",
            "********** On patient: ProstateX-0078 **********\n",
            "num_series: 1\n",
            "***** On series: 1.3.6.1.4.1.14519.5.2.1.7311.5101.105195267324030799151105608660 *****\n",
            "SeriesInstanceUID: 1.3.6.1.4.1.14519.5.2.1.7311.5101.105195267324030799151105608660\n"
          ]
        },
        {
          "output_type": "stream",
          "name": "stderr",
          "text": [
            "Downloading data: 100%|█████████▉| 5.68M/5.68M [00:01<00:00, 5.66MB/s]\n",
            "/usr/local/lib/python3.11/dist-packages/highdicom/base.py:163: UserWarning: The string \"ProstateX-0078\" is unlikely to represent the intended person name since it contains only a single component. Construct a person name according to the format in described in https://dicom.nema.org/dicom/2013/output/chtml/part05/sect_6.2.html#sect_6.2.1.2, or, in pydicom 2.2.0 or later, use the pydicom.valuerep.PersonName.from_named_components() method to construct the person name correctly. If a single-component name is really intended, add a trailing caret character to disambiguate the name.\n",
            "  check_person_name(patient_name)\n",
            "WARNING:pydicom:A value of type 'tuple' cannot be assigned to a tag with VR LO.\n",
            "/usr/local/lib/python3.11/dist-packages/pydicom/valuerep.py:440: UserWarning: A value of type 'tuple' cannot be assigned to a tag with VR LO.\n",
            "  warn_and_log(msg)\n",
            "WARNING:pydicom:A value of type 'tuple' cannot be assigned to a tag with VR LO.\n"
          ]
        },
        {
          "output_type": "stream",
          "name": "stdout",
          "text": [
            "FrameOfReferenceUID: 1.3.6.1.4.1.14519.5.2.1.7311.5101.249131386510947359299146821437\n",
            "Parsing 12.4137 20.7377 -54.864\n",
            "1\n",
            "Copying file:///content/sr/ProstateX-0078_1.3.6.1.4.1.14519.5.2.1.7311.5101.105195267324030799151105608660.dcm [Content-Type=application/dicom]...\n",
            "/ [1 files][  4.4 KiB/  4.4 KiB]                                                \n",
            "Operation completed over 1 objects/4.4 KiB.                                      \n",
            "********** On patient: ProstateX-0079 **********\n",
            "num_series: 1\n",
            "***** On series: 1.3.6.1.4.1.14519.5.2.1.7311.5101.306983143690233862191598551114 *****\n",
            "SeriesInstanceUID: 1.3.6.1.4.1.14519.5.2.1.7311.5101.306983143690233862191598551114\n"
          ]
        },
        {
          "output_type": "stream",
          "name": "stderr",
          "text": [
            "Downloading data: 100%|█████████▉| 6.28M/6.28M [00:01<00:00, 6.26MB/s]\n",
            "/usr/local/lib/python3.11/dist-packages/highdicom/base.py:163: UserWarning: The string \"ProstateX-0079\" is unlikely to represent the intended person name since it contains only a single component. Construct a person name according to the format in described in https://dicom.nema.org/dicom/2013/output/chtml/part05/sect_6.2.html#sect_6.2.1.2, or, in pydicom 2.2.0 or later, use the pydicom.valuerep.PersonName.from_named_components() method to construct the person name correctly. If a single-component name is really intended, add a trailing caret character to disambiguate the name.\n",
            "  check_person_name(patient_name)\n",
            "WARNING:pydicom:A value of type 'tuple' cannot be assigned to a tag with VR LO.\n",
            "/usr/local/lib/python3.11/dist-packages/pydicom/valuerep.py:440: UserWarning: A value of type 'tuple' cannot be assigned to a tag with VR LO.\n",
            "  warn_and_log(msg)\n",
            "WARNING:pydicom:A value of type 'tuple' cannot be assigned to a tag with VR LO.\n"
          ]
        },
        {
          "output_type": "stream",
          "name": "stdout",
          "text": [
            "FrameOfReferenceUID: 1.3.6.1.4.1.14519.5.2.1.7311.5101.313041101318841664640310747846\n",
            "Parsing 2.03957 5.48526 -47.4539\n",
            "1\n",
            "Copying file:///content/sr/ProstateX-0079_1.3.6.1.4.1.14519.5.2.1.7311.5101.306983143690233862191598551114.dcm [Content-Type=application/dicom]...\n",
            "/ [1 files][  4.4 KiB/  4.4 KiB]                                                \n",
            "Operation completed over 1 objects/4.4 KiB.                                      \n",
            "********** On patient: ProstateX-0080 **********\n",
            "num_series: 1\n",
            "***** On series: 1.3.6.1.4.1.14519.5.2.1.7311.5101.341352097107587679521590034290 *****\n",
            "SeriesInstanceUID: 1.3.6.1.4.1.14519.5.2.1.7311.5101.341352097107587679521590034290\n"
          ]
        },
        {
          "output_type": "stream",
          "name": "stderr",
          "text": [
            "Downloading data: 100%|██████████| 6.87M/6.87M [00:01<00:00, 6.85MB/s]\n",
            "/usr/local/lib/python3.11/dist-packages/highdicom/base.py:163: UserWarning: The string \"ProstateX-0080\" is unlikely to represent the intended person name since it contains only a single component. Construct a person name according to the format in described in https://dicom.nema.org/dicom/2013/output/chtml/part05/sect_6.2.html#sect_6.2.1.2, or, in pydicom 2.2.0 or later, use the pydicom.valuerep.PersonName.from_named_components() method to construct the person name correctly. If a single-component name is really intended, add a trailing caret character to disambiguate the name.\n",
            "  check_person_name(patient_name)\n",
            "WARNING:pydicom:A value of type 'tuple' cannot be assigned to a tag with VR LO.\n",
            "/usr/local/lib/python3.11/dist-packages/pydicom/valuerep.py:440: UserWarning: A value of type 'tuple' cannot be assigned to a tag with VR LO.\n",
            "  warn_and_log(msg)\n",
            "WARNING:pydicom:A value of type 'tuple' cannot be assigned to a tag with VR LO.\n"
          ]
        },
        {
          "output_type": "stream",
          "name": "stdout",
          "text": [
            "FrameOfReferenceUID: 1.3.6.1.4.1.14519.5.2.1.7311.5101.165198292837572132811496566326\n",
            "Parsing -9.13416 18.0389 53.2054\n",
            "1\n",
            "Copying file:///content/sr/ProstateX-0080_1.3.6.1.4.1.14519.5.2.1.7311.5101.341352097107587679521590034290.dcm [Content-Type=application/dicom]...\n",
            "/ [1 files][  4.4 KiB/  4.4 KiB]                                                \n",
            "Operation completed over 1 objects/4.4 KiB.                                      \n",
            "********** On patient: ProstateX-0081 **********\n",
            "num_series: 1\n",
            "***** On series: 1.3.6.1.4.1.14519.5.2.1.7311.5101.197997921761562294002559600858 *****\n",
            "SeriesInstanceUID: 1.3.6.1.4.1.14519.5.2.1.7311.5101.197997921761562294002559600858\n"
          ]
        },
        {
          "output_type": "stream",
          "name": "stderr",
          "text": [
            "Downloading data: 100%|█████████▉| 6.88M/6.88M [00:01<00:00, 6.85MB/s]\n",
            "/usr/local/lib/python3.11/dist-packages/highdicom/base.py:163: UserWarning: The string \"ProstateX-0081\" is unlikely to represent the intended person name since it contains only a single component. Construct a person name according to the format in described in https://dicom.nema.org/dicom/2013/output/chtml/part05/sect_6.2.html#sect_6.2.1.2, or, in pydicom 2.2.0 or later, use the pydicom.valuerep.PersonName.from_named_components() method to construct the person name correctly. If a single-component name is really intended, add a trailing caret character to disambiguate the name.\n",
            "  check_person_name(patient_name)\n",
            "WARNING:pydicom:A value of type 'tuple' cannot be assigned to a tag with VR LO.\n",
            "/usr/local/lib/python3.11/dist-packages/pydicom/valuerep.py:440: UserWarning: A value of type 'tuple' cannot be assigned to a tag with VR LO.\n",
            "  warn_and_log(msg)\n",
            "WARNING:pydicom:A value of type 'tuple' cannot be assigned to a tag with VR LO.\n"
          ]
        },
        {
          "output_type": "stream",
          "name": "stdout",
          "text": [
            "FrameOfReferenceUID: 1.3.6.1.4.1.14519.5.2.1.7311.5101.580594017518686164961020239210\n",
            "Parsing -25.8224 39.8219 -20.0141\n",
            "1\n",
            "Copying file:///content/sr/ProstateX-0081_1.3.6.1.4.1.14519.5.2.1.7311.5101.197997921761562294002559600858.dcm [Content-Type=application/dicom]...\n",
            "/ [1 files][  4.4 KiB/  4.4 KiB]                                                \n",
            "Operation completed over 1 objects/4.4 KiB.                                      \n",
            "********** On patient: ProstateX-0082 **********\n",
            "num_series: 1\n",
            "***** On series: 1.3.6.1.4.1.14519.5.2.1.7311.5101.287009217605941401146066177219 *****\n",
            "SeriesInstanceUID: 1.3.6.1.4.1.14519.5.2.1.7311.5101.287009217605941401146066177219\n"
          ]
        },
        {
          "output_type": "stream",
          "name": "stderr",
          "text": [
            "Downloading data: 100%|█████████▉| 5.68M/5.68M [00:01<00:00, 5.63MB/s]\n",
            "/usr/local/lib/python3.11/dist-packages/highdicom/base.py:163: UserWarning: The string \"ProstateX-0082\" is unlikely to represent the intended person name since it contains only a single component. Construct a person name according to the format in described in https://dicom.nema.org/dicom/2013/output/chtml/part05/sect_6.2.html#sect_6.2.1.2, or, in pydicom 2.2.0 or later, use the pydicom.valuerep.PersonName.from_named_components() method to construct the person name correctly. If a single-component name is really intended, add a trailing caret character to disambiguate the name.\n",
            "  check_person_name(patient_name)\n",
            "WARNING:pydicom:A value of type 'tuple' cannot be assigned to a tag with VR LO.\n",
            "/usr/local/lib/python3.11/dist-packages/pydicom/valuerep.py:440: UserWarning: A value of type 'tuple' cannot be assigned to a tag with VR LO.\n",
            "  warn_and_log(msg)\n",
            "WARNING:pydicom:A value of type 'tuple' cannot be assigned to a tag with VR LO.\n"
          ]
        },
        {
          "output_type": "stream",
          "name": "stdout",
          "text": [
            "FrameOfReferenceUID: 1.3.6.1.4.1.14519.5.2.1.7311.5101.210381899206416760928739489101\n",
            "Parsing -4.63659 30.8679 7.27208\n",
            "1\n",
            "Copying file:///content/sr/ProstateX-0082_1.3.6.1.4.1.14519.5.2.1.7311.5101.287009217605941401146066177219.dcm [Content-Type=application/dicom]...\n",
            "/ [1 files][  4.4 KiB/  4.4 KiB]                                                \n",
            "Operation completed over 1 objects/4.4 KiB.                                      \n",
            "********** On patient: ProstateX-0083 **********\n",
            "num_series: 1\n",
            "***** On series: 1.3.6.1.4.1.14519.5.2.1.7311.5101.460453169764361555745878708935 *****\n",
            "SeriesInstanceUID: 1.3.6.1.4.1.14519.5.2.1.7311.5101.460453169764361555745878708935\n"
          ]
        },
        {
          "output_type": "stream",
          "name": "stderr",
          "text": [
            "Downloading data: 100%|█████████▉| 5.68M/5.68M [00:01<00:00, 5.66MB/s]\n",
            "/usr/local/lib/python3.11/dist-packages/highdicom/base.py:163: UserWarning: The string \"ProstateX-0083\" is unlikely to represent the intended person name since it contains only a single component. Construct a person name according to the format in described in https://dicom.nema.org/dicom/2013/output/chtml/part05/sect_6.2.html#sect_6.2.1.2, or, in pydicom 2.2.0 or later, use the pydicom.valuerep.PersonName.from_named_components() method to construct the person name correctly. If a single-component name is really intended, add a trailing caret character to disambiguate the name.\n",
            "  check_person_name(patient_name)\n",
            "WARNING:pydicom:A value of type 'tuple' cannot be assigned to a tag with VR LO.\n",
            "/usr/local/lib/python3.11/dist-packages/pydicom/valuerep.py:440: UserWarning: A value of type 'tuple' cannot be assigned to a tag with VR LO.\n",
            "  warn_and_log(msg)\n",
            "WARNING:pydicom:A value of type 'tuple' cannot be assigned to a tag with VR LO.\n"
          ]
        },
        {
          "output_type": "stream",
          "name": "stdout",
          "text": [
            "FrameOfReferenceUID: 1.3.6.1.4.1.14519.5.2.1.7311.5101.210346654587609637650802392479\n",
            "Parsing 2.09552 39.3283 38.4872\n",
            "Parsing -4.325435 35.3903 45.9762\n",
            "2\n",
            "Copying file:///content/sr/ProstateX-0083_1.3.6.1.4.1.14519.5.2.1.7311.5101.460453169764361555745878708935.dcm [Content-Type=application/dicom]...\n",
            "/ [1 files][  5.5 KiB/  5.5 KiB]                                                \n",
            "Operation completed over 1 objects/5.5 KiB.                                      \n",
            "********** On patient: ProstateX-0084 **********\n",
            "num_series: 1\n",
            "***** On series: 1.3.6.1.4.1.14519.5.2.1.7311.5101.124933244802704100684011471210 *****\n",
            "SeriesInstanceUID: 1.3.6.1.4.1.14519.5.2.1.7311.5101.124933244802704100684011471210\n"
          ]
        },
        {
          "output_type": "stream",
          "name": "stderr",
          "text": [
            "Downloading data: 100%|█████████▉| 5.68M/5.68M [00:01<00:00, 5.66MB/s]\n",
            "/usr/local/lib/python3.11/dist-packages/highdicom/base.py:163: UserWarning: The string \"ProstateX-0084\" is unlikely to represent the intended person name since it contains only a single component. Construct a person name according to the format in described in https://dicom.nema.org/dicom/2013/output/chtml/part05/sect_6.2.html#sect_6.2.1.2, or, in pydicom 2.2.0 or later, use the pydicom.valuerep.PersonName.from_named_components() method to construct the person name correctly. If a single-component name is really intended, add a trailing caret character to disambiguate the name.\n",
            "  check_person_name(patient_name)\n",
            "WARNING:pydicom:A value of type 'tuple' cannot be assigned to a tag with VR LO.\n",
            "/usr/local/lib/python3.11/dist-packages/pydicom/valuerep.py:440: UserWarning: A value of type 'tuple' cannot be assigned to a tag with VR LO.\n",
            "  warn_and_log(msg)\n",
            "WARNING:pydicom:A value of type 'tuple' cannot be assigned to a tag with VR LO.\n"
          ]
        },
        {
          "output_type": "stream",
          "name": "stdout",
          "text": [
            "FrameOfReferenceUID: 1.3.6.1.4.1.14519.5.2.1.7311.5101.188871280556119565331267506346\n",
            "Parsing -19.636 26.6136 -12.9621\n",
            "Parsing 6.35978 30.3039 1.58696\n",
            "2\n",
            "Copying file:///content/sr/ProstateX-0084_1.3.6.1.4.1.14519.5.2.1.7311.5101.124933244802704100684011471210.dcm [Content-Type=application/dicom]...\n",
            "/ [1 files][  5.5 KiB/  5.5 KiB]                                                \n",
            "Operation completed over 1 objects/5.5 KiB.                                      \n",
            "********** On patient: ProstateX-0085 **********\n",
            "num_series: 1\n",
            "***** On series: 1.3.6.1.4.1.14519.5.2.1.7311.5101.211555650428345841697929161230 *****\n",
            "SeriesInstanceUID: 1.3.6.1.4.1.14519.5.2.1.7311.5101.211555650428345841697929161230\n"
          ]
        },
        {
          "output_type": "stream",
          "name": "stderr",
          "text": [
            "Downloading data: 100%|██████████| 7.47M/7.47M [00:01<00:00, 7.44MB/s]\n",
            "/usr/local/lib/python3.11/dist-packages/highdicom/base.py:163: UserWarning: The string \"ProstateX-0085\" is unlikely to represent the intended person name since it contains only a single component. Construct a person name according to the format in described in https://dicom.nema.org/dicom/2013/output/chtml/part05/sect_6.2.html#sect_6.2.1.2, or, in pydicom 2.2.0 or later, use the pydicom.valuerep.PersonName.from_named_components() method to construct the person name correctly. If a single-component name is really intended, add a trailing caret character to disambiguate the name.\n",
            "  check_person_name(patient_name)\n",
            "WARNING:pydicom:A value of type 'tuple' cannot be assigned to a tag with VR LO.\n",
            "/usr/local/lib/python3.11/dist-packages/pydicom/valuerep.py:440: UserWarning: A value of type 'tuple' cannot be assigned to a tag with VR LO.\n",
            "  warn_and_log(msg)\n",
            "WARNING:pydicom:A value of type 'tuple' cannot be assigned to a tag with VR LO.\n"
          ]
        },
        {
          "output_type": "stream",
          "name": "stdout",
          "text": [
            "FrameOfReferenceUID: 1.3.6.1.4.1.14519.5.2.1.7311.5101.208982272858079873054064693300\n",
            "Parsing -46.9565 21.8024 17.9912\n",
            "Parsing -38.3799 18.3673 32.0116\n",
            "Parsing -19.2899 -4.20947 30.6512\n",
            "Parsing -15.9699 9.13279 6.63986\n",
            "4\n",
            "Copying file:///content/sr/ProstateX-0085_1.3.6.1.4.1.14519.5.2.1.7311.5101.211555650428345841697929161230.dcm [Content-Type=application/dicom]...\n",
            "/ [1 files][  7.6 KiB/  7.6 KiB]                                                \n",
            "Operation completed over 1 objects/7.6 KiB.                                      \n",
            "********** On patient: ProstateX-0086 **********\n",
            "num_series: 1\n",
            "***** On series: 1.3.6.1.4.1.14519.5.2.1.7311.5101.159015812612639123923275982393 *****\n",
            "SeriesInstanceUID: 1.3.6.1.4.1.14519.5.2.1.7311.5101.159015812612639123923275982393\n"
          ]
        },
        {
          "output_type": "stream",
          "name": "stderr",
          "text": [
            "Downloading data: 100%|█████████▉| 6.28M/6.28M [00:01<00:00, 6.26MB/s]\n",
            "/usr/local/lib/python3.11/dist-packages/highdicom/base.py:163: UserWarning: The string \"ProstateX-0086\" is unlikely to represent the intended person name since it contains only a single component. Construct a person name according to the format in described in https://dicom.nema.org/dicom/2013/output/chtml/part05/sect_6.2.html#sect_6.2.1.2, or, in pydicom 2.2.0 or later, use the pydicom.valuerep.PersonName.from_named_components() method to construct the person name correctly. If a single-component name is really intended, add a trailing caret character to disambiguate the name.\n",
            "  check_person_name(patient_name)\n",
            "WARNING:pydicom:A value of type 'tuple' cannot be assigned to a tag with VR LO.\n",
            "/usr/local/lib/python3.11/dist-packages/pydicom/valuerep.py:440: UserWarning: A value of type 'tuple' cannot be assigned to a tag with VR LO.\n",
            "  warn_and_log(msg)\n",
            "WARNING:pydicom:A value of type 'tuple' cannot be assigned to a tag with VR LO.\n"
          ]
        },
        {
          "output_type": "stream",
          "name": "stdout",
          "text": [
            "FrameOfReferenceUID: 1.3.6.1.4.1.14519.5.2.1.7311.5101.241856171414579000288229742748\n",
            "Parsing -0.242506 2.83702 31.8783\n",
            "Parsing -26.2493 23.6826 26.5587\n",
            "2\n",
            "Copying file:///content/sr/ProstateX-0086_1.3.6.1.4.1.14519.5.2.1.7311.5101.159015812612639123923275982393.dcm [Content-Type=application/dicom]...\n",
            "/ [1 files][  5.5 KiB/  5.5 KiB]                                                \n",
            "Operation completed over 1 objects/5.5 KiB.                                      \n",
            "********** On patient: ProstateX-0087 **********\n",
            "num_series: 1\n",
            "***** On series: 1.3.6.1.4.1.14519.5.2.1.7311.5101.190445461958668285994393846289 *****\n",
            "SeriesInstanceUID: 1.3.6.1.4.1.14519.5.2.1.7311.5101.190445461958668285994393846289\n"
          ]
        },
        {
          "output_type": "stream",
          "name": "stderr",
          "text": [
            "Downloading data: 100%|█████████▉| 5.68M/5.68M [00:01<00:00, 5.66MB/s]\n",
            "/usr/local/lib/python3.11/dist-packages/highdicom/base.py:163: UserWarning: The string \"ProstateX-0087\" is unlikely to represent the intended person name since it contains only a single component. Construct a person name according to the format in described in https://dicom.nema.org/dicom/2013/output/chtml/part05/sect_6.2.html#sect_6.2.1.2, or, in pydicom 2.2.0 or later, use the pydicom.valuerep.PersonName.from_named_components() method to construct the person name correctly. If a single-component name is really intended, add a trailing caret character to disambiguate the name.\n",
            "  check_person_name(patient_name)\n",
            "WARNING:pydicom:A value of type 'tuple' cannot be assigned to a tag with VR LO.\n",
            "/usr/local/lib/python3.11/dist-packages/pydicom/valuerep.py:440: UserWarning: A value of type 'tuple' cannot be assigned to a tag with VR LO.\n",
            "  warn_and_log(msg)\n",
            "WARNING:pydicom:A value of type 'tuple' cannot be assigned to a tag with VR LO.\n"
          ]
        },
        {
          "output_type": "stream",
          "name": "stdout",
          "text": [
            "FrameOfReferenceUID: 1.3.6.1.4.1.14519.5.2.1.7311.5101.128885523808998330849234232812\n",
            "Parsing 10.6418 48.107 -29.0415\n",
            "Parsing 41.6112 29.7571 -20.301\n",
            "2\n",
            "Copying file:///content/sr/ProstateX-0087_1.3.6.1.4.1.14519.5.2.1.7311.5101.190445461958668285994393846289.dcm [Content-Type=application/dicom]...\n",
            "/ [1 files][  5.5 KiB/  5.5 KiB]                                                \n",
            "Operation completed over 1 objects/5.5 KiB.                                      \n",
            "********** On patient: ProstateX-0088 **********\n",
            "num_series: 1\n",
            "***** On series: 1.3.6.1.4.1.14519.5.2.1.7311.5101.164969031860775880146618363557 *****\n",
            "SeriesInstanceUID: 1.3.6.1.4.1.14519.5.2.1.7311.5101.164969031860775880146618363557\n"
          ]
        },
        {
          "output_type": "stream",
          "name": "stderr",
          "text": [
            "Downloading data: 100%|█████████▉| 6.28M/6.28M [00:02<00:00, 3.13MB/s]\n",
            "/usr/local/lib/python3.11/dist-packages/highdicom/base.py:163: UserWarning: The string \"ProstateX-0088\" is unlikely to represent the intended person name since it contains only a single component. Construct a person name according to the format in described in https://dicom.nema.org/dicom/2013/output/chtml/part05/sect_6.2.html#sect_6.2.1.2, or, in pydicom 2.2.0 or later, use the pydicom.valuerep.PersonName.from_named_components() method to construct the person name correctly. If a single-component name is really intended, add a trailing caret character to disambiguate the name.\n",
            "  check_person_name(patient_name)\n",
            "WARNING:pydicom:A value of type 'tuple' cannot be assigned to a tag with VR LO.\n",
            "/usr/local/lib/python3.11/dist-packages/pydicom/valuerep.py:440: UserWarning: A value of type 'tuple' cannot be assigned to a tag with VR LO.\n",
            "  warn_and_log(msg)\n",
            "WARNING:pydicom:A value of type 'tuple' cannot be assigned to a tag with VR LO.\n"
          ]
        },
        {
          "output_type": "stream",
          "name": "stdout",
          "text": [
            "FrameOfReferenceUID: 1.3.6.1.4.1.14519.5.2.1.7311.5101.272262363108003715803066200669\n",
            "Parsing -5.169764 14.9709 -1.30017\n",
            "Parsing -3.87356 53.469 -2.53217\n",
            "2\n",
            "Copying file:///content/sr/ProstateX-0088_1.3.6.1.4.1.14519.5.2.1.7311.5101.164969031860775880146618363557.dcm [Content-Type=application/dicom]...\n",
            "/ [1 files][  5.5 KiB/  5.5 KiB]                                                \n",
            "Operation completed over 1 objects/5.5 KiB.                                      \n",
            "********** On patient: ProstateX-0089 **********\n",
            "num_series: 1\n",
            "***** On series: 1.3.6.1.4.1.14519.5.2.1.7311.5101.160225377533762960695041069832 *****\n",
            "SeriesInstanceUID: 1.3.6.1.4.1.14519.5.2.1.7311.5101.160225377533762960695041069832\n"
          ]
        },
        {
          "output_type": "stream",
          "name": "stderr",
          "text": [
            "Downloading data: 100%|██████████| 6.87M/6.87M [00:01<00:00, 6.84MB/s]\n",
            "/usr/local/lib/python3.11/dist-packages/highdicom/base.py:163: UserWarning: The string \"ProstateX-0089\" is unlikely to represent the intended person name since it contains only a single component. Construct a person name according to the format in described in https://dicom.nema.org/dicom/2013/output/chtml/part05/sect_6.2.html#sect_6.2.1.2, or, in pydicom 2.2.0 or later, use the pydicom.valuerep.PersonName.from_named_components() method to construct the person name correctly. If a single-component name is really intended, add a trailing caret character to disambiguate the name.\n",
            "  check_person_name(patient_name)\n",
            "WARNING:pydicom:A value of type 'tuple' cannot be assigned to a tag with VR LO.\n",
            "/usr/local/lib/python3.11/dist-packages/pydicom/valuerep.py:440: UserWarning: A value of type 'tuple' cannot be assigned to a tag with VR LO.\n",
            "  warn_and_log(msg)\n",
            "WARNING:pydicom:A value of type 'tuple' cannot be assigned to a tag with VR LO.\n"
          ]
        },
        {
          "output_type": "stream",
          "name": "stdout",
          "text": [
            "FrameOfReferenceUID: 1.3.6.1.4.1.14519.5.2.1.7311.5101.229908433444432163478117423747\n",
            "Parsing -0.258316 18.4008 -33.9375\n",
            "1\n",
            "Copying file:///content/sr/ProstateX-0089_1.3.6.1.4.1.14519.5.2.1.7311.5101.160225377533762960695041069832.dcm [Content-Type=application/dicom]...\n",
            "/ [1 files][  4.4 KiB/  4.4 KiB]                                                \n",
            "Operation completed over 1 objects/4.4 KiB.                                      \n",
            "********** On patient: ProstateX-0090 **********\n",
            "num_series: 1\n",
            "***** On series: 1.3.6.1.4.1.14519.5.2.1.7311.5101.271991298059338527584681788043 *****\n",
            "SeriesInstanceUID: 1.3.6.1.4.1.14519.5.2.1.7311.5101.271991298059338527584681788043\n"
          ]
        },
        {
          "output_type": "stream",
          "name": "stderr",
          "text": [
            "Downloading data: 100%|█████████▉| 5.68M/5.68M [00:01<00:00, 5.66MB/s]\n",
            "/usr/local/lib/python3.11/dist-packages/highdicom/base.py:163: UserWarning: The string \"ProstateX-0090\" is unlikely to represent the intended person name since it contains only a single component. Construct a person name according to the format in described in https://dicom.nema.org/dicom/2013/output/chtml/part05/sect_6.2.html#sect_6.2.1.2, or, in pydicom 2.2.0 or later, use the pydicom.valuerep.PersonName.from_named_components() method to construct the person name correctly. If a single-component name is really intended, add a trailing caret character to disambiguate the name.\n",
            "  check_person_name(patient_name)\n",
            "WARNING:pydicom:A value of type 'tuple' cannot be assigned to a tag with VR LO.\n",
            "/usr/local/lib/python3.11/dist-packages/pydicom/valuerep.py:440: UserWarning: A value of type 'tuple' cannot be assigned to a tag with VR LO.\n",
            "  warn_and_log(msg)\n",
            "WARNING:pydicom:A value of type 'tuple' cannot be assigned to a tag with VR LO.\n"
          ]
        },
        {
          "output_type": "stream",
          "name": "stdout",
          "text": [
            "FrameOfReferenceUID: 1.3.6.1.4.1.14519.5.2.1.7311.5101.198127899128193722499636849443\n",
            "Parsing 3.33612 10.8833 -17.866\n",
            "1\n",
            "Copying file:///content/sr/ProstateX-0090_1.3.6.1.4.1.14519.5.2.1.7311.5101.271991298059338527584681788043.dcm [Content-Type=application/dicom]...\n",
            "/ [1 files][  4.4 KiB/  4.4 KiB]                                                \n",
            "Operation completed over 1 objects/4.4 KiB.                                      \n",
            "********** On patient: ProstateX-0091 **********\n",
            "num_series: 1\n",
            "***** On series: 1.3.6.1.4.1.14519.5.2.1.7311.5101.194000123380498758561962283977 *****\n",
            "SeriesInstanceUID: 1.3.6.1.4.1.14519.5.2.1.7311.5101.194000123380498758561962283977\n"
          ]
        },
        {
          "output_type": "stream",
          "name": "stderr",
          "text": [
            "Downloading data: 100%|█████████▉| 5.68M/5.68M [00:01<00:00, 5.66MB/s]\n",
            "/usr/local/lib/python3.11/dist-packages/highdicom/base.py:163: UserWarning: The string \"ProstateX-0091\" is unlikely to represent the intended person name since it contains only a single component. Construct a person name according to the format in described in https://dicom.nema.org/dicom/2013/output/chtml/part05/sect_6.2.html#sect_6.2.1.2, or, in pydicom 2.2.0 or later, use the pydicom.valuerep.PersonName.from_named_components() method to construct the person name correctly. If a single-component name is really intended, add a trailing caret character to disambiguate the name.\n",
            "  check_person_name(patient_name)\n",
            "WARNING:pydicom:A value of type 'tuple' cannot be assigned to a tag with VR LO.\n",
            "/usr/local/lib/python3.11/dist-packages/pydicom/valuerep.py:440: UserWarning: A value of type 'tuple' cannot be assigned to a tag with VR LO.\n",
            "  warn_and_log(msg)\n",
            "WARNING:pydicom:A value of type 'tuple' cannot be assigned to a tag with VR LO.\n"
          ]
        },
        {
          "output_type": "stream",
          "name": "stdout",
          "text": [
            "FrameOfReferenceUID: 1.3.6.1.4.1.14519.5.2.1.7311.5101.259798186565372557088573222795\n",
            "Parsing -30.985 18.0662 -13.3747\n",
            "1\n",
            "Copying file:///content/sr/ProstateX-0091_1.3.6.1.4.1.14519.5.2.1.7311.5101.194000123380498758561962283977.dcm [Content-Type=application/dicom]...\n",
            "/ [1 files][  4.4 KiB/  4.4 KiB]                                                \n",
            "Operation completed over 1 objects/4.4 KiB.                                      \n",
            "********** On patient: ProstateX-0092 **********\n",
            "num_series: 1\n",
            "***** On series: 1.3.6.1.4.1.14519.5.2.1.7311.5101.132920011337448246627655551217 *****\n",
            "SeriesInstanceUID: 1.3.6.1.4.1.14519.5.2.1.7311.5101.132920011337448246627655551217\n"
          ]
        },
        {
          "output_type": "stream",
          "name": "stderr",
          "text": [
            "Downloading data: 100%|██████████| 5.68M/5.68M [00:01<00:00, 5.66MB/s]\n",
            "/usr/local/lib/python3.11/dist-packages/highdicom/base.py:163: UserWarning: The string \"ProstateX-0092\" is unlikely to represent the intended person name since it contains only a single component. Construct a person name according to the format in described in https://dicom.nema.org/dicom/2013/output/chtml/part05/sect_6.2.html#sect_6.2.1.2, or, in pydicom 2.2.0 or later, use the pydicom.valuerep.PersonName.from_named_components() method to construct the person name correctly. If a single-component name is really intended, add a trailing caret character to disambiguate the name.\n",
            "  check_person_name(patient_name)\n",
            "WARNING:pydicom:A value of type 'tuple' cannot be assigned to a tag with VR LO.\n",
            "/usr/local/lib/python3.11/dist-packages/pydicom/valuerep.py:440: UserWarning: A value of type 'tuple' cannot be assigned to a tag with VR LO.\n",
            "  warn_and_log(msg)\n",
            "WARNING:pydicom:A value of type 'tuple' cannot be assigned to a tag with VR LO.\n"
          ]
        },
        {
          "output_type": "stream",
          "name": "stdout",
          "text": [
            "FrameOfReferenceUID: 1.3.6.1.4.1.14519.5.2.1.7311.5101.554829858841871117828315527469\n",
            "Parsing -46.6773 31.5294 -37.086\n",
            "1\n",
            "Copying file:///content/sr/ProstateX-0092_1.3.6.1.4.1.14519.5.2.1.7311.5101.132920011337448246627655551217.dcm [Content-Type=application/dicom]...\n",
            "/ [1 files][  4.4 KiB/  4.4 KiB]                                                \n",
            "Operation completed over 1 objects/4.4 KiB.                                      \n",
            "********** On patient: ProstateX-0093 **********\n",
            "num_series: 1\n",
            "***** On series: 1.3.6.1.4.1.14519.5.2.1.7311.5101.752811560183152736197496609130 *****\n",
            "SeriesInstanceUID: 1.3.6.1.4.1.14519.5.2.1.7311.5101.752811560183152736197496609130\n"
          ]
        },
        {
          "output_type": "stream",
          "name": "stderr",
          "text": [
            "Downloading data: 100%|█████████▉| 5.68M/5.68M [00:01<00:00, 5.66MB/s]\n",
            "/usr/local/lib/python3.11/dist-packages/highdicom/base.py:163: UserWarning: The string \"ProstateX-0093\" is unlikely to represent the intended person name since it contains only a single component. Construct a person name according to the format in described in https://dicom.nema.org/dicom/2013/output/chtml/part05/sect_6.2.html#sect_6.2.1.2, or, in pydicom 2.2.0 or later, use the pydicom.valuerep.PersonName.from_named_components() method to construct the person name correctly. If a single-component name is really intended, add a trailing caret character to disambiguate the name.\n",
            "  check_person_name(patient_name)\n",
            "WARNING:pydicom:A value of type 'tuple' cannot be assigned to a tag with VR LO.\n",
            "/usr/local/lib/python3.11/dist-packages/pydicom/valuerep.py:440: UserWarning: A value of type 'tuple' cannot be assigned to a tag with VR LO.\n",
            "  warn_and_log(msg)\n",
            "WARNING:pydicom:A value of type 'tuple' cannot be assigned to a tag with VR LO.\n"
          ]
        },
        {
          "output_type": "stream",
          "name": "stdout",
          "text": [
            "FrameOfReferenceUID: 1.3.6.1.4.1.14519.5.2.1.7311.5101.311075749682836744199592619893\n",
            "Parsing 29.4178 43.3347 -62.3276\n",
            "Parsing 9.6081 31.5817 -68.8806\n",
            "Parsing 30.4332 39.6444 -98.2314\n",
            "3\n",
            "Copying file:///content/sr/ProstateX-0093_1.3.6.1.4.1.14519.5.2.1.7311.5101.752811560183152736197496609130.dcm [Content-Type=application/dicom]...\n",
            "/ [1 files][  6.5 KiB/  6.5 KiB]                                                \n",
            "Operation completed over 1 objects/6.5 KiB.                                      \n",
            "********** On patient: ProstateX-0094 **********\n",
            "num_series: 1\n",
            "***** On series: 1.3.6.1.4.1.14519.5.2.1.7311.5101.178750617003896154912438088527 *****\n",
            "SeriesInstanceUID: 1.3.6.1.4.1.14519.5.2.1.7311.5101.178750617003896154912438088527\n"
          ]
        },
        {
          "output_type": "stream",
          "name": "stderr",
          "text": [
            "Downloading data: 100%|█████████▉| 5.68M/5.68M [00:01<00:00, 5.66MB/s]\n",
            "/usr/local/lib/python3.11/dist-packages/highdicom/base.py:163: UserWarning: The string \"ProstateX-0094\" is unlikely to represent the intended person name since it contains only a single component. Construct a person name according to the format in described in https://dicom.nema.org/dicom/2013/output/chtml/part05/sect_6.2.html#sect_6.2.1.2, or, in pydicom 2.2.0 or later, use the pydicom.valuerep.PersonName.from_named_components() method to construct the person name correctly. If a single-component name is really intended, add a trailing caret character to disambiguate the name.\n",
            "  check_person_name(patient_name)\n",
            "WARNING:pydicom:A value of type 'tuple' cannot be assigned to a tag with VR LO.\n",
            "/usr/local/lib/python3.11/dist-packages/pydicom/valuerep.py:440: UserWarning: A value of type 'tuple' cannot be assigned to a tag with VR LO.\n",
            "  warn_and_log(msg)\n",
            "WARNING:pydicom:A value of type 'tuple' cannot be assigned to a tag with VR LO.\n"
          ]
        },
        {
          "output_type": "stream",
          "name": "stdout",
          "text": [
            "FrameOfReferenceUID: 1.3.6.1.4.1.14519.5.2.1.7311.5101.356528017247842478057260633256\n",
            "Parsing 31.5813 15.6722 -42.8497\n",
            "1\n",
            "Copying file:///content/sr/ProstateX-0094_1.3.6.1.4.1.14519.5.2.1.7311.5101.178750617003896154912438088527.dcm [Content-Type=application/dicom]...\n",
            "/ [1 files][  4.4 KiB/  4.4 KiB]                                                \n",
            "Operation completed over 1 objects/4.4 KiB.                                      \n",
            "********** On patient: ProstateX-0095 **********\n",
            "num_series: 1\n",
            "***** On series: 1.3.6.1.4.1.14519.5.2.1.7311.5101.132833241684519074400077929213 *****\n",
            "SeriesInstanceUID: 1.3.6.1.4.1.14519.5.2.1.7311.5101.132833241684519074400077929213\n"
          ]
        },
        {
          "output_type": "stream",
          "name": "stderr",
          "text": [
            "Downloading data: 100%|█████████▉| 5.68M/5.68M [00:01<00:00, 5.66MB/s]\n",
            "/usr/local/lib/python3.11/dist-packages/highdicom/base.py:163: UserWarning: The string \"ProstateX-0095\" is unlikely to represent the intended person name since it contains only a single component. Construct a person name according to the format in described in https://dicom.nema.org/dicom/2013/output/chtml/part05/sect_6.2.html#sect_6.2.1.2, or, in pydicom 2.2.0 or later, use the pydicom.valuerep.PersonName.from_named_components() method to construct the person name correctly. If a single-component name is really intended, add a trailing caret character to disambiguate the name.\n",
            "  check_person_name(patient_name)\n",
            "WARNING:pydicom:A value of type 'tuple' cannot be assigned to a tag with VR LO.\n",
            "/usr/local/lib/python3.11/dist-packages/pydicom/valuerep.py:440: UserWarning: A value of type 'tuple' cannot be assigned to a tag with VR LO.\n",
            "  warn_and_log(msg)\n",
            "WARNING:pydicom:A value of type 'tuple' cannot be assigned to a tag with VR LO.\n"
          ]
        },
        {
          "output_type": "stream",
          "name": "stdout",
          "text": [
            "FrameOfReferenceUID: 1.3.6.1.4.1.14519.5.2.1.7311.5101.100938946207909258692159903862\n",
            "Parsing -29.8824 33.0609 17.1315\n",
            "Parsing -28.6965 9.10563 11.1672\n",
            "2\n",
            "Copying file:///content/sr/ProstateX-0095_1.3.6.1.4.1.14519.5.2.1.7311.5101.132833241684519074400077929213.dcm [Content-Type=application/dicom]...\n",
            "/ [1 files][  5.5 KiB/  5.5 KiB]                                                \n",
            "Operation completed over 1 objects/5.5 KiB.                                      \n",
            "********** On patient: ProstateX-0096 **********\n",
            "num_series: 1\n",
            "***** On series: 1.3.6.1.4.1.14519.5.2.1.7311.5101.105766764724449379107432362750 *****\n",
            "SeriesInstanceUID: 1.3.6.1.4.1.14519.5.2.1.7311.5101.105766764724449379107432362750\n"
          ]
        },
        {
          "output_type": "stream",
          "name": "stderr",
          "text": [
            "Downloading data: 100%|█████████▉| 6.28M/6.28M [00:01<00:00, 6.26MB/s]\n",
            "/usr/local/lib/python3.11/dist-packages/highdicom/base.py:163: UserWarning: The string \"ProstateX-0096\" is unlikely to represent the intended person name since it contains only a single component. Construct a person name according to the format in described in https://dicom.nema.org/dicom/2013/output/chtml/part05/sect_6.2.html#sect_6.2.1.2, or, in pydicom 2.2.0 or later, use the pydicom.valuerep.PersonName.from_named_components() method to construct the person name correctly. If a single-component name is really intended, add a trailing caret character to disambiguate the name.\n",
            "  check_person_name(patient_name)\n",
            "WARNING:pydicom:A value of type 'tuple' cannot be assigned to a tag with VR LO.\n",
            "/usr/local/lib/python3.11/dist-packages/pydicom/valuerep.py:440: UserWarning: A value of type 'tuple' cannot be assigned to a tag with VR LO.\n",
            "  warn_and_log(msg)\n",
            "WARNING:pydicom:A value of type 'tuple' cannot be assigned to a tag with VR LO.\n"
          ]
        },
        {
          "output_type": "stream",
          "name": "stdout",
          "text": [
            "FrameOfReferenceUID: 1.3.6.1.4.1.14519.5.2.1.7311.5101.678120374103062961412325206523\n",
            "Parsing 14.1124 22.6493 22.4049\n",
            "1\n",
            "Copying file:///content/sr/ProstateX-0096_1.3.6.1.4.1.14519.5.2.1.7311.5101.105766764724449379107432362750.dcm [Content-Type=application/dicom]...\n",
            "/ [1 files][  4.4 KiB/  4.4 KiB]                                                \n",
            "Operation completed over 1 objects/4.4 KiB.                                      \n",
            "********** On patient: ProstateX-0097 **********\n",
            "num_series: 1\n",
            "***** On series: 1.3.6.1.4.1.14519.5.2.1.7311.5101.146003799124729230636410374869 *****\n",
            "SeriesInstanceUID: 1.3.6.1.4.1.14519.5.2.1.7311.5101.146003799124729230636410374869\n"
          ]
        },
        {
          "output_type": "stream",
          "name": "stderr",
          "text": [
            "Downloading data: 100%|█████████▉| 5.68M/5.68M [00:01<00:00, 5.65MB/s]\n",
            "/usr/local/lib/python3.11/dist-packages/highdicom/base.py:163: UserWarning: The string \"ProstateX-0097\" is unlikely to represent the intended person name since it contains only a single component. Construct a person name according to the format in described in https://dicom.nema.org/dicom/2013/output/chtml/part05/sect_6.2.html#sect_6.2.1.2, or, in pydicom 2.2.0 or later, use the pydicom.valuerep.PersonName.from_named_components() method to construct the person name correctly. If a single-component name is really intended, add a trailing caret character to disambiguate the name.\n",
            "  check_person_name(patient_name)\n",
            "WARNING:pydicom:A value of type 'tuple' cannot be assigned to a tag with VR LO.\n",
            "/usr/local/lib/python3.11/dist-packages/pydicom/valuerep.py:440: UserWarning: A value of type 'tuple' cannot be assigned to a tag with VR LO.\n",
            "  warn_and_log(msg)\n",
            "WARNING:pydicom:A value of type 'tuple' cannot be assigned to a tag with VR LO.\n"
          ]
        },
        {
          "output_type": "stream",
          "name": "stdout",
          "text": [
            "FrameOfReferenceUID: 1.3.6.1.4.1.14519.5.2.1.7311.5101.159053240676475185770216275694\n",
            "Parsing -21.7875 18.8555 24.8761\n",
            "1\n",
            "Copying file:///content/sr/ProstateX-0097_1.3.6.1.4.1.14519.5.2.1.7311.5101.146003799124729230636410374869.dcm [Content-Type=application/dicom]...\n",
            "/ [1 files][  4.4 KiB/  4.4 KiB]                                                \n",
            "Operation completed over 1 objects/4.4 KiB.                                      \n",
            "********** On patient: ProstateX-0098 **********\n",
            "num_series: 1\n",
            "***** On series: 1.3.6.1.4.1.14519.5.2.1.7311.5101.228488186237613111386604397249 *****\n",
            "SeriesInstanceUID: 1.3.6.1.4.1.14519.5.2.1.7311.5101.228488186237613111386604397249\n"
          ]
        },
        {
          "output_type": "stream",
          "name": "stderr",
          "text": [
            "Downloading data: 100%|█████████▉| 6.28M/6.28M [00:01<00:00, 6.25MB/s]\n",
            "/usr/local/lib/python3.11/dist-packages/highdicom/base.py:163: UserWarning: The string \"ProstateX-0098\" is unlikely to represent the intended person name since it contains only a single component. Construct a person name according to the format in described in https://dicom.nema.org/dicom/2013/output/chtml/part05/sect_6.2.html#sect_6.2.1.2, or, in pydicom 2.2.0 or later, use the pydicom.valuerep.PersonName.from_named_components() method to construct the person name correctly. If a single-component name is really intended, add a trailing caret character to disambiguate the name.\n",
            "  check_person_name(patient_name)\n",
            "WARNING:pydicom:A value of type 'tuple' cannot be assigned to a tag with VR LO.\n",
            "/usr/local/lib/python3.11/dist-packages/pydicom/valuerep.py:440: UserWarning: A value of type 'tuple' cannot be assigned to a tag with VR LO.\n",
            "  warn_and_log(msg)\n",
            "WARNING:pydicom:A value of type 'tuple' cannot be assigned to a tag with VR LO.\n"
          ]
        },
        {
          "output_type": "stream",
          "name": "stdout",
          "text": [
            "FrameOfReferenceUID: 1.3.6.1.4.1.14519.5.2.1.7311.5101.208277244393677339825232616182\n",
            "Parsing -7.05654 39.2265 32.4633\n",
            "1\n",
            "Copying file:///content/sr/ProstateX-0098_1.3.6.1.4.1.14519.5.2.1.7311.5101.228488186237613111386604397249.dcm [Content-Type=application/dicom]...\n",
            "/ [1 files][  4.4 KiB/  4.4 KiB]                                                \n",
            "Operation completed over 1 objects/4.4 KiB.                                      \n",
            "********** On patient: ProstateX-0099 **********\n",
            "num_series: 1\n",
            "***** On series: 1.3.6.1.4.1.14519.5.2.1.7311.5101.296514716938564243315383634940 *****\n",
            "SeriesInstanceUID: 1.3.6.1.4.1.14519.5.2.1.7311.5101.296514716938564243315383634940\n"
          ]
        },
        {
          "output_type": "stream",
          "name": "stderr",
          "text": [
            "Downloading data: 100%|█████████▉| 6.28M/6.28M [00:01<00:00, 6.25MB/s]\n",
            "/usr/local/lib/python3.11/dist-packages/highdicom/base.py:163: UserWarning: The string \"ProstateX-0099\" is unlikely to represent the intended person name since it contains only a single component. Construct a person name according to the format in described in https://dicom.nema.org/dicom/2013/output/chtml/part05/sect_6.2.html#sect_6.2.1.2, or, in pydicom 2.2.0 or later, use the pydicom.valuerep.PersonName.from_named_components() method to construct the person name correctly. If a single-component name is really intended, add a trailing caret character to disambiguate the name.\n",
            "  check_person_name(patient_name)\n",
            "WARNING:pydicom:A value of type 'tuple' cannot be assigned to a tag with VR LO.\n",
            "/usr/local/lib/python3.11/dist-packages/pydicom/valuerep.py:440: UserWarning: A value of type 'tuple' cannot be assigned to a tag with VR LO.\n",
            "  warn_and_log(msg)\n",
            "WARNING:pydicom:A value of type 'tuple' cannot be assigned to a tag with VR LO.\n"
          ]
        },
        {
          "output_type": "stream",
          "name": "stdout",
          "text": [
            "FrameOfReferenceUID: 1.3.6.1.4.1.14519.5.2.1.7311.5101.221060391166138923485590390978\n",
            "Parsing 25.7022 40.664 65.1977\n",
            "Parsing -16.1111 39.0076 65.3807\n",
            "2\n",
            "Copying file:///content/sr/ProstateX-0099_1.3.6.1.4.1.14519.5.2.1.7311.5101.296514716938564243315383634940.dcm [Content-Type=application/dicom]...\n",
            "/ [1 files][  5.5 KiB/  5.5 KiB]                                                \n",
            "Operation completed over 1 objects/5.5 KiB.                                      \n",
            "********** On patient: ProstateX-0100 **********\n",
            "num_series: 1\n",
            "***** On series: 1.3.6.1.4.1.14519.5.2.1.7311.5101.937831815028124449735398487309 *****\n",
            "SeriesInstanceUID: 1.3.6.1.4.1.14519.5.2.1.7311.5101.937831815028124449735398487309\n"
          ]
        },
        {
          "output_type": "stream",
          "name": "stderr",
          "text": [
            "Downloading data: 100%|█████████▉| 6.28M/6.28M [00:01<00:00, 6.26MB/s]\n",
            "/usr/local/lib/python3.11/dist-packages/highdicom/base.py:163: UserWarning: The string \"ProstateX-0100\" is unlikely to represent the intended person name since it contains only a single component. Construct a person name according to the format in described in https://dicom.nema.org/dicom/2013/output/chtml/part05/sect_6.2.html#sect_6.2.1.2, or, in pydicom 2.2.0 or later, use the pydicom.valuerep.PersonName.from_named_components() method to construct the person name correctly. If a single-component name is really intended, add a trailing caret character to disambiguate the name.\n",
            "  check_person_name(patient_name)\n",
            "WARNING:pydicom:A value of type 'tuple' cannot be assigned to a tag with VR LO.\n",
            "/usr/local/lib/python3.11/dist-packages/pydicom/valuerep.py:440: UserWarning: A value of type 'tuple' cannot be assigned to a tag with VR LO.\n",
            "  warn_and_log(msg)\n",
            "WARNING:pydicom:A value of type 'tuple' cannot be assigned to a tag with VR LO.\n"
          ]
        },
        {
          "output_type": "stream",
          "name": "stdout",
          "text": [
            "FrameOfReferenceUID: 1.3.6.1.4.1.14519.5.2.1.7311.5101.241097028576603187006121330201\n",
            "Parsing -8.01724 38.6422 -6.1046\n",
            "Parsing -21.7872 9.55205 -17.187\n",
            "Parsing -10.7423 34.8772 6.56788\n",
            "3\n",
            "Copying file:///content/sr/ProstateX-0100_1.3.6.1.4.1.14519.5.2.1.7311.5101.937831815028124449735398487309.dcm [Content-Type=application/dicom]...\n",
            "/ [1 files][  6.5 KiB/  6.5 KiB]                                                \n",
            "Operation completed over 1 objects/6.5 KiB.                                      \n",
            "********** On patient: ProstateX-0101 **********\n",
            "num_series: 1\n",
            "***** On series: 1.3.6.1.4.1.14519.5.2.1.7311.5101.939940825655396889012027914688 *****\n",
            "SeriesInstanceUID: 1.3.6.1.4.1.14519.5.2.1.7311.5101.939940825655396889012027914688\n"
          ]
        },
        {
          "output_type": "stream",
          "name": "stderr",
          "text": [
            "Downloading data: 100%|█████████▉| 3.97M/3.97M [00:01<00:00, 3.95MB/s]\n",
            "/usr/local/lib/python3.11/dist-packages/highdicom/base.py:163: UserWarning: The string \"ProstateX-0101\" is unlikely to represent the intended person name since it contains only a single component. Construct a person name according to the format in described in https://dicom.nema.org/dicom/2013/output/chtml/part05/sect_6.2.html#sect_6.2.1.2, or, in pydicom 2.2.0 or later, use the pydicom.valuerep.PersonName.from_named_components() method to construct the person name correctly. If a single-component name is really intended, add a trailing caret character to disambiguate the name.\n",
            "  check_person_name(patient_name)\n",
            "WARNING:pydicom:A value of type 'tuple' cannot be assigned to a tag with VR LO.\n",
            "/usr/local/lib/python3.11/dist-packages/pydicom/valuerep.py:440: UserWarning: A value of type 'tuple' cannot be assigned to a tag with VR LO.\n",
            "  warn_and_log(msg)\n",
            "WARNING:pydicom:A value of type 'tuple' cannot be assigned to a tag with VR LO.\n"
          ]
        },
        {
          "output_type": "stream",
          "name": "stdout",
          "text": [
            "FrameOfReferenceUID: 1.3.6.1.4.1.14519.5.2.1.7311.5101.339943601188737224958653353790\n",
            "Parsing -24.515 7.71764 -28.1541\n",
            "Parsing -5.55656 42.3812 -23.5329\n",
            "2\n",
            "Copying file:///content/sr/ProstateX-0101_1.3.6.1.4.1.14519.5.2.1.7311.5101.939940825655396889012027914688.dcm [Content-Type=application/dicom]...\n",
            "/ [1 files][  5.5 KiB/  5.5 KiB]                                                \n",
            "Operation completed over 1 objects/5.5 KiB.                                      \n",
            "********** On patient: ProstateX-0102 **********\n",
            "num_series: 1\n",
            "***** On series: 1.3.6.1.4.1.14519.5.2.1.7311.5101.239696172860207577230170745733 *****\n",
            "SeriesInstanceUID: 1.3.6.1.4.1.14519.5.2.1.7311.5101.239696172860207577230170745733\n"
          ]
        },
        {
          "output_type": "stream",
          "name": "stderr",
          "text": [
            "Downloading data: 100%|█████████▉| 4.39M/4.39M [00:01<00:00, 4.37MB/s]\n",
            "/usr/local/lib/python3.11/dist-packages/highdicom/base.py:163: UserWarning: The string \"ProstateX-0102\" is unlikely to represent the intended person name since it contains only a single component. Construct a person name according to the format in described in https://dicom.nema.org/dicom/2013/output/chtml/part05/sect_6.2.html#sect_6.2.1.2, or, in pydicom 2.2.0 or later, use the pydicom.valuerep.PersonName.from_named_components() method to construct the person name correctly. If a single-component name is really intended, add a trailing caret character to disambiguate the name.\n",
            "  check_person_name(patient_name)\n",
            "WARNING:pydicom:A value of type 'tuple' cannot be assigned to a tag with VR LO.\n",
            "/usr/local/lib/python3.11/dist-packages/pydicom/valuerep.py:440: UserWarning: A value of type 'tuple' cannot be assigned to a tag with VR LO.\n",
            "  warn_and_log(msg)\n",
            "WARNING:pydicom:A value of type 'tuple' cannot be assigned to a tag with VR LO.\n"
          ]
        },
        {
          "output_type": "stream",
          "name": "stdout",
          "text": [
            "FrameOfReferenceUID: 1.3.6.1.4.1.14519.5.2.1.7311.5101.163624104473581948000289890635\n",
            "Parsing -10.4613 34.2736 -24.6319\n",
            "1\n",
            "Copying file:///content/sr/ProstateX-0102_1.3.6.1.4.1.14519.5.2.1.7311.5101.239696172860207577230170745733.dcm [Content-Type=application/dicom]...\n",
            "/ [1 files][  4.4 KiB/  4.4 KiB]                                                \n",
            "Operation completed over 1 objects/4.4 KiB.                                      \n",
            "30% of patients processed.\n",
            "********** On patient: ProstateX-0103 **********\n",
            "num_series: 1\n",
            "***** On series: 1.3.6.1.4.1.14519.5.2.1.7311.5101.799648618512630817625506411450 *****\n",
            "SeriesInstanceUID: 1.3.6.1.4.1.14519.5.2.1.7311.5101.799648618512630817625506411450\n"
          ]
        },
        {
          "output_type": "stream",
          "name": "stderr",
          "text": [
            "Downloading data: 100%|█████████▉| 6.28M/6.28M [00:01<00:00, 6.25MB/s]\n",
            "/usr/local/lib/python3.11/dist-packages/highdicom/base.py:163: UserWarning: The string \"ProstateX-0103\" is unlikely to represent the intended person name since it contains only a single component. Construct a person name according to the format in described in https://dicom.nema.org/dicom/2013/output/chtml/part05/sect_6.2.html#sect_6.2.1.2, or, in pydicom 2.2.0 or later, use the pydicom.valuerep.PersonName.from_named_components() method to construct the person name correctly. If a single-component name is really intended, add a trailing caret character to disambiguate the name.\n",
            "  check_person_name(patient_name)\n",
            "WARNING:pydicom:A value of type 'tuple' cannot be assigned to a tag with VR LO.\n",
            "/usr/local/lib/python3.11/dist-packages/pydicom/valuerep.py:440: UserWarning: A value of type 'tuple' cannot be assigned to a tag with VR LO.\n",
            "  warn_and_log(msg)\n",
            "WARNING:pydicom:A value of type 'tuple' cannot be assigned to a tag with VR LO.\n"
          ]
        },
        {
          "output_type": "stream",
          "name": "stdout",
          "text": [
            "FrameOfReferenceUID: 1.3.6.1.4.1.14519.5.2.1.7311.5101.274891815688766979072820989899\n",
            "Parsing 12.9559 46.3051 -54.5266\n",
            "Parsing -6.37128 49.1888 -63.0611\n",
            "2\n",
            "Copying file:///content/sr/ProstateX-0103_1.3.6.1.4.1.14519.5.2.1.7311.5101.799648618512630817625506411450.dcm [Content-Type=application/dicom]...\n",
            "/ [1 files][  5.5 KiB/  5.5 KiB]                                                \n",
            "Operation completed over 1 objects/5.5 KiB.                                      \n",
            "********** On patient: ProstateX-0104 **********\n",
            "num_series: 1\n",
            "***** On series: 1.3.6.1.4.1.14519.5.2.1.7311.5101.176992287385407028701284533740 *****\n",
            "SeriesInstanceUID: 1.3.6.1.4.1.14519.5.2.1.7311.5101.176992287385407028701284533740\n"
          ]
        },
        {
          "output_type": "stream",
          "name": "stderr",
          "text": [
            "Downloading data: 100%|█████████▉| 6.28M/6.28M [00:01<00:00, 6.25MB/s]\n",
            "/usr/local/lib/python3.11/dist-packages/highdicom/base.py:163: UserWarning: The string \"ProstateX-0104\" is unlikely to represent the intended person name since it contains only a single component. Construct a person name according to the format in described in https://dicom.nema.org/dicom/2013/output/chtml/part05/sect_6.2.html#sect_6.2.1.2, or, in pydicom 2.2.0 or later, use the pydicom.valuerep.PersonName.from_named_components() method to construct the person name correctly. If a single-component name is really intended, add a trailing caret character to disambiguate the name.\n",
            "  check_person_name(patient_name)\n",
            "WARNING:pydicom:A value of type 'tuple' cannot be assigned to a tag with VR LO.\n",
            "/usr/local/lib/python3.11/dist-packages/pydicom/valuerep.py:440: UserWarning: A value of type 'tuple' cannot be assigned to a tag with VR LO.\n",
            "  warn_and_log(msg)\n",
            "WARNING:pydicom:A value of type 'tuple' cannot be assigned to a tag with VR LO.\n"
          ]
        },
        {
          "output_type": "stream",
          "name": "stdout",
          "text": [
            "FrameOfReferenceUID: 1.3.6.1.4.1.14519.5.2.1.7311.5101.724797234462897738181317041480\n",
            "Parsing 0.78662 -1.83101 1.89299\n",
            "Parsing 2.70612 32.2689 -1.52071\n",
            "2\n",
            "Copying file:///content/sr/ProstateX-0104_1.3.6.1.4.1.14519.5.2.1.7311.5101.176992287385407028701284533740.dcm [Content-Type=application/dicom]...\n",
            "/ [1 files][  5.5 KiB/  5.5 KiB]                                                \n",
            "Operation completed over 1 objects/5.5 KiB.                                      \n",
            "********** On patient: ProstateX-0105 **********\n",
            "num_series: 1\n",
            "***** On series: 1.3.6.1.4.1.14519.5.2.1.7311.5101.629057884696444074281659410025 *****\n",
            "SeriesInstanceUID: 1.3.6.1.4.1.14519.5.2.1.7311.5101.629057884696444074281659410025\n"
          ]
        },
        {
          "output_type": "stream",
          "name": "stderr",
          "text": [
            "Downloading data: 100%|█████████▉| 6.28M/6.28M [00:01<00:00, 6.26MB/s]\n",
            "/usr/local/lib/python3.11/dist-packages/highdicom/base.py:163: UserWarning: The string \"ProstateX-0105\" is unlikely to represent the intended person name since it contains only a single component. Construct a person name according to the format in described in https://dicom.nema.org/dicom/2013/output/chtml/part05/sect_6.2.html#sect_6.2.1.2, or, in pydicom 2.2.0 or later, use the pydicom.valuerep.PersonName.from_named_components() method to construct the person name correctly. If a single-component name is really intended, add a trailing caret character to disambiguate the name.\n",
            "  check_person_name(patient_name)\n",
            "WARNING:pydicom:A value of type 'tuple' cannot be assigned to a tag with VR LO.\n",
            "/usr/local/lib/python3.11/dist-packages/pydicom/valuerep.py:440: UserWarning: A value of type 'tuple' cannot be assigned to a tag with VR LO.\n",
            "  warn_and_log(msg)\n",
            "WARNING:pydicom:A value of type 'tuple' cannot be assigned to a tag with VR LO.\n"
          ]
        },
        {
          "output_type": "stream",
          "name": "stdout",
          "text": [
            "FrameOfReferenceUID: 1.3.6.1.4.1.14519.5.2.1.7311.5101.153164577197986084072563254666\n",
            "Parsing 2.505 57.0002 -9.38642\n",
            "Parsing 11.2381 21.7529 -40.6015\n",
            "Parsing -0.459897 49.843 -23.0353\n",
            "3\n",
            "Copying file:///content/sr/ProstateX-0105_1.3.6.1.4.1.14519.5.2.1.7311.5101.629057884696444074281659410025.dcm [Content-Type=application/dicom]...\n",
            "/ [1 files][  6.5 KiB/  6.5 KiB]                                                \n",
            "Operation completed over 1 objects/6.5 KiB.                                      \n",
            "********** On patient: ProstateX-0106 **********\n",
            "num_series: 1\n",
            "***** On series: 1.3.6.1.4.1.14519.5.2.1.7311.5101.276959752243390681174198503432 *****\n",
            "SeriesInstanceUID: 1.3.6.1.4.1.14519.5.2.1.7311.5101.276959752243390681174198503432\n"
          ]
        },
        {
          "output_type": "stream",
          "name": "stderr",
          "text": [
            "Downloading data: 100%|█████████▉| 5.68M/5.68M [00:01<00:00, 5.65MB/s]\n",
            "/usr/local/lib/python3.11/dist-packages/highdicom/base.py:163: UserWarning: The string \"ProstateX-0106\" is unlikely to represent the intended person name since it contains only a single component. Construct a person name according to the format in described in https://dicom.nema.org/dicom/2013/output/chtml/part05/sect_6.2.html#sect_6.2.1.2, or, in pydicom 2.2.0 or later, use the pydicom.valuerep.PersonName.from_named_components() method to construct the person name correctly. If a single-component name is really intended, add a trailing caret character to disambiguate the name.\n",
            "  check_person_name(patient_name)\n",
            "WARNING:pydicom:A value of type 'tuple' cannot be assigned to a tag with VR LO.\n",
            "/usr/local/lib/python3.11/dist-packages/pydicom/valuerep.py:440: UserWarning: A value of type 'tuple' cannot be assigned to a tag with VR LO.\n",
            "  warn_and_log(msg)\n",
            "WARNING:pydicom:A value of type 'tuple' cannot be assigned to a tag with VR LO.\n"
          ]
        },
        {
          "output_type": "stream",
          "name": "stdout",
          "text": [
            "FrameOfReferenceUID: 1.3.6.1.4.1.14519.5.2.1.7311.5101.327691883786680290926734832737\n",
            "Parsing 24.5215 11.1916 4.30617\n",
            "Parsing 11.6356 42.7856 21.9458\n",
            "2\n",
            "Copying file:///content/sr/ProstateX-0106_1.3.6.1.4.1.14519.5.2.1.7311.5101.276959752243390681174198503432.dcm [Content-Type=application/dicom]...\n",
            "/ [1 files][  5.5 KiB/  5.5 KiB]                                                \n",
            "Operation completed over 1 objects/5.5 KiB.                                      \n",
            "********** On patient: ProstateX-0107 **********\n",
            "num_series: 1\n",
            "***** On series: 1.3.6.1.4.1.14519.5.2.1.7311.5101.138689767490385276541690275238 *****\n",
            "SeriesInstanceUID: 1.3.6.1.4.1.14519.5.2.1.7311.5101.138689767490385276541690275238\n"
          ]
        },
        {
          "output_type": "stream",
          "name": "stderr",
          "text": [
            "Downloading data: 100%|██████████| 4.80M/4.80M [00:01<00:00, 4.78MB/s]\n",
            "/usr/local/lib/python3.11/dist-packages/highdicom/base.py:163: UserWarning: The string \"ProstateX-0107\" is unlikely to represent the intended person name since it contains only a single component. Construct a person name according to the format in described in https://dicom.nema.org/dicom/2013/output/chtml/part05/sect_6.2.html#sect_6.2.1.2, or, in pydicom 2.2.0 or later, use the pydicom.valuerep.PersonName.from_named_components() method to construct the person name correctly. If a single-component name is really intended, add a trailing caret character to disambiguate the name.\n",
            "  check_person_name(patient_name)\n",
            "WARNING:pydicom:A value of type 'tuple' cannot be assigned to a tag with VR LO.\n",
            "/usr/local/lib/python3.11/dist-packages/pydicom/valuerep.py:440: UserWarning: A value of type 'tuple' cannot be assigned to a tag with VR LO.\n",
            "  warn_and_log(msg)\n",
            "WARNING:pydicom:A value of type 'tuple' cannot be assigned to a tag with VR LO.\n"
          ]
        },
        {
          "output_type": "stream",
          "name": "stdout",
          "text": [
            "FrameOfReferenceUID: 1.3.6.1.4.1.14519.5.2.1.7311.5101.305256869515745324614454182269\n",
            "Parsing 16.0066 21.7955 66.6332\n",
            "1\n",
            "Copying file:///content/sr/ProstateX-0107_1.3.6.1.4.1.14519.5.2.1.7311.5101.138689767490385276541690275238.dcm [Content-Type=application/dicom]...\n",
            "/ [1 files][  4.4 KiB/  4.4 KiB]                                                \n",
            "Operation completed over 1 objects/4.4 KiB.                                      \n",
            "********** On patient: ProstateX-0108 **********\n",
            "num_series: 1\n",
            "***** On series: 1.3.6.1.4.1.14519.5.2.1.7311.5101.550442475515580084796174510739 *****\n",
            "SeriesInstanceUID: 1.3.6.1.4.1.14519.5.2.1.7311.5101.550442475515580084796174510739\n"
          ]
        },
        {
          "output_type": "stream",
          "name": "stderr",
          "text": [
            "Downloading data: 100%|█████████▉| 6.28M/6.28M [00:01<00:00, 6.25MB/s]\n",
            "/usr/local/lib/python3.11/dist-packages/highdicom/base.py:163: UserWarning: The string \"ProstateX-0108\" is unlikely to represent the intended person name since it contains only a single component. Construct a person name according to the format in described in https://dicom.nema.org/dicom/2013/output/chtml/part05/sect_6.2.html#sect_6.2.1.2, or, in pydicom 2.2.0 or later, use the pydicom.valuerep.PersonName.from_named_components() method to construct the person name correctly. If a single-component name is really intended, add a trailing caret character to disambiguate the name.\n",
            "  check_person_name(patient_name)\n",
            "WARNING:pydicom:A value of type 'tuple' cannot be assigned to a tag with VR LO.\n",
            "/usr/local/lib/python3.11/dist-packages/pydicom/valuerep.py:440: UserWarning: A value of type 'tuple' cannot be assigned to a tag with VR LO.\n",
            "  warn_and_log(msg)\n",
            "WARNING:pydicom:A value of type 'tuple' cannot be assigned to a tag with VR LO.\n"
          ]
        },
        {
          "output_type": "stream",
          "name": "stdout",
          "text": [
            "FrameOfReferenceUID: 1.3.6.1.4.1.14519.5.2.1.7311.5101.156840704526278403998829762087\n",
            "Parsing -27.5928 29.585 21.3175\n",
            "Parsing 1.77016 12.1011 14.193\n",
            "2\n",
            "Copying file:///content/sr/ProstateX-0108_1.3.6.1.4.1.14519.5.2.1.7311.5101.550442475515580084796174510739.dcm [Content-Type=application/dicom]...\n",
            "/ [1 files][  5.5 KiB/  5.5 KiB]                                                \n",
            "Operation completed over 1 objects/5.5 KiB.                                      \n",
            "********** On patient: ProstateX-0109 **********\n",
            "num_series: 1\n",
            "***** On series: 1.3.6.1.4.1.14519.5.2.1.7311.5101.915211281684168977118704306498 *****\n",
            "SeriesInstanceUID: 1.3.6.1.4.1.14519.5.2.1.7311.5101.915211281684168977118704306498\n"
          ]
        },
        {
          "output_type": "stream",
          "name": "stderr",
          "text": [
            "Downloading data: 100%|█████████▉| 5.68M/5.68M [00:01<00:00, 5.64MB/s]\n",
            "/usr/local/lib/python3.11/dist-packages/highdicom/base.py:163: UserWarning: The string \"ProstateX-0109\" is unlikely to represent the intended person name since it contains only a single component. Construct a person name according to the format in described in https://dicom.nema.org/dicom/2013/output/chtml/part05/sect_6.2.html#sect_6.2.1.2, or, in pydicom 2.2.0 or later, use the pydicom.valuerep.PersonName.from_named_components() method to construct the person name correctly. If a single-component name is really intended, add a trailing caret character to disambiguate the name.\n",
            "  check_person_name(patient_name)\n",
            "WARNING:pydicom:A value of type 'tuple' cannot be assigned to a tag with VR LO.\n",
            "/usr/local/lib/python3.11/dist-packages/pydicom/valuerep.py:440: UserWarning: A value of type 'tuple' cannot be assigned to a tag with VR LO.\n",
            "  warn_and_log(msg)\n",
            "WARNING:pydicom:A value of type 'tuple' cannot be assigned to a tag with VR LO.\n"
          ]
        },
        {
          "output_type": "stream",
          "name": "stdout",
          "text": [
            "FrameOfReferenceUID: 1.3.6.1.4.1.14519.5.2.1.7311.5101.313227522235229353322292761337\n",
            "Parsing 20.0185 26.1513 -90.6109\n",
            "Parsing 17.4632 26.7037 -74.6612\n",
            "2\n",
            "Copying file:///content/sr/ProstateX-0109_1.3.6.1.4.1.14519.5.2.1.7311.5101.915211281684168977118704306498.dcm [Content-Type=application/dicom]...\n",
            "/ [1 files][  5.5 KiB/  5.5 KiB]                                                \n",
            "Operation completed over 1 objects/5.5 KiB.                                      \n",
            "********** On patient: ProstateX-0110 **********\n",
            "num_series: 1\n",
            "***** On series: 1.3.6.1.4.1.14519.5.2.1.7311.5101.972587624360040843943663321466 *****\n",
            "SeriesInstanceUID: 1.3.6.1.4.1.14519.5.2.1.7311.5101.972587624360040843943663321466\n"
          ]
        },
        {
          "output_type": "stream",
          "name": "stderr",
          "text": [
            "Downloading data: 100%|█████████▉| 5.68M/5.68M [00:01<00:00, 5.65MB/s]\n",
            "/usr/local/lib/python3.11/dist-packages/highdicom/base.py:163: UserWarning: The string \"ProstateX-0110\" is unlikely to represent the intended person name since it contains only a single component. Construct a person name according to the format in described in https://dicom.nema.org/dicom/2013/output/chtml/part05/sect_6.2.html#sect_6.2.1.2, or, in pydicom 2.2.0 or later, use the pydicom.valuerep.PersonName.from_named_components() method to construct the person name correctly. If a single-component name is really intended, add a trailing caret character to disambiguate the name.\n",
            "  check_person_name(patient_name)\n",
            "WARNING:pydicom:A value of type 'tuple' cannot be assigned to a tag with VR LO.\n",
            "/usr/local/lib/python3.11/dist-packages/pydicom/valuerep.py:440: UserWarning: A value of type 'tuple' cannot be assigned to a tag with VR LO.\n",
            "  warn_and_log(msg)\n",
            "WARNING:pydicom:A value of type 'tuple' cannot be assigned to a tag with VR LO.\n"
          ]
        },
        {
          "output_type": "stream",
          "name": "stdout",
          "text": [
            "FrameOfReferenceUID: 1.3.6.1.4.1.14519.5.2.1.7311.5101.287062533806911292216404689214\n",
            "Parsing 11.624 16.5662 -11.7145\n",
            "Parsing 36.5453 0.29481 -20.3736\n",
            "2\n",
            "Copying file:///content/sr/ProstateX-0110_1.3.6.1.4.1.14519.5.2.1.7311.5101.972587624360040843943663321466.dcm [Content-Type=application/dicom]...\n",
            "/ [1 files][  5.3 KiB/  5.3 KiB]                                                \n",
            "Operation completed over 1 objects/5.3 KiB.                                      \n",
            "********** On patient: ProstateX-0111 **********\n",
            "num_series: 1\n",
            "***** On series: 1.3.6.1.4.1.14519.5.2.1.7311.5101.312442050391027773578890036831 *****\n",
            "SeriesInstanceUID: 1.3.6.1.4.1.14519.5.2.1.7311.5101.312442050391027773578890036831\n"
          ]
        },
        {
          "output_type": "stream",
          "name": "stderr",
          "text": [
            "Downloading data: 100%|█████████▉| 5.68M/5.68M [00:01<00:00, 5.66MB/s]\n",
            "/usr/local/lib/python3.11/dist-packages/highdicom/base.py:163: UserWarning: The string \"ProstateX-0111\" is unlikely to represent the intended person name since it contains only a single component. Construct a person name according to the format in described in https://dicom.nema.org/dicom/2013/output/chtml/part05/sect_6.2.html#sect_6.2.1.2, or, in pydicom 2.2.0 or later, use the pydicom.valuerep.PersonName.from_named_components() method to construct the person name correctly. If a single-component name is really intended, add a trailing caret character to disambiguate the name.\n",
            "  check_person_name(patient_name)\n",
            "WARNING:pydicom:A value of type 'tuple' cannot be assigned to a tag with VR LO.\n",
            "/usr/local/lib/python3.11/dist-packages/pydicom/valuerep.py:440: UserWarning: A value of type 'tuple' cannot be assigned to a tag with VR LO.\n",
            "  warn_and_log(msg)\n",
            "WARNING:pydicom:A value of type 'tuple' cannot be assigned to a tag with VR LO.\n"
          ]
        },
        {
          "output_type": "stream",
          "name": "stdout",
          "text": [
            "FrameOfReferenceUID: 1.3.6.1.4.1.14519.5.2.1.7311.5101.188921278523579916195657283226\n",
            "Parsing -24.6808 5.65637 -33.5395\n",
            "1\n",
            "Copying file:///content/sr/ProstateX-0111_1.3.6.1.4.1.14519.5.2.1.7311.5101.312442050391027773578890036831.dcm [Content-Type=application/dicom]...\n",
            "/ [1 files][  4.4 KiB/  4.4 KiB]                                                \n",
            "Operation completed over 1 objects/4.4 KiB.                                      \n",
            "********** On patient: ProstateX-0112 **********\n",
            "num_series: 1\n",
            "***** On series: 1.3.6.1.4.1.14519.5.2.1.7311.5101.322192860849906453257530108507 *****\n",
            "SeriesInstanceUID: 1.3.6.1.4.1.14519.5.2.1.7311.5101.322192860849906453257530108507\n"
          ]
        },
        {
          "output_type": "stream",
          "name": "stderr",
          "text": [
            "Downloading data: 100%|█████████▉| 6.28M/6.28M [00:01<00:00, 6.25MB/s]\n",
            "/usr/local/lib/python3.11/dist-packages/highdicom/base.py:163: UserWarning: The string \"ProstateX-0112\" is unlikely to represent the intended person name since it contains only a single component. Construct a person name according to the format in described in https://dicom.nema.org/dicom/2013/output/chtml/part05/sect_6.2.html#sect_6.2.1.2, or, in pydicom 2.2.0 or later, use the pydicom.valuerep.PersonName.from_named_components() method to construct the person name correctly. If a single-component name is really intended, add a trailing caret character to disambiguate the name.\n",
            "  check_person_name(patient_name)\n",
            "WARNING:pydicom:A value of type 'tuple' cannot be assigned to a tag with VR LO.\n",
            "/usr/local/lib/python3.11/dist-packages/pydicom/valuerep.py:440: UserWarning: A value of type 'tuple' cannot be assigned to a tag with VR LO.\n",
            "  warn_and_log(msg)\n",
            "WARNING:pydicom:A value of type 'tuple' cannot be assigned to a tag with VR LO.\n"
          ]
        },
        {
          "output_type": "stream",
          "name": "stdout",
          "text": [
            "FrameOfReferenceUID: 1.3.6.1.4.1.14519.5.2.1.7311.5101.142155389539470053550998002115\n",
            "Parsing 27.1693 28.6715 -8.77407\n",
            "1\n",
            "Copying file:///content/sr/ProstateX-0112_1.3.6.1.4.1.14519.5.2.1.7311.5101.322192860849906453257530108507.dcm [Content-Type=application/dicom]...\n",
            "/ [1 files][  4.4 KiB/  4.4 KiB]                                                \n",
            "Operation completed over 1 objects/4.4 KiB.                                      \n",
            "********** On patient: ProstateX-0113 **********\n",
            "num_series: 1\n",
            "***** On series: 1.3.6.1.4.1.14519.5.2.1.7311.5101.295208076003566232058005456003 *****\n",
            "SeriesInstanceUID: 1.3.6.1.4.1.14519.5.2.1.7311.5101.295208076003566232058005456003\n"
          ]
        },
        {
          "output_type": "stream",
          "name": "stderr",
          "text": [
            "Downloading data: 100%|█████████▉| 6.28M/6.28M [00:01<00:00, 6.26MB/s]\n",
            "/usr/local/lib/python3.11/dist-packages/highdicom/base.py:163: UserWarning: The string \"ProstateX-0113\" is unlikely to represent the intended person name since it contains only a single component. Construct a person name according to the format in described in https://dicom.nema.org/dicom/2013/output/chtml/part05/sect_6.2.html#sect_6.2.1.2, or, in pydicom 2.2.0 or later, use the pydicom.valuerep.PersonName.from_named_components() method to construct the person name correctly. If a single-component name is really intended, add a trailing caret character to disambiguate the name.\n",
            "  check_person_name(patient_name)\n",
            "WARNING:pydicom:A value of type 'tuple' cannot be assigned to a tag with VR LO.\n",
            "/usr/local/lib/python3.11/dist-packages/pydicom/valuerep.py:440: UserWarning: A value of type 'tuple' cannot be assigned to a tag with VR LO.\n",
            "  warn_and_log(msg)\n",
            "WARNING:pydicom:A value of type 'tuple' cannot be assigned to a tag with VR LO.\n"
          ]
        },
        {
          "output_type": "stream",
          "name": "stdout",
          "text": [
            "FrameOfReferenceUID: 1.3.6.1.4.1.14519.5.2.1.7311.5101.271157060012862635816842819917\n",
            "Parsing -9.65632 52.8802 -83.0514\n",
            "1\n",
            "Copying file:///content/sr/ProstateX-0113_1.3.6.1.4.1.14519.5.2.1.7311.5101.295208076003566232058005456003.dcm [Content-Type=application/dicom]...\n",
            "/ [1 files][  4.4 KiB/  4.4 KiB]                                                \n",
            "Operation completed over 1 objects/4.4 KiB.                                      \n",
            "********** On patient: ProstateX-0114 **********\n",
            "num_series: 1\n",
            "***** On series: 1.3.6.1.4.1.14519.5.2.1.7311.5101.369017036589955758238824664960 *****\n",
            "SeriesInstanceUID: 1.3.6.1.4.1.14519.5.2.1.7311.5101.369017036589955758238824664960\n"
          ]
        },
        {
          "output_type": "stream",
          "name": "stderr",
          "text": [
            "Downloading data: 100%|█████████▉| 5.68M/5.68M [00:01<00:00, 5.66MB/s]\n",
            "/usr/local/lib/python3.11/dist-packages/highdicom/base.py:163: UserWarning: The string \"ProstateX-0114\" is unlikely to represent the intended person name since it contains only a single component. Construct a person name according to the format in described in https://dicom.nema.org/dicom/2013/output/chtml/part05/sect_6.2.html#sect_6.2.1.2, or, in pydicom 2.2.0 or later, use the pydicom.valuerep.PersonName.from_named_components() method to construct the person name correctly. If a single-component name is really intended, add a trailing caret character to disambiguate the name.\n",
            "  check_person_name(patient_name)\n",
            "WARNING:pydicom:A value of type 'tuple' cannot be assigned to a tag with VR LO.\n",
            "/usr/local/lib/python3.11/dist-packages/pydicom/valuerep.py:440: UserWarning: A value of type 'tuple' cannot be assigned to a tag with VR LO.\n",
            "  warn_and_log(msg)\n",
            "WARNING:pydicom:A value of type 'tuple' cannot be assigned to a tag with VR LO.\n"
          ]
        },
        {
          "output_type": "stream",
          "name": "stdout",
          "text": [
            "FrameOfReferenceUID: 1.3.6.1.4.1.14519.5.2.1.7311.5101.394530235409912010440219693926\n",
            "Parsing 2.67505 25.9603 70.4981\n",
            "Parsing -14.88771 30.1409 54.3214\n",
            "2\n",
            "Copying file:///content/sr/ProstateX-0114_1.3.6.1.4.1.14519.5.2.1.7311.5101.369017036589955758238824664960.dcm [Content-Type=application/dicom]...\n",
            "/ [1 files][  5.5 KiB/  5.5 KiB]                                                \n",
            "Operation completed over 1 objects/5.5 KiB.                                      \n",
            "********** On patient: ProstateX-0115 **********\n",
            "num_series: 1\n",
            "***** On series: 1.3.6.1.4.1.14519.5.2.1.7311.5101.130874669996556555852519436588 *****\n",
            "SeriesInstanceUID: 1.3.6.1.4.1.14519.5.2.1.7311.5101.130874669996556555852519436588\n"
          ]
        },
        {
          "output_type": "stream",
          "name": "stderr",
          "text": [
            "Downloading data: 100%|█████████▉| 5.68M/5.68M [00:01<00:00, 5.64MB/s]\n",
            "/usr/local/lib/python3.11/dist-packages/highdicom/base.py:163: UserWarning: The string \"ProstateX-0115\" is unlikely to represent the intended person name since it contains only a single component. Construct a person name according to the format in described in https://dicom.nema.org/dicom/2013/output/chtml/part05/sect_6.2.html#sect_6.2.1.2, or, in pydicom 2.2.0 or later, use the pydicom.valuerep.PersonName.from_named_components() method to construct the person name correctly. If a single-component name is really intended, add a trailing caret character to disambiguate the name.\n",
            "  check_person_name(patient_name)\n",
            "WARNING:pydicom:A value of type 'tuple' cannot be assigned to a tag with VR LO.\n",
            "/usr/local/lib/python3.11/dist-packages/pydicom/valuerep.py:440: UserWarning: A value of type 'tuple' cannot be assigned to a tag with VR LO.\n",
            "  warn_and_log(msg)\n",
            "WARNING:pydicom:A value of type 'tuple' cannot be assigned to a tag with VR LO.\n"
          ]
        },
        {
          "output_type": "stream",
          "name": "stdout",
          "text": [
            "FrameOfReferenceUID: 1.3.6.1.4.1.14519.5.2.1.7311.5101.708523162106622263683109719637\n",
            "Parsing -46.3136 16.0335 -18.7278\n",
            "1\n",
            "Copying file:///content/sr/ProstateX-0115_1.3.6.1.4.1.14519.5.2.1.7311.5101.130874669996556555852519436588.dcm [Content-Type=application/dicom]...\n",
            "/ [1 files][  4.4 KiB/  4.4 KiB]                                                \n",
            "Operation completed over 1 objects/4.4 KiB.                                      \n",
            "********** On patient: ProstateX-0116 **********\n",
            "num_series: 1\n",
            "***** On series: 1.3.6.1.4.1.14519.5.2.1.7311.5101.795098917620624521288839241482 *****\n",
            "SeriesInstanceUID: 1.3.6.1.4.1.14519.5.2.1.7311.5101.795098917620624521288839241482\n"
          ]
        },
        {
          "output_type": "stream",
          "name": "stderr",
          "text": [
            "Downloading data: 100%|█████████▉| 4.39M/4.39M [00:01<00:00, 4.37MB/s]\n",
            "/usr/local/lib/python3.11/dist-packages/highdicom/base.py:163: UserWarning: The string \"ProstateX-0116\" is unlikely to represent the intended person name since it contains only a single component. Construct a person name according to the format in described in https://dicom.nema.org/dicom/2013/output/chtml/part05/sect_6.2.html#sect_6.2.1.2, or, in pydicom 2.2.0 or later, use the pydicom.valuerep.PersonName.from_named_components() method to construct the person name correctly. If a single-component name is really intended, add a trailing caret character to disambiguate the name.\n",
            "  check_person_name(patient_name)\n",
            "WARNING:pydicom:A value of type 'tuple' cannot be assigned to a tag with VR LO.\n",
            "/usr/local/lib/python3.11/dist-packages/pydicom/valuerep.py:440: UserWarning: A value of type 'tuple' cannot be assigned to a tag with VR LO.\n",
            "  warn_and_log(msg)\n",
            "WARNING:pydicom:A value of type 'tuple' cannot be assigned to a tag with VR LO.\n"
          ]
        },
        {
          "output_type": "stream",
          "name": "stdout",
          "text": [
            "FrameOfReferenceUID: 1.3.6.1.4.1.14519.5.2.1.7311.5101.159166265969733407584468553738\n",
            "Parsing 16.1963 -4.17941 25.4894\n",
            "1\n",
            "Copying file:///content/sr/ProstateX-0116_1.3.6.1.4.1.14519.5.2.1.7311.5101.795098917620624521288839241482.dcm [Content-Type=application/dicom]...\n",
            "/ [1 files][  4.4 KiB/  4.4 KiB]                                                \n",
            "Operation completed over 1 objects/4.4 KiB.                                      \n",
            "********** On patient: ProstateX-0117 **********\n",
            "num_series: 1\n",
            "***** On series: 1.3.6.1.4.1.14519.5.2.1.7311.5101.101130890931274399577478152963 *****\n",
            "SeriesInstanceUID: 1.3.6.1.4.1.14519.5.2.1.7311.5101.101130890931274399577478152963\n"
          ]
        },
        {
          "output_type": "stream",
          "name": "stderr",
          "text": [
            "Downloading data: 100%|██████████| 6.87M/6.87M [00:01<00:00, 6.84MB/s]\n",
            "/usr/local/lib/python3.11/dist-packages/highdicom/base.py:163: UserWarning: The string \"ProstateX-0117\" is unlikely to represent the intended person name since it contains only a single component. Construct a person name according to the format in described in https://dicom.nema.org/dicom/2013/output/chtml/part05/sect_6.2.html#sect_6.2.1.2, or, in pydicom 2.2.0 or later, use the pydicom.valuerep.PersonName.from_named_components() method to construct the person name correctly. If a single-component name is really intended, add a trailing caret character to disambiguate the name.\n",
            "  check_person_name(patient_name)\n",
            "WARNING:pydicom:A value of type 'tuple' cannot be assigned to a tag with VR LO.\n",
            "/usr/local/lib/python3.11/dist-packages/pydicom/valuerep.py:440: UserWarning: A value of type 'tuple' cannot be assigned to a tag with VR LO.\n",
            "  warn_and_log(msg)\n",
            "WARNING:pydicom:A value of type 'tuple' cannot be assigned to a tag with VR LO.\n"
          ]
        },
        {
          "output_type": "stream",
          "name": "stdout",
          "text": [
            "FrameOfReferenceUID: 1.3.6.1.4.1.14519.5.2.1.7311.5101.314161688767732124001654580602\n",
            "Parsing 26.7378 24.0652 -34.8602\n",
            "Parsing 25.9078 38.5042 -46.8451\n",
            "2\n",
            "Copying file:///content/sr/ProstateX-0117_1.3.6.1.4.1.14519.5.2.1.7311.5101.101130890931274399577478152963.dcm [Content-Type=application/dicom]...\n",
            "/ [1 files][  5.5 KiB/  5.5 KiB]                                                \n",
            "Operation completed over 1 objects/5.5 KiB.                                      \n",
            "********** On patient: ProstateX-0118 **********\n",
            "num_series: 1\n",
            "***** On series: 1.3.6.1.4.1.14519.5.2.1.7311.5101.156910737340231640626298466189 *****\n",
            "SeriesInstanceUID: 1.3.6.1.4.1.14519.5.2.1.7311.5101.156910737340231640626298466189\n"
          ]
        },
        {
          "output_type": "stream",
          "name": "stderr",
          "text": [
            "Downloading data: 100%|██████████| 6.87M/6.87M [00:01<00:00, 6.84MB/s]\n",
            "/usr/local/lib/python3.11/dist-packages/highdicom/base.py:163: UserWarning: The string \"ProstateX-0118\" is unlikely to represent the intended person name since it contains only a single component. Construct a person name according to the format in described in https://dicom.nema.org/dicom/2013/output/chtml/part05/sect_6.2.html#sect_6.2.1.2, or, in pydicom 2.2.0 or later, use the pydicom.valuerep.PersonName.from_named_components() method to construct the person name correctly. If a single-component name is really intended, add a trailing caret character to disambiguate the name.\n",
            "  check_person_name(patient_name)\n",
            "WARNING:pydicom:A value of type 'tuple' cannot be assigned to a tag with VR LO.\n",
            "/usr/local/lib/python3.11/dist-packages/pydicom/valuerep.py:440: UserWarning: A value of type 'tuple' cannot be assigned to a tag with VR LO.\n",
            "  warn_and_log(msg)\n",
            "WARNING:pydicom:A value of type 'tuple' cannot be assigned to a tag with VR LO.\n"
          ]
        },
        {
          "output_type": "stream",
          "name": "stdout",
          "text": [
            "FrameOfReferenceUID: 1.3.6.1.4.1.14519.5.2.1.7311.5101.292065153720829989989372472665\n",
            "Parsing -6.04971 29.5813 -2.45722\n",
            "Parsing 1.47874 47.7366 -6.48214\n",
            "2\n",
            "Copying file:///content/sr/ProstateX-0118_1.3.6.1.4.1.14519.5.2.1.7311.5101.156910737340231640626298466189.dcm [Content-Type=application/dicom]...\n",
            "/ [1 files][  5.5 KiB/  5.5 KiB]                                                \n",
            "Operation completed over 1 objects/5.5 KiB.                                      \n",
            "********** On patient: ProstateX-0119 **********\n",
            "num_series: 1\n",
            "***** On series: 1.3.6.1.4.1.14519.5.2.1.7311.5101.233981388543370190172245731393 *****\n",
            "SeriesInstanceUID: 1.3.6.1.4.1.14519.5.2.1.7311.5101.233981388543370190172245731393\n"
          ]
        },
        {
          "output_type": "stream",
          "name": "stderr",
          "text": [
            "Downloading data: 100%|██████████| 6.87M/6.87M [00:01<00:00, 6.84MB/s]\n",
            "/usr/local/lib/python3.11/dist-packages/highdicom/base.py:163: UserWarning: The string \"ProstateX-0119\" is unlikely to represent the intended person name since it contains only a single component. Construct a person name according to the format in described in https://dicom.nema.org/dicom/2013/output/chtml/part05/sect_6.2.html#sect_6.2.1.2, or, in pydicom 2.2.0 or later, use the pydicom.valuerep.PersonName.from_named_components() method to construct the person name correctly. If a single-component name is really intended, add a trailing caret character to disambiguate the name.\n",
            "  check_person_name(patient_name)\n",
            "WARNING:pydicom:A value of type 'tuple' cannot be assigned to a tag with VR LO.\n",
            "/usr/local/lib/python3.11/dist-packages/pydicom/valuerep.py:440: UserWarning: A value of type 'tuple' cannot be assigned to a tag with VR LO.\n",
            "  warn_and_log(msg)\n",
            "WARNING:pydicom:A value of type 'tuple' cannot be assigned to a tag with VR LO.\n"
          ]
        },
        {
          "output_type": "stream",
          "name": "stdout",
          "text": [
            "FrameOfReferenceUID: 1.3.6.1.4.1.14519.5.2.1.7311.5101.113009932794557985638201908119\n",
            "Parsing 11.5495 24.2404 -21.4808\n",
            "1\n",
            "Copying file:///content/sr/ProstateX-0119_1.3.6.1.4.1.14519.5.2.1.7311.5101.233981388543370190172245731393.dcm [Content-Type=application/dicom]...\n",
            "/ [1 files][  4.4 KiB/  4.4 KiB]                                                \n",
            "Operation completed over 1 objects/4.4 KiB.                                      \n",
            "********** On patient: ProstateX-0120 **********\n",
            "num_series: 1\n",
            "***** On series: 1.3.6.1.4.1.14519.5.2.1.7311.5101.109177039401754943775885602055 *****\n",
            "SeriesInstanceUID: 1.3.6.1.4.1.14519.5.2.1.7311.5101.109177039401754943775885602055\n"
          ]
        },
        {
          "output_type": "stream",
          "name": "stderr",
          "text": [
            "Downloading data: 100%|██████████| 7.47M/7.47M [00:01<00:00, 7.44MB/s]\n",
            "/usr/local/lib/python3.11/dist-packages/highdicom/base.py:163: UserWarning: The string \"ProstateX-0120\" is unlikely to represent the intended person name since it contains only a single component. Construct a person name according to the format in described in https://dicom.nema.org/dicom/2013/output/chtml/part05/sect_6.2.html#sect_6.2.1.2, or, in pydicom 2.2.0 or later, use the pydicom.valuerep.PersonName.from_named_components() method to construct the person name correctly. If a single-component name is really intended, add a trailing caret character to disambiguate the name.\n",
            "  check_person_name(patient_name)\n",
            "WARNING:pydicom:A value of type 'tuple' cannot be assigned to a tag with VR LO.\n",
            "/usr/local/lib/python3.11/dist-packages/pydicom/valuerep.py:440: UserWarning: A value of type 'tuple' cannot be assigned to a tag with VR LO.\n",
            "  warn_and_log(msg)\n",
            "WARNING:pydicom:A value of type 'tuple' cannot be assigned to a tag with VR LO.\n"
          ]
        },
        {
          "output_type": "stream",
          "name": "stdout",
          "text": [
            "FrameOfReferenceUID: 1.3.6.1.4.1.14519.5.2.1.7311.5101.193118715523845639290902451205\n",
            "Parsing -1.91096 5.55627 41.5569\n",
            "Parsing 3.35409 45.6561 58.27\n",
            "2\n",
            "Copying file:///content/sr/ProstateX-0120_1.3.6.1.4.1.14519.5.2.1.7311.5101.109177039401754943775885602055.dcm [Content-Type=application/dicom]...\n",
            "/ [1 files][  5.5 KiB/  5.5 KiB]                                                \n",
            "Operation completed over 1 objects/5.5 KiB.                                      \n",
            "********** On patient: ProstateX-0121 **********\n",
            "num_series: 1\n",
            "***** On series: 1.3.6.1.4.1.14519.5.2.1.7311.5101.180650601474055581355948988643 *****\n",
            "SeriesInstanceUID: 1.3.6.1.4.1.14519.5.2.1.7311.5101.180650601474055581355948988643\n"
          ]
        },
        {
          "output_type": "stream",
          "name": "stderr",
          "text": [
            "Downloading data: 100%|█████████▉| 6.28M/6.28M [00:01<00:00, 6.26MB/s]\n",
            "/usr/local/lib/python3.11/dist-packages/highdicom/base.py:163: UserWarning: The string \"ProstateX-0121\" is unlikely to represent the intended person name since it contains only a single component. Construct a person name according to the format in described in https://dicom.nema.org/dicom/2013/output/chtml/part05/sect_6.2.html#sect_6.2.1.2, or, in pydicom 2.2.0 or later, use the pydicom.valuerep.PersonName.from_named_components() method to construct the person name correctly. If a single-component name is really intended, add a trailing caret character to disambiguate the name.\n",
            "  check_person_name(patient_name)\n",
            "WARNING:pydicom:A value of type 'tuple' cannot be assigned to a tag with VR LO.\n",
            "/usr/local/lib/python3.11/dist-packages/pydicom/valuerep.py:440: UserWarning: A value of type 'tuple' cannot be assigned to a tag with VR LO.\n",
            "  warn_and_log(msg)\n",
            "WARNING:pydicom:A value of type 'tuple' cannot be assigned to a tag with VR LO.\n"
          ]
        },
        {
          "output_type": "stream",
          "name": "stdout",
          "text": [
            "FrameOfReferenceUID: 1.3.6.1.4.1.14519.5.2.1.7311.5101.850606399861645450646408912282\n",
            "Parsing 6.99026622772217 6.90991668701172 12.8546207427978\n",
            "Parsing 31.8466 21.8933 -8.14504\n",
            "2\n",
            "Copying file:///content/sr/ProstateX-0121_1.3.6.1.4.1.14519.5.2.1.7311.5101.180650601474055581355948988643.dcm [Content-Type=application/dicom]...\n",
            "/ [1 files][  5.5 KiB/  5.5 KiB]                                                \n",
            "Operation completed over 1 objects/5.5 KiB.                                      \n",
            "********** On patient: ProstateX-0122 **********\n",
            "num_series: 1\n",
            "***** On series: 1.3.6.1.4.1.14519.5.2.1.7311.5101.630584421787232290645088959150 *****\n",
            "SeriesInstanceUID: 1.3.6.1.4.1.14519.5.2.1.7311.5101.630584421787232290645088959150\n"
          ]
        },
        {
          "output_type": "stream",
          "name": "stderr",
          "text": [
            "Downloading data: 100%|█████████▉| 5.68M/5.68M [00:01<00:00, 5.66MB/s]\n",
            "/usr/local/lib/python3.11/dist-packages/highdicom/base.py:163: UserWarning: The string \"ProstateX-0122\" is unlikely to represent the intended person name since it contains only a single component. Construct a person name according to the format in described in https://dicom.nema.org/dicom/2013/output/chtml/part05/sect_6.2.html#sect_6.2.1.2, or, in pydicom 2.2.0 or later, use the pydicom.valuerep.PersonName.from_named_components() method to construct the person name correctly. If a single-component name is really intended, add a trailing caret character to disambiguate the name.\n",
            "  check_person_name(patient_name)\n",
            "WARNING:pydicom:A value of type 'tuple' cannot be assigned to a tag with VR LO.\n",
            "/usr/local/lib/python3.11/dist-packages/pydicom/valuerep.py:440: UserWarning: A value of type 'tuple' cannot be assigned to a tag with VR LO.\n",
            "  warn_and_log(msg)\n",
            "WARNING:pydicom:A value of type 'tuple' cannot be assigned to a tag with VR LO.\n"
          ]
        },
        {
          "output_type": "stream",
          "name": "stdout",
          "text": [
            "FrameOfReferenceUID: 1.3.6.1.4.1.14519.5.2.1.7311.5101.101351288566512087436043839723\n",
            "Parsing  -33.498 -0.413876442871094 -14.3014344573975\n",
            "Parsing -34.0512 14.0026 -42.5558\n",
            "2\n",
            "Copying file:///content/sr/ProstateX-0122_1.3.6.1.4.1.14519.5.2.1.7311.5101.630584421787232290645088959150.dcm [Content-Type=application/dicom]...\n",
            "/ [1 files][  5.5 KiB/  5.5 KiB]                                                \n",
            "Operation completed over 1 objects/5.5 KiB.                                      \n",
            "********** On patient: ProstateX-0123 **********\n",
            "num_series: 1\n",
            "***** On series: 1.3.6.1.4.1.14519.5.2.1.7311.5101.235341885112539313032416621161 *****\n",
            "SeriesInstanceUID: 1.3.6.1.4.1.14519.5.2.1.7311.5101.235341885112539313032416621161\n"
          ]
        },
        {
          "output_type": "stream",
          "name": "stderr",
          "text": [
            "Downloading data: 100%|█████████▉| 6.28M/6.28M [00:01<00:00, 6.23MB/s]\n",
            "/usr/local/lib/python3.11/dist-packages/highdicom/base.py:163: UserWarning: The string \"ProstateX-0123\" is unlikely to represent the intended person name since it contains only a single component. Construct a person name according to the format in described in https://dicom.nema.org/dicom/2013/output/chtml/part05/sect_6.2.html#sect_6.2.1.2, or, in pydicom 2.2.0 or later, use the pydicom.valuerep.PersonName.from_named_components() method to construct the person name correctly. If a single-component name is really intended, add a trailing caret character to disambiguate the name.\n",
            "  check_person_name(patient_name)\n",
            "WARNING:pydicom:A value of type 'tuple' cannot be assigned to a tag with VR LO.\n",
            "/usr/local/lib/python3.11/dist-packages/pydicom/valuerep.py:440: UserWarning: A value of type 'tuple' cannot be assigned to a tag with VR LO.\n",
            "  warn_and_log(msg)\n",
            "WARNING:pydicom:A value of type 'tuple' cannot be assigned to a tag with VR LO.\n"
          ]
        },
        {
          "output_type": "stream",
          "name": "stdout",
          "text": [
            "FrameOfReferenceUID: 1.3.6.1.4.1.14519.5.2.1.7311.5101.309222743534823050254420682386\n",
            "Parsing 20.8643 30.9437 29.9455\n",
            "1\n",
            "Copying file:///content/sr/ProstateX-0123_1.3.6.1.4.1.14519.5.2.1.7311.5101.235341885112539313032416621161.dcm [Content-Type=application/dicom]...\n",
            "/ [1 files][  4.4 KiB/  4.4 KiB]                                                \n",
            "Operation completed over 1 objects/4.4 KiB.                                      \n",
            "********** On patient: ProstateX-0124 **********\n",
            "num_series: 1\n",
            "***** On series: 1.3.6.1.4.1.14519.5.2.1.7311.5101.120671479738653620797949234670 *****\n",
            "SeriesInstanceUID: 1.3.6.1.4.1.14519.5.2.1.7311.5101.120671479738653620797949234670\n"
          ]
        },
        {
          "output_type": "stream",
          "name": "stderr",
          "text": [
            "Downloading data: 100%|██████████| 7.47M/7.47M [00:01<00:00, 7.44MB/s]\n",
            "/usr/local/lib/python3.11/dist-packages/highdicom/base.py:163: UserWarning: The string \"ProstateX-0124\" is unlikely to represent the intended person name since it contains only a single component. Construct a person name according to the format in described in https://dicom.nema.org/dicom/2013/output/chtml/part05/sect_6.2.html#sect_6.2.1.2, or, in pydicom 2.2.0 or later, use the pydicom.valuerep.PersonName.from_named_components() method to construct the person name correctly. If a single-component name is really intended, add a trailing caret character to disambiguate the name.\n",
            "  check_person_name(patient_name)\n",
            "WARNING:pydicom:A value of type 'tuple' cannot be assigned to a tag with VR LO.\n",
            "/usr/local/lib/python3.11/dist-packages/pydicom/valuerep.py:440: UserWarning: A value of type 'tuple' cannot be assigned to a tag with VR LO.\n",
            "  warn_and_log(msg)\n",
            "WARNING:pydicom:A value of type 'tuple' cannot be assigned to a tag with VR LO.\n"
          ]
        },
        {
          "output_type": "stream",
          "name": "stdout",
          "text": [
            "FrameOfReferenceUID: 1.3.6.1.4.1.14519.5.2.1.7311.5101.404690340239595842802526989007\n",
            "Parsing -2.33687 50.5183 61.0913\n",
            "1\n",
            "Copying file:///content/sr/ProstateX-0124_1.3.6.1.4.1.14519.5.2.1.7311.5101.120671479738653620797949234670.dcm [Content-Type=application/dicom]...\n",
            "/ [1 files][  4.4 KiB/  4.4 KiB]                                                \n",
            "Operation completed over 1 objects/4.4 KiB.                                      \n",
            "********** On patient: ProstateX-0125 **********\n",
            "num_series: 1\n",
            "***** On series: 1.3.6.1.4.1.14519.5.2.1.7311.5101.192880613789296100694211103696 *****\n",
            "SeriesInstanceUID: 1.3.6.1.4.1.14519.5.2.1.7311.5101.192880613789296100694211103696\n"
          ]
        },
        {
          "output_type": "stream",
          "name": "stderr",
          "text": [
            "Downloading data: 100%|█████████▉| 6.28M/6.28M [00:01<00:00, 6.25MB/s]\n",
            "/usr/local/lib/python3.11/dist-packages/highdicom/base.py:163: UserWarning: The string \"ProstateX-0125\" is unlikely to represent the intended person name since it contains only a single component. Construct a person name according to the format in described in https://dicom.nema.org/dicom/2013/output/chtml/part05/sect_6.2.html#sect_6.2.1.2, or, in pydicom 2.2.0 or later, use the pydicom.valuerep.PersonName.from_named_components() method to construct the person name correctly. If a single-component name is really intended, add a trailing caret character to disambiguate the name.\n",
            "  check_person_name(patient_name)\n",
            "WARNING:pydicom:A value of type 'tuple' cannot be assigned to a tag with VR LO.\n",
            "/usr/local/lib/python3.11/dist-packages/pydicom/valuerep.py:440: UserWarning: A value of type 'tuple' cannot be assigned to a tag with VR LO.\n",
            "  warn_and_log(msg)\n",
            "WARNING:pydicom:A value of type 'tuple' cannot be assigned to a tag with VR LO.\n"
          ]
        },
        {
          "output_type": "stream",
          "name": "stdout",
          "text": [
            "FrameOfReferenceUID: 1.3.6.1.4.1.14519.5.2.1.7311.5101.261191407484038531868379103641\n",
            "Parsing -37.3152 28.8733 -27.9854\n",
            "1\n",
            "Copying file:///content/sr/ProstateX-0125_1.3.6.1.4.1.14519.5.2.1.7311.5101.192880613789296100694211103696.dcm [Content-Type=application/dicom]...\n",
            "/ [1 files][  4.4 KiB/  4.4 KiB]                                                \n",
            "Operation completed over 1 objects/4.4 KiB.                                      \n",
            "********** On patient: ProstateX-0126 **********\n",
            "num_series: 1\n",
            "***** On series: 1.3.6.1.4.1.14519.5.2.1.7311.5101.609444921602227480415119333725 *****\n",
            "SeriesInstanceUID: 1.3.6.1.4.1.14519.5.2.1.7311.5101.609444921602227480415119333725\n"
          ]
        },
        {
          "output_type": "stream",
          "name": "stderr",
          "text": [
            "Downloading data: 100%|█████████▉| 6.88M/6.88M [00:01<00:00, 6.85MB/s]\n",
            "/usr/local/lib/python3.11/dist-packages/highdicom/base.py:163: UserWarning: The string \"ProstateX-0126\" is unlikely to represent the intended person name since it contains only a single component. Construct a person name according to the format in described in https://dicom.nema.org/dicom/2013/output/chtml/part05/sect_6.2.html#sect_6.2.1.2, or, in pydicom 2.2.0 or later, use the pydicom.valuerep.PersonName.from_named_components() method to construct the person name correctly. If a single-component name is really intended, add a trailing caret character to disambiguate the name.\n",
            "  check_person_name(patient_name)\n",
            "WARNING:pydicom:A value of type 'tuple' cannot be assigned to a tag with VR LO.\n",
            "/usr/local/lib/python3.11/dist-packages/pydicom/valuerep.py:440: UserWarning: A value of type 'tuple' cannot be assigned to a tag with VR LO.\n",
            "  warn_and_log(msg)\n",
            "WARNING:pydicom:A value of type 'tuple' cannot be assigned to a tag with VR LO.\n"
          ]
        },
        {
          "output_type": "stream",
          "name": "stdout",
          "text": [
            "FrameOfReferenceUID: 1.3.6.1.4.1.14519.5.2.1.7311.5101.482800104507858858492480071624\n",
            "Parsing -0.00813 12.961 3.0117\n",
            "Parsing 13.6285 51.202 6.47909\n",
            "2\n",
            "Copying file:///content/sr/ProstateX-0126_1.3.6.1.4.1.14519.5.2.1.7311.5101.609444921602227480415119333725.dcm [Content-Type=application/dicom]...\n",
            "/ [1 files][  5.5 KiB/  5.5 KiB]                                                \n",
            "Operation completed over 1 objects/5.5 KiB.                                      \n",
            "********** On patient: ProstateX-0127 **********\n",
            "num_series: 1\n",
            "***** On series: 1.3.6.1.4.1.14519.5.2.1.7311.5101.125028312746883214553925465367 *****\n",
            "SeriesInstanceUID: 1.3.6.1.4.1.14519.5.2.1.7311.5101.125028312746883214553925465367\n"
          ]
        },
        {
          "output_type": "stream",
          "name": "stderr",
          "text": [
            "Downloading data: 100%|██████████| 5.68M/5.68M [00:01<00:00, 5.65MB/s]\n",
            "/usr/local/lib/python3.11/dist-packages/highdicom/base.py:163: UserWarning: The string \"ProstateX-0127\" is unlikely to represent the intended person name since it contains only a single component. Construct a person name according to the format in described in https://dicom.nema.org/dicom/2013/output/chtml/part05/sect_6.2.html#sect_6.2.1.2, or, in pydicom 2.2.0 or later, use the pydicom.valuerep.PersonName.from_named_components() method to construct the person name correctly. If a single-component name is really intended, add a trailing caret character to disambiguate the name.\n",
            "  check_person_name(patient_name)\n",
            "WARNING:pydicom:A value of type 'tuple' cannot be assigned to a tag with VR LO.\n",
            "/usr/local/lib/python3.11/dist-packages/pydicom/valuerep.py:440: UserWarning: A value of type 'tuple' cannot be assigned to a tag with VR LO.\n",
            "  warn_and_log(msg)\n",
            "WARNING:pydicom:A value of type 'tuple' cannot be assigned to a tag with VR LO.\n"
          ]
        },
        {
          "output_type": "stream",
          "name": "stdout",
          "text": [
            "FrameOfReferenceUID: 1.3.6.1.4.1.14519.5.2.1.7311.5101.157360251464184758179658777342\n",
            "Parsing -2.96897 54.8394 -35.4997\n",
            "1\n",
            "Copying file:///content/sr/ProstateX-0127_1.3.6.1.4.1.14519.5.2.1.7311.5101.125028312746883214553925465367.dcm [Content-Type=application/dicom]...\n",
            "/ [1 files][  4.4 KiB/  4.4 KiB]                                                \n",
            "Operation completed over 1 objects/4.4 KiB.                                      \n",
            "********** On patient: ProstateX-0128 **********\n",
            "num_series: 1\n",
            "***** On series: 1.3.6.1.4.1.14519.5.2.1.7311.5101.191897092045160790927368035834 *****\n",
            "SeriesInstanceUID: 1.3.6.1.4.1.14519.5.2.1.7311.5101.191897092045160790927368035834\n"
          ]
        },
        {
          "output_type": "stream",
          "name": "stderr",
          "text": [
            "Downloading data: 100%|█████████▉| 5.68M/5.68M [00:01<00:00, 5.66MB/s]\n",
            "/usr/local/lib/python3.11/dist-packages/highdicom/base.py:163: UserWarning: The string \"ProstateX-0128\" is unlikely to represent the intended person name since it contains only a single component. Construct a person name according to the format in described in https://dicom.nema.org/dicom/2013/output/chtml/part05/sect_6.2.html#sect_6.2.1.2, or, in pydicom 2.2.0 or later, use the pydicom.valuerep.PersonName.from_named_components() method to construct the person name correctly. If a single-component name is really intended, add a trailing caret character to disambiguate the name.\n",
            "  check_person_name(patient_name)\n",
            "WARNING:pydicom:A value of type 'tuple' cannot be assigned to a tag with VR LO.\n",
            "/usr/local/lib/python3.11/dist-packages/pydicom/valuerep.py:440: UserWarning: A value of type 'tuple' cannot be assigned to a tag with VR LO.\n",
            "  warn_and_log(msg)\n",
            "WARNING:pydicom:A value of type 'tuple' cannot be assigned to a tag with VR LO.\n"
          ]
        },
        {
          "output_type": "stream",
          "name": "stdout",
          "text": [
            "FrameOfReferenceUID: 1.3.6.1.4.1.14519.5.2.1.7311.5101.101041255335839250531247904628\n",
            "Parsing -34.0393 43.4712 4.89498\n",
            "Parsing -10.8589 36.4117 -4.54883\n",
            "Parsing -29.2246 33.9741 10.7415\n",
            "3\n",
            "Copying file:///content/sr/ProstateX-0128_1.3.6.1.4.1.14519.5.2.1.7311.5101.191897092045160790927368035834.dcm [Content-Type=application/dicom]...\n",
            "/ [1 files][  6.5 KiB/  6.5 KiB]                                                \n",
            "Operation completed over 1 objects/6.5 KiB.                                      \n",
            "********** On patient: ProstateX-0129 **********\n",
            "num_series: 1\n",
            "***** On series: 1.3.6.1.4.1.14519.5.2.1.7311.5101.245315537897059083725251245833 *****\n",
            "SeriesInstanceUID: 1.3.6.1.4.1.14519.5.2.1.7311.5101.245315537897059083725251245833\n"
          ]
        },
        {
          "output_type": "stream",
          "name": "stderr",
          "text": [
            "Downloading data: 100%|█████████▉| 5.68M/5.68M [00:01<00:00, 5.66MB/s]\n",
            "/usr/local/lib/python3.11/dist-packages/highdicom/base.py:163: UserWarning: The string \"ProstateX-0129\" is unlikely to represent the intended person name since it contains only a single component. Construct a person name according to the format in described in https://dicom.nema.org/dicom/2013/output/chtml/part05/sect_6.2.html#sect_6.2.1.2, or, in pydicom 2.2.0 or later, use the pydicom.valuerep.PersonName.from_named_components() method to construct the person name correctly. If a single-component name is really intended, add a trailing caret character to disambiguate the name.\n",
            "  check_person_name(patient_name)\n",
            "WARNING:pydicom:A value of type 'tuple' cannot be assigned to a tag with VR LO.\n",
            "/usr/local/lib/python3.11/dist-packages/pydicom/valuerep.py:440: UserWarning: A value of type 'tuple' cannot be assigned to a tag with VR LO.\n",
            "  warn_and_log(msg)\n",
            "WARNING:pydicom:A value of type 'tuple' cannot be assigned to a tag with VR LO.\n"
          ]
        },
        {
          "output_type": "stream",
          "name": "stdout",
          "text": [
            "FrameOfReferenceUID: 1.3.6.1.4.1.14519.5.2.1.7311.5101.292500059665698797933451802364\n",
            "Parsing 42.3 39.7 20.7\n",
            "1\n",
            "Copying file:///content/sr/ProstateX-0129_1.3.6.1.4.1.14519.5.2.1.7311.5101.245315537897059083725251245833.dcm [Content-Type=application/dicom]...\n",
            "/ [1 files][  4.4 KiB/  4.4 KiB]                                                \n",
            "Operation completed over 1 objects/4.4 KiB.                                      \n",
            "********** On patient: ProstateX-0130 **********\n",
            "num_series: 1\n",
            "***** On series: 1.3.6.1.4.1.14519.5.2.1.7311.5101.119868581724901379856626647643 *****\n",
            "SeriesInstanceUID: 1.3.6.1.4.1.14519.5.2.1.7311.5101.119868581724901379856626647643\n"
          ]
        },
        {
          "output_type": "stream",
          "name": "stderr",
          "text": [
            "Downloading data: 100%|██████████| 6.87M/6.87M [00:01<00:00, 6.81MB/s]\n",
            "/usr/local/lib/python3.11/dist-packages/highdicom/base.py:163: UserWarning: The string \"ProstateX-0130\" is unlikely to represent the intended person name since it contains only a single component. Construct a person name according to the format in described in https://dicom.nema.org/dicom/2013/output/chtml/part05/sect_6.2.html#sect_6.2.1.2, or, in pydicom 2.2.0 or later, use the pydicom.valuerep.PersonName.from_named_components() method to construct the person name correctly. If a single-component name is really intended, add a trailing caret character to disambiguate the name.\n",
            "  check_person_name(patient_name)\n",
            "WARNING:pydicom:A value of type 'tuple' cannot be assigned to a tag with VR LO.\n",
            "/usr/local/lib/python3.11/dist-packages/pydicom/valuerep.py:440: UserWarning: A value of type 'tuple' cannot be assigned to a tag with VR LO.\n",
            "  warn_and_log(msg)\n",
            "WARNING:pydicom:A value of type 'tuple' cannot be assigned to a tag with VR LO.\n"
          ]
        },
        {
          "output_type": "stream",
          "name": "stdout",
          "text": [
            "FrameOfReferenceUID: 1.3.6.1.4.1.14519.5.2.1.7311.5101.162200623966360506901355222045\n",
            "Parsing -7.54632 40.5456 -56.3508\n",
            "Parsing 45.3834 43.6413 -38.5832\n",
            "Parsing 41.6386 32.1835 -70.5187\n",
            "3\n",
            "Copying file:///content/sr/ProstateX-0130_1.3.6.1.4.1.14519.5.2.1.7311.5101.119868581724901379856626647643.dcm [Content-Type=application/dicom]...\n",
            "/ [1 files][  6.5 KiB/  6.5 KiB]                                                \n",
            "Operation completed over 1 objects/6.5 KiB.                                      \n",
            "********** On patient: ProstateX-0131 **********\n",
            "num_series: 1\n",
            "***** On series: 1.3.6.1.4.1.14519.5.2.1.7311.5101.248400497115717620855573447327 *****\n",
            "SeriesInstanceUID: 1.3.6.1.4.1.14519.5.2.1.7311.5101.248400497115717620855573447327\n"
          ]
        },
        {
          "output_type": "stream",
          "name": "stderr",
          "text": [
            "Downloading data: 100%|█████████▉| 5.68M/5.68M [00:01<00:00, 5.65MB/s]\n",
            "/usr/local/lib/python3.11/dist-packages/highdicom/base.py:163: UserWarning: The string \"ProstateX-0131\" is unlikely to represent the intended person name since it contains only a single component. Construct a person name according to the format in described in https://dicom.nema.org/dicom/2013/output/chtml/part05/sect_6.2.html#sect_6.2.1.2, or, in pydicom 2.2.0 or later, use the pydicom.valuerep.PersonName.from_named_components() method to construct the person name correctly. If a single-component name is really intended, add a trailing caret character to disambiguate the name.\n",
            "  check_person_name(patient_name)\n",
            "WARNING:pydicom:A value of type 'tuple' cannot be assigned to a tag with VR LO.\n",
            "/usr/local/lib/python3.11/dist-packages/pydicom/valuerep.py:440: UserWarning: A value of type 'tuple' cannot be assigned to a tag with VR LO.\n",
            "  warn_and_log(msg)\n",
            "WARNING:pydicom:A value of type 'tuple' cannot be assigned to a tag with VR LO.\n"
          ]
        },
        {
          "output_type": "stream",
          "name": "stdout",
          "text": [
            "FrameOfReferenceUID: 1.3.6.1.4.1.14519.5.2.1.7311.5101.184999824467804660395493011387\n",
            "Parsing 51.1849 25.9864 12.9275\n",
            "Parsing 25.0155 40.2724 -5.74252\n",
            "2\n",
            "Copying file:///content/sr/ProstateX-0131_1.3.6.1.4.1.14519.5.2.1.7311.5101.248400497115717620855573447327.dcm [Content-Type=application/dicom]...\n",
            "/ [1 files][  5.5 KiB/  5.5 KiB]                                                \n",
            "Operation completed over 1 objects/5.5 KiB.                                      \n",
            "********** On patient: ProstateX-0132 **********\n",
            "num_series: 1\n",
            "***** On series: 1.3.6.1.4.1.14519.5.2.1.7311.5101.315655107351765121146095905436 *****\n",
            "SeriesInstanceUID: 1.3.6.1.4.1.14519.5.2.1.7311.5101.315655107351765121146095905436\n"
          ]
        },
        {
          "output_type": "stream",
          "name": "stderr",
          "text": [
            "Downloading data: 100%|█████████▉| 6.88M/6.88M [00:01<00:00, 6.85MB/s]\n",
            "/usr/local/lib/python3.11/dist-packages/highdicom/base.py:163: UserWarning: The string \"ProstateX-0132\" is unlikely to represent the intended person name since it contains only a single component. Construct a person name according to the format in described in https://dicom.nema.org/dicom/2013/output/chtml/part05/sect_6.2.html#sect_6.2.1.2, or, in pydicom 2.2.0 or later, use the pydicom.valuerep.PersonName.from_named_components() method to construct the person name correctly. If a single-component name is really intended, add a trailing caret character to disambiguate the name.\n",
            "  check_person_name(patient_name)\n",
            "WARNING:pydicom:A value of type 'tuple' cannot be assigned to a tag with VR LO.\n",
            "/usr/local/lib/python3.11/dist-packages/pydicom/valuerep.py:440: UserWarning: A value of type 'tuple' cannot be assigned to a tag with VR LO.\n",
            "  warn_and_log(msg)\n",
            "WARNING:pydicom:A value of type 'tuple' cannot be assigned to a tag with VR LO.\n"
          ]
        },
        {
          "output_type": "stream",
          "name": "stdout",
          "text": [
            "FrameOfReferenceUID: 1.3.6.1.4.1.14519.5.2.1.7311.5101.338362626893289469761068145805\n",
            "Parsing -2.44585 41.3319 33.2478\n",
            "1\n",
            "Copying file:///content/sr/ProstateX-0132_1.3.6.1.4.1.14519.5.2.1.7311.5101.315655107351765121146095905436.dcm [Content-Type=application/dicom]...\n",
            "\n",
            "Operation completed over 1 objects/4.4 KiB.                                      \n",
            "********** On patient: ProstateX-0133 **********\n",
            "num_series: 1\n",
            "***** On series: 1.3.6.1.4.1.14519.5.2.1.7311.5101.231680841183267045628534596021 *****\n",
            "SeriesInstanceUID: 1.3.6.1.4.1.14519.5.2.1.7311.5101.231680841183267045628534596021\n"
          ]
        },
        {
          "output_type": "stream",
          "name": "stderr",
          "text": [
            "Downloading data: 100%|█████████▉| 6.28M/6.28M [00:01<00:00, 6.25MB/s]\n",
            "/usr/local/lib/python3.11/dist-packages/highdicom/base.py:163: UserWarning: The string \"ProstateX-0133\" is unlikely to represent the intended person name since it contains only a single component. Construct a person name according to the format in described in https://dicom.nema.org/dicom/2013/output/chtml/part05/sect_6.2.html#sect_6.2.1.2, or, in pydicom 2.2.0 or later, use the pydicom.valuerep.PersonName.from_named_components() method to construct the person name correctly. If a single-component name is really intended, add a trailing caret character to disambiguate the name.\n",
            "  check_person_name(patient_name)\n",
            "WARNING:pydicom:A value of type 'tuple' cannot be assigned to a tag with VR LO.\n",
            "/usr/local/lib/python3.11/dist-packages/pydicom/valuerep.py:440: UserWarning: A value of type 'tuple' cannot be assigned to a tag with VR LO.\n",
            "  warn_and_log(msg)\n",
            "WARNING:pydicom:A value of type 'tuple' cannot be assigned to a tag with VR LO.\n"
          ]
        },
        {
          "output_type": "stream",
          "name": "stdout",
          "text": [
            "FrameOfReferenceUID: 1.3.6.1.4.1.14519.5.2.1.7311.5101.310015309977843728418251902867\n",
            "Parsing 22.8645 28.3757 -26.314\n",
            "1\n",
            "Copying file:///content/sr/ProstateX-0133_1.3.6.1.4.1.14519.5.2.1.7311.5101.231680841183267045628534596021.dcm [Content-Type=application/dicom]...\n",
            "/ [1 files][  4.4 KiB/  4.4 KiB]                                                \n",
            "Operation completed over 1 objects/4.4 KiB.                                      \n",
            "********** On patient: ProstateX-0134 **********\n",
            "num_series: 1\n",
            "***** On series: 1.3.6.1.4.1.14519.5.2.1.7311.5101.149728379277305470281540696443 *****\n",
            "SeriesInstanceUID: 1.3.6.1.4.1.14519.5.2.1.7311.5101.149728379277305470281540696443\n"
          ]
        },
        {
          "output_type": "stream",
          "name": "stderr",
          "text": [
            "Downloading data: 100%|█████████▉| 6.28M/6.28M [00:01<00:00, 6.25MB/s]\n",
            "/usr/local/lib/python3.11/dist-packages/highdicom/base.py:163: UserWarning: The string \"ProstateX-0134\" is unlikely to represent the intended person name since it contains only a single component. Construct a person name according to the format in described in https://dicom.nema.org/dicom/2013/output/chtml/part05/sect_6.2.html#sect_6.2.1.2, or, in pydicom 2.2.0 or later, use the pydicom.valuerep.PersonName.from_named_components() method to construct the person name correctly. If a single-component name is really intended, add a trailing caret character to disambiguate the name.\n",
            "  check_person_name(patient_name)\n",
            "WARNING:pydicom:A value of type 'tuple' cannot be assigned to a tag with VR LO.\n",
            "/usr/local/lib/python3.11/dist-packages/pydicom/valuerep.py:440: UserWarning: A value of type 'tuple' cannot be assigned to a tag with VR LO.\n",
            "  warn_and_log(msg)\n",
            "WARNING:pydicom:A value of type 'tuple' cannot be assigned to a tag with VR LO.\n"
          ]
        },
        {
          "output_type": "stream",
          "name": "stdout",
          "text": [
            "FrameOfReferenceUID: 1.3.6.1.4.1.14519.5.2.1.7311.5101.215699880939555438747394020421\n",
            "Parsing 10.4469 54.7228 -17.7097\n",
            "Parsing 24.5865 41.3689 -11.8297\n",
            "2\n",
            "Copying file:///content/sr/ProstateX-0134_1.3.6.1.4.1.14519.5.2.1.7311.5101.149728379277305470281540696443.dcm [Content-Type=application/dicom]...\n",
            "/ [1 files][  5.5 KiB/  5.5 KiB]                                                \n",
            "Operation completed over 1 objects/5.5 KiB.                                      \n",
            "********** On patient: ProstateX-0135 **********\n",
            "num_series: 1\n",
            "***** On series: 1.3.6.1.4.1.14519.5.2.1.7311.5101.176196916281607796091267730897 *****\n",
            "SeriesInstanceUID: 1.3.6.1.4.1.14519.5.2.1.7311.5101.176196916281607796091267730897\n"
          ]
        },
        {
          "output_type": "stream",
          "name": "stderr",
          "text": [
            "Downloading data: 100%|█████████▉| 5.68M/5.68M [00:01<00:00, 5.66MB/s]\n",
            "/usr/local/lib/python3.11/dist-packages/highdicom/base.py:163: UserWarning: The string \"ProstateX-0135\" is unlikely to represent the intended person name since it contains only a single component. Construct a person name according to the format in described in https://dicom.nema.org/dicom/2013/output/chtml/part05/sect_6.2.html#sect_6.2.1.2, or, in pydicom 2.2.0 or later, use the pydicom.valuerep.PersonName.from_named_components() method to construct the person name correctly. If a single-component name is really intended, add a trailing caret character to disambiguate the name.\n",
            "  check_person_name(patient_name)\n",
            "WARNING:pydicom:A value of type 'tuple' cannot be assigned to a tag with VR LO.\n",
            "/usr/local/lib/python3.11/dist-packages/pydicom/valuerep.py:440: UserWarning: A value of type 'tuple' cannot be assigned to a tag with VR LO.\n",
            "  warn_and_log(msg)\n",
            "WARNING:pydicom:A value of type 'tuple' cannot be assigned to a tag with VR LO.\n"
          ]
        },
        {
          "output_type": "stream",
          "name": "stdout",
          "text": [
            "FrameOfReferenceUID: 1.3.6.1.4.1.14519.5.2.1.7311.5101.175346402153217122998999172346\n",
            "Parsing -5.23868 43.376 -40.263\n",
            "Parsing 6.18072 21.8572 -45.0361\n",
            "2\n",
            "Copying file:///content/sr/ProstateX-0135_1.3.6.1.4.1.14519.5.2.1.7311.5101.176196916281607796091267730897.dcm [Content-Type=application/dicom]...\n",
            "/ [1 files][  5.5 KiB/  5.5 KiB]                                                \n",
            "Operation completed over 1 objects/5.5 KiB.                                      \n",
            "********** On patient: ProstateX-0136 **********\n",
            "num_series: 1\n",
            "***** On series: 1.3.6.1.4.1.14519.5.2.1.7311.5101.258067469374761412596368241889 *****\n",
            "SeriesInstanceUID: 1.3.6.1.4.1.14519.5.2.1.7311.5101.258067469374761412596368241889\n"
          ]
        },
        {
          "output_type": "stream",
          "name": "stderr",
          "text": [
            "Downloading data: 100%|█████████▉| 6.28M/6.28M [00:01<00:00, 6.25MB/s]\n",
            "/usr/local/lib/python3.11/dist-packages/highdicom/base.py:163: UserWarning: The string \"ProstateX-0136\" is unlikely to represent the intended person name since it contains only a single component. Construct a person name according to the format in described in https://dicom.nema.org/dicom/2013/output/chtml/part05/sect_6.2.html#sect_6.2.1.2, or, in pydicom 2.2.0 or later, use the pydicom.valuerep.PersonName.from_named_components() method to construct the person name correctly. If a single-component name is really intended, add a trailing caret character to disambiguate the name.\n",
            "  check_person_name(patient_name)\n",
            "WARNING:pydicom:A value of type 'tuple' cannot be assigned to a tag with VR LO.\n",
            "/usr/local/lib/python3.11/dist-packages/pydicom/valuerep.py:440: UserWarning: A value of type 'tuple' cannot be assigned to a tag with VR LO.\n",
            "  warn_and_log(msg)\n",
            "WARNING:pydicom:A value of type 'tuple' cannot be assigned to a tag with VR LO.\n"
          ]
        },
        {
          "output_type": "stream",
          "name": "stdout",
          "text": [
            "FrameOfReferenceUID: 1.3.6.1.4.1.14519.5.2.1.7311.5101.551593086015709381003493953878\n",
            "Parsing -8.32957 19.2429 -49.2812\n",
            "Parsing 14.4499 51.6636 -62.939\n",
            "2\n",
            "Copying file:///content/sr/ProstateX-0136_1.3.6.1.4.1.14519.5.2.1.7311.5101.258067469374761412596368241889.dcm [Content-Type=application/dicom]...\n",
            "/ [1 files][  5.5 KiB/  5.5 KiB]                                                \n",
            "Operation completed over 1 objects/5.5 KiB.                                      \n",
            "********** On patient: ProstateX-0137 **********\n",
            "num_series: 1\n",
            "***** On series: 1.3.6.1.4.1.14519.5.2.1.7311.5101.159765650464968735731209309869 *****\n",
            "SeriesInstanceUID: 1.3.6.1.4.1.14519.5.2.1.7311.5101.159765650464968735731209309869\n"
          ]
        },
        {
          "output_type": "stream",
          "name": "stderr",
          "text": [
            "Downloading data: 100%|█████████▉| 6.28M/6.28M [00:01<00:00, 6.25MB/s]\n",
            "/usr/local/lib/python3.11/dist-packages/highdicom/base.py:163: UserWarning: The string \"ProstateX-0137\" is unlikely to represent the intended person name since it contains only a single component. Construct a person name according to the format in described in https://dicom.nema.org/dicom/2013/output/chtml/part05/sect_6.2.html#sect_6.2.1.2, or, in pydicom 2.2.0 or later, use the pydicom.valuerep.PersonName.from_named_components() method to construct the person name correctly. If a single-component name is really intended, add a trailing caret character to disambiguate the name.\n",
            "  check_person_name(patient_name)\n",
            "WARNING:pydicom:A value of type 'tuple' cannot be assigned to a tag with VR LO.\n",
            "/usr/local/lib/python3.11/dist-packages/pydicom/valuerep.py:440: UserWarning: A value of type 'tuple' cannot be assigned to a tag with VR LO.\n",
            "  warn_and_log(msg)\n",
            "WARNING:pydicom:A value of type 'tuple' cannot be assigned to a tag with VR LO.\n"
          ]
        },
        {
          "output_type": "stream",
          "name": "stdout",
          "text": [
            "FrameOfReferenceUID: 1.3.6.1.4.1.14519.5.2.1.7311.5101.133742853743140227336101221234\n",
            "Parsing -21.2239 22.444 -0.521881\n",
            "Parsing 12.6136 15.611 -8.18108\n",
            "Parsing -21.1034 25.7037 11.0412\n",
            "3\n",
            "Copying file:///content/sr/ProstateX-0137_1.3.6.1.4.1.14519.5.2.1.7311.5101.159765650464968735731209309869.dcm [Content-Type=application/dicom]...\n",
            "/ [1 files][  6.5 KiB/  6.5 KiB]                                                \n",
            "Operation completed over 1 objects/6.5 KiB.                                      \n",
            "40% of patients processed.\n",
            "********** On patient: ProstateX-0138 **********\n",
            "num_series: 1\n",
            "***** On series: 1.3.6.1.4.1.14519.5.2.1.7311.5101.315887077330071484443267938866 *****\n",
            "SeriesInstanceUID: 1.3.6.1.4.1.14519.5.2.1.7311.5101.315887077330071484443267938866\n"
          ]
        },
        {
          "output_type": "stream",
          "name": "stderr",
          "text": [
            "Downloading data: 100%|██████████| 6.87M/6.87M [00:01<00:00, 6.84MB/s]\n",
            "/usr/local/lib/python3.11/dist-packages/highdicom/base.py:163: UserWarning: The string \"ProstateX-0138\" is unlikely to represent the intended person name since it contains only a single component. Construct a person name according to the format in described in https://dicom.nema.org/dicom/2013/output/chtml/part05/sect_6.2.html#sect_6.2.1.2, or, in pydicom 2.2.0 or later, use the pydicom.valuerep.PersonName.from_named_components() method to construct the person name correctly. If a single-component name is really intended, add a trailing caret character to disambiguate the name.\n",
            "  check_person_name(patient_name)\n",
            "WARNING:pydicom:A value of type 'tuple' cannot be assigned to a tag with VR LO.\n",
            "/usr/local/lib/python3.11/dist-packages/pydicom/valuerep.py:440: UserWarning: A value of type 'tuple' cannot be assigned to a tag with VR LO.\n",
            "  warn_and_log(msg)\n",
            "WARNING:pydicom:A value of type 'tuple' cannot be assigned to a tag with VR LO.\n"
          ]
        },
        {
          "output_type": "stream",
          "name": "stdout",
          "text": [
            "FrameOfReferenceUID: 1.3.6.1.4.1.14519.5.2.1.7311.5101.207090796015353167440722250671\n",
            "Parsing -32.4804 39.1994 -26.6623\n",
            "Parsing -40.9569 39.6596 -17.6619\n",
            "Parsing -35.9909 8.59034 -32.5471\n",
            "3\n",
            "Copying file:///content/sr/ProstateX-0138_1.3.6.1.4.1.14519.5.2.1.7311.5101.315887077330071484443267938866.dcm [Content-Type=application/dicom]...\n",
            "/ [1 files][  6.5 KiB/  6.5 KiB]                                                \n",
            "Operation completed over 1 objects/6.5 KiB.                                      \n",
            "********** On patient: ProstateX-0139 **********\n",
            "num_series: 1\n",
            "***** On series: 1.3.6.1.4.1.14519.5.2.1.7311.5101.296953193106259799632836057549 *****\n",
            "SeriesInstanceUID: 1.3.6.1.4.1.14519.5.2.1.7311.5101.296953193106259799632836057549\n"
          ]
        },
        {
          "output_type": "stream",
          "name": "stderr",
          "text": [
            "Downloading data: 100%|█████████▉| 5.68M/5.68M [00:01<00:00, 5.66MB/s]\n",
            "/usr/local/lib/python3.11/dist-packages/highdicom/base.py:163: UserWarning: The string \"ProstateX-0139\" is unlikely to represent the intended person name since it contains only a single component. Construct a person name according to the format in described in https://dicom.nema.org/dicom/2013/output/chtml/part05/sect_6.2.html#sect_6.2.1.2, or, in pydicom 2.2.0 or later, use the pydicom.valuerep.PersonName.from_named_components() method to construct the person name correctly. If a single-component name is really intended, add a trailing caret character to disambiguate the name.\n",
            "  check_person_name(patient_name)\n",
            "WARNING:pydicom:A value of type 'tuple' cannot be assigned to a tag with VR LO.\n",
            "/usr/local/lib/python3.11/dist-packages/pydicom/valuerep.py:440: UserWarning: A value of type 'tuple' cannot be assigned to a tag with VR LO.\n",
            "  warn_and_log(msg)\n",
            "WARNING:pydicom:A value of type 'tuple' cannot be assigned to a tag with VR LO.\n"
          ]
        },
        {
          "output_type": "stream",
          "name": "stdout",
          "text": [
            "FrameOfReferenceUID: 1.3.6.1.4.1.14519.5.2.1.7311.5101.128919222225202432966659340685\n",
            "Parsing -11.8805 28.3133 17.5188\n",
            "Parsing -19.9039 39.6134 29.4296\n",
            "Parsing -5.79388 41.2189 18.3538\n",
            "3\n",
            "Copying file:///content/sr/ProstateX-0139_1.3.6.1.4.1.14519.5.2.1.7311.5101.296953193106259799632836057549.dcm [Content-Type=application/dicom]...\n",
            "/ [1 files][  6.5 KiB/  6.5 KiB]                                                \n",
            "Operation completed over 1 objects/6.5 KiB.                                      \n",
            "********** On patient: ProstateX-0140 **********\n",
            "num_series: 1\n",
            "***** On series: 1.3.6.1.4.1.14519.5.2.1.7311.5101.102319033451840757212229400283 *****\n",
            "SeriesInstanceUID: 1.3.6.1.4.1.14519.5.2.1.7311.5101.102319033451840757212229400283\n"
          ]
        },
        {
          "output_type": "stream",
          "name": "stderr",
          "text": [
            "Downloading data: 100%|█████████▉| 5.68M/5.68M [00:01<00:00, 5.63MB/s]\n",
            "/usr/local/lib/python3.11/dist-packages/highdicom/base.py:163: UserWarning: The string \"ProstateX-0140\" is unlikely to represent the intended person name since it contains only a single component. Construct a person name according to the format in described in https://dicom.nema.org/dicom/2013/output/chtml/part05/sect_6.2.html#sect_6.2.1.2, or, in pydicom 2.2.0 or later, use the pydicom.valuerep.PersonName.from_named_components() method to construct the person name correctly. If a single-component name is really intended, add a trailing caret character to disambiguate the name.\n",
            "  check_person_name(patient_name)\n",
            "WARNING:pydicom:A value of type 'tuple' cannot be assigned to a tag with VR LO.\n",
            "/usr/local/lib/python3.11/dist-packages/pydicom/valuerep.py:440: UserWarning: A value of type 'tuple' cannot be assigned to a tag with VR LO.\n",
            "  warn_and_log(msg)\n",
            "WARNING:pydicom:A value of type 'tuple' cannot be assigned to a tag with VR LO.\n"
          ]
        },
        {
          "output_type": "stream",
          "name": "stdout",
          "text": [
            "FrameOfReferenceUID: 1.3.6.1.4.1.14519.5.2.1.7311.5101.270396463530712219059413682278\n",
            "Parsing -12.396 24.3574 -39.5583\n",
            "Parsing 18.8122 40.9708 -20.4472\n",
            "2\n",
            "Copying file:///content/sr/ProstateX-0140_1.3.6.1.4.1.14519.5.2.1.7311.5101.102319033451840757212229400283.dcm [Content-Type=application/dicom]...\n",
            "/ [1 files][  5.5 KiB/  5.5 KiB]                                                \n",
            "Operation completed over 1 objects/5.5 KiB.                                      \n",
            "********** On patient: ProstateX-0141 **********\n",
            "num_series: 1\n",
            "***** On series: 1.3.6.1.4.1.14519.5.2.1.7311.5101.252185783543855817242399041825 *****\n",
            "SeriesInstanceUID: 1.3.6.1.4.1.14519.5.2.1.7311.5101.252185783543855817242399041825\n"
          ]
        },
        {
          "output_type": "stream",
          "name": "stderr",
          "text": [
            "Downloading data: 100%|█████████▉| 6.28M/6.28M [00:01<00:00, 6.26MB/s]\n",
            "/usr/local/lib/python3.11/dist-packages/highdicom/base.py:163: UserWarning: The string \"ProstateX-0141\" is unlikely to represent the intended person name since it contains only a single component. Construct a person name according to the format in described in https://dicom.nema.org/dicom/2013/output/chtml/part05/sect_6.2.html#sect_6.2.1.2, or, in pydicom 2.2.0 or later, use the pydicom.valuerep.PersonName.from_named_components() method to construct the person name correctly. If a single-component name is really intended, add a trailing caret character to disambiguate the name.\n",
            "  check_person_name(patient_name)\n",
            "WARNING:pydicom:A value of type 'tuple' cannot be assigned to a tag with VR LO.\n",
            "/usr/local/lib/python3.11/dist-packages/pydicom/valuerep.py:440: UserWarning: A value of type 'tuple' cannot be assigned to a tag with VR LO.\n",
            "  warn_and_log(msg)\n",
            "WARNING:pydicom:A value of type 'tuple' cannot be assigned to a tag with VR LO.\n"
          ]
        },
        {
          "output_type": "stream",
          "name": "stdout",
          "text": [
            "FrameOfReferenceUID: 1.3.6.1.4.1.14519.5.2.1.7311.5101.269757994444511544166012750599\n",
            "Parsing -16.9907 23.4567 -25.1546\n",
            "Parsing -4.79709 4.6308 -13.8932\n",
            "Parsing 6.36281 19.9978 -21.5098\n",
            "3\n",
            "Copying file:///content/sr/ProstateX-0141_1.3.6.1.4.1.14519.5.2.1.7311.5101.252185783543855817242399041825.dcm [Content-Type=application/dicom]...\n",
            "/ [1 files][  6.5 KiB/  6.5 KiB]                                                \n",
            "Operation completed over 1 objects/6.5 KiB.                                      \n",
            "********** On patient: ProstateX-0142 **********\n",
            "num_series: 1\n",
            "***** On series: 1.3.6.1.4.1.14519.5.2.1.7311.5101.236967836312224538274213979128 *****\n",
            "SeriesInstanceUID: 1.3.6.1.4.1.14519.5.2.1.7311.5101.236967836312224538274213979128\n"
          ]
        },
        {
          "output_type": "stream",
          "name": "stderr",
          "text": [
            "Downloading data: 100%|█████████▉| 6.28M/6.28M [00:01<00:00, 6.25MB/s]\n",
            "/usr/local/lib/python3.11/dist-packages/highdicom/base.py:163: UserWarning: The string \"ProstateX-0142\" is unlikely to represent the intended person name since it contains only a single component. Construct a person name according to the format in described in https://dicom.nema.org/dicom/2013/output/chtml/part05/sect_6.2.html#sect_6.2.1.2, or, in pydicom 2.2.0 or later, use the pydicom.valuerep.PersonName.from_named_components() method to construct the person name correctly. If a single-component name is really intended, add a trailing caret character to disambiguate the name.\n",
            "  check_person_name(patient_name)\n",
            "WARNING:pydicom:A value of type 'tuple' cannot be assigned to a tag with VR LO.\n",
            "/usr/local/lib/python3.11/dist-packages/pydicom/valuerep.py:440: UserWarning: A value of type 'tuple' cannot be assigned to a tag with VR LO.\n",
            "  warn_and_log(msg)\n",
            "WARNING:pydicom:A value of type 'tuple' cannot be assigned to a tag with VR LO.\n"
          ]
        },
        {
          "output_type": "stream",
          "name": "stdout",
          "text": [
            "FrameOfReferenceUID: 1.3.6.1.4.1.14519.5.2.1.7311.5101.130725294919579641762006874131\n",
            "Parsing 21.5867 12.2297 48.2092\n",
            "Parsing 52.9462 53.9049 39.3076\n",
            "Parsing 32.1001 22.5752 25.9394\n",
            "3\n",
            "Copying file:///content/sr/ProstateX-0142_1.3.6.1.4.1.14519.5.2.1.7311.5101.236967836312224538274213979128.dcm [Content-Type=application/dicom]...\n",
            "/ [1 files][  6.5 KiB/  6.5 KiB]                                                \n",
            "Operation completed over 1 objects/6.5 KiB.                                      \n",
            "********** On patient: ProstateX-0143 **********\n",
            "num_series: 1\n",
            "***** On series: 1.3.6.1.4.1.14519.5.2.1.7311.5101.284937074993270071304960321277 *****\n",
            "SeriesInstanceUID: 1.3.6.1.4.1.14519.5.2.1.7311.5101.284937074993270071304960321277\n"
          ]
        },
        {
          "output_type": "stream",
          "name": "stderr",
          "text": [
            "Downloading data: 100%|█████████▉| 5.68M/5.68M [00:01<00:00, 5.65MB/s]\n",
            "/usr/local/lib/python3.11/dist-packages/highdicom/base.py:163: UserWarning: The string \"ProstateX-0143\" is unlikely to represent the intended person name since it contains only a single component. Construct a person name according to the format in described in https://dicom.nema.org/dicom/2013/output/chtml/part05/sect_6.2.html#sect_6.2.1.2, or, in pydicom 2.2.0 or later, use the pydicom.valuerep.PersonName.from_named_components() method to construct the person name correctly. If a single-component name is really intended, add a trailing caret character to disambiguate the name.\n",
            "  check_person_name(patient_name)\n",
            "WARNING:pydicom:A value of type 'tuple' cannot be assigned to a tag with VR LO.\n",
            "/usr/local/lib/python3.11/dist-packages/pydicom/valuerep.py:440: UserWarning: A value of type 'tuple' cannot be assigned to a tag with VR LO.\n",
            "  warn_and_log(msg)\n",
            "WARNING:pydicom:A value of type 'tuple' cannot be assigned to a tag with VR LO.\n"
          ]
        },
        {
          "output_type": "stream",
          "name": "stdout",
          "text": [
            "FrameOfReferenceUID: 1.3.6.1.4.1.14519.5.2.1.7311.5101.242767528590896714429539394398\n",
            "Parsing -20.0928 14.9006 23.5027\n",
            "1\n",
            "Copying file:///content/sr/ProstateX-0143_1.3.6.1.4.1.14519.5.2.1.7311.5101.284937074993270071304960321277.dcm [Content-Type=application/dicom]...\n",
            "/ [1 files][  4.4 KiB/  4.4 KiB]                                                \n",
            "Operation completed over 1 objects/4.4 KiB.                                      \n",
            "********** On patient: ProstateX-0144 **********\n",
            "num_series: 1\n",
            "***** On series: 1.3.6.1.4.1.14519.5.2.1.7311.5101.813054628707353396925223754592 *****\n",
            "SeriesInstanceUID: 1.3.6.1.4.1.14519.5.2.1.7311.5101.813054628707353396925223754592\n"
          ]
        },
        {
          "output_type": "stream",
          "name": "stderr",
          "text": [
            "Downloading data: 100%|█████████▉| 6.28M/6.28M [00:01<00:00, 6.25MB/s]\n",
            "/usr/local/lib/python3.11/dist-packages/highdicom/base.py:163: UserWarning: The string \"ProstateX-0144\" is unlikely to represent the intended person name since it contains only a single component. Construct a person name according to the format in described in https://dicom.nema.org/dicom/2013/output/chtml/part05/sect_6.2.html#sect_6.2.1.2, or, in pydicom 2.2.0 or later, use the pydicom.valuerep.PersonName.from_named_components() method to construct the person name correctly. If a single-component name is really intended, add a trailing caret character to disambiguate the name.\n",
            "  check_person_name(patient_name)\n",
            "WARNING:pydicom:A value of type 'tuple' cannot be assigned to a tag with VR LO.\n",
            "/usr/local/lib/python3.11/dist-packages/pydicom/valuerep.py:440: UserWarning: A value of type 'tuple' cannot be assigned to a tag with VR LO.\n",
            "  warn_and_log(msg)\n",
            "WARNING:pydicom:A value of type 'tuple' cannot be assigned to a tag with VR LO.\n"
          ]
        },
        {
          "output_type": "stream",
          "name": "stdout",
          "text": [
            "FrameOfReferenceUID: 1.3.6.1.4.1.14519.5.2.1.7311.5101.310944031198437575272141204175\n",
            "Parsing -8.56937 40.4973 -41.5161\n",
            "Parsing 17.8007 33.3877 -43.7495\n",
            "Parsing 0.560626 31.9222 -58.6788\n",
            "3\n",
            "Copying file:///content/sr/ProstateX-0144_1.3.6.1.4.1.14519.5.2.1.7311.5101.813054628707353396925223754592.dcm [Content-Type=application/dicom]...\n",
            "/ [1 files][  6.5 KiB/  6.5 KiB]                                                \n",
            "Operation completed over 1 objects/6.5 KiB.                                      \n",
            "********** On patient: ProstateX-0145 **********\n",
            "num_series: 1\n",
            "***** On series: 1.3.6.1.4.1.14519.5.2.1.7311.5101.200709810046761326061245861709 *****\n",
            "SeriesInstanceUID: 1.3.6.1.4.1.14519.5.2.1.7311.5101.200709810046761326061245861709\n"
          ]
        },
        {
          "output_type": "stream",
          "name": "stderr",
          "text": [
            "Downloading data: 100%|█████████▉| 6.28M/6.28M [00:01<00:00, 6.25MB/s]\n",
            "/usr/local/lib/python3.11/dist-packages/highdicom/base.py:163: UserWarning: The string \"ProstateX-0145\" is unlikely to represent the intended person name since it contains only a single component. Construct a person name according to the format in described in https://dicom.nema.org/dicom/2013/output/chtml/part05/sect_6.2.html#sect_6.2.1.2, or, in pydicom 2.2.0 or later, use the pydicom.valuerep.PersonName.from_named_components() method to construct the person name correctly. If a single-component name is really intended, add a trailing caret character to disambiguate the name.\n",
            "  check_person_name(patient_name)\n",
            "WARNING:pydicom:A value of type 'tuple' cannot be assigned to a tag with VR LO.\n",
            "/usr/local/lib/python3.11/dist-packages/pydicom/valuerep.py:440: UserWarning: A value of type 'tuple' cannot be assigned to a tag with VR LO.\n",
            "  warn_and_log(msg)\n",
            "WARNING:pydicom:A value of type 'tuple' cannot be assigned to a tag with VR LO.\n"
          ]
        },
        {
          "output_type": "stream",
          "name": "stdout",
          "text": [
            "FrameOfReferenceUID: 1.3.6.1.4.1.14519.5.2.1.7311.5101.285550168925322505264269384518\n",
            "Parsing 9.6005 17.4343 65.7892\n",
            "1\n",
            "Copying file:///content/sr/ProstateX-0145_1.3.6.1.4.1.14519.5.2.1.7311.5101.200709810046761326061245861709.dcm [Content-Type=application/dicom]...\n",
            "/ [1 files][  4.4 KiB/  4.4 KiB]                                                \n",
            "Operation completed over 1 objects/4.4 KiB.                                      \n",
            "********** On patient: ProstateX-0146 **********\n",
            "num_series: 1\n",
            "***** On series: 1.3.6.1.4.1.14519.5.2.1.7311.5101.374654359343007468165376476067 *****\n",
            "SeriesInstanceUID: 1.3.6.1.4.1.14519.5.2.1.7311.5101.374654359343007468165376476067\n"
          ]
        },
        {
          "output_type": "stream",
          "name": "stderr",
          "text": [
            "Downloading data: 100%|█████████▉| 6.28M/6.28M [00:01<00:00, 6.25MB/s]\n",
            "/usr/local/lib/python3.11/dist-packages/highdicom/base.py:163: UserWarning: The string \"ProstateX-0146\" is unlikely to represent the intended person name since it contains only a single component. Construct a person name according to the format in described in https://dicom.nema.org/dicom/2013/output/chtml/part05/sect_6.2.html#sect_6.2.1.2, or, in pydicom 2.2.0 or later, use the pydicom.valuerep.PersonName.from_named_components() method to construct the person name correctly. If a single-component name is really intended, add a trailing caret character to disambiguate the name.\n",
            "  check_person_name(patient_name)\n",
            "WARNING:pydicom:A value of type 'tuple' cannot be assigned to a tag with VR LO.\n",
            "/usr/local/lib/python3.11/dist-packages/pydicom/valuerep.py:440: UserWarning: A value of type 'tuple' cannot be assigned to a tag with VR LO.\n",
            "  warn_and_log(msg)\n",
            "WARNING:pydicom:A value of type 'tuple' cannot be assigned to a tag with VR LO.\n"
          ]
        },
        {
          "output_type": "stream",
          "name": "stdout",
          "text": [
            "FrameOfReferenceUID: 1.3.6.1.4.1.14519.5.2.1.7311.5101.206956597686174949059464225856\n",
            "Parsing -6.08591 30.5233 22.132\n",
            "1\n",
            "Copying file:///content/sr/ProstateX-0146_1.3.6.1.4.1.14519.5.2.1.7311.5101.374654359343007468165376476067.dcm [Content-Type=application/dicom]...\n",
            "/ [1 files][  4.4 KiB/  4.4 KiB]                                                \n",
            "Operation completed over 1 objects/4.4 KiB.                                      \n",
            "********** On patient: ProstateX-0147 **********\n",
            "num_series: 1\n",
            "***** On series: 1.3.6.1.4.1.14519.5.2.1.7311.5101.167155555082118981142239962860 *****\n",
            "SeriesInstanceUID: 1.3.6.1.4.1.14519.5.2.1.7311.5101.167155555082118981142239962860\n"
          ]
        },
        {
          "output_type": "stream",
          "name": "stderr",
          "text": [
            "Downloading data: 100%|█████████▉| 5.68M/5.68M [00:01<00:00, 5.66MB/s]\n",
            "/usr/local/lib/python3.11/dist-packages/highdicom/base.py:163: UserWarning: The string \"ProstateX-0147\" is unlikely to represent the intended person name since it contains only a single component. Construct a person name according to the format in described in https://dicom.nema.org/dicom/2013/output/chtml/part05/sect_6.2.html#sect_6.2.1.2, or, in pydicom 2.2.0 or later, use the pydicom.valuerep.PersonName.from_named_components() method to construct the person name correctly. If a single-component name is really intended, add a trailing caret character to disambiguate the name.\n",
            "  check_person_name(patient_name)\n",
            "WARNING:pydicom:A value of type 'tuple' cannot be assigned to a tag with VR LO.\n",
            "/usr/local/lib/python3.11/dist-packages/pydicom/valuerep.py:440: UserWarning: A value of type 'tuple' cannot be assigned to a tag with VR LO.\n",
            "  warn_and_log(msg)\n",
            "WARNING:pydicom:A value of type 'tuple' cannot be assigned to a tag with VR LO.\n"
          ]
        },
        {
          "output_type": "stream",
          "name": "stdout",
          "text": [
            "FrameOfReferenceUID: 1.3.6.1.4.1.14519.5.2.1.7311.5101.543116483452683061188944893269\n",
            "Parsing -33.4804 41.3495 -25.21\n",
            "Parsing -12.0507 11.3514 -16.3687\n",
            "2\n",
            "Copying file:///content/sr/ProstateX-0147_1.3.6.1.4.1.14519.5.2.1.7311.5101.167155555082118981142239962860.dcm [Content-Type=application/dicom]...\n",
            "/ [1 files][  5.5 KiB/  5.5 KiB]                                                \n",
            "Operation completed over 1 objects/5.5 KiB.                                      \n",
            "********** On patient: ProstateX-0148 **********\n",
            "num_series: 1\n",
            "***** On series: 1.3.6.1.4.1.14519.5.2.1.7311.5101.290824483776452360867551034347 *****\n",
            "SeriesInstanceUID: 1.3.6.1.4.1.14519.5.2.1.7311.5101.290824483776452360867551034347\n"
          ]
        },
        {
          "output_type": "stream",
          "name": "stderr",
          "text": [
            "Downloading data: 100%|█████████▉| 5.68M/5.68M [00:01<00:00, 5.66MB/s]\n",
            "/usr/local/lib/python3.11/dist-packages/highdicom/base.py:163: UserWarning: The string \"ProstateX-0148\" is unlikely to represent the intended person name since it contains only a single component. Construct a person name according to the format in described in https://dicom.nema.org/dicom/2013/output/chtml/part05/sect_6.2.html#sect_6.2.1.2, or, in pydicom 2.2.0 or later, use the pydicom.valuerep.PersonName.from_named_components() method to construct the person name correctly. If a single-component name is really intended, add a trailing caret character to disambiguate the name.\n",
            "  check_person_name(patient_name)\n",
            "WARNING:pydicom:A value of type 'tuple' cannot be assigned to a tag with VR LO.\n",
            "/usr/local/lib/python3.11/dist-packages/pydicom/valuerep.py:440: UserWarning: A value of type 'tuple' cannot be assigned to a tag with VR LO.\n",
            "  warn_and_log(msg)\n",
            "WARNING:pydicom:A value of type 'tuple' cannot be assigned to a tag with VR LO.\n"
          ]
        },
        {
          "output_type": "stream",
          "name": "stdout",
          "text": [
            "FrameOfReferenceUID: 1.3.6.1.4.1.14519.5.2.1.7311.5101.269836234966646141568835572744\n",
            "Parsing 13.2424 27.3962 10.5819\n",
            "Parsing -12.7642 49.4502 11.1654\n",
            "2\n",
            "Copying file:///content/sr/ProstateX-0148_1.3.6.1.4.1.14519.5.2.1.7311.5101.290824483776452360867551034347.dcm [Content-Type=application/dicom]...\n",
            "/ [1 files][  5.5 KiB/  5.5 KiB]                                                \n",
            "Operation completed over 1 objects/5.5 KiB.                                      \n",
            "********** On patient: ProstateX-0149 **********\n",
            "num_series: 1\n",
            "***** On series: 1.3.6.1.4.1.14519.5.2.1.7311.5101.314531141765998042138646857840 *****\n",
            "SeriesInstanceUID: 1.3.6.1.4.1.14519.5.2.1.7311.5101.314531141765998042138646857840\n"
          ]
        },
        {
          "output_type": "stream",
          "name": "stderr",
          "text": [
            "Downloading data: 100%|█████████▉| 5.68M/5.68M [00:01<00:00, 5.66MB/s]\n",
            "/usr/local/lib/python3.11/dist-packages/highdicom/base.py:163: UserWarning: The string \"ProstateX-0149\" is unlikely to represent the intended person name since it contains only a single component. Construct a person name according to the format in described in https://dicom.nema.org/dicom/2013/output/chtml/part05/sect_6.2.html#sect_6.2.1.2, or, in pydicom 2.2.0 or later, use the pydicom.valuerep.PersonName.from_named_components() method to construct the person name correctly. If a single-component name is really intended, add a trailing caret character to disambiguate the name.\n",
            "  check_person_name(patient_name)\n",
            "WARNING:pydicom:A value of type 'tuple' cannot be assigned to a tag with VR LO.\n",
            "/usr/local/lib/python3.11/dist-packages/pydicom/valuerep.py:440: UserWarning: A value of type 'tuple' cannot be assigned to a tag with VR LO.\n",
            "  warn_and_log(msg)\n",
            "WARNING:pydicom:A value of type 'tuple' cannot be assigned to a tag with VR LO.\n"
          ]
        },
        {
          "output_type": "stream",
          "name": "stdout",
          "text": [
            "FrameOfReferenceUID: 1.3.6.1.4.1.14519.5.2.1.7311.5101.274442209838857962272821764734\n",
            "Parsing 19.0337 63.5321 14.5746\n",
            "Parsing 3.5212 62.8315 14.8159\n",
            "2\n",
            "Copying file:///content/sr/ProstateX-0149_1.3.6.1.4.1.14519.5.2.1.7311.5101.314531141765998042138646857840.dcm [Content-Type=application/dicom]...\n",
            "/ [1 files][  5.5 KiB/  5.5 KiB]                                                \n",
            "Operation completed over 1 objects/5.5 KiB.                                      \n",
            "********** On patient: ProstateX-0150 **********\n",
            "num_series: 1\n",
            "***** On series: 1.3.6.1.4.1.14519.5.2.1.7311.5101.175570448971296597162147241386 *****\n",
            "SeriesInstanceUID: 1.3.6.1.4.1.14519.5.2.1.7311.5101.175570448971296597162147241386\n"
          ]
        },
        {
          "output_type": "stream",
          "name": "stderr",
          "text": [
            "Downloading data: 100%|██████████| 5.68M/5.68M [00:01<00:00, 5.65MB/s]\n",
            "/usr/local/lib/python3.11/dist-packages/highdicom/base.py:163: UserWarning: The string \"ProstateX-0150\" is unlikely to represent the intended person name since it contains only a single component. Construct a person name according to the format in described in https://dicom.nema.org/dicom/2013/output/chtml/part05/sect_6.2.html#sect_6.2.1.2, or, in pydicom 2.2.0 or later, use the pydicom.valuerep.PersonName.from_named_components() method to construct the person name correctly. If a single-component name is really intended, add a trailing caret character to disambiguate the name.\n",
            "  check_person_name(patient_name)\n",
            "WARNING:pydicom:A value of type 'tuple' cannot be assigned to a tag with VR LO.\n",
            "/usr/local/lib/python3.11/dist-packages/pydicom/valuerep.py:440: UserWarning: A value of type 'tuple' cannot be assigned to a tag with VR LO.\n",
            "  warn_and_log(msg)\n",
            "WARNING:pydicom:A value of type 'tuple' cannot be assigned to a tag with VR LO.\n"
          ]
        },
        {
          "output_type": "stream",
          "name": "stdout",
          "text": [
            "FrameOfReferenceUID: 1.3.6.1.4.1.14519.5.2.1.7311.5101.309097001538800839641421362249\n",
            "Parsing -9.84748672851562 11.7404424609375 30.3737125732422\n",
            "Parsing 22.876 15.5785 30.8967\n",
            "2\n",
            "Copying file:///content/sr/ProstateX-0150_1.3.6.1.4.1.14519.5.2.1.7311.5101.175570448971296597162147241386.dcm [Content-Type=application/dicom]...\n",
            "/ [1 files][  5.5 KiB/  5.5 KiB]                                                \n",
            "Operation completed over 1 objects/5.5 KiB.                                      \n",
            "********** On patient: ProstateX-0151 **********\n",
            "num_series: 1\n",
            "***** On series: 1.3.6.1.4.1.14519.5.2.1.7311.5101.350955436858436674161041696224 *****\n",
            "SeriesInstanceUID: 1.3.6.1.4.1.14519.5.2.1.7311.5101.350955436858436674161041696224\n"
          ]
        },
        {
          "output_type": "stream",
          "name": "stderr",
          "text": [
            "Downloading data: 100%|██████████| 6.87M/6.87M [00:01<00:00, 6.84MB/s]\n",
            "/usr/local/lib/python3.11/dist-packages/highdicom/base.py:163: UserWarning: The string \"ProstateX-0151\" is unlikely to represent the intended person name since it contains only a single component. Construct a person name according to the format in described in https://dicom.nema.org/dicom/2013/output/chtml/part05/sect_6.2.html#sect_6.2.1.2, or, in pydicom 2.2.0 or later, use the pydicom.valuerep.PersonName.from_named_components() method to construct the person name correctly. If a single-component name is really intended, add a trailing caret character to disambiguate the name.\n",
            "  check_person_name(patient_name)\n",
            "WARNING:pydicom:A value of type 'tuple' cannot be assigned to a tag with VR LO.\n",
            "/usr/local/lib/python3.11/dist-packages/pydicom/valuerep.py:440: UserWarning: A value of type 'tuple' cannot be assigned to a tag with VR LO.\n",
            "  warn_and_log(msg)\n",
            "WARNING:pydicom:A value of type 'tuple' cannot be assigned to a tag with VR LO.\n"
          ]
        },
        {
          "output_type": "stream",
          "name": "stdout",
          "text": [
            "FrameOfReferenceUID: 1.3.6.1.4.1.14519.5.2.1.7311.5101.281640294331150664767468208942\n",
            "Parsing -19.8161 35.8201 -65.2786\n",
            "Parsing -3.08292 13.8686 -47.12\n",
            "2\n",
            "Copying file:///content/sr/ProstateX-0151_1.3.6.1.4.1.14519.5.2.1.7311.5101.350955436858436674161041696224.dcm [Content-Type=application/dicom]...\n",
            "/ [1 files][  5.5 KiB/  5.5 KiB]                                                \n",
            "Operation completed over 1 objects/5.5 KiB.                                      \n",
            "********** On patient: ProstateX-0152 **********\n",
            "num_series: 1\n",
            "***** On series: 1.3.6.1.4.1.14519.5.2.1.7311.5101.187515038079598276430377093280 *****\n",
            "SeriesInstanceUID: 1.3.6.1.4.1.14519.5.2.1.7311.5101.187515038079598276430377093280\n"
          ]
        },
        {
          "output_type": "stream",
          "name": "stderr",
          "text": [
            "Downloading data: 100%|█████████▉| 3.97M/3.97M [00:01<00:00, 3.95MB/s]\n",
            "/usr/local/lib/python3.11/dist-packages/highdicom/base.py:163: UserWarning: The string \"ProstateX-0152\" is unlikely to represent the intended person name since it contains only a single component. Construct a person name according to the format in described in https://dicom.nema.org/dicom/2013/output/chtml/part05/sect_6.2.html#sect_6.2.1.2, or, in pydicom 2.2.0 or later, use the pydicom.valuerep.PersonName.from_named_components() method to construct the person name correctly. If a single-component name is really intended, add a trailing caret character to disambiguate the name.\n",
            "  check_person_name(patient_name)\n",
            "WARNING:pydicom:A value of type 'tuple' cannot be assigned to a tag with VR LO.\n",
            "/usr/local/lib/python3.11/dist-packages/pydicom/valuerep.py:440: UserWarning: A value of type 'tuple' cannot be assigned to a tag with VR LO.\n",
            "  warn_and_log(msg)\n",
            "WARNING:pydicom:A value of type 'tuple' cannot be assigned to a tag with VR LO.\n"
          ]
        },
        {
          "output_type": "stream",
          "name": "stdout",
          "text": [
            "FrameOfReferenceUID: 1.3.6.1.4.1.14519.5.2.1.7311.5101.282785740000443487648832079973\n",
            "Parsing 4.73273 22.4072 -77.2909\n",
            "1\n",
            "Copying file:///content/sr/ProstateX-0152_1.3.6.1.4.1.14519.5.2.1.7311.5101.187515038079598276430377093280.dcm [Content-Type=application/dicom]...\n",
            "/ [1 files][  4.4 KiB/  4.4 KiB]                                                \n",
            "Operation completed over 1 objects/4.4 KiB.                                      \n",
            "********** On patient: ProstateX-0153 **********\n",
            "num_series: 1\n",
            "***** On series: 1.3.6.1.4.1.14519.5.2.1.7311.5101.108303752086745663024948060973 *****\n",
            "SeriesInstanceUID: 1.3.6.1.4.1.14519.5.2.1.7311.5101.108303752086745663024948060973\n"
          ]
        },
        {
          "output_type": "stream",
          "name": "stderr",
          "text": [
            "Downloading data: 100%|█████████▉| 6.88M/6.88M [00:01<00:00, 6.85MB/s]\n",
            "/usr/local/lib/python3.11/dist-packages/highdicom/base.py:163: UserWarning: The string \"ProstateX-0153\" is unlikely to represent the intended person name since it contains only a single component. Construct a person name according to the format in described in https://dicom.nema.org/dicom/2013/output/chtml/part05/sect_6.2.html#sect_6.2.1.2, or, in pydicom 2.2.0 or later, use the pydicom.valuerep.PersonName.from_named_components() method to construct the person name correctly. If a single-component name is really intended, add a trailing caret character to disambiguate the name.\n",
            "  check_person_name(patient_name)\n",
            "WARNING:pydicom:A value of type 'tuple' cannot be assigned to a tag with VR LO.\n",
            "/usr/local/lib/python3.11/dist-packages/pydicom/valuerep.py:440: UserWarning: A value of type 'tuple' cannot be assigned to a tag with VR LO.\n",
            "  warn_and_log(msg)\n",
            "WARNING:pydicom:A value of type 'tuple' cannot be assigned to a tag with VR LO.\n"
          ]
        },
        {
          "output_type": "stream",
          "name": "stdout",
          "text": [
            "FrameOfReferenceUID: 1.3.6.1.4.1.14519.5.2.1.7311.5101.112279611709677197814366837341\n",
            "Parsing 38.1052 61.5407 6.04978\n",
            "Parsing 42.0601 33.9525 17.631\n",
            "Parsing 20.2033 34.6238 8.23929\n",
            "3\n",
            "Copying file:///content/sr/ProstateX-0153_1.3.6.1.4.1.14519.5.2.1.7311.5101.108303752086745663024948060973.dcm [Content-Type=application/dicom]...\n",
            "/ [1 files][  6.5 KiB/  6.5 KiB]                                                \n",
            "Operation completed over 1 objects/6.5 KiB.                                      \n",
            "********** On patient: ProstateX-0154 **********\n",
            "num_series: 1\n",
            "***** On series: 1.3.6.1.4.1.14519.5.2.1.7311.5101.343916378102532535787148689111 *****\n",
            "SeriesInstanceUID: 1.3.6.1.4.1.14519.5.2.1.7311.5101.343916378102532535787148689111\n"
          ]
        },
        {
          "output_type": "stream",
          "name": "stderr",
          "text": [
            "Downloading data: 100%|█████████▉| 6.28M/6.28M [00:01<00:00, 6.25MB/s]\n",
            "/usr/local/lib/python3.11/dist-packages/highdicom/base.py:163: UserWarning: The string \"ProstateX-0154\" is unlikely to represent the intended person name since it contains only a single component. Construct a person name according to the format in described in https://dicom.nema.org/dicom/2013/output/chtml/part05/sect_6.2.html#sect_6.2.1.2, or, in pydicom 2.2.0 or later, use the pydicom.valuerep.PersonName.from_named_components() method to construct the person name correctly. If a single-component name is really intended, add a trailing caret character to disambiguate the name.\n",
            "  check_person_name(patient_name)\n",
            "WARNING:pydicom:A value of type 'tuple' cannot be assigned to a tag with VR LO.\n",
            "/usr/local/lib/python3.11/dist-packages/pydicom/valuerep.py:440: UserWarning: A value of type 'tuple' cannot be assigned to a tag with VR LO.\n",
            "  warn_and_log(msg)\n",
            "WARNING:pydicom:A value of type 'tuple' cannot be assigned to a tag with VR LO.\n"
          ]
        },
        {
          "output_type": "stream",
          "name": "stdout",
          "text": [
            "FrameOfReferenceUID: 1.3.6.1.4.1.14519.5.2.1.7311.5101.174399336827736544280126693400\n",
            "Parsing -45.5195 53.9119 33.6642\n",
            "Parsing -42.3586 50.6483 73.0089\n",
            "2\n",
            "Copying file:///content/sr/ProstateX-0154_1.3.6.1.4.1.14519.5.2.1.7311.5101.343916378102532535787148689111.dcm [Content-Type=application/dicom]...\n",
            "/ [1 files][  5.4 KiB/  5.4 KiB]                                                \n",
            "Operation completed over 1 objects/5.4 KiB.                                      \n",
            "********** On patient: ProstateX-0155 **********\n",
            "num_series: 1\n",
            "***** On series: 1.3.6.1.4.1.14519.5.2.1.7311.5101.117006719340609137078363795861 *****\n",
            "SeriesInstanceUID: 1.3.6.1.4.1.14519.5.2.1.7311.5101.117006719340609137078363795861\n"
          ]
        },
        {
          "output_type": "stream",
          "name": "stderr",
          "text": [
            "Downloading data: 100%|█████████▉| 5.68M/5.68M [00:01<00:00, 5.66MB/s]\n",
            "/usr/local/lib/python3.11/dist-packages/highdicom/base.py:163: UserWarning: The string \"ProstateX-0155\" is unlikely to represent the intended person name since it contains only a single component. Construct a person name according to the format in described in https://dicom.nema.org/dicom/2013/output/chtml/part05/sect_6.2.html#sect_6.2.1.2, or, in pydicom 2.2.0 or later, use the pydicom.valuerep.PersonName.from_named_components() method to construct the person name correctly. If a single-component name is really intended, add a trailing caret character to disambiguate the name.\n",
            "  check_person_name(patient_name)\n",
            "WARNING:pydicom:A value of type 'tuple' cannot be assigned to a tag with VR LO.\n",
            "/usr/local/lib/python3.11/dist-packages/pydicom/valuerep.py:440: UserWarning: A value of type 'tuple' cannot be assigned to a tag with VR LO.\n",
            "  warn_and_log(msg)\n",
            "WARNING:pydicom:A value of type 'tuple' cannot be assigned to a tag with VR LO.\n"
          ]
        },
        {
          "output_type": "stream",
          "name": "stdout",
          "text": [
            "FrameOfReferenceUID: 1.3.6.1.4.1.14519.5.2.1.7311.5101.222697693735507557141643728092\n",
            "Parsing -3.93688 34.2726 -50.8292\n",
            "1\n",
            "Copying file:///content/sr/ProstateX-0155_1.3.6.1.4.1.14519.5.2.1.7311.5101.117006719340609137078363795861.dcm [Content-Type=application/dicom]...\n",
            "/ [1 files][  4.4 KiB/  4.4 KiB]                                                \n",
            "Operation completed over 1 objects/4.4 KiB.                                      \n",
            "********** On patient: ProstateX-0156 **********\n",
            "num_series: 1\n",
            "***** On series: 1.3.6.1.4.1.14519.5.2.1.7311.5101.785303327607349403635620326985 *****\n",
            "SeriesInstanceUID: 1.3.6.1.4.1.14519.5.2.1.7311.5101.785303327607349403635620326985\n"
          ]
        },
        {
          "output_type": "stream",
          "name": "stderr",
          "text": [
            "Downloading data: 100%|█████████▉| 6.28M/6.28M [00:01<00:00, 6.26MB/s]\n",
            "/usr/local/lib/python3.11/dist-packages/highdicom/base.py:163: UserWarning: The string \"ProstateX-0156\" is unlikely to represent the intended person name since it contains only a single component. Construct a person name according to the format in described in https://dicom.nema.org/dicom/2013/output/chtml/part05/sect_6.2.html#sect_6.2.1.2, or, in pydicom 2.2.0 or later, use the pydicom.valuerep.PersonName.from_named_components() method to construct the person name correctly. If a single-component name is really intended, add a trailing caret character to disambiguate the name.\n",
            "  check_person_name(patient_name)\n",
            "WARNING:pydicom:A value of type 'tuple' cannot be assigned to a tag with VR LO.\n",
            "/usr/local/lib/python3.11/dist-packages/pydicom/valuerep.py:440: UserWarning: A value of type 'tuple' cannot be assigned to a tag with VR LO.\n",
            "  warn_and_log(msg)\n",
            "WARNING:pydicom:A value of type 'tuple' cannot be assigned to a tag with VR LO.\n"
          ]
        },
        {
          "output_type": "stream",
          "name": "stdout",
          "text": [
            "FrameOfReferenceUID: 1.3.6.1.4.1.14519.5.2.1.7311.5101.107336064994771956667695332232\n",
            "Parsing 22.741 57.6098 -9.1716\n",
            "1\n",
            "Copying file:///content/sr/ProstateX-0156_1.3.6.1.4.1.14519.5.2.1.7311.5101.785303327607349403635620326985.dcm [Content-Type=application/dicom]...\n",
            "/ [1 files][  4.4 KiB/  4.4 KiB]                                                \n",
            "Operation completed over 1 objects/4.4 KiB.                                      \n",
            "********** On patient: ProstateX-0157 **********\n",
            "num_series: 1\n",
            "***** On series: 1.3.6.1.4.1.14519.5.2.1.7311.5101.399128839365313172173765475191 *****\n",
            "SeriesInstanceUID: 1.3.6.1.4.1.14519.5.2.1.7311.5101.399128839365313172173765475191\n"
          ]
        },
        {
          "output_type": "stream",
          "name": "stderr",
          "text": [
            "Downloading data: 100%|█████████▉| 5.68M/5.68M [00:01<00:00, 5.66MB/s]\n",
            "/usr/local/lib/python3.11/dist-packages/highdicom/base.py:163: UserWarning: The string \"ProstateX-0157\" is unlikely to represent the intended person name since it contains only a single component. Construct a person name according to the format in described in https://dicom.nema.org/dicom/2013/output/chtml/part05/sect_6.2.html#sect_6.2.1.2, or, in pydicom 2.2.0 or later, use the pydicom.valuerep.PersonName.from_named_components() method to construct the person name correctly. If a single-component name is really intended, add a trailing caret character to disambiguate the name.\n",
            "  check_person_name(patient_name)\n",
            "WARNING:pydicom:A value of type 'tuple' cannot be assigned to a tag with VR LO.\n",
            "/usr/local/lib/python3.11/dist-packages/pydicom/valuerep.py:440: UserWarning: A value of type 'tuple' cannot be assigned to a tag with VR LO.\n",
            "  warn_and_log(msg)\n",
            "WARNING:pydicom:A value of type 'tuple' cannot be assigned to a tag with VR LO.\n"
          ]
        },
        {
          "output_type": "stream",
          "name": "stdout",
          "text": [
            "FrameOfReferenceUID: 1.3.6.1.4.1.14519.5.2.1.7311.5101.595737588890664082986755534262\n",
            "Parsing 2.0399 2.65785 40.8597\n",
            "Parsing -7.5415 30.6653 39.5173\n",
            "2\n",
            "Copying file:///content/sr/ProstateX-0157_1.3.6.1.4.1.14519.5.2.1.7311.5101.399128839365313172173765475191.dcm [Content-Type=application/dicom]...\n",
            "/ [1 files][  5.5 KiB/  5.5 KiB]                                                \n",
            "Operation completed over 1 objects/5.5 KiB.                                      \n",
            "********** On patient: ProstateX-0158 **********\n",
            "num_series: 1\n",
            "***** On series: 1.3.6.1.4.1.14519.5.2.1.7311.5101.104912399908126315922787192411 *****\n",
            "SeriesInstanceUID: 1.3.6.1.4.1.14519.5.2.1.7311.5101.104912399908126315922787192411\n"
          ]
        },
        {
          "output_type": "stream",
          "name": "stderr",
          "text": [
            "Downloading data: 100%|█████████▉| 6.88M/6.88M [00:01<00:00, 6.85MB/s]\n",
            "/usr/local/lib/python3.11/dist-packages/highdicom/base.py:163: UserWarning: The string \"ProstateX-0158\" is unlikely to represent the intended person name since it contains only a single component. Construct a person name according to the format in described in https://dicom.nema.org/dicom/2013/output/chtml/part05/sect_6.2.html#sect_6.2.1.2, or, in pydicom 2.2.0 or later, use the pydicom.valuerep.PersonName.from_named_components() method to construct the person name correctly. If a single-component name is really intended, add a trailing caret character to disambiguate the name.\n",
            "  check_person_name(patient_name)\n",
            "WARNING:pydicom:A value of type 'tuple' cannot be assigned to a tag with VR LO.\n",
            "/usr/local/lib/python3.11/dist-packages/pydicom/valuerep.py:440: UserWarning: A value of type 'tuple' cannot be assigned to a tag with VR LO.\n",
            "  warn_and_log(msg)\n",
            "WARNING:pydicom:A value of type 'tuple' cannot be assigned to a tag with VR LO.\n"
          ]
        },
        {
          "output_type": "stream",
          "name": "stdout",
          "text": [
            "FrameOfReferenceUID: 1.3.6.1.4.1.14519.5.2.1.7311.5101.148924483682766955212369169823\n",
            "Parsing -6.26665 31.8417 -15.0005\n",
            "1\n",
            "Copying file:///content/sr/ProstateX-0158_1.3.6.1.4.1.14519.5.2.1.7311.5101.104912399908126315922787192411.dcm [Content-Type=application/dicom]...\n",
            "/ [1 files][  4.4 KiB/  4.4 KiB]                                                \n",
            "Operation completed over 1 objects/4.4 KiB.                                      \n",
            "********** On patient: ProstateX-0159 **********\n",
            "num_series: 1\n",
            "***** On series: 1.3.6.1.4.1.14519.5.2.1.7311.5101.920398658735678812917978707078 *****\n",
            "SeriesInstanceUID: 1.3.6.1.4.1.14519.5.2.1.7311.5101.920398658735678812917978707078\n"
          ]
        },
        {
          "output_type": "stream",
          "name": "stderr",
          "text": [
            "Downloading data: 100%|█████████▉| 6.28M/6.28M [00:01<00:00, 6.25MB/s]\n",
            "/usr/local/lib/python3.11/dist-packages/highdicom/base.py:163: UserWarning: The string \"ProstateX-0159\" is unlikely to represent the intended person name since it contains only a single component. Construct a person name according to the format in described in https://dicom.nema.org/dicom/2013/output/chtml/part05/sect_6.2.html#sect_6.2.1.2, or, in pydicom 2.2.0 or later, use the pydicom.valuerep.PersonName.from_named_components() method to construct the person name correctly. If a single-component name is really intended, add a trailing caret character to disambiguate the name.\n",
            "  check_person_name(patient_name)\n",
            "WARNING:pydicom:A value of type 'tuple' cannot be assigned to a tag with VR LO.\n",
            "/usr/local/lib/python3.11/dist-packages/pydicom/valuerep.py:440: UserWarning: A value of type 'tuple' cannot be assigned to a tag with VR LO.\n",
            "  warn_and_log(msg)\n",
            "WARNING:pydicom:A value of type 'tuple' cannot be assigned to a tag with VR LO.\n"
          ]
        },
        {
          "output_type": "stream",
          "name": "stdout",
          "text": [
            "FrameOfReferenceUID: 1.3.6.1.4.1.14519.5.2.1.7311.5101.669012981389251371498488237232\n",
            "Parsing -7.30205 50.7125 3.72577\n",
            "Parsing 1.73495 46.48 -4.57566\n",
            "Parsing -29.1486 31.1808 7.87735\n",
            "3\n",
            "Copying file:///content/sr/ProstateX-0159_1.3.6.1.4.1.14519.5.2.1.7311.5101.920398658735678812917978707078.dcm [Content-Type=application/dicom]...\n",
            "/ [1 files][  6.5 KiB/  6.5 KiB]                                                \n",
            "Operation completed over 1 objects/6.5 KiB.                                      \n",
            "********** On patient: ProstateX-0160 **********\n",
            "num_series: 1\n",
            "***** On series: 1.3.6.1.4.1.14519.5.2.1.7311.5101.656275115282319187088015845543 *****\n",
            "SeriesInstanceUID: 1.3.6.1.4.1.14519.5.2.1.7311.5101.656275115282319187088015845543\n"
          ]
        },
        {
          "output_type": "stream",
          "name": "stderr",
          "text": [
            "Downloading data: 100%|█████████▉| 6.28M/6.28M [00:01<00:00, 6.26MB/s]\n",
            "/usr/local/lib/python3.11/dist-packages/highdicom/base.py:163: UserWarning: The string \"ProstateX-0160\" is unlikely to represent the intended person name since it contains only a single component. Construct a person name according to the format in described in https://dicom.nema.org/dicom/2013/output/chtml/part05/sect_6.2.html#sect_6.2.1.2, or, in pydicom 2.2.0 or later, use the pydicom.valuerep.PersonName.from_named_components() method to construct the person name correctly. If a single-component name is really intended, add a trailing caret character to disambiguate the name.\n",
            "  check_person_name(patient_name)\n",
            "WARNING:pydicom:A value of type 'tuple' cannot be assigned to a tag with VR LO.\n",
            "/usr/local/lib/python3.11/dist-packages/pydicom/valuerep.py:440: UserWarning: A value of type 'tuple' cannot be assigned to a tag with VR LO.\n",
            "  warn_and_log(msg)\n",
            "WARNING:pydicom:A value of type 'tuple' cannot be assigned to a tag with VR LO.\n"
          ]
        },
        {
          "output_type": "stream",
          "name": "stdout",
          "text": [
            "FrameOfReferenceUID: 1.3.6.1.4.1.14519.5.2.1.7311.5101.299206083744526588933438392671\n",
            "Parsing -8.4535 45.119 -25.2647\n",
            "Parsing 8.37405 48.9384 -25.8554\n",
            "2\n",
            "Copying file:///content/sr/ProstateX-0160_1.3.6.1.4.1.14519.5.2.1.7311.5101.656275115282319187088015845543.dcm [Content-Type=application/dicom]...\n",
            "/ [1 files][  5.5 KiB/  5.5 KiB]                                                \n",
            "Operation completed over 1 objects/5.5 KiB.                                      \n",
            "********** On patient: ProstateX-0161 **********\n",
            "num_series: 1\n",
            "***** On series: 1.3.6.1.4.1.14519.5.2.1.7311.5101.196511587017551386049158542619 *****\n",
            "SeriesInstanceUID: 1.3.6.1.4.1.14519.5.2.1.7311.5101.196511587017551386049158542619\n"
          ]
        },
        {
          "output_type": "stream",
          "name": "stderr",
          "text": [
            "Downloading data: 100%|█████████▉| 6.88M/6.88M [00:01<00:00, 6.83MB/s]\n",
            "/usr/local/lib/python3.11/dist-packages/highdicom/base.py:163: UserWarning: The string \"ProstateX-0161\" is unlikely to represent the intended person name since it contains only a single component. Construct a person name according to the format in described in https://dicom.nema.org/dicom/2013/output/chtml/part05/sect_6.2.html#sect_6.2.1.2, or, in pydicom 2.2.0 or later, use the pydicom.valuerep.PersonName.from_named_components() method to construct the person name correctly. If a single-component name is really intended, add a trailing caret character to disambiguate the name.\n",
            "  check_person_name(patient_name)\n",
            "WARNING:pydicom:A value of type 'tuple' cannot be assigned to a tag with VR LO.\n",
            "/usr/local/lib/python3.11/dist-packages/pydicom/valuerep.py:440: UserWarning: A value of type 'tuple' cannot be assigned to a tag with VR LO.\n",
            "  warn_and_log(msg)\n",
            "WARNING:pydicom:A value of type 'tuple' cannot be assigned to a tag with VR LO.\n"
          ]
        },
        {
          "output_type": "stream",
          "name": "stdout",
          "text": [
            "FrameOfReferenceUID: 1.3.6.1.4.1.14519.5.2.1.7311.5101.148428033221471990903034174422\n",
            "Parsing -20.6979 60.1012 6.61219\n",
            "Parsing 4.47867 33.6044 10.1267\n",
            "Parsing -26.6273 34.689 22.2237\n",
            "3\n",
            "Copying file:///content/sr/ProstateX-0161_1.3.6.1.4.1.14519.5.2.1.7311.5101.196511587017551386049158542619.dcm [Content-Type=application/dicom]...\n",
            "/ [1 files][  6.5 KiB/  6.5 KiB]                                                \n",
            "Operation completed over 1 objects/6.5 KiB.                                      \n",
            "********** On patient: ProstateX-0162 **********\n",
            "num_series: 1\n",
            "***** On series: 1.3.6.1.4.1.14519.5.2.1.7311.5101.331790498051540524922995906154 *****\n",
            "SeriesInstanceUID: 1.3.6.1.4.1.14519.5.2.1.7311.5101.331790498051540524922995906154\n"
          ]
        },
        {
          "output_type": "stream",
          "name": "stderr",
          "text": [
            "Downloading data:   2%|▏         | 139k/5.68M [00:00<00:19, 277kB/s]"
          ]
        }
      ]
    },
    {
      "cell_type": "code",
      "source": [],
      "metadata": {
        "id": "Cd0kVhxBZraO"
      },
      "execution_count": null,
      "outputs": []
    }
  ]
}